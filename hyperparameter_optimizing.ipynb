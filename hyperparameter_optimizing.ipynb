{
 "cells": [
  {
   "cell_type": "code",
   "execution_count": 1,
   "metadata": {},
   "outputs": [
    {
     "name": "stderr",
     "output_type": "stream",
     "text": [
      "d:\\Academic_PC\\Sem 8\\DruggableProtienPrediction\\venv\\lib\\site-packages\\tqdm\\auto.py:21: TqdmWarning: IProgress not found. Please update jupyter and ipywidgets. See https://ipywidgets.readthedocs.io/en/stable/user_install.html\n",
      "  from .autonotebook import tqdm as notebook_tqdm\n"
     ]
    }
   ],
   "source": [
    "import utils.feature_extractors as utils\n",
    "from utils.evaluation import action_evaluator\n",
    "import numpy as np\n",
    "import os\n",
    "import json\n",
    "from sklearn.pipeline import make_pipeline\n",
    "from sklearn.utils import shuffle\n",
    "from sklearn.preprocessing import StandardScaler\n",
    "from sklearn.linear_model import RidgeClassifier\n",
    "from sklearn.decomposition import PCA\n",
    "from sklearn.model_selection import cross_val_predict\n",
    "from sklearn.neighbors import KNeighborsClassifier\n",
    "from sklearn.ensemble import RandomForestClassifier\n",
    "import matplotlib.pyplot as plt\n",
    "from xgboost import XGBClassifier\n",
    "from lightgbm import LGBMClassifier\n",
    "from itertools import product\n",
    "from sklearn.svm import SVC\n",
    "import optuna\n",
    "import joblib"
   ]
  },
  {
   "cell_type": "code",
   "execution_count": 2,
   "metadata": {},
   "outputs": [],
   "source": [
    "config = {\n",
    "    \"train_pos_loc\":\"data/TR_pos_SPIDER.txt\",\n",
    "    \"train_neg_loc\":\"data/TR_neg_SPIDER.txt\",\n",
    "    \"test_pos_loc\":\"data/TS_pos_SPIDER.txt\",\n",
    "    \"test_neg_loc\":\"data/TS_neg_SPIDER.txt\",\n",
    "    \"model_save_loc\":\"optimized\",\n",
    "    \"random_seed\":9\n",
    "}"
   ]
  },
  {
   "cell_type": "code",
   "execution_count": 3,
   "metadata": {},
   "outputs": [],
   "source": [
    "class SpiderDataGenerator(object):\n",
    "    ALL_FEAT = [\"AAC\",\"DPC\",\"CTD\",\n",
    "                \"PAAC\",\"APAAC\",\"RSacid\",\n",
    "                \"RSpolar\",\"RSsecond\",\"RScharge\",\n",
    "                \"RSDHP\"]\n",
    "    def __init__(self, pos_data_file, neg_data_file,feat_type=None) -> None:\n",
    "        super(SpiderDataGenerator).__init__()\n",
    "        self.pos_data_file = pos_data_file\n",
    "        self.neg_data_file = neg_data_file\n",
    "        \n",
    "        assert feat_type in SpiderDataGenerator.ALL_FEAT or feat_type == None\n",
    "        \n",
    "        self.feat_type = feat_type\n",
    "        \n",
    "        self.pos_data = utils.read_fasta(self.pos_data_file)\n",
    "        self.neg_data = utils.read_fasta(self.neg_data_file)\n",
    "        \n",
    "        self.data = self.pos_data+self.neg_data\n",
    "        self.targets = np.array([True]*len(self.pos_data)+[False]*len(self.neg_data))\n",
    "        \n",
    "        self.raw = [x[1] for x in self.data]\n",
    "        \n",
    "        self.feat_AAC = utils.AAC(self.data)[0]\n",
    "        print(\"Generating AAC Feature .....\")\n",
    "        self.feat_DPC = utils.DPC(self.data,0)[0]\n",
    "        print(\"Generating DPC Feature .....\")\n",
    "        self.feat_CTD = np.hstack((utils.CTDC(self.data)[0], \n",
    "                              utils.CTDD(self.data)[0], \n",
    "                              utils.CTDT(self.data)[0]))\n",
    "        print(\"Generating CTD Feature .....\")\n",
    "        self.feat_PAAC = utils.PAAC(self.data,1)[0]\n",
    "        print(\"Generating PAAC Feature .....\")\n",
    "        self.feat_APAAC = utils.APAAC(self.data,1)[0]\n",
    "        print(\"Generating APAAC Feature .....\")\n",
    "        self.feat_RSacid = utils.reducedACID(self.data) \n",
    "        print(\"Generating reducedACID Feature .....\")\n",
    "        self.feat_RSpolar = utils.reducedPOLAR(self.data)\n",
    "        print(\"Generating reducedPOLAR Feature .....\")\n",
    "        self.feat_RSsecond = utils.reducedSECOND(self.data)\n",
    "        print(\"Generating reducedSECOND Feature .....\")\n",
    "        self.feat_RScharge = utils.reducedCHARGE(self.data)\n",
    "        print(\"Generating reducedCHARGE Feature .....\")\n",
    "        self.feat_RSDHP = utils.reducedDHP(self.data)\n",
    "        print(\"Generating reducedDHP Feature .....\")\n",
    "        \n",
    "        \n",
    "        \n",
    "    \n",
    "    def get_combination_feature(self,selected:list = None):\n",
    "        \n",
    "        all_feat =[self.feat_AAC,self.feat_DPC,self.feat_CTD,\n",
    "                   self.feat_PAAC,self.feat_APAAC,self.feat_RSacid,\n",
    "                   self.feat_RSpolar,self.feat_RSsecond,self.feat_RScharge,\n",
    "                   self.feat_RSDHP]\n",
    "        \n",
    "        if selected:\n",
    "            select_index = sorted([SpiderDataGenerator.ALL_FEAT.index(x) for x in selected])\n",
    "            all_feat = [all_feat[x] for x in select_index]\n",
    "            \n",
    "        return np.concatenate(all_feat,axis=-1)\n",
    "        \n",
    "        \n",
    "        \n",
    "            \n",
    "    def __len__(self) -> int:\n",
    "        return len(self.data)"
   ]
  },
  {
   "cell_type": "code",
   "execution_count": 4,
   "metadata": {},
   "outputs": [
    {
     "name": "stdout",
     "output_type": "stream",
     "text": [
      "Generating AAC Feature .....\n",
      "Generating DPC Feature .....\n",
      "Generating CTD Feature .....\n",
      "Generating PAAC Feature .....\n",
      "Generating APAAC Feature .....\n",
      "Generating reducedACID Feature .....\n",
      "Generating reducedPOLAR Feature .....\n",
      "Generating reducedSECOND Feature .....\n",
      "Generating reducedCHARGE Feature .....\n",
      "Generating reducedDHP Feature .....\n"
     ]
    }
   ],
   "source": [
    "train_data = SpiderDataGenerator(pos_data_file=config[\"train_pos_loc\"],neg_data_file=config[\"train_neg_loc\"])"
   ]
  },
  {
   "cell_type": "code",
   "execution_count": 5,
   "metadata": {},
   "outputs": [],
   "source": [
    "X_data = {\n",
    "    \"AAC\":train_data.feat_AAC,\n",
    "    \"DPC\":train_data.feat_DPC,\n",
    "    \"CTD\":train_data.feat_CTD,\n",
    "    \"PAAC\":train_data.feat_PAAC,\n",
    "    \"APAAC\":train_data.feat_APAAC,\n",
    "    \"RSacid\":train_data.feat_RSacid,\n",
    "    \"RSpolar\":train_data.feat_RSpolar,\n",
    "    \"RSsecond\":train_data.feat_RSsecond,\n",
    "    \"RScharge\":train_data.feat_RScharge,\n",
    "    \"RSDHP\":train_data.feat_RSDHP,\n",
    "    \"Combine\":train_data.get_combination_feature(),\n",
    "}\n",
    "\n",
    "data_pipelines = {\n",
    "    \"AAC\":make_pipeline(StandardScaler()),\n",
    "    \"DPC\":make_pipeline(StandardScaler()),\n",
    "    \"CTD\":make_pipeline(StandardScaler()),\n",
    "    \"PAAC\":make_pipeline(StandardScaler()),\n",
    "    \"APAAC\":make_pipeline(StandardScaler()),\n",
    "    \"RSacid\":make_pipeline(StandardScaler()),\n",
    "    \"RSpolar\":make_pipeline(StandardScaler()),\n",
    "    \"RSsecond\":make_pipeline(StandardScaler()),\n",
    "    \"RScharge\":make_pipeline(StandardScaler()),\n",
    "    \"RSDHP\":make_pipeline(StandardScaler()),\n",
    "    \"Combine\":make_pipeline(StandardScaler()),\n",
    "    }\n",
    "\n",
    "sel_model = {\n",
    "    \"AAC\":\"SVC\",\n",
    "    \"DPC\":\"RandomForest\",\n",
    "    \"CTD\":\"LGBMClassifier\",\n",
    "    \"PAAC\":\"SVC\",\n",
    "    \"APAAC\":\"LGBMClassifier\",\n",
    "    \"RSacid\":\"SVC\",\n",
    "    \"RSpolar\":\"SVC\",\n",
    "    \"RSsecond\":\"SVC\",\n",
    "    \"RScharge\":\"SVC\",\n",
    "    \"RSDHP\":\"SVC\",\n",
    "    \"Combine\":\"LGBMClassifier\",\n",
    "}"
   ]
  },
  {
   "cell_type": "code",
   "execution_count": 6,
   "metadata": {},
   "outputs": [],
   "source": [
    "#np.unique(train_data.targets,return_counts=True),0.518,0.482"
   ]
  },
  {
   "attachments": {},
   "cell_type": "markdown",
   "metadata": {},
   "source": [
    "## RandomForest Optimization"
   ]
  },
  {
   "cell_type": "code",
   "execution_count": 7,
   "metadata": {},
   "outputs": [],
   "source": [
    "class ObjectiveFunctions(object):\n",
    "    SEL_MODEL = ['RandomForest', 'SVC',\"LGBMClassifier\"]\n",
    "    def __init__(self,model_name) -> None:\n",
    "        assert model_name in ObjectiveFunctions.SEL_MODEL\n",
    "        self.m = model_name\n",
    "    \n",
    "    @staticmethod\n",
    "    def obj_func_RF(trial:optuna.trial):\n",
    "        n_estimators = trial.suggest_int('n_estimators', 2, 200)\n",
    "        max_depth = int(trial.suggest_float('max_depth', 1, 32, log=True))\n",
    "        criterion = trial.suggest_categorical(\"criterion\",['gini', 'entropy', 'log_loss'])\n",
    "        \n",
    "        clf = RandomForestClassifier(\n",
    "            n_estimators=n_estimators, \n",
    "            max_depth=max_depth,\n",
    "            criterion=criterion,\n",
    "            class_weight={1:0.482,0:0.518},\n",
    "            )\n",
    "        \n",
    "        return clf\n",
    "    \n",
    "    @staticmethod\n",
    "    def obj_func_SVC(trial:optuna.trial):\n",
    "        c = trial.suggest_float('svc_c', 1e-10, 1e10, log=True)\n",
    "        kernel = trial.suggest_categorical(\"kernel\",['linear', 'poly', 'rbf', 'sigmoid'])\n",
    "        gamma = trial.suggest_categorical(\"gamma\",['scale', 'auto'])\n",
    "        \n",
    "        \n",
    "        clf = SVC(\n",
    "            C=c, \n",
    "            kernel=kernel,\n",
    "            class_weight={1:0.482,0:0.518},\n",
    "            gamma=gamma)\n",
    "        \n",
    "        return clf\n",
    "    \n",
    "    @staticmethod\n",
    "    def obj_func_LGBM(trial:optuna.trial):\n",
    "        n_estimators = trial.suggest_int('n_estimators', 2, 200)\n",
    "        max_depth = int(trial.suggest_float('max_depth', 1, 32, log=True))\n",
    "        num_leaves = int(trial.suggest_float('max_depth', 10, 64, log=True))\n",
    "        \n",
    "        clf = LGBMClassifier(\n",
    "            n_estimators=n_estimators,\n",
    "            num_leaves=num_leaves,\n",
    "            class_weight={1:0.482,0:0.518},\n",
    "            max_depth=max_depth)\n",
    "        \n",
    "        return clf\n",
    "    \n",
    "    def objective_func(self,trial:optuna.trial):\n",
    "        if self.m == 'RandomForest':\n",
    "            return ObjectiveFunctions.obj_func_RF(trial)\n",
    "        elif self.m == 'SVC':\n",
    "            return ObjectiveFunctions.obj_func_SVC(trial)\n",
    "        else:\n",
    "            return ObjectiveFunctions.obj_func_LGBM(trial)"
   ]
  },
  {
   "cell_type": "code",
   "execution_count": 8,
   "metadata": {},
   "outputs": [
    {
     "name": "stderr",
     "output_type": "stream",
     "text": [
      "\u001b[32m[I 2023-05-09 16:11:02,092]\u001b[0m A new study created in memory with name: no-name-d5f9d664-97e9-4a11-bcc8-98bda352e9d4\u001b[0m\n"
     ]
    },
    {
     "name": "stdout",
     "output_type": "stream",
     "text": [
      "Model :- SVC, DataType :- AAC\n"
     ]
    },
    {
     "name": "stderr",
     "output_type": "stream",
     "text": [
      "\u001b[32m[I 2023-05-09 16:11:02,517]\u001b[0m Trial 0 finished with value: 0.7910676723258258 and parameters: {'svc_c': 29299.15067166134, 'kernel': 'sigmoid', 'gamma': 'scale'}. Best is trial 0 with value: 0.7910676723258258.\u001b[0m\n"
     ]
    },
    {
     "name": "stdout",
     "output_type": "stream",
     "text": [
      "Overall accuracy: 0.792\n",
      "\n"
     ]
    }
   ],
   "source": [
    "for feat_type in X_data.keys():\n",
    "    m = sel_model[feat_type]\n",
    "    print(f\"Model :- {m}, DataType :- {feat_type}\")\n",
    "    \n",
    "    #Data handling\n",
    "    X,y = X_data[feat_type],train_data.targets\n",
    "    X,y = shuffle(X,y,random_state=config[\"random_seed\"])\n",
    "    X = data_pipelines[feat_type].fit_transform(X,y)\n",
    "    \n",
    "    def objective(trial):\n",
    "        clf = ObjectiveFunctions(m).objective_func(trial)\n",
    "        \n",
    "        y_pred = cross_val_predict(clf, X, y, cv=5)\n",
    "    \n",
    "        result_values = action_evaluator(y_pred,y,class_names=[\"Not Druggable\",\"Druggable\"],print_report=False,show_plot=False,save_outputs=None)\n",
    "\n",
    "        return  result_values[\"f1\"]\n",
    "    \n",
    "    study = optuna.create_study(direction='maximize')\n",
    "    study.optimize(objective, n_trials=100)\n",
    "    \n",
    "    print('Accuracy: {}'.format(study.best_trial.value))\n",
    "    print(\"Best hyperparameters: {}\".format(study.best_trial.params))\n",
    "    \n",
    "    params = study.best_trial.params\n",
    "    \n",
    "    os.makedirs(os.path.join(config[\"model_save_loc\"],feat_type,m),exist_ok=True)\n",
    "    model_dir = os.path.join(config[\"model_save_loc\"],feat_type,m)\n",
    "    \n",
    "    optuna.visualization.plot_slice(study)\n",
    "    plt.savefig(os.path.join(model_dir,\"hyperparameter_slice_analysis.png\"),dpi=300)\n",
    "    \n",
    "    optuna.visualization.plot_contour(study, params=['n_estimators', 'max_depth'])\n",
    "    plt.savefig(os.path.join(model_dir,\"hyperparameter_contour.png\"),dpi=300)\n",
    "    \n",
    "    with open(os.path.join(model_dir,\"best_params.json\"),\"w\") as f0:\n",
    "        json.dump(params,f0)\n",
    "    \n",
    "    if m == 'RandomForest':\n",
    "        clf = RandomForestClassifier(**params)\n",
    "    elif m == 'SVC':\n",
    "        clf = SVC(**params)\n",
    "    else:\n",
    "        clf = LGBMClassifier(**params)\n",
    "        \n",
    "    clf.fit(X,y)\n",
    "    joblib.dump(study, os.path.join(model_dir,\"study.sav\"))\n",
    "    joblib.dump(data_pipelines[feat_type], os.path.join(model_dir,\"pipeline.sav\"))\n",
    "    joblib.dump(clf, os.path.join(model_dir,\"model_save.sav\"))\n",
    "    print(\"\\n\\n\")\n",
    "    break"
   ]
  }
 ],
 "metadata": {
  "kernelspec": {
   "display_name": "venv",
   "language": "python",
   "name": "python3"
  },
  "language_info": {
   "codemirror_mode": {
    "name": "ipython",
    "version": 3
   },
   "file_extension": ".py",
   "mimetype": "text/x-python",
   "name": "python",
   "nbconvert_exporter": "python",
   "pygments_lexer": "ipython3",
   "version": "3.9.7"
  },
  "orig_nbformat": 4
 },
 "nbformat": 4,
 "nbformat_minor": 2
}
