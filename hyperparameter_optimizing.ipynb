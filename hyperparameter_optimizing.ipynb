{
 "cells": [
  {
   "cell_type": "code",
   "execution_count": 10,
   "metadata": {},
   "outputs": [],
   "source": [
    "import utils.feature_extractors as utils\n",
    "from utils.evaluation import action_evaluator\n",
    "import numpy as np\n",
    "import os\n",
    "import json\n",
    "from sklearn.pipeline import make_pipeline\n",
    "from sklearn.utils import shuffle\n",
    "from sklearn.preprocessing import StandardScaler\n",
    "from sklearn.linear_model import RidgeClassifier\n",
    "from sklearn.decomposition import PCA\n",
    "from sklearn.model_selection import cross_val_predict\n",
    "from sklearn.neighbors import KNeighborsClassifier\n",
    "from sklearn.ensemble import RandomForestClassifier\n",
    "import matplotlib.pyplot as plt\n",
    "from xgboost import XGBClassifier\n",
    "from lightgbm import LGBMClassifier\n",
    "from itertools import product\n",
    "from sklearn.svm import SVC\n",
    "import optuna\n",
    "import joblib"
   ]
  },
  {
   "cell_type": "code",
   "execution_count": 11,
   "metadata": {},
   "outputs": [],
   "source": [
    "config = {\n",
    "    \"train_pos_loc\":\"data/TR_pos_SPIDER.txt\",\n",
    "    \"train_neg_loc\":\"data/TR_neg_SPIDER.txt\",\n",
    "    \"test_pos_loc\":\"data/TS_pos_SPIDER.txt\",\n",
    "    \"test_neg_loc\":\"data/TS_neg_SPIDER.txt\",\n",
    "    \"model_save_loc\":\"optimized\",\n",
    "    \"artifact_dir\":\"artifacts\",\n",
    "    \"random_seed\":9\n",
    "}"
   ]
  },
  {
   "cell_type": "code",
   "execution_count": 12,
   "metadata": {},
   "outputs": [],
   "source": [
    "class SpiderDataGenerator(object):\n",
    "    ALL_FEAT = [\"AAC\",\"DPC\",\"CTD\",\n",
    "                \"PAAC\",\"APAAC\",\"RSacid\",\n",
    "                \"RSpolar\",\"RSsecond\",\"RScharge\",\n",
    "                \"RSDHP\"]\n",
    "    def __init__(self, pos_data_file, neg_data_file,feat_type=None) -> None:\n",
    "        super(SpiderDataGenerator).__init__()\n",
    "        self.pos_data_file = pos_data_file\n",
    "        self.neg_data_file = neg_data_file\n",
    "        \n",
    "        assert feat_type in SpiderDataGenerator.ALL_FEAT or feat_type == None\n",
    "        \n",
    "        self.feat_type = feat_type\n",
    "        \n",
    "        self.pos_data = utils.read_fasta(self.pos_data_file)\n",
    "        self.neg_data = utils.read_fasta(self.neg_data_file)\n",
    "        \n",
    "        self.data = self.pos_data+self.neg_data\n",
    "        self.targets = np.array([True]*len(self.pos_data)+[False]*len(self.neg_data))\n",
    "        \n",
    "        self.raw = [x[1] for x in self.data]\n",
    "        \n",
    "        self.feat_AAC = utils.AAC(self.data)[0]\n",
    "        print(\"Generating AAC Feature .....\")\n",
    "        self.feat_DPC = utils.DPC(self.data,0)[0]\n",
    "        print(\"Generating DPC Feature .....\")\n",
    "        self.feat_CTD = np.hstack((utils.CTDC(self.data)[0], \n",
    "                              utils.CTDD(self.data)[0], \n",
    "                              utils.CTDT(self.data)[0]))\n",
    "        print(\"Generating CTD Feature .....\")\n",
    "        self.feat_PAAC = utils.PAAC(self.data,1)[0]\n",
    "        print(\"Generating PAAC Feature .....\")\n",
    "        self.feat_APAAC = utils.APAAC(self.data,1)[0]\n",
    "        print(\"Generating APAAC Feature .....\")\n",
    "        self.feat_RSacid = utils.reducedACID(self.data) \n",
    "        print(\"Generating reducedACID Feature .....\")\n",
    "        self.feat_RSpolar = utils.reducedPOLAR(self.data)\n",
    "        print(\"Generating reducedPOLAR Feature .....\")\n",
    "        self.feat_RSsecond = utils.reducedSECOND(self.data)\n",
    "        print(\"Generating reducedSECOND Feature .....\")\n",
    "        self.feat_RScharge = utils.reducedCHARGE(self.data)\n",
    "        print(\"Generating reducedCHARGE Feature .....\")\n",
    "        self.feat_RSDHP = utils.reducedDHP(self.data)\n",
    "        print(\"Generating reducedDHP Feature .....\")\n",
    "        \n",
    "        \n",
    "        \n",
    "    \n",
    "    def get_combination_feature(self,selected:list = None):\n",
    "        \n",
    "        all_feat =[self.feat_AAC,self.feat_DPC,self.feat_CTD,\n",
    "                   self.feat_PAAC,self.feat_APAAC,self.feat_RSacid,\n",
    "                   self.feat_RSpolar,self.feat_RSsecond,self.feat_RScharge,\n",
    "                   self.feat_RSDHP]\n",
    "        \n",
    "        if selected:\n",
    "            select_index = sorted([SpiderDataGenerator.ALL_FEAT.index(x) for x in selected])\n",
    "            all_feat = [all_feat[x] for x in select_index]\n",
    "            \n",
    "        return np.concatenate(all_feat,axis=-1)\n",
    "        \n",
    "        \n",
    "        \n",
    "            \n",
    "    def __len__(self) -> int:\n",
    "        return len(self.data)"
   ]
  },
  {
   "cell_type": "code",
   "execution_count": 13,
   "metadata": {},
   "outputs": [
    {
     "name": "stdout",
     "output_type": "stream",
     "text": [
      "Generating AAC Feature .....\n",
      "Generating DPC Feature .....\n",
      "Generating CTD Feature .....\n",
      "Generating PAAC Feature .....\n",
      "Generating APAAC Feature .....\n",
      "Generating reducedACID Feature .....\n",
      "Generating reducedPOLAR Feature .....\n",
      "Generating reducedSECOND Feature .....\n",
      "Generating reducedCHARGE Feature .....\n",
      "Generating reducedDHP Feature .....\n"
     ]
    }
   ],
   "source": [
    "train_data = SpiderDataGenerator(pos_data_file=config[\"train_pos_loc\"],neg_data_file=config[\"train_neg_loc\"])"
   ]
  },
  {
   "cell_type": "code",
   "execution_count": 14,
   "metadata": {},
   "outputs": [],
   "source": [
    "X_data = {\n",
    "    \"AAC\":train_data.feat_AAC,\n",
    "    \"DPC\":train_data.feat_DPC,\n",
    "    \"CTD\":train_data.feat_CTD,\n",
    "    \"PAAC\":train_data.feat_PAAC,\n",
    "    \"APAAC\":train_data.feat_APAAC,\n",
    "    \"RSacid\":train_data.feat_RSacid,\n",
    "    \"RSpolar\":train_data.feat_RSpolar,\n",
    "    \"RSsecond\":train_data.feat_RSsecond,\n",
    "    \"RScharge\":train_data.feat_RScharge,\n",
    "    \"RSDHP\":train_data.feat_RSDHP,\n",
    "    \"Combine\":train_data.get_combination_feature(),\n",
    "}\n",
    "\n",
    "data_pipelines = {\n",
    "    \"AAC\":make_pipeline(StandardScaler()),\n",
    "    \"DPC\":make_pipeline(StandardScaler()),\n",
    "    \"CTD\":make_pipeline(StandardScaler()),\n",
    "    \"PAAC\":make_pipeline(StandardScaler()),\n",
    "    \"APAAC\":make_pipeline(StandardScaler()),\n",
    "    \"RSacid\":make_pipeline(StandardScaler()),\n",
    "    \"RSpolar\":make_pipeline(StandardScaler()),\n",
    "    \"RSsecond\":make_pipeline(StandardScaler()),\n",
    "    \"RScharge\":make_pipeline(StandardScaler()),\n",
    "    \"RSDHP\":make_pipeline(StandardScaler()),\n",
    "    \"Combine\":make_pipeline(StandardScaler()),\n",
    "    }\n",
    "\n",
    "sel_model = {\n",
    "    \"AAC\":\"SVC\",\n",
    "    \"DPC\":\"SVC\",\n",
    "    \"CTD\":\"LGBMClassifier\",\n",
    "    \"PAAC\":\"RandomForest\",\n",
    "    \"APAAC\":\"SVC\",\n",
    "    \"RSacid\":\"SVC\",\n",
    "    \"RSpolar\":\"SVC\",\n",
    "    \"RSsecond\":\"SVC\",\n",
    "    \"RScharge\":\"SVC\",\n",
    "    \"RSDHP\":\"SVC\",\n",
    "    \"Combine\":\"LGBMClassifier\",\n",
    "}"
   ]
  },
  {
   "cell_type": "code",
   "execution_count": 15,
   "metadata": {},
   "outputs": [],
   "source": [
    "#np.unique(train_data.targets,return_counts=True),0.518,0.482"
   ]
  },
  {
   "attachments": {},
   "cell_type": "markdown",
   "metadata": {},
   "source": [
    "## RandomForest Optimization"
   ]
  },
  {
   "cell_type": "code",
   "execution_count": 16,
   "metadata": {},
   "outputs": [],
   "source": [
    "class ObjectiveFunctions(object):\n",
    "    SEL_MODEL = ['RandomForest', 'SVC',\"LGBMClassifier\"]\n",
    "    def __init__(self,model_name) -> None:\n",
    "        assert model_name in ObjectiveFunctions.SEL_MODEL\n",
    "        self.m = model_name\n",
    "    \n",
    "    @staticmethod\n",
    "    def obj_func_RF(trial:optuna.trial):\n",
    "        n_estimators = trial.suggest_int('n_estimators', 2, 300)\n",
    "        max_depth = trial.suggest_int('max_depth', 1, 64)\n",
    "        criterion = trial.suggest_categorical(\"criterion\",['gini', 'entropy', 'log_loss'])\n",
    "        \n",
    "        clf = RandomForestClassifier(\n",
    "            n_estimators=n_estimators, \n",
    "            max_depth=max_depth,\n",
    "            criterion=criterion,\n",
    "            class_weight={1:0.482,0:0.518},\n",
    "            )\n",
    "        \n",
    "        return clf\n",
    "    \n",
    "    @staticmethod\n",
    "    def obj_func_SVC(trial:optuna.trial):\n",
    "        c = trial.suggest_float('C', 1e-10, 1e10, log=True)\n",
    "        kernel = 'rbf' #trial.suggest_categorical(\"kernel\",['linear', 'poly', 'rbf', 'sigmoid'])\n",
    "        gamma = 'auto'#trial.suggest_categorical(\"gamma\",['scale', 'auto'])\n",
    "        \n",
    "        \n",
    "        clf = SVC(\n",
    "            C=c, \n",
    "            kernel=kernel,\n",
    "            class_weight={1:0.482,0:0.518},\n",
    "            gamma=gamma)\n",
    "        \n",
    "        return clf\n",
    "    \n",
    "    @staticmethod\n",
    "    def obj_func_LGBM(trial:optuna.trial):\n",
    "        n_estimators = trial.suggest_int('n_estimators', 2, 300)\n",
    "        max_depth = trial.suggest_int('max_depth', 1, 64)\n",
    "        num_leaves = trial.suggest_int('num_leaves', 10, 64)\n",
    "        \n",
    "        clf = LGBMClassifier(\n",
    "            n_estimators=n_estimators,\n",
    "            num_leaves=num_leaves,\n",
    "            class_weight={1:0.482,0:0.518},\n",
    "            max_depth=max_depth)\n",
    "        \n",
    "        return clf\n",
    "    \n",
    "    def objective_func(self,trial:optuna.trial):\n",
    "        if self.m == 'RandomForest':\n",
    "            return ObjectiveFunctions.obj_func_RF(trial)\n",
    "        elif self.m == 'SVC':\n",
    "            return ObjectiveFunctions.obj_func_SVC(trial)\n",
    "        else:\n",
    "            return ObjectiveFunctions.obj_func_LGBM(trial)"
   ]
  },
  {
   "cell_type": "code",
   "execution_count": 17,
   "metadata": {
    "tags": []
   },
   "outputs": [
    {
     "name": "stderr",
     "output_type": "stream",
     "text": [
      "\u001b[32m[I 2023-05-10 18:04:09,483]\u001b[0m A new study created in memory with name: no-name-3aa33193-8626-4bf0-b416-8ea7ca86228f\u001b[0m\n"
     ]
    },
    {
     "name": "stdout",
     "output_type": "stream",
     "text": [
      "Model :- SVC, DataType :- AAC\n"
     ]
    },
    {
     "name": "stderr",
     "output_type": "stream",
     "text": [
      "\u001b[32m[I 2023-05-10 18:04:11,020]\u001b[0m Trial 0 finished with value: 0.3416213416213416 and parameters: {'C': 4.1201796299270554e-10}. Best is trial 0 with value: 0.3416213416213416.\u001b[0m\n"
     ]
    },
    {
     "name": "stdout",
     "output_type": "stream",
     "text": [
      "Overall accuracy: 0.519\n",
      "\n"
     ]
    },
    {
     "name": "stderr",
     "output_type": "stream",
     "text": [
      "\u001b[32m[I 2023-05-10 18:04:12,480]\u001b[0m Trial 1 finished with value: 0.3416213416213416 and parameters: {'C': 5.390885757014099e-09}. Best is trial 0 with value: 0.3416213416213416.\u001b[0m\n"
     ]
    },
    {
     "name": "stdout",
     "output_type": "stream",
     "text": [
      "Overall accuracy: 0.519\n",
      "\n"
     ]
    },
    {
     "name": "stderr",
     "output_type": "stream",
     "text": [
      "\u001b[32m[I 2023-05-10 18:04:13,928]\u001b[0m Trial 2 finished with value: 0.3416213416213416 and parameters: {'C': 4.2039377965403584e-09}. Best is trial 0 with value: 0.3416213416213416.\u001b[0m\n"
     ]
    },
    {
     "name": "stdout",
     "output_type": "stream",
     "text": [
      "Overall accuracy: 0.519\n",
      "\n"
     ]
    },
    {
     "name": "stderr",
     "output_type": "stream",
     "text": [
      "\u001b[32m[I 2023-05-10 18:04:15,277]\u001b[0m Trial 3 finished with value: 0.8272082533391615 and parameters: {'C': 4455018.726993024}. Best is trial 3 with value: 0.8272082533391615.\u001b[0m\n"
     ]
    },
    {
     "name": "stdout",
     "output_type": "stream",
     "text": [
      "Overall accuracy: 0.827\n",
      "\n"
     ]
    },
    {
     "name": "stderr",
     "output_type": "stream",
     "text": [
      "\u001b[32m[I 2023-05-10 18:04:16,330]\u001b[0m Trial 4 finished with value: 0.8272082533391615 and parameters: {'C': 15103.017555740747}. Best is trial 3 with value: 0.8272082533391615.\u001b[0m\n"
     ]
    },
    {
     "name": "stdout",
     "output_type": "stream",
     "text": [
      "Overall accuracy: 0.827\n",
      "\n"
     ]
    },
    {
     "name": "stderr",
     "output_type": "stream",
     "text": [
      "\u001b[32m[I 2023-05-10 18:04:17,944]\u001b[0m Trial 5 finished with value: 0.3416213416213416 and parameters: {'C': 1.0121123032055061e-06}. Best is trial 3 with value: 0.8272082533391615.\u001b[0m\n"
     ]
    },
    {
     "name": "stdout",
     "output_type": "stream",
     "text": [
      "Overall accuracy: 0.519\n",
      "\n"
     ]
    },
    {
     "name": "stderr",
     "output_type": "stream",
     "text": [
      "\u001b[32m[I 2023-05-10 18:04:18,977]\u001b[0m Trial 6 finished with value: 0.8272082533391615 and parameters: {'C': 147282.70879779858}. Best is trial 3 with value: 0.8272082533391615.\u001b[0m\n"
     ]
    },
    {
     "name": "stdout",
     "output_type": "stream",
     "text": [
      "Overall accuracy: 0.827\n",
      "\n"
     ]
    },
    {
     "name": "stderr",
     "output_type": "stream",
     "text": [
      "\u001b[32m[I 2023-05-10 18:04:19,997]\u001b[0m Trial 7 finished with value: 0.8272082533391615 and parameters: {'C': 553687.6925124323}. Best is trial 3 with value: 0.8272082533391615.\u001b[0m\n"
     ]
    },
    {
     "name": "stdout",
     "output_type": "stream",
     "text": [
      "Overall accuracy: 0.827\n",
      "\n"
     ]
    },
    {
     "name": "stderr",
     "output_type": "stream",
     "text": [
      "\u001b[32m[I 2023-05-10 18:04:21,486]\u001b[0m Trial 8 finished with value: 0.3416213416213416 and parameters: {'C': 2.739000962051104e-05}. Best is trial 3 with value: 0.8272082533391615.\u001b[0m\n"
     ]
    },
    {
     "name": "stdout",
     "output_type": "stream",
     "text": [
      "Overall accuracy: 0.519\n",
      "\n"
     ]
    },
    {
     "name": "stderr",
     "output_type": "stream",
     "text": [
      "\u001b[32m[I 2023-05-10 18:04:22,501]\u001b[0m Trial 9 finished with value: 0.8272082533391615 and parameters: {'C': 41180778.137457564}. Best is trial 3 with value: 0.8272082533391615.\u001b[0m\n"
     ]
    },
    {
     "name": "stdout",
     "output_type": "stream",
     "text": [
      "Overall accuracy: 0.827\n",
      "\n"
     ]
    },
    {
     "name": "stderr",
     "output_type": "stream",
     "text": [
      "\u001b[32m[I 2023-05-10 18:04:23,536]\u001b[0m Trial 10 finished with value: 0.8272082533391615 and parameters: {'C': 9283712833.367601}. Best is trial 3 with value: 0.8272082533391615.\u001b[0m\n"
     ]
    },
    {
     "name": "stdout",
     "output_type": "stream",
     "text": [
      "Overall accuracy: 0.827\n",
      "\n"
     ]
    },
    {
     "name": "stderr",
     "output_type": "stream",
     "text": [
      "\u001b[32m[I 2023-05-10 18:04:24,276]\u001b[0m Trial 11 finished with value: 0.8762262807407554 and parameters: {'C': 35.848332779224094}. Best is trial 11 with value: 0.8762262807407554.\u001b[0m\n"
     ]
    },
    {
     "name": "stdout",
     "output_type": "stream",
     "text": [
      "Overall accuracy: 0.876\n",
      "\n"
     ]
    },
    {
     "name": "stderr",
     "output_type": "stream",
     "text": [
      "\u001b[32m[I 2023-05-10 18:04:24,898]\u001b[0m Trial 12 finished with value: 0.8919537576701867 and parameters: {'C': 5.259590336318007}. Best is trial 12 with value: 0.8919537576701867.\u001b[0m\n"
     ]
    },
    {
     "name": "stdout",
     "output_type": "stream",
     "text": [
      "Overall accuracy: 0.892\n",
      "\n"
     ]
    },
    {
     "name": "stderr",
     "output_type": "stream",
     "text": [
      "\u001b[32m[I 2023-05-10 18:04:25,757]\u001b[0m Trial 13 finished with value: 0.8751688457323445 and parameters: {'C': 0.24593755763056477}. Best is trial 12 with value: 0.8919537576701867.\u001b[0m\n"
     ]
    },
    {
     "name": "stdout",
     "output_type": "stream",
     "text": [
      "Overall accuracy: 0.876\n",
      "\n"
     ]
    },
    {
     "name": "stderr",
     "output_type": "stream",
     "text": [
      "\u001b[32m[I 2023-05-10 18:04:26,468]\u001b[0m Trial 14 finished with value: 0.8813114128533723 and parameters: {'C': 17.001382139897935}. Best is trial 12 with value: 0.8919537576701867.\u001b[0m\n"
     ]
    },
    {
     "name": "stdout",
     "output_type": "stream",
     "text": [
      "Overall accuracy: 0.882\n",
      "\n"
     ]
    },
    {
     "name": "stderr",
     "output_type": "stream",
     "text": [
      "\u001b[32m[I 2023-05-10 18:04:27,177]\u001b[0m Trial 15 finished with value: 0.8850959941060053 and parameters: {'C': 0.6758912114691854}. Best is trial 12 with value: 0.8919537576701867.\u001b[0m\n"
     ]
    },
    {
     "name": "stdout",
     "output_type": "stream",
     "text": [
      "Overall accuracy: 0.886\n",
      "\n"
     ]
    },
    {
     "name": "stderr",
     "output_type": "stream",
     "text": [
      "\u001b[32m[I 2023-05-10 18:04:28,942]\u001b[0m Trial 16 finished with value: 0.3416213416213416 and parameters: {'C': 0.006143131111079722}. Best is trial 12 with value: 0.8919537576701867.\u001b[0m\n"
     ]
    },
    {
     "name": "stdout",
     "output_type": "stream",
     "text": [
      "Overall accuracy: 0.519\n",
      "\n"
     ]
    },
    {
     "name": "stderr",
     "output_type": "stream",
     "text": [
      "\u001b[32m[I 2023-05-10 18:04:30,166]\u001b[0m Trial 17 finished with value: 0.8420898614652398 and parameters: {'C': 390.1631905263855}. Best is trial 12 with value: 0.8919537576701867.\u001b[0m\n"
     ]
    },
    {
     "name": "stdout",
     "output_type": "stream",
     "text": [
      "Overall accuracy: 0.842\n",
      "\n"
     ]
    },
    {
     "name": "stderr",
     "output_type": "stream",
     "text": [
      "\u001b[32m[I 2023-05-10 18:04:31,119]\u001b[0m Trial 18 finished with value: 0.8755702041663074 and parameters: {'C': 0.2503892518307005}. Best is trial 12 with value: 0.8919537576701867.\u001b[0m\n"
     ]
    },
    {
     "name": "stdout",
     "output_type": "stream",
     "text": [
      "Overall accuracy: 0.876\n",
      "\n"
     ]
    },
    {
     "name": "stderr",
     "output_type": "stream",
     "text": [
      "\u001b[32m[I 2023-05-10 18:04:32,746]\u001b[0m Trial 19 finished with value: 0.3416213416213416 and parameters: {'C': 0.003844235540761575}. Best is trial 12 with value: 0.8919537576701867.\u001b[0m\n"
     ]
    },
    {
     "name": "stdout",
     "output_type": "stream",
     "text": [
      "Overall accuracy: 0.519\n",
      "\n"
     ]
    },
    {
     "name": "stderr",
     "output_type": "stream",
     "text": [
      "\u001b[32m[I 2023-05-10 18:04:33,843]\u001b[0m Trial 20 finished with value: 0.831925244226463 and parameters: {'C': 1891.4324070333435}. Best is trial 12 with value: 0.8919537576701867.\u001b[0m\n"
     ]
    },
    {
     "name": "stdout",
     "output_type": "stream",
     "text": [
      "Overall accuracy: 0.832\n",
      "\n"
     ]
    },
    {
     "name": "stderr",
     "output_type": "stream",
     "text": [
      "\u001b[32m[I 2023-05-10 18:04:34,487]\u001b[0m Trial 21 finished with value: 0.8817102226193136 and parameters: {'C': 16.34765843261081}. Best is trial 12 with value: 0.8919537576701867.\u001b[0m\n"
     ]
    },
    {
     "name": "stdout",
     "output_type": "stream",
     "text": [
      "Overall accuracy: 0.882\n",
      "\n"
     ]
    },
    {
     "name": "stderr",
     "output_type": "stream",
     "text": [
      "\u001b[32m[I 2023-05-10 18:04:35,166]\u001b[0m Trial 22 finished with value: 0.8856444880450882 and parameters: {'C': 8.734878285576508}. Best is trial 12 with value: 0.8919537576701867.\u001b[0m\n"
     ]
    },
    {
     "name": "stdout",
     "output_type": "stream",
     "text": [
      "Overall accuracy: 0.886\n",
      "\n"
     ]
    },
    {
     "name": "stderr",
     "output_type": "stream",
     "text": [
      "\u001b[32m[I 2023-05-10 18:04:35,877]\u001b[0m Trial 23 finished with value: 0.8854963492039823 and parameters: {'C': 0.6992123639108209}. Best is trial 12 with value: 0.8919537576701867.\u001b[0m\n"
     ]
    },
    {
     "name": "stdout",
     "output_type": "stream",
     "text": [
      "Overall accuracy: 0.886\n",
      "\n"
     ]
    },
    {
     "name": "stderr",
     "output_type": "stream",
     "text": [
      "\u001b[32m[I 2023-05-10 18:04:37,029]\u001b[0m Trial 24 finished with value: 0.8381900539948826 and parameters: {'C': 980.5376303025224}. Best is trial 12 with value: 0.8919537576701867.\u001b[0m\n"
     ]
    },
    {
     "name": "stdout",
     "output_type": "stream",
     "text": [
      "Overall accuracy: 0.838\n",
      "\n"
     ]
    },
    {
     "name": "stderr",
     "output_type": "stream",
     "text": [
      "\u001b[32m[I 2023-05-10 18:04:38,510]\u001b[0m Trial 25 finished with value: 0.5523918094979197 and parameters: {'C': 0.009835287569217}. Best is trial 12 with value: 0.8919537576701867.\u001b[0m\n"
     ]
    },
    {
     "name": "stdout",
     "output_type": "stream",
     "text": [
      "Overall accuracy: 0.627\n",
      "\n"
     ]
    },
    {
     "name": "stderr",
     "output_type": "stream",
     "text": [
      "\u001b[32m[I 2023-05-10 18:04:39,237]\u001b[0m Trial 26 finished with value: 0.8903848062938973 and parameters: {'C': 5.841788338201335}. Best is trial 12 with value: 0.8919537576701867.\u001b[0m\n"
     ]
    },
    {
     "name": "stdout",
     "output_type": "stream",
     "text": [
      "Overall accuracy: 0.891\n",
      "\n"
     ]
    },
    {
     "name": "stderr",
     "output_type": "stream",
     "text": [
      "\u001b[32m[I 2023-05-10 18:04:39,968]\u001b[0m Trial 27 finished with value: 0.8781568989092761 and parameters: {'C': 23.62107593458744}. Best is trial 12 with value: 0.8919537576701867.\u001b[0m\n"
     ]
    },
    {
     "name": "stdout",
     "output_type": "stream",
     "text": [
      "Overall accuracy: 0.878\n",
      "\n"
     ]
    },
    {
     "name": "stderr",
     "output_type": "stream",
     "text": [
      "\u001b[32m[I 2023-05-10 18:04:41,098]\u001b[0m Trial 28 finished with value: 0.8272082533391615 and parameters: {'C': 7800.323667393503}. Best is trial 12 with value: 0.8919537576701867.\u001b[0m\n"
     ]
    },
    {
     "name": "stdout",
     "output_type": "stream",
     "text": [
      "Overall accuracy: 0.827\n",
      "\n"
     ]
    },
    {
     "name": "stderr",
     "output_type": "stream",
     "text": [
      "\u001b[32m[I 2023-05-10 18:04:42,747]\u001b[0m Trial 29 finished with value: 0.3416213416213416 and parameters: {'C': 0.0002663445194900978}. Best is trial 12 with value: 0.8919537576701867.\u001b[0m\n"
     ]
    },
    {
     "name": "stdout",
     "output_type": "stream",
     "text": [
      "Overall accuracy: 0.519\n",
      "\n"
     ]
    },
    {
     "name": "stderr",
     "output_type": "stream",
     "text": [
      "\u001b[32m[I 2023-05-10 18:04:43,678]\u001b[0m Trial 30 finished with value: 0.8566259414806844 and parameters: {'C': 111.45891451787965}. Best is trial 12 with value: 0.8919537576701867.\u001b[0m\n"
     ]
    },
    {
     "name": "stdout",
     "output_type": "stream",
     "text": [
      "Overall accuracy: 0.857\n",
      "\n"
     ]
    },
    {
     "name": "stderr",
     "output_type": "stream",
     "text": [
      "\u001b[32m[I 2023-05-10 18:04:51,760]\u001b[0m Trial 31 finished with value: 0.8950663955226474 and parameters: {'C': 2.0799554438389407}. Best is trial 31 with value: 0.8950663955226474.\u001b[0m\n"
     ]
    },
    {
     "name": "stdout",
     "output_type": "stream",
     "text": [
      "Overall accuracy: 0.895\n",
      "\n"
     ]
    },
    {
     "name": "stderr",
     "output_type": "stream",
     "text": [
      "\u001b[32m[I 2023-05-10 18:04:52,379]\u001b[0m Trial 32 finished with value: 0.8931157714135167 and parameters: {'C': 3.348474259541418}. Best is trial 31 with value: 0.8950663955226474.\u001b[0m\n"
     ]
    },
    {
     "name": "stdout",
     "output_type": "stream",
     "text": [
      "Overall accuracy: 0.893\n",
      "\n"
     ]
    },
    {
     "name": "stderr",
     "output_type": "stream",
     "text": [
      "\u001b[32m[I 2023-05-10 18:04:53,471]\u001b[0m Trial 33 finished with value: 0.8536447975700312 and parameters: {'C': 0.07514624172690515}. Best is trial 31 with value: 0.8950663955226474.\u001b[0m\n"
     ]
    },
    {
     "name": "stdout",
     "output_type": "stream",
     "text": [
      "Overall accuracy: 0.854\n",
      "\n"
     ]
    },
    {
     "name": "stderr",
     "output_type": "stream",
     "text": [
      "\u001b[32m[I 2023-05-10 18:04:54,079]\u001b[0m Trial 34 finished with value: 0.8935058986504603 and parameters: {'C': 3.2715759506375}. Best is trial 31 with value: 0.8950663955226474.\u001b[0m\n"
     ]
    },
    {
     "name": "stdout",
     "output_type": "stream",
     "text": [
      "Overall accuracy: 0.894\n",
      "\n"
     ]
    },
    {
     "name": "stderr",
     "output_type": "stream",
     "text": [
      "\u001b[32m[I 2023-05-10 18:04:55,083]\u001b[0m Trial 35 finished with value: 0.8484124954558755 and parameters: {'C': 248.8422909604104}. Best is trial 31 with value: 0.8950663955226474.\u001b[0m\n"
     ]
    },
    {
     "name": "stdout",
     "output_type": "stream",
     "text": [
      "Overall accuracy: 0.849\n",
      "\n"
     ]
    },
    {
     "name": "stderr",
     "output_type": "stream",
     "text": [
      "\u001b[32m[I 2023-05-10 18:04:55,826]\u001b[0m Trial 36 finished with value: 0.8950663955226474 and parameters: {'C': 1.5410206069934849}. Best is trial 31 with value: 0.8950663955226474.\u001b[0m\n"
     ]
    },
    {
     "name": "stdout",
     "output_type": "stream",
     "text": [
      "Overall accuracy: 0.895\n",
      "\n"
     ]
    },
    {
     "name": "stderr",
     "output_type": "stream",
     "text": [
      "\u001b[32m[I 2023-05-10 18:04:57,104]\u001b[0m Trial 37 finished with value: 0.8415414488796632 and parameters: {'C': 0.03470689651810204}. Best is trial 31 with value: 0.8950663955226474.\u001b[0m\n"
     ]
    },
    {
     "name": "stdout",
     "output_type": "stream",
     "text": [
      "Overall accuracy: 0.843\n",
      "\n"
     ]
    },
    {
     "name": "stderr",
     "output_type": "stream",
     "text": [
      "\u001b[32m[I 2023-05-10 18:04:57,773]\u001b[0m Trial 38 finished with value: 0.8914740235495392 and parameters: {'C': 0.9550818965334015}. Best is trial 31 with value: 0.8950663955226474.\u001b[0m\n"
     ]
    },
    {
     "name": "stdout",
     "output_type": "stream",
     "text": [
      "Overall accuracy: 0.892\n",
      "\n"
     ]
    },
    {
     "name": "stderr",
     "output_type": "stream",
     "text": [
      "\u001b[32m[I 2023-05-10 18:04:59,250]\u001b[0m Trial 39 finished with value: 0.3416213416213416 and parameters: {'C': 0.0011883338469664967}. Best is trial 31 with value: 0.8950663955226474.\u001b[0m\n"
     ]
    },
    {
     "name": "stdout",
     "output_type": "stream",
     "text": [
      "Overall accuracy: 0.519\n",
      "\n"
     ]
    },
    {
     "name": "stderr",
     "output_type": "stream",
     "text": [
      "\u001b[32m[I 2023-05-10 18:05:00,408]\u001b[0m Trial 40 finished with value: 0.8536447975700312 and parameters: {'C': 0.07387869376791747}. Best is trial 31 with value: 0.8950663955226474.\u001b[0m\n"
     ]
    },
    {
     "name": "stdout",
     "output_type": "stream",
     "text": [
      "Overall accuracy: 0.854\n",
      "\n"
     ]
    },
    {
     "name": "stderr",
     "output_type": "stream",
     "text": [
      "\u001b[32m[I 2023-05-10 18:05:01,022]\u001b[0m Trial 41 finished with value: 0.8919537576701867 and parameters: {'C': 3.79384722824038}. Best is trial 31 with value: 0.8950663955226474.\u001b[0m\n"
     ]
    },
    {
     "name": "stdout",
     "output_type": "stream",
     "text": [
      "Overall accuracy: 0.892\n",
      "\n"
     ]
    },
    {
     "name": "stderr",
     "output_type": "stream",
     "text": [
      "\u001b[32m[I 2023-05-10 18:05:01,837]\u001b[0m Trial 42 finished with value: 0.8562360441677929 and parameters: {'C': 112.04570732790171}. Best is trial 31 with value: 0.8950663955226474.\u001b[0m\n"
     ]
    },
    {
     "name": "stdout",
     "output_type": "stream",
     "text": [
      "Overall accuracy: 0.856\n",
      "\n"
     ]
    },
    {
     "name": "stderr",
     "output_type": "stream",
     "text": [
      "\u001b[32m[I 2023-05-10 18:05:02,527]\u001b[0m Trial 43 finished with value: 0.8890862098815946 and parameters: {'C': 0.8012641133202151}. Best is trial 31 with value: 0.8950663955226474.\u001b[0m\n"
     ]
    },
    {
     "name": "stdout",
     "output_type": "stream",
     "text": [
      "Overall accuracy: 0.889\n",
      "\n"
     ]
    },
    {
     "name": "stderr",
     "output_type": "stream",
     "text": [
      "\u001b[32m[I 2023-05-10 18:05:03,585]\u001b[0m Trial 44 finished with value: 0.8272082533391615 and parameters: {'C': 11851.857663251545}. Best is trial 31 with value: 0.8950663955226474.\u001b[0m\n"
     ]
    },
    {
     "name": "stdout",
     "output_type": "stream",
     "text": [
      "Overall accuracy: 0.827\n",
      "\n"
     ]
    },
    {
     "name": "stderr",
     "output_type": "stream",
     "text": [
      "\u001b[32m[I 2023-05-10 18:05:04,782]\u001b[0m Trial 45 finished with value: 0.8407700995253102 and parameters: {'C': 0.03617263323609488}. Best is trial 31 with value: 0.8950663955226474.\u001b[0m\n"
     ]
    },
    {
     "name": "stdout",
     "output_type": "stream",
     "text": [
      "Overall accuracy: 0.842\n",
      "\n"
     ]
    },
    {
     "name": "stderr",
     "output_type": "stream",
     "text": [
      "\u001b[32m[I 2023-05-10 18:05:05,399]\u001b[0m Trial 46 finished with value: 0.8935058986504603 and parameters: {'C': 3.240482401474136}. Best is trial 31 with value: 0.8950663955226474.\u001b[0m\n"
     ]
    },
    {
     "name": "stdout",
     "output_type": "stream",
     "text": [
      "Overall accuracy: 0.894\n",
      "\n"
     ]
    },
    {
     "name": "stderr",
     "output_type": "stream",
     "text": [
      "\u001b[32m[I 2023-05-10 18:05:06,267]\u001b[0m Trial 47 finished with value: 0.8582014805852923 and parameters: {'C': 104.26916816664637}. Best is trial 31 with value: 0.8950663955226474.\u001b[0m\n"
     ]
    },
    {
     "name": "stdout",
     "output_type": "stream",
     "text": [
      "Overall accuracy: 0.858\n",
      "\n"
     ]
    },
    {
     "name": "stderr",
     "output_type": "stream",
     "text": [
      "\u001b[32m[I 2023-05-10 18:05:06,887]\u001b[0m Trial 48 finished with value: 0.8934884465831384 and parameters: {'C': 2.4001554302552366}. Best is trial 31 with value: 0.8950663955226474.\u001b[0m\n"
     ]
    },
    {
     "name": "stdout",
     "output_type": "stream",
     "text": [
      "Overall accuracy: 0.894\n",
      "\n"
     ]
    },
    {
     "name": "stderr",
     "output_type": "stream",
     "text": [
      "\u001b[32m[I 2023-05-10 18:05:07,905]\u001b[0m Trial 49 finished with value: 0.8272082533391615 and parameters: {'C': 95901.70468419907}. Best is trial 31 with value: 0.8950663955226474.\u001b[0m\n"
     ]
    },
    {
     "name": "stdout",
     "output_type": "stream",
     "text": [
      "Overall accuracy: 0.827\n",
      "\n"
     ]
    },
    {
     "name": "stderr",
     "output_type": "stream",
     "text": [
      "\u001b[32m[I 2023-05-10 18:05:09,333]\u001b[0m Trial 50 finished with value: 0.3416213416213416 and parameters: {'C': 0.0001366550943383521}. Best is trial 31 with value: 0.8950663955226474.\u001b[0m\n"
     ]
    },
    {
     "name": "stdout",
     "output_type": "stream",
     "text": [
      "Overall accuracy: 0.519\n",
      "\n"
     ]
    },
    {
     "name": "stderr",
     "output_type": "stream",
     "text": [
      "\u001b[32m[I 2023-05-10 18:05:09,944]\u001b[0m Trial 51 finished with value: 0.8934884465831384 and parameters: {'C': 2.539168569804237}. Best is trial 31 with value: 0.8950663955226474.\u001b[0m\n"
     ]
    },
    {
     "name": "stdout",
     "output_type": "stream",
     "text": [
      "Overall accuracy: 0.894\n",
      "\n"
     ]
    },
    {
     "name": "stderr",
     "output_type": "stream",
     "text": [
      "\u001b[32m[I 2023-05-10 18:05:10,768]\u001b[0m Trial 52 finished with value: 0.8759461926005501 and parameters: {'C': 0.2252527402143766}. Best is trial 31 with value: 0.8950663955226474.\u001b[0m\n"
     ]
    },
    {
     "name": "stdout",
     "output_type": "stream",
     "text": [
      "Overall accuracy: 0.876\n",
      "\n"
     ]
    },
    {
     "name": "stderr",
     "output_type": "stream",
     "text": [
      "\u001b[32m[I 2023-05-10 18:05:11,505]\u001b[0m Trial 53 finished with value: 0.8722933936196935 and parameters: {'C': 43.728454685093446}. Best is trial 31 with value: 0.8950663955226474.\u001b[0m\n"
     ]
    },
    {
     "name": "stdout",
     "output_type": "stream",
     "text": [
      "Overall accuracy: 0.873\n",
      "\n"
     ]
    },
    {
     "name": "stderr",
     "output_type": "stream",
     "text": [
      "\u001b[32m[I 2023-05-10 18:05:12,207]\u001b[0m Trial 54 finished with value: 0.8931157714135167 and parameters: {'C': 2.814814861648644}. Best is trial 31 with value: 0.8950663955226474.\u001b[0m\n"
     ]
    },
    {
     "name": "stdout",
     "output_type": "stream",
     "text": [
      "Overall accuracy: 0.893\n",
      "\n"
     ]
    },
    {
     "name": "stderr",
     "output_type": "stream",
     "text": [
      "\u001b[32m[I 2023-05-10 18:05:13,217]\u001b[0m Trial 55 finished with value: 0.8374026576639573 and parameters: {'C': 1262.331808806217}. Best is trial 31 with value: 0.8950663955226474.\u001b[0m\n"
     ]
    },
    {
     "name": "stdout",
     "output_type": "stream",
     "text": [
      "Overall accuracy: 0.838\n",
      "\n"
     ]
    },
    {
     "name": "stderr",
     "output_type": "stream",
     "text": [
      "\u001b[32m[I 2023-05-10 18:05:13,924]\u001b[0m Trial 56 finished with value: 0.8773866815311054 and parameters: {'C': 29.668462652496547}. Best is trial 31 with value: 0.8950663955226474.\u001b[0m\n"
     ]
    },
    {
     "name": "stdout",
     "output_type": "stream",
     "text": [
      "Overall accuracy: 0.878\n",
      "\n"
     ]
    },
    {
     "name": "stderr",
     "output_type": "stream",
     "text": [
      "\u001b[32m[I 2023-05-10 18:05:14,806]\u001b[0m Trial 57 finished with value: 0.8719954344031153 and parameters: {'C': 0.17963303291582614}. Best is trial 31 with value: 0.8950663955226474.\u001b[0m\n"
     ]
    },
    {
     "name": "stdout",
     "output_type": "stream",
     "text": [
      "Overall accuracy: 0.873\n",
      "\n"
     ]
    },
    {
     "name": "stderr",
     "output_type": "stream",
     "text": [
      "\u001b[32m[I 2023-05-10 18:05:15,469]\u001b[0m Trial 58 finished with value: 0.8950663955226474 and parameters: {'C': 1.6803579109479694}. Best is trial 31 with value: 0.8950663955226474.\u001b[0m\n"
     ]
    },
    {
     "name": "stdout",
     "output_type": "stream",
     "text": [
      "Overall accuracy: 0.895\n",
      "\n"
     ]
    },
    {
     "name": "stderr",
     "output_type": "stream",
     "text": [
      "\u001b[32m[I 2023-05-10 18:05:16,953]\u001b[0m Trial 59 finished with value: 0.7308759238663955 and parameters: {'C': 0.012160464956908291}. Best is trial 31 with value: 0.8950663955226474.\u001b[0m\n"
     ]
    },
    {
     "name": "stdout",
     "output_type": "stream",
     "text": [
      "Overall accuracy: 0.751\n",
      "\n"
     ]
    },
    {
     "name": "stderr",
     "output_type": "stream",
     "text": [
      "\u001b[32m[I 2023-05-10 18:05:17,693]\u001b[0m Trial 60 finished with value: 0.8811123888510022 and parameters: {'C': 0.4534701132246654}. Best is trial 31 with value: 0.8950663955226474.\u001b[0m\n"
     ]
    },
    {
     "name": "stdout",
     "output_type": "stream",
     "text": [
      "Overall accuracy: 0.882\n",
      "\n"
     ]
    },
    {
     "name": "stderr",
     "output_type": "stream",
     "text": [
      "\u001b[32m[I 2023-05-10 18:05:18,395]\u001b[0m Trial 61 finished with value: 0.8954565185374062 and parameters: {'C': 1.7973097772791014}. Best is trial 61 with value: 0.8954565185374062.\u001b[0m\n"
     ]
    },
    {
     "name": "stdout",
     "output_type": "stream",
     "text": [
      "Overall accuracy: 0.896\n",
      "\n"
     ]
    },
    {
     "name": "stderr",
     "output_type": "stream",
     "text": [
      "\u001b[32m[I 2023-05-10 18:05:18,993]\u001b[0m Trial 62 finished with value: 0.8872304122304122 and parameters: {'C': 9.365192061798608}. Best is trial 61 with value: 0.8954565185374062.\u001b[0m\n"
     ]
    },
    {
     "name": "stdout",
     "output_type": "stream",
     "text": [
      "Overall accuracy: 0.887\n",
      "\n"
     ]
    },
    {
     "name": "stderr",
     "output_type": "stream",
     "text": [
      "\u001b[32m[I 2023-05-10 18:05:19,620]\u001b[0m Trial 63 finished with value: 0.8954565185374062 and parameters: {'C': 1.4364574970684592}. Best is trial 61 with value: 0.8954565185374062.\u001b[0m\n"
     ]
    },
    {
     "name": "stdout",
     "output_type": "stream",
     "text": [
      "Overall accuracy: 0.896\n",
      "\n"
     ]
    },
    {
     "name": "stderr",
     "output_type": "stream",
     "text": [
      "\u001b[32m[I 2023-05-10 18:05:20,451]\u001b[0m Trial 64 finished with value: 0.8755575185728146 and parameters: {'C': 0.2318872972450424}. Best is trial 61 with value: 0.8954565185374062.\u001b[0m\n"
     ]
    },
    {
     "name": "stdout",
     "output_type": "stream",
     "text": [
      "Overall accuracy: 0.876\n",
      "\n"
     ]
    },
    {
     "name": "stderr",
     "output_type": "stream",
     "text": [
      "\u001b[32m[I 2023-05-10 18:05:21,169]\u001b[0m Trial 65 finished with value: 0.8730637556394638 and parameters: {'C': 39.07679554050629}. Best is trial 61 with value: 0.8954565185374062.\u001b[0m\n"
     ]
    },
    {
     "name": "stdout",
     "output_type": "stream",
     "text": [
      "Overall accuracy: 0.873\n",
      "\n"
     ]
    },
    {
     "name": "stderr",
     "output_type": "stream",
     "text": [
      "\u001b[32m[I 2023-05-10 18:05:22,191]\u001b[0m Trial 66 finished with value: 0.8464329086943592 and parameters: {'C': 271.6141844057484}. Best is trial 61 with value: 0.8954565185374062.\u001b[0m\n"
     ]
    },
    {
     "name": "stdout",
     "output_type": "stream",
     "text": [
      "Overall accuracy: 0.847\n",
      "\n"
     ]
    },
    {
     "name": "stderr",
     "output_type": "stream",
     "text": [
      "\u001b[32m[I 2023-05-10 18:05:22,849]\u001b[0m Trial 67 finished with value: 0.8914930252390282 and parameters: {'C': 1.0552835259014872}. Best is trial 61 with value: 0.8954565185374062.\u001b[0m\n"
     ]
    },
    {
     "name": "stdout",
     "output_type": "stream",
     "text": [
      "Overall accuracy: 0.892\n",
      "\n"
     ]
    },
    {
     "name": "stderr",
     "output_type": "stream",
     "text": [
      "\u001b[32m[I 2023-05-10 18:05:23,509]\u001b[0m Trial 68 finished with value: 0.8848558293419508 and parameters: {'C': 11.575178069910141}. Best is trial 61 with value: 0.8954565185374062.\u001b[0m\n"
     ]
    },
    {
     "name": "stdout",
     "output_type": "stream",
     "text": [
      "Overall accuracy: 0.885\n",
      "\n"
     ]
    },
    {
     "name": "stderr",
     "output_type": "stream",
     "text": [
      "\u001b[32m[I 2023-05-10 18:05:24,939]\u001b[0m Trial 69 finished with value: 0.8069563497957934 and parameters: {'C': 0.014712189598406809}. Best is trial 61 with value: 0.8954565185374062.\u001b[0m\n"
     ]
    },
    {
     "name": "stdout",
     "output_type": "stream",
     "text": [
      "Overall accuracy: 0.812\n",
      "\n"
     ]
    },
    {
     "name": "stderr",
     "output_type": "stream",
     "text": [
      "\u001b[32m[I 2023-05-10 18:05:25,889]\u001b[0m Trial 70 finished with value: 0.8648558402602636 and parameters: {'C': 0.13141169097470856}. Best is trial 61 with value: 0.8954565185374062.\u001b[0m\n"
     ]
    },
    {
     "name": "stdout",
     "output_type": "stream",
     "text": [
      "Overall accuracy: 0.865\n",
      "\n"
     ]
    },
    {
     "name": "stderr",
     "output_type": "stream",
     "text": [
      "\u001b[32m[I 2023-05-10 18:05:26,630]\u001b[0m Trial 71 finished with value: 0.8930713085082786 and parameters: {'C': 1.1622572709760546}. Best is trial 61 with value: 0.8954565185374062.\u001b[0m\n"
     ]
    },
    {
     "name": "stdout",
     "output_type": "stream",
     "text": [
      "Overall accuracy: 0.893\n",
      "\n"
     ]
    },
    {
     "name": "stderr",
     "output_type": "stream",
     "text": [
      "\u001b[32m[I 2023-05-10 18:05:27,264]\u001b[0m Trial 72 finished with value: 0.8872218054513628 and parameters: {'C': 7.5582901295708655}. Best is trial 61 with value: 0.8954565185374062.\u001b[0m\n"
     ]
    },
    {
     "name": "stdout",
     "output_type": "stream",
     "text": [
      "Overall accuracy: 0.887\n",
      "\n"
     ]
    },
    {
     "name": "stderr",
     "output_type": "stream",
     "text": [
      "\u001b[32m[I 2023-05-10 18:05:27,970]\u001b[0m Trial 73 finished with value: 0.8938873306099013 and parameters: {'C': 2.3110747611245697}. Best is trial 61 with value: 0.8954565185374062.\u001b[0m\n"
     ]
    },
    {
     "name": "stdout",
     "output_type": "stream",
     "text": [
      "Overall accuracy: 0.894\n",
      "\n"
     ]
    },
    {
     "name": "stderr",
     "output_type": "stream",
     "text": [
      "\u001b[32m[I 2023-05-10 18:05:29,208]\u001b[0m Trial 74 finished with value: 0.8476479196928768 and parameters: {'C': 0.04707378550300371}. Best is trial 61 with value: 0.8954565185374062.\u001b[0m\n"
     ]
    },
    {
     "name": "stdout",
     "output_type": "stream",
     "text": [
      "Overall accuracy: 0.849\n",
      "\n"
     ]
    },
    {
     "name": "stderr",
     "output_type": "stream",
     "text": [
      "\u001b[32m[I 2023-05-10 18:05:29,865]\u001b[0m Trial 75 finished with value: 0.8914740235495392 and parameters: {'C': 0.9524455230376719}. Best is trial 61 with value: 0.8954565185374062.\u001b[0m\n"
     ]
    },
    {
     "name": "stdout",
     "output_type": "stream",
     "text": [
      "Overall accuracy: 0.892\n",
      "\n"
     ]
    },
    {
     "name": "stderr",
     "output_type": "stream",
     "text": [
      "\u001b[32m[I 2023-05-10 18:05:31,295]\u001b[0m Trial 76 finished with value: 0.3416213416213416 and parameters: {'C': 0.0030375156556396088}. Best is trial 61 with value: 0.8954565185374062.\u001b[0m\n"
     ]
    },
    {
     "name": "stdout",
     "output_type": "stream",
     "text": [
      "Overall accuracy: 0.519\n",
      "\n"
     ]
    },
    {
     "name": "stderr",
     "output_type": "stream",
     "text": [
      "\u001b[32m[I 2023-05-10 18:05:32,198]\u001b[0m Trial 77 finished with value: 0.8783040130317057 and parameters: {'C': 0.3026472532394385}. Best is trial 61 with value: 0.8954565185374062.\u001b[0m\n"
     ]
    },
    {
     "name": "stdout",
     "output_type": "stream",
     "text": [
      "Overall accuracy: 0.879\n",
      "\n"
     ]
    },
    {
     "name": "stderr",
     "output_type": "stream",
     "text": [
      "\u001b[32m[I 2023-05-10 18:05:32,811]\u001b[0m Trial 78 finished with value: 0.8809125358262642 and parameters: {'C': 18.61491223781362}. Best is trial 61 with value: 0.8954565185374062.\u001b[0m\n"
     ]
    },
    {
     "name": "stdout",
     "output_type": "stream",
     "text": [
      "Overall accuracy: 0.881\n",
      "\n"
     ]
    },
    {
     "name": "stderr",
     "output_type": "stream",
     "text": [
      "\u001b[32m[I 2023-05-10 18:05:33,871]\u001b[0m Trial 79 finished with value: 0.8365927877648669 and parameters: {'C': 500.881776669428}. Best is trial 61 with value: 0.8954565185374062.\u001b[0m\n"
     ]
    },
    {
     "name": "stdout",
     "output_type": "stream",
     "text": [
      "Overall accuracy: 0.837\n",
      "\n"
     ]
    },
    {
     "name": "stderr",
     "output_type": "stream",
     "text": [
      "\u001b[32m[I 2023-05-10 18:05:34,884]\u001b[0m Trial 80 finished with value: 0.857649518405137 and parameters: {'C': 0.0896636101912118}. Best is trial 61 with value: 0.8954565185374062.\u001b[0m\n"
     ]
    },
    {
     "name": "stdout",
     "output_type": "stream",
     "text": [
      "Overall accuracy: 0.858\n",
      "\n"
     ]
    },
    {
     "name": "stderr",
     "output_type": "stream",
     "text": [
      "\u001b[32m[I 2023-05-10 18:05:35,537]\u001b[0m Trial 81 finished with value: 0.8931157714135167 and parameters: {'C': 3.1921371013990085}. Best is trial 61 with value: 0.8954565185374062.\u001b[0m\n"
     ]
    },
    {
     "name": "stdout",
     "output_type": "stream",
     "text": [
      "Overall accuracy: 0.893\n",
      "\n"
     ]
    },
    {
     "name": "stderr",
     "output_type": "stream",
     "text": [
      "\u001b[32m[I 2023-05-10 18:05:36,340]\u001b[0m Trial 82 finished with value: 0.8668517609370506 and parameters: {'C': 72.30434910978268}. Best is trial 61 with value: 0.8954565185374062.\u001b[0m\n"
     ]
    },
    {
     "name": "stdout",
     "output_type": "stream",
     "text": [
      "Overall accuracy: 0.867\n",
      "\n"
     ]
    },
    {
     "name": "stderr",
     "output_type": "stream",
     "text": [
      "\u001b[32m[I 2023-05-10 18:05:37,024]\u001b[0m Trial 83 finished with value: 0.894277421052893 and parameters: {'C': 2.2712218011929446}. Best is trial 61 with value: 0.8954565185374062.\u001b[0m\n"
     ]
    },
    {
     "name": "stdout",
     "output_type": "stream",
     "text": [
      "Overall accuracy: 0.895\n",
      "\n"
     ]
    },
    {
     "name": "stderr",
     "output_type": "stream",
     "text": [
      "\u001b[32m[I 2023-05-10 18:05:37,621]\u001b[0m Trial 84 finished with value: 0.8884175158438888 and parameters: {'C': 6.250747373222359}. Best is trial 61 with value: 0.8954565185374062.\u001b[0m\n"
     ]
    },
    {
     "name": "stdout",
     "output_type": "stream",
     "text": [
      "Overall accuracy: 0.889\n",
      "\n"
     ]
    },
    {
     "name": "stderr",
     "output_type": "stream",
     "text": [
      "\u001b[32m[I 2023-05-10 18:05:38,319]\u001b[0m Trial 85 finished with value: 0.8811123888510022 and parameters: {'C': 0.4685511277227697}. Best is trial 61 with value: 0.8954565185374062.\u001b[0m\n"
     ]
    },
    {
     "name": "stdout",
     "output_type": "stream",
     "text": [
      "Overall accuracy: 0.882\n",
      "\n"
     ]
    },
    {
     "name": "stderr",
     "output_type": "stream",
     "text": [
      "\u001b[32m[I 2023-05-10 18:05:38,956]\u001b[0m Trial 86 finished with value: 0.8824898532325389 and parameters: {'C': 15.414876176524556}. Best is trial 61 with value: 0.8954565185374062.\u001b[0m\n"
     ]
    },
    {
     "name": "stdout",
     "output_type": "stream",
     "text": [
      "Overall accuracy: 0.883\n",
      "\n"
     ]
    },
    {
     "name": "stderr",
     "output_type": "stream",
     "text": [
      "\u001b[32m[I 2023-05-10 18:05:39,579]\u001b[0m Trial 87 finished with value: 0.8950663955226474 and parameters: {'C': 1.4475995063939398}. Best is trial 61 with value: 0.8954565185374062.\u001b[0m\n"
     ]
    },
    {
     "name": "stdout",
     "output_type": "stream",
     "text": [
      "Overall accuracy: 0.895\n",
      "\n"
     ]
    },
    {
     "name": "stderr",
     "output_type": "stream",
     "text": [
      "\u001b[32m[I 2023-05-10 18:05:40,773]\u001b[0m Trial 88 finished with value: 0.8411347805114866 and parameters: {'C': 0.0334002211843135}. Best is trial 61 with value: 0.8954565185374062.\u001b[0m\n"
     ]
    },
    {
     "name": "stdout",
     "output_type": "stream",
     "text": [
      "Overall accuracy: 0.842\n",
      "\n"
     ]
    },
    {
     "name": "stderr",
     "output_type": "stream",
     "text": [
      "\u001b[32m[I 2023-05-10 18:05:41,451]\u001b[0m Trial 89 finished with value: 0.8938695435895884 and parameters: {'C': 1.2453258479820015}. Best is trial 61 with value: 0.8954565185374062.\u001b[0m\n"
     ]
    },
    {
     "name": "stdout",
     "output_type": "stream",
     "text": [
      "Overall accuracy: 0.894\n",
      "\n"
     ]
    },
    {
     "name": "stderr",
     "output_type": "stream",
     "text": [
      "\u001b[32m[I 2023-05-10 18:05:42,134]\u001b[0m Trial 90 finished with value: 0.8930620130790952 and parameters: {'C': 1.1060711119080882}. Best is trial 61 with value: 0.8954565185374062.\u001b[0m\n"
     ]
    },
    {
     "name": "stdout",
     "output_type": "stream",
     "text": [
      "Overall accuracy: 0.893\n",
      "\n"
     ]
    },
    {
     "name": "stderr",
     "output_type": "stream",
     "text": [
      "\u001b[32m[I 2023-05-10 18:05:42,780]\u001b[0m Trial 91 finished with value: 0.8946762723897533 and parameters: {'C': 1.572684717721815}. Best is trial 61 with value: 0.8954565185374062.\u001b[0m\n"
     ]
    },
    {
     "name": "stdout",
     "output_type": "stream",
     "text": [
      "Overall accuracy: 0.895\n",
      "\n"
     ]
    },
    {
     "name": "stderr",
     "output_type": "stream",
     "text": [
      "\u001b[32m[I 2023-05-10 18:05:43,520]\u001b[0m Trial 92 finished with value: 0.8815249813571961 and parameters: {'C': 0.39597160496125194}. Best is trial 61 with value: 0.8954565185374062.\u001b[0m\n"
     ]
    },
    {
     "name": "stdout",
     "output_type": "stream",
     "text": [
      "Overall accuracy: 0.882\n",
      "\n"
     ]
    },
    {
     "name": "stderr",
     "output_type": "stream",
     "text": [
      "\u001b[32m[I 2023-05-10 18:05:44,514]\u001b[0m Trial 93 finished with value: 0.8600533741415348 and parameters: {'C': 0.10338110761324588}. Best is trial 61 with value: 0.8954565185374062.\u001b[0m\n"
     ]
    },
    {
     "name": "stdout",
     "output_type": "stream",
     "text": [
      "Overall accuracy: 0.861\n",
      "\n"
     ]
    },
    {
     "name": "stderr",
     "output_type": "stream",
     "text": [
      "\u001b[32m[I 2023-05-10 18:05:45,260]\u001b[0m Trial 94 finished with value: 0.870742984140213 and parameters: {'C': 53.0260977093609}. Best is trial 61 with value: 0.8954565185374062.\u001b[0m\n"
     ]
    },
    {
     "name": "stdout",
     "output_type": "stream",
     "text": [
      "Overall accuracy: 0.871\n",
      "\n"
     ]
    },
    {
     "name": "stderr",
     "output_type": "stream",
     "text": [
      "\u001b[32m[I 2023-05-10 18:05:45,874]\u001b[0m Trial 95 finished with value: 0.8938785037228765 and parameters: {'C': 2.2688366339432475}. Best is trial 61 with value: 0.8954565185374062.\u001b[0m\n"
     ]
    },
    {
     "name": "stdout",
     "output_type": "stream",
     "text": [
      "Overall accuracy: 0.894\n",
      "\n"
     ]
    },
    {
     "name": "stderr",
     "output_type": "stream",
     "text": [
      "\u001b[32m[I 2023-05-10 18:05:46,559]\u001b[0m Trial 96 finished with value: 0.88405817786471 and parameters: {'C': 13.379110761812834}. Best is trial 61 with value: 0.8954565185374062.\u001b[0m\n"
     ]
    },
    {
     "name": "stdout",
     "output_type": "stream",
     "text": [
      "Overall accuracy: 0.884\n",
      "\n"
     ]
    },
    {
     "name": "stderr",
     "output_type": "stream",
     "text": [
      "\u001b[32m[I 2023-05-10 18:05:47,569]\u001b[0m Trial 97 finished with value: 0.8539035875401595 and parameters: {'C': 165.85825078694825}. Best is trial 61 with value: 0.8954565185374062.\u001b[0m\n"
     ]
    },
    {
     "name": "stdout",
     "output_type": "stream",
     "text": [
      "Overall accuracy: 0.854\n",
      "\n"
     ]
    },
    {
     "name": "stderr",
     "output_type": "stream",
     "text": [
      "\u001b[32m[I 2023-05-10 18:05:48,174]\u001b[0m Trial 98 finished with value: 0.8903848062938973 and parameters: {'C': 5.659525910386457}. Best is trial 61 with value: 0.8954565185374062.\u001b[0m\n"
     ]
    },
    {
     "name": "stdout",
     "output_type": "stream",
     "text": [
      "Overall accuracy: 0.891\n",
      "\n"
     ]
    },
    {
     "name": "stderr",
     "output_type": "stream",
     "text": [
      "\u001b[32m[I 2023-05-10 18:05:48,868]\u001b[0m Trial 99 finished with value: 0.8781751916177221 and parameters: {'C': 32.056976267409205}. Best is trial 61 with value: 0.8954565185374062.\u001b[0m\n",
      "\u001b[32m[I 2023-05-10 18:05:49,012]\u001b[0m A new study created in memory with name: no-name-5dad1150-68fc-45e4-a55b-7c883cd3826d\u001b[0m\n"
     ]
    },
    {
     "name": "stdout",
     "output_type": "stream",
     "text": [
      "Overall accuracy: 0.878\n",
      "\n",
      "Accuracy: 0.8954565185374062\n",
      "Best hyperparameters: {'C': 1.7973097772791014}\n",
      "\n",
      "\n",
      "\n",
      "Model :- SVC, DataType :- DPC\n"
     ]
    },
    {
     "name": "stderr",
     "output_type": "stream",
     "text": [
      "\u001b[32m[I 2023-05-10 18:05:51,719]\u001b[0m Trial 0 finished with value: 0.8876615658718916 and parameters: {'C': 20877467.696630932}. Best is trial 0 with value: 0.8876615658718916.\u001b[0m\n"
     ]
    },
    {
     "name": "stdout",
     "output_type": "stream",
     "text": [
      "Overall accuracy: 0.888\n",
      "\n"
     ]
    },
    {
     "name": "stderr",
     "output_type": "stream",
     "text": [
      "\u001b[32m[I 2023-05-10 18:05:55,888]\u001b[0m Trial 1 finished with value: 0.3416213416213416 and parameters: {'C': 9.385031803802768e-07}. Best is trial 0 with value: 0.8876615658718916.\u001b[0m\n"
     ]
    },
    {
     "name": "stdout",
     "output_type": "stream",
     "text": [
      "Overall accuracy: 0.519\n",
      "\n"
     ]
    },
    {
     "name": "stderr",
     "output_type": "stream",
     "text": [
      "\u001b[32m[I 2023-05-10 18:05:58,957]\u001b[0m Trial 2 finished with value: 0.8876615658718916 and parameters: {'C': 905384.505843744}. Best is trial 0 with value: 0.8876615658718916.\u001b[0m\n"
     ]
    },
    {
     "name": "stdout",
     "output_type": "stream",
     "text": [
      "Overall accuracy: 0.888\n",
      "\n"
     ]
    },
    {
     "name": "stderr",
     "output_type": "stream",
     "text": [
      "\u001b[32m[I 2023-05-10 18:06:03,284]\u001b[0m Trial 3 finished with value: 0.728847977243995 and parameters: {'C': 0.025592017846806665}. Best is trial 0 with value: 0.8876615658718916.\u001b[0m\n"
     ]
    },
    {
     "name": "stdout",
     "output_type": "stream",
     "text": [
      "Overall accuracy: 0.745\n",
      "\n"
     ]
    },
    {
     "name": "stderr",
     "output_type": "stream",
     "text": [
      "\u001b[32m[I 2023-05-10 18:06:07,596]\u001b[0m Trial 4 finished with value: 0.3416213416213416 and parameters: {'C': 3.645384593291897e-08}. Best is trial 0 with value: 0.8876615658718916.\u001b[0m\n"
     ]
    },
    {
     "name": "stdout",
     "output_type": "stream",
     "text": [
      "Overall accuracy: 0.519\n",
      "\n"
     ]
    },
    {
     "name": "stderr",
     "output_type": "stream",
     "text": [
      "\u001b[32m[I 2023-05-10 18:06:11,975]\u001b[0m Trial 5 finished with value: 0.3416213416213416 and parameters: {'C': 2.796151132288329e-08}. Best is trial 0 with value: 0.8876615658718916.\u001b[0m\n"
     ]
    },
    {
     "name": "stdout",
     "output_type": "stream",
     "text": [
      "Overall accuracy: 0.519\n",
      "\n"
     ]
    },
    {
     "name": "stderr",
     "output_type": "stream",
     "text": [
      "\u001b[32m[I 2023-05-10 18:06:14,452]\u001b[0m Trial 6 finished with value: 0.8946849014594072 and parameters: {'C': 2.8260515551564622}. Best is trial 6 with value: 0.8946849014594072.\u001b[0m\n"
     ]
    },
    {
     "name": "stdout",
     "output_type": "stream",
     "text": [
      "Overall accuracy: 0.895\n",
      "\n"
     ]
    },
    {
     "name": "stderr",
     "output_type": "stream",
     "text": [
      "\u001b[32m[I 2023-05-10 18:06:18,824]\u001b[0m Trial 7 finished with value: 0.3416213416213416 and parameters: {'C': 1.8231744773335766e-08}. Best is trial 6 with value: 0.8946849014594072.\u001b[0m\n"
     ]
    },
    {
     "name": "stdout",
     "output_type": "stream",
     "text": [
      "Overall accuracy: 0.519\n",
      "\n"
     ]
    },
    {
     "name": "stderr",
     "output_type": "stream",
     "text": [
      "\u001b[32m[I 2023-05-10 18:06:22,918]\u001b[0m Trial 8 finished with value: 0.3416213416213416 and parameters: {'C': 1.9175349425969105e-10}. Best is trial 6 with value: 0.8946849014594072.\u001b[0m\n"
     ]
    },
    {
     "name": "stdout",
     "output_type": "stream",
     "text": [
      "Overall accuracy: 0.519\n",
      "\n"
     ]
    },
    {
     "name": "stderr",
     "output_type": "stream",
     "text": [
      "\u001b[32m[I 2023-05-10 18:06:25,279]\u001b[0m Trial 9 finished with value: 0.8961814644875747 and parameters: {'C': 1.5058149384923152}. Best is trial 9 with value: 0.8961814644875747.\u001b[0m\n"
     ]
    },
    {
     "name": "stdout",
     "output_type": "stream",
     "text": [
      "Overall accuracy: 0.897\n",
      "\n"
     ]
    },
    {
     "name": "stderr",
     "output_type": "stream",
     "text": [
      "\u001b[32m[I 2023-05-10 18:06:28,936]\u001b[0m Trial 10 finished with value: 0.8876615658718916 and parameters: {'C': 4650063247.045651}. Best is trial 9 with value: 0.8961814644875747.\u001b[0m\n"
     ]
    },
    {
     "name": "stdout",
     "output_type": "stream",
     "text": [
      "Overall accuracy: 0.888\n",
      "\n"
     ]
    },
    {
     "name": "stderr",
     "output_type": "stream",
     "text": [
      "\u001b[32m[I 2023-05-10 18:06:32,305]\u001b[0m Trial 11 finished with value: 0.8888479537060296 and parameters: {'C': 33.99770256594226}. Best is trial 9 with value: 0.8961814644875747.\u001b[0m\n"
     ]
    },
    {
     "name": "stdout",
     "output_type": "stream",
     "text": [
      "Overall accuracy: 0.889\n",
      "\n"
     ]
    },
    {
     "name": "stderr",
     "output_type": "stream",
     "text": [
      "\u001b[32m[I 2023-05-10 18:06:35,158]\u001b[0m Trial 12 finished with value: 0.8890007218118487 and parameters: {'C': 0.888414085599526}. Best is trial 9 with value: 0.8961814644875747.\u001b[0m\n"
     ]
    },
    {
     "name": "stdout",
     "output_type": "stream",
     "text": [
      "Overall accuracy: 0.889\n",
      "\n"
     ]
    },
    {
     "name": "stderr",
     "output_type": "stream",
     "text": [
      "\u001b[32m[I 2023-05-10 18:06:38,481]\u001b[0m Trial 13 finished with value: 0.8888401629582581 and parameters: {'C': 231.0142371487958}. Best is trial 9 with value: 0.8961814644875747.\u001b[0m\n"
     ]
    },
    {
     "name": "stdout",
     "output_type": "stream",
     "text": [
      "Overall accuracy: 0.889\n",
      "\n"
     ]
    },
    {
     "name": "stderr",
     "output_type": "stream",
     "text": [
      "\u001b[32m[I 2023-05-10 18:06:43,386]\u001b[0m Trial 14 finished with value: 0.3416213416213416 and parameters: {'C': 0.000532826950866638}. Best is trial 9 with value: 0.8961814644875747.\u001b[0m\n"
     ]
    },
    {
     "name": "stdout",
     "output_type": "stream",
     "text": [
      "Overall accuracy: 0.519\n",
      "\n"
     ]
    },
    {
     "name": "stderr",
     "output_type": "stream",
     "text": [
      "\u001b[32m[I 2023-05-10 18:06:47,422]\u001b[0m Trial 15 finished with value: 0.8876615658718916 and parameters: {'C': 2690.389661749303}. Best is trial 9 with value: 0.8961814644875747.\u001b[0m\n"
     ]
    },
    {
     "name": "stdout",
     "output_type": "stream",
     "text": [
      "Overall accuracy: 0.888\n",
      "\n"
     ]
    },
    {
     "name": "stderr",
     "output_type": "stream",
     "text": [
      "\u001b[32m[I 2023-05-10 18:06:52,252]\u001b[0m Trial 16 finished with value: 0.3416213416213416 and parameters: {'C': 0.001114712779249429}. Best is trial 9 with value: 0.8961814644875747.\u001b[0m\n"
     ]
    },
    {
     "name": "stdout",
     "output_type": "stream",
     "text": [
      "Overall accuracy: 0.519\n",
      "\n"
     ]
    },
    {
     "name": "stderr",
     "output_type": "stream",
     "text": [
      "\u001b[32m[I 2023-05-10 18:06:57,181]\u001b[0m Trial 17 finished with value: 0.8782651852883812 and parameters: {'C': 0.38810101475521575}. Best is trial 9 with value: 0.8961814644875747.\u001b[0m\n"
     ]
    },
    {
     "name": "stdout",
     "output_type": "stream",
     "text": [
      "Overall accuracy: 0.879\n",
      "\n"
     ]
    },
    {
     "name": "stderr",
     "output_type": "stream",
     "text": [
      "\u001b[32m[I 2023-05-10 18:07:00,653]\u001b[0m Trial 18 finished with value: 0.8876615658718916 and parameters: {'C': 6114.972732014913}. Best is trial 9 with value: 0.8961814644875747.\u001b[0m\n"
     ]
    },
    {
     "name": "stdout",
     "output_type": "stream",
     "text": [
      "Overall accuracy: 0.888\n",
      "\n"
     ]
    },
    {
     "name": "stderr",
     "output_type": "stream",
     "text": [
      "\u001b[32m[I 2023-05-10 18:07:03,294]\u001b[0m Trial 19 finished with value: 0.8947491827218538 and parameters: {'C': 12.714364955146443}. Best is trial 9 with value: 0.8961814644875747.\u001b[0m\n"
     ]
    },
    {
     "name": "stdout",
     "output_type": "stream",
     "text": [
      "Overall accuracy: 0.895\n",
      "\n"
     ]
    },
    {
     "name": "stderr",
     "output_type": "stream",
     "text": [
      "\u001b[32m[I 2023-05-10 18:07:07,442]\u001b[0m Trial 20 finished with value: 0.3416213416213416 and parameters: {'C': 0.006109292201373213}. Best is trial 9 with value: 0.8961814644875747.\u001b[0m\n"
     ]
    },
    {
     "name": "stdout",
     "output_type": "stream",
     "text": [
      "Overall accuracy: 0.519\n",
      "\n"
     ]
    },
    {
     "name": "stderr",
     "output_type": "stream",
     "text": [
      "\u001b[32m[I 2023-05-10 18:07:10,175]\u001b[0m Trial 21 finished with value: 0.8947491827218538 and parameters: {'C': 12.659693770137288}. Best is trial 9 with value: 0.8961814644875747.\u001b[0m\n"
     ]
    },
    {
     "name": "stdout",
     "output_type": "stream",
     "text": [
      "Overall accuracy: 0.895\n",
      "\n"
     ]
    },
    {
     "name": "stderr",
     "output_type": "stream",
     "text": [
      "\u001b[32m[I 2023-05-10 18:07:12,723]\u001b[0m Trial 22 finished with value: 0.8888401629582581 and parameters: {'C': 32.6609352311915}. Best is trial 9 with value: 0.8961814644875747.\u001b[0m\n"
     ]
    },
    {
     "name": "stdout",
     "output_type": "stream",
     "text": [
      "Overall accuracy: 0.889\n",
      "\n"
     ]
    },
    {
     "name": "stderr",
     "output_type": "stream",
     "text": [
      "\u001b[32m[I 2023-05-10 18:07:15,469]\u001b[0m Trial 23 finished with value: 0.8876615658718916 and parameters: {'C': 6220.218395380073}. Best is trial 9 with value: 0.8961814644875747.\u001b[0m\n"
     ]
    },
    {
     "name": "stdout",
     "output_type": "stream",
     "text": [
      "Overall accuracy: 0.888\n",
      "\n"
     ]
    },
    {
     "name": "stderr",
     "output_type": "stream",
     "text": [
      "\u001b[32m[I 2023-05-10 18:07:19,228]\u001b[0m Trial 24 finished with value: 0.8168951813214109 and parameters: {'C': 0.05898843001085289}. Best is trial 9 with value: 0.8961814644875747.\u001b[0m\n"
     ]
    },
    {
     "name": "stdout",
     "output_type": "stream",
     "text": [
      "Overall accuracy: 0.817\n",
      "\n"
     ]
    },
    {
     "name": "stderr",
     "output_type": "stream",
     "text": [
      "\u001b[32m[I 2023-05-10 18:07:23,433]\u001b[0m Trial 25 finished with value: 0.3416213416213416 and parameters: {'C': 7.362070814396242e-05}. Best is trial 9 with value: 0.8961814644875747.\u001b[0m\n"
     ]
    },
    {
     "name": "stdout",
     "output_type": "stream",
     "text": [
      "Overall accuracy: 0.519\n",
      "\n"
     ]
    },
    {
     "name": "stderr",
     "output_type": "stream",
     "text": [
      "\u001b[32m[I 2023-05-10 18:07:25,895]\u001b[0m Trial 26 finished with value: 0.8955449647580747 and parameters: {'C': 10.452780668069535}. Best is trial 9 with value: 0.8961814644875747.\u001b[0m\n"
     ]
    },
    {
     "name": "stdout",
     "output_type": "stream",
     "text": [
      "Overall accuracy: 0.896\n",
      "\n"
     ]
    },
    {
     "name": "stderr",
     "output_type": "stream",
     "text": [
      "\u001b[32m[I 2023-05-10 18:07:29,412]\u001b[0m Trial 27 finished with value: 0.8373864675252406 and parameters: {'C': 0.10470065917071476}. Best is trial 9 with value: 0.8961814644875747.\u001b[0m\n"
     ]
    },
    {
     "name": "stdout",
     "output_type": "stream",
     "text": [
      "Overall accuracy: 0.838\n",
      "\n"
     ]
    },
    {
     "name": "stderr",
     "output_type": "stream",
     "text": [
      "\u001b[32m[I 2023-05-10 18:07:32,075]\u001b[0m Trial 28 finished with value: 0.8884420176415153 and parameters: {'C': 202.53602078045935}. Best is trial 9 with value: 0.8961814644875747.\u001b[0m\n"
     ]
    },
    {
     "name": "stdout",
     "output_type": "stream",
     "text": [
      "Overall accuracy: 0.889\n",
      "\n"
     ]
    },
    {
     "name": "stderr",
     "output_type": "stream",
     "text": [
      "\u001b[32m[I 2023-05-10 18:07:34,338]\u001b[0m Trial 29 finished with value: 0.8910241116562039 and parameters: {'C': 1.076248706261985}. Best is trial 9 with value: 0.8961814644875747.\u001b[0m\n"
     ]
    },
    {
     "name": "stdout",
     "output_type": "stream",
     "text": [
      "Overall accuracy: 0.891\n",
      "\n"
     ]
    },
    {
     "name": "stderr",
     "output_type": "stream",
     "text": [
      "\u001b[32m[I 2023-05-10 18:07:37,123]\u001b[0m Trial 30 finished with value: 0.8876615658718916 and parameters: {'C': 834876.0471408215}. Best is trial 9 with value: 0.8961814644875747.\u001b[0m\n"
     ]
    },
    {
     "name": "stdout",
     "output_type": "stream",
     "text": [
      "Overall accuracy: 0.888\n",
      "\n"
     ]
    },
    {
     "name": "stderr",
     "output_type": "stream",
     "text": [
      "\u001b[32m[I 2023-05-10 18:07:39,630]\u001b[0m Trial 31 finished with value: 0.9018304942162225 and parameters: {'C': 6.345808168155943}. Best is trial 31 with value: 0.9018304942162225.\u001b[0m\n"
     ]
    },
    {
     "name": "stdout",
     "output_type": "stream",
     "text": [
      "Overall accuracy: 0.902\n",
      "\n"
     ]
    },
    {
     "name": "stderr",
     "output_type": "stream",
     "text": [
      "\u001b[32m[I 2023-05-10 18:07:41,887]\u001b[0m Trial 32 finished with value: 0.896599735321753 and parameters: {'C': 1.7085389106766018}. Best is trial 31 with value: 0.9018304942162225.\u001b[0m\n"
     ]
    },
    {
     "name": "stdout",
     "output_type": "stream",
     "text": [
      "Overall accuracy: 0.897\n",
      "\n"
     ]
    },
    {
     "name": "stderr",
     "output_type": "stream",
     "text": [
      "\u001b[32m[I 2023-05-10 18:07:45,018]\u001b[0m Trial 33 finished with value: 0.865660274125909 and parameters: {'C': 0.21656726446115238}. Best is trial 31 with value: 0.9018304942162225.\u001b[0m\n"
     ]
    },
    {
     "name": "stdout",
     "output_type": "stream",
     "text": [
      "Overall accuracy: 0.866\n",
      "\n"
     ]
    },
    {
     "name": "stderr",
     "output_type": "stream",
     "text": [
      "\u001b[32m[I 2023-05-10 18:07:48,972]\u001b[0m Trial 34 finished with value: 0.7794397529797663 and parameters: {'C': 0.029647277562703443}. Best is trial 31 with value: 0.9018304942162225.\u001b[0m\n"
     ]
    },
    {
     "name": "stdout",
     "output_type": "stream",
     "text": [
      "Overall accuracy: 0.783\n",
      "\n"
     ]
    },
    {
     "name": "stderr",
     "output_type": "stream",
     "text": [
      "\u001b[32m[I 2023-05-10 18:07:52,827]\u001b[0m Trial 35 finished with value: 0.3416213416213416 and parameters: {'C': 2.4737760834140766e-05}. Best is trial 31 with value: 0.9018304942162225.\u001b[0m\n"
     ]
    },
    {
     "name": "stdout",
     "output_type": "stream",
     "text": [
      "Overall accuracy: 0.519\n",
      "\n"
     ]
    },
    {
     "name": "stderr",
     "output_type": "stream",
     "text": [
      "\u001b[32m[I 2023-05-10 18:07:56,736]\u001b[0m Trial 36 finished with value: 0.3416213416213416 and parameters: {'C': 0.00594619629166952}. Best is trial 31 with value: 0.9018304942162225.\u001b[0m\n"
     ]
    },
    {
     "name": "stdout",
     "output_type": "stream",
     "text": [
      "Overall accuracy: 0.519\n",
      "\n"
     ]
    },
    {
     "name": "stderr",
     "output_type": "stream",
     "text": [
      "\u001b[32m[I 2023-05-10 18:07:58,981]\u001b[0m Trial 37 finished with value: 0.8962188540214096 and parameters: {'C': 1.866450840987819}. Best is trial 31 with value: 0.9018304942162225.\u001b[0m\n"
     ]
    },
    {
     "name": "stdout",
     "output_type": "stream",
     "text": [
      "Overall accuracy: 0.897\n",
      "\n"
     ]
    },
    {
     "name": "stderr",
     "output_type": "stream",
     "text": [
      "\u001b[32m[I 2023-05-10 18:08:01,227]\u001b[0m Trial 38 finished with value: 0.8961814644875747 and parameters: {'C': 1.4842402715928364}. Best is trial 31 with value: 0.9018304942162225.\u001b[0m\n"
     ]
    },
    {
     "name": "stdout",
     "output_type": "stream",
     "text": [
      "Overall accuracy: 0.897\n",
      "\n"
     ]
    },
    {
     "name": "stderr",
     "output_type": "stream",
     "text": [
      "\u001b[32m[I 2023-05-10 18:08:03,938]\u001b[0m Trial 39 finished with value: 0.8876615658718916 and parameters: {'C': 365.92056562147195}. Best is trial 31 with value: 0.9018304942162225.\u001b[0m\n"
     ]
    },
    {
     "name": "stdout",
     "output_type": "stream",
     "text": [
      "Overall accuracy: 0.888\n",
      "\n"
     ]
    },
    {
     "name": "stderr",
     "output_type": "stream",
     "text": [
      "\u001b[32m[I 2023-05-10 18:08:08,168]\u001b[0m Trial 40 finished with value: 0.3630043352416924 and parameters: {'C': 0.016215405733285754}. Best is trial 31 with value: 0.9018304942162225.\u001b[0m\n"
     ]
    },
    {
     "name": "stdout",
     "output_type": "stream",
     "text": [
      "Overall accuracy: 0.528\n",
      "\n"
     ]
    },
    {
     "name": "stderr",
     "output_type": "stream",
     "text": [
      "\u001b[32m[I 2023-05-10 18:08:10,597]\u001b[0m Trial 41 finished with value: 0.8877984671928543 and parameters: {'C': 0.8284915664179486}. Best is trial 31 with value: 0.9018304942162225.\u001b[0m\n"
     ]
    },
    {
     "name": "stdout",
     "output_type": "stream",
     "text": [
      "Overall accuracy: 0.888\n",
      "\n"
     ]
    },
    {
     "name": "stderr",
     "output_type": "stream",
     "text": [
      "\u001b[32m[I 2023-05-10 18:08:12,825]\u001b[0m Trial 42 finished with value: 0.8922137719961076 and parameters: {'C': 1.1375562579698513}. Best is trial 31 with value: 0.9018304942162225.\u001b[0m\n"
     ]
    },
    {
     "name": "stdout",
     "output_type": "stream",
     "text": [
      "Overall accuracy: 0.893\n",
      "\n"
     ]
    },
    {
     "name": "stderr",
     "output_type": "stream",
     "text": [
      "\u001b[32m[I 2023-05-10 18:08:16,257]\u001b[0m Trial 43 finished with value: 0.8444028088491176 and parameters: {'C': 0.1274191789699221}. Best is trial 31 with value: 0.9018304942162225.\u001b[0m\n"
     ]
    },
    {
     "name": "stdout",
     "output_type": "stream",
     "text": [
      "Overall accuracy: 0.845\n",
      "\n"
     ]
    },
    {
     "name": "stderr",
     "output_type": "stream",
     "text": [
      "\u001b[32m[I 2023-05-10 18:08:18,600]\u001b[0m Trial 44 finished with value: 0.8939607870868114 and parameters: {'C': 9.205096512062982}. Best is trial 31 with value: 0.9018304942162225.\u001b[0m\n"
     ]
    },
    {
     "name": "stdout",
     "output_type": "stream",
     "text": [
      "Overall accuracy: 0.894\n",
      "\n"
     ]
    },
    {
     "name": "stderr",
     "output_type": "stream",
     "text": [
      "\u001b[32m[I 2023-05-10 18:08:20,909]\u001b[0m Trial 45 finished with value: 0.8970598388890327 and parameters: {'C': 2.9784821238602026}. Best is trial 31 with value: 0.9018304942162225.\u001b[0m\n"
     ]
    },
    {
     "name": "stdout",
     "output_type": "stream",
     "text": [
      "Overall accuracy: 0.897\n",
      "\n"
     ]
    },
    {
     "name": "stderr",
     "output_type": "stream",
     "text": [
      "\u001b[32m[I 2023-05-10 18:08:23,543]\u001b[0m Trial 46 finished with value: 0.8884420176415153 and parameters: {'C': 161.01566877651706}. Best is trial 31 with value: 0.9018304942162225.\u001b[0m\n"
     ]
    },
    {
     "name": "stdout",
     "output_type": "stream",
     "text": [
      "Overall accuracy: 0.889\n",
      "\n"
     ]
    },
    {
     "name": "stderr",
     "output_type": "stream",
     "text": [
      "\u001b[32m[I 2023-05-10 18:08:25,776]\u001b[0m Trial 47 finished with value: 0.8974071445557734 and parameters: {'C': 2.1793608643446896}. Best is trial 31 with value: 0.9018304942162225.\u001b[0m\n"
     ]
    },
    {
     "name": "stdout",
     "output_type": "stream",
     "text": [
      "Overall accuracy: 0.898\n",
      "\n"
     ]
    },
    {
     "name": "stderr",
     "output_type": "stream",
     "text": [
      "\u001b[32m[I 2023-05-10 18:08:29,730]\u001b[0m Trial 48 finished with value: 0.7173619196011218 and parameters: {'C': 0.025123476222964732}. Best is trial 31 with value: 0.9018304942162225.\u001b[0m\n"
     ]
    },
    {
     "name": "stdout",
     "output_type": "stream",
     "text": [
      "Overall accuracy: 0.737\n",
      "\n"
     ]
    },
    {
     "name": "stderr",
     "output_type": "stream",
     "text": [
      "\u001b[32m[I 2023-05-10 18:08:32,052]\u001b[0m Trial 49 finished with value: 0.8966935944208672 and parameters: {'C': 3.7957238731561618}. Best is trial 31 with value: 0.9018304942162225.\u001b[0m\n"
     ]
    },
    {
     "name": "stdout",
     "output_type": "stream",
     "text": [
      "Overall accuracy: 0.897\n",
      "\n"
     ]
    },
    {
     "name": "stderr",
     "output_type": "stream",
     "text": [
      "\u001b[32m[I 2023-05-10 18:08:34,907]\u001b[0m Trial 50 finished with value: 0.8892382456491282 and parameters: {'C': 63.733234256497035}. Best is trial 31 with value: 0.9018304942162225.\u001b[0m\n"
     ]
    },
    {
     "name": "stdout",
     "output_type": "stream",
     "text": [
      "Overall accuracy: 0.889\n",
      "\n"
     ]
    },
    {
     "name": "stderr",
     "output_type": "stream",
     "text": [
      "\u001b[32m[I 2023-05-10 18:08:37,167]\u001b[0m Trial 51 finished with value: 0.8967164719799365 and parameters: {'C': 3.9825048584466036}. Best is trial 31 with value: 0.9018304942162225.\u001b[0m\n"
     ]
    },
    {
     "name": "stdout",
     "output_type": "stream",
     "text": [
      "Overall accuracy: 0.897\n",
      "\n"
     ]
    },
    {
     "name": "stderr",
     "output_type": "stream",
     "text": [
      "\u001b[32m[I 2023-05-10 18:08:40,253]\u001b[0m Trial 52 finished with value: 0.8609755748921253 and parameters: {'C': 0.18168344312792095}. Best is trial 31 with value: 0.9018304942162225.\u001b[0m\n"
     ]
    },
    {
     "name": "stdout",
     "output_type": "stream",
     "text": [
      "Overall accuracy: 0.862\n",
      "\n"
     ]
    },
    {
     "name": "stderr",
     "output_type": "stream",
     "text": [
      "\u001b[32m[I 2023-05-10 18:08:42,681]\u001b[0m Trial 53 finished with value: 0.9006365870002233 and parameters: {'C': 5.1625758809295395}. Best is trial 31 with value: 0.9018304942162225.\u001b[0m\n"
     ]
    },
    {
     "name": "stdout",
     "output_type": "stream",
     "text": [
      "Overall accuracy: 0.901\n",
      "\n"
     ]
    },
    {
     "name": "stderr",
     "output_type": "stream",
     "text": [
      "\u001b[32m[I 2023-05-10 18:08:45,030]\u001b[0m Trial 54 finished with value: 0.8947566248694563 and parameters: {'C': 11.487034681771862}. Best is trial 31 with value: 0.9018304942162225.\u001b[0m\n"
     ]
    },
    {
     "name": "stdout",
     "output_type": "stream",
     "text": [
      "Overall accuracy: 0.895\n",
      "\n"
     ]
    },
    {
     "name": "stderr",
     "output_type": "stream",
     "text": [
      "\u001b[32m[I 2023-05-10 18:08:47,739]\u001b[0m Trial 55 finished with value: 0.8876615658718916 and parameters: {'C': 1148.7647867453275}. Best is trial 31 with value: 0.9018304942162225.\u001b[0m\n"
     ]
    },
    {
     "name": "stdout",
     "output_type": "stream",
     "text": [
      "Overall accuracy: 0.888\n",
      "\n"
     ]
    },
    {
     "name": "stderr",
     "output_type": "stream",
     "text": [
      "\u001b[32m[I 2023-05-10 18:08:50,597]\u001b[0m Trial 56 finished with value: 0.8876615658718916 and parameters: {'C': 1287.9384847635295}. Best is trial 31 with value: 0.9018304942162225.\u001b[0m\n"
     ]
    },
    {
     "name": "stdout",
     "output_type": "stream",
     "text": [
      "Overall accuracy: 0.888\n",
      "\n"
     ]
    },
    {
     "name": "stderr",
     "output_type": "stream",
     "text": [
      "\u001b[32m[I 2023-05-10 18:08:53,159]\u001b[0m Trial 57 finished with value: 0.8892459395330727 and parameters: {'C': 72.54880687930753}. Best is trial 31 with value: 0.9018304942162225.\u001b[0m\n"
     ]
    },
    {
     "name": "stdout",
     "output_type": "stream",
     "text": [
      "Overall accuracy: 0.889\n",
      "\n"
     ]
    },
    {
     "name": "stderr",
     "output_type": "stream",
     "text": [
      "\u001b[32m[I 2023-05-10 18:08:55,407]\u001b[0m Trial 58 finished with value: 0.9006290034046973 and parameters: {'C': 5.035694541943597}. Best is trial 31 with value: 0.9018304942162225.\u001b[0m\n"
     ]
    },
    {
     "name": "stdout",
     "output_type": "stream",
     "text": [
      "Overall accuracy: 0.901\n",
      "\n"
     ]
    },
    {
     "name": "stderr",
     "output_type": "stream",
     "text": [
      "\u001b[32m[I 2023-05-10 18:08:58,180]\u001b[0m Trial 59 finished with value: 0.888059641320966 and parameters: {'C': 42.22488425308166}. Best is trial 31 with value: 0.9018304942162225.\u001b[0m\n"
     ]
    },
    {
     "name": "stdout",
     "output_type": "stream",
     "text": [
      "Overall accuracy: 0.888\n",
      "\n"
     ]
    },
    {
     "name": "stderr",
     "output_type": "stream",
     "text": [
      "\u001b[32m[I 2023-05-10 18:09:00,878]\u001b[0m Trial 60 finished with value: 0.8876615658718916 and parameters: {'C': 10099.61705083826}. Best is trial 31 with value: 0.9018304942162225.\u001b[0m\n"
     ]
    },
    {
     "name": "stdout",
     "output_type": "stream",
     "text": [
      "Overall accuracy: 0.888\n",
      "\n"
     ]
    },
    {
     "name": "stderr",
     "output_type": "stream",
     "text": [
      "\u001b[32m[I 2023-05-10 18:09:03,200]\u001b[0m Trial 61 finished with value: 0.9026117541110974 and parameters: {'C': 5.898246724239805}. Best is trial 61 with value: 0.9026117541110974.\u001b[0m\n"
     ]
    },
    {
     "name": "stdout",
     "output_type": "stream",
     "text": [
      "Overall accuracy: 0.903\n",
      "\n"
     ]
    },
    {
     "name": "stderr",
     "output_type": "stream",
     "text": [
      "\u001b[32m[I 2023-05-10 18:09:05,593]\u001b[0m Trial 62 finished with value: 0.8978879437831393 and parameters: {'C': 7.860063973658537}. Best is trial 61 with value: 0.9026117541110974.\u001b[0m\n"
     ]
    },
    {
     "name": "stdout",
     "output_type": "stream",
     "text": [
      "Overall accuracy: 0.898\n",
      "\n"
     ]
    },
    {
     "name": "stderr",
     "output_type": "stream",
     "text": [
      "\u001b[32m[I 2023-05-10 18:09:08,663]\u001b[0m Trial 63 finished with value: 0.8621535671395341 and parameters: {'C': 0.1875755819997982}. Best is trial 61 with value: 0.9026117541110974.\u001b[0m\n"
     ]
    },
    {
     "name": "stdout",
     "output_type": "stream",
     "text": [
      "Overall accuracy: 0.863\n",
      "\n"
     ]
    },
    {
     "name": "stderr",
     "output_type": "stream",
     "text": [
      "\u001b[32m[I 2023-05-10 18:09:11,555]\u001b[0m Trial 64 finished with value: 0.8896206570777947 and parameters: {'C': 25.72189710671061}. Best is trial 61 with value: 0.9026117541110974.\u001b[0m\n"
     ]
    },
    {
     "name": "stdout",
     "output_type": "stream",
     "text": [
      "Overall accuracy: 0.890\n",
      "\n"
     ]
    },
    {
     "name": "stderr",
     "output_type": "stream",
     "text": [
      "\u001b[32m[I 2023-05-10 18:09:14,344]\u001b[0m Trial 65 finished with value: 0.8794830506669851 and parameters: {'C': 0.4139474858715395}. Best is trial 61 with value: 0.9026117541110974.\u001b[0m\n"
     ]
    },
    {
     "name": "stdout",
     "output_type": "stream",
     "text": [
      "Overall accuracy: 0.880\n",
      "\n"
     ]
    },
    {
     "name": "stderr",
     "output_type": "stream",
     "text": [
      "\u001b[32m[I 2023-05-10 18:09:16,779]\u001b[0m Trial 66 finished with value: 0.8971069660324982 and parameters: {'C': 4.0599582054966925}. Best is trial 61 with value: 0.9026117541110974.\u001b[0m\n"
     ]
    },
    {
     "name": "stdout",
     "output_type": "stream",
     "text": [
      "Overall accuracy: 0.897\n",
      "\n"
     ]
    },
    {
     "name": "stderr",
     "output_type": "stream",
     "text": [
      "\u001b[32m[I 2023-05-10 18:09:19,585]\u001b[0m Trial 67 finished with value: 0.8876615658718916 and parameters: {'C': 401.7091735166321}. Best is trial 61 with value: 0.9026117541110974.\u001b[0m\n"
     ]
    },
    {
     "name": "stdout",
     "output_type": "stream",
     "text": [
      "Overall accuracy: 0.888\n",
      "\n"
     ]
    },
    {
     "name": "stderr",
     "output_type": "stream",
     "text": [
      "\u001b[32m[I 2023-05-10 18:09:21,873]\u001b[0m Trial 68 finished with value: 0.8939607870868114 and parameters: {'C': 8.864882849497528}. Best is trial 61 with value: 0.9026117541110974.\u001b[0m\n"
     ]
    },
    {
     "name": "stdout",
     "output_type": "stream",
     "text": [
      "Overall accuracy: 0.894\n",
      "\n"
     ]
    },
    {
     "name": "stderr",
     "output_type": "stream",
     "text": [
      "\u001b[32m[I 2023-05-10 18:09:24,445]\u001b[0m Trial 69 finished with value: 0.8802606691029322 and parameters: {'C': 0.4526953049412715}. Best is trial 61 with value: 0.9026117541110974.\u001b[0m\n"
     ]
    },
    {
     "name": "stdout",
     "output_type": "stream",
     "text": [
      "Overall accuracy: 0.881\n",
      "\n"
     ]
    },
    {
     "name": "stderr",
     "output_type": "stream",
     "text": [
      "\u001b[32m[I 2023-05-10 18:09:27,069]\u001b[0m Trial 70 finished with value: 0.888059641320966 and parameters: {'C': 57.02412285895957}. Best is trial 61 with value: 0.9026117541110974.\u001b[0m\n"
     ]
    },
    {
     "name": "stdout",
     "output_type": "stream",
     "text": [
      "Overall accuracy: 0.888\n",
      "\n"
     ]
    },
    {
     "name": "stderr",
     "output_type": "stream",
     "text": [
      "\u001b[32m[I 2023-05-10 18:09:29,388]\u001b[0m Trial 71 finished with value: 0.901439862031316 and parameters: {'C': 7.190658563098944}. Best is trial 61 with value: 0.9026117541110974.\u001b[0m\n"
     ]
    },
    {
     "name": "stdout",
     "output_type": "stream",
     "text": [
      "Overall accuracy: 0.902\n",
      "\n"
     ]
    },
    {
     "name": "stderr",
     "output_type": "stream",
     "text": [
      "\u001b[32m[I 2023-05-10 18:09:31,710]\u001b[0m Trial 72 finished with value: 0.8939607870868114 and parameters: {'C': 8.73298917802239}. Best is trial 61 with value: 0.9026117541110974.\u001b[0m\n"
     ]
    },
    {
     "name": "stdout",
     "output_type": "stream",
     "text": [
      "Overall accuracy: 0.894\n",
      "\n"
     ]
    },
    {
     "name": "stderr",
     "output_type": "stream",
     "text": [
      "\u001b[32m[I 2023-05-10 18:09:34,928]\u001b[0m Trial 73 finished with value: 0.8420937548142149 and parameters: {'C': 0.1208837609326676}. Best is trial 61 with value: 0.9026117541110974.\u001b[0m\n"
     ]
    },
    {
     "name": "stdout",
     "output_type": "stream",
     "text": [
      "Overall accuracy: 0.843\n",
      "\n"
     ]
    },
    {
     "name": "stderr",
     "output_type": "stream",
     "text": [
      "\u001b[32m[I 2023-05-10 18:09:37,364]\u001b[0m Trial 74 finished with value: 0.8970917725627384 and parameters: {'C': 3.8340111163090564}. Best is trial 61 with value: 0.9026117541110974.\u001b[0m\n"
     ]
    },
    {
     "name": "stdout",
     "output_type": "stream",
     "text": [
      "Overall accuracy: 0.897\n",
      "\n"
     ]
    },
    {
     "name": "stderr",
     "output_type": "stream",
     "text": [
      "\u001b[32m[I 2023-05-10 18:09:39,931]\u001b[0m Trial 75 finished with value: 0.8794703104831494 and parameters: {'C': 0.4119597791568235}. Best is trial 61 with value: 0.9026117541110974.\u001b[0m\n"
     ]
    },
    {
     "name": "stdout",
     "output_type": "stream",
     "text": [
      "Overall accuracy: 0.880\n",
      "\n"
     ]
    },
    {
     "name": "stderr",
     "output_type": "stream",
     "text": [
      "\u001b[32m[I 2023-05-10 18:09:42,793]\u001b[0m Trial 76 finished with value: 0.888059641320966 and parameters: {'C': 120.31976802590624}. Best is trial 61 with value: 0.9026117541110974.\u001b[0m\n"
     ]
    },
    {
     "name": "stdout",
     "output_type": "stream",
     "text": [
      "Overall accuracy: 0.888\n",
      "\n"
     ]
    },
    {
     "name": "stderr",
     "output_type": "stream",
     "text": [
      "\u001b[32m[I 2023-05-10 18:09:45,776]\u001b[0m Trial 77 finished with value: 0.8915956001816845 and parameters: {'C': 20.752184105766215}. Best is trial 61 with value: 0.9026117541110974.\u001b[0m\n"
     ]
    },
    {
     "name": "stdout",
     "output_type": "stream",
     "text": [
      "Overall accuracy: 0.892\n",
      "\n"
     ]
    },
    {
     "name": "stderr",
     "output_type": "stream",
     "text": [
      "\u001b[32m[I 2023-05-10 18:09:49,577]\u001b[0m Trial 78 finished with value: 0.8196965852061036 and parameters: {'C': 0.06614386877594292}. Best is trial 61 with value: 0.9026117541110974.\u001b[0m\n"
     ]
    },
    {
     "name": "stdout",
     "output_type": "stream",
     "text": [
      "Overall accuracy: 0.820\n",
      "\n"
     ]
    },
    {
     "name": "stderr",
     "output_type": "stream",
     "text": [
      "\u001b[32m[I 2023-05-10 18:09:51,995]\u001b[0m Trial 79 finished with value: 0.8901801870683284 and parameters: {'C': 0.8482567384563701}. Best is trial 61 with value: 0.9026117541110974.\u001b[0m\n"
     ]
    },
    {
     "name": "stdout",
     "output_type": "stream",
     "text": [
      "Overall accuracy: 0.891\n",
      "\n"
     ]
    },
    {
     "name": "stderr",
     "output_type": "stream",
     "text": [
      "\u001b[32m[I 2023-05-10 18:09:56,076]\u001b[0m Trial 80 finished with value: 0.3416213416213416 and parameters: {'C': 0.0074810793574750485}. Best is trial 61 with value: 0.9026117541110974.\u001b[0m\n"
     ]
    },
    {
     "name": "stdout",
     "output_type": "stream",
     "text": [
      "Overall accuracy: 0.519\n",
      "\n"
     ]
    },
    {
     "name": "stderr",
     "output_type": "stream",
     "text": [
      "\u001b[32m[I 2023-05-10 18:09:58,654]\u001b[0m Trial 81 finished with value: 0.8970680157967369 and parameters: {'C': 3.3057004083686463}. Best is trial 61 with value: 0.9026117541110974.\u001b[0m\n"
     ]
    },
    {
     "name": "stdout",
     "output_type": "stream",
     "text": [
      "Overall accuracy: 0.897\n",
      "\n"
     ]
    },
    {
     "name": "stderr",
     "output_type": "stream",
     "text": [
      "\u001b[32m[I 2023-05-10 18:10:00,973]\u001b[0m Trial 82 finished with value: 0.901041984129606 and parameters: {'C': 5.280969739982216}. Best is trial 61 with value: 0.9026117541110974.\u001b[0m\n"
     ]
    },
    {
     "name": "stdout",
     "output_type": "stream",
     "text": [
      "Overall accuracy: 0.901\n",
      "\n"
     ]
    },
    {
     "name": "stderr",
     "output_type": "stream",
     "text": [
      "\u001b[32m[I 2023-05-10 18:10:03,719]\u001b[0m Trial 83 finished with value: 0.8943587364284155 and parameters: {'C': 18.452976279279103}. Best is trial 61 with value: 0.9026117541110974.\u001b[0m\n"
     ]
    },
    {
     "name": "stdout",
     "output_type": "stream",
     "text": [
      "Overall accuracy: 0.895\n",
      "\n"
     ]
    },
    {
     "name": "stderr",
     "output_type": "stream",
     "text": [
      "\u001b[32m[I 2023-05-10 18:10:06,162]\u001b[0m Trial 84 finished with value: 0.8834705086636847 and parameters: {'C': 0.6635139353122709}. Best is trial 61 with value: 0.9026117541110974.\u001b[0m\n"
     ]
    },
    {
     "name": "stdout",
     "output_type": "stream",
     "text": [
      "Overall accuracy: 0.884\n",
      "\n"
     ]
    },
    {
     "name": "stderr",
     "output_type": "stream",
     "text": [
      "\u001b[32m[I 2023-05-10 18:10:08,963]\u001b[0m Trial 85 finished with value: 0.8884420176415153 and parameters: {'C': 244.3243830423264}. Best is trial 61 with value: 0.9026117541110974.\u001b[0m\n"
     ]
    },
    {
     "name": "stdout",
     "output_type": "stream",
     "text": [
      "Overall accuracy: 0.889\n",
      "\n"
     ]
    },
    {
     "name": "stderr",
     "output_type": "stream",
     "text": [
      "\u001b[32m[I 2023-05-10 18:10:11,558]\u001b[0m Trial 86 finished with value: 0.888059641320966 and parameters: {'C': 39.87264805615885}. Best is trial 61 with value: 0.9026117541110974.\u001b[0m\n"
     ]
    },
    {
     "name": "stdout",
     "output_type": "stream",
     "text": [
      "Overall accuracy: 0.888\n",
      "\n"
     ]
    },
    {
     "name": "stderr",
     "output_type": "stream",
     "text": [
      "\u001b[32m[I 2023-05-10 18:10:13,912]\u001b[0m Trial 87 finished with value: 0.8998479884843522 and parameters: {'C': 4.594541686070601}. Best is trial 61 with value: 0.9026117541110974.\u001b[0m\n"
     ]
    },
    {
     "name": "stdout",
     "output_type": "stream",
     "text": [
      "Overall accuracy: 0.900\n",
      "\n"
     ]
    },
    {
     "name": "stderr",
     "output_type": "stream",
     "text": [
      "\u001b[32m[I 2023-05-10 18:10:16,249]\u001b[0m Trial 88 finished with value: 0.8965809815741336 and parameters: {'C': 1.4050280967945539}. Best is trial 61 with value: 0.9026117541110974.\u001b[0m\n"
     ]
    },
    {
     "name": "stdout",
     "output_type": "stream",
     "text": [
      "Overall accuracy: 0.897\n",
      "\n"
     ]
    },
    {
     "name": "stderr",
     "output_type": "stream",
     "text": [
      "\u001b[32m[I 2023-05-10 18:10:19,095]\u001b[0m Trial 89 finished with value: 0.888059641320966 and parameters: {'C': 113.06703685505067}. Best is trial 61 with value: 0.9026117541110974.\u001b[0m\n"
     ]
    },
    {
     "name": "stdout",
     "output_type": "stream",
     "text": [
      "Overall accuracy: 0.888\n",
      "\n"
     ]
    },
    {
     "name": "stderr",
     "output_type": "stream",
     "text": [
      "\u001b[32m[I 2023-05-10 18:10:22,984]\u001b[0m Trial 90 finished with value: 0.8137048851260036 and parameters: {'C': 0.05243041142573054}. Best is trial 61 with value: 0.9026117541110974.\u001b[0m\n"
     ]
    },
    {
     "name": "stdout",
     "output_type": "stream",
     "text": [
      "Overall accuracy: 0.814\n",
      "\n"
     ]
    },
    {
     "name": "stderr",
     "output_type": "stream",
     "text": [
      "\u001b[32m[I 2023-05-10 18:10:25,241]\u001b[0m Trial 91 finished with value: 0.901439862031316 and parameters: {'C': 6.913284602369087}. Best is trial 61 with value: 0.9026117541110974.\u001b[0m\n"
     ]
    },
    {
     "name": "stdout",
     "output_type": "stream",
     "text": [
      "Overall accuracy: 0.902\n",
      "\n"
     ]
    },
    {
     "name": "stderr",
     "output_type": "stream",
     "text": [
      "\u001b[32m[I 2023-05-10 18:10:27,641]\u001b[0m Trial 92 finished with value: 0.8939607870868114 and parameters: {'C': 9.359889902728261}. Best is trial 61 with value: 0.9026117541110974.\u001b[0m\n"
     ]
    },
    {
     "name": "stdout",
     "output_type": "stream",
     "text": [
      "Overall accuracy: 0.894\n",
      "\n"
     ]
    },
    {
     "name": "stderr",
     "output_type": "stream",
     "text": [
      "\u001b[32m[I 2023-05-10 18:10:30,429]\u001b[0m Trial 93 finished with value: 0.8751032420491183 and parameters: {'C': 0.2997274107450838}. Best is trial 61 with value: 0.9026117541110974.\u001b[0m\n"
     ]
    },
    {
     "name": "stdout",
     "output_type": "stream",
     "text": [
      "Overall accuracy: 0.876\n",
      "\n"
     ]
    },
    {
     "name": "stderr",
     "output_type": "stream",
     "text": [
      "\u001b[32m[I 2023-05-10 18:10:33,487]\u001b[0m Trial 94 finished with value: 0.8970170166814049 and parameters: {'C': 2.157645893308133}. Best is trial 61 with value: 0.9026117541110974.\u001b[0m\n"
     ]
    },
    {
     "name": "stdout",
     "output_type": "stream",
     "text": [
      "Overall accuracy: 0.897\n",
      "\n"
     ]
    },
    {
     "name": "stderr",
     "output_type": "stream",
     "text": [
      "\u001b[32m[I 2023-05-10 18:10:37,451]\u001b[0m Trial 95 finished with value: 0.8915956001816845 and parameters: {'C': 22.175678632814865}. Best is trial 61 with value: 0.9026117541110974.\u001b[0m\n"
     ]
    },
    {
     "name": "stdout",
     "output_type": "stream",
     "text": [
      "Overall accuracy: 0.892\n",
      "\n"
     ]
    },
    {
     "name": "stderr",
     "output_type": "stream",
     "text": [
      "\u001b[32m[I 2023-05-10 18:10:40,131]\u001b[0m Trial 96 finished with value: 0.8947491827218538 and parameters: {'C': 8.556711693572295}. Best is trial 61 with value: 0.9026117541110974.\u001b[0m\n"
     ]
    },
    {
     "name": "stdout",
     "output_type": "stream",
     "text": [
      "Overall accuracy: 0.895\n",
      "\n"
     ]
    },
    {
     "name": "stderr",
     "output_type": "stream",
     "text": [
      "\u001b[32m[I 2023-05-10 18:10:42,756]\u001b[0m Trial 97 finished with value: 0.8910241116562039 and parameters: {'C': 1.0773803848249175}. Best is trial 61 with value: 0.9026117541110974.\u001b[0m\n"
     ]
    },
    {
     "name": "stdout",
     "output_type": "stream",
     "text": [
      "Overall accuracy: 0.891\n",
      "\n"
     ]
    },
    {
     "name": "stderr",
     "output_type": "stream",
     "text": [
      "\u001b[32m[I 2023-05-10 18:10:46,316]\u001b[0m Trial 98 finished with value: 0.8699720997195979 and parameters: {'C': 0.2506196770774569}. Best is trial 61 with value: 0.9026117541110974.\u001b[0m\n"
     ]
    },
    {
     "name": "stdout",
     "output_type": "stream",
     "text": [
      "Overall accuracy: 0.871\n",
      "\n"
     ]
    },
    {
     "name": "stderr",
     "output_type": "stream",
     "text": [
      "\u001b[32m[I 2023-05-10 18:10:49,188]\u001b[0m Trial 99 finished with value: 0.888059641320966 and parameters: {'C': 48.08615248729993}. Best is trial 61 with value: 0.9026117541110974.\u001b[0m\n"
     ]
    },
    {
     "name": "stdout",
     "output_type": "stream",
     "text": [
      "Overall accuracy: 0.888\n",
      "\n",
      "Accuracy: 0.9026117541110974\n",
      "Best hyperparameters: {'C': 5.898246724239805}\n"
     ]
    },
    {
     "name": "stderr",
     "output_type": "stream",
     "text": [
      "\u001b[32m[I 2023-05-10 18:10:49,734]\u001b[0m A new study created in memory with name: no-name-588762d6-5f07-4fd0-95fe-a85bedad6eed\u001b[0m\n"
     ]
    },
    {
     "name": "stdout",
     "output_type": "stream",
     "text": [
      "\n",
      "\n",
      "\n",
      "Model :- LGBMClassifier, DataType :- CTD\n"
     ]
    },
    {
     "name": "stderr",
     "output_type": "stream",
     "text": [
      "\u001b[32m[I 2023-05-10 18:10:54,655]\u001b[0m Trial 0 finished with value: 0.853675096658357 and parameters: {'n_estimators': 70, 'max_depth': 27, 'num_leaves': 32}. Best is trial 0 with value: 0.853675096658357.\u001b[0m\n"
     ]
    },
    {
     "name": "stdout",
     "output_type": "stream",
     "text": [
      "Overall accuracy: 0.854\n",
      "\n"
     ]
    },
    {
     "name": "stderr",
     "output_type": "stream",
     "text": [
      "\u001b[32m[I 2023-05-10 18:11:03,433]\u001b[0m Trial 1 finished with value: 0.8667166791697924 and parameters: {'n_estimators': 222, 'max_depth': 30, 'num_leaves': 17}. Best is trial 1 with value: 0.8667166791697924.\u001b[0m\n"
     ]
    },
    {
     "name": "stdout",
     "output_type": "stream",
     "text": [
      "Overall accuracy: 0.867\n",
      "\n"
     ]
    },
    {
     "name": "stderr",
     "output_type": "stream",
     "text": [
      "\u001b[32m[I 2023-05-10 18:11:05,687]\u001b[0m Trial 2 finished with value: 0.8458112677992207 and parameters: {'n_estimators': 30, 'max_depth': 60, 'num_leaves': 27}. Best is trial 1 with value: 0.8667166791697924.\u001b[0m\n"
     ]
    },
    {
     "name": "stdout",
     "output_type": "stream",
     "text": [
      "Overall accuracy: 0.846\n",
      "\n"
     ]
    },
    {
     "name": "stderr",
     "output_type": "stream",
     "text": [
      "\u001b[32m[I 2023-05-10 18:11:27,139]\u001b[0m Trial 3 finished with value: 0.8643507030603805 and parameters: {'n_estimators': 246, 'max_depth': 22, 'num_leaves': 58}. Best is trial 1 with value: 0.8667166791697924.\u001b[0m\n"
     ]
    },
    {
     "name": "stdout",
     "output_type": "stream",
     "text": [
      "Overall accuracy: 0.865\n",
      "\n"
     ]
    },
    {
     "name": "stderr",
     "output_type": "stream",
     "text": [
      "\u001b[32m[I 2023-05-10 18:11:32,669]\u001b[0m Trial 4 finished with value: 0.8493776834685925 and parameters: {'n_estimators': 44, 'max_depth': 21, 'num_leaves': 58}. Best is trial 1 with value: 0.8667166791697924.\u001b[0m\n"
     ]
    },
    {
     "name": "stdout",
     "output_type": "stream",
     "text": [
      "Overall accuracy: 0.850\n",
      "\n"
     ]
    },
    {
     "name": "stderr",
     "output_type": "stream",
     "text": [
      "\u001b[32m[I 2023-05-10 18:11:36,573]\u001b[0m Trial 5 finished with value: 0.8517434790162063 and parameters: {'n_estimators': 50, 'max_depth': 48, 'num_leaves': 27}. Best is trial 1 with value: 0.8667166791697924.\u001b[0m\n"
     ]
    },
    {
     "name": "stdout",
     "output_type": "stream",
     "text": [
      "Overall accuracy: 0.852\n",
      "\n"
     ]
    },
    {
     "name": "stderr",
     "output_type": "stream",
     "text": [
      "\u001b[32m[I 2023-05-10 18:11:50,728]\u001b[0m Trial 6 finished with value: 0.8615742281404393 and parameters: {'n_estimators': 256, 'max_depth': 13, 'num_leaves': 24}. Best is trial 1 with value: 0.8667166791697924.\u001b[0m\n"
     ]
    },
    {
     "name": "stdout",
     "output_type": "stream",
     "text": [
      "Overall accuracy: 0.862\n",
      "\n"
     ]
    },
    {
     "name": "stderr",
     "output_type": "stream",
     "text": [
      "\u001b[32m[I 2023-05-10 18:12:02,149]\u001b[0m Trial 7 finished with value: 0.8627409360383711 and parameters: {'n_estimators': 105, 'max_depth': 56, 'num_leaves': 63}. Best is trial 1 with value: 0.8667166791697924.\u001b[0m\n"
     ]
    },
    {
     "name": "stdout",
     "output_type": "stream",
     "text": [
      "Overall accuracy: 0.863\n",
      "\n"
     ]
    },
    {
     "name": "stderr",
     "output_type": "stream",
     "text": [
      "\u001b[32m[I 2023-05-10 18:12:15,497]\u001b[0m Trial 8 finished with value: 0.8647997091019609 and parameters: {'n_estimators': 286, 'max_depth': 7, 'num_leaves': 27}. Best is trial 1 with value: 0.8667166791697924.\u001b[0m\n"
     ]
    },
    {
     "name": "stdout",
     "output_type": "stream",
     "text": [
      "Overall accuracy: 0.865\n",
      "\n"
     ]
    },
    {
     "name": "stderr",
     "output_type": "stream",
     "text": [
      "\u001b[32m[I 2023-05-10 18:12:28,754]\u001b[0m Trial 9 finished with value: 0.8632133573201619 and parameters: {'n_estimators': 165, 'max_depth': 39, 'num_leaves': 42}. Best is trial 1 with value: 0.8667166791697924.\u001b[0m\n"
     ]
    },
    {
     "name": "stdout",
     "output_type": "stream",
     "text": [
      "Overall accuracy: 0.863\n",
      "\n"
     ]
    },
    {
     "name": "stderr",
     "output_type": "stream",
     "text": [
      "\u001b[32m[I 2023-05-10 18:12:33,764]\u001b[0m Trial 10 finished with value: 0.8635514610244548 and parameters: {'n_estimators': 194, 'max_depth': 38, 'num_leaves': 10}. Best is trial 1 with value: 0.8667166791697924.\u001b[0m\n"
     ]
    },
    {
     "name": "stdout",
     "output_type": "stream",
     "text": [
      "Overall accuracy: 0.864\n",
      "\n"
     ]
    },
    {
     "name": "stderr",
     "output_type": "stream",
     "text": [
      "\u001b[32m[I 2023-05-10 18:12:36,263]\u001b[0m Trial 11 finished with value: 0.8597088486399873 and parameters: {'n_estimators': 290, 'max_depth': 2, 'num_leaves': 12}. Best is trial 1 with value: 0.8667166791697924.\u001b[0m\n"
     ]
    },
    {
     "name": "stdout",
     "output_type": "stream",
     "text": [
      "Overall accuracy: 0.860\n",
      "\n"
     ]
    },
    {
     "name": "stderr",
     "output_type": "stream",
     "text": [
      "\u001b[32m[I 2023-05-10 18:12:41,369]\u001b[0m Trial 12 finished with value: 0.8603855785073959 and parameters: {'n_estimators': 217, 'max_depth': 4, 'num_leaves': 18}. Best is trial 1 with value: 0.8667166791697924.\u001b[0m\n"
     ]
    },
    {
     "name": "stdout",
     "output_type": "stream",
     "text": [
      "Overall accuracy: 0.861\n",
      "\n"
     ]
    },
    {
     "name": "stderr",
     "output_type": "stream",
     "text": [
      "\u001b[32m[I 2023-05-10 18:13:00,063]\u001b[0m Trial 13 finished with value: 0.8671553354953734 and parameters: {'n_estimators': 275, 'max_depth': 14, 'num_leaves': 38}. Best is trial 13 with value: 0.8671553354953734.\u001b[0m\n"
     ]
    },
    {
     "name": "stdout",
     "output_type": "stream",
     "text": [
      "Overall accuracy: 0.867\n",
      "\n"
     ]
    },
    {
     "name": "stderr",
     "output_type": "stream",
     "text": [
      "\u001b[32m[I 2023-05-10 18:13:12,708]\u001b[0m Trial 14 finished with value: 0.8587852285881874 and parameters: {'n_estimators': 156, 'max_depth': 15, 'num_leaves': 43}. Best is trial 13 with value: 0.8671553354953734.\u001b[0m\n"
     ]
    },
    {
     "name": "stdout",
     "output_type": "stream",
     "text": [
      "Overall accuracy: 0.859\n",
      "\n"
     ]
    },
    {
     "name": "stderr",
     "output_type": "stream",
     "text": [
      "\u001b[32m[I 2023-05-10 18:13:30,462]\u001b[0m Trial 15 finished with value: 0.8648183230610539 and parameters: {'n_estimators': 217, 'max_depth': 34, 'num_leaves': 45}. Best is trial 13 with value: 0.8671553354953734.\u001b[0m\n"
     ]
    },
    {
     "name": "stdout",
     "output_type": "stream",
     "text": [
      "Overall accuracy: 0.865\n",
      "\n"
     ]
    },
    {
     "name": "stderr",
     "output_type": "stream",
     "text": [
      "\u001b[32m[I 2023-05-10 18:13:39,581]\u001b[0m Trial 16 finished with value: 0.8579606129088335 and parameters: {'n_estimators': 115, 'max_depth': 27, 'num_leaves': 36}. Best is trial 13 with value: 0.8671553354953734.\u001b[0m\n"
     ]
    },
    {
     "name": "stdout",
     "output_type": "stream",
     "text": [
      "Overall accuracy: 0.858\n",
      "\n"
     ]
    },
    {
     "name": "stderr",
     "output_type": "stream",
     "text": [
      "\u001b[32m[I 2023-05-10 18:13:59,915]\u001b[0m Trial 17 finished with value: 0.8624442451852045 and parameters: {'n_estimators': 254, 'max_depth': 45, 'num_leaves': 50}. Best is trial 13 with value: 0.8671553354953734.\u001b[0m\n"
     ]
    },
    {
     "name": "stdout",
     "output_type": "stream",
     "text": [
      "Overall accuracy: 0.863\n",
      "\n"
     ]
    },
    {
     "name": "stderr",
     "output_type": "stream",
     "text": [
      "\u001b[32m[I 2023-05-10 18:14:08,859]\u001b[0m Trial 18 finished with value: 0.8620548295229022 and parameters: {'n_estimators': 201, 'max_depth': 14, 'num_leaves': 19}. Best is trial 13 with value: 0.8671553354953734.\u001b[0m\n"
     ]
    },
    {
     "name": "stdout",
     "output_type": "stream",
     "text": [
      "Overall accuracy: 0.862\n",
      "\n"
     ]
    },
    {
     "name": "stderr",
     "output_type": "stream",
     "text": [
      "\u001b[32m[I 2023-05-10 18:14:28,888]\u001b[0m Trial 19 finished with value: 0.8675726363419862 and parameters: {'n_estimators': 270, 'max_depth': 28, 'num_leaves': 33}. Best is trial 19 with value: 0.8675726363419862.\u001b[0m\n"
     ]
    },
    {
     "name": "stdout",
     "output_type": "stream",
     "text": [
      "Overall accuracy: 0.868\n",
      "\n"
     ]
    },
    {
     "name": "stderr",
     "output_type": "stream",
     "text": [
      "\u001b[32m[I 2023-05-10 18:14:54,701]\u001b[0m Trial 20 finished with value: 0.8636313457569262 and parameters: {'n_estimators': 288, 'max_depth': 22, 'num_leaves': 35}. Best is trial 19 with value: 0.8675726363419862.\u001b[0m\n"
     ]
    },
    {
     "name": "stdout",
     "output_type": "stream",
     "text": [
      "Overall accuracy: 0.864\n",
      "\n"
     ]
    },
    {
     "name": "stderr",
     "output_type": "stream",
     "text": [
      "\u001b[32m[I 2023-05-10 18:15:15,202]\u001b[0m Trial 21 finished with value: 0.8663763888791974 and parameters: {'n_estimators': 243, 'max_depth': 30, 'num_leaves': 49}. Best is trial 19 with value: 0.8675726363419862.\u001b[0m\n"
     ]
    },
    {
     "name": "stdout",
     "output_type": "stream",
     "text": [
      "Overall accuracy: 0.867\n",
      "\n"
     ]
    },
    {
     "name": "stderr",
     "output_type": "stream",
     "text": [
      "\u001b[32m[I 2023-05-10 18:15:24,791]\u001b[0m Trial 22 finished with value: 0.8706984840054166 and parameters: {'n_estimators': 268, 'max_depth': 10, 'num_leaves': 16}. Best is trial 22 with value: 0.8706984840054166.\u001b[0m\n"
     ]
    },
    {
     "name": "stdout",
     "output_type": "stream",
     "text": [
      "Overall accuracy: 0.871\n",
      "\n"
     ]
    },
    {
     "name": "stderr",
     "output_type": "stream",
     "text": [
      "\u001b[32m[I 2023-05-10 18:15:41,139]\u001b[0m Trial 23 finished with value: 0.8663171861481733 and parameters: {'n_estimators': 267, 'max_depth': 9, 'num_leaves': 31}. Best is trial 22 with value: 0.8706984840054166.\u001b[0m\n"
     ]
    },
    {
     "name": "stdout",
     "output_type": "stream",
     "text": [
      "Overall accuracy: 0.867\n",
      "\n"
     ]
    },
    {
     "name": "stderr",
     "output_type": "stream",
     "text": [
      "\u001b[32m[I 2023-05-10 18:16:01,840]\u001b[0m Trial 24 finished with value: 0.862035663246065 and parameters: {'n_estimators': 300, 'max_depth': 17, 'num_leaves': 39}. Best is trial 22 with value: 0.8706984840054166.\u001b[0m\n"
     ]
    },
    {
     "name": "stdout",
     "output_type": "stream",
     "text": [
      "Overall accuracy: 0.862\n",
      "\n"
     ]
    },
    {
     "name": "stderr",
     "output_type": "stream",
     "text": [
      "\u001b[32m[I 2023-05-10 18:16:10,513]\u001b[0m Trial 25 finished with value: 0.8659070528037137 and parameters: {'n_estimators': 187, 'max_depth': 9, 'num_leaves': 22}. Best is trial 22 with value: 0.8706984840054166.\u001b[0m\n"
     ]
    },
    {
     "name": "stdout",
     "output_type": "stream",
     "text": [
      "Overall accuracy: 0.866\n",
      "\n"
     ]
    },
    {
     "name": "stderr",
     "output_type": "stream",
     "text": [
      "\u001b[32m[I 2023-05-10 18:16:19,335]\u001b[0m Trial 26 finished with value: 0.8635927690513412 and parameters: {'n_estimators': 271, 'max_depth': 20, 'num_leaves': 14}. Best is trial 22 with value: 0.8706984840054166.\u001b[0m\n"
     ]
    },
    {
     "name": "stdout",
     "output_type": "stream",
     "text": [
      "Overall accuracy: 0.864\n",
      "\n"
     ]
    },
    {
     "name": "stderr",
     "output_type": "stream",
     "text": [
      "\u001b[32m[I 2023-05-10 18:16:39,747]\u001b[0m Trial 27 finished with value: 0.8616266094919802 and parameters: {'n_estimators': 235, 'max_depth': 10, 'num_leaves': 47}. Best is trial 22 with value: 0.8706984840054166.\u001b[0m\n"
     ]
    },
    {
     "name": "stdout",
     "output_type": "stream",
     "text": [
      "Overall accuracy: 0.862\n",
      "\n"
     ]
    },
    {
     "name": "stderr",
     "output_type": "stream",
     "text": [
      "\u001b[32m[I 2023-05-10 18:16:40,517]\u001b[0m Trial 28 finished with value: 0.8140453547915143 and parameters: {'n_estimators': 5, 'max_depth': 4, 'num_leaves': 53}. Best is trial 22 with value: 0.8706984840054166.\u001b[0m\n"
     ]
    },
    {
     "name": "stdout",
     "output_type": "stream",
     "text": [
      "Overall accuracy: 0.815\n",
      "\n"
     ]
    },
    {
     "name": "stderr",
     "output_type": "stream",
     "text": [
      "\u001b[32m[I 2023-05-10 18:16:50,901]\u001b[0m Trial 29 finished with value: 0.8615957007027698 and parameters: {'n_estimators': 130, 'max_depth': 24, 'num_leaves': 34}. Best is trial 22 with value: 0.8706984840054166.\u001b[0m\n"
     ]
    },
    {
     "name": "stdout",
     "output_type": "stream",
     "text": [
      "Overall accuracy: 0.862\n",
      "\n"
     ]
    },
    {
     "name": "stderr",
     "output_type": "stream",
     "text": [
      "\u001b[32m[I 2023-05-10 18:17:14,955]\u001b[0m Trial 30 finished with value: 0.8619952597225324 and parameters: {'n_estimators': 272, 'max_depth': 17, 'num_leaves': 39}. Best is trial 22 with value: 0.8706984840054166.\u001b[0m\n"
     ]
    },
    {
     "name": "stdout",
     "output_type": "stream",
     "text": [
      "Overall accuracy: 0.862\n",
      "\n"
     ]
    },
    {
     "name": "stderr",
     "output_type": "stream",
     "text": [
      "\u001b[32m[I 2023-05-10 18:17:30,862]\u001b[0m Trial 31 finished with value: 0.8691121367775876 and parameters: {'n_estimators': 239, 'max_depth': 31, 'num_leaves': 17}. Best is trial 22 with value: 0.8706984840054166.\u001b[0m\n"
     ]
    },
    {
     "name": "stdout",
     "output_type": "stream",
     "text": [
      "Overall accuracy: 0.869\n",
      "\n"
     ]
    },
    {
     "name": "stderr",
     "output_type": "stream",
     "text": [
      "\u001b[32m[I 2023-05-10 18:17:40,266]\u001b[0m Trial 32 finished with value: 0.8616061768947172 and parameters: {'n_estimators': 222, 'max_depth': 28, 'num_leaves': 14}. Best is trial 22 with value: 0.8706984840054166.\u001b[0m\n"
     ]
    },
    {
     "name": "stdout",
     "output_type": "stream",
     "text": [
      "Overall accuracy: 0.862\n",
      "\n"
     ]
    },
    {
     "name": "stderr",
     "output_type": "stream",
     "text": [
      "\u001b[32m[I 2023-05-10 18:17:59,792]\u001b[0m Trial 33 finished with value: 0.8659382523018886 and parameters: {'n_estimators': 272, 'max_depth': 34, 'num_leaves': 30}. Best is trial 22 with value: 0.8706984840054166.\u001b[0m\n"
     ]
    },
    {
     "name": "stdout",
     "output_type": "stream",
     "text": [
      "Overall accuracy: 0.866\n",
      "\n"
     ]
    },
    {
     "name": "stderr",
     "output_type": "stream",
     "text": [
      "\u001b[32m[I 2023-05-10 18:18:16,893]\u001b[0m Trial 34 finished with value: 0.8682939965760671 and parameters: {'n_estimators': 249, 'max_depth': 39, 'num_leaves': 20}. Best is trial 22 with value: 0.8706984840054166.\u001b[0m\n"
     ]
    },
    {
     "name": "stdout",
     "output_type": "stream",
     "text": [
      "Overall accuracy: 0.869\n",
      "\n"
     ]
    },
    {
     "name": "stderr",
     "output_type": "stream",
     "text": [
      "\u001b[32m[I 2023-05-10 18:18:31,824]\u001b[0m Trial 35 finished with value: 0.8691491525760102 and parameters: {'n_estimators': 242, 'max_depth': 44, 'num_leaves': 21}. Best is trial 22 with value: 0.8706984840054166.\u001b[0m\n"
     ]
    },
    {
     "name": "stdout",
     "output_type": "stream",
     "text": [
      "Overall accuracy: 0.869\n",
      "\n"
     ]
    },
    {
     "name": "stderr",
     "output_type": "stream",
     "text": [
      "\u001b[32m[I 2023-05-10 18:18:43,962]\u001b[0m Trial 36 finished with value: 0.8671457760649497 and parameters: {'n_estimators': 172, 'max_depth': 47, 'num_leaves': 22}. Best is trial 22 with value: 0.8706984840054166.\u001b[0m\n"
     ]
    },
    {
     "name": "stdout",
     "output_type": "stream",
     "text": [
      "Overall accuracy: 0.867\n",
      "\n"
     ]
    },
    {
     "name": "stderr",
     "output_type": "stream",
     "text": [
      "\u001b[32m[I 2023-05-10 18:18:54,714]\u001b[0m Trial 37 finished with value: 0.8644102697690573 and parameters: {'n_estimators': 234, 'max_depth': 54, 'num_leaves': 16}. Best is trial 22 with value: 0.8706984840054166.\u001b[0m\n"
     ]
    },
    {
     "name": "stdout",
     "output_type": "stream",
     "text": [
      "Overall accuracy: 0.865\n",
      "\n"
     ]
    },
    {
     "name": "stderr",
     "output_type": "stream",
     "text": [
      "\u001b[32m[I 2023-05-10 18:19:06,741]\u001b[0m Trial 38 finished with value: 0.8699462023844592 and parameters: {'n_estimators': 203, 'max_depth': 42, 'num_leaves': 21}. Best is trial 22 with value: 0.8706984840054166.\u001b[0m\n"
     ]
    },
    {
     "name": "stdout",
     "output_type": "stream",
     "text": [
      "Overall accuracy: 0.870\n",
      "\n"
     ]
    },
    {
     "name": "stderr",
     "output_type": "stream",
     "text": [
      "\u001b[32m[I 2023-05-10 18:19:24,266]\u001b[0m Trial 39 finished with value: 0.858062923079882 and parameters: {'n_estimators': 207, 'max_depth': 43, 'num_leaves': 25}. Best is trial 22 with value: 0.8706984840054166.\u001b[0m\n"
     ]
    },
    {
     "name": "stdout",
     "output_type": "stream",
     "text": [
      "Overall accuracy: 0.858\n",
      "\n"
     ]
    },
    {
     "name": "stderr",
     "output_type": "stream",
     "text": [
      "\u001b[32m[I 2023-05-10 18:19:40,275]\u001b[0m Trial 40 finished with value: 0.8616266094919802 and parameters: {'n_estimators': 203, 'max_depth': 52, 'num_leaves': 28}. Best is trial 22 with value: 0.8706984840054166.\u001b[0m\n"
     ]
    },
    {
     "name": "stdout",
     "output_type": "stream",
     "text": [
      "Overall accuracy: 0.862\n",
      "\n"
     ]
    },
    {
     "name": "stderr",
     "output_type": "stream",
     "text": [
      "\u001b[32m[I 2023-05-10 18:19:56,030]\u001b[0m Trial 41 finished with value: 0.8675053378729298 and parameters: {'n_estimators': 251, 'max_depth': 40, 'num_leaves': 20}. Best is trial 22 with value: 0.8706984840054166.\u001b[0m\n"
     ]
    },
    {
     "name": "stdout",
     "output_type": "stream",
     "text": [
      "Overall accuracy: 0.868\n",
      "\n"
     ]
    },
    {
     "name": "stderr",
     "output_type": "stream",
     "text": [
      "\u001b[32m[I 2023-05-10 18:20:08,712]\u001b[0m Trial 42 finished with value: 0.8655973856967183 and parameters: {'n_estimators': 235, 'max_depth': 64, 'num_leaves': 15}. Best is trial 22 with value: 0.8706984840054166.\u001b[0m\n"
     ]
    },
    {
     "name": "stdout",
     "output_type": "stream",
     "text": [
      "Overall accuracy: 0.866\n",
      "\n"
     ]
    },
    {
     "name": "stderr",
     "output_type": "stream",
     "text": [
      "\u001b[32m[I 2023-05-10 18:20:22,058]\u001b[0m Trial 43 finished with value: 0.8694819855630107 and parameters: {'n_estimators': 181, 'max_depth': 50, 'num_leaves': 22}. Best is trial 22 with value: 0.8706984840054166.\u001b[0m\n"
     ]
    },
    {
     "name": "stdout",
     "output_type": "stream",
     "text": [
      "Overall accuracy: 0.870\n",
      "\n"
     ]
    },
    {
     "name": "stderr",
     "output_type": "stream",
     "text": [
      "\u001b[32m[I 2023-05-10 18:20:29,398]\u001b[0m Trial 44 finished with value: 0.8655490208578307 and parameters: {'n_estimators': 175, 'max_depth': 50, 'num_leaves': 12}. Best is trial 22 with value: 0.8706984840054166.\u001b[0m\n"
     ]
    },
    {
     "name": "stdout",
     "output_type": "stream",
     "text": [
      "Overall accuracy: 0.866\n",
      "\n"
     ]
    },
    {
     "name": "stderr",
     "output_type": "stream",
     "text": [
      "\u001b[32m[I 2023-05-10 18:20:40,916]\u001b[0m Trial 45 finished with value: 0.8636026691032748 and parameters: {'n_estimators': 135, 'max_depth': 57, 'num_leaves': 24}. Best is trial 22 with value: 0.8706984840054166.\u001b[0m\n"
     ]
    },
    {
     "name": "stdout",
     "output_type": "stream",
     "text": [
      "Overall accuracy: 0.864\n",
      "\n"
     ]
    },
    {
     "name": "stderr",
     "output_type": "stream",
     "text": [
      "\u001b[32m[I 2023-05-10 18:20:48,282]\u001b[0m Trial 46 finished with value: 0.861974021267512 and parameters: {'n_estimators': 185, 'max_depth': 42, 'num_leaves': 10}. Best is trial 22 with value: 0.8706984840054166.\u001b[0m\n"
     ]
    },
    {
     "name": "stdout",
     "output_type": "stream",
     "text": [
      "Overall accuracy: 0.862\n",
      "\n"
     ]
    },
    {
     "name": "stderr",
     "output_type": "stream",
     "text": [
      "\u001b[32m[I 2023-05-10 18:21:02,732]\u001b[0m Trial 47 finished with value: 0.8678945644827081 and parameters: {'n_estimators': 224, 'max_depth': 49, 'num_leaves': 17}. Best is trial 22 with value: 0.8706984840054166.\u001b[0m\n"
     ]
    },
    {
     "name": "stdout",
     "output_type": "stream",
     "text": [
      "Overall accuracy: 0.868\n",
      "\n"
     ]
    },
    {
     "name": "stderr",
     "output_type": "stream",
     "text": [
      "\u001b[32m[I 2023-05-10 18:21:15,489]\u001b[0m Trial 48 finished with value: 0.8667563646153378 and parameters: {'n_estimators': 159, 'max_depth': 35, 'num_leaves': 22}. Best is trial 22 with value: 0.8706984840054166.\u001b[0m\n"
     ]
    },
    {
     "name": "stdout",
     "output_type": "stream",
     "text": [
      "Overall accuracy: 0.867\n",
      "\n"
     ]
    },
    {
     "name": "stderr",
     "output_type": "stream",
     "text": [
      "\u001b[32m[I 2023-05-10 18:21:31,909]\u001b[0m Trial 49 finished with value: 0.8588514623961048 and parameters: {'n_estimators': 209, 'max_depth': 45, 'num_leaves': 25}. Best is trial 22 with value: 0.8706984840054166.\u001b[0m\n"
     ]
    },
    {
     "name": "stdout",
     "output_type": "stream",
     "text": [
      "Overall accuracy: 0.859\n",
      "\n"
     ]
    },
    {
     "name": "stderr",
     "output_type": "stream",
     "text": [
      "\u001b[32m[I 2023-05-10 18:21:41,315]\u001b[0m Trial 50 finished with value: 0.8581037706885484 and parameters: {'n_estimators': 96, 'max_depth': 60, 'num_leaves': 29}. Best is trial 22 with value: 0.8706984840054166.\u001b[0m\n"
     ]
    },
    {
     "name": "stdout",
     "output_type": "stream",
     "text": [
      "Overall accuracy: 0.858\n",
      "\n"
     ]
    },
    {
     "name": "stderr",
     "output_type": "stream",
     "text": [
      "\u001b[32m[I 2023-05-10 18:21:59,132]\u001b[0m Trial 51 finished with value: 0.8666958348460447 and parameters: {'n_estimators': 257, 'max_depth': 37, 'num_leaves': 20}. Best is trial 22 with value: 0.8706984840054166.\u001b[0m\n"
     ]
    },
    {
     "name": "stdout",
     "output_type": "stream",
     "text": [
      "Overall accuracy: 0.867\n",
      "\n"
     ]
    },
    {
     "name": "stderr",
     "output_type": "stream",
     "text": [
      "\u001b[32m[I 2023-05-10 18:22:15,520]\u001b[0m Trial 52 finished with value: 0.8651597769258879 and parameters: {'n_estimators': 230, 'max_depth': 43, 'num_leaves': 19}. Best is trial 22 with value: 0.8706984840054166.\u001b[0m\n"
     ]
    },
    {
     "name": "stdout",
     "output_type": "stream",
     "text": [
      "Overall accuracy: 0.865\n",
      "\n"
     ]
    },
    {
     "name": "stderr",
     "output_type": "stream",
     "text": [
      "\u001b[32m[I 2023-05-10 18:22:26,211]\u001b[0m Trial 53 finished with value: 0.8655284969809058 and parameters: {'n_estimators': 246, 'max_depth': 40, 'num_leaves': 12}. Best is trial 22 with value: 0.8706984840054166.\u001b[0m\n"
     ]
    },
    {
     "name": "stdout",
     "output_type": "stream",
     "text": [
      "Overall accuracy: 0.866\n",
      "\n"
     ]
    },
    {
     "name": "stderr",
     "output_type": "stream",
     "text": [
      "\u001b[32m[I 2023-05-10 18:22:38,745]\u001b[0m Trial 54 finished with value: 0.8671161001049386 and parameters: {'n_estimators': 213, 'max_depth': 31, 'num_leaves': 17}. Best is trial 22 with value: 0.8706984840054166.\u001b[0m\n"
     ]
    },
    {
     "name": "stdout",
     "output_type": "stream",
     "text": [
      "Overall accuracy: 0.867\n",
      "\n"
     ]
    },
    {
     "name": "stderr",
     "output_type": "stream",
     "text": [
      "\u001b[32m[I 2023-05-10 18:22:52,493]\u001b[0m Trial 55 finished with value: 0.8628142452252591 and parameters: {'n_estimators': 190, 'max_depth': 46, 'num_leaves': 23}. Best is trial 22 with value: 0.8706984840054166.\u001b[0m\n"
     ]
    },
    {
     "name": "stdout",
     "output_type": "stream",
     "text": [
      "Overall accuracy: 0.863\n",
      "\n"
     ]
    },
    {
     "name": "stderr",
     "output_type": "stream",
     "text": [
      "\u001b[32m[I 2023-05-10 18:23:09,499]\u001b[0m Trial 56 finished with value: 0.8662961125800082 and parameters: {'n_estimators': 260, 'max_depth': 37, 'num_leaves': 20}. Best is trial 22 with value: 0.8706984840054166.\u001b[0m\n"
     ]
    },
    {
     "name": "stdout",
     "output_type": "stream",
     "text": [
      "Overall accuracy: 0.867\n",
      "\n"
     ]
    },
    {
     "name": "stderr",
     "output_type": "stream",
     "text": [
      "\u001b[32m[I 2023-05-10 18:23:22,241]\u001b[0m Trial 57 finished with value: 0.867515449333631 and parameters: {'n_estimators': 142, 'max_depth': 42, 'num_leaves': 27}. Best is trial 22 with value: 0.8706984840054166.\u001b[0m\n"
     ]
    },
    {
     "name": "stdout",
     "output_type": "stream",
     "text": [
      "Overall accuracy: 0.868\n",
      "\n"
     ]
    },
    {
     "name": "stderr",
     "output_type": "stream",
     "text": [
      "\u001b[32m[I 2023-05-10 18:23:35,515]\u001b[0m Trial 58 finished with value: 0.8648362613957874 and parameters: {'n_estimators': 285, 'max_depth': 52, 'num_leaves': 13}. Best is trial 22 with value: 0.8706984840054166.\u001b[0m\n"
     ]
    },
    {
     "name": "stdout",
     "output_type": "stream",
     "text": [
      "Overall accuracy: 0.865\n",
      "\n"
     ]
    },
    {
     "name": "stderr",
     "output_type": "stream",
     "text": [
      "\u001b[32m[I 2023-05-10 18:23:50,255]\u001b[0m Trial 59 finished with value: 0.8632133573201619 and parameters: {'n_estimators': 242, 'max_depth': 57, 'num_leaves': 18}. Best is trial 22 with value: 0.8706984840054166.\u001b[0m\n"
     ]
    },
    {
     "name": "stdout",
     "output_type": "stream",
     "text": [
      "Overall accuracy: 0.863\n",
      "\n"
     ]
    },
    {
     "name": "stderr",
     "output_type": "stream",
     "text": [
      "\u001b[32m[I 2023-05-10 18:24:14,171]\u001b[0m Trial 60 finished with value: 0.8683139341907793 and parameters: {'n_estimators': 299, 'max_depth': 48, 'num_leaves': 26}. Best is trial 22 with value: 0.8706984840054166.\u001b[0m\n"
     ]
    },
    {
     "name": "stdout",
     "output_type": "stream",
     "text": [
      "Overall accuracy: 0.869\n",
      "\n"
     ]
    },
    {
     "name": "stderr",
     "output_type": "stream",
     "text": [
      "\u001b[32m[I 2023-05-10 18:24:38,109]\u001b[0m Trial 61 finished with value: 0.8683139341907793 and parameters: {'n_estimators': 299, 'max_depth': 50, 'num_leaves': 26}. Best is trial 22 with value: 0.8706984840054166.\u001b[0m\n"
     ]
    },
    {
     "name": "stdout",
     "output_type": "stream",
     "text": [
      "Overall accuracy: 0.869\n",
      "\n"
     ]
    },
    {
     "name": "stderr",
     "output_type": "stream",
     "text": [
      "\u001b[32m[I 2023-05-10 18:25:01,577]\u001b[0m Trial 62 finished with value: 0.8683332123713694 and parameters: {'n_estimators': 290, 'max_depth': 50, 'num_leaves': 24}. Best is trial 22 with value: 0.8706984840054166.\u001b[0m\n"
     ]
    },
    {
     "name": "stdout",
     "output_type": "stream",
     "text": [
      "Overall accuracy: 0.869\n",
      "\n"
     ]
    },
    {
     "name": "stderr",
     "output_type": "stream",
     "text": [
      "\u001b[32m[I 2023-05-10 18:25:24,328]\u001b[0m Trial 63 finished with value: 0.8699374106930222 and parameters: {'n_estimators': 283, 'max_depth': 52, 'num_leaves': 23}. Best is trial 22 with value: 0.8706984840054166.\u001b[0m\n"
     ]
    },
    {
     "name": "stdout",
     "output_type": "stream",
     "text": [
      "Overall accuracy: 0.870\n",
      "\n"
     ]
    },
    {
     "name": "stderr",
     "output_type": "stream",
     "text": [
      "\u001b[32m[I 2023-05-10 18:25:43,781]\u001b[0m Trial 64 finished with value: 0.8730990217205936 and parameters: {'n_estimators': 283, 'max_depth': 54, 'num_leaves': 22}. Best is trial 64 with value: 0.8730990217205936.\u001b[0m\n"
     ]
    },
    {
     "name": "stdout",
     "output_type": "stream",
     "text": [
      "Overall accuracy: 0.873\n",
      "\n"
     ]
    },
    {
     "name": "stderr",
     "output_type": "stream",
     "text": [
      "\u001b[32m[I 2023-05-10 18:26:03,446]\u001b[0m Trial 65 finished with value: 0.8730904431610701 and parameters: {'n_estimators': 280, 'max_depth': 60, 'num_leaves': 22}. Best is trial 64 with value: 0.8730990217205936.\u001b[0m\n"
     ]
    },
    {
     "name": "stdout",
     "output_type": "stream",
     "text": [
      "Overall accuracy: 0.873\n",
      "\n"
     ]
    },
    {
     "name": "stderr",
     "output_type": "stream",
     "text": [
      "\u001b[32m[I 2023-05-10 18:26:21,447]\u001b[0m Trial 66 finished with value: 0.8730904431610701 and parameters: {'n_estimators': 280, 'max_depth': 63, 'num_leaves': 22}. Best is trial 64 with value: 0.8730990217205936.\u001b[0m\n"
     ]
    },
    {
     "name": "stdout",
     "output_type": "stream",
     "text": [
      "Overall accuracy: 0.873\n",
      "\n"
     ]
    },
    {
     "name": "stderr",
     "output_type": "stream",
     "text": [
      "\u001b[32m[I 2023-05-10 18:26:36,286]\u001b[0m Trial 67 finished with value: 0.8671919123329637 and parameters: {'n_estimators': 281, 'max_depth': 62, 'num_leaves': 15}. Best is trial 64 with value: 0.8730990217205936.\u001b[0m\n"
     ]
    },
    {
     "name": "stdout",
     "output_type": "stream",
     "text": [
      "Overall accuracy: 0.867\n",
      "\n"
     ]
    },
    {
     "name": "stderr",
     "output_type": "stream",
     "text": [
      "\u001b[32m[I 2023-05-10 18:27:03,286]\u001b[0m Trial 68 finished with value: 0.8607854773036325 and parameters: {'n_estimators': 265, 'max_depth': 59, 'num_leaves': 32}. Best is trial 64 with value: 0.8730990217205936.\u001b[0m\n"
     ]
    },
    {
     "name": "stdout",
     "output_type": "stream",
     "text": [
      "Overall accuracy: 0.861\n",
      "\n"
     ]
    },
    {
     "name": "stderr",
     "output_type": "stream",
     "text": [
      "\u001b[32m[I 2023-05-10 18:27:24,203]\u001b[0m Trial 69 finished with value: 0.8719124052327771 and parameters: {'n_estimators': 289, 'max_depth': 55, 'num_leaves': 22}. Best is trial 64 with value: 0.8730990217205936.\u001b[0m\n"
     ]
    },
    {
     "name": "stdout",
     "output_type": "stream",
     "text": [
      "Overall accuracy: 0.872\n",
      "\n"
     ]
    },
    {
     "name": "stderr",
     "output_type": "stream",
     "text": [
      "\u001b[32m[I 2023-05-10 18:27:47,811]\u001b[0m Trial 70 finished with value: 0.8695564480184301 and parameters: {'n_estimators': 279, 'max_depth': 54, 'num_leaves': 29}. Best is trial 64 with value: 0.8730990217205936.\u001b[0m\n"
     ]
    },
    {
     "name": "stdout",
     "output_type": "stream",
     "text": [
      "Overall accuracy: 0.870\n",
      "\n"
     ]
    },
    {
     "name": "stderr",
     "output_type": "stream",
     "text": [
      "\u001b[32m[I 2023-05-10 18:28:11,656]\u001b[0m Trial 71 finished with value: 0.8647997091019609 and parameters: {'n_estimators': 279, 'max_depth': 53, 'num_leaves': 28}. Best is trial 64 with value: 0.8730990217205936.\u001b[0m\n"
     ]
    },
    {
     "name": "stdout",
     "output_type": "stream",
     "text": [
      "Overall accuracy: 0.865\n",
      "\n"
     ]
    },
    {
     "name": "stderr",
     "output_type": "stream",
     "text": [
      "\u001b[32m[I 2023-05-10 18:28:32,971]\u001b[0m Trial 72 finished with value: 0.8687594798231223 and parameters: {'n_estimators': 291, 'max_depth': 55, 'num_leaves': 23}. Best is trial 64 with value: 0.8730990217205936.\u001b[0m\n"
     ]
    },
    {
     "name": "stdout",
     "output_type": "stream",
     "text": [
      "Overall accuracy: 0.869\n",
      "\n"
     ]
    },
    {
     "name": "stderr",
     "output_type": "stream",
     "text": [
      "\u001b[32m[I 2023-05-10 18:29:08,041]\u001b[0m Trial 73 finished with value: 0.8612851537114481 and parameters: {'n_estimators': 278, 'max_depth': 59, 'num_leaves': 63}. Best is trial 64 with value: 0.8730990217205936.\u001b[0m\n"
     ]
    },
    {
     "name": "stdout",
     "output_type": "stream",
     "text": [
      "Overall accuracy: 0.862\n",
      "\n"
     ]
    },
    {
     "name": "stderr",
     "output_type": "stream",
     "text": [
      "\u001b[32m[I 2023-05-10 18:29:33,319]\u001b[0m Trial 74 finished with value: 0.8659483162421107 and parameters: {'n_estimators': 262, 'max_depth': 62, 'num_leaves': 30}. Best is trial 64 with value: 0.8730990217205936.\u001b[0m\n"
     ]
    },
    {
     "name": "stdout",
     "output_type": "stream",
     "text": [
      "Overall accuracy: 0.866\n",
      "\n"
     ]
    },
    {
     "name": "stderr",
     "output_type": "stream",
     "text": [
      "\u001b[32m[I 2023-05-10 18:29:51,554]\u001b[0m Trial 75 finished with value: 0.8628142452252591 and parameters: {'n_estimators': 292, 'max_depth': 64, 'num_leaves': 18}. Best is trial 64 with value: 0.8730990217205936.\u001b[0m\n"
     ]
    },
    {
     "name": "stdout",
     "output_type": "stream",
     "text": [
      "Overall accuracy: 0.863\n",
      "\n"
     ]
    },
    {
     "name": "stderr",
     "output_type": "stream",
     "text": [
      "\u001b[32m[I 2023-05-10 18:30:13,417]\u001b[0m Trial 76 finished with value: 0.8624249616851196 and parameters: {'n_estimators': 273, 'max_depth': 56, 'num_leaves': 25}. Best is trial 64 with value: 0.8730990217205936.\u001b[0m\n"
     ]
    },
    {
     "name": "stdout",
     "output_type": "stream",
     "text": [
      "Overall accuracy: 0.863\n",
      "\n"
     ]
    },
    {
     "name": "stderr",
     "output_type": "stream",
     "text": [
      "\u001b[32m[I 2023-05-10 18:30:31,046]\u001b[0m Trial 77 finished with value: 0.8710786008381719 and parameters: {'n_estimators': 283, 'max_depth': 61, 'num_leaves': 21}. Best is trial 64 with value: 0.8730990217205936.\u001b[0m\n"
     ]
    },
    {
     "name": "stdout",
     "output_type": "stream",
     "text": [
      "Overall accuracy: 0.871\n",
      "\n"
     ]
    },
    {
     "name": "stderr",
     "output_type": "stream",
     "text": [
      "\u001b[32m[I 2023-05-10 18:30:48,798]\u001b[0m Trial 78 finished with value: 0.8714960749091919 and parameters: {'n_estimators': 265, 'max_depth': 61, 'num_leaves': 21}. Best is trial 64 with value: 0.8730990217205936.\u001b[0m\n"
     ]
    },
    {
     "name": "stdout",
     "output_type": "stream",
     "text": [
      "Overall accuracy: 0.872\n",
      "\n"
     ]
    },
    {
     "name": "stderr",
     "output_type": "stream",
     "text": [
      "\u001b[32m[I 2023-05-10 18:31:20,246]\u001b[0m Trial 79 finished with value: 0.8639615861608421 and parameters: {'n_estimators': 256, 'max_depth': 61, 'num_leaves': 59}. Best is trial 64 with value: 0.8730990217205936.\u001b[0m\n"
     ]
    },
    {
     "name": "stdout",
     "output_type": "stream",
     "text": [
      "Overall accuracy: 0.864\n",
      "\n"
     ]
    },
    {
     "name": "stderr",
     "output_type": "stream",
     "text": [
      "\u001b[32m[I 2023-05-10 18:31:37,034]\u001b[0m Trial 80 finished with value: 0.8651697312588401 and parameters: {'n_estimators': 266, 'max_depth': 58, 'num_leaves': 19}. Best is trial 64 with value: 0.8730990217205936.\u001b[0m\n"
     ]
    },
    {
     "name": "stdout",
     "output_type": "stream",
     "text": [
      "Overall accuracy: 0.865\n",
      "\n"
     ]
    },
    {
     "name": "stderr",
     "output_type": "stream",
     "text": [
      "\u001b[32m[I 2023-05-10 18:31:57,880]\u001b[0m Trial 81 finished with value: 0.8710690024061896 and parameters: {'n_estimators': 285, 'max_depth': 63, 'num_leaves': 21}. Best is trial 64 with value: 0.8730990217205936.\u001b[0m\n"
     ]
    },
    {
     "name": "stdout",
     "output_type": "stream",
     "text": [
      "Overall accuracy: 0.871\n",
      "\n"
     ]
    },
    {
     "name": "stderr",
     "output_type": "stream",
     "text": [
      "\u001b[32m[I 2023-05-10 18:32:18,428]\u001b[0m Trial 82 finished with value: 0.8710690024061896 and parameters: {'n_estimators': 293, 'max_depth': 63, 'num_leaves': 21}. Best is trial 64 with value: 0.8730990217205936.\u001b[0m\n"
     ]
    },
    {
     "name": "stdout",
     "output_type": "stream",
     "text": [
      "Overall accuracy: 0.871\n",
      "\n"
     ]
    },
    {
     "name": "stderr",
     "output_type": "stream",
     "text": [
      "\u001b[32m[I 2023-05-10 18:32:40,214]\u001b[0m Trial 83 finished with value: 0.8636026691032748 and parameters: {'n_estimators': 296, 'max_depth': 63, 'num_leaves': 16}. Best is trial 64 with value: 0.8730990217205936.\u001b[0m\n"
     ]
    },
    {
     "name": "stdout",
     "output_type": "stream",
     "text": [
      "Overall accuracy: 0.864\n",
      "\n"
     ]
    },
    {
     "name": "stderr",
     "output_type": "stream",
     "text": [
      "\u001b[32m[I 2023-05-10 18:32:59,318]\u001b[0m Trial 84 finished with value: 0.8710690024061896 and parameters: {'n_estimators': 284, 'max_depth': 61, 'num_leaves': 21}. Best is trial 64 with value: 0.8730990217205936.\u001b[0m\n"
     ]
    },
    {
     "name": "stdout",
     "output_type": "stream",
     "text": [
      "Overall accuracy: 0.871\n",
      "\n"
     ]
    },
    {
     "name": "stderr",
     "output_type": "stream",
     "text": [
      "\u001b[32m[I 2023-05-10 18:33:17,850]\u001b[0m Trial 85 finished with value: 0.8714584419129874 and parameters: {'n_estimators': 289, 'max_depth': 61, 'num_leaves': 21}. Best is trial 64 with value: 0.8730990217205936.\u001b[0m\n"
     ]
    },
    {
     "name": "stdout",
     "output_type": "stream",
     "text": [
      "Overall accuracy: 0.872\n",
      "\n"
     ]
    },
    {
     "name": "stderr",
     "output_type": "stream",
     "text": [
      "\u001b[32m[I 2023-05-10 18:33:37,924]\u001b[0m Trial 86 finished with value: 0.8710690024061896 and parameters: {'n_estimators': 291, 'max_depth': 64, 'num_leaves': 21}. Best is trial 64 with value: 0.8730990217205936.\u001b[0m\n"
     ]
    },
    {
     "name": "stdout",
     "output_type": "stream",
     "text": [
      "Overall accuracy: 0.871\n",
      "\n"
     ]
    },
    {
     "name": "stderr",
     "output_type": "stream",
     "text": [
      "\u001b[32m[I 2023-05-10 18:33:42,637]\u001b[0m Trial 87 finished with value: 0.8470566781127806 and parameters: {'n_estimators': 58, 'max_depth': 60, 'num_leaves': 24}. Best is trial 64 with value: 0.8730990217205936.\u001b[0m\n"
     ]
    },
    {
     "name": "stdout",
     "output_type": "stream",
     "text": [
      "Overall accuracy: 0.847\n",
      "\n"
     ]
    },
    {
     "name": "stderr",
     "output_type": "stream",
     "text": [
      "\u001b[32m[I 2023-05-10 18:34:02,299]\u001b[0m Trial 88 finished with value: 0.8675635193093119 and parameters: {'n_estimators': 271, 'max_depth': 58, 'num_leaves': 26}. Best is trial 64 with value: 0.8730990217205936.\u001b[0m\n"
     ]
    },
    {
     "name": "stdout",
     "output_type": "stream",
     "text": [
      "Overall accuracy: 0.868\n",
      "\n"
     ]
    },
    {
     "name": "stderr",
     "output_type": "stream",
     "text": [
      "\u001b[32m[I 2023-05-10 18:34:18,283]\u001b[0m Trial 89 finished with value: 0.8651697312588401 and parameters: {'n_estimators': 287, 'max_depth': 62, 'num_leaves': 19}. Best is trial 64 with value: 0.8730990217205936.\u001b[0m\n"
     ]
    },
    {
     "name": "stdout",
     "output_type": "stream",
     "text": [
      "Overall accuracy: 0.865\n",
      "\n"
     ]
    },
    {
     "name": "stderr",
     "output_type": "stream",
     "text": [
      "\u001b[32m[I 2023-05-10 18:34:36,233]\u001b[0m Trial 90 finished with value: 0.8703359425279498 and parameters: {'n_estimators': 276, 'max_depth': 56, 'num_leaves': 23}. Best is trial 64 with value: 0.8730990217205936.\u001b[0m\n"
     ]
    },
    {
     "name": "stdout",
     "output_type": "stream",
     "text": [
      "Overall accuracy: 0.871\n",
      "\n"
     ]
    },
    {
     "name": "stderr",
     "output_type": "stream",
     "text": [
      "\u001b[32m[I 2023-05-10 18:34:54,194]\u001b[0m Trial 91 finished with value: 0.8706698433971161 and parameters: {'n_estimators': 286, 'max_depth': 61, 'num_leaves': 21}. Best is trial 64 with value: 0.8730990217205936.\u001b[0m\n"
     ]
    },
    {
     "name": "stdout",
     "output_type": "stream",
     "text": [
      "Overall accuracy: 0.871\n",
      "\n"
     ]
    },
    {
     "name": "stderr",
     "output_type": "stream",
     "text": [
      "\u001b[32m[I 2023-05-10 18:35:12,305]\u001b[0m Trial 92 finished with value: 0.8714486313886164 and parameters: {'n_estimators': 299, 'max_depth': 59, 'num_leaves': 21}. Best is trial 64 with value: 0.8730990217205936.\u001b[0m\n"
     ]
    },
    {
     "name": "stdout",
     "output_type": "stream",
     "text": [
      "Overall accuracy: 0.872\n",
      "\n"
     ]
    },
    {
     "name": "stderr",
     "output_type": "stream",
     "text": [
      "\u001b[32m[I 2023-05-10 18:35:29,090]\u001b[0m Trial 93 finished with value: 0.8651795168593064 and parameters: {'n_estimators': 299, 'max_depth': 59, 'num_leaves': 19}. Best is trial 64 with value: 0.8730990217205936.\u001b[0m\n"
     ]
    },
    {
     "name": "stdout",
     "output_type": "stream",
     "text": [
      "Overall accuracy: 0.865\n",
      "\n"
     ]
    },
    {
     "name": "stderr",
     "output_type": "stream",
     "text": [
      "\u001b[32m[I 2023-05-10 18:35:50,206]\u001b[0m Trial 94 finished with value: 0.8715139269270461 and parameters: {'n_estimators': 294, 'max_depth': 63, 'num_leaves': 22}. Best is trial 64 with value: 0.8730990217205936.\u001b[0m\n"
     ]
    },
    {
     "name": "stdout",
     "output_type": "stream",
     "text": [
      "Overall accuracy: 0.872\n",
      "\n"
     ]
    },
    {
     "name": "stderr",
     "output_type": "stream",
     "text": [
      "\u001b[32m[I 2023-05-10 18:36:10,067]\u001b[0m Trial 95 finished with value: 0.8691401440794391 and parameters: {'n_estimators': 264, 'max_depth': 58, 'num_leaves': 24}. Best is trial 64 with value: 0.8730990217205936.\u001b[0m\n"
     ]
    },
    {
     "name": "stdout",
     "output_type": "stream",
     "text": [
      "Overall accuracy: 0.869\n",
      "\n"
     ]
    },
    {
     "name": "stderr",
     "output_type": "stream",
     "text": [
      "\u001b[32m[I 2023-05-10 18:36:23,840]\u001b[0m Trial 96 finished with value: 0.8643812501550907 and parameters: {'n_estimators': 254, 'max_depth': 60, 'num_leaves': 18}. Best is trial 64 with value: 0.8730990217205936.\u001b[0m\n"
     ]
    },
    {
     "name": "stdout",
     "output_type": "stream",
     "text": [
      "Overall accuracy: 0.865\n",
      "\n"
     ]
    },
    {
     "name": "stderr",
     "output_type": "stream",
     "text": [
      "\u001b[32m[I 2023-05-10 18:36:40,167]\u001b[0m Trial 97 finished with value: 0.8726919518476247 and parameters: {'n_estimators': 277, 'max_depth': 56, 'num_leaves': 22}. Best is trial 64 with value: 0.8730990217205936.\u001b[0m\n"
     ]
    },
    {
     "name": "stdout",
     "output_type": "stream",
     "text": [
      "Overall accuracy: 0.873\n",
      "\n"
     ]
    },
    {
     "name": "stderr",
     "output_type": "stream",
     "text": [
      "\u001b[32m[I 2023-05-10 18:36:55,811]\u001b[0m Trial 98 finished with value: 0.8730904431610701 and parameters: {'n_estimators': 276, 'max_depth': 54, 'num_leaves': 22}. Best is trial 64 with value: 0.8730990217205936.\u001b[0m\n"
     ]
    },
    {
     "name": "stdout",
     "output_type": "stream",
     "text": [
      "Overall accuracy: 0.873\n",
      "\n"
     ]
    },
    {
     "name": "stderr",
     "output_type": "stream",
     "text": [
      "\u001b[32m[I 2023-05-10 18:37:13,900]\u001b[0m Trial 99 finished with value: 0.8679342284325166 and parameters: {'n_estimators': 275, 'max_depth': 54, 'num_leaves': 26}. Best is trial 64 with value: 0.8730990217205936.\u001b[0m\n"
     ]
    },
    {
     "name": "stdout",
     "output_type": "stream",
     "text": [
      "Overall accuracy: 0.868\n",
      "\n",
      "Accuracy: 0.8730990217205936\n",
      "Best hyperparameters: {'n_estimators': 283, 'max_depth': 54, 'num_leaves': 22}\n"
     ]
    },
    {
     "name": "stderr",
     "output_type": "stream",
     "text": [
      "\u001b[32m[I 2023-05-10 18:37:17,529]\u001b[0m A new study created in memory with name: no-name-19a8e8a6-3c3f-4f62-ab50-d86a71738661\u001b[0m\n"
     ]
    },
    {
     "name": "stdout",
     "output_type": "stream",
     "text": [
      "\n",
      "\n",
      "\n",
      "Model :- RandomForest, DataType :- PAAC\n"
     ]
    },
    {
     "name": "stderr",
     "output_type": "stream",
     "text": [
      "\u001b[32m[I 2023-05-10 18:37:28,842]\u001b[0m Trial 0 finished with value: 0.8836683478280565 and parameters: {'n_estimators': 171, 'max_depth': 30, 'criterion': 'log_loss'}. Best is trial 0 with value: 0.8836683478280565.\u001b[0m\n"
     ]
    },
    {
     "name": "stdout",
     "output_type": "stream",
     "text": [
      "Overall accuracy: 0.884\n",
      "\n"
     ]
    },
    {
     "name": "stderr",
     "output_type": "stream",
     "text": [
      "\u001b[32m[I 2023-05-10 18:37:35,821]\u001b[0m Trial 1 finished with value: 0.8797696656560502 and parameters: {'n_estimators': 125, 'max_depth': 58, 'criterion': 'gini'}. Best is trial 0 with value: 0.8836683478280565.\u001b[0m\n"
     ]
    },
    {
     "name": "stdout",
     "output_type": "stream",
     "text": [
      "Overall accuracy: 0.880\n",
      "\n"
     ]
    },
    {
     "name": "stderr",
     "output_type": "stream",
     "text": [
      "\u001b[32m[I 2023-05-10 18:37:45,827]\u001b[0m Trial 2 finished with value: 0.8777764059854538 and parameters: {'n_estimators': 190, 'max_depth': 14, 'criterion': 'gini'}. Best is trial 0 with value: 0.8836683478280565.\u001b[0m\n"
     ]
    },
    {
     "name": "stdout",
     "output_type": "stream",
     "text": [
      "Overall accuracy: 0.878\n",
      "\n"
     ]
    },
    {
     "name": "stderr",
     "output_type": "stream",
     "text": [
      "\u001b[32m[I 2023-05-10 18:37:59,902]\u001b[0m Trial 3 finished with value: 0.8789725615784556 and parameters: {'n_estimators': 272, 'max_depth': 32, 'criterion': 'gini'}. Best is trial 0 with value: 0.8836683478280565.\u001b[0m\n"
     ]
    },
    {
     "name": "stdout",
     "output_type": "stream",
     "text": [
      "Overall accuracy: 0.879\n",
      "\n"
     ]
    },
    {
     "name": "stderr",
     "output_type": "stream",
     "text": [
      "\u001b[32m[I 2023-05-10 18:38:00,331]\u001b[0m Trial 4 finished with value: 0.8524494778512999 and parameters: {'n_estimators': 8, 'max_depth': 46, 'criterion': 'gini'}. Best is trial 0 with value: 0.8836683478280565.\u001b[0m\n"
     ]
    },
    {
     "name": "stdout",
     "output_type": "stream",
     "text": [
      "Overall accuracy: 0.853\n",
      "\n"
     ]
    },
    {
     "name": "stderr",
     "output_type": "stream",
     "text": [
      "\u001b[32m[I 2023-05-10 18:38:06,659]\u001b[0m Trial 5 finished with value: 0.8782182560520864 and parameters: {'n_estimators': 95, 'max_depth': 23, 'criterion': 'entropy'}. Best is trial 0 with value: 0.8836683478280565.\u001b[0m\n"
     ]
    },
    {
     "name": "stdout",
     "output_type": "stream",
     "text": [
      "Overall accuracy: 0.878\n",
      "\n"
     ]
    },
    {
     "name": "stderr",
     "output_type": "stream",
     "text": [
      "\u001b[32m[I 2023-05-10 18:38:10,935]\u001b[0m Trial 6 finished with value: 0.8726831079881439 and parameters: {'n_estimators': 79, 'max_depth': 28, 'criterion': 'gini'}. Best is trial 0 with value: 0.8836683478280565.\u001b[0m\n"
     ]
    },
    {
     "name": "stdout",
     "output_type": "stream",
     "text": [
      "Overall accuracy: 0.873\n",
      "\n"
     ]
    },
    {
     "name": "stderr",
     "output_type": "stream",
     "text": [
      "\u001b[32m[I 2023-05-10 18:38:12,352]\u001b[0m Trial 7 finished with value: 0.8162815837266186 and parameters: {'n_estimators': 48, 'max_depth': 4, 'criterion': 'gini'}. Best is trial 0 with value: 0.8836683478280565.\u001b[0m\n"
     ]
    },
    {
     "name": "stdout",
     "output_type": "stream",
     "text": [
      "Overall accuracy: 0.816\n",
      "\n"
     ]
    },
    {
     "name": "stderr",
     "output_type": "stream",
     "text": [
      "\u001b[32m[I 2023-05-10 18:38:12,931]\u001b[0m Trial 8 finished with value: 0.8613749839651925 and parameters: {'n_estimators': 10, 'max_depth': 8, 'criterion': 'entropy'}. Best is trial 0 with value: 0.8836683478280565.\u001b[0m\n"
     ]
    },
    {
     "name": "stdout",
     "output_type": "stream",
     "text": [
      "Overall accuracy: 0.862\n",
      "\n"
     ]
    },
    {
     "name": "stderr",
     "output_type": "stream",
     "text": [
      "\u001b[32m[I 2023-05-10 18:38:23,968]\u001b[0m Trial 9 finished with value: 0.8817102226193136 and parameters: {'n_estimators': 202, 'max_depth': 51, 'criterion': 'gini'}. Best is trial 0 with value: 0.8836683478280565.\u001b[0m\n"
     ]
    },
    {
     "name": "stdout",
     "output_type": "stream",
     "text": [
      "Overall accuracy: 0.882\n",
      "\n"
     ]
    },
    {
     "name": "stderr",
     "output_type": "stream",
     "text": [
      "\u001b[32m[I 2023-05-10 18:38:43,093]\u001b[0m Trial 10 finished with value: 0.8789982328706526 and parameters: {'n_estimators': 296, 'max_depth': 43, 'criterion': 'log_loss'}. Best is trial 0 with value: 0.8836683478280565.\u001b[0m\n"
     ]
    },
    {
     "name": "stdout",
     "output_type": "stream",
     "text": [
      "Overall accuracy: 0.879\n",
      "\n"
     ]
    },
    {
     "name": "stderr",
     "output_type": "stream",
     "text": [
      "\u001b[32m[I 2023-05-10 18:38:56,520]\u001b[0m Trial 11 finished with value: 0.8813114128533723 and parameters: {'n_estimators': 201, 'max_depth': 64, 'criterion': 'log_loss'}. Best is trial 0 with value: 0.8836683478280565.\u001b[0m\n"
     ]
    },
    {
     "name": "stdout",
     "output_type": "stream",
     "text": [
      "Overall accuracy: 0.882\n",
      "\n"
     ]
    },
    {
     "name": "stderr",
     "output_type": "stream",
     "text": [
      "\u001b[32m[I 2023-05-10 18:39:09,509]\u001b[0m Trial 12 finished with value: 0.879396508097166 and parameters: {'n_estimators': 198, 'max_depth': 46, 'criterion': 'log_loss'}. Best is trial 0 with value: 0.8836683478280565.\u001b[0m\n"
     ]
    },
    {
     "name": "stdout",
     "output_type": "stream",
     "text": [
      "Overall accuracy: 0.880\n",
      "\n"
     ]
    },
    {
     "name": "stderr",
     "output_type": "stream",
     "text": [
      "\u001b[32m[I 2023-05-10 18:39:25,124]\u001b[0m Trial 13 finished with value: 0.881736418297637 and parameters: {'n_estimators': 238, 'max_depth': 40, 'criterion': 'log_loss'}. Best is trial 0 with value: 0.8836683478280565.\u001b[0m\n"
     ]
    },
    {
     "name": "stdout",
     "output_type": "stream",
     "text": [
      "Overall accuracy: 0.882\n",
      "\n"
     ]
    },
    {
     "name": "stderr",
     "output_type": "stream",
     "text": [
      "\u001b[32m[I 2023-05-10 18:39:41,478]\u001b[0m Trial 14 finished with value: 0.8825076418827913 and parameters: {'n_estimators': 251, 'max_depth': 38, 'criterion': 'log_loss'}. Best is trial 0 with value: 0.8836683478280565.\u001b[0m\n"
     ]
    },
    {
     "name": "stdout",
     "output_type": "stream",
     "text": [
      "Overall accuracy: 0.883\n",
      "\n"
     ]
    },
    {
     "name": "stderr",
     "output_type": "stream",
     "text": [
      "\u001b[32m[I 2023-05-10 18:39:50,141]\u001b[0m Trial 15 finished with value: 0.8841016899316844 and parameters: {'n_estimators': 138, 'max_depth': 20, 'criterion': 'log_loss'}. Best is trial 15 with value: 0.8841016899316844.\u001b[0m\n"
     ]
    },
    {
     "name": "stdout",
     "output_type": "stream",
     "text": [
      "Overall accuracy: 0.884\n",
      "\n"
     ]
    },
    {
     "name": "stderr",
     "output_type": "stream",
     "text": [
      "\u001b[32m[I 2023-05-10 18:39:59,703]\u001b[0m Trial 16 finished with value: 0.8813711814617413 and parameters: {'n_estimators': 165, 'max_depth': 19, 'criterion': 'log_loss'}. Best is trial 15 with value: 0.8841016899316844.\u001b[0m\n"
     ]
    },
    {
     "name": "stdout",
     "output_type": "stream",
     "text": [
      "Overall accuracy: 0.882\n",
      "\n"
     ]
    },
    {
     "name": "stderr",
     "output_type": "stream",
     "text": [
      "\u001b[32m[I 2023-05-10 18:40:08,330]\u001b[0m Trial 17 finished with value: 0.8789725615784556 and parameters: {'n_estimators': 151, 'max_depth': 14, 'criterion': 'log_loss'}. Best is trial 15 with value: 0.8841016899316844.\u001b[0m\n"
     ]
    },
    {
     "name": "stdout",
     "output_type": "stream",
     "text": [
      "Overall accuracy: 0.879\n",
      "\n"
     ]
    },
    {
     "name": "stderr",
     "output_type": "stream",
     "text": [
      "\u001b[32m[I 2023-05-10 18:40:14,972]\u001b[0m Trial 18 finished with value: 0.8793623911263306 and parameters: {'n_estimators': 119, 'max_depth': 26, 'criterion': 'log_loss'}. Best is trial 15 with value: 0.8841016899316844.\u001b[0m\n"
     ]
    },
    {
     "name": "stdout",
     "output_type": "stream",
     "text": [
      "Overall accuracy: 0.880\n",
      "\n"
     ]
    },
    {
     "name": "stderr",
     "output_type": "stream",
     "text": [
      "\u001b[32m[I 2023-05-10 18:40:23,254]\u001b[0m Trial 19 finished with value: 0.8805909478839407 and parameters: {'n_estimators': 149, 'max_depth': 34, 'criterion': 'entropy'}. Best is trial 15 with value: 0.8841016899316844.\u001b[0m\n"
     ]
    },
    {
     "name": "stdout",
     "output_type": "stream",
     "text": [
      "Overall accuracy: 0.881\n",
      "\n"
     ]
    },
    {
     "name": "stderr",
     "output_type": "stream",
     "text": [
      "\u001b[32m[I 2023-05-10 18:40:27,395]\u001b[0m Trial 20 finished with value: 0.8782182560520864 and parameters: {'n_estimators': 72, 'max_depth': 17, 'criterion': 'log_loss'}. Best is trial 15 with value: 0.8841016899316844.\u001b[0m\n"
     ]
    },
    {
     "name": "stdout",
     "output_type": "stream",
     "text": [
      "Overall accuracy: 0.878\n",
      "\n"
     ]
    },
    {
     "name": "stderr",
     "output_type": "stream",
     "text": [
      "\u001b[32m[I 2023-05-10 18:40:41,228]\u001b[0m Trial 21 finished with value: 0.881761282448202 and parameters: {'n_estimators': 245, 'max_depth': 34, 'criterion': 'log_loss'}. Best is trial 15 with value: 0.8841016899316844.\u001b[0m\n"
     ]
    },
    {
     "name": "stdout",
     "output_type": "stream",
     "text": [
      "Overall accuracy: 0.882\n",
      "\n"
     ]
    },
    {
     "name": "stderr",
     "output_type": "stream",
     "text": [
      "\u001b[32m[I 2023-05-10 18:40:55,015]\u001b[0m Trial 22 finished with value: 0.8797781669857085 and parameters: {'n_estimators': 249, 'max_depth': 36, 'criterion': 'log_loss'}. Best is trial 15 with value: 0.8841016899316844.\u001b[0m\n"
     ]
    },
    {
     "name": "stdout",
     "output_type": "stream",
     "text": [
      "Overall accuracy: 0.880\n",
      "\n"
     ]
    },
    {
     "name": "stderr",
     "output_type": "stream",
     "text": [
      "\u001b[32m[I 2023-05-10 18:41:04,595]\u001b[0m Trial 23 finished with value: 0.881736418297637 and parameters: {'n_estimators': 169, 'max_depth': 23, 'criterion': 'log_loss'}. Best is trial 15 with value: 0.8841016899316844.\u001b[0m\n"
     ]
    },
    {
     "name": "stdout",
     "output_type": "stream",
     "text": [
      "Overall accuracy: 0.882\n",
      "\n"
     ]
    },
    {
     "name": "stderr",
     "output_type": "stream",
     "text": [
      "\u001b[32m[I 2023-05-10 18:41:17,249]\u001b[0m Trial 24 finished with value: 0.8797432591250391 and parameters: {'n_estimators': 225, 'max_depth': 29, 'criterion': 'log_loss'}. Best is trial 15 with value: 0.8841016899316844.\u001b[0m\n"
     ]
    },
    {
     "name": "stdout",
     "output_type": "stream",
     "text": [
      "Overall accuracy: 0.880\n",
      "\n"
     ]
    },
    {
     "name": "stderr",
     "output_type": "stream",
     "text": [
      "\u001b[32m[I 2023-05-10 18:41:25,204]\u001b[0m Trial 25 finished with value: 0.8825248421756529 and parameters: {'n_estimators': 126, 'max_depth': 37, 'criterion': 'log_loss'}. Best is trial 15 with value: 0.8841016899316844.\u001b[0m\n"
     ]
    },
    {
     "name": "stdout",
     "output_type": "stream",
     "text": [
      "Overall accuracy: 0.883\n",
      "\n"
     ]
    },
    {
     "name": "stderr",
     "output_type": "stream",
     "text": [
      "\u001b[32m[I 2023-05-10 18:41:31,451]\u001b[0m Trial 26 finished with value: 0.8774044787509232 and parameters: {'n_estimators': 122, 'max_depth': 9, 'criterion': 'entropy'}. Best is trial 15 with value: 0.8841016899316844.\u001b[0m\n"
     ]
    },
    {
     "name": "stdout",
     "output_type": "stream",
     "text": [
      "Overall accuracy: 0.878\n",
      "\n"
     ]
    },
    {
     "name": "stderr",
     "output_type": "stream",
     "text": [
      "\u001b[32m[I 2023-05-10 18:41:37,326]\u001b[0m Trial 27 finished with value: 0.8813791264457627 and parameters: {'n_estimators': 103, 'max_depth': 52, 'criterion': 'log_loss'}. Best is trial 15 with value: 0.8841016899316844.\u001b[0m\n"
     ]
    },
    {
     "name": "stdout",
     "output_type": "stream",
     "text": [
      "Overall accuracy: 0.882\n",
      "\n"
     ]
    },
    {
     "name": "stderr",
     "output_type": "stream",
     "text": [
      "\u001b[32m[I 2023-05-10 18:41:45,488]\u001b[0m Trial 28 finished with value: 0.8777672300399573 and parameters: {'n_estimators': 144, 'max_depth': 21, 'criterion': 'log_loss'}. Best is trial 15 with value: 0.8841016899316844.\u001b[0m\n"
     ]
    },
    {
     "name": "stdout",
     "output_type": "stream",
     "text": [
      "Overall accuracy: 0.878\n",
      "\n"
     ]
    },
    {
     "name": "stderr",
     "output_type": "stream",
     "text": [
      "\u001b[32m[I 2023-05-10 18:41:55,332]\u001b[0m Trial 29 finished with value: 0.8762262807407554 and parameters: {'n_estimators': 174, 'max_depth': 30, 'criterion': 'log_loss'}. Best is trial 15 with value: 0.8841016899316844.\u001b[0m\n"
     ]
    },
    {
     "name": "stdout",
     "output_type": "stream",
     "text": [
      "Overall accuracy: 0.876\n",
      "\n"
     ]
    },
    {
     "name": "stderr",
     "output_type": "stream",
     "text": [
      "\u001b[32m[I 2023-05-10 18:42:02,926]\u001b[0m Trial 30 finished with value: 0.8806214480771202 and parameters: {'n_estimators': 132, 'max_depth': 25, 'criterion': 'entropy'}. Best is trial 15 with value: 0.8841016899316844.\u001b[0m\n"
     ]
    },
    {
     "name": "stdout",
     "output_type": "stream",
     "text": [
      "Overall accuracy: 0.881\n",
      "\n"
     ]
    },
    {
     "name": "stderr",
     "output_type": "stream",
     "text": [
      "\u001b[32m[I 2023-05-10 18:42:15,161]\u001b[0m Trial 31 finished with value: 0.8829148234162909 and parameters: {'n_estimators': 219, 'max_depth': 39, 'criterion': 'log_loss'}. Best is trial 15 with value: 0.8841016899316844.\u001b[0m\n"
     ]
    },
    {
     "name": "stdout",
     "output_type": "stream",
     "text": [
      "Overall accuracy: 0.883\n",
      "\n"
     ]
    },
    {
     "name": "stderr",
     "output_type": "stream",
     "text": [
      "\u001b[32m[I 2023-05-10 18:42:25,102]\u001b[0m Trial 32 finished with value: 0.8789637017043388 and parameters: {'n_estimators': 180, 'max_depth': 41, 'criterion': 'log_loss'}. Best is trial 15 with value: 0.8841016899316844.\u001b[0m\n"
     ]
    },
    {
     "name": "stdout",
     "output_type": "stream",
     "text": [
      "Overall accuracy: 0.879\n",
      "\n"
     ]
    },
    {
     "name": "stderr",
     "output_type": "stream",
     "text": [
      "\u001b[32m[I 2023-05-10 18:42:37,397]\u001b[0m Trial 33 finished with value: 0.8805748031264095 and parameters: {'n_estimators': 218, 'max_depth': 52, 'criterion': 'log_loss'}. Best is trial 15 with value: 0.8841016899316844.\u001b[0m\n"
     ]
    },
    {
     "name": "stdout",
     "output_type": "stream",
     "text": [
      "Overall accuracy: 0.881\n",
      "\n"
     ]
    },
    {
     "name": "stderr",
     "output_type": "stream",
     "text": [
      "\u001b[32m[I 2023-05-10 18:42:43,029]\u001b[0m Trial 34 finished with value: 0.8801681189337249 and parameters: {'n_estimators': 103, 'max_depth': 33, 'criterion': 'log_loss'}. Best is trial 15 with value: 0.8841016899316844.\u001b[0m\n"
     ]
    },
    {
     "name": "stdout",
     "output_type": "stream",
     "text": [
      "Overall accuracy: 0.880\n",
      "\n"
     ]
    },
    {
     "name": "stderr",
     "output_type": "stream",
     "text": [
      "\u001b[32m[I 2023-05-10 18:42:53,131]\u001b[0m Trial 35 finished with value: 0.87703173374613 and parameters: {'n_estimators': 185, 'max_depth': 15, 'criterion': 'log_loss'}. Best is trial 15 with value: 0.8841016899316844.\u001b[0m\n"
     ]
    },
    {
     "name": "stdout",
     "output_type": "stream",
     "text": [
      "Overall accuracy: 0.877\n",
      "\n"
     ]
    },
    {
     "name": "stderr",
     "output_type": "stream",
     "text": [
      "\u001b[32m[I 2023-05-10 18:42:59,174]\u001b[0m Trial 36 finished with value: 0.8765889839545484 and parameters: {'n_estimators': 136, 'max_depth': 45, 'criterion': 'gini'}. Best is trial 15 with value: 0.8841016899316844.\u001b[0m\n"
     ]
    },
    {
     "name": "stdout",
     "output_type": "stream",
     "text": [
      "Overall accuracy: 0.877\n",
      "\n"
     ]
    },
    {
     "name": "stderr",
     "output_type": "stream",
     "text": [
      "\u001b[32m[I 2023-05-10 18:43:11,047]\u001b[0m Trial 37 finished with value: 0.8829232481962194 and parameters: {'n_estimators': 216, 'max_depth': 37, 'criterion': 'log_loss'}. Best is trial 15 with value: 0.8841016899316844.\u001b[0m\n"
     ]
    },
    {
     "name": "stdout",
     "output_type": "stream",
     "text": [
      "Overall accuracy: 0.883\n",
      "\n"
     ]
    },
    {
     "name": "stderr",
     "output_type": "stream",
     "text": [
      "\u001b[32m[I 2023-05-10 18:43:22,552]\u001b[0m Trial 38 finished with value: 0.878201487208472 and parameters: {'n_estimators': 271, 'max_depth': 10, 'criterion': 'gini'}. Best is trial 15 with value: 0.8841016899316844.\u001b[0m\n"
     ]
    },
    {
     "name": "stdout",
     "output_type": "stream",
     "text": [
      "Overall accuracy: 0.878\n",
      "\n"
     ]
    },
    {
     "name": "stderr",
     "output_type": "stream",
     "text": [
      "\u001b[32m[I 2023-05-10 18:43:34,478]\u001b[0m Trial 39 finished with value: 0.8845082063174186 and parameters: {'n_estimators': 215, 'max_depth': 49, 'criterion': 'entropy'}. Best is trial 39 with value: 0.8845082063174186.\u001b[0m\n"
     ]
    },
    {
     "name": "stdout",
     "output_type": "stream",
     "text": [
      "Overall accuracy: 0.885\n",
      "\n"
     ]
    },
    {
     "name": "stderr",
     "output_type": "stream",
     "text": [
      "\u001b[32m[I 2023-05-10 18:43:43,019]\u001b[0m Trial 40 finished with value: 0.8797696656560502 and parameters: {'n_estimators': 155, 'max_depth': 57, 'criterion': 'entropy'}. Best is trial 39 with value: 0.8845082063174186.\u001b[0m\n"
     ]
    },
    {
     "name": "stdout",
     "output_type": "stream",
     "text": [
      "Overall accuracy: 0.880\n",
      "\n"
     ]
    },
    {
     "name": "stderr",
     "output_type": "stream",
     "text": [
      "\u001b[32m[I 2023-05-10 18:43:54,825]\u001b[0m Trial 41 finished with value: 0.879379751295131 and parameters: {'n_estimators': 219, 'max_depth': 49, 'criterion': 'entropy'}. Best is trial 39 with value: 0.8845082063174186.\u001b[0m\n"
     ]
    },
    {
     "name": "stdout",
     "output_type": "stream",
     "text": [
      "Overall accuracy: 0.880\n",
      "\n"
     ]
    },
    {
     "name": "stderr",
     "output_type": "stream",
     "text": [
      "\u001b[32m[I 2023-05-10 18:44:06,673]\u001b[0m Trial 42 finished with value: 0.8793534846178996 and parameters: {'n_estimators': 210, 'max_depth': 56, 'criterion': 'entropy'}. Best is trial 39 with value: 0.8845082063174186.\u001b[0m\n"
     ]
    },
    {
     "name": "stdout",
     "output_type": "stream",
     "text": [
      "Overall accuracy: 0.880\n",
      "\n"
     ]
    },
    {
     "name": "stderr",
     "output_type": "stream",
     "text": [
      "\u001b[32m[I 2023-05-10 18:44:17,029]\u001b[0m Trial 43 finished with value: 0.8821513733821665 and parameters: {'n_estimators': 191, 'max_depth': 42, 'criterion': 'entropy'}. Best is trial 39 with value: 0.8845082063174186.\u001b[0m\n"
     ]
    },
    {
     "name": "stdout",
     "output_type": "stream",
     "text": [
      "Overall accuracy: 0.882\n",
      "\n"
     ]
    },
    {
     "name": "stderr",
     "output_type": "stream",
     "text": [
      "\u001b[32m[I 2023-05-10 18:44:29,469]\u001b[0m Trial 44 finished with value: 0.8801145784723532 and parameters: {'n_estimators': 230, 'max_depth': 62, 'criterion': 'entropy'}. Best is trial 39 with value: 0.8845082063174186.\u001b[0m\n"
     ]
    },
    {
     "name": "stdout",
     "output_type": "stream",
     "text": [
      "Overall accuracy: 0.880\n",
      "\n"
     ]
    },
    {
     "name": "stderr",
     "output_type": "stream",
     "text": [
      "\u001b[32m[I 2023-05-10 18:44:40,873]\u001b[0m Trial 45 finished with value: 0.8805748031264095 and parameters: {'n_estimators': 266, 'max_depth': 48, 'criterion': 'gini'}. Best is trial 39 with value: 0.8845082063174186.\u001b[0m\n"
     ]
    },
    {
     "name": "stdout",
     "output_type": "stream",
     "text": [
      "Overall accuracy: 0.881\n",
      "\n"
     ]
    },
    {
     "name": "stderr",
     "output_type": "stream",
     "text": [
      "\u001b[32m[I 2023-05-10 18:44:52,194]\u001b[0m Trial 46 finished with value: 0.8802008145689779 and parameters: {'n_estimators': 207, 'max_depth': 39, 'criterion': 'log_loss'}. Best is trial 39 with value: 0.8845082063174186.\u001b[0m\n"
     ]
    },
    {
     "name": "stdout",
     "output_type": "stream",
     "text": [
      "Overall accuracy: 0.880\n",
      "\n"
     ]
    },
    {
     "name": "stderr",
     "output_type": "stream",
     "text": [
      "\u001b[32m[I 2023-05-10 18:45:06,458]\u001b[0m Trial 47 finished with value: 0.880184766214178 and parameters: {'n_estimators': 260, 'max_depth': 31, 'criterion': 'log_loss'}. Best is trial 39 with value: 0.8845082063174186.\u001b[0m\n"
     ]
    },
    {
     "name": "stdout",
     "output_type": "stream",
     "text": [
      "Overall accuracy: 0.880\n",
      "\n"
     ]
    },
    {
     "name": "stderr",
     "output_type": "stream",
     "text": [
      "\u001b[32m[I 2023-05-10 18:45:10,653]\u001b[0m Trial 48 finished with value: 0.7842933947772657 and parameters: {'n_estimators': 163, 'max_depth': 3, 'criterion': 'log_loss'}. Best is trial 39 with value: 0.8845082063174186.\u001b[0m\n"
     ]
    },
    {
     "name": "stdout",
     "output_type": "stream",
     "text": [
      "Overall accuracy: 0.784\n",
      "\n"
     ]
    },
    {
     "name": "stderr",
     "output_type": "stream",
     "text": [
      "\u001b[32m[I 2023-05-10 18:45:20,867]\u001b[0m Trial 49 finished with value: 0.8821431866515635 and parameters: {'n_estimators': 185, 'max_depth': 27, 'criterion': 'entropy'}. Best is trial 39 with value: 0.8845082063174186.\u001b[0m\n"
     ]
    },
    {
     "name": "stdout",
     "output_type": "stream",
     "text": [
      "Overall accuracy: 0.882\n",
      "\n"
     ]
    },
    {
     "name": "stderr",
     "output_type": "stream",
     "text": [
      "\u001b[32m[I 2023-05-10 18:45:33,174]\u001b[0m Trial 50 finished with value: 0.8809393533338297 and parameters: {'n_estimators': 280, 'max_depth': 43, 'criterion': 'gini'}. Best is trial 39 with value: 0.8845082063174186.\u001b[0m\n"
     ]
    },
    {
     "name": "stdout",
     "output_type": "stream",
     "text": [
      "Overall accuracy: 0.881\n",
      "\n"
     ]
    },
    {
     "name": "stderr",
     "output_type": "stream",
     "text": [
      "\u001b[32m[I 2023-05-10 18:45:38,050]\u001b[0m Trial 51 finished with value: 0.8778030160179432 and parameters: {'n_estimators': 88, 'max_depth': 37, 'criterion': 'log_loss'}. Best is trial 39 with value: 0.8845082063174186.\u001b[0m\n"
     ]
    },
    {
     "name": "stdout",
     "output_type": "stream",
     "text": [
      "Overall accuracy: 0.878\n",
      "\n"
     ]
    },
    {
     "name": "stderr",
     "output_type": "stream",
     "text": [
      "\u001b[32m[I 2023-05-10 18:45:44,389]\u001b[0m Trial 52 finished with value: 0.8829232481962194 and parameters: {'n_estimators': 115, 'max_depth': 35, 'criterion': 'log_loss'}. Best is trial 39 with value: 0.8845082063174186.\u001b[0m\n"
     ]
    },
    {
     "name": "stdout",
     "output_type": "stream",
     "text": [
      "Overall accuracy: 0.883\n",
      "\n"
     ]
    },
    {
     "name": "stderr",
     "output_type": "stream",
     "text": [
      "\u001b[32m[I 2023-05-10 18:45:47,442]\u001b[0m Trial 53 finished with value: 0.8793711466635898 and parameters: {'n_estimators': 52, 'max_depth': 32, 'criterion': 'log_loss'}. Best is trial 39 with value: 0.8845082063174186.\u001b[0m\n"
     ]
    },
    {
     "name": "stdout",
     "output_type": "stream",
     "text": [
      "Overall accuracy: 0.880\n",
      "\n"
     ]
    },
    {
     "name": "stderr",
     "output_type": "stream",
     "text": [
      "\u001b[32m[I 2023-05-10 18:45:53,741]\u001b[0m Trial 54 finished with value: 0.8824898532325389 and parameters: {'n_estimators': 112, 'max_depth': 35, 'criterion': 'log_loss'}. Best is trial 39 with value: 0.8845082063174186.\u001b[0m\n"
     ]
    },
    {
     "name": "stdout",
     "output_type": "stream",
     "text": [
      "Overall accuracy: 0.883\n",
      "\n"
     ]
    },
    {
     "name": "stderr",
     "output_type": "stream",
     "text": [
      "\u001b[32m[I 2023-05-10 18:46:04,554]\u001b[0m Trial 55 finished with value: 0.8817191025665683 and parameters: {'n_estimators': 194, 'max_depth': 24, 'criterion': 'log_loss'}. Best is trial 39 with value: 0.8845082063174186.\u001b[0m\n"
     ]
    },
    {
     "name": "stdout",
     "output_type": "stream",
     "text": [
      "Overall accuracy: 0.882\n",
      "\n"
     ]
    },
    {
     "name": "stderr",
     "output_type": "stream",
     "text": [
      "\u001b[32m[I 2023-05-10 18:46:17,443]\u001b[0m Trial 56 finished with value: 0.8805407218775722 and parameters: {'n_estimators': 236, 'max_depth': 21, 'criterion': 'log_loss'}. Best is trial 39 with value: 0.8845082063174186.\u001b[0m\n"
     ]
    },
    {
     "name": "stdout",
     "output_type": "stream",
     "text": [
      "Overall accuracy: 0.881\n",
      "\n"
     ]
    },
    {
     "name": "stderr",
     "output_type": "stream",
     "text": [
      "\u001b[32m[I 2023-05-10 18:46:21,527]\u001b[0m Trial 57 finished with value: 0.8765796419372278 and parameters: {'n_estimators': 70, 'max_depth': 39, 'criterion': 'log_loss'}. Best is trial 39 with value: 0.8845082063174186.\u001b[0m\n"
     ]
    },
    {
     "name": "stdout",
     "output_type": "stream",
     "text": [
      "Overall accuracy: 0.877\n",
      "\n"
     ]
    },
    {
     "name": "stderr",
     "output_type": "stream",
     "text": [
      "\u001b[32m[I 2023-05-10 18:46:29,326]\u001b[0m Trial 58 finished with value: 0.8766333774870171 and parameters: {'n_estimators': 141, 'max_depth': 45, 'criterion': 'log_loss'}. Best is trial 39 with value: 0.8845082063174186.\u001b[0m\n"
     ]
    },
    {
     "name": "stdout",
     "output_type": "stream",
     "text": [
      "Overall accuracy: 0.877\n",
      "\n"
     ]
    },
    {
     "name": "stderr",
     "output_type": "stream",
     "text": [
      "\u001b[32m[I 2023-05-10 18:46:41,016]\u001b[0m Trial 59 finished with value: 0.8844659267974687 and parameters: {'n_estimators': 214, 'max_depth': 30, 'criterion': 'log_loss'}. Best is trial 39 with value: 0.8845082063174186.\u001b[0m\n"
     ]
    },
    {
     "name": "stdout",
     "output_type": "stream",
     "text": [
      "Overall accuracy: 0.885\n",
      "\n"
     ]
    },
    {
     "name": "stderr",
     "output_type": "stream",
     "text": [
      "\u001b[32m[I 2023-05-10 18:46:42,365]\u001b[0m Trial 60 finished with value: 0.8717969607740446 and parameters: {'n_estimators': 24, 'max_depth': 28, 'criterion': 'log_loss'}. Best is trial 39 with value: 0.8845082063174186.\u001b[0m\n"
     ]
    },
    {
     "name": "stdout",
     "output_type": "stream",
     "text": [
      "Overall accuracy: 0.872\n",
      "\n"
     ]
    },
    {
     "name": "stderr",
     "output_type": "stream",
     "text": [
      "\u001b[32m[I 2023-05-10 18:46:54,021]\u001b[0m Trial 61 finished with value: 0.881753142240457 and parameters: {'n_estimators': 210, 'max_depth': 35, 'criterion': 'log_loss'}. Best is trial 39 with value: 0.8845082063174186.\u001b[0m\n"
     ]
    },
    {
     "name": "stdout",
     "output_type": "stream",
     "text": [
      "Overall accuracy: 0.882\n",
      "\n"
     ]
    },
    {
     "name": "stderr",
     "output_type": "stream",
     "text": [
      "\u001b[32m[I 2023-05-10 18:47:02,860]\u001b[0m Trial 62 finished with value: 0.8770146483793493 and parameters: {'n_estimators': 158, 'max_depth': 30, 'criterion': 'log_loss'}. Best is trial 39 with value: 0.8845082063174186.\u001b[0m\n"
     ]
    },
    {
     "name": "stdout",
     "output_type": "stream",
     "text": [
      "Overall accuracy: 0.877\n",
      "\n"
     ]
    },
    {
     "name": "stderr",
     "output_type": "stream",
     "text": [
      "\u001b[32m[I 2023-05-10 18:47:13,621]\u001b[0m Trial 63 finished with value: 0.8777854289188316 and parameters: {'n_estimators': 200, 'max_depth': 19, 'criterion': 'log_loss'}. Best is trial 39 with value: 0.8845082063174186.\u001b[0m\n"
     ]
    },
    {
     "name": "stdout",
     "output_type": "stream",
     "text": [
      "Overall accuracy: 0.878\n",
      "\n"
     ]
    },
    {
     "name": "stderr",
     "output_type": "stream",
     "text": [
      "\u001b[32m[I 2023-05-10 18:47:23,128]\u001b[0m Trial 64 finished with value: 0.880956486572319 and parameters: {'n_estimators': 173, 'max_depth': 12, 'criterion': 'log_loss'}. Best is trial 39 with value: 0.8845082063174186.\u001b[0m\n"
     ]
    },
    {
     "name": "stdout",
     "output_type": "stream",
     "text": [
      "Overall accuracy: 0.881\n",
      "\n"
     ]
    },
    {
     "name": "stderr",
     "output_type": "stream",
     "text": [
      "\u001b[32m[I 2023-05-10 18:47:36,188]\u001b[0m Trial 65 finished with value: 0.8805494663135898 and parameters: {'n_estimators': 240, 'max_depth': 32, 'criterion': 'log_loss'}. Best is trial 39 with value: 0.8845082063174186.\u001b[0m\n"
     ]
    },
    {
     "name": "stdout",
     "output_type": "stream",
     "text": [
      "Overall accuracy: 0.881\n",
      "\n"
     ]
    },
    {
     "name": "stderr",
     "output_type": "stream",
     "text": [
      "\u001b[32m[I 2023-05-10 18:47:48,291]\u001b[0m Trial 66 finished with value: 0.8793711466635898 and parameters: {'n_estimators': 223, 'max_depth': 54, 'criterion': 'entropy'}. Best is trial 39 with value: 0.8845082063174186.\u001b[0m\n"
     ]
    },
    {
     "name": "stdout",
     "output_type": "stream",
     "text": [
      "Overall accuracy: 0.880\n",
      "\n"
     ]
    },
    {
     "name": "stderr",
     "output_type": "stream",
     "text": [
      "\u001b[32m[I 2023-05-10 18:48:02,814]\u001b[0m Trial 67 finished with value: 0.8813791264457627 and parameters: {'n_estimators': 257, 'max_depth': 40, 'criterion': 'log_loss'}. Best is trial 39 with value: 0.8845082063174186.\u001b[0m\n"
     ]
    },
    {
     "name": "stdout",
     "output_type": "stream",
     "text": [
      "Overall accuracy: 0.882\n",
      "\n"
     ]
    },
    {
     "name": "stderr",
     "output_type": "stream",
     "text": [
      "\u001b[32m[I 2023-05-10 18:48:15,902]\u001b[0m Trial 68 finished with value: 0.880956486572319 and parameters: {'n_estimators': 231, 'max_depth': 37, 'criterion': 'log_loss'}. Best is trial 39 with value: 0.8845082063174186.\u001b[0m\n"
     ]
    },
    {
     "name": "stdout",
     "output_type": "stream",
     "text": [
      "Overall accuracy: 0.881\n",
      "\n"
     ]
    },
    {
     "name": "stderr",
     "output_type": "stream",
     "text": [
      "\u001b[32m[I 2023-05-10 18:48:20,532]\u001b[0m Trial 69 finished with value: 0.8567148388551409 and parameters: {'n_estimators': 111, 'max_depth': 6, 'criterion': 'log_loss'}. Best is trial 39 with value: 0.8845082063174186.\u001b[0m\n"
     ]
    },
    {
     "name": "stdout",
     "output_type": "stream",
     "text": [
      "Overall accuracy: 0.857\n",
      "\n"
     ]
    },
    {
     "name": "stderr",
     "output_type": "stream",
     "text": [
      "\u001b[32m[I 2023-05-10 18:48:33,176]\u001b[0m Trial 70 finished with value: 0.8797610139460226 and parameters: {'n_estimators': 286, 'max_depth': 47, 'criterion': 'gini'}. Best is trial 39 with value: 0.8845082063174186.\u001b[0m\n"
     ]
    },
    {
     "name": "stdout",
     "output_type": "stream",
     "text": [
      "Overall accuracy: 0.880\n",
      "\n"
     ]
    },
    {
     "name": "stderr",
     "output_type": "stream",
     "text": [
      "\u001b[32m[I 2023-05-10 18:48:40,294]\u001b[0m Trial 71 finished with value: 0.8824988211351847 and parameters: {'n_estimators': 132, 'max_depth': 26, 'criterion': 'log_loss'}. Best is trial 39 with value: 0.8845082063174186.\u001b[0m\n"
     ]
    },
    {
     "name": "stdout",
     "output_type": "stream",
     "text": [
      "Overall accuracy: 0.883\n",
      "\n"
     ]
    },
    {
     "name": "stderr",
     "output_type": "stream",
     "text": [
      "\u001b[32m[I 2023-05-10 18:48:47,209]\u001b[0m Trial 72 finished with value: 0.8785913836565371 and parameters: {'n_estimators': 121, 'max_depth': 33, 'criterion': 'log_loss'}. Best is trial 39 with value: 0.8845082063174186.\u001b[0m\n"
     ]
    },
    {
     "name": "stdout",
     "output_type": "stream",
     "text": [
      "Overall accuracy: 0.879\n",
      "\n"
     ]
    },
    {
     "name": "stderr",
     "output_type": "stream",
     "text": [
      "\u001b[32m[I 2023-05-10 18:48:52,159]\u001b[0m Trial 73 finished with value: 0.8738872265546271 and parameters: {'n_estimators': 89, 'max_depth': 36, 'criterion': 'log_loss'}. Best is trial 39 with value: 0.8845082063174186.\u001b[0m\n"
     ]
    },
    {
     "name": "stdout",
     "output_type": "stream",
     "text": [
      "Overall accuracy: 0.874\n",
      "\n"
     ]
    },
    {
     "name": "stderr",
     "output_type": "stream",
     "text": [
      "\u001b[32m[I 2023-05-10 18:49:00,069]\u001b[0m Trial 74 finished with value: 0.878608249980154 and parameters: {'n_estimators': 147, 'max_depth': 43, 'criterion': 'log_loss'}. Best is trial 39 with value: 0.8845082063174186.\u001b[0m\n"
     ]
    },
    {
     "name": "stdout",
     "output_type": "stream",
     "text": [
      "Overall accuracy: 0.879\n",
      "\n"
     ]
    },
    {
     "name": "stderr",
     "output_type": "stream",
     "text": [
      "\u001b[32m[I 2023-05-10 18:49:07,106]\u001b[0m Trial 75 finished with value: 0.8805665068743269 and parameters: {'n_estimators': 130, 'max_depth': 30, 'criterion': 'entropy'}. Best is trial 39 with value: 0.8845082063174186.\u001b[0m\n"
     ]
    },
    {
     "name": "stdout",
     "output_type": "stream",
     "text": [
      "Overall accuracy: 0.881\n",
      "\n"
     ]
    },
    {
     "name": "stderr",
     "output_type": "stream",
     "text": [
      "\u001b[32m[I 2023-05-10 18:49:19,030]\u001b[0m Trial 76 finished with value: 0.8848646166827986 and parameters: {'n_estimators': 214, 'max_depth': 50, 'criterion': 'log_loss'}. Best is trial 76 with value: 0.8848646166827986.\u001b[0m\n"
     ]
    },
    {
     "name": "stdout",
     "output_type": "stream",
     "text": [
      "Overall accuracy: 0.885\n",
      "\n"
     ]
    },
    {
     "name": "stderr",
     "output_type": "stream",
     "text": [
      "\u001b[32m[I 2023-05-10 18:49:30,494]\u001b[0m Trial 77 finished with value: 0.883694762224039 and parameters: {'n_estimators': 211, 'max_depth': 50, 'criterion': 'log_loss'}. Best is trial 76 with value: 0.8848646166827986.\u001b[0m\n"
     ]
    },
    {
     "name": "stdout",
     "output_type": "stream",
     "text": [
      "Overall accuracy: 0.884\n",
      "\n"
     ]
    },
    {
     "name": "stderr",
     "output_type": "stream",
     "text": [
      "\u001b[32m[I 2023-05-10 18:49:41,902]\u001b[0m Trial 78 finished with value: 0.8782422682449889 and parameters: {'n_estimators': 206, 'max_depth': 49, 'criterion': 'log_loss'}. Best is trial 76 with value: 0.8848646166827986.\u001b[0m\n"
     ]
    },
    {
     "name": "stdout",
     "output_type": "stream",
     "text": [
      "Overall accuracy: 0.878\n",
      "\n"
     ]
    },
    {
     "name": "stderr",
     "output_type": "stream",
     "text": [
      "\u001b[32m[I 2023-05-10 18:49:51,767]\u001b[0m Trial 79 finished with value: 0.8726461399914349 and parameters: {'n_estimators': 180, 'max_depth': 60, 'criterion': 'log_loss'}. Best is trial 76 with value: 0.8848646166827986.\u001b[0m\n"
     ]
    },
    {
     "name": "stdout",
     "output_type": "stream",
     "text": [
      "Overall accuracy: 0.873\n",
      "\n"
     ]
    },
    {
     "name": "stderr",
     "output_type": "stream",
     "text": [
      "\u001b[32m[I 2023-05-10 18:50:03,439]\u001b[0m Trial 80 finished with value: 0.8813548467629453 and parameters: {'n_estimators': 213, 'max_depth': 55, 'criterion': 'entropy'}. Best is trial 76 with value: 0.8848646166827986.\u001b[0m\n"
     ]
    },
    {
     "name": "stdout",
     "output_type": "stream",
     "text": [
      "Overall accuracy: 0.882\n",
      "\n"
     ]
    },
    {
     "name": "stderr",
     "output_type": "stream",
     "text": [
      "\u001b[32m[I 2023-05-10 18:50:15,076]\u001b[0m Trial 81 finished with value: 0.8809810700609293 and parameters: {'n_estimators': 217, 'max_depth': 51, 'criterion': 'log_loss'}. Best is trial 76 with value: 0.8848646166827986.\u001b[0m\n"
     ]
    },
    {
     "name": "stdout",
     "output_type": "stream",
     "text": [
      "Overall accuracy: 0.881\n",
      "\n"
     ]
    },
    {
     "name": "stderr",
     "output_type": "stream",
     "text": [
      "\u001b[32m[I 2023-05-10 18:50:28,441]\u001b[0m Trial 82 finished with value: 0.8809479944196215 and parameters: {'n_estimators': 243, 'max_depth': 44, 'criterion': 'log_loss'}. Best is trial 76 with value: 0.8848646166827986.\u001b[0m\n"
     ]
    },
    {
     "name": "stdout",
     "output_type": "stream",
     "text": [
      "Overall accuracy: 0.881\n",
      "\n"
     ]
    },
    {
     "name": "stderr",
     "output_type": "stream",
     "text": [
      "\u001b[32m[I 2023-05-10 18:50:39,278]\u001b[0m Trial 83 finished with value: 0.8797432591250391 and parameters: {'n_estimators': 196, 'max_depth': 53, 'criterion': 'log_loss'}. Best is trial 76 with value: 0.8848646166827986.\u001b[0m\n"
     ]
    },
    {
     "name": "stdout",
     "output_type": "stream",
     "text": [
      "Overall accuracy: 0.880\n",
      "\n"
     ]
    },
    {
     "name": "stderr",
     "output_type": "stream",
     "text": [
      "\u001b[32m[I 2023-05-10 18:50:51,867]\u001b[0m Trial 84 finished with value: 0.8852717823972722 and parameters: {'n_estimators': 230, 'max_depth': 49, 'criterion': 'log_loss'}. Best is trial 84 with value: 0.8852717823972722.\u001b[0m\n"
     ]
    },
    {
     "name": "stdout",
     "output_type": "stream",
     "text": [
      "Overall accuracy: 0.886\n",
      "\n"
     ]
    },
    {
     "name": "stderr",
     "output_type": "stream",
     "text": [
      "\u001b[32m[I 2023-05-10 18:51:05,850]\u001b[0m Trial 85 finished with value: 0.8801508722300802 and parameters: {'n_estimators': 251, 'max_depth': 49, 'criterion': 'log_loss'}. Best is trial 84 with value: 0.8852717823972722.\u001b[0m\n"
     ]
    },
    {
     "name": "stdout",
     "output_type": "stream",
     "text": [
      "Overall accuracy: 0.880\n",
      "\n"
     ]
    },
    {
     "name": "stderr",
     "output_type": "stream",
     "text": [
      "\u001b[32m[I 2023-05-10 18:51:17,927]\u001b[0m Trial 86 finished with value: 0.8824988211351847 and parameters: {'n_estimators': 225, 'max_depth': 47, 'criterion': 'log_loss'}. Best is trial 84 with value: 0.8852717823972722.\u001b[0m\n"
     ]
    },
    {
     "name": "stdout",
     "output_type": "stream",
     "text": [
      "Overall accuracy: 0.883\n",
      "\n"
     ]
    },
    {
     "name": "stderr",
     "output_type": "stream",
     "text": [
      "\u001b[32m[I 2023-05-10 18:51:28,169]\u001b[0m Trial 87 finished with value: 0.8813464569261347 and parameters: {'n_estimators': 235, 'max_depth': 50, 'criterion': 'gini'}. Best is trial 84 with value: 0.8852717823972722.\u001b[0m\n"
     ]
    },
    {
     "name": "stdout",
     "output_type": "stream",
     "text": [
      "Overall accuracy: 0.882\n",
      "\n"
     ]
    },
    {
     "name": "stderr",
     "output_type": "stream",
     "text": [
      "\u001b[32m[I 2023-05-10 18:51:39,604]\u001b[0m Trial 88 finished with value: 0.879396508097166 and parameters: {'n_estimators': 201, 'max_depth': 52, 'criterion': 'log_loss'}. Best is trial 84 with value: 0.8852717823972722.\u001b[0m\n"
     ]
    },
    {
     "name": "stdout",
     "output_type": "stream",
     "text": [
      "Overall accuracy: 0.880\n",
      "\n"
     ]
    },
    {
     "name": "stderr",
     "output_type": "stream",
     "text": [
      "\u001b[32m[I 2023-05-10 18:51:49,822]\u001b[0m Trial 89 finished with value: 0.8785739100225812 and parameters: {'n_estimators': 189, 'max_depth': 46, 'criterion': 'log_loss'}. Best is trial 84 with value: 0.8852717823972722.\u001b[0m\n"
     ]
    },
    {
     "name": "stdout",
     "output_type": "stream",
     "text": [
      "Overall accuracy: 0.879\n",
      "\n"
     ]
    },
    {
     "name": "stderr",
     "output_type": "stream",
     "text": [
      "\u001b[32m[I 2023-05-10 18:52:02,040]\u001b[0m Trial 90 finished with value: 0.8797522117909555 and parameters: {'n_estimators': 228, 'max_depth': 57, 'criterion': 'entropy'}. Best is trial 84 with value: 0.8852717823972722.\u001b[0m\n"
     ]
    },
    {
     "name": "stdout",
     "output_type": "stream",
     "text": [
      "Overall accuracy: 0.880\n",
      "\n"
     ]
    },
    {
     "name": "stderr",
     "output_type": "stream",
     "text": [
      "\u001b[32m[I 2023-05-10 18:52:13,423]\u001b[0m Trial 91 finished with value: 0.8841016899316844 and parameters: {'n_estimators': 216, 'max_depth': 28, 'criterion': 'log_loss'}. Best is trial 84 with value: 0.8852717823972722.\u001b[0m\n"
     ]
    },
    {
     "name": "stdout",
     "output_type": "stream",
     "text": [
      "Overall accuracy: 0.884\n",
      "\n"
     ]
    },
    {
     "name": "stderr",
     "output_type": "stream",
     "text": [
      "\u001b[32m[I 2023-05-10 18:52:24,506]\u001b[0m Trial 92 finished with value: 0.8813379186811567 and parameters: {'n_estimators': 208, 'max_depth': 23, 'criterion': 'log_loss'}. Best is trial 84 with value: 0.8852717823972722.\u001b[0m\n"
     ]
    },
    {
     "name": "stdout",
     "output_type": "stream",
     "text": [
      "Overall accuracy: 0.882\n",
      "\n"
     ]
    },
    {
     "name": "stderr",
     "output_type": "stream",
     "text": [
      "\u001b[32m[I 2023-05-10 18:52:36,369]\u001b[0m Trial 93 finished with value: 0.8789725615784556 and parameters: {'n_estimators': 217, 'max_depth': 22, 'criterion': 'log_loss'}. Best is trial 84 with value: 0.8852717823972722.\u001b[0m\n"
     ]
    },
    {
     "name": "stdout",
     "output_type": "stream",
     "text": [
      "Overall accuracy: 0.879\n",
      "\n"
     ]
    },
    {
     "name": "stderr",
     "output_type": "stream",
     "text": [
      "\u001b[32m[I 2023-05-10 18:52:45,994]\u001b[0m Trial 94 finished with value: 0.8782182560520864 and parameters: {'n_estimators': 181, 'max_depth': 28, 'criterion': 'log_loss'}. Best is trial 84 with value: 0.8852717823972722.\u001b[0m\n"
     ]
    },
    {
     "name": "stdout",
     "output_type": "stream",
     "text": [
      "Overall accuracy: 0.878\n",
      "\n"
     ]
    },
    {
     "name": "stderr",
     "output_type": "stream",
     "text": [
      "\u001b[32m[I 2023-05-10 18:52:54,845]\u001b[0m Trial 95 finished with value: 0.8813945719797462 and parameters: {'n_estimators': 163, 'max_depth': 18, 'criterion': 'log_loss'}. Best is trial 84 with value: 0.8852717823972722.\u001b[0m\n"
     ]
    },
    {
     "name": "stdout",
     "output_type": "stream",
     "text": [
      "Overall accuracy: 0.882\n",
      "\n"
     ]
    },
    {
     "name": "stderr",
     "output_type": "stream",
     "text": [
      "\u001b[32m[I 2023-05-10 18:53:08,189]\u001b[0m Trial 96 finished with value: 0.878201487208472 and parameters: {'n_estimators': 248, 'max_depth': 25, 'criterion': 'log_loss'}. Best is trial 84 with value: 0.8852717823972722.\u001b[0m\n"
     ]
    },
    {
     "name": "stdout",
     "output_type": "stream",
     "text": [
      "Overall accuracy: 0.878\n",
      "\n"
     ]
    },
    {
     "name": "stderr",
     "output_type": "stream",
     "text": [
      "\u001b[32m[I 2023-05-10 18:53:20,478]\u001b[0m Trial 97 finished with value: 0.8782182560520864 and parameters: {'n_estimators': 225, 'max_depth': 60, 'criterion': 'log_loss'}. Best is trial 84 with value: 0.8852717823972722.\u001b[0m\n"
     ]
    },
    {
     "name": "stdout",
     "output_type": "stream",
     "text": [
      "Overall accuracy: 0.878\n",
      "\n"
     ]
    },
    {
     "name": "stderr",
     "output_type": "stream",
     "text": [
      "\u001b[32m[I 2023-05-10 18:53:31,897]\u001b[0m Trial 98 finished with value: 0.8781841092108885 and parameters: {'n_estimators': 203, 'max_depth': 16, 'criterion': 'log_loss'}. Best is trial 84 with value: 0.8852717823972722.\u001b[0m\n"
     ]
    },
    {
     "name": "stdout",
     "output_type": "stream",
     "text": [
      "Overall accuracy: 0.878\n",
      "\n"
     ]
    },
    {
     "name": "stderr",
     "output_type": "stream",
     "text": [
      "\u001b[32m[I 2023-05-10 18:53:45,190]\u001b[0m Trial 99 finished with value: 0.8821177420508055 and parameters: {'n_estimators': 233, 'max_depth': 29, 'criterion': 'entropy'}. Best is trial 84 with value: 0.8852717823972722.\u001b[0m\n"
     ]
    },
    {
     "name": "stdout",
     "output_type": "stream",
     "text": [
      "Overall accuracy: 0.882\n",
      "\n",
      "Accuracy: 0.8852717823972722\n",
      "Best hyperparameters: {'n_estimators': 230, 'max_depth': 49, 'criterion': 'log_loss'}\n"
     ]
    },
    {
     "name": "stderr",
     "output_type": "stream",
     "text": [
      "\u001b[32m[I 2023-05-10 18:53:48,820]\u001b[0m A new study created in memory with name: no-name-12bbd775-a5dd-475d-b6a9-e92c5cd4ebff\u001b[0m\n"
     ]
    },
    {
     "name": "stdout",
     "output_type": "stream",
     "text": [
      "\n",
      "\n",
      "\n",
      "Model :- SVC, DataType :- APAAC\n"
     ]
    },
    {
     "name": "stderr",
     "output_type": "stream",
     "text": [
      "\u001b[32m[I 2023-05-10 18:53:52,615]\u001b[0m Trial 0 finished with value: 0.8460834692597288 and parameters: {'C': 5755354904.463645}. Best is trial 0 with value: 0.8460834692597288.\u001b[0m\n"
     ]
    },
    {
     "name": "stdout",
     "output_type": "stream",
     "text": [
      "Overall accuracy: 0.846\n",
      "\n"
     ]
    },
    {
     "name": "stderr",
     "output_type": "stream",
     "text": [
      "\u001b[32m[I 2023-05-10 18:53:56,411]\u001b[0m Trial 1 finished with value: 0.8460834692597288 and parameters: {'C': 44712399.16330392}. Best is trial 0 with value: 0.8460834692597288.\u001b[0m\n"
     ]
    },
    {
     "name": "stdout",
     "output_type": "stream",
     "text": [
      "Overall accuracy: 0.846\n",
      "\n"
     ]
    },
    {
     "name": "stderr",
     "output_type": "stream",
     "text": [
      "\u001b[32m[I 2023-05-10 18:53:57,977]\u001b[0m Trial 2 finished with value: 0.3416213416213416 and parameters: {'C': 0.00040772367157995265}. Best is trial 0 with value: 0.8460834692597288.\u001b[0m\n"
     ]
    },
    {
     "name": "stdout",
     "output_type": "stream",
     "text": [
      "Overall accuracy: 0.519\n",
      "\n"
     ]
    },
    {
     "name": "stderr",
     "output_type": "stream",
     "text": [
      "\u001b[32m[I 2023-05-10 18:54:01,776]\u001b[0m Trial 3 finished with value: 0.8460834692597288 and parameters: {'C': 1424883.5412181257}. Best is trial 0 with value: 0.8460834692597288.\u001b[0m\n"
     ]
    },
    {
     "name": "stdout",
     "output_type": "stream",
     "text": [
      "Overall accuracy: 0.846\n",
      "\n"
     ]
    },
    {
     "name": "stderr",
     "output_type": "stream",
     "text": [
      "\u001b[32m[I 2023-05-10 18:54:03,374]\u001b[0m Trial 4 finished with value: 0.3416213416213416 and parameters: {'C': 1.8699116613150225e-08}. Best is trial 0 with value: 0.8460834692597288.\u001b[0m\n"
     ]
    },
    {
     "name": "stdout",
     "output_type": "stream",
     "text": [
      "Overall accuracy: 0.519\n",
      "\n"
     ]
    },
    {
     "name": "stderr",
     "output_type": "stream",
     "text": [
      "\u001b[32m[I 2023-05-10 18:54:05,105]\u001b[0m Trial 5 finished with value: 0.3416213416213416 and parameters: {'C': 0.0012853490298571214}. Best is trial 0 with value: 0.8460834692597288.\u001b[0m\n"
     ]
    },
    {
     "name": "stdout",
     "output_type": "stream",
     "text": [
      "Overall accuracy: 0.519\n",
      "\n"
     ]
    },
    {
     "name": "stderr",
     "output_type": "stream",
     "text": [
      "\u001b[32m[I 2023-05-10 18:54:08,926]\u001b[0m Trial 6 finished with value: 0.8460834692597288 and parameters: {'C': 155975.5107871108}. Best is trial 0 with value: 0.8460834692597288.\u001b[0m\n"
     ]
    },
    {
     "name": "stdout",
     "output_type": "stream",
     "text": [
      "Overall accuracy: 0.846\n",
      "\n"
     ]
    },
    {
     "name": "stderr",
     "output_type": "stream",
     "text": [
      "\u001b[32m[I 2023-05-10 18:54:10,457]\u001b[0m Trial 7 finished with value: 0.3416213416213416 and parameters: {'C': 9.056136865911568e-08}. Best is trial 0 with value: 0.8460834692597288.\u001b[0m\n"
     ]
    },
    {
     "name": "stdout",
     "output_type": "stream",
     "text": [
      "Overall accuracy: 0.519\n",
      "\n"
     ]
    },
    {
     "name": "stderr",
     "output_type": "stream",
     "text": [
      "\u001b[32m[I 2023-05-10 18:54:11,989]\u001b[0m Trial 8 finished with value: 0.3416213416213416 and parameters: {'C': 2.589813119284436e-06}. Best is trial 0 with value: 0.8460834692597288.\u001b[0m\n"
     ]
    },
    {
     "name": "stdout",
     "output_type": "stream",
     "text": [
      "Overall accuracy: 0.519\n",
      "\n"
     ]
    },
    {
     "name": "stderr",
     "output_type": "stream",
     "text": [
      "\u001b[32m[I 2023-05-10 18:54:13,042]\u001b[0m Trial 9 finished with value: 0.8502779750201342 and parameters: {'C': 0.3577661500143399}. Best is trial 9 with value: 0.8502779750201342.\u001b[0m\n"
     ]
    },
    {
     "name": "stdout",
     "output_type": "stream",
     "text": [
      "Overall accuracy: 0.852\n",
      "\n"
     ]
    },
    {
     "name": "stderr",
     "output_type": "stream",
     "text": [
      "\u001b[32m[I 2023-05-10 18:54:13,649]\u001b[0m Trial 10 finished with value: 0.8929508740605374 and parameters: {'C': 9.451571949906803}. Best is trial 10 with value: 0.8929508740605374.\u001b[0m\n"
     ]
    },
    {
     "name": "stdout",
     "output_type": "stream",
     "text": [
      "Overall accuracy: 0.893\n",
      "\n"
     ]
    },
    {
     "name": "stderr",
     "output_type": "stream",
     "text": [
      "\u001b[32m[I 2023-05-10 18:54:14,291]\u001b[0m Trial 11 finished with value: 0.8909702576649592 and parameters: {'C': 14.617180554052261}. Best is trial 10 with value: 0.8929508740605374.\u001b[0m\n"
     ]
    },
    {
     "name": "stdout",
     "output_type": "stream",
     "text": [
      "Overall accuracy: 0.891\n",
      "\n"
     ]
    },
    {
     "name": "stderr",
     "output_type": "stream",
     "text": [
      "\u001b[32m[I 2023-05-10 18:54:15,367]\u001b[0m Trial 12 finished with value: 0.8805909478839407 and parameters: {'C': 376.11222381515745}. Best is trial 10 with value: 0.8929508740605374.\u001b[0m\n"
     ]
    },
    {
     "name": "stdout",
     "output_type": "stream",
     "text": [
      "Overall accuracy: 0.881\n",
      "\n"
     ]
    },
    {
     "name": "stderr",
     "output_type": "stream",
     "text": [
      "\u001b[32m[I 2023-05-10 18:54:15,964]\u001b[0m Trial 13 finished with value: 0.8906344866041094 and parameters: {'C': 37.34004465733033}. Best is trial 10 with value: 0.8929508740605374.\u001b[0m\n"
     ]
    },
    {
     "name": "stdout",
     "output_type": "stream",
     "text": [
      "Overall accuracy: 0.891\n",
      "\n"
     ]
    },
    {
     "name": "stderr",
     "output_type": "stream",
     "text": [
      "\u001b[32m[I 2023-05-10 18:54:17,670]\u001b[0m Trial 14 finished with value: 0.868732126765458 and parameters: {'C': 1521.8104277852822}. Best is trial 10 with value: 0.8929508740605374.\u001b[0m\n"
     ]
    },
    {
     "name": "stdout",
     "output_type": "stream",
     "text": [
      "Overall accuracy: 0.869\n",
      "\n"
     ]
    },
    {
     "name": "stderr",
     "output_type": "stream",
     "text": [
      "\u001b[32m[I 2023-05-10 18:54:18,538]\u001b[0m Trial 15 finished with value: 0.8655873784673831 and parameters: {'C': 0.5569054675204003}. Best is trial 10 with value: 0.8929508740605374.\u001b[0m\n"
     ]
    },
    {
     "name": "stdout",
     "output_type": "stream",
     "text": [
      "Overall accuracy: 0.867\n",
      "\n"
     ]
    },
    {
     "name": "stderr",
     "output_type": "stream",
     "text": [
      "\u001b[32m[I 2023-05-10 18:54:19,673]\u001b[0m Trial 16 finished with value: 0.8279798246286972 and parameters: {'C': 0.15440738770153178}. Best is trial 10 with value: 0.8929508740605374.\u001b[0m\n"
     ]
    },
    {
     "name": "stdout",
     "output_type": "stream",
     "text": [
      "Overall accuracy: 0.829\n",
      "\n"
     ]
    },
    {
     "name": "stderr",
     "output_type": "stream",
     "text": [
      "\u001b[32m[I 2023-05-10 18:54:21,198]\u001b[0m Trial 17 finished with value: 0.3416213416213416 and parameters: {'C': 3.325068869305872e-10}. Best is trial 10 with value: 0.8929508740605374.\u001b[0m\n"
     ]
    },
    {
     "name": "stdout",
     "output_type": "stream",
     "text": [
      "Overall accuracy: 0.519\n",
      "\n"
     ]
    },
    {
     "name": "stderr",
     "output_type": "stream",
     "text": [
      "\u001b[32m[I 2023-05-10 18:54:24,456]\u001b[0m Trial 18 finished with value: 0.8465082318085208 and parameters: {'C': 8086.645911742821}. Best is trial 10 with value: 0.8929508740605374.\u001b[0m\n"
     ]
    },
    {
     "name": "stdout",
     "output_type": "stream",
     "text": [
      "Overall accuracy: 0.847\n",
      "\n"
     ]
    },
    {
     "name": "stderr",
     "output_type": "stream",
     "text": [
      "\u001b[32m[I 2023-05-10 18:54:25,119]\u001b[0m Trial 19 finished with value: 0.8894447509555692 and parameters: {'C': 30.3389937639733}. Best is trial 10 with value: 0.8929508740605374.\u001b[0m\n"
     ]
    },
    {
     "name": "stdout",
     "output_type": "stream",
     "text": [
      "Overall accuracy: 0.890\n",
      "\n"
     ]
    },
    {
     "name": "stderr",
     "output_type": "stream",
     "text": [
      "\u001b[32m[I 2023-05-10 18:54:26,667]\u001b[0m Trial 20 finished with value: 0.3416213416213416 and parameters: {'C': 0.004986746674499987}. Best is trial 10 with value: 0.8929508740605374.\u001b[0m\n"
     ]
    },
    {
     "name": "stdout",
     "output_type": "stream",
     "text": [
      "Overall accuracy: 0.519\n",
      "\n"
     ]
    },
    {
     "name": "stderr",
     "output_type": "stream",
     "text": [
      "\u001b[32m[I 2023-05-10 18:54:27,280]\u001b[0m Trial 21 finished with value: 0.88904458537384 and parameters: {'C': 34.202309299327034}. Best is trial 10 with value: 0.8929508740605374.\u001b[0m\n"
     ]
    },
    {
     "name": "stdout",
     "output_type": "stream",
     "text": [
      "Overall accuracy: 0.889\n",
      "\n"
     ]
    },
    {
     "name": "stderr",
     "output_type": "stream",
     "text": [
      "\u001b[32m[I 2023-05-10 18:54:28,010]\u001b[0m Trial 22 finished with value: 0.8909010839729128 and parameters: {'C': 3.1970417837311147}. Best is trial 10 with value: 0.8929508740605374.\u001b[0m\n"
     ]
    },
    {
     "name": "stdout",
     "output_type": "stream",
     "text": [
      "Overall accuracy: 0.891\n",
      "\n"
     ]
    },
    {
     "name": "stderr",
     "output_type": "stream",
     "text": [
      "\u001b[32m[I 2023-05-10 18:54:28,665]\u001b[0m Trial 23 finished with value: 0.8920810178471597 and parameters: {'C': 4.8801805186351075}. Best is trial 10 with value: 0.8929508740605374.\u001b[0m\n"
     ]
    },
    {
     "name": "stdout",
     "output_type": "stream",
     "text": [
      "Overall accuracy: 0.893\n",
      "\n"
     ]
    },
    {
     "name": "stderr",
     "output_type": "stream",
     "text": [
      "\u001b[32m[I 2023-05-10 18:54:32,316]\u001b[0m Trial 24 finished with value: 0.8484682624411339 and parameters: {'C': 17027.77517240039}. Best is trial 10 with value: 0.8929508740605374.\u001b[0m\n"
     ]
    },
    {
     "name": "stdout",
     "output_type": "stream",
     "text": [
      "Overall accuracy: 0.849\n",
      "\n"
     ]
    },
    {
     "name": "stderr",
     "output_type": "stream",
     "text": [
      "\u001b[32m[I 2023-05-10 18:54:33,836]\u001b[0m Trial 25 finished with value: 0.7157187429516577 and parameters: {'C': 0.01946632724605848}. Best is trial 10 with value: 0.8929508740605374.\u001b[0m\n"
     ]
    },
    {
     "name": "stdout",
     "output_type": "stream",
     "text": [
      "Overall accuracy: 0.719\n",
      "\n"
     ]
    },
    {
     "name": "stderr",
     "output_type": "stream",
     "text": [
      "\u001b[32m[I 2023-05-10 18:54:34,924]\u001b[0m Trial 26 finished with value: 0.8801765174703298 and parameters: {'C': 420.1269059260846}. Best is trial 10 with value: 0.8929508740605374.\u001b[0m\n"
     ]
    },
    {
     "name": "stdout",
     "output_type": "stream",
     "text": [
      "Overall accuracy: 0.880\n",
      "\n"
     ]
    },
    {
     "name": "stderr",
     "output_type": "stream",
     "text": [
      "\u001b[32m[I 2023-05-10 18:54:36,468]\u001b[0m Trial 27 finished with value: 0.3416213416213416 and parameters: {'C': 0.00020345889384182402}. Best is trial 10 with value: 0.8929508740605374.\u001b[0m\n"
     ]
    },
    {
     "name": "stdout",
     "output_type": "stream",
     "text": [
      "Overall accuracy: 0.519\n",
      "\n"
     ]
    },
    {
     "name": "stderr",
     "output_type": "stream",
     "text": [
      "\u001b[32m[I 2023-05-10 18:54:37,101]\u001b[0m Trial 28 finished with value: 0.8920810178471597 and parameters: {'C': 4.909947335316812}. Best is trial 10 with value: 0.8929508740605374.\u001b[0m\n"
     ]
    },
    {
     "name": "stdout",
     "output_type": "stream",
     "text": [
      "Overall accuracy: 0.893\n",
      "\n"
     ]
    },
    {
     "name": "stderr",
     "output_type": "stream",
     "text": [
      "\u001b[32m[I 2023-05-10 18:54:38,307]\u001b[0m Trial 29 finished with value: 0.7987309163636727 and parameters: {'C': 0.09053222325775034}. Best is trial 10 with value: 0.8929508740605374.\u001b[0m\n"
     ]
    },
    {
     "name": "stdout",
     "output_type": "stream",
     "text": [
      "Overall accuracy: 0.800\n",
      "\n"
     ]
    },
    {
     "name": "stderr",
     "output_type": "stream",
     "text": [
      "\u001b[32m[I 2023-05-10 18:54:39,015]\u001b[0m Trial 30 finished with value: 0.8833045468260949 and parameters: {'C': 2.0750581095542953}. Best is trial 10 with value: 0.8929508740605374.\u001b[0m\n"
     ]
    },
    {
     "name": "stdout",
     "output_type": "stream",
     "text": [
      "Overall accuracy: 0.884\n",
      "\n"
     ]
    },
    {
     "name": "stderr",
     "output_type": "stream",
     "text": [
      "\u001b[32m[I 2023-05-10 18:54:39,656]\u001b[0m Trial 31 finished with value: 0.8929064070194541 and parameters: {'C': 6.086358124006363}. Best is trial 10 with value: 0.8929508740605374.\u001b[0m\n"
     ]
    },
    {
     "name": "stdout",
     "output_type": "stream",
     "text": [
      "Overall accuracy: 0.893\n",
      "\n"
     ]
    },
    {
     "name": "stderr",
     "output_type": "stream",
     "text": [
      "\u001b[32m[I 2023-05-10 18:54:41,143]\u001b[0m Trial 32 finished with value: 0.7273300010632912 and parameters: {'C': 0.025588706034100153}. Best is trial 10 with value: 0.8929508740605374.\u001b[0m\n"
     ]
    },
    {
     "name": "stdout",
     "output_type": "stream",
     "text": [
      "Overall accuracy: 0.730\n",
      "\n"
     ]
    },
    {
     "name": "stderr",
     "output_type": "stream",
     "text": [
      "\u001b[32m[I 2023-05-10 18:54:41,791]\u001b[0m Trial 33 finished with value: 0.8924939298650639 and parameters: {'C': 5.173648133899226}. Best is trial 10 with value: 0.8929508740605374.\u001b[0m\n"
     ]
    },
    {
     "name": "stdout",
     "output_type": "stream",
     "text": [
      "Overall accuracy: 0.893\n",
      "\n"
     ]
    },
    {
     "name": "stderr",
     "output_type": "stream",
     "text": [
      "\u001b[32m[I 2023-05-10 18:54:45,651]\u001b[0m Trial 34 finished with value: 0.8460834692597288 and parameters: {'C': 195160983.06512246}. Best is trial 10 with value: 0.8929508740605374.\u001b[0m\n"
     ]
    },
    {
     "name": "stdout",
     "output_type": "stream",
     "text": [
      "Overall accuracy: 0.846\n",
      "\n"
     ]
    },
    {
     "name": "stderr",
     "output_type": "stream",
     "text": [
      "\u001b[32m[I 2023-05-10 18:54:46,585]\u001b[0m Trial 35 finished with value: 0.8805748031264095 and parameters: {'C': 228.5584394351455}. Best is trial 10 with value: 0.8929508740605374.\u001b[0m\n"
     ]
    },
    {
     "name": "stdout",
     "output_type": "stream",
     "text": [
      "Overall accuracy: 0.881\n",
      "\n"
     ]
    },
    {
     "name": "stderr",
     "output_type": "stream",
     "text": [
      "\u001b[32m[I 2023-05-10 18:54:47,494]\u001b[0m Trial 36 finished with value: 0.8680745184796136 and parameters: {'C': 0.8255479144278953}. Best is trial 10 with value: 0.8929508740605374.\u001b[0m\n"
     ]
    },
    {
     "name": "stdout",
     "output_type": "stream",
     "text": [
      "Overall accuracy: 0.869\n",
      "\n"
     ]
    },
    {
     "name": "stderr",
     "output_type": "stream",
     "text": [
      "\u001b[32m[I 2023-05-10 18:54:51,607]\u001b[0m Trial 37 finished with value: 0.8460834692597288 and parameters: {'C': 748978.0025041087}. Best is trial 10 with value: 0.8929508740605374.\u001b[0m\n"
     ]
    },
    {
     "name": "stdout",
     "output_type": "stream",
     "text": [
      "Overall accuracy: 0.846\n",
      "\n"
     ]
    },
    {
     "name": "stderr",
     "output_type": "stream",
     "text": [
      "\u001b[32m[I 2023-05-10 18:54:54,849]\u001b[0m Trial 38 finished with value: 0.8472791957590424 and parameters: {'C': 6684.4518735350675}. Best is trial 10 with value: 0.8929508740605374.\u001b[0m\n"
     ]
    },
    {
     "name": "stdout",
     "output_type": "stream",
     "text": [
      "Overall accuracy: 0.847\n",
      "\n"
     ]
    },
    {
     "name": "stderr",
     "output_type": "stream",
     "text": [
      "\u001b[32m[I 2023-05-10 18:54:56,414]\u001b[0m Trial 39 finished with value: 0.3416213416213416 and parameters: {'C': 0.0001894096808137248}. Best is trial 10 with value: 0.8929508740605374.\u001b[0m\n"
     ]
    },
    {
     "name": "stdout",
     "output_type": "stream",
     "text": [
      "Overall accuracy: 0.519\n",
      "\n"
     ]
    },
    {
     "name": "stderr",
     "output_type": "stream",
     "text": [
      "\u001b[32m[I 2023-05-10 18:55:00,772]\u001b[0m Trial 40 finished with value: 0.8460834692597288 and parameters: {'C': 89850.65124220782}. Best is trial 10 with value: 0.8929508740605374.\u001b[0m\n"
     ]
    },
    {
     "name": "stdout",
     "output_type": "stream",
     "text": [
      "Overall accuracy: 0.846\n",
      "\n"
     ]
    },
    {
     "name": "stderr",
     "output_type": "stream",
     "text": [
      "\u001b[32m[I 2023-05-10 18:55:01,475]\u001b[0m Trial 41 finished with value: 0.8933072423107343 and parameters: {'C': 8.170299336957198}. Best is trial 41 with value: 0.8933072423107343.\u001b[0m\n"
     ]
    },
    {
     "name": "stdout",
     "output_type": "stream",
     "text": [
      "Overall accuracy: 0.894\n",
      "\n"
     ]
    },
    {
     "name": "stderr",
     "output_type": "stream",
     "text": [
      "\u001b[32m[I 2023-05-10 18:55:02,296]\u001b[0m Trial 42 finished with value: 0.8817102226193136 and parameters: {'C': 143.05258010567266}. Best is trial 41 with value: 0.8933072423107343.\u001b[0m\n"
     ]
    },
    {
     "name": "stdout",
     "output_type": "stream",
     "text": [
      "Overall accuracy: 0.882\n",
      "\n"
     ]
    },
    {
     "name": "stderr",
     "output_type": "stream",
     "text": [
      "\u001b[32m[I 2023-05-10 18:55:03,068]\u001b[0m Trial 43 finished with value: 0.8928949514407631 and parameters: {'C': 5.787951304190512}. Best is trial 41 with value: 0.8933072423107343.\u001b[0m\n"
     ]
    },
    {
     "name": "stdout",
     "output_type": "stream",
     "text": [
      "Overall accuracy: 0.893\n",
      "\n"
     ]
    },
    {
     "name": "stderr",
     "output_type": "stream",
     "text": [
      "\u001b[32m[I 2023-05-10 18:55:04,207]\u001b[0m Trial 44 finished with value: 0.8486659584112725 and parameters: {'C': 0.3210689986260754}. Best is trial 41 with value: 0.8933072423107343.\u001b[0m\n"
     ]
    },
    {
     "name": "stdout",
     "output_type": "stream",
     "text": [
      "Overall accuracy: 0.850\n",
      "\n"
     ]
    },
    {
     "name": "stderr",
     "output_type": "stream",
     "text": [
      "\u001b[32m[I 2023-05-10 18:55:05,862]\u001b[0m Trial 45 finished with value: 0.8699193396320042 and parameters: {'C': 1220.9197661299975}. Best is trial 41 with value: 0.8933072423107343.\u001b[0m\n"
     ]
    },
    {
     "name": "stdout",
     "output_type": "stream",
     "text": [
      "Overall accuracy: 0.870\n",
      "\n"
     ]
    },
    {
     "name": "stderr",
     "output_type": "stream",
     "text": [
      "\u001b[32m[I 2023-05-10 18:55:06,504]\u001b[0m Trial 46 finished with value: 0.8902448646146868 and parameters: {'C': 35.98023324248429}. Best is trial 41 with value: 0.8933072423107343.\u001b[0m\n"
     ]
    },
    {
     "name": "stdout",
     "output_type": "stream",
     "text": [
      "Overall accuracy: 0.891\n",
      "\n"
     ]
    },
    {
     "name": "stderr",
     "output_type": "stream",
     "text": [
      "\u001b[32m[I 2023-05-10 18:55:07,156]\u001b[0m Trial 47 finished with value: 0.8932610480740519 and parameters: {'C': 4.459484906425496}. Best is trial 41 with value: 0.8933072423107343.\u001b[0m\n"
     ]
    },
    {
     "name": "stdout",
     "output_type": "stream",
     "text": [
      "Overall accuracy: 0.894\n",
      "\n"
     ]
    },
    {
     "name": "stderr",
     "output_type": "stream",
     "text": [
      "\u001b[32m[I 2023-05-10 18:55:08,511]\u001b[0m Trial 48 finished with value: 0.7748896040843649 and parameters: {'C': 0.06713755496372666}. Best is trial 41 with value: 0.8933072423107343.\u001b[0m\n"
     ]
    },
    {
     "name": "stdout",
     "output_type": "stream",
     "text": [
      "Overall accuracy: 0.776\n",
      "\n"
     ]
    },
    {
     "name": "stderr",
     "output_type": "stream",
     "text": [
      "\u001b[32m[I 2023-05-10 18:55:09,249]\u001b[0m Trial 49 finished with value: 0.8804851128921363 and parameters: {'C': 100.6796297910393}. Best is trial 41 with value: 0.8933072423107343.\u001b[0m\n"
     ]
    },
    {
     "name": "stdout",
     "output_type": "stream",
     "text": [
      "Overall accuracy: 0.881\n",
      "\n"
     ]
    },
    {
     "name": "stderr",
     "output_type": "stream",
     "text": [
      "\u001b[32m[I 2023-05-10 18:55:10,138]\u001b[0m Trial 50 finished with value: 0.8655684229985329 and parameters: {'C': 0.5822040489565837}. Best is trial 41 with value: 0.8933072423107343.\u001b[0m\n"
     ]
    },
    {
     "name": "stdout",
     "output_type": "stream",
     "text": [
      "Overall accuracy: 0.867\n",
      "\n"
     ]
    },
    {
     "name": "stderr",
     "output_type": "stream",
     "text": [
      "\u001b[32m[I 2023-05-10 18:55:10,785]\u001b[0m Trial 51 finished with value: 0.8920810178471597 and parameters: {'C': 5.020944863731712}. Best is trial 41 with value: 0.8933072423107343.\u001b[0m\n"
     ]
    },
    {
     "name": "stdout",
     "output_type": "stream",
     "text": [
      "Overall accuracy: 0.893\n",
      "\n"
     ]
    },
    {
     "name": "stderr",
     "output_type": "stream",
     "text": [
      "\u001b[32m[I 2023-05-10 18:55:11,422]\u001b[0m Trial 52 finished with value: 0.8913708131610619 and parameters: {'C': 12.437625654719337}. Best is trial 41 with value: 0.8933072423107343.\u001b[0m\n"
     ]
    },
    {
     "name": "stdout",
     "output_type": "stream",
     "text": [
      "Overall accuracy: 0.892\n",
      "\n"
     ]
    },
    {
     "name": "stderr",
     "output_type": "stream",
     "text": [
      "\u001b[32m[I 2023-05-10 18:55:12,163]\u001b[0m Trial 53 finished with value: 0.8792758763675104 and parameters: {'C': 1.5005247472683967}. Best is trial 41 with value: 0.8933072423107343.\u001b[0m\n"
     ]
    },
    {
     "name": "stdout",
     "output_type": "stream",
     "text": [
      "Overall accuracy: 0.880\n",
      "\n"
     ]
    },
    {
     "name": "stderr",
     "output_type": "stream",
     "text": [
      "\u001b[32m[I 2023-05-10 18:55:13,984]\u001b[0m Trial 54 finished with value: 0.8655785442252888 and parameters: {'C': 1740.4858672429607}. Best is trial 41 with value: 0.8933072423107343.\u001b[0m\n"
     ]
    },
    {
     "name": "stdout",
     "output_type": "stream",
     "text": [
      "Overall accuracy: 0.866\n",
      "\n"
     ]
    },
    {
     "name": "stderr",
     "output_type": "stream",
     "text": [
      "\u001b[32m[I 2023-05-10 18:55:14,588]\u001b[0m Trial 55 finished with value: 0.8906026785124732 and parameters: {'C': 28.185995968407013}. Best is trial 41 with value: 0.8933072423107343.\u001b[0m\n"
     ]
    },
    {
     "name": "stdout",
     "output_type": "stream",
     "text": [
      "Overall accuracy: 0.891\n",
      "\n"
     ]
    },
    {
     "name": "stderr",
     "output_type": "stream",
     "text": [
      "\u001b[32m[I 2023-05-10 18:55:15,666]\u001b[0m Trial 56 finished with value: 0.8381247533950325 and parameters: {'C': 0.20957684284556938}. Best is trial 41 with value: 0.8933072423107343.\u001b[0m\n"
     ]
    },
    {
     "name": "stdout",
     "output_type": "stream",
     "text": [
      "Overall accuracy: 0.839\n",
      "\n"
     ]
    },
    {
     "name": "stderr",
     "output_type": "stream",
     "text": [
      "\u001b[32m[I 2023-05-10 18:55:17,335]\u001b[0m Trial 57 finished with value: 0.3416213416213416 and parameters: {'C': 0.0035273517451617814}. Best is trial 41 with value: 0.8933072423107343.\u001b[0m\n"
     ]
    },
    {
     "name": "stdout",
     "output_type": "stream",
     "text": [
      "Overall accuracy: 0.519\n",
      "\n"
     ]
    },
    {
     "name": "stderr",
     "output_type": "stream",
     "text": [
      "\u001b[32m[I 2023-05-10 18:55:18,027]\u001b[0m Trial 58 finished with value: 0.8808939116080046 and parameters: {'C': 108.94564149247425}. Best is trial 41 with value: 0.8933072423107343.\u001b[0m\n"
     ]
    },
    {
     "name": "stdout",
     "output_type": "stream",
     "text": [
      "Overall accuracy: 0.881\n",
      "\n"
     ]
    },
    {
     "name": "stderr",
     "output_type": "stream",
     "text": [
      "\u001b[32m[I 2023-05-10 18:55:18,728]\u001b[0m Trial 59 finished with value: 0.8921608436107997 and parameters: {'C': 15.8219154684289}. Best is trial 41 with value: 0.8933072423107343.\u001b[0m\n"
     ]
    },
    {
     "name": "stdout",
     "output_type": "stream",
     "text": [
      "Overall accuracy: 0.893\n",
      "\n"
     ]
    },
    {
     "name": "stderr",
     "output_type": "stream",
     "text": [
      "\u001b[32m[I 2023-05-10 18:55:19,535]\u001b[0m Trial 60 finished with value: 0.8792608360561458 and parameters: {'C': 1.7010829355950492}. Best is trial 41 with value: 0.8933072423107343.\u001b[0m\n"
     ]
    },
    {
     "name": "stdout",
     "output_type": "stream",
     "text": [
      "Overall accuracy: 0.880\n",
      "\n"
     ]
    },
    {
     "name": "stderr",
     "output_type": "stream",
     "text": [
      "\u001b[32m[I 2023-05-10 18:55:20,141]\u001b[0m Trial 61 finished with value: 0.8913708131610619 and parameters: {'C': 19.19073322771174}. Best is trial 41 with value: 0.8933072423107343.\u001b[0m\n"
     ]
    },
    {
     "name": "stdout",
     "output_type": "stream",
     "text": [
      "Overall accuracy: 0.892\n",
      "\n"
     ]
    },
    {
     "name": "stderr",
     "output_type": "stream",
     "text": [
      "\u001b[32m[I 2023-05-10 18:55:20,767]\u001b[0m Trial 62 finished with value: 0.8933072423107343 and parameters: {'C': 6.242171191565294}. Best is trial 41 with value: 0.8933072423107343.\u001b[0m\n"
     ]
    },
    {
     "name": "stdout",
     "output_type": "stream",
     "text": [
      "Overall accuracy: 0.894\n",
      "\n"
     ]
    },
    {
     "name": "stderr",
     "output_type": "stream",
     "text": [
      "\u001b[32m[I 2023-05-10 18:55:21,754]\u001b[0m Trial 63 finished with value: 0.8551099422004493 and parameters: {'C': 0.4056784307099811}. Best is trial 41 with value: 0.8933072423107343.\u001b[0m\n"
     ]
    },
    {
     "name": "stdout",
     "output_type": "stream",
     "text": [
      "Overall accuracy: 0.856\n",
      "\n"
     ]
    },
    {
     "name": "stderr",
     "output_type": "stream",
     "text": [
      "\u001b[32m[I 2023-05-10 18:55:22,456]\u001b[0m Trial 64 finished with value: 0.8916797302677417 and parameters: {'C': 4.565005388196601}. Best is trial 41 with value: 0.8933072423107343.\u001b[0m\n"
     ]
    },
    {
     "name": "stdout",
     "output_type": "stream",
     "text": [
      "Overall accuracy: 0.892\n",
      "\n"
     ]
    },
    {
     "name": "stderr",
     "output_type": "stream",
     "text": [
      "\u001b[32m[I 2023-05-10 18:55:23,552]\u001b[0m Trial 65 finished with value: 0.8781928743859656 and parameters: {'C': 485.3798695484367}. Best is trial 41 with value: 0.8933072423107343.\u001b[0m\n"
     ]
    },
    {
     "name": "stdout",
     "output_type": "stream",
     "text": [
      "Overall accuracy: 0.878\n",
      "\n"
     ]
    },
    {
     "name": "stderr",
     "output_type": "stream",
     "text": [
      "\u001b[32m[I 2023-05-10 18:55:24,226]\u001b[0m Trial 66 finished with value: 0.8812642621322687 and parameters: {'C': 92.5805386335946}. Best is trial 41 with value: 0.8933072423107343.\u001b[0m\n"
     ]
    },
    {
     "name": "stdout",
     "output_type": "stream",
     "text": [
      "Overall accuracy: 0.882\n",
      "\n"
     ]
    },
    {
     "name": "stderr",
     "output_type": "stream",
     "text": [
      "\u001b[32m[I 2023-05-10 18:55:25,625]\u001b[0m Trial 67 finished with value: 0.7414994293267645 and parameters: {'C': 0.036818158643404285}. Best is trial 41 with value: 0.8933072423107343.\u001b[0m\n"
     ]
    },
    {
     "name": "stdout",
     "output_type": "stream",
     "text": [
      "Overall accuracy: 0.743\n",
      "\n"
     ]
    },
    {
     "name": "stderr",
     "output_type": "stream",
     "text": [
      "\u001b[32m[I 2023-05-10 18:55:26,421]\u001b[0m Trial 68 finished with value: 0.8705024135698947 and parameters: {'C': 0.9288211736604429}. Best is trial 41 with value: 0.8933072423107343.\u001b[0m\n"
     ]
    },
    {
     "name": "stdout",
     "output_type": "stream",
     "text": [
      "Overall accuracy: 0.871\n",
      "\n"
     ]
    },
    {
     "name": "stderr",
     "output_type": "stream",
     "text": [
      "\u001b[32m[I 2023-05-10 18:55:27,157]\u001b[0m Trial 69 finished with value: 0.8937080020636688 and parameters: {'C': 6.727880052456858}. Best is trial 69 with value: 0.8937080020636688.\u001b[0m\n"
     ]
    },
    {
     "name": "stdout",
     "output_type": "stream",
     "text": [
      "Overall accuracy: 0.894\n",
      "\n"
     ]
    },
    {
     "name": "stderr",
     "output_type": "stream",
     "text": [
      "\u001b[32m[I 2023-05-10 18:55:28,345]\u001b[0m Trial 70 finished with value: 0.8112804503346129 and parameters: {'C': 0.1039452803858049}. Best is trial 69 with value: 0.8937080020636688.\u001b[0m\n"
     ]
    },
    {
     "name": "stdout",
     "output_type": "stream",
     "text": [
      "Overall accuracy: 0.813\n",
      "\n"
     ]
    },
    {
     "name": "stderr",
     "output_type": "stream",
     "text": [
      "\u001b[32m[I 2023-05-10 18:55:28,979]\u001b[0m Trial 71 finished with value: 0.8933072423107343 and parameters: {'C': 8.104022902999645}. Best is trial 69 with value: 0.8937080020636688.\u001b[0m\n"
     ]
    },
    {
     "name": "stdout",
     "output_type": "stream",
     "text": [
      "Overall accuracy: 0.894\n",
      "\n"
     ]
    },
    {
     "name": "stderr",
     "output_type": "stream",
     "text": [
      "\u001b[32m[I 2023-05-10 18:55:29,639]\u001b[0m Trial 72 finished with value: 0.8866862731241132 and parameters: {'C': 58.921853962953165}. Best is trial 69 with value: 0.8937080020636688.\u001b[0m\n"
     ]
    },
    {
     "name": "stdout",
     "output_type": "stream",
     "text": [
      "Overall accuracy: 0.887\n",
      "\n"
     ]
    },
    {
     "name": "stderr",
     "output_type": "stream",
     "text": [
      "\u001b[32m[I 2023-05-10 18:55:30,358]\u001b[0m Trial 73 finished with value: 0.8932844156748796 and parameters: {'C': 5.326063542582872}. Best is trial 69 with value: 0.8937080020636688.\u001b[0m\n"
     ]
    },
    {
     "name": "stdout",
     "output_type": "stream",
     "text": [
      "Overall accuracy: 0.894\n",
      "\n"
     ]
    },
    {
     "name": "stderr",
     "output_type": "stream",
     "text": [
      "\u001b[32m[I 2023-05-10 18:55:31,167]\u001b[0m Trial 74 finished with value: 0.879664216872498 and parameters: {'C': 1.5324241570323867}. Best is trial 69 with value: 0.8937080020636688.\u001b[0m\n"
     ]
    },
    {
     "name": "stdout",
     "output_type": "stream",
     "text": [
      "Overall accuracy: 0.880\n",
      "\n"
     ]
    },
    {
     "name": "stderr",
     "output_type": "stream",
     "text": [
      "\u001b[32m[I 2023-05-10 18:55:31,848]\u001b[0m Trial 75 finished with value: 0.8909702576649592 and parameters: {'C': 13.475522114217835}. Best is trial 69 with value: 0.8937080020636688.\u001b[0m\n"
     ]
    },
    {
     "name": "stdout",
     "output_type": "stream",
     "text": [
      "Overall accuracy: 0.891\n",
      "\n"
     ]
    },
    {
     "name": "stderr",
     "output_type": "stream",
     "text": [
      "\u001b[32m[I 2023-05-10 18:55:32,863]\u001b[0m Trial 76 finished with value: 0.8801765174703298 and parameters: {'C': 396.558175804298}. Best is trial 69 with value: 0.8937080020636688.\u001b[0m\n"
     ]
    },
    {
     "name": "stdout",
     "output_type": "stream",
     "text": [
      "Overall accuracy: 0.880\n",
      "\n"
     ]
    },
    {
     "name": "stderr",
     "output_type": "stream",
     "text": [
      "\u001b[32m[I 2023-05-10 18:55:34,006]\u001b[0m Trial 77 finished with value: 0.8263943852243534 and parameters: {'C': 0.1478036425225565}. Best is trial 69 with value: 0.8937080020636688.\u001b[0m\n"
     ]
    },
    {
     "name": "stdout",
     "output_type": "stream",
     "text": [
      "Overall accuracy: 0.828\n",
      "\n"
     ]
    },
    {
     "name": "stderr",
     "output_type": "stream",
     "text": [
      "\u001b[32m[I 2023-05-10 18:55:35,758]\u001b[0m Trial 78 finished with value: 0.6845784693790747 and parameters: {'C': 0.013030096187716745}. Best is trial 69 with value: 0.8937080020636688.\u001b[0m\n"
     ]
    },
    {
     "name": "stdout",
     "output_type": "stream",
     "text": [
      "Overall accuracy: 0.695\n",
      "\n"
     ]
    },
    {
     "name": "stderr",
     "output_type": "stream",
     "text": [
      "\u001b[32m[I 2023-05-10 18:55:36,373]\u001b[0m Trial 79 finished with value: 0.8937300714161496 and parameters: {'C': 10.048020657539734}. Best is trial 79 with value: 0.8937300714161496.\u001b[0m\n"
     ]
    },
    {
     "name": "stdout",
     "output_type": "stream",
     "text": [
      "Overall accuracy: 0.894\n",
      "\n"
     ]
    },
    {
     "name": "stderr",
     "output_type": "stream",
     "text": [
      "\u001b[32m[I 2023-05-10 18:55:37,327]\u001b[0m Trial 80 finished with value: 0.8639433256616352 and parameters: {'C': 0.521824427134191}. Best is trial 79 with value: 0.8937300714161496.\u001b[0m\n"
     ]
    },
    {
     "name": "stdout",
     "output_type": "stream",
     "text": [
      "Overall accuracy: 0.865\n",
      "\n"
     ]
    },
    {
     "name": "stderr",
     "output_type": "stream",
     "text": [
      "\u001b[32m[I 2023-05-10 18:55:38,035]\u001b[0m Trial 81 finished with value: 0.8845247940698591 and parameters: {'C': 2.2507780689469405}. Best is trial 79 with value: 0.8937300714161496.\u001b[0m\n"
     ]
    },
    {
     "name": "stdout",
     "output_type": "stream",
     "text": [
      "Overall accuracy: 0.885\n",
      "\n"
     ]
    },
    {
     "name": "stderr",
     "output_type": "stream",
     "text": [
      "\u001b[32m[I 2023-05-10 18:55:38,670]\u001b[0m Trial 82 finished with value: 0.8902344313058865 and parameters: {'C': 40.409683762724974}. Best is trial 79 with value: 0.8937300714161496.\u001b[0m\n"
     ]
    },
    {
     "name": "stdout",
     "output_type": "stream",
     "text": [
      "Overall accuracy: 0.891\n",
      "\n"
     ]
    },
    {
     "name": "stderr",
     "output_type": "stream",
     "text": [
      "\u001b[32m[I 2023-05-10 18:55:39,395]\u001b[0m Trial 83 finished with value: 0.8937300714161496 and parameters: {'C': 10.389288453234231}. Best is trial 79 with value: 0.8937300714161496.\u001b[0m\n"
     ]
    },
    {
     "name": "stdout",
     "output_type": "stream",
     "text": [
      "Overall accuracy: 0.894\n",
      "\n"
     ]
    },
    {
     "name": "stderr",
     "output_type": "stream",
     "text": [
      "\u001b[32m[I 2023-05-10 18:55:40,111]\u001b[0m Trial 84 finished with value: 0.8909702576649592 and parameters: {'C': 13.105237302567133}. Best is trial 79 with value: 0.8937300714161496.\u001b[0m\n"
     ]
    },
    {
     "name": "stdout",
     "output_type": "stream",
     "text": [
      "Overall accuracy: 0.891\n",
      "\n"
     ]
    },
    {
     "name": "stderr",
     "output_type": "stream",
     "text": [
      "\u001b[32m[I 2023-05-10 18:55:40,906]\u001b[0m Trial 85 finished with value: 0.8789812700210078 and parameters: {'C': 199.59975575959615}. Best is trial 79 with value: 0.8937300714161496.\u001b[0m\n"
     ]
    },
    {
     "name": "stdout",
     "output_type": "stream",
     "text": [
      "Overall accuracy: 0.879\n",
      "\n"
     ]
    },
    {
     "name": "stderr",
     "output_type": "stream",
     "text": [
      "\u001b[32m[I 2023-05-10 18:55:41,522]\u001b[0m Trial 86 finished with value: 0.8882761090566913 and parameters: {'C': 45.78378135285333}. Best is trial 79 with value: 0.8937300714161496.\u001b[0m\n"
     ]
    },
    {
     "name": "stdout",
     "output_type": "stream",
     "text": [
      "Overall accuracy: 0.889\n",
      "\n"
     ]
    },
    {
     "name": "stderr",
     "output_type": "stream",
     "text": [
      "\u001b[32m[I 2023-05-10 18:55:42,324]\u001b[0m Trial 87 finished with value: 0.8841359462686336 and parameters: {'C': 2.3550168070488717}. Best is trial 79 with value: 0.8937300714161496.\u001b[0m\n"
     ]
    },
    {
     "name": "stdout",
     "output_type": "stream",
     "text": [
      "Overall accuracy: 0.885\n",
      "\n"
     ]
    },
    {
     "name": "stderr",
     "output_type": "stream",
     "text": [
      "\u001b[32m[I 2023-05-10 18:55:43,418]\u001b[0m Trial 88 finished with value: 0.8420691132220264 and parameters: {'C': 0.2642114984274249}. Best is trial 79 with value: 0.8937300714161496.\u001b[0m\n"
     ]
    },
    {
     "name": "stdout",
     "output_type": "stream",
     "text": [
      "Overall accuracy: 0.843\n",
      "\n"
     ]
    },
    {
     "name": "stderr",
     "output_type": "stream",
     "text": [
      "\u001b[32m[I 2023-05-10 18:55:44,067]\u001b[0m Trial 89 finished with value: 0.8937300714161496 and parameters: {'C': 10.263311509532631}. Best is trial 79 with value: 0.8937300714161496.\u001b[0m\n"
     ]
    },
    {
     "name": "stdout",
     "output_type": "stream",
     "text": [
      "Overall accuracy: 0.894\n",
      "\n"
     ]
    },
    {
     "name": "stderr",
     "output_type": "stream",
     "text": [
      "\u001b[32m[I 2023-05-10 18:55:44,775]\u001b[0m Trial 90 finished with value: 0.8929508740605374 and parameters: {'C': 9.350142011306682}. Best is trial 79 with value: 0.8937300714161496.\u001b[0m\n"
     ]
    },
    {
     "name": "stdout",
     "output_type": "stream",
     "text": [
      "Overall accuracy: 0.893\n",
      "\n"
     ]
    },
    {
     "name": "stderr",
     "output_type": "stream",
     "text": [
      "\u001b[32m[I 2023-05-10 18:55:45,547]\u001b[0m Trial 91 finished with value: 0.8764663992169652 and parameters: {'C': 1.282538879863791}. Best is trial 79 with value: 0.8937300714161496.\u001b[0m\n"
     ]
    },
    {
     "name": "stdout",
     "output_type": "stream",
     "text": [
      "Overall accuracy: 0.877\n",
      "\n"
     ]
    },
    {
     "name": "stderr",
     "output_type": "stream",
     "text": [
      "\u001b[32m[I 2023-05-10 18:55:46,189]\u001b[0m Trial 92 finished with value: 0.8932844156748796 and parameters: {'C': 5.503577133267347}. Best is trial 79 with value: 0.8937300714161496.\u001b[0m\n"
     ]
    },
    {
     "name": "stdout",
     "output_type": "stream",
     "text": [
      "Overall accuracy: 0.894\n",
      "\n"
     ]
    },
    {
     "name": "stderr",
     "output_type": "stream",
     "text": [
      "\u001b[32m[I 2023-05-10 18:55:46,879]\u001b[0m Trial 93 finished with value: 0.8929064070194541 and parameters: {'C': 6.134312850301677}. Best is trial 79 with value: 0.8937300714161496.\u001b[0m\n"
     ]
    },
    {
     "name": "stdout",
     "output_type": "stream",
     "text": [
      "Overall accuracy: 0.893\n",
      "\n"
     ]
    },
    {
     "name": "stderr",
     "output_type": "stream",
     "text": [
      "\u001b[32m[I 2023-05-10 18:55:47,569]\u001b[0m Trial 94 finished with value: 0.8878653902549345 and parameters: {'C': 56.54811939747591}. Best is trial 79 with value: 0.8937300714161496.\u001b[0m\n"
     ]
    },
    {
     "name": "stdout",
     "output_type": "stream",
     "text": [
      "Overall accuracy: 0.888\n",
      "\n"
     ]
    },
    {
     "name": "stderr",
     "output_type": "stream",
     "text": [
      "\u001b[32m[I 2023-05-10 18:55:48,529]\u001b[0m Trial 95 finished with value: 0.8655684229985329 and parameters: {'C': 0.5811870970839998}. Best is trial 79 with value: 0.8937300714161496.\u001b[0m\n"
     ]
    },
    {
     "name": "stdout",
     "output_type": "stream",
     "text": [
      "Overall accuracy: 0.867\n",
      "\n"
     ]
    },
    {
     "name": "stderr",
     "output_type": "stream",
     "text": [
      "\u001b[32m[I 2023-05-10 18:55:49,393]\u001b[0m Trial 96 finished with value: 0.8809479944196215 and parameters: {'C': 162.00326018311503}. Best is trial 79 with value: 0.8937300714161496.\u001b[0m\n"
     ]
    },
    {
     "name": "stdout",
     "output_type": "stream",
     "text": [
      "Overall accuracy: 0.881\n",
      "\n"
     ]
    },
    {
     "name": "stderr",
     "output_type": "stream",
     "text": [
      "\u001b[32m[I 2023-05-10 18:55:49,975]\u001b[0m Trial 97 finished with value: 0.8905917997067362 and parameters: {'C': 21.21423494200479}. Best is trial 79 with value: 0.8937300714161496.\u001b[0m\n"
     ]
    },
    {
     "name": "stdout",
     "output_type": "stream",
     "text": [
      "Overall accuracy: 0.891\n",
      "\n"
     ]
    },
    {
     "name": "stderr",
     "output_type": "stream",
     "text": [
      "\u001b[32m[I 2023-05-10 18:55:50,677]\u001b[0m Trial 98 finished with value: 0.8916916558281816 and parameters: {'C': 3.384179717675826}. Best is trial 79 with value: 0.8937300714161496.\u001b[0m\n"
     ]
    },
    {
     "name": "stdout",
     "output_type": "stream",
     "text": [
      "Overall accuracy: 0.892\n",
      "\n"
     ]
    },
    {
     "name": "stderr",
     "output_type": "stream",
     "text": [
      "\u001b[32m[I 2023-05-10 18:55:52,026]\u001b[0m Trial 99 finished with value: 0.8695015806649387 and parameters: {'C': 835.3421018392221}. Best is trial 79 with value: 0.8937300714161496.\u001b[0m\n",
      "\u001b[32m[I 2023-05-10 18:55:52,204]\u001b[0m A new study created in memory with name: no-name-41997a7f-49a4-435e-b3cc-9c16ea90b82a\u001b[0m\n"
     ]
    },
    {
     "name": "stdout",
     "output_type": "stream",
     "text": [
      "Overall accuracy: 0.870\n",
      "\n",
      "Accuracy: 0.8937300714161496\n",
      "Best hyperparameters: {'C': 10.048020657539734}\n",
      "\n",
      "\n",
      "\n",
      "Model :- SVC, DataType :- RSacid\n"
     ]
    },
    {
     "name": "stderr",
     "output_type": "stream",
     "text": [
      "\u001b[32m[I 2023-05-10 18:55:52,866]\u001b[0m Trial 0 finished with value: 0.8895343170577416 and parameters: {'C': 5.508993983984892}. Best is trial 0 with value: 0.8895343170577416.\u001b[0m\n"
     ]
    },
    {
     "name": "stdout",
     "output_type": "stream",
     "text": [
      "Overall accuracy: 0.890\n",
      "\n"
     ]
    },
    {
     "name": "stderr",
     "output_type": "stream",
     "text": [
      "\u001b[32m[I 2023-05-10 18:55:54,326]\u001b[0m Trial 1 finished with value: 0.3416213416213416 and parameters: {'C': 6.792341826976737e-07}. Best is trial 0 with value: 0.8895343170577416.\u001b[0m\n"
     ]
    },
    {
     "name": "stdout",
     "output_type": "stream",
     "text": [
      "Overall accuracy: 0.519\n",
      "\n"
     ]
    },
    {
     "name": "stderr",
     "output_type": "stream",
     "text": [
      "\u001b[32m[I 2023-05-10 18:55:55,852]\u001b[0m Trial 2 finished with value: 0.3416213416213416 and parameters: {'C': 3.5062636452471777e-06}. Best is trial 0 with value: 0.8895343170577416.\u001b[0m\n"
     ]
    },
    {
     "name": "stdout",
     "output_type": "stream",
     "text": [
      "Overall accuracy: 0.519\n",
      "\n"
     ]
    },
    {
     "name": "stderr",
     "output_type": "stream",
     "text": [
      "\u001b[32m[I 2023-05-10 18:55:56,477]\u001b[0m Trial 3 finished with value: 0.8856174466986424 and parameters: {'C': 7.248968922142712}. Best is trial 0 with value: 0.8895343170577416.\u001b[0m\n"
     ]
    },
    {
     "name": "stdout",
     "output_type": "stream",
     "text": [
      "Overall accuracy: 0.886\n",
      "\n"
     ]
    },
    {
     "name": "stderr",
     "output_type": "stream",
     "text": [
      "\u001b[32m[I 2023-05-10 18:55:58,158]\u001b[0m Trial 4 finished with value: 0.3416213416213416 and parameters: {'C': 1.730578218209008e-05}. Best is trial 0 with value: 0.8895343170577416.\u001b[0m\n"
     ]
    },
    {
     "name": "stdout",
     "output_type": "stream",
     "text": [
      "Overall accuracy: 0.519\n",
      "\n"
     ]
    },
    {
     "name": "stderr",
     "output_type": "stream",
     "text": [
      "\u001b[32m[I 2023-05-10 18:55:59,733]\u001b[0m Trial 5 finished with value: 0.3416213416213416 and parameters: {'C': 6.147697561067468e-07}. Best is trial 0 with value: 0.8895343170577416.\u001b[0m\n"
     ]
    },
    {
     "name": "stdout",
     "output_type": "stream",
     "text": [
      "Overall accuracy: 0.519\n",
      "\n"
     ]
    },
    {
     "name": "stderr",
     "output_type": "stream",
     "text": [
      "\u001b[32m[I 2023-05-10 18:56:00,653]\u001b[0m Trial 6 finished with value: 0.8581934824043512 and parameters: {'C': 5485.849297170095}. Best is trial 0 with value: 0.8895343170577416.\u001b[0m\n"
     ]
    },
    {
     "name": "stdout",
     "output_type": "stream",
     "text": [
      "Overall accuracy: 0.858\n",
      "\n"
     ]
    },
    {
     "name": "stderr",
     "output_type": "stream",
     "text": [
      "\u001b[32m[I 2023-05-10 18:56:01,362]\u001b[0m Trial 7 finished with value: 0.8809305632503454 and parameters: {'C': 20.732983044027947}. Best is trial 0 with value: 0.8895343170577416.\u001b[0m\n"
     ]
    },
    {
     "name": "stdout",
     "output_type": "stream",
     "text": [
      "Overall accuracy: 0.881\n",
      "\n"
     ]
    },
    {
     "name": "stderr",
     "output_type": "stream",
     "text": [
      "\u001b[32m[I 2023-05-10 18:56:03,033]\u001b[0m Trial 8 finished with value: 0.3416213416213416 and parameters: {'C': 3.628415546051636e-10}. Best is trial 0 with value: 0.8895343170577416.\u001b[0m\n"
     ]
    },
    {
     "name": "stdout",
     "output_type": "stream",
     "text": [
      "Overall accuracy: 0.519\n",
      "\n"
     ]
    },
    {
     "name": "stderr",
     "output_type": "stream",
     "text": [
      "\u001b[32m[I 2023-05-10 18:56:04,692]\u001b[0m Trial 9 finished with value: 0.3416213416213416 and parameters: {'C': 5.276524597036703e-08}. Best is trial 0 with value: 0.8895343170577416.\u001b[0m\n"
     ]
    },
    {
     "name": "stdout",
     "output_type": "stream",
     "text": [
      "Overall accuracy: 0.519\n",
      "\n"
     ]
    },
    {
     "name": "stderr",
     "output_type": "stream",
     "text": [
      "\u001b[32m[I 2023-05-10 18:56:05,630]\u001b[0m Trial 10 finished with value: 0.8581934824043512 and parameters: {'C': 130223186.48784031}. Best is trial 0 with value: 0.8895343170577416.\u001b[0m\n"
     ]
    },
    {
     "name": "stdout",
     "output_type": "stream",
     "text": [
      "Overall accuracy: 0.858\n",
      "\n"
     ]
    },
    {
     "name": "stderr",
     "output_type": "stream",
     "text": [
      "\u001b[32m[I 2023-05-10 18:56:07,246]\u001b[0m Trial 11 finished with value: 0.8488260197900925 and parameters: {'C': 0.04700425523486891}. Best is trial 0 with value: 0.8895343170577416.\u001b[0m\n"
     ]
    },
    {
     "name": "stdout",
     "output_type": "stream",
     "text": [
      "Overall accuracy: 0.850\n",
      "\n"
     ]
    },
    {
     "name": "stderr",
     "output_type": "stream",
     "text": [
      "\u001b[32m[I 2023-05-10 18:56:08,429]\u001b[0m Trial 12 finished with value: 0.8694204100540961 and parameters: {'C': 0.1677407494476682}. Best is trial 0 with value: 0.8895343170577416.\u001b[0m\n"
     ]
    },
    {
     "name": "stdout",
     "output_type": "stream",
     "text": [
      "Overall accuracy: 0.870\n",
      "\n"
     ]
    },
    {
     "name": "stderr",
     "output_type": "stream",
     "text": [
      "\u001b[32m[I 2023-05-10 18:56:09,671]\u001b[0m Trial 13 finished with value: 0.8554319890471501 and parameters: {'C': 1536.205952739493}. Best is trial 0 with value: 0.8895343170577416.\u001b[0m\n"
     ]
    },
    {
     "name": "stdout",
     "output_type": "stream",
     "text": [
      "Overall accuracy: 0.856\n",
      "\n"
     ]
    },
    {
     "name": "stderr",
     "output_type": "stream",
     "text": [
      "\u001b[32m[I 2023-05-10 18:56:11,341]\u001b[0m Trial 14 finished with value: 0.3416213416213416 and parameters: {'C': 0.004052224435772096}. Best is trial 0 with value: 0.8895343170577416.\u001b[0m\n"
     ]
    },
    {
     "name": "stdout",
     "output_type": "stream",
     "text": [
      "Overall accuracy: 0.519\n",
      "\n"
     ]
    },
    {
     "name": "stderr",
     "output_type": "stream",
     "text": [
      "\u001b[32m[I 2023-05-10 18:56:12,165]\u001b[0m Trial 15 finished with value: 0.8793882050852662 and parameters: {'C': 44.976946525847936}. Best is trial 0 with value: 0.8895343170577416.\u001b[0m\n"
     ]
    },
    {
     "name": "stdout",
     "output_type": "stream",
     "text": [
      "Overall accuracy: 0.880\n",
      "\n"
     ]
    },
    {
     "name": "stderr",
     "output_type": "stream",
     "text": [
      "\u001b[32m[I 2023-05-10 18:56:13,132]\u001b[0m Trial 16 finished with value: 0.8581934824043512 and parameters: {'C': 466351.2645541296}. Best is trial 0 with value: 0.8895343170577416.\u001b[0m\n"
     ]
    },
    {
     "name": "stdout",
     "output_type": "stream",
     "text": [
      "Overall accuracy: 0.858\n",
      "\n"
     ]
    },
    {
     "name": "stderr",
     "output_type": "stream",
     "text": [
      "\u001b[32m[I 2023-05-10 18:56:14,762]\u001b[0m Trial 17 finished with value: 0.3416213416213416 and parameters: {'C': 0.0008991401002005891}. Best is trial 0 with value: 0.8895343170577416.\u001b[0m\n"
     ]
    },
    {
     "name": "stdout",
     "output_type": "stream",
     "text": [
      "Overall accuracy: 0.519\n",
      "\n"
     ]
    },
    {
     "name": "stderr",
     "output_type": "stream",
     "text": [
      "\u001b[32m[I 2023-05-10 18:56:15,425]\u001b[0m Trial 18 finished with value: 0.890665053869045 and parameters: {'C': 3.52115435579678}. Best is trial 18 with value: 0.890665053869045.\u001b[0m\n"
     ]
    },
    {
     "name": "stdout",
     "output_type": "stream",
     "text": [
      "Overall accuracy: 0.891\n",
      "\n"
     ]
    },
    {
     "name": "stderr",
     "output_type": "stream",
     "text": [
      "\u001b[32m[I 2023-05-10 18:56:16,132]\u001b[0m Trial 19 finished with value: 0.8862181639138803 and parameters: {'C': 0.7669242308020892}. Best is trial 18 with value: 0.890665053869045.\u001b[0m\n"
     ]
    },
    {
     "name": "stdout",
     "output_type": "stream",
     "text": [
      "Overall accuracy: 0.887\n",
      "\n"
     ]
    },
    {
     "name": "stderr",
     "output_type": "stream",
     "text": [
      "\u001b[32m[I 2023-05-10 18:56:17,047]\u001b[0m Trial 20 finished with value: 0.8581934824043512 and parameters: {'C': 4783398033.15793}. Best is trial 18 with value: 0.890665053869045.\u001b[0m\n"
     ]
    },
    {
     "name": "stdout",
     "output_type": "stream",
     "text": [
      "Overall accuracy: 0.858\n",
      "\n"
     ]
    },
    {
     "name": "stderr",
     "output_type": "stream",
     "text": [
      "\u001b[32m[I 2023-05-10 18:56:17,840]\u001b[0m Trial 21 finished with value: 0.8866073711410308 and parameters: {'C': 0.7716938914632699}. Best is trial 18 with value: 0.890665053869045.\u001b[0m\n"
     ]
    },
    {
     "name": "stdout",
     "output_type": "stream",
     "text": [
      "Overall accuracy: 0.887\n",
      "\n"
     ]
    },
    {
     "name": "stderr",
     "output_type": "stream",
     "text": [
      "\u001b[32m[I 2023-05-10 18:56:19,529]\u001b[0m Trial 22 finished with value: 0.3416213416213416 and parameters: {'C': 0.003200579216516546}. Best is trial 18 with value: 0.890665053869045.\u001b[0m\n"
     ]
    },
    {
     "name": "stdout",
     "output_type": "stream",
     "text": [
      "Overall accuracy: 0.519\n",
      "\n"
     ]
    },
    {
     "name": "stderr",
     "output_type": "stream",
     "text": [
      "\u001b[32m[I 2023-05-10 18:56:20,425]\u001b[0m Trial 23 finished with value: 0.8546524411701403 and parameters: {'C': 784.7463867074127}. Best is trial 18 with value: 0.890665053869045.\u001b[0m\n"
     ]
    },
    {
     "name": "stdout",
     "output_type": "stream",
     "text": [
      "Overall accuracy: 0.855\n",
      "\n"
     ]
    },
    {
     "name": "stderr",
     "output_type": "stream",
     "text": [
      "\u001b[32m[I 2023-05-10 18:56:21,465]\u001b[0m Trial 24 finished with value: 0.8945415542299586 and parameters: {'C': 1.6483527313965074}. Best is trial 24 with value: 0.8945415542299586.\u001b[0m\n"
     ]
    },
    {
     "name": "stdout",
     "output_type": "stream",
     "text": [
      "Overall accuracy: 0.895\n",
      "\n"
     ]
    },
    {
     "name": "stderr",
     "output_type": "stream",
     "text": [
      "\u001b[32m[I 2023-05-10 18:56:22,533]\u001b[0m Trial 25 finished with value: 0.8581934824043512 and parameters: {'C': 71797.04213904425}. Best is trial 24 with value: 0.8945415542299586.\u001b[0m\n"
     ]
    },
    {
     "name": "stdout",
     "output_type": "stream",
     "text": [
      "Overall accuracy: 0.858\n",
      "\n"
     ]
    },
    {
     "name": "stderr",
     "output_type": "stream",
     "text": [
      "\u001b[32m[I 2023-05-10 18:56:23,205]\u001b[0m Trial 26 finished with value: 0.8934424753315775 and parameters: {'C': 3.1133989290824364}. Best is trial 24 with value: 0.8945415542299586.\u001b[0m\n"
     ]
    },
    {
     "name": "stdout",
     "output_type": "stream",
     "text": [
      "Overall accuracy: 0.894\n",
      "\n"
     ]
    },
    {
     "name": "stderr",
     "output_type": "stream",
     "text": [
      "\u001b[32m[I 2023-05-10 18:56:24,201]\u001b[0m Trial 27 finished with value: 0.8707677466193742 and parameters: {'C': 105.37889228580302}. Best is trial 24 with value: 0.8945415542299586.\u001b[0m\n"
     ]
    },
    {
     "name": "stdout",
     "output_type": "stream",
     "text": [
      "Overall accuracy: 0.871\n",
      "\n"
     ]
    },
    {
     "name": "stderr",
     "output_type": "stream",
     "text": [
      "\u001b[32m[I 2023-05-10 18:56:25,277]\u001b[0m Trial 28 finished with value: 0.8586219010533711 and parameters: {'C': 0.0759026213079703}. Best is trial 24 with value: 0.8945415542299586.\u001b[0m\n"
     ]
    },
    {
     "name": "stdout",
     "output_type": "stream",
     "text": [
      "Overall accuracy: 0.860\n",
      "\n"
     ]
    },
    {
     "name": "stderr",
     "output_type": "stream",
     "text": [
      "\u001b[32m[I 2023-05-10 18:56:25,914]\u001b[0m Trial 29 finished with value: 0.8926434931234597 and parameters: {'C': 3.3123946691181922}. Best is trial 24 with value: 0.8945415542299586.\u001b[0m\n"
     ]
    },
    {
     "name": "stdout",
     "output_type": "stream",
     "text": [
      "Overall accuracy: 0.893\n",
      "\n"
     ]
    },
    {
     "name": "stderr",
     "output_type": "stream",
     "text": [
      "\u001b[32m[I 2023-05-10 18:56:27,359]\u001b[0m Trial 30 finished with value: 0.3416213416213416 and parameters: {'C': 0.00016642998166054417}. Best is trial 24 with value: 0.8945415542299586.\u001b[0m\n"
     ]
    },
    {
     "name": "stdout",
     "output_type": "stream",
     "text": [
      "Overall accuracy: 0.519\n",
      "\n"
     ]
    },
    {
     "name": "stderr",
     "output_type": "stream",
     "text": [
      "\u001b[32m[I 2023-05-10 18:56:28,009]\u001b[0m Trial 31 finished with value: 0.8953419126563373 and parameters: {'C': 1.737261976009889}. Best is trial 31 with value: 0.8953419126563373.\u001b[0m\n"
     ]
    },
    {
     "name": "stdout",
     "output_type": "stream",
     "text": [
      "Overall accuracy: 0.896\n",
      "\n"
     ]
    },
    {
     "name": "stderr",
     "output_type": "stream",
     "text": [
      "\u001b[32m[I 2023-05-10 18:56:28,661]\u001b[0m Trial 32 finished with value: 0.8934424753315775 and parameters: {'C': 3.0157180063884077}. Best is trial 31 with value: 0.8953419126563373.\u001b[0m\n"
     ]
    },
    {
     "name": "stdout",
     "output_type": "stream",
     "text": [
      "Overall accuracy: 0.894\n",
      "\n"
     ]
    },
    {
     "name": "stderr",
     "output_type": "stream",
     "text": [
      "\u001b[32m[I 2023-05-10 18:56:30,172]\u001b[0m Trial 33 finished with value: 0.8362580339999489 and parameters: {'C': 0.02646071201413076}. Best is trial 31 with value: 0.8953419126563373.\u001b[0m\n"
     ]
    },
    {
     "name": "stdout",
     "output_type": "stream",
     "text": [
      "Overall accuracy: 0.838\n",
      "\n"
     ]
    },
    {
     "name": "stderr",
     "output_type": "stream",
     "text": [
      "\u001b[32m[I 2023-05-10 18:56:31,201]\u001b[0m Trial 34 finished with value: 0.8637003233260933 and parameters: {'C': 133.37511473495832}. Best is trial 31 with value: 0.8953419126563373.\u001b[0m\n"
     ]
    },
    {
     "name": "stdout",
     "output_type": "stream",
     "text": [
      "Overall accuracy: 0.864\n",
      "\n"
     ]
    },
    {
     "name": "stderr",
     "output_type": "stream",
     "text": [
      "\u001b[32m[I 2023-05-10 18:56:32,047]\u001b[0m Trial 35 finished with value: 0.8886113321068072 and parameters: {'C': 0.938339605294904}. Best is trial 31 with value: 0.8953419126563373.\u001b[0m\n"
     ]
    },
    {
     "name": "stdout",
     "output_type": "stream",
     "text": [
      "Overall accuracy: 0.889\n",
      "\n"
     ]
    },
    {
     "name": "stderr",
     "output_type": "stream",
     "text": [
      "\u001b[32m[I 2023-05-10 18:56:33,290]\u001b[0m Trial 36 finished with value: 0.8447418740439121 and parameters: {'C': 0.03961462329032834}. Best is trial 31 with value: 0.8953419126563373.\u001b[0m\n"
     ]
    },
    {
     "name": "stdout",
     "output_type": "stream",
     "text": [
      "Overall accuracy: 0.846\n",
      "\n"
     ]
    },
    {
     "name": "stderr",
     "output_type": "stream",
     "text": [
      "\u001b[32m[I 2023-05-10 18:56:33,981]\u001b[0m Trial 37 finished with value: 0.8821177420508055 and parameters: {'C': 12.336530149430825}. Best is trial 31 with value: 0.8953419126563373.\u001b[0m\n"
     ]
    },
    {
     "name": "stdout",
     "output_type": "stream",
     "text": [
      "Overall accuracy: 0.882\n",
      "\n"
     ]
    },
    {
     "name": "stderr",
     "output_type": "stream",
     "text": [
      "\u001b[32m[I 2023-05-10 18:56:35,545]\u001b[0m Trial 38 finished with value: 0.3416213416213416 and parameters: {'C': 0.0002885141326308284}. Best is trial 31 with value: 0.8953419126563373.\u001b[0m\n"
     ]
    },
    {
     "name": "stdout",
     "output_type": "stream",
     "text": [
      "Overall accuracy: 0.519\n",
      "\n"
     ]
    },
    {
     "name": "stderr",
     "output_type": "stream",
     "text": [
      "\u001b[32m[I 2023-05-10 18:56:36,423]\u001b[0m Trial 39 finished with value: 0.8652838082841336 and parameters: {'C': 209.65658564237398}. Best is trial 31 with value: 0.8953419126563373.\u001b[0m\n"
     ]
    },
    {
     "name": "stdout",
     "output_type": "stream",
     "text": [
      "Overall accuracy: 0.865\n",
      "\n"
     ]
    },
    {
     "name": "stderr",
     "output_type": "stream",
     "text": [
      "\u001b[32m[I 2023-05-10 18:56:37,137]\u001b[0m Trial 40 finished with value: 0.8813379186811567 and parameters: {'C': 27.339073285831958}. Best is trial 31 with value: 0.8953419126563373.\u001b[0m\n"
     ]
    },
    {
     "name": "stdout",
     "output_type": "stream",
     "text": [
      "Overall accuracy: 0.882\n",
      "\n"
     ]
    },
    {
     "name": "stderr",
     "output_type": "stream",
     "text": [
      "\u001b[32m[I 2023-05-10 18:56:37,889]\u001b[0m Trial 41 finished with value: 0.889412389118736 and parameters: {'C': 1.1966148571481354}. Best is trial 31 with value: 0.8953419126563373.\u001b[0m\n"
     ]
    },
    {
     "name": "stdout",
     "output_type": "stream",
     "text": [
      "Overall accuracy: 0.890\n",
      "\n"
     ]
    },
    {
     "name": "stderr",
     "output_type": "stream",
     "text": [
      "\u001b[32m[I 2023-05-10 18:56:38,643]\u001b[0m Trial 42 finished with value: 0.895362331402376 and parameters: {'C': 2.3566846314530125}. Best is trial 42 with value: 0.895362331402376.\u001b[0m\n"
     ]
    },
    {
     "name": "stdout",
     "output_type": "stream",
     "text": [
      "Overall accuracy: 0.896\n",
      "\n"
     ]
    },
    {
     "name": "stderr",
     "output_type": "stream",
     "text": [
      "\u001b[32m[I 2023-05-10 18:56:39,511]\u001b[0m Trial 43 finished with value: 0.8786135268563415 and parameters: {'C': 0.3792164454066579}. Best is trial 42 with value: 0.895362331402376.\u001b[0m\n"
     ]
    },
    {
     "name": "stdout",
     "output_type": "stream",
     "text": [
      "Overall accuracy: 0.879\n",
      "\n"
     ]
    },
    {
     "name": "stderr",
     "output_type": "stream",
     "text": [
      "\u001b[32m[I 2023-05-10 18:56:40,142]\u001b[0m Trial 44 finished with value: 0.8856617991476827 and parameters: {'C': 9.682562754732459}. Best is trial 42 with value: 0.895362331402376.\u001b[0m\n"
     ]
    },
    {
     "name": "stdout",
     "output_type": "stream",
     "text": [
      "Overall accuracy: 0.886\n",
      "\n"
     ]
    },
    {
     "name": "stderr",
     "output_type": "stream",
     "text": [
      "\u001b[32m[I 2023-05-10 18:56:41,691]\u001b[0m Trial 45 finished with value: 0.3416213416213416 and parameters: {'C': 0.006485670333228539}. Best is trial 42 with value: 0.895362331402376.\u001b[0m\n"
     ]
    },
    {
     "name": "stdout",
     "output_type": "stream",
     "text": [
      "Overall accuracy: 0.519\n",
      "\n"
     ]
    },
    {
     "name": "stderr",
     "output_type": "stream",
     "text": [
      "\u001b[32m[I 2023-05-10 18:56:42,615]\u001b[0m Trial 46 finished with value: 0.8678215784042838 and parameters: {'C': 0.1548664585340296}. Best is trial 42 with value: 0.895362331402376.\u001b[0m\n"
     ]
    },
    {
     "name": "stdout",
     "output_type": "stream",
     "text": [
      "Overall accuracy: 0.869\n",
      "\n"
     ]
    },
    {
     "name": "stderr",
     "output_type": "stream",
     "text": [
      "\u001b[32m[I 2023-05-10 18:56:43,299]\u001b[0m Trial 47 finished with value: 0.8860072528905194 and parameters: {'C': 6.866291050133413}. Best is trial 42 with value: 0.895362331402376.\u001b[0m\n"
     ]
    },
    {
     "name": "stdout",
     "output_type": "stream",
     "text": [
      "Overall accuracy: 0.886\n",
      "\n"
     ]
    },
    {
     "name": "stderr",
     "output_type": "stream",
     "text": [
      "\u001b[32m[I 2023-05-10 18:56:44,221]\u001b[0m Trial 48 finished with value: 0.8577954987630005 and parameters: {'C': 2917.55080392808}. Best is trial 42 with value: 0.895362331402376.\u001b[0m\n"
     ]
    },
    {
     "name": "stdout",
     "output_type": "stream",
     "text": [
      "Overall accuracy: 0.858\n",
      "\n"
     ]
    },
    {
     "name": "stderr",
     "output_type": "stream",
     "text": [
      "\u001b[32m[I 2023-05-10 18:56:45,255]\u001b[0m Trial 49 finished with value: 0.8609775229493539 and parameters: {'C': 336.97394687113143}. Best is trial 42 with value: 0.895362331402376.\u001b[0m\n"
     ]
    },
    {
     "name": "stdout",
     "output_type": "stream",
     "text": [
      "Overall accuracy: 0.861\n",
      "\n"
     ]
    },
    {
     "name": "stderr",
     "output_type": "stream",
     "text": [
      "\u001b[32m[I 2023-05-10 18:56:46,827]\u001b[0m Trial 50 finished with value: 0.8163931990690801 and parameters: {'C': 0.018506112635599748}. Best is trial 42 with value: 0.895362331402376.\u001b[0m\n"
     ]
    },
    {
     "name": "stdout",
     "output_type": "stream",
     "text": [
      "Overall accuracy: 0.820\n",
      "\n"
     ]
    },
    {
     "name": "stderr",
     "output_type": "stream",
     "text": [
      "\u001b[32m[I 2023-05-10 18:56:47,473]\u001b[0m Trial 51 finished with value: 0.8930525832070004 and parameters: {'C': 3.171562428379431}. Best is trial 42 with value: 0.895362331402376.\u001b[0m\n"
     ]
    },
    {
     "name": "stdout",
     "output_type": "stream",
     "text": [
      "Overall accuracy: 0.893\n",
      "\n"
     ]
    },
    {
     "name": "stderr",
     "output_type": "stream",
     "text": [
      "\u001b[32m[I 2023-05-10 18:56:48,449]\u001b[0m Trial 52 finished with value: 0.8737806667118063 and parameters: {'C': 0.22122530299800075}. Best is trial 42 with value: 0.895362331402376.\u001b[0m\n"
     ]
    },
    {
     "name": "stdout",
     "output_type": "stream",
     "text": [
      "Overall accuracy: 0.875\n",
      "\n"
     ]
    },
    {
     "name": "stderr",
     "output_type": "stream",
     "text": [
      "\u001b[32m[I 2023-05-10 18:56:49,344]\u001b[0m Trial 53 finished with value: 0.8793882050852662 and parameters: {'C': 43.674389399947245}. Best is trial 42 with value: 0.895362331402376.\u001b[0m\n"
     ]
    },
    {
     "name": "stdout",
     "output_type": "stream",
     "text": [
      "Overall accuracy: 0.880\n",
      "\n"
     ]
    },
    {
     "name": "stderr",
     "output_type": "stream",
     "text": [
      "\u001b[32m[I 2023-05-10 18:56:50,440]\u001b[0m Trial 54 finished with value: 0.8942317903291215 and parameters: {'C': 2.914543491339798}. Best is trial 42 with value: 0.895362331402376.\u001b[0m\n"
     ]
    },
    {
     "name": "stdout",
     "output_type": "stream",
     "text": [
      "Overall accuracy: 0.895\n",
      "\n"
     ]
    },
    {
     "name": "stderr",
     "output_type": "stream",
     "text": [
      "\u001b[32m[I 2023-05-10 18:56:51,223]\u001b[0m Trial 55 finished with value: 0.8813379186811567 and parameters: {'C': 25.59446053681125}. Best is trial 42 with value: 0.895362331402376.\u001b[0m\n"
     ]
    },
    {
     "name": "stdout",
     "output_type": "stream",
     "text": [
      "Overall accuracy: 0.882\n",
      "\n"
     ]
    },
    {
     "name": "stderr",
     "output_type": "stream",
     "text": [
      "\u001b[32m[I 2023-05-10 18:56:52,052]\u001b[0m Trial 56 finished with value: 0.8730045042374008 and parameters: {'C': 0.23694645441699466}. Best is trial 42 with value: 0.895362331402376.\u001b[0m\n"
     ]
    },
    {
     "name": "stdout",
     "output_type": "stream",
     "text": [
      "Overall accuracy: 0.874\n",
      "\n"
     ]
    },
    {
     "name": "stderr",
     "output_type": "stream",
     "text": [
      "\u001b[32m[I 2023-05-10 18:56:53,052]\u001b[0m Trial 57 finished with value: 0.8566415797797708 and parameters: {'C': 587.4593045291132}. Best is trial 42 with value: 0.895362331402376.\u001b[0m\n"
     ]
    },
    {
     "name": "stdout",
     "output_type": "stream",
     "text": [
      "Overall accuracy: 0.857\n",
      "\n"
     ]
    },
    {
     "name": "stderr",
     "output_type": "stream",
     "text": [
      "\u001b[32m[I 2023-05-10 18:56:53,962]\u001b[0m Trial 58 finished with value: 0.8581934824043512 and parameters: {'C': 15595.617574758384}. Best is trial 42 with value: 0.895362331402376.\u001b[0m\n"
     ]
    },
    {
     "name": "stdout",
     "output_type": "stream",
     "text": [
      "Overall accuracy: 0.858\n",
      "\n"
     ]
    },
    {
     "name": "stderr",
     "output_type": "stream",
     "text": [
      "\u001b[32m[I 2023-05-10 18:56:54,708]\u001b[0m Trial 59 finished with value: 0.8969417679095097 and parameters: {'C': 2.0006733554817755}. Best is trial 59 with value: 0.8969417679095097.\u001b[0m\n"
     ]
    },
    {
     "name": "stdout",
     "output_type": "stream",
     "text": [
      "Overall accuracy: 0.897\n",
      "\n"
     ]
    },
    {
     "name": "stderr",
     "output_type": "stream",
     "text": [
      "\u001b[32m[I 2023-05-10 18:56:55,824]\u001b[0m Trial 60 finished with value: 0.8586400475159504 and parameters: {'C': 0.08816653178935753}. Best is trial 59 with value: 0.8969417679095097.\u001b[0m\n"
     ]
    },
    {
     "name": "stdout",
     "output_type": "stream",
     "text": [
      "Overall accuracy: 0.860\n",
      "\n"
     ]
    },
    {
     "name": "stderr",
     "output_type": "stream",
     "text": [
      "\u001b[32m[I 2023-05-10 18:56:56,487]\u001b[0m Trial 61 finished with value: 0.8973316672435017 and parameters: {'C': 1.9242211723416096}. Best is trial 61 with value: 0.8973316672435017.\u001b[0m\n"
     ]
    },
    {
     "name": "stdout",
     "output_type": "stream",
     "text": [
      "Overall accuracy: 0.898\n",
      "\n"
     ]
    },
    {
     "name": "stderr",
     "output_type": "stream",
     "text": [
      "\u001b[32m[I 2023-05-10 18:56:57,207]\u001b[0m Trial 62 finished with value: 0.8898236244031681 and parameters: {'C': 1.2570692078021808}. Best is trial 61 with value: 0.8973316672435017.\u001b[0m\n"
     ]
    },
    {
     "name": "stdout",
     "output_type": "stream",
     "text": [
      "Overall accuracy: 0.890\n",
      "\n"
     ]
    },
    {
     "name": "stderr",
     "output_type": "stream",
     "text": [
      "\u001b[32m[I 2023-05-10 18:56:58,021]\u001b[0m Trial 63 finished with value: 0.8747077543443932 and parameters: {'C': 83.3223422657095}. Best is trial 61 with value: 0.8973316672435017.\u001b[0m\n"
     ]
    },
    {
     "name": "stdout",
     "output_type": "stream",
     "text": [
      "Overall accuracy: 0.875\n",
      "\n"
     ]
    },
    {
     "name": "stderr",
     "output_type": "stream",
     "text": [
      "\u001b[32m[I 2023-05-10 18:56:58,686]\u001b[0m Trial 64 finished with value: 0.8852545552834928 and parameters: {'C': 7.771128019843374}. Best is trial 61 with value: 0.8973316672435017.\u001b[0m\n"
     ]
    },
    {
     "name": "stdout",
     "output_type": "stream",
     "text": [
      "Overall accuracy: 0.886\n",
      "\n"
     ]
    },
    {
     "name": "stderr",
     "output_type": "stream",
     "text": [
      "\u001b[32m[I 2023-05-10 18:56:59,565]\u001b[0m Trial 65 finished with value: 0.884248739497888 and parameters: {'C': 0.6277845461059077}. Best is trial 61 with value: 0.8973316672435017.\u001b[0m\n"
     ]
    },
    {
     "name": "stdout",
     "output_type": "stream",
     "text": [
      "Overall accuracy: 0.885\n",
      "\n"
     ]
    },
    {
     "name": "stderr",
     "output_type": "stream",
     "text": [
      "\u001b[32m[I 2023-05-10 18:57:00,250]\u001b[0m Trial 66 finished with value: 0.8805494663135898 and parameters: {'C': 18.391514296621125}. Best is trial 61 with value: 0.8973316672435017.\u001b[0m\n"
     ]
    },
    {
     "name": "stdout",
     "output_type": "stream",
     "text": [
      "Overall accuracy: 0.881\n",
      "\n"
     ]
    },
    {
     "name": "stderr",
     "output_type": "stream",
     "text": [
      "\u001b[32m[I 2023-05-10 18:57:01,746]\u001b[0m Trial 67 finished with value: 0.7301568494329767 and parameters: {'C': 0.013694054031780709}. Best is trial 61 with value: 0.8973316672435017.\u001b[0m\n"
     ]
    },
    {
     "name": "stdout",
     "output_type": "stream",
     "text": [
      "Overall accuracy: 0.749\n",
      "\n"
     ]
    },
    {
     "name": "stderr",
     "output_type": "stream",
     "text": [
      "\u001b[32m[I 2023-05-10 18:57:03,016]\u001b[0m Trial 68 finished with value: 0.8536924562078594 and parameters: {'C': 0.05909056816162562}. Best is trial 61 with value: 0.8973316672435017.\u001b[0m\n"
     ]
    },
    {
     "name": "stdout",
     "output_type": "stream",
     "text": [
      "Overall accuracy: 0.855\n",
      "\n"
     ]
    },
    {
     "name": "stderr",
     "output_type": "stream",
     "text": [
      "\u001b[32m[I 2023-05-10 18:57:03,750]\u001b[0m Trial 69 finished with value: 0.8953521880531885 and parameters: {'C': 2.2135444246460354}. Best is trial 61 with value: 0.8973316672435017.\u001b[0m\n"
     ]
    },
    {
     "name": "stdout",
     "output_type": "stream",
     "text": [
      "Overall accuracy: 0.896\n",
      "\n"
     ]
    },
    {
     "name": "stderr",
     "output_type": "stream",
     "text": [
      "\u001b[32m[I 2023-05-10 18:57:05,269]\u001b[0m Trial 70 finished with value: 0.3416213416213416 and parameters: {'C': 0.0030724735397807588}. Best is trial 61 with value: 0.8973316672435017.\u001b[0m\n"
     ]
    },
    {
     "name": "stdout",
     "output_type": "stream",
     "text": [
      "Overall accuracy: 0.519\n",
      "\n"
     ]
    },
    {
     "name": "stderr",
     "output_type": "stream",
     "text": [
      "\u001b[32m[I 2023-05-10 18:57:06,067]\u001b[0m Trial 71 finished with value: 0.8965518741084255 and parameters: {'C': 2.0710596531922167}. Best is trial 61 with value: 0.8973316672435017.\u001b[0m\n"
     ]
    },
    {
     "name": "stdout",
     "output_type": "stream",
     "text": [
      "Overall accuracy: 0.897\n",
      "\n"
     ]
    },
    {
     "name": "stderr",
     "output_type": "stream",
     "text": [
      "\u001b[32m[I 2023-05-10 18:57:06,914]\u001b[0m Trial 72 finished with value: 0.8798330779991503 and parameters: {'C': 0.446986672725028}. Best is trial 61 with value: 0.8973316672435017.\u001b[0m\n"
     ]
    },
    {
     "name": "stdout",
     "output_type": "stream",
     "text": [
      "Overall accuracy: 0.880\n",
      "\n"
     ]
    },
    {
     "name": "stderr",
     "output_type": "stream",
     "text": [
      "\u001b[32m[I 2023-05-10 18:57:07,609]\u001b[0m Trial 73 finished with value: 0.890275334883536 and parameters: {'C': 3.799023701123513}. Best is trial 61 with value: 0.8973316672435017.\u001b[0m\n"
     ]
    },
    {
     "name": "stdout",
     "output_type": "stream",
     "text": [
      "Overall accuracy: 0.891\n",
      "\n"
     ]
    },
    {
     "name": "stderr",
     "output_type": "stream",
     "text": [
      "\u001b[32m[I 2023-05-10 18:57:08,503]\u001b[0m Trial 74 finished with value: 0.8739197527993894 and parameters: {'C': 75.56082097519973}. Best is trial 61 with value: 0.8973316672435017.\u001b[0m\n"
     ]
    },
    {
     "name": "stdout",
     "output_type": "stream",
     "text": [
      "Overall accuracy: 0.874\n",
      "\n"
     ]
    },
    {
     "name": "stderr",
     "output_type": "stream",
     "text": [
      "\u001b[32m[I 2023-05-10 18:57:09,162]\u001b[0m Trial 75 finished with value: 0.893762167941716 and parameters: {'C': 1.574497063341665}. Best is trial 61 with value: 0.8973316672435017.\u001b[0m\n"
     ]
    },
    {
     "name": "stdout",
     "output_type": "stream",
     "text": [
      "Overall accuracy: 0.894\n",
      "\n"
     ]
    },
    {
     "name": "stderr",
     "output_type": "stream",
     "text": [
      "\u001b[32m[I 2023-05-10 18:57:10,148]\u001b[0m Trial 76 finished with value: 0.868225343526566 and parameters: {'C': 0.15702826061629563}. Best is trial 61 with value: 0.8973316672435017.\u001b[0m\n"
     ]
    },
    {
     "name": "stdout",
     "output_type": "stream",
     "text": [
      "Overall accuracy: 0.869\n",
      "\n"
     ]
    },
    {
     "name": "stderr",
     "output_type": "stream",
     "text": [
      "\u001b[32m[I 2023-05-10 18:57:10,828]\u001b[0m Trial 77 finished with value: 0.8813292319641888 and parameters: {'C': 24.544997997973017}. Best is trial 61 with value: 0.8973316672435017.\u001b[0m\n"
     ]
    },
    {
     "name": "stdout",
     "output_type": "stream",
     "text": [
      "Overall accuracy: 0.882\n",
      "\n"
     ]
    },
    {
     "name": "stderr",
     "output_type": "stream",
     "text": [
      "\u001b[32m[I 2023-05-10 18:57:11,580]\u001b[0m Trial 78 finished with value: 0.8786538434327107 and parameters: {'C': 0.4952664963947777}. Best is trial 61 with value: 0.8973316672435017.\u001b[0m\n"
     ]
    },
    {
     "name": "stdout",
     "output_type": "stream",
     "text": [
      "Overall accuracy: 0.879\n",
      "\n"
     ]
    },
    {
     "name": "stderr",
     "output_type": "stream",
     "text": [
      "\u001b[32m[I 2023-05-10 18:57:12,528]\u001b[0m Trial 79 finished with value: 0.8660716222707763 and parameters: {'C': 163.11649901765003}. Best is trial 61 with value: 0.8973316672435017.\u001b[0m\n"
     ]
    },
    {
     "name": "stdout",
     "output_type": "stream",
     "text": [
      "Overall accuracy: 0.866\n",
      "\n"
     ]
    },
    {
     "name": "stderr",
     "output_type": "stream",
     "text": [
      "\u001b[32m[I 2023-05-10 18:57:13,172]\u001b[0m Trial 80 finished with value: 0.8953419126563373 and parameters: {'C': 1.7390006587050728}. Best is trial 61 with value: 0.8973316672435017.\u001b[0m\n"
     ]
    },
    {
     "name": "stdout",
     "output_type": "stream",
     "text": [
      "Overall accuracy: 0.896\n",
      "\n"
     ]
    },
    {
     "name": "stderr",
     "output_type": "stream",
     "text": [
      "\u001b[32m[I 2023-05-10 18:57:13,950]\u001b[0m Trial 81 finished with value: 0.8852545552834928 and parameters: {'C': 8.035645821603351}. Best is trial 61 with value: 0.8973316672435017.\u001b[0m\n"
     ]
    },
    {
     "name": "stdout",
     "output_type": "stream",
     "text": [
      "Overall accuracy: 0.886\n",
      "\n"
     ]
    },
    {
     "name": "stderr",
     "output_type": "stream",
     "text": [
      "\u001b[32m[I 2023-05-10 18:57:14,692]\u001b[0m Trial 82 finished with value: 0.893762167941716 and parameters: {'C': 1.5533541139003717}. Best is trial 61 with value: 0.8973316672435017.\u001b[0m\n"
     ]
    },
    {
     "name": "stdout",
     "output_type": "stream",
     "text": [
      "Overall accuracy: 0.894\n",
      "\n"
     ]
    },
    {
     "name": "stderr",
     "output_type": "stream",
     "text": [
      "\u001b[32m[I 2023-05-10 18:57:16,028]\u001b[0m Trial 83 finished with value: 0.8451507818840566 and parameters: {'C': 0.04182397361233653}. Best is trial 61 with value: 0.8973316672435017.\u001b[0m\n"
     ]
    },
    {
     "name": "stdout",
     "output_type": "stream",
     "text": [
      "Overall accuracy: 0.847\n",
      "\n"
     ]
    },
    {
     "name": "stderr",
     "output_type": "stream",
     "text": [
      "\u001b[32m[I 2023-05-10 18:57:16,698]\u001b[0m Trial 84 finished with value: 0.8934424753315775 and parameters: {'C': 3.014782878942839}. Best is trial 61 with value: 0.8973316672435017.\u001b[0m\n"
     ]
    },
    {
     "name": "stdout",
     "output_type": "stream",
     "text": [
      "Overall accuracy: 0.894\n",
      "\n"
     ]
    },
    {
     "name": "stderr",
     "output_type": "stream",
     "text": [
      "\u001b[32m[I 2023-05-10 18:57:17,775]\u001b[0m Trial 85 finished with value: 0.8646556281864224 and parameters: {'C': 0.1199531692018511}. Best is trial 61 with value: 0.8973316672435017.\u001b[0m\n"
     ]
    },
    {
     "name": "stdout",
     "output_type": "stream",
     "text": [
      "Overall accuracy: 0.865\n",
      "\n"
     ]
    },
    {
     "name": "stderr",
     "output_type": "stream",
     "text": [
      "\u001b[32m[I 2023-05-10 18:57:18,523]\u001b[0m Trial 86 finished with value: 0.880956486572319 and parameters: {'C': 17.709707001142263}. Best is trial 61 with value: 0.8973316672435017.\u001b[0m\n"
     ]
    },
    {
     "name": "stdout",
     "output_type": "stream",
     "text": [
      "Overall accuracy: 0.881\n",
      "\n"
     ]
    },
    {
     "name": "stderr",
     "output_type": "stream",
     "text": [
      "\u001b[32m[I 2023-05-10 18:57:19,428]\u001b[0m Trial 87 finished with value: 0.8782112546355061 and parameters: {'C': 0.3565815721676428}. Best is trial 61 with value: 0.8973316672435017.\u001b[0m\n"
     ]
    },
    {
     "name": "stdout",
     "output_type": "stream",
     "text": [
      "Overall accuracy: 0.879\n",
      "\n"
     ]
    },
    {
     "name": "stderr",
     "output_type": "stream",
     "text": [
      "\u001b[32m[I 2023-05-10 18:57:20,312]\u001b[0m Trial 88 finished with value: 0.8590046306625219 and parameters: {'C': 473.70469962700327}. Best is trial 61 with value: 0.8973316672435017.\u001b[0m\n"
     ]
    },
    {
     "name": "stdout",
     "output_type": "stream",
     "text": [
      "Overall accuracy: 0.859\n",
      "\n"
     ]
    },
    {
     "name": "stderr",
     "output_type": "stream",
     "text": [
      "\u001b[32m[I 2023-05-10 18:57:20,991]\u001b[0m Trial 89 finished with value: 0.8886113321068072 and parameters: {'C': 1.1474708063129808}. Best is trial 61 with value: 0.8973316672435017.\u001b[0m\n"
     ]
    },
    {
     "name": "stdout",
     "output_type": "stream",
     "text": [
      "Overall accuracy: 0.889\n",
      "\n"
     ]
    },
    {
     "name": "stderr",
     "output_type": "stream",
     "text": [
      "\u001b[32m[I 2023-05-10 18:57:21,860]\u001b[0m Trial 90 finished with value: 0.8782182560520864 and parameters: {'C': 53.66241982315921}. Best is trial 61 with value: 0.8973316672435017.\u001b[0m\n"
     ]
    },
    {
     "name": "stdout",
     "output_type": "stream",
     "text": [
      "Overall accuracy: 0.878\n",
      "\n"
     ]
    },
    {
     "name": "stderr",
     "output_type": "stream",
     "text": [
      "\u001b[32m[I 2023-05-10 18:57:22,650]\u001b[0m Trial 91 finished with value: 0.8945415542299586 and parameters: {'C': 1.6433621150804205}. Best is trial 61 with value: 0.8973316672435017.\u001b[0m\n"
     ]
    },
    {
     "name": "stdout",
     "output_type": "stream",
     "text": [
      "Overall accuracy: 0.895\n",
      "\n"
     ]
    },
    {
     "name": "stderr",
     "output_type": "stream",
     "text": [
      "\u001b[32m[I 2023-05-10 18:57:23,295]\u001b[0m Trial 92 finished with value: 0.8856174466986424 and parameters: {'C': 7.354467722932853}. Best is trial 61 with value: 0.8973316672435017.\u001b[0m\n"
     ]
    },
    {
     "name": "stdout",
     "output_type": "stream",
     "text": [
      "Overall accuracy: 0.886\n",
      "\n"
     ]
    },
    {
     "name": "stderr",
     "output_type": "stream",
     "text": [
      "\u001b[32m[I 2023-05-10 18:57:23,968]\u001b[0m Trial 93 finished with value: 0.8950116513633835 and parameters: {'C': 2.8463788072579717}. Best is trial 61 with value: 0.8973316672435017.\u001b[0m\n"
     ]
    },
    {
     "name": "stdout",
     "output_type": "stream",
     "text": [
      "Overall accuracy: 0.895\n",
      "\n"
     ]
    },
    {
     "name": "stderr",
     "output_type": "stream",
     "text": [
      "\u001b[32m[I 2023-05-10 18:57:24,742]\u001b[0m Trial 94 finished with value: 0.8782112546355061 and parameters: {'C': 0.35523982664842474}. Best is trial 61 with value: 0.8973316672435017.\u001b[0m\n"
     ]
    },
    {
     "name": "stdout",
     "output_type": "stream",
     "text": [
      "Overall accuracy: 0.879\n",
      "\n"
     ]
    },
    {
     "name": "stderr",
     "output_type": "stream",
     "text": [
      "\u001b[32m[I 2023-05-10 18:57:25,800]\u001b[0m Trial 95 finished with value: 0.8610854349750232 and parameters: {'C': 0.09855828548320801}. Best is trial 61 with value: 0.8973316672435017.\u001b[0m\n"
     ]
    },
    {
     "name": "stdout",
     "output_type": "stream",
     "text": [
      "Overall accuracy: 0.862\n",
      "\n"
     ]
    },
    {
     "name": "stderr",
     "output_type": "stream",
     "text": [
      "\u001b[32m[I 2023-05-10 18:57:26,502]\u001b[0m Trial 96 finished with value: 0.881736418297637 and parameters: {'C': 13.570056276511616}. Best is trial 61 with value: 0.8973316672435017.\u001b[0m\n"
     ]
    },
    {
     "name": "stdout",
     "output_type": "stream",
     "text": [
      "Overall accuracy: 0.882\n",
      "\n"
     ]
    },
    {
     "name": "stderr",
     "output_type": "stream",
     "text": [
      "\u001b[32m[I 2023-05-10 18:57:27,197]\u001b[0m Trial 97 finished with value: 0.8945415542299586 and parameters: {'C': 1.67469878936986}. Best is trial 61 with value: 0.8973316672435017.\u001b[0m\n"
     ]
    },
    {
     "name": "stdout",
     "output_type": "stream",
     "text": [
      "Overall accuracy: 0.895\n",
      "\n"
     ]
    },
    {
     "name": "stderr",
     "output_type": "stream",
     "text": [
      "\u001b[32m[I 2023-05-10 18:57:28,006]\u001b[0m Trial 98 finished with value: 0.8797781669857085 and parameters: {'C': 43.95799890778202}. Best is trial 61 with value: 0.8973316672435017.\u001b[0m\n"
     ]
    },
    {
     "name": "stdout",
     "output_type": "stream",
     "text": [
      "Overall accuracy: 0.880\n",
      "\n"
     ]
    },
    {
     "name": "stderr",
     "output_type": "stream",
     "text": [
      "\u001b[32m[I 2023-05-10 18:57:29,481]\u001b[0m Trial 99 finished with value: 0.8329189634273655 and parameters: {'C': 0.023205256630921746}. Best is trial 61 with value: 0.8973316672435017.\u001b[0m\n",
      "\u001b[32m[I 2023-05-10 18:57:29,674]\u001b[0m A new study created in memory with name: no-name-013e0d72-ba14-48a7-8ad0-d09bd24dc7f7\u001b[0m\n"
     ]
    },
    {
     "name": "stdout",
     "output_type": "stream",
     "text": [
      "Overall accuracy: 0.835\n",
      "\n",
      "Accuracy: 0.8973316672435017\n",
      "Best hyperparameters: {'C': 1.9242211723416096}\n",
      "\n",
      "\n",
      "\n",
      "Model :- SVC, DataType :- RSpolar\n"
     ]
    },
    {
     "name": "stderr",
     "output_type": "stream",
     "text": [
      "\u001b[32m[I 2023-05-10 18:57:30,449]\u001b[0m Trial 0 finished with value: 0.8976910567589638 and parameters: {'C': 1.5318698523089969}. Best is trial 0 with value: 0.8976910567589638.\u001b[0m\n"
     ]
    },
    {
     "name": "stdout",
     "output_type": "stream",
     "text": [
      "Overall accuracy: 0.898\n",
      "\n"
     ]
    },
    {
     "name": "stderr",
     "output_type": "stream",
     "text": [
      "\u001b[32m[I 2023-05-10 18:57:31,289]\u001b[0m Trial 1 finished with value: 0.8687682694566079 and parameters: {'C': 733.955894396918}. Best is trial 0 with value: 0.8976910567589638.\u001b[0m\n"
     ]
    },
    {
     "name": "stdout",
     "output_type": "stream",
     "text": [
      "Overall accuracy: 0.869\n",
      "\n"
     ]
    },
    {
     "name": "stderr",
     "output_type": "stream",
     "text": [
      "\u001b[32m[I 2023-05-10 18:57:32,238]\u001b[0m Trial 2 finished with value: 0.8687682694566079 and parameters: {'C': 3961835982.3528566}. Best is trial 0 with value: 0.8976910567589638.\u001b[0m\n"
     ]
    },
    {
     "name": "stdout",
     "output_type": "stream",
     "text": [
      "Overall accuracy: 0.869\n",
      "\n"
     ]
    },
    {
     "name": "stderr",
     "output_type": "stream",
     "text": [
      "\u001b[32m[I 2023-05-10 18:57:33,916]\u001b[0m Trial 3 finished with value: 0.3416213416213416 and parameters: {'C': 0.00020986457057965423}. Best is trial 0 with value: 0.8976910567589638.\u001b[0m\n"
     ]
    },
    {
     "name": "stdout",
     "output_type": "stream",
     "text": [
      "Overall accuracy: 0.519\n",
      "\n"
     ]
    },
    {
     "name": "stderr",
     "output_type": "stream",
     "text": [
      "\u001b[32m[I 2023-05-10 18:57:34,907]\u001b[0m Trial 4 finished with value: 0.877751999406096 and parameters: {'C': 0.2513591236569739}. Best is trial 0 with value: 0.8976910567589638.\u001b[0m\n"
     ]
    },
    {
     "name": "stdout",
     "output_type": "stream",
     "text": [
      "Overall accuracy: 0.878\n",
      "\n"
     ]
    },
    {
     "name": "stderr",
     "output_type": "stream",
     "text": [
      "\u001b[32m[I 2023-05-10 18:57:36,712]\u001b[0m Trial 5 finished with value: 0.8089092436934554 and parameters: {'C': 0.01896873201768}. Best is trial 0 with value: 0.8976910567589638.\u001b[0m\n"
     ]
    },
    {
     "name": "stdout",
     "output_type": "stream",
     "text": [
      "Overall accuracy: 0.815\n",
      "\n"
     ]
    },
    {
     "name": "stderr",
     "output_type": "stream",
     "text": [
      "\u001b[32m[I 2023-05-10 18:57:38,443]\u001b[0m Trial 6 finished with value: 0.3416213416213416 and parameters: {'C': 5.01505399201908e-06}. Best is trial 0 with value: 0.8976910567589638.\u001b[0m\n"
     ]
    },
    {
     "name": "stdout",
     "output_type": "stream",
     "text": [
      "Overall accuracy: 0.519\n",
      "\n"
     ]
    },
    {
     "name": "stderr",
     "output_type": "stream",
     "text": [
      "\u001b[32m[I 2023-05-10 18:57:40,159]\u001b[0m Trial 7 finished with value: 0.3416213416213416 and parameters: {'C': 3.4097943160456584e-05}. Best is trial 0 with value: 0.8976910567589638.\u001b[0m\n"
     ]
    },
    {
     "name": "stdout",
     "output_type": "stream",
     "text": [
      "Overall accuracy: 0.519\n",
      "\n"
     ]
    },
    {
     "name": "stderr",
     "output_type": "stream",
     "text": [
      "\u001b[32m[I 2023-05-10 18:57:41,102]\u001b[0m Trial 8 finished with value: 0.8687682694566079 and parameters: {'C': 3668004300.0199094}. Best is trial 0 with value: 0.8976910567589638.\u001b[0m\n"
     ]
    },
    {
     "name": "stdout",
     "output_type": "stream",
     "text": [
      "Overall accuracy: 0.869\n",
      "\n"
     ]
    },
    {
     "name": "stderr",
     "output_type": "stream",
     "text": [
      "\u001b[32m[I 2023-05-10 18:57:41,835]\u001b[0m Trial 9 finished with value: 0.8956999835877237 and parameters: {'C': 1.1296333001408532}. Best is trial 0 with value: 0.8976910567589638.\u001b[0m\n"
     ]
    },
    {
     "name": "stdout",
     "output_type": "stream",
     "text": [
      "Overall accuracy: 0.896\n",
      "\n"
     ]
    },
    {
     "name": "stderr",
     "output_type": "stream",
     "text": [
      "\u001b[32m[I 2023-05-10 18:57:43,576]\u001b[0m Trial 10 finished with value: 0.3416213416213416 and parameters: {'C': 3.306010240306913e-09}. Best is trial 0 with value: 0.8976910567589638.\u001b[0m\n"
     ]
    },
    {
     "name": "stdout",
     "output_type": "stream",
     "text": [
      "Overall accuracy: 0.519\n",
      "\n"
     ]
    },
    {
     "name": "stderr",
     "output_type": "stream",
     "text": [
      "\u001b[32m[I 2023-05-10 18:57:44,517]\u001b[0m Trial 11 finished with value: 0.8687682694566079 and parameters: {'C': 444.87965792869664}. Best is trial 0 with value: 0.8976910567589638.\u001b[0m\n"
     ]
    },
    {
     "name": "stdout",
     "output_type": "stream",
     "text": [
      "Overall accuracy: 0.869\n",
      "\n"
     ]
    },
    {
     "name": "stderr",
     "output_type": "stream",
     "text": [
      "\u001b[32m[I 2023-05-10 18:57:45,422]\u001b[0m Trial 12 finished with value: 0.8703531486857552 and parameters: {'C': 146.91330470053202}. Best is trial 0 with value: 0.8976910567589638.\u001b[0m\n"
     ]
    },
    {
     "name": "stdout",
     "output_type": "stream",
     "text": [
      "Overall accuracy: 0.871\n",
      "\n"
     ]
    },
    {
     "name": "stderr",
     "output_type": "stream",
     "text": [
      "\u001b[32m[I 2023-05-10 18:57:46,287]\u001b[0m Trial 13 finished with value: 0.8976910567589638 and parameters: {'C': 1.4863882866698355}. Best is trial 0 with value: 0.8976910567589638.\u001b[0m\n"
     ]
    },
    {
     "name": "stdout",
     "output_type": "stream",
     "text": [
      "Overall accuracy: 0.898\n",
      "\n"
     ]
    },
    {
     "name": "stderr",
     "output_type": "stream",
     "text": [
      "\u001b[32m[I 2023-05-10 18:57:47,338]\u001b[0m Trial 14 finished with value: 0.8687682694566079 and parameters: {'C': 3357.7129749505493}. Best is trial 0 with value: 0.8976910567589638.\u001b[0m\n"
     ]
    },
    {
     "name": "stdout",
     "output_type": "stream",
     "text": [
      "Overall accuracy: 0.869\n",
      "\n"
     ]
    },
    {
     "name": "stderr",
     "output_type": "stream",
     "text": [
      "\u001b[32m[I 2023-05-10 18:57:48,958]\u001b[0m Trial 15 finished with value: 0.3416213416213416 and parameters: {'C': 1.6852287715061514e-10}. Best is trial 0 with value: 0.8976910567589638.\u001b[0m\n"
     ]
    },
    {
     "name": "stdout",
     "output_type": "stream",
     "text": [
      "Overall accuracy: 0.519\n",
      "\n"
     ]
    },
    {
     "name": "stderr",
     "output_type": "stream",
     "text": [
      "\u001b[32m[I 2023-05-10 18:57:49,832]\u001b[0m Trial 16 finished with value: 0.8687682694566079 and parameters: {'C': 176358.41857668635}. Best is trial 0 with value: 0.8976910567589638.\u001b[0m\n"
     ]
    },
    {
     "name": "stdout",
     "output_type": "stream",
     "text": [
      "Overall accuracy: 0.869\n",
      "\n"
     ]
    },
    {
     "name": "stderr",
     "output_type": "stream",
     "text": [
      "\u001b[32m[I 2023-05-10 18:57:51,540]\u001b[0m Trial 17 finished with value: 0.3416213416213416 and parameters: {'C': 0.005612788951623054}. Best is trial 0 with value: 0.8976910567589638.\u001b[0m\n"
     ]
    },
    {
     "name": "stdout",
     "output_type": "stream",
     "text": [
      "Overall accuracy: 0.519\n",
      "\n"
     ]
    },
    {
     "name": "stderr",
     "output_type": "stream",
     "text": [
      "\u001b[32m[I 2023-05-10 18:57:52,267]\u001b[0m Trial 18 finished with value: 0.8985212044166437 and parameters: {'C': 2.9411040169428166}. Best is trial 18 with value: 0.8985212044166437.\u001b[0m\n"
     ]
    },
    {
     "name": "stdout",
     "output_type": "stream",
     "text": [
      "Overall accuracy: 0.899\n",
      "\n"
     ]
    },
    {
     "name": "stderr",
     "output_type": "stream",
     "text": [
      "\u001b[32m[I 2023-05-10 18:57:53,207]\u001b[0m Trial 19 finished with value: 0.8687682694566079 and parameters: {'C': 419233.35515589546}. Best is trial 18 with value: 0.8985212044166437.\u001b[0m\n"
     ]
    },
    {
     "name": "stdout",
     "output_type": "stream",
     "text": [
      "Overall accuracy: 0.869\n",
      "\n"
     ]
    },
    {
     "name": "stderr",
     "output_type": "stream",
     "text": [
      "\u001b[32m[I 2023-05-10 18:57:54,012]\u001b[0m Trial 20 finished with value: 0.8924064203955328 and parameters: {'C': 14.86659668403989}. Best is trial 18 with value: 0.8985212044166437.\u001b[0m\n"
     ]
    },
    {
     "name": "stdout",
     "output_type": "stream",
     "text": [
      "Overall accuracy: 0.893\n",
      "\n"
     ]
    },
    {
     "name": "stderr",
     "output_type": "stream",
     "text": [
      "\u001b[32m[I 2023-05-10 18:57:55,038]\u001b[0m Trial 21 finished with value: 0.8824994945747915 and parameters: {'C': 0.321228752007487}. Best is trial 18 with value: 0.8985212044166437.\u001b[0m\n"
     ]
    },
    {
     "name": "stdout",
     "output_type": "stream",
     "text": [
      "Overall accuracy: 0.883\n",
      "\n"
     ]
    },
    {
     "name": "stderr",
     "output_type": "stream",
     "text": [
      "\u001b[32m[I 2023-05-10 18:57:55,852]\u001b[0m Trial 22 finished with value: 0.8916107949167082 and parameters: {'C': 19.46950854158076}. Best is trial 18 with value: 0.8985212044166437.\u001b[0m\n"
     ]
    },
    {
     "name": "stdout",
     "output_type": "stream",
     "text": [
      "Overall accuracy: 0.892\n",
      "\n"
     ]
    },
    {
     "name": "stderr",
     "output_type": "stream",
     "text": [
      "\u001b[32m[I 2023-05-10 18:57:57,670]\u001b[0m Trial 23 finished with value: 0.3416213416213416 and parameters: {'C': 0.0047680831062987756}. Best is trial 18 with value: 0.8985212044166437.\u001b[0m\n"
     ]
    },
    {
     "name": "stdout",
     "output_type": "stream",
     "text": [
      "Overall accuracy: 0.519\n",
      "\n"
     ]
    },
    {
     "name": "stderr",
     "output_type": "stream",
     "text": [
      "\u001b[32m[I 2023-05-10 18:57:58,437]\u001b[0m Trial 24 finished with value: 0.8969709590542091 and parameters: {'C': 3.1624698211027322}. Best is trial 18 with value: 0.8985212044166437.\u001b[0m\n"
     ]
    },
    {
     "name": "stdout",
     "output_type": "stream",
     "text": [
      "Overall accuracy: 0.897\n",
      "\n"
     ]
    },
    {
     "name": "stderr",
     "output_type": "stream",
     "text": [
      "\u001b[32m[I 2023-05-10 18:57:59,652]\u001b[0m Trial 25 finished with value: 0.8656974827765436 and parameters: {'C': 0.08399398479214631}. Best is trial 18 with value: 0.8985212044166437.\u001b[0m\n"
     ]
    },
    {
     "name": "stdout",
     "output_type": "stream",
     "text": [
      "Overall accuracy: 0.867\n",
      "\n"
     ]
    },
    {
     "name": "stderr",
     "output_type": "stream",
     "text": [
      "\u001b[32m[I 2023-05-10 18:58:01,377]\u001b[0m Trial 26 finished with value: 0.3416213416213416 and parameters: {'C': 0.0012708651514205113}. Best is trial 18 with value: 0.8985212044166437.\u001b[0m\n"
     ]
    },
    {
     "name": "stdout",
     "output_type": "stream",
     "text": [
      "Overall accuracy: 0.519\n",
      "\n"
     ]
    },
    {
     "name": "stderr",
     "output_type": "stream",
     "text": [
      "\u001b[32m[I 2023-05-10 18:58:02,233]\u001b[0m Trial 27 finished with value: 0.8938695435895884 and parameters: {'C': 4.899768648760803}. Best is trial 18 with value: 0.8985212044166437.\u001b[0m\n"
     ]
    },
    {
     "name": "stdout",
     "output_type": "stream",
     "text": [
      "Overall accuracy: 0.894\n",
      "\n"
     ]
    },
    {
     "name": "stderr",
     "output_type": "stream",
     "text": [
      "\u001b[32m[I 2023-05-10 18:58:03,612]\u001b[0m Trial 28 finished with value: 0.8519564634593997 and parameters: {'C': 0.04807458077115404}. Best is trial 18 with value: 0.8985212044166437.\u001b[0m\n"
     ]
    },
    {
     "name": "stdout",
     "output_type": "stream",
     "text": [
      "Overall accuracy: 0.853\n",
      "\n"
     ]
    },
    {
     "name": "stderr",
     "output_type": "stream",
     "text": [
      "\u001b[32m[I 2023-05-10 18:58:04,554]\u001b[0m Trial 29 finished with value: 0.8687682694566079 and parameters: {'C': 6581.851041147893}. Best is trial 18 with value: 0.8985212044166437.\u001b[0m\n"
     ]
    },
    {
     "name": "stdout",
     "output_type": "stream",
     "text": [
      "Overall accuracy: 0.869\n",
      "\n"
     ]
    },
    {
     "name": "stderr",
     "output_type": "stream",
     "text": [
      "\u001b[32m[I 2023-05-10 18:58:05,472]\u001b[0m Trial 30 finished with value: 0.8821431866515635 and parameters: {'C': 40.23606237287264}. Best is trial 18 with value: 0.8985212044166437.\u001b[0m\n"
     ]
    },
    {
     "name": "stdout",
     "output_type": "stream",
     "text": [
      "Overall accuracy: 0.882\n",
      "\n"
     ]
    },
    {
     "name": "stderr",
     "output_type": "stream",
     "text": [
      "\u001b[32m[I 2023-05-10 18:58:06,262]\u001b[0m Trial 31 finished with value: 0.8969010263092261 and parameters: {'C': 1.8883979620025513}. Best is trial 18 with value: 0.8985212044166437.\u001b[0m\n"
     ]
    },
    {
     "name": "stdout",
     "output_type": "stream",
     "text": [
      "Overall accuracy: 0.897\n",
      "\n"
     ]
    },
    {
     "name": "stderr",
     "output_type": "stream",
     "text": [
      "\u001b[32m[I 2023-05-10 18:58:07,023]\u001b[0m Trial 32 finished with value: 0.8969417679095097 and parameters: {'C': 2.408421415372427}. Best is trial 18 with value: 0.8985212044166437.\u001b[0m\n"
     ]
    },
    {
     "name": "stdout",
     "output_type": "stream",
     "text": [
      "Overall accuracy: 0.897\n",
      "\n"
     ]
    },
    {
     "name": "stderr",
     "output_type": "stream",
     "text": [
      "\u001b[32m[I 2023-05-10 18:58:08,168]\u001b[0m Trial 33 finished with value: 0.8677889751164944 and parameters: {'C': 0.12424762412039618}. Best is trial 18 with value: 0.8985212044166437.\u001b[0m\n"
     ]
    },
    {
     "name": "stdout",
     "output_type": "stream",
     "text": [
      "Overall accuracy: 0.869\n",
      "\n"
     ]
    },
    {
     "name": "stderr",
     "output_type": "stream",
     "text": [
      "\u001b[32m[I 2023-05-10 18:58:09,084]\u001b[0m Trial 34 finished with value: 0.8703531486857552 and parameters: {'C': 178.7998795617888}. Best is trial 18 with value: 0.8985212044166437.\u001b[0m\n"
     ]
    },
    {
     "name": "stdout",
     "output_type": "stream",
     "text": [
      "Overall accuracy: 0.871\n",
      "\n"
     ]
    },
    {
     "name": "stderr",
     "output_type": "stream",
     "text": [
      "\u001b[32m[I 2023-05-10 18:58:09,896]\u001b[0m Trial 35 finished with value: 0.8973012281835812 and parameters: {'C': 1.6990001529705683}. Best is trial 18 with value: 0.8985212044166437.\u001b[0m\n"
     ]
    },
    {
     "name": "stdout",
     "output_type": "stream",
     "text": [
      "Overall accuracy: 0.898\n",
      "\n"
     ]
    },
    {
     "name": "stderr",
     "output_type": "stream",
     "text": [
      "\u001b[32m[I 2023-05-10 18:58:11,648]\u001b[0m Trial 36 finished with value: 0.3416213416213416 and parameters: {'C': 0.00040075378974233647}. Best is trial 18 with value: 0.8985212044166437.\u001b[0m\n"
     ]
    },
    {
     "name": "stdout",
     "output_type": "stream",
     "text": [
      "Overall accuracy: 0.519\n",
      "\n"
     ]
    },
    {
     "name": "stderr",
     "output_type": "stream",
     "text": [
      "\u001b[32m[I 2023-05-10 18:58:13,412]\u001b[0m Trial 37 finished with value: 0.34252683802363776 and parameters: {'C': 0.009080360662771288}. Best is trial 18 with value: 0.8985212044166437.\u001b[0m\n"
     ]
    },
    {
     "name": "stdout",
     "output_type": "stream",
     "text": [
      "Overall accuracy: 0.519\n",
      "\n"
     ]
    },
    {
     "name": "stderr",
     "output_type": "stream",
     "text": [
      "\u001b[32m[I 2023-05-10 18:58:14,449]\u001b[0m Trial 38 finished with value: 0.8797514012467285 and parameters: {'C': 0.28166732088909463}. Best is trial 18 with value: 0.8985212044166437.\u001b[0m\n"
     ]
    },
    {
     "name": "stdout",
     "output_type": "stream",
     "text": [
      "Overall accuracy: 0.880\n",
      "\n"
     ]
    },
    {
     "name": "stderr",
     "output_type": "stream",
     "text": [
      "\u001b[32m[I 2023-05-10 18:58:16,146]\u001b[0m Trial 39 finished with value: 0.3416213416213416 and parameters: {'C': 6.704523676493855e-05}. Best is trial 18 with value: 0.8985212044166437.\u001b[0m\n"
     ]
    },
    {
     "name": "stdout",
     "output_type": "stream",
     "text": [
      "Overall accuracy: 0.519\n",
      "\n"
     ]
    },
    {
     "name": "stderr",
     "output_type": "stream",
     "text": [
      "\u001b[32m[I 2023-05-10 18:58:18,110]\u001b[0m Trial 40 finished with value: 0.7766518275538894 and parameters: {'C': 0.01707956216199519}. Best is trial 18 with value: 0.8985212044166437.\u001b[0m\n"
     ]
    },
    {
     "name": "stdout",
     "output_type": "stream",
     "text": [
      "Overall accuracy: 0.788\n",
      "\n"
     ]
    },
    {
     "name": "stderr",
     "output_type": "stream",
     "text": [
      "\u001b[32m[I 2023-05-10 18:58:18,897]\u001b[0m Trial 41 finished with value: 0.8936967656392367 and parameters: {'C': 0.7937785774711437}. Best is trial 18 with value: 0.8985212044166437.\u001b[0m\n"
     ]
    },
    {
     "name": "stdout",
     "output_type": "stream",
     "text": [
      "Overall accuracy: 0.894\n",
      "\n"
     ]
    },
    {
     "name": "stderr",
     "output_type": "stream",
     "text": [
      "\u001b[32m[I 2023-05-10 18:58:19,766]\u001b[0m Trial 42 finished with value: 0.8939213070025328 and parameters: {'C': 10.30383759863972}. Best is trial 18 with value: 0.8985212044166437.\u001b[0m\n"
     ]
    },
    {
     "name": "stdout",
     "output_type": "stream",
     "text": [
      "Overall accuracy: 0.894\n",
      "\n"
     ]
    },
    {
     "name": "stderr",
     "output_type": "stream",
     "text": [
      "\u001b[32m[I 2023-05-10 18:58:20,819]\u001b[0m Trial 43 finished with value: 0.8773956568433214 and parameters: {'C': 64.16701197872717}. Best is trial 18 with value: 0.8985212044166437.\u001b[0m\n"
     ]
    },
    {
     "name": "stdout",
     "output_type": "stream",
     "text": [
      "Overall accuracy: 0.878\n",
      "\n"
     ]
    },
    {
     "name": "stderr",
     "output_type": "stream",
     "text": [
      "\u001b[32m[I 2023-05-10 18:58:21,575]\u001b[0m Trial 44 finished with value: 0.8964901352272105 and parameters: {'C': 1.2498116316920866}. Best is trial 18 with value: 0.8985212044166437.\u001b[0m\n"
     ]
    },
    {
     "name": "stdout",
     "output_type": "stream",
     "text": [
      "Overall accuracy: 0.897\n",
      "\n"
     ]
    },
    {
     "name": "stderr",
     "output_type": "stream",
     "text": [
      "\u001b[32m[I 2023-05-10 18:58:23,036]\u001b[0m Trial 45 finished with value: 0.8628782209583676 and parameters: {'C': 0.07514990588940922}. Best is trial 18 with value: 0.8985212044166437.\u001b[0m\n"
     ]
    },
    {
     "name": "stdout",
     "output_type": "stream",
     "text": [
      "Overall accuracy: 0.864\n",
      "\n"
     ]
    },
    {
     "name": "stderr",
     "output_type": "stream",
     "text": [
      "\u001b[32m[I 2023-05-10 18:58:24,115]\u001b[0m Trial 46 finished with value: 0.8683785265330217 and parameters: {'C': 648.4033809184995}. Best is trial 18 with value: 0.8985212044166437.\u001b[0m\n"
     ]
    },
    {
     "name": "stdout",
     "output_type": "stream",
     "text": [
      "Overall accuracy: 0.869\n",
      "\n"
     ]
    },
    {
     "name": "stderr",
     "output_type": "stream",
     "text": [
      "\u001b[32m[I 2023-05-10 18:58:25,037]\u001b[0m Trial 47 finished with value: 0.8962097025219229 and parameters: {'C': 4.23807910667856}. Best is trial 18 with value: 0.8985212044166437.\u001b[0m\n"
     ]
    },
    {
     "name": "stdout",
     "output_type": "stream",
     "text": [
      "Overall accuracy: 0.897\n",
      "\n"
     ]
    },
    {
     "name": "stderr",
     "output_type": "stream",
     "text": [
      "\u001b[32m[I 2023-05-10 18:58:27,205]\u001b[0m Trial 48 finished with value: 0.3416213416213416 and parameters: {'C': 0.0014314319702747888}. Best is trial 18 with value: 0.8985212044166437.\u001b[0m\n"
     ]
    },
    {
     "name": "stdout",
     "output_type": "stream",
     "text": [
      "Overall accuracy: 0.519\n",
      "\n"
     ]
    },
    {
     "name": "stderr",
     "output_type": "stream",
     "text": [
      "\u001b[32m[I 2023-05-10 18:58:29,232]\u001b[0m Trial 49 finished with value: 0.3416213416213416 and parameters: {'C': 6.341069211794946e-06}. Best is trial 18 with value: 0.8985212044166437.\u001b[0m\n"
     ]
    },
    {
     "name": "stdout",
     "output_type": "stream",
     "text": [
      "Overall accuracy: 0.519\n",
      "\n"
     ]
    },
    {
     "name": "stderr",
     "output_type": "stream",
     "text": [
      "\u001b[32m[I 2023-05-10 18:58:30,361]\u001b[0m Trial 50 finished with value: 0.8805284558918736 and parameters: {'C': 0.3094846002947157}. Best is trial 18 with value: 0.8985212044166437.\u001b[0m\n"
     ]
    },
    {
     "name": "stdout",
     "output_type": "stream",
     "text": [
      "Overall accuracy: 0.881\n",
      "\n"
     ]
    },
    {
     "name": "stderr",
     "output_type": "stream",
     "text": [
      "\u001b[32m[I 2023-05-10 18:58:31,303]\u001b[0m Trial 51 finished with value: 0.8965714094033107 and parameters: {'C': 3.369300688697222}. Best is trial 18 with value: 0.8985212044166437.\u001b[0m\n"
     ]
    },
    {
     "name": "stdout",
     "output_type": "stream",
     "text": [
      "Overall accuracy: 0.897\n",
      "\n"
     ]
    },
    {
     "name": "stderr",
     "output_type": "stream",
     "text": [
      "\u001b[32m[I 2023-05-10 18:58:32,272]\u001b[0m Trial 52 finished with value: 0.8817448542109128 and parameters: {'C': 39.61400086400419}. Best is trial 18 with value: 0.8985212044166437.\u001b[0m\n"
     ]
    },
    {
     "name": "stdout",
     "output_type": "stream",
     "text": [
      "Overall accuracy: 0.882\n",
      "\n"
     ]
    },
    {
     "name": "stderr",
     "output_type": "stream",
     "text": [
      "\u001b[32m[I 2023-05-10 18:58:33,104]\u001b[0m Trial 53 finished with value: 0.8965007518413741 and parameters: {'C': 1.4183647185003818}. Best is trial 18 with value: 0.8985212044166437.\u001b[0m\n"
     ]
    },
    {
     "name": "stdout",
     "output_type": "stream",
     "text": [
      "Overall accuracy: 0.897\n",
      "\n"
     ]
    },
    {
     "name": "stderr",
     "output_type": "stream",
     "text": [
      "\u001b[32m[I 2023-05-10 18:58:35,106]\u001b[0m Trial 54 finished with value: 0.8126727822710608 and parameters: {'C': 0.019471410030426486}. Best is trial 18 with value: 0.8985212044166437.\u001b[0m\n"
     ]
    },
    {
     "name": "stdout",
     "output_type": "stream",
     "text": [
      "Overall accuracy: 0.818\n",
      "\n"
     ]
    },
    {
     "name": "stderr",
     "output_type": "stream",
     "text": [
      "\u001b[32m[I 2023-05-10 18:58:36,101]\u001b[0m Trial 55 finished with value: 0.8687594798231223 and parameters: {'C': 367.1591609903143}. Best is trial 18 with value: 0.8985212044166437.\u001b[0m\n"
     ]
    },
    {
     "name": "stdout",
     "output_type": "stream",
     "text": [
      "Overall accuracy: 0.869\n",
      "\n"
     ]
    },
    {
     "name": "stderr",
     "output_type": "stream",
     "text": [
      "\u001b[32m[I 2023-05-10 18:58:37,057]\u001b[0m Trial 56 finished with value: 0.8958724342360056 and parameters: {'C': 6.926004853056145}. Best is trial 18 with value: 0.8985212044166437.\u001b[0m\n"
     ]
    },
    {
     "name": "stdout",
     "output_type": "stream",
     "text": [
      "Overall accuracy: 0.896\n",
      "\n"
     ]
    },
    {
     "name": "stderr",
     "output_type": "stream",
     "text": [
      "\u001b[32m[I 2023-05-10 18:58:37,937]\u001b[0m Trial 57 finished with value: 0.8904997873394257 and parameters: {'C': 0.5869648049294325}. Best is trial 18 with value: 0.8985212044166437.\u001b[0m\n"
     ]
    },
    {
     "name": "stdout",
     "output_type": "stream",
     "text": [
      "Overall accuracy: 0.891\n",
      "\n"
     ]
    },
    {
     "name": "stderr",
     "output_type": "stream",
     "text": [
      "\u001b[32m[I 2023-05-10 18:58:38,810]\u001b[0m Trial 58 finished with value: 0.8687682694566079 and parameters: {'C': 3266.0286438168423}. Best is trial 18 with value: 0.8985212044166437.\u001b[0m\n"
     ]
    },
    {
     "name": "stdout",
     "output_type": "stream",
     "text": [
      "Overall accuracy: 0.869\n",
      "\n"
     ]
    },
    {
     "name": "stderr",
     "output_type": "stream",
     "text": [
      "\u001b[32m[I 2023-05-10 18:58:39,616]\u001b[0m Trial 59 finished with value: 0.8904321217353338 and parameters: {'C': 20.62397153977827}. Best is trial 18 with value: 0.8985212044166437.\u001b[0m\n"
     ]
    },
    {
     "name": "stdout",
     "output_type": "stream",
     "text": [
      "Overall accuracy: 0.891\n",
      "\n"
     ]
    },
    {
     "name": "stderr",
     "output_type": "stream",
     "text": [
      "\u001b[32m[I 2023-05-10 18:58:40,611]\u001b[0m Trial 60 finished with value: 0.8711153815918677 and parameters: {'C': 99.60467733055044}. Best is trial 18 with value: 0.8985212044166437.\u001b[0m\n"
     ]
    },
    {
     "name": "stdout",
     "output_type": "stream",
     "text": [
      "Overall accuracy: 0.871\n",
      "\n"
     ]
    },
    {
     "name": "stderr",
     "output_type": "stream",
     "text": [
      "\u001b[32m[I 2023-05-10 18:58:41,352]\u001b[0m Trial 61 finished with value: 0.8984913087531812 and parameters: {'C': 1.657410455343117}. Best is trial 18 with value: 0.8985212044166437.\u001b[0m\n"
     ]
    },
    {
     "name": "stdout",
     "output_type": "stream",
     "text": [
      "Overall accuracy: 0.899\n",
      "\n"
     ]
    },
    {
     "name": "stderr",
     "output_type": "stream",
     "text": [
      "\u001b[32m[I 2023-05-10 18:58:42,695]\u001b[0m Trial 62 finished with value: 0.8656974827765436 and parameters: {'C': 0.08533889842777315}. Best is trial 18 with value: 0.8985212044166437.\u001b[0m\n"
     ]
    },
    {
     "name": "stdout",
     "output_type": "stream",
     "text": [
      "Overall accuracy: 0.867\n",
      "\n"
     ]
    },
    {
     "name": "stderr",
     "output_type": "stream",
     "text": [
      "\u001b[32m[I 2023-05-10 18:58:43,565]\u001b[0m Trial 63 finished with value: 0.882902062728459 and parameters: {'C': 0.3443391150711089}. Best is trial 18 with value: 0.8985212044166437.\u001b[0m\n"
     ]
    },
    {
     "name": "stdout",
     "output_type": "stream",
     "text": [
      "Overall accuracy: 0.884\n",
      "\n"
     ]
    },
    {
     "name": "stderr",
     "output_type": "stream",
     "text": [
      "\u001b[32m[I 2023-05-10 18:58:44,379]\u001b[0m Trial 64 finished with value: 0.8931157714135167 and parameters: {'C': 9.759722847070723}. Best is trial 18 with value: 0.8985212044166437.\u001b[0m\n"
     ]
    },
    {
     "name": "stdout",
     "output_type": "stream",
     "text": [
      "Overall accuracy: 0.893\n",
      "\n"
     ]
    },
    {
     "name": "stderr",
     "output_type": "stream",
     "text": [
      "\u001b[32m[I 2023-05-10 18:58:45,945]\u001b[0m Trial 65 finished with value: 0.8449554937909005 and parameters: {'C': 0.030574648611702303}. Best is trial 18 with value: 0.8985212044166437.\u001b[0m\n"
     ]
    },
    {
     "name": "stdout",
     "output_type": "stream",
     "text": [
      "Overall accuracy: 0.847\n",
      "\n"
     ]
    },
    {
     "name": "stderr",
     "output_type": "stream",
     "text": [
      "\u001b[32m[I 2023-05-10 18:58:46,740]\u001b[0m Trial 66 finished with value: 0.8973316672435017 and parameters: {'C': 2.4890844628961095}. Best is trial 18 with value: 0.8985212044166437.\u001b[0m\n"
     ]
    },
    {
     "name": "stdout",
     "output_type": "stream",
     "text": [
      "Overall accuracy: 0.898\n",
      "\n"
     ]
    },
    {
     "name": "stderr",
     "output_type": "stream",
     "text": [
      "\u001b[32m[I 2023-05-10 18:58:47,791]\u001b[0m Trial 67 finished with value: 0.8833456845630301 and parameters: {'C': 36.513106387114014}. Best is trial 18 with value: 0.8985212044166437.\u001b[0m\n"
     ]
    },
    {
     "name": "stdout",
     "output_type": "stream",
     "text": [
      "Overall accuracy: 0.884\n",
      "\n"
     ]
    },
    {
     "name": "stderr",
     "output_type": "stream",
     "text": [
      "\u001b[32m[I 2023-05-10 18:58:48,978]\u001b[0m Trial 68 finished with value: 0.8729269782754845 and parameters: {'C': 0.16828727005857447}. Best is trial 18 with value: 0.8985212044166437.\u001b[0m\n"
     ]
    },
    {
     "name": "stdout",
     "output_type": "stream",
     "text": [
      "Overall accuracy: 0.874\n",
      "\n"
     ]
    },
    {
     "name": "stderr",
     "output_type": "stream",
     "text": [
      "\u001b[32m[I 2023-05-10 18:58:49,971]\u001b[0m Trial 69 finished with value: 0.896100404395715 and parameters: {'C': 1.1773680315150914}. Best is trial 18 with value: 0.8985212044166437.\u001b[0m\n"
     ]
    },
    {
     "name": "stdout",
     "output_type": "stream",
     "text": [
      "Overall accuracy: 0.897\n",
      "\n"
     ]
    },
    {
     "name": "stderr",
     "output_type": "stream",
     "text": [
      "\u001b[32m[I 2023-05-10 18:58:51,054]\u001b[0m Trial 70 finished with value: 0.8703531486857552 and parameters: {'C': 148.1595856831022}. Best is trial 18 with value: 0.8985212044166437.\u001b[0m\n"
     ]
    },
    {
     "name": "stdout",
     "output_type": "stream",
     "text": [
      "Overall accuracy: 0.871\n",
      "\n"
     ]
    },
    {
     "name": "stderr",
     "output_type": "stream",
     "text": [
      "\u001b[32m[I 2023-05-10 18:58:52,020]\u001b[0m Trial 71 finished with value: 0.8965714094033107 and parameters: {'C': 3.596210989221993}. Best is trial 18 with value: 0.8985212044166437.\u001b[0m\n"
     ]
    },
    {
     "name": "stdout",
     "output_type": "stream",
     "text": [
      "Overall accuracy: 0.897\n",
      "\n"
     ]
    },
    {
     "name": "stderr",
     "output_type": "stream",
     "text": [
      "\u001b[32m[I 2023-05-10 18:58:53,107]\u001b[0m Trial 72 finished with value: 0.8920159377373995 and parameters: {'C': 15.341428408020692}. Best is trial 18 with value: 0.8985212044166437.\u001b[0m\n"
     ]
    },
    {
     "name": "stdout",
     "output_type": "stream",
     "text": [
      "Overall accuracy: 0.892\n",
      "\n"
     ]
    },
    {
     "name": "stderr",
     "output_type": "stream",
     "text": [
      "\u001b[32m[I 2023-05-10 18:58:54,050]\u001b[0m Trial 73 finished with value: 0.8936967656392367 and parameters: {'C': 0.795106548398776}. Best is trial 18 with value: 0.8985212044166437.\u001b[0m\n"
     ]
    },
    {
     "name": "stdout",
     "output_type": "stream",
     "text": [
      "Overall accuracy: 0.894\n",
      "\n"
     ]
    },
    {
     "name": "stderr",
     "output_type": "stream",
     "text": [
      "\u001b[32m[I 2023-05-10 18:58:54,940]\u001b[0m Trial 74 finished with value: 0.8969613585293159 and parameters: {'C': 3.681316286561648}. Best is trial 18 with value: 0.8985212044166437.\u001b[0m\n"
     ]
    },
    {
     "name": "stdout",
     "output_type": "stream",
     "text": [
      "Overall accuracy: 0.897\n",
      "\n"
     ]
    },
    {
     "name": "stderr",
     "output_type": "stream",
     "text": [
      "\u001b[32m[I 2023-05-10 18:58:56,434]\u001b[0m Trial 75 finished with value: 0.873314893723057 and parameters: {'C': 0.161457868458428}. Best is trial 18 with value: 0.8985212044166437.\u001b[0m\n"
     ]
    },
    {
     "name": "stdout",
     "output_type": "stream",
     "text": [
      "Overall accuracy: 0.874\n",
      "\n"
     ]
    },
    {
     "name": "stderr",
     "output_type": "stream",
     "text": [
      "\u001b[32m[I 2023-05-10 18:58:58,107]\u001b[0m Trial 76 finished with value: 0.8543809691941312 and parameters: {'C': 0.05284062137753583}. Best is trial 18 with value: 0.8985212044166437.\u001b[0m\n"
     ]
    },
    {
     "name": "stdout",
     "output_type": "stream",
     "text": [
      "Overall accuracy: 0.856\n",
      "\n"
     ]
    },
    {
     "name": "stderr",
     "output_type": "stream",
     "text": [
      "\u001b[32m[I 2023-05-10 18:59:00,035]\u001b[0m Trial 77 finished with value: 0.3416213416213416 and parameters: {'C': 0.00628139241399578}. Best is trial 18 with value: 0.8985212044166437.\u001b[0m\n"
     ]
    },
    {
     "name": "stdout",
     "output_type": "stream",
     "text": [
      "Overall accuracy: 0.519\n",
      "\n"
     ]
    },
    {
     "name": "stderr",
     "output_type": "stream",
     "text": [
      "\u001b[32m[I 2023-05-10 18:59:00,943]\u001b[0m Trial 78 finished with value: 0.8958196721311475 and parameters: {'C': 4.284114012222533}. Best is trial 18 with value: 0.8985212044166437.\u001b[0m\n"
     ]
    },
    {
     "name": "stdout",
     "output_type": "stream",
     "text": [
      "Overall accuracy: 0.896\n",
      "\n"
     ]
    },
    {
     "name": "stderr",
     "output_type": "stream",
     "text": [
      "\u001b[32m[I 2023-05-10 18:59:01,858]\u001b[0m Trial 79 finished with value: 0.8876919373113685 and parameters: {'C': 26.13404373166189}. Best is trial 18 with value: 0.8985212044166437.\u001b[0m\n"
     ]
    },
    {
     "name": "stdout",
     "output_type": "stream",
     "text": [
      "Overall accuracy: 0.888\n",
      "\n"
     ]
    },
    {
     "name": "stderr",
     "output_type": "stream",
     "text": [
      "\u001b[32m[I 2023-05-10 18:59:02,961]\u001b[0m Trial 80 finished with value: 0.8881155533449885 and parameters: {'C': 0.4499235547769797}. Best is trial 18 with value: 0.8985212044166437.\u001b[0m\n"
     ]
    },
    {
     "name": "stdout",
     "output_type": "stream",
     "text": [
      "Overall accuracy: 0.889\n",
      "\n"
     ]
    },
    {
     "name": "stderr",
     "output_type": "stream",
     "text": [
      "\u001b[32m[I 2023-05-10 18:59:03,815]\u001b[0m Trial 81 finished with value: 0.8973012281835812 and parameters: {'C': 1.5382447079912136}. Best is trial 18 with value: 0.8985212044166437.\u001b[0m\n"
     ]
    },
    {
     "name": "stdout",
     "output_type": "stream",
     "text": [
      "Overall accuracy: 0.898\n",
      "\n"
     ]
    },
    {
     "name": "stderr",
     "output_type": "stream",
     "text": [
      "\u001b[32m[I 2023-05-10 18:59:04,750]\u001b[0m Trial 82 finished with value: 0.8965007518413741 and parameters: {'C': 1.213673787907953}. Best is trial 18 with value: 0.8985212044166437.\u001b[0m\n"
     ]
    },
    {
     "name": "stdout",
     "output_type": "stream",
     "text": [
      "Overall accuracy: 0.897\n",
      "\n"
     ]
    },
    {
     "name": "stderr",
     "output_type": "stream",
     "text": [
      "\u001b[32m[I 2023-05-10 18:59:05,845]\u001b[0m Trial 83 finished with value: 0.8943032063276332 and parameters: {'C': 9.555463500934861}. Best is trial 18 with value: 0.8985212044166437.\u001b[0m\n"
     ]
    },
    {
     "name": "stdout",
     "output_type": "stream",
     "text": [
      "Overall accuracy: 0.895\n",
      "\n"
     ]
    },
    {
     "name": "stderr",
     "output_type": "stream",
     "text": [
      "\u001b[32m[I 2023-05-10 18:59:06,805]\u001b[0m Trial 84 finished with value: 0.8985212044166437 and parameters: {'C': 2.9280038312064685}. Best is trial 18 with value: 0.8985212044166437.\u001b[0m\n"
     ]
    },
    {
     "name": "stdout",
     "output_type": "stream",
     "text": [
      "Overall accuracy: 0.899\n",
      "\n"
     ]
    },
    {
     "name": "stderr",
     "output_type": "stream",
     "text": [
      "\u001b[32m[I 2023-05-10 18:59:08,047]\u001b[0m Trial 85 finished with value: 0.8707167688495663 and parameters: {'C': 101.48877214587148}. Best is trial 18 with value: 0.8985212044166437.\u001b[0m\n"
     ]
    },
    {
     "name": "stdout",
     "output_type": "stream",
     "text": [
      "Overall accuracy: 0.871\n",
      "\n"
     ]
    },
    {
     "name": "stderr",
     "output_type": "stream",
     "text": [
      "\u001b[32m[I 2023-05-10 18:59:09,227]\u001b[0m Trial 86 finished with value: 0.877751999406096 and parameters: {'C': 0.2537526176951443}. Best is trial 18 with value: 0.8985212044166437.\u001b[0m\n"
     ]
    },
    {
     "name": "stdout",
     "output_type": "stream",
     "text": [
      "Overall accuracy: 0.878\n",
      "\n"
     ]
    },
    {
     "name": "stderr",
     "output_type": "stream",
     "text": [
      "\u001b[32m[I 2023-05-10 18:59:10,927]\u001b[0m Trial 87 finished with value: 0.8462100767281577 and parameters: {'C': 0.03140661304586903}. Best is trial 18 with value: 0.8985212044166437.\u001b[0m\n"
     ]
    },
    {
     "name": "stdout",
     "output_type": "stream",
     "text": [
      "Overall accuracy: 0.848\n",
      "\n"
     ]
    },
    {
     "name": "stderr",
     "output_type": "stream",
     "text": [
      "\u001b[32m[I 2023-05-10 18:59:12,234]\u001b[0m Trial 88 finished with value: 0.896100404395715 and parameters: {'C': 1.284945765262366}. Best is trial 18 with value: 0.8985212044166437.\u001b[0m\n"
     ]
    },
    {
     "name": "stdout",
     "output_type": "stream",
     "text": [
      "Overall accuracy: 0.897\n",
      "\n"
     ]
    },
    {
     "name": "stderr",
     "output_type": "stream",
     "text": [
      "\u001b[32m[I 2023-05-10 18:59:13,975]\u001b[0m Trial 89 finished with value: 0.866963814541347 and parameters: {'C': 0.1054281079345849}. Best is trial 18 with value: 0.8985212044166437.\u001b[0m\n"
     ]
    },
    {
     "name": "stdout",
     "output_type": "stream",
     "text": [
      "Overall accuracy: 0.868\n",
      "\n"
     ]
    },
    {
     "name": "stderr",
     "output_type": "stream",
     "text": [
      "\u001b[32m[I 2023-05-10 18:59:15,161]\u001b[0m Trial 90 finished with value: 0.878201487208472 and parameters: {'C': 49.16586733529316}. Best is trial 18 with value: 0.8985212044166437.\u001b[0m\n"
     ]
    },
    {
     "name": "stdout",
     "output_type": "stream",
     "text": [
      "Overall accuracy: 0.878\n",
      "\n"
     ]
    },
    {
     "name": "stderr",
     "output_type": "stream",
     "text": [
      "\u001b[32m[I 2023-05-10 18:59:16,212]\u001b[0m Trial 91 finished with value: 0.8924064203955328 and parameters: {'C': 14.904463313914832}. Best is trial 18 with value: 0.8985212044166437.\u001b[0m\n"
     ]
    },
    {
     "name": "stdout",
     "output_type": "stream",
     "text": [
      "Overall accuracy: 0.893\n",
      "\n"
     ]
    },
    {
     "name": "stderr",
     "output_type": "stream",
     "text": [
      "\u001b[32m[I 2023-05-10 18:59:17,278]\u001b[0m Trial 92 finished with value: 0.8981312348090602 and parameters: {'C': 2.994181382539452}. Best is trial 18 with value: 0.8985212044166437.\u001b[0m\n"
     ]
    },
    {
     "name": "stdout",
     "output_type": "stream",
     "text": [
      "Overall accuracy: 0.899\n",
      "\n"
     ]
    },
    {
     "name": "stderr",
     "output_type": "stream",
     "text": [
      "\u001b[32m[I 2023-05-10 18:59:18,284]\u001b[0m Trial 93 finished with value: 0.8924939298650639 and parameters: {'C': 0.75158133459648}. Best is trial 18 with value: 0.8985212044166437.\u001b[0m\n"
     ]
    },
    {
     "name": "stdout",
     "output_type": "stream",
     "text": [
      "Overall accuracy: 0.893\n",
      "\n"
     ]
    },
    {
     "name": "stderr",
     "output_type": "stream",
     "text": [
      "\u001b[32m[I 2023-05-10 18:59:19,244]\u001b[0m Trial 94 finished with value: 0.8977314861630767 and parameters: {'C': 2.347503532027832}. Best is trial 18 with value: 0.8985212044166437.\u001b[0m\n"
     ]
    },
    {
     "name": "stdout",
     "output_type": "stream",
     "text": [
      "Overall accuracy: 0.898\n",
      "\n"
     ]
    },
    {
     "name": "stderr",
     "output_type": "stream",
     "text": [
      "\u001b[32m[I 2023-05-10 18:59:20,153]\u001b[0m Trial 95 finished with value: 0.8977604536208436 and parameters: {'C': 3.8410153574671915}. Best is trial 18 with value: 0.8985212044166437.\u001b[0m\n"
     ]
    },
    {
     "name": "stdout",
     "output_type": "stream",
     "text": [
      "Overall accuracy: 0.898\n",
      "\n"
     ]
    },
    {
     "name": "stderr",
     "output_type": "stream",
     "text": [
      "\u001b[32m[I 2023-05-10 18:59:21,174]\u001b[0m Trial 96 finished with value: 0.8950919883699642 and parameters: {'C': 8.474847761360367}. Best is trial 18 with value: 0.8985212044166437.\u001b[0m\n"
     ]
    },
    {
     "name": "stdout",
     "output_type": "stream",
     "text": [
      "Overall accuracy: 0.895\n",
      "\n"
     ]
    },
    {
     "name": "stderr",
     "output_type": "stream",
     "text": [
      "\u001b[32m[I 2023-05-10 18:59:22,183]\u001b[0m Trial 97 finished with value: 0.8877139325133869 and parameters: {'C': 0.4601815171827318}. Best is trial 18 with value: 0.8985212044166437.\u001b[0m\n"
     ]
    },
    {
     "name": "stdout",
     "output_type": "stream",
     "text": [
      "Overall accuracy: 0.888\n",
      "\n"
     ]
    },
    {
     "name": "stderr",
     "output_type": "stream",
     "text": [
      "\u001b[32m[I 2023-05-10 18:59:23,065]\u001b[0m Trial 98 finished with value: 0.8965714094033107 and parameters: {'C': 3.553727165381974}. Best is trial 18 with value: 0.8985212044166437.\u001b[0m\n"
     ]
    },
    {
     "name": "stdout",
     "output_type": "stream",
     "text": [
      "Overall accuracy: 0.897\n",
      "\n"
     ]
    },
    {
     "name": "stderr",
     "output_type": "stream",
     "text": [
      "\u001b[32m[I 2023-05-10 18:59:24,172]\u001b[0m Trial 99 finished with value: 0.8777854289188316 and parameters: {'C': 51.90703659979072}. Best is trial 18 with value: 0.8985212044166437.\u001b[0m\n",
      "\u001b[32m[I 2023-05-10 18:59:24,355]\u001b[0m A new study created in memory with name: no-name-15f11d9d-d819-432f-bde5-a8f43ebea1f2\u001b[0m\n"
     ]
    },
    {
     "name": "stdout",
     "output_type": "stream",
     "text": [
      "Overall accuracy: 0.878\n",
      "\n",
      "Accuracy: 0.8985212044166437\n",
      "Best hyperparameters: {'C': 2.9411040169428166}\n",
      "\n",
      "\n",
      "\n",
      "Model :- SVC, DataType :- RSsecond\n"
     ]
    },
    {
     "name": "stderr",
     "output_type": "stream",
     "text": [
      "\u001b[32m[I 2023-05-10 18:59:26,149]\u001b[0m Trial 0 finished with value: 0.3416213416213416 and parameters: {'C': 1.8218594509107678e-05}. Best is trial 0 with value: 0.3416213416213416.\u001b[0m\n"
     ]
    },
    {
     "name": "stdout",
     "output_type": "stream",
     "text": [
      "Overall accuracy: 0.519\n",
      "\n"
     ]
    },
    {
     "name": "stderr",
     "output_type": "stream",
     "text": [
      "\u001b[32m[I 2023-05-10 18:59:26,947]\u001b[0m Trial 1 finished with value: 0.8958639674505069 and parameters: {'C': 3.682402067812203}. Best is trial 1 with value: 0.8958639674505069.\u001b[0m\n"
     ]
    },
    {
     "name": "stdout",
     "output_type": "stream",
     "text": [
      "Overall accuracy: 0.896\n",
      "\n"
     ]
    },
    {
     "name": "stderr",
     "output_type": "stream",
     "text": [
      "\u001b[32m[I 2023-05-10 18:59:28,155]\u001b[0m Trial 2 finished with value: 0.8480079557846734 and parameters: {'C': 924893423.413383}. Best is trial 1 with value: 0.8958639674505069.\u001b[0m\n"
     ]
    },
    {
     "name": "stdout",
     "output_type": "stream",
     "text": [
      "Overall accuracy: 0.848\n",
      "\n"
     ]
    },
    {
     "name": "stderr",
     "output_type": "stream",
     "text": [
      "\u001b[32m[I 2023-05-10 18:59:29,931]\u001b[0m Trial 3 finished with value: 0.3416213416213416 and parameters: {'C': 0.000507210826233872}. Best is trial 1 with value: 0.8958639674505069.\u001b[0m\n"
     ]
    },
    {
     "name": "stdout",
     "output_type": "stream",
     "text": [
      "Overall accuracy: 0.519\n",
      "\n"
     ]
    },
    {
     "name": "stderr",
     "output_type": "stream",
     "text": [
      "\u001b[32m[I 2023-05-10 18:59:31,662]\u001b[0m Trial 4 finished with value: 0.3416213416213416 and parameters: {'C': 2.6520792302509922e-08}. Best is trial 1 with value: 0.8958639674505069.\u001b[0m\n"
     ]
    },
    {
     "name": "stdout",
     "output_type": "stream",
     "text": [
      "Overall accuracy: 0.519\n",
      "\n"
     ]
    },
    {
     "name": "stderr",
     "output_type": "stream",
     "text": [
      "\u001b[32m[I 2023-05-10 18:59:33,455]\u001b[0m Trial 5 finished with value: 0.3506187394475013 and parameters: {'C': 0.00853131206782901}. Best is trial 1 with value: 0.8958639674505069.\u001b[0m\n"
     ]
    },
    {
     "name": "stdout",
     "output_type": "stream",
     "text": [
      "Overall accuracy: 0.523\n",
      "\n"
     ]
    },
    {
     "name": "stderr",
     "output_type": "stream",
     "text": [
      "\u001b[32m[I 2023-05-10 18:59:34,538]\u001b[0m Trial 6 finished with value: 0.8480079557846734 and parameters: {'C': 3847.7107039793677}. Best is trial 1 with value: 0.8958639674505069.\u001b[0m\n"
     ]
    },
    {
     "name": "stdout",
     "output_type": "stream",
     "text": [
      "Overall accuracy: 0.848\n",
      "\n"
     ]
    },
    {
     "name": "stderr",
     "output_type": "stream",
     "text": [
      "\u001b[32m[I 2023-05-10 18:59:35,342]\u001b[0m Trial 7 finished with value: 0.8962873745043352 and parameters: {'C': 6.0131756320623015}. Best is trial 7 with value: 0.8962873745043352.\u001b[0m\n"
     ]
    },
    {
     "name": "stdout",
     "output_type": "stream",
     "text": [
      "Overall accuracy: 0.897\n",
      "\n"
     ]
    },
    {
     "name": "stderr",
     "output_type": "stream",
     "text": [
      "\u001b[32m[I 2023-05-10 18:59:37,220]\u001b[0m Trial 8 finished with value: 0.3416213416213416 and parameters: {'C': 1.0094869920880889e-09}. Best is trial 7 with value: 0.8962873745043352.\u001b[0m\n"
     ]
    },
    {
     "name": "stdout",
     "output_type": "stream",
     "text": [
      "Overall accuracy: 0.519\n",
      "\n"
     ]
    },
    {
     "name": "stderr",
     "output_type": "stream",
     "text": [
      "\u001b[32m[I 2023-05-10 18:59:39,044]\u001b[0m Trial 9 finished with value: 0.3416213416213416 and parameters: {'C': 2.3622148662116413e-08}. Best is trial 7 with value: 0.8962873745043352.\u001b[0m\n"
     ]
    },
    {
     "name": "stdout",
     "output_type": "stream",
     "text": [
      "Overall accuracy: 0.519\n",
      "\n"
     ]
    },
    {
     "name": "stderr",
     "output_type": "stream",
     "text": [
      "\u001b[32m[I 2023-05-10 18:59:40,177]\u001b[0m Trial 10 finished with value: 0.849232656589453 and parameters: {'C': 963.9233143670706}. Best is trial 7 with value: 0.8962873745043352.\u001b[0m\n"
     ]
    },
    {
     "name": "stdout",
     "output_type": "stream",
     "text": [
      "Overall accuracy: 0.849\n",
      "\n"
     ]
    },
    {
     "name": "stderr",
     "output_type": "stream",
     "text": [
      "\u001b[32m[I 2023-05-10 18:59:41,002]\u001b[0m Trial 11 finished with value: 0.8958889760417804 and parameters: {'C': 6.140656653109291}. Best is trial 7 with value: 0.8962873745043352.\u001b[0m\n"
     ]
    },
    {
     "name": "stdout",
     "output_type": "stream",
     "text": [
      "Overall accuracy: 0.896\n",
      "\n"
     ]
    },
    {
     "name": "stderr",
     "output_type": "stream",
     "text": [
      "\u001b[32m[I 2023-05-10 18:59:41,849]\u001b[0m Trial 12 finished with value: 0.8962792649599303 and parameters: {'C': 5.647347919099141}. Best is trial 7 with value: 0.8962873745043352.\u001b[0m\n"
     ]
    },
    {
     "name": "stdout",
     "output_type": "stream",
     "text": [
      "Overall accuracy: 0.897\n",
      "\n"
     ]
    },
    {
     "name": "stderr",
     "output_type": "stream",
     "text": [
      "\u001b[32m[I 2023-05-10 18:59:42,990]\u001b[0m Trial 13 finished with value: 0.8480079557846734 and parameters: {'C': 28597.983221765175}. Best is trial 7 with value: 0.8962873745043352.\u001b[0m\n"
     ]
    },
    {
     "name": "stdout",
     "output_type": "stream",
     "text": [
      "Overall accuracy: 0.848\n",
      "\n"
     ]
    },
    {
     "name": "stderr",
     "output_type": "stream",
     "text": [
      "\u001b[32m[I 2023-05-10 18:59:44,528]\u001b[0m Trial 14 finished with value: 0.848493699777608 and parameters: {'C': 0.047276475571668815}. Best is trial 7 with value: 0.8962873745043352.\u001b[0m\n"
     ]
    },
    {
     "name": "stdout",
     "output_type": "stream",
     "text": [
      "Overall accuracy: 0.849\n",
      "\n"
     ]
    },
    {
     "name": "stderr",
     "output_type": "stream",
     "text": [
      "\u001b[32m[I 2023-05-10 18:59:46,377]\u001b[0m Trial 15 finished with value: 0.3416213416213416 and parameters: {'C': 2.753725775890651e-05}. Best is trial 7 with value: 0.8962873745043352.\u001b[0m\n"
     ]
    },
    {
     "name": "stdout",
     "output_type": "stream",
     "text": [
      "Overall accuracy: 0.519\n",
      "\n"
     ]
    },
    {
     "name": "stderr",
     "output_type": "stream",
     "text": [
      "\u001b[32m[I 2023-05-10 18:59:47,238]\u001b[0m Trial 16 finished with value: 0.8950663955226474 and parameters: {'C': 8.549005825465484}. Best is trial 7 with value: 0.8962873745043352.\u001b[0m\n"
     ]
    },
    {
     "name": "stdout",
     "output_type": "stream",
     "text": [
      "Overall accuracy: 0.895\n",
      "\n"
     ]
    },
    {
     "name": "stderr",
     "output_type": "stream",
     "text": [
      "\u001b[32m[I 2023-05-10 18:59:48,507]\u001b[0m Trial 17 finished with value: 0.8480079557846734 and parameters: {'C': 2204094.312269356}. Best is trial 7 with value: 0.8962873745043352.\u001b[0m\n"
     ]
    },
    {
     "name": "stdout",
     "output_type": "stream",
     "text": [
      "Overall accuracy: 0.848\n",
      "\n"
     ]
    },
    {
     "name": "stderr",
     "output_type": "stream",
     "text": [
      "\u001b[32m[I 2023-05-10 18:59:49,729]\u001b[0m Trial 18 finished with value: 0.8691092089246337 and parameters: {'C': 0.15315794982162126}. Best is trial 7 with value: 0.8962873745043352.\u001b[0m\n"
     ]
    },
    {
     "name": "stdout",
     "output_type": "stream",
     "text": [
      "Overall accuracy: 0.870\n",
      "\n"
     ]
    },
    {
     "name": "stderr",
     "output_type": "stream",
     "text": [
      "\u001b[32m[I 2023-05-10 18:59:50,896]\u001b[0m Trial 19 finished with value: 0.8585992872773632 and parameters: {'C': 186.66719777832145}. Best is trial 7 with value: 0.8962873745043352.\u001b[0m\n"
     ]
    },
    {
     "name": "stdout",
     "output_type": "stream",
     "text": [
      "Overall accuracy: 0.859\n",
      "\n"
     ]
    },
    {
     "name": "stderr",
     "output_type": "stream",
     "text": [
      "\u001b[32m[I 2023-05-10 18:59:52,029]\u001b[0m Trial 20 finished with value: 0.8480079557846734 and parameters: {'C': 1313423.7441402131}. Best is trial 7 with value: 0.8962873745043352.\u001b[0m\n"
     ]
    },
    {
     "name": "stdout",
     "output_type": "stream",
     "text": [
      "Overall accuracy: 0.848\n",
      "\n"
     ]
    },
    {
     "name": "stderr",
     "output_type": "stream",
     "text": [
      "\u001b[32m[I 2023-05-10 18:59:52,782]\u001b[0m Trial 21 finished with value: 0.8954822118988264 and parameters: {'C': 3.48179243548684}. Best is trial 7 with value: 0.8962873745043352.\u001b[0m\n"
     ]
    },
    {
     "name": "stdout",
     "output_type": "stream",
     "text": [
      "Overall accuracy: 0.896\n",
      "\n"
     ]
    },
    {
     "name": "stderr",
     "output_type": "stream",
     "text": [
      "\u001b[32m[I 2023-05-10 18:59:53,870]\u001b[0m Trial 22 finished with value: 0.8652600059514952 and parameters: {'C': 98.22933757802622}. Best is trial 7 with value: 0.8962873745043352.\u001b[0m\n"
     ]
    },
    {
     "name": "stdout",
     "output_type": "stream",
     "text": [
      "Overall accuracy: 0.865\n",
      "\n"
     ]
    },
    {
     "name": "stderr",
     "output_type": "stream",
     "text": [
      "\u001b[32m[I 2023-05-10 18:59:54,758]\u001b[0m Trial 23 finished with value: 0.8910344699052287 and parameters: {'C': 0.6216686419676329}. Best is trial 7 with value: 0.8962873745043352.\u001b[0m\n"
     ]
    },
    {
     "name": "stdout",
     "output_type": "stream",
     "text": [
      "Overall accuracy: 0.891\n",
      "\n"
     ]
    },
    {
     "name": "stderr",
     "output_type": "stream",
     "text": [
      "\u001b[32m[I 2023-05-10 18:59:55,632]\u001b[0m Trial 24 finished with value: 0.888400482831661 and parameters: {'C': 14.171992452186263}. Best is trial 7 with value: 0.8962873745043352.\u001b[0m\n"
     ]
    },
    {
     "name": "stdout",
     "output_type": "stream",
     "text": [
      "Overall accuracy: 0.889\n",
      "\n"
     ]
    },
    {
     "name": "stderr",
     "output_type": "stream",
     "text": [
      "\u001b[32m[I 2023-05-10 18:59:57,629]\u001b[0m Trial 25 finished with value: 0.3416213416213416 and parameters: {'C': 0.0033548566845100123}. Best is trial 7 with value: 0.8962873745043352.\u001b[0m\n"
     ]
    },
    {
     "name": "stdout",
     "output_type": "stream",
     "text": [
      "Overall accuracy: 0.519\n",
      "\n"
     ]
    },
    {
     "name": "stderr",
     "output_type": "stream",
     "text": [
      "\u001b[32m[I 2023-05-10 18:59:58,842]\u001b[0m Trial 26 finished with value: 0.8802981845319455 and parameters: {'C': 0.3042996377460695}. Best is trial 7 with value: 0.8962873745043352.\u001b[0m\n"
     ]
    },
    {
     "name": "stdout",
     "output_type": "stream",
     "text": [
      "Overall accuracy: 0.881\n",
      "\n"
     ]
    },
    {
     "name": "stderr",
     "output_type": "stream",
     "text": [
      "\u001b[32m[I 2023-05-10 19:00:00,083]\u001b[0m Trial 27 finished with value: 0.8617346816227512 and parameters: {'C': 146.34562513332745}. Best is trial 7 with value: 0.8962873745043352.\u001b[0m\n"
     ]
    },
    {
     "name": "stdout",
     "output_type": "stream",
     "text": [
      "Overall accuracy: 0.862\n",
      "\n"
     ]
    },
    {
     "name": "stderr",
     "output_type": "stream",
     "text": [
      "\u001b[32m[I 2023-05-10 19:00:01,296]\u001b[0m Trial 28 finished with value: 0.8480079557846734 and parameters: {'C': 11879.023608312911}. Best is trial 7 with value: 0.8962873745043352.\u001b[0m\n"
     ]
    },
    {
     "name": "stdout",
     "output_type": "stream",
     "text": [
      "Overall accuracy: 0.848\n",
      "\n"
     ]
    },
    {
     "name": "stderr",
     "output_type": "stream",
     "text": [
      "\u001b[32m[I 2023-05-10 19:00:03,704]\u001b[0m Trial 29 finished with value: 0.3416213416213416 and parameters: {'C': 0.0002873919056497025}. Best is trial 7 with value: 0.8962873745043352.\u001b[0m\n"
     ]
    },
    {
     "name": "stdout",
     "output_type": "stream",
     "text": [
      "Overall accuracy: 0.519\n",
      "\n"
     ]
    },
    {
     "name": "stderr",
     "output_type": "stream",
     "text": [
      "\u001b[32m[I 2023-05-10 19:00:05,712]\u001b[0m Trial 30 finished with value: 0.837470058386147 and parameters: {'C': 0.024621170329588257}. Best is trial 7 with value: 0.8962873745043352.\u001b[0m\n"
     ]
    },
    {
     "name": "stdout",
     "output_type": "stream",
     "text": [
      "Overall accuracy: 0.839\n",
      "\n"
     ]
    },
    {
     "name": "stderr",
     "output_type": "stream",
     "text": [
      "\u001b[32m[I 2023-05-10 19:00:06,501]\u001b[0m Trial 31 finished with value: 0.8958377827998112 and parameters: {'C': 1.8624740056784042}. Best is trial 7 with value: 0.8962873745043352.\u001b[0m\n"
     ]
    },
    {
     "name": "stdout",
     "output_type": "stream",
     "text": [
      "Overall accuracy: 0.896\n",
      "\n"
     ]
    },
    {
     "name": "stderr",
     "output_type": "stream",
     "text": [
      "\u001b[32m[I 2023-05-10 19:00:07,370]\u001b[0m Trial 32 finished with value: 0.8954476916403009 and parameters: {'C': 1.94019499123105}. Best is trial 7 with value: 0.8962873745043352.\u001b[0m\n"
     ]
    },
    {
     "name": "stdout",
     "output_type": "stream",
     "text": [
      "Overall accuracy: 0.896\n",
      "\n"
     ]
    },
    {
     "name": "stderr",
     "output_type": "stream",
     "text": [
      "\u001b[32m[I 2023-05-10 19:00:08,278]\u001b[0m Trial 33 finished with value: 0.8801765174703298 and parameters: {'C': 26.740963990678406}. Best is trial 7 with value: 0.8962873745043352.\u001b[0m\n"
     ]
    },
    {
     "name": "stdout",
     "output_type": "stream",
     "text": [
      "Overall accuracy: 0.880\n",
      "\n"
     ]
    },
    {
     "name": "stderr",
     "output_type": "stream",
     "text": [
      "\u001b[32m[I 2023-05-10 19:00:09,463]\u001b[0m Trial 34 finished with value: 0.8835052659460022 and parameters: {'C': 0.3696523858323939}. Best is trial 7 with value: 0.8962873745043352.\u001b[0m\n"
     ]
    },
    {
     "name": "stdout",
     "output_type": "stream",
     "text": [
      "Overall accuracy: 0.884\n",
      "\n"
     ]
    },
    {
     "name": "stderr",
     "output_type": "stream",
     "text": [
      "\u001b[32m[I 2023-05-10 19:00:11,143]\u001b[0m Trial 35 finished with value: 0.3416213416213416 and parameters: {'C': 0.002484337501135165}. Best is trial 7 with value: 0.8962873745043352.\u001b[0m\n"
     ]
    },
    {
     "name": "stdout",
     "output_type": "stream",
     "text": [
      "Overall accuracy: 0.519\n",
      "\n"
     ]
    },
    {
     "name": "stderr",
     "output_type": "stream",
     "text": [
      "\u001b[32m[I 2023-05-10 19:00:12,562]\u001b[0m Trial 36 finished with value: 0.8440769517703228 and parameters: {'C': 0.03867371794387059}. Best is trial 7 with value: 0.8962873745043352.\u001b[0m\n"
     ]
    },
    {
     "name": "stdout",
     "output_type": "stream",
     "text": [
      "Overall accuracy: 0.845\n",
      "\n"
     ]
    },
    {
     "name": "stderr",
     "output_type": "stream",
     "text": [
      "\u001b[32m[I 2023-05-10 19:00:13,774]\u001b[0m Trial 37 finished with value: 0.8546983722310338 and parameters: {'C': 277.8086541016264}. Best is trial 7 with value: 0.8962873745043352.\u001b[0m\n"
     ]
    },
    {
     "name": "stdout",
     "output_type": "stream",
     "text": [
      "Overall accuracy: 0.855\n",
      "\n"
     ]
    },
    {
     "name": "stderr",
     "output_type": "stream",
     "text": [
      "\u001b[32m[I 2023-05-10 19:00:14,612]\u001b[0m Trial 38 finished with value: 0.8880104641545001 and parameters: {'C': 14.401421027353587}. Best is trial 7 with value: 0.8962873745043352.\u001b[0m\n"
     ]
    },
    {
     "name": "stdout",
     "output_type": "stream",
     "text": [
      "Overall accuracy: 0.888\n",
      "\n"
     ]
    },
    {
     "name": "stderr",
     "output_type": "stream",
     "text": [
      "\u001b[32m[I 2023-05-10 19:00:16,402]\u001b[0m Trial 39 finished with value: 0.3416213416213416 and parameters: {'C': 0.0003126053848019765}. Best is trial 7 with value: 0.8962873745043352.\u001b[0m\n"
     ]
    },
    {
     "name": "stdout",
     "output_type": "stream",
     "text": [
      "Overall accuracy: 0.519\n",
      "\n"
     ]
    },
    {
     "name": "stderr",
     "output_type": "stream",
     "text": [
      "\u001b[32m[I 2023-05-10 19:00:17,554]\u001b[0m Trial 40 finished with value: 0.8480079557846734 and parameters: {'C': 7078.060577727317}. Best is trial 7 with value: 0.8962873745043352.\u001b[0m\n"
     ]
    },
    {
     "name": "stdout",
     "output_type": "stream",
     "text": [
      "Overall accuracy: 0.848\n",
      "\n"
     ]
    },
    {
     "name": "stderr",
     "output_type": "stream",
     "text": [
      "\u001b[32m[I 2023-05-10 19:00:18,231]\u001b[0m Trial 41 finished with value: 0.896617968744664 and parameters: {'C': 1.787210777745183}. Best is trial 41 with value: 0.896617968744664.\u001b[0m\n"
     ]
    },
    {
     "name": "stdout",
     "output_type": "stream",
     "text": [
      "Overall accuracy: 0.897\n",
      "\n"
     ]
    },
    {
     "name": "stderr",
     "output_type": "stream",
     "text": [
      "\u001b[32m[I 2023-05-10 19:00:19,063]\u001b[0m Trial 42 finished with value: 0.8930430188212874 and parameters: {'C': 0.7841731975918578}. Best is trial 41 with value: 0.896617968744664.\u001b[0m\n"
     ]
    },
    {
     "name": "stdout",
     "output_type": "stream",
     "text": [
      "Overall accuracy: 0.893\n",
      "\n"
     ]
    },
    {
     "name": "stderr",
     "output_type": "stream",
     "text": [
      "\u001b[32m[I 2023-05-10 19:00:20,238]\u001b[0m Trial 43 finished with value: 0.8579707695365324 and parameters: {'C': 0.07970780705554494}. Best is trial 41 with value: 0.896617968744664.\u001b[0m\n"
     ]
    },
    {
     "name": "stdout",
     "output_type": "stream",
     "text": [
      "Overall accuracy: 0.859\n",
      "\n"
     ]
    },
    {
     "name": "stderr",
     "output_type": "stream",
     "text": [
      "\u001b[32m[I 2023-05-10 19:00:21,199]\u001b[0m Trial 44 finished with value: 0.8476388099659844 and parameters: {'C': 1493.0568174320356}. Best is trial 41 with value: 0.896617968744664.\u001b[0m\n"
     ]
    },
    {
     "name": "stdout",
     "output_type": "stream",
     "text": [
      "Overall accuracy: 0.848\n",
      "\n"
     ]
    },
    {
     "name": "stderr",
     "output_type": "stream",
     "text": [
      "\u001b[32m[I 2023-05-10 19:00:21,938]\u001b[0m Trial 45 finished with value: 0.8773956568433214 and parameters: {'C': 40.83740392033091}. Best is trial 41 with value: 0.896617968744664.\u001b[0m\n"
     ]
    },
    {
     "name": "stdout",
     "output_type": "stream",
     "text": [
      "Overall accuracy: 0.878\n",
      "\n"
     ]
    },
    {
     "name": "stderr",
     "output_type": "stream",
     "text": [
      "\u001b[32m[I 2023-05-10 19:00:22,568]\u001b[0m Trial 46 finished with value: 0.89390458490862 and parameters: {'C': 4.323374335077254}. Best is trial 41 with value: 0.896617968744664.\u001b[0m\n"
     ]
    },
    {
     "name": "stdout",
     "output_type": "stream",
     "text": [
      "Overall accuracy: 0.894\n",
      "\n"
     ]
    },
    {
     "name": "stderr",
     "output_type": "stream",
     "text": [
      "\u001b[32m[I 2023-05-10 19:00:24,232]\u001b[0m Trial 47 finished with value: 0.363879809363386 and parameters: {'C': 0.008807288412581469}. Best is trial 41 with value: 0.896617968744664.\u001b[0m\n"
     ]
    },
    {
     "name": "stdout",
     "output_type": "stream",
     "text": [
      "Overall accuracy: 0.529\n",
      "\n"
     ]
    },
    {
     "name": "stderr",
     "output_type": "stream",
     "text": [
      "\u001b[32m[I 2023-05-10 19:00:25,268]\u001b[0m Trial 48 finished with value: 0.8488296676237468 and parameters: {'C': 685.1386891127354}. Best is trial 41 with value: 0.896617968744664.\u001b[0m\n"
     ]
    },
    {
     "name": "stdout",
     "output_type": "stream",
     "text": [
      "Overall accuracy: 0.849\n",
      "\n"
     ]
    },
    {
     "name": "stderr",
     "output_type": "stream",
     "text": [
      "\u001b[32m[I 2023-05-10 19:00:25,973]\u001b[0m Trial 49 finished with value: 0.8903505178697332 and parameters: {'C': 10.48661168300903}. Best is trial 41 with value: 0.896617968744664.\u001b[0m\n"
     ]
    },
    {
     "name": "stdout",
     "output_type": "stream",
     "text": [
      "Overall accuracy: 0.891\n",
      "\n"
     ]
    },
    {
     "name": "stderr",
     "output_type": "stream",
     "text": [
      "\u001b[32m[I 2023-05-10 19:00:27,169]\u001b[0m Trial 50 finished with value: 0.8718845665646233 and parameters: {'C': 0.19125483412971025}. Best is trial 41 with value: 0.896617968744664.\u001b[0m\n"
     ]
    },
    {
     "name": "stdout",
     "output_type": "stream",
     "text": [
      "Overall accuracy: 0.873\n",
      "\n"
     ]
    },
    {
     "name": "stderr",
     "output_type": "stream",
     "text": [
      "\u001b[32m[I 2023-05-10 19:00:28,009]\u001b[0m Trial 51 finished with value: 0.896245525944671 and parameters: {'C': 2.5205587704135377}. Best is trial 41 with value: 0.896617968744664.\u001b[0m\n"
     ]
    },
    {
     "name": "stdout",
     "output_type": "stream",
     "text": [
      "Overall accuracy: 0.897\n",
      "\n"
     ]
    },
    {
     "name": "stderr",
     "output_type": "stream",
     "text": [
      "\u001b[32m[I 2023-05-10 19:00:29,069]\u001b[0m Trial 52 finished with value: 0.866843919642287 and parameters: {'C': 74.79767119800232}. Best is trial 41 with value: 0.896617968744664.\u001b[0m\n"
     ]
    },
    {
     "name": "stdout",
     "output_type": "stream",
     "text": [
      "Overall accuracy: 0.867\n",
      "\n"
     ]
    },
    {
     "name": "stderr",
     "output_type": "stream",
     "text": [
      "\u001b[32m[I 2023-05-10 19:00:29,993]\u001b[0m Trial 53 finished with value: 0.8946849014594072 and parameters: {'C': 3.0578106874693898}. Best is trial 41 with value: 0.896617968744664.\u001b[0m\n"
     ]
    },
    {
     "name": "stdout",
     "output_type": "stream",
     "text": [
      "Overall accuracy: 0.895\n",
      "\n"
     ]
    },
    {
     "name": "stderr",
     "output_type": "stream",
     "text": [
      "\u001b[32m[I 2023-05-10 19:00:31,258]\u001b[0m Trial 54 finished with value: 0.8496232544079605 and parameters: {'C': 1083.991242557963}. Best is trial 41 with value: 0.896617968744664.\u001b[0m\n"
     ]
    },
    {
     "name": "stdout",
     "output_type": "stream",
     "text": [
      "Overall accuracy: 0.850\n",
      "\n"
     ]
    },
    {
     "name": "stderr",
     "output_type": "stream",
     "text": [
      "\u001b[32m[I 2023-05-10 19:00:32,249]\u001b[0m Trial 55 finished with value: 0.8914241293001084 and parameters: {'C': 0.6348942472699004}. Best is trial 41 with value: 0.896617968744664.\u001b[0m\n"
     ]
    },
    {
     "name": "stdout",
     "output_type": "stream",
     "text": [
      "Overall accuracy: 0.892\n",
      "\n"
     ]
    },
    {
     "name": "stderr",
     "output_type": "stream",
     "text": [
      "\u001b[32m[I 2023-05-10 19:00:33,150]\u001b[0m Trial 56 finished with value: 0.8813464569261347 and parameters: {'C': 28.763410469060695}. Best is trial 41 with value: 0.896617968744664.\u001b[0m\n"
     ]
    },
    {
     "name": "stdout",
     "output_type": "stream",
     "text": [
      "Overall accuracy: 0.882\n",
      "\n"
     ]
    },
    {
     "name": "stderr",
     "output_type": "stream",
     "text": [
      "\u001b[32m[I 2023-05-10 19:00:34,594]\u001b[0m Trial 57 finished with value: 0.8552605295533166 and parameters: {'C': 0.06946031301283966}. Best is trial 41 with value: 0.896617968744664.\u001b[0m\n"
     ]
    },
    {
     "name": "stdout",
     "output_type": "stream",
     "text": [
      "Overall accuracy: 0.856\n",
      "\n"
     ]
    },
    {
     "name": "stderr",
     "output_type": "stream",
     "text": [
      "\u001b[32m[I 2023-05-10 19:00:35,740]\u001b[0m Trial 58 finished with value: 0.8585992872773632 and parameters: {'C': 191.67726878287536}. Best is trial 41 with value: 0.896617968744664.\u001b[0m\n"
     ]
    },
    {
     "name": "stdout",
     "output_type": "stream",
     "text": [
      "Overall accuracy: 0.859\n",
      "\n"
     ]
    },
    {
     "name": "stderr",
     "output_type": "stream",
     "text": [
      "\u001b[32m[I 2023-05-10 19:00:36,644]\u001b[0m Trial 59 finished with value: 0.8962710253939297 and parameters: {'C': 6.895464957403388}. Best is trial 41 with value: 0.896617968744664.\u001b[0m\n"
     ]
    },
    {
     "name": "stdout",
     "output_type": "stream",
     "text": [
      "Overall accuracy: 0.897\n",
      "\n"
     ]
    },
    {
     "name": "stderr",
     "output_type": "stream",
     "text": [
      "\u001b[32m[I 2023-05-10 19:00:37,534]\u001b[0m Trial 60 finished with value: 0.8950750581130107 and parameters: {'C': 3.661881748183483}. Best is trial 41 with value: 0.896617968744664.\u001b[0m\n"
     ]
    },
    {
     "name": "stdout",
     "output_type": "stream",
     "text": [
      "Overall accuracy: 0.895\n",
      "\n"
     ]
    },
    {
     "name": "stderr",
     "output_type": "stream",
     "text": [
      "\u001b[32m[I 2023-05-10 19:00:38,429]\u001b[0m Trial 61 finished with value: 0.8942411823149529 and parameters: {'C': 1.0059727610711369}. Best is trial 41 with value: 0.896617968744664.\u001b[0m\n"
     ]
    },
    {
     "name": "stdout",
     "output_type": "stream",
     "text": [
      "Overall accuracy: 0.895\n",
      "\n"
     ]
    },
    {
     "name": "stderr",
     "output_type": "stream",
     "text": [
      "\u001b[32m[I 2023-05-10 19:00:39,232]\u001b[0m Trial 62 finished with value: 0.8946933984037232 and parameters: {'C': 9.429443641187705}. Best is trial 41 with value: 0.896617968744664.\u001b[0m\n"
     ]
    },
    {
     "name": "stdout",
     "output_type": "stream",
     "text": [
      "Overall accuracy: 0.895\n",
      "\n"
     ]
    },
    {
     "name": "stderr",
     "output_type": "stream",
     "text": [
      "\u001b[32m[I 2023-05-10 19:00:40,227]\u001b[0m Trial 63 finished with value: 0.8782912245618748 and parameters: {'C': 0.2727270383948559}. Best is trial 41 with value: 0.896617968744664.\u001b[0m\n"
     ]
    },
    {
     "name": "stdout",
     "output_type": "stream",
     "text": [
      "Overall accuracy: 0.879\n",
      "\n"
     ]
    },
    {
     "name": "stderr",
     "output_type": "stream",
     "text": [
      "\u001b[32m[I 2023-05-10 19:00:41,342]\u001b[0m Trial 64 finished with value: 0.8660397373493514 and parameters: {'C': 97.70291971307135}. Best is trial 41 with value: 0.896617968744664.\u001b[0m\n"
     ]
    },
    {
     "name": "stdout",
     "output_type": "stream",
     "text": [
      "Overall accuracy: 0.866\n",
      "\n"
     ]
    },
    {
     "name": "stderr",
     "output_type": "stream",
     "text": [
      "\u001b[32m[I 2023-05-10 19:00:42,086]\u001b[0m Trial 65 finished with value: 0.8805665068743269 and parameters: {'C': 25.59953540071372}. Best is trial 41 with value: 0.896617968744664.\u001b[0m\n"
     ]
    },
    {
     "name": "stdout",
     "output_type": "stream",
     "text": [
      "Overall accuracy: 0.881\n",
      "\n"
     ]
    },
    {
     "name": "stderr",
     "output_type": "stream",
     "text": [
      "\u001b[32m[I 2023-05-10 19:00:43,644]\u001b[0m Trial 66 finished with value: 0.8382628873696292 and parameters: {'C': 0.02549564777626881}. Best is trial 41 with value: 0.896617968744664.\u001b[0m\n"
     ]
    },
    {
     "name": "stdout",
     "output_type": "stream",
     "text": [
      "Overall accuracy: 0.839\n",
      "\n"
     ]
    },
    {
     "name": "stderr",
     "output_type": "stream",
     "text": [
      "\u001b[32m[I 2023-05-10 19:00:44,372]\u001b[0m Trial 67 finished with value: 0.8962278750467796 and parameters: {'C': 1.3550955092365535}. Best is trial 41 with value: 0.896617968744664.\u001b[0m\n"
     ]
    },
    {
     "name": "stdout",
     "output_type": "stream",
     "text": [
      "Overall accuracy: 0.897\n",
      "\n"
     ]
    },
    {
     "name": "stderr",
     "output_type": "stream",
     "text": [
      "\u001b[32m[I 2023-05-10 19:00:45,279]\u001b[0m Trial 68 finished with value: 0.8958104203242092 and parameters: {'C': 1.2174169992951607}. Best is trial 41 with value: 0.896617968744664.\u001b[0m\n"
     ]
    },
    {
     "name": "stdout",
     "output_type": "stream",
     "text": [
      "Overall accuracy: 0.896\n",
      "\n"
     ]
    },
    {
     "name": "stderr",
     "output_type": "stream",
     "text": [
      "\u001b[32m[I 2023-05-10 19:00:46,368]\u001b[0m Trial 69 finished with value: 0.8722581068741861 and parameters: {'C': 0.17951108378768488}. Best is trial 41 with value: 0.896617968744664.\u001b[0m\n"
     ]
    },
    {
     "name": "stdout",
     "output_type": "stream",
     "text": [
      "Overall accuracy: 0.873\n",
      "\n"
     ]
    },
    {
     "name": "stderr",
     "output_type": "stream",
     "text": [
      "\u001b[32m[I 2023-05-10 19:00:47,123]\u001b[0m Trial 70 finished with value: 0.8915381444233105 and parameters: {'C': 10.131812148616909}. Best is trial 41 with value: 0.896617968744664.\u001b[0m\n"
     ]
    },
    {
     "name": "stdout",
     "output_type": "stream",
     "text": [
      "Overall accuracy: 0.892\n",
      "\n"
     ]
    },
    {
     "name": "stderr",
     "output_type": "stream",
     "text": [
      "\u001b[32m[I 2023-05-10 19:00:47,980]\u001b[0m Trial 71 finished with value: 0.8958466417972992 and parameters: {'C': 2.6052224072089203}. Best is trial 41 with value: 0.896617968744664.\u001b[0m\n"
     ]
    },
    {
     "name": "stdout",
     "output_type": "stream",
     "text": [
      "Overall accuracy: 0.896\n",
      "\n"
     ]
    },
    {
     "name": "stderr",
     "output_type": "stream",
     "text": [
      "\u001b[32m[I 2023-05-10 19:00:49,010]\u001b[0m Trial 72 finished with value: 0.8707513996392469 and parameters: {'C': 53.94337271757618}. Best is trial 41 with value: 0.896617968744664.\u001b[0m\n"
     ]
    },
    {
     "name": "stdout",
     "output_type": "stream",
     "text": [
      "Overall accuracy: 0.871\n",
      "\n"
     ]
    },
    {
     "name": "stderr",
     "output_type": "stream",
     "text": [
      "\u001b[32m[I 2023-05-10 19:00:49,794]\u001b[0m Trial 73 finished with value: 0.8958104203242092 and parameters: {'C': 1.122814754621222}. Best is trial 41 with value: 0.896617968744664.\u001b[0m\n"
     ]
    },
    {
     "name": "stdout",
     "output_type": "stream",
     "text": [
      "Overall accuracy: 0.896\n",
      "\n"
     ]
    },
    {
     "name": "stderr",
     "output_type": "stream",
     "text": [
      "\u001b[32m[I 2023-05-10 19:00:50,966]\u001b[0m Trial 74 finished with value: 0.853547480634562 and parameters: {'C': 428.71793671151596}. Best is trial 41 with value: 0.896617968744664.\u001b[0m\n"
     ]
    },
    {
     "name": "stdout",
     "output_type": "stream",
     "text": [
      "Overall accuracy: 0.854\n",
      "\n"
     ]
    },
    {
     "name": "stderr",
     "output_type": "stream",
     "text": [
      "\u001b[32m[I 2023-05-10 19:00:51,881]\u001b[0m Trial 75 finished with value: 0.8738968670082194 and parameters: {'C': 0.2154551640250898}. Best is trial 41 with value: 0.896617968744664.\u001b[0m\n"
     ]
    },
    {
     "name": "stdout",
     "output_type": "stream",
     "text": [
      "Overall accuracy: 0.875\n",
      "\n"
     ]
    },
    {
     "name": "stderr",
     "output_type": "stream",
     "text": [
      "\u001b[32m[I 2023-05-10 19:00:52,681]\u001b[0m Trial 76 finished with value: 0.8962873745043352 and parameters: {'C': 6.068200702782683}. Best is trial 41 with value: 0.896617968744664.\u001b[0m\n"
     ]
    },
    {
     "name": "stdout",
     "output_type": "stream",
     "text": [
      "Overall accuracy: 0.897\n",
      "\n"
     ]
    },
    {
     "name": "stderr",
     "output_type": "stream",
     "text": [
      "\u001b[32m[I 2023-05-10 19:00:54,023]\u001b[0m Trial 77 finished with value: 0.854873352493476 and parameters: {'C': 0.06778897472512284}. Best is trial 41 with value: 0.896617968744664.\u001b[0m\n"
     ]
    },
    {
     "name": "stdout",
     "output_type": "stream",
     "text": [
      "Overall accuracy: 0.856\n",
      "\n"
     ]
    },
    {
     "name": "stderr",
     "output_type": "stream",
     "text": [
      "\u001b[32m[I 2023-05-10 19:00:54,727]\u001b[0m Trial 78 finished with value: 0.8962792649599303 and parameters: {'C': 5.409824634105644}. Best is trial 41 with value: 0.896617968744664.\u001b[0m\n"
     ]
    },
    {
     "name": "stdout",
     "output_type": "stream",
     "text": [
      "Overall accuracy: 0.897\n",
      "\n"
     ]
    },
    {
     "name": "stderr",
     "output_type": "stream",
     "text": [
      "\u001b[32m[I 2023-05-10 19:00:55,488]\u001b[0m Trial 79 finished with value: 0.8958889760417804 and parameters: {'C': 5.34885371029359}. Best is trial 41 with value: 0.896617968744664.\u001b[0m\n"
     ]
    },
    {
     "name": "stdout",
     "output_type": "stream",
     "text": [
      "Overall accuracy: 0.896\n",
      "\n"
     ]
    },
    {
     "name": "stderr",
     "output_type": "stream",
     "text": [
      "\u001b[32m[I 2023-05-10 19:00:56,511]\u001b[0m Trial 80 finished with value: 0.8782182560520864 and parameters: {'C': 34.445910133396104}. Best is trial 41 with value: 0.896617968744664.\u001b[0m\n"
     ]
    },
    {
     "name": "stdout",
     "output_type": "stream",
     "text": [
      "Overall accuracy: 0.878\n",
      "\n"
     ]
    },
    {
     "name": "stderr",
     "output_type": "stream",
     "text": [
      "\u001b[32m[I 2023-05-10 19:00:57,354]\u001b[0m Trial 81 finished with value: 0.8902344313058865 and parameters: {'C': 0.5642884046670333}. Best is trial 41 with value: 0.896617968744664.\u001b[0m\n"
     ]
    },
    {
     "name": "stdout",
     "output_type": "stream",
     "text": [
      "Overall accuracy: 0.891\n",
      "\n"
     ]
    },
    {
     "name": "stderr",
     "output_type": "stream",
     "text": [
      "\u001b[32m[I 2023-05-10 19:00:58,195]\u001b[0m Trial 82 finished with value: 0.8954476916403009 and parameters: {'C': 8.119583268480847}. Best is trial 41 with value: 0.896617968744664.\u001b[0m\n"
     ]
    },
    {
     "name": "stdout",
     "output_type": "stream",
     "text": [
      "Overall accuracy: 0.896\n",
      "\n"
     ]
    },
    {
     "name": "stderr",
     "output_type": "stream",
     "text": [
      "\u001b[32m[I 2023-05-10 19:00:59,271]\u001b[0m Trial 83 finished with value: 0.8546983722310338 and parameters: {'C': 316.3455892637745}. Best is trial 41 with value: 0.896617968744664.\u001b[0m\n"
     ]
    },
    {
     "name": "stdout",
     "output_type": "stream",
     "text": [
      "Overall accuracy: 0.855\n",
      "\n"
     ]
    },
    {
     "name": "stderr",
     "output_type": "stream",
     "text": [
      "\u001b[32m[I 2023-05-10 19:01:00,064]\u001b[0m Trial 84 finished with value: 0.8958377827998112 and parameters: {'C': 1.9948915502129325}. Best is trial 41 with value: 0.896617968744664.\u001b[0m\n"
     ]
    },
    {
     "name": "stdout",
     "output_type": "stream",
     "text": [
      "Overall accuracy: 0.896\n",
      "\n"
     ]
    },
    {
     "name": "stderr",
     "output_type": "stream",
     "text": [
      "\u001b[32m[I 2023-05-10 19:01:01,377]\u001b[0m Trial 85 finished with value: 0.8676318254432203 and parameters: {'C': 113.25316437124498}. Best is trial 41 with value: 0.896617968744664.\u001b[0m\n"
     ]
    },
    {
     "name": "stdout",
     "output_type": "stream",
     "text": [
      "Overall accuracy: 0.868\n",
      "\n"
     ]
    },
    {
     "name": "stderr",
     "output_type": "stream",
     "text": [
      "\u001b[32m[I 2023-05-10 19:01:02,148]\u001b[0m Trial 86 finished with value: 0.8911393630649149 and parameters: {'C': 11.097904615394627}. Best is trial 41 with value: 0.896617968744664.\u001b[0m\n"
     ]
    },
    {
     "name": "stdout",
     "output_type": "stream",
     "text": [
      "Overall accuracy: 0.891\n",
      "\n"
     ]
    },
    {
     "name": "stderr",
     "output_type": "stream",
     "text": [
      "\u001b[32m[I 2023-05-10 19:01:03,515]\u001b[0m Trial 87 finished with value: 0.8862639821029082 and parameters: {'C': 0.4527494229837346}. Best is trial 41 with value: 0.896617968744664.\u001b[0m\n"
     ]
    },
    {
     "name": "stdout",
     "output_type": "stream",
     "text": [
      "Overall accuracy: 0.887\n",
      "\n"
     ]
    },
    {
     "name": "stderr",
     "output_type": "stream",
     "text": [
      "\u001b[32m[I 2023-05-10 19:01:04,878]\u001b[0m Trial 88 finished with value: 0.848015206967547 and parameters: {'C': 2474.9211544371974}. Best is trial 41 with value: 0.896617968744664.\u001b[0m\n"
     ]
    },
    {
     "name": "stdout",
     "output_type": "stream",
     "text": [
      "Overall accuracy: 0.848\n",
      "\n"
     ]
    },
    {
     "name": "stderr",
     "output_type": "stream",
     "text": [
      "\u001b[32m[I 2023-05-10 19:01:07,196]\u001b[0m Trial 89 finished with value: 0.7891100856954516 and parameters: {'C': 0.014920497777444355}. Best is trial 41 with value: 0.896617968744664.\u001b[0m\n"
     ]
    },
    {
     "name": "stdout",
     "output_type": "stream",
     "text": [
      "Overall accuracy: 0.797\n",
      "\n"
     ]
    },
    {
     "name": "stderr",
     "output_type": "stream",
     "text": [
      "\u001b[32m[I 2023-05-10 19:01:08,795]\u001b[0m Trial 90 finished with value: 0.8651237514188643 and parameters: {'C': 0.11696761789675908}. Best is trial 41 with value: 0.896617968744664.\u001b[0m\n"
     ]
    },
    {
     "name": "stdout",
     "output_type": "stream",
     "text": [
      "Overall accuracy: 0.866\n",
      "\n"
     ]
    },
    {
     "name": "stderr",
     "output_type": "stream",
     "text": [
      "\u001b[32m[I 2023-05-10 19:01:09,708]\u001b[0m Trial 91 finished with value: 0.8946849014594072 and parameters: {'C': 3.609801882304059}. Best is trial 41 with value: 0.896617968744664.\u001b[0m\n"
     ]
    },
    {
     "name": "stdout",
     "output_type": "stream",
     "text": [
      "Overall accuracy: 0.895\n",
      "\n"
     ]
    },
    {
     "name": "stderr",
     "output_type": "stream",
     "text": [
      "\u001b[32m[I 2023-05-10 19:01:10,638]\u001b[0m Trial 92 finished with value: 0.8966695524546264 and parameters: {'C': 5.554572686778274}. Best is trial 92 with value: 0.8966695524546264.\u001b[0m\n"
     ]
    },
    {
     "name": "stdout",
     "output_type": "stream",
     "text": [
      "Overall accuracy: 0.897\n",
      "\n"
     ]
    },
    {
     "name": "stderr",
     "output_type": "stream",
     "text": [
      "\u001b[32m[I 2023-05-10 19:01:11,739]\u001b[0m Trial 93 finished with value: 0.881753142240457 and parameters: {'C': 24.369525087115157}. Best is trial 92 with value: 0.8966695524546264.\u001b[0m\n"
     ]
    },
    {
     "name": "stdout",
     "output_type": "stream",
     "text": [
      "Overall accuracy: 0.882\n",
      "\n"
     ]
    },
    {
     "name": "stderr",
     "output_type": "stream",
     "text": [
      "\u001b[32m[I 2023-05-10 19:01:12,688]\u001b[0m Trial 94 finished with value: 0.8962278750467796 and parameters: {'C': 1.3849930969956215}. Best is trial 92 with value: 0.8966695524546264.\u001b[0m\n"
     ]
    },
    {
     "name": "stdout",
     "output_type": "stream",
     "text": [
      "Overall accuracy: 0.897\n",
      "\n"
     ]
    },
    {
     "name": "stderr",
     "output_type": "stream",
     "text": [
      "\u001b[32m[I 2023-05-10 19:01:13,799]\u001b[0m Trial 95 finished with value: 0.8970170166814049 and parameters: {'C': 1.4295599735253435}. Best is trial 95 with value: 0.8970170166814049.\u001b[0m\n"
     ]
    },
    {
     "name": "stdout",
     "output_type": "stream",
     "text": [
      "Overall accuracy: 0.897\n",
      "\n"
     ]
    },
    {
     "name": "stderr",
     "output_type": "stream",
     "text": [
      "\u001b[32m[I 2023-05-10 19:01:14,951]\u001b[0m Trial 96 finished with value: 0.866843919642287 and parameters: {'C': 78.07897944841325}. Best is trial 95 with value: 0.8970170166814049.\u001b[0m\n"
     ]
    },
    {
     "name": "stdout",
     "output_type": "stream",
     "text": [
      "Overall accuracy: 0.867\n",
      "\n"
     ]
    },
    {
     "name": "stderr",
     "output_type": "stream",
     "text": [
      "\u001b[32m[I 2023-05-10 19:01:16,048]\u001b[0m Trial 97 finished with value: 0.8850735720112988 and parameters: {'C': 0.4066954896875816}. Best is trial 95 with value: 0.8970170166814049.\u001b[0m\n"
     ]
    },
    {
     "name": "stdout",
     "output_type": "stream",
     "text": [
      "Overall accuracy: 0.886\n",
      "\n"
     ]
    },
    {
     "name": "stderr",
     "output_type": "stream",
     "text": [
      "\u001b[32m[I 2023-05-10 19:01:17,001]\u001b[0m Trial 98 finished with value: 0.8954986853370678 and parameters: {'C': 5.32338049533552}. Best is trial 95 with value: 0.8970170166814049.\u001b[0m\n"
     ]
    },
    {
     "name": "stdout",
     "output_type": "stream",
     "text": [
      "Overall accuracy: 0.896\n",
      "\n"
     ]
    },
    {
     "name": "stderr",
     "output_type": "stream",
     "text": [
      "\u001b[32m[I 2023-05-10 19:01:18,069]\u001b[0m Trial 99 finished with value: 0.884491728151425 and parameters: {'C': 20.976508825287716}. Best is trial 95 with value: 0.8970170166814049.\u001b[0m\n",
      "\u001b[32m[I 2023-05-10 19:01:18,224]\u001b[0m A new study created in memory with name: no-name-936f5e04-705c-4346-ad40-02ebb0f3702e\u001b[0m\n"
     ]
    },
    {
     "name": "stdout",
     "output_type": "stream",
     "text": [
      "Overall accuracy: 0.885\n",
      "\n",
      "Accuracy: 0.8970170166814049\n",
      "Best hyperparameters: {'C': 1.4295599735253435}\n",
      "\n",
      "\n",
      "\n",
      "Model :- SVC, DataType :- RScharge\n"
     ]
    },
    {
     "name": "stderr",
     "output_type": "stream",
     "text": [
      "\u001b[32m[I 2023-05-10 19:01:19,565]\u001b[0m Trial 0 finished with value: 0.8527109204630171 and parameters: {'C': 7147308150.061928}. Best is trial 0 with value: 0.8527109204630171.\u001b[0m\n"
     ]
    },
    {
     "name": "stdout",
     "output_type": "stream",
     "text": [
      "Overall accuracy: 0.853\n",
      "\n"
     ]
    },
    {
     "name": "stderr",
     "output_type": "stream",
     "text": [
      "\u001b[32m[I 2023-05-10 19:01:21,588]\u001b[0m Trial 1 finished with value: 0.3416213416213416 and parameters: {'C': 2.50325596571476e-10}. Best is trial 0 with value: 0.8527109204630171.\u001b[0m\n"
     ]
    },
    {
     "name": "stdout",
     "output_type": "stream",
     "text": [
      "Overall accuracy: 0.519\n",
      "\n"
     ]
    },
    {
     "name": "stderr",
     "output_type": "stream",
     "text": [
      "\u001b[32m[I 2023-05-10 19:01:23,029]\u001b[0m Trial 2 finished with value: 0.8527109204630171 and parameters: {'C': 212827947.14964864}. Best is trial 0 with value: 0.8527109204630171.\u001b[0m\n"
     ]
    },
    {
     "name": "stdout",
     "output_type": "stream",
     "text": [
      "Overall accuracy: 0.853\n",
      "\n"
     ]
    },
    {
     "name": "stderr",
     "output_type": "stream",
     "text": [
      "\u001b[32m[I 2023-05-10 19:01:23,948]\u001b[0m Trial 3 finished with value: 0.8892459395330727 and parameters: {'C': 9.671508369562765}. Best is trial 3 with value: 0.8892459395330727.\u001b[0m\n"
     ]
    },
    {
     "name": "stdout",
     "output_type": "stream",
     "text": [
      "Overall accuracy: 0.889\n",
      "\n"
     ]
    },
    {
     "name": "stderr",
     "output_type": "stream",
     "text": [
      "\u001b[32m[I 2023-05-10 19:01:25,950]\u001b[0m Trial 4 finished with value: 0.3416213416213416 and parameters: {'C': 0.0021919851807014807}. Best is trial 3 with value: 0.8892459395330727.\u001b[0m\n"
     ]
    },
    {
     "name": "stdout",
     "output_type": "stream",
     "text": [
      "Overall accuracy: 0.519\n",
      "\n"
     ]
    },
    {
     "name": "stderr",
     "output_type": "stream",
     "text": [
      "\u001b[32m[I 2023-05-10 19:01:27,105]\u001b[0m Trial 5 finished with value: 0.8538885581139102 and parameters: {'C': 2363.9997231498737}. Best is trial 3 with value: 0.8892459395330727.\u001b[0m\n"
     ]
    },
    {
     "name": "stdout",
     "output_type": "stream",
     "text": [
      "Overall accuracy: 0.854\n",
      "\n"
     ]
    },
    {
     "name": "stderr",
     "output_type": "stream",
     "text": [
      "\u001b[32m[I 2023-05-10 19:01:28,930]\u001b[0m Trial 6 finished with value: 0.3416213416213416 and parameters: {'C': 6.668130115696697e-05}. Best is trial 3 with value: 0.8892459395330727.\u001b[0m\n"
     ]
    },
    {
     "name": "stdout",
     "output_type": "stream",
     "text": [
      "Overall accuracy: 0.519\n",
      "\n"
     ]
    },
    {
     "name": "stderr",
     "output_type": "stream",
     "text": [
      "\u001b[32m[I 2023-05-10 19:01:30,344]\u001b[0m Trial 7 finished with value: 0.8581607638940844 and parameters: {'C': 0.07488383866288313}. Best is trial 3 with value: 0.8892459395330727.\u001b[0m\n"
     ]
    },
    {
     "name": "stdout",
     "output_type": "stream",
     "text": [
      "Overall accuracy: 0.859\n",
      "\n"
     ]
    },
    {
     "name": "stderr",
     "output_type": "stream",
     "text": [
      "\u001b[32m[I 2023-05-10 19:01:32,215]\u001b[0m Trial 8 finished with value: 0.3416213416213416 and parameters: {'C': 1.4563041288303154e-06}. Best is trial 3 with value: 0.8892459395330727.\u001b[0m\n"
     ]
    },
    {
     "name": "stdout",
     "output_type": "stream",
     "text": [
      "Overall accuracy: 0.519\n",
      "\n"
     ]
    },
    {
     "name": "stderr",
     "output_type": "stream",
     "text": [
      "\u001b[32m[I 2023-05-10 19:01:33,639]\u001b[0m Trial 9 finished with value: 0.8629203663242062 and parameters: {'C': 431.43056111287086}. Best is trial 3 with value: 0.8892459395330727.\u001b[0m\n"
     ]
    },
    {
     "name": "stdout",
     "output_type": "stream",
     "text": [
      "Overall accuracy: 0.863\n",
      "\n"
     ]
    },
    {
     "name": "stderr",
     "output_type": "stream",
     "text": [
      "\u001b[32m[I 2023-05-10 19:01:35,011]\u001b[0m Trial 10 finished with value: 0.8550662125246036 and parameters: {'C': 1736.188198611891}. Best is trial 3 with value: 0.8892459395330727.\u001b[0m\n"
     ]
    },
    {
     "name": "stdout",
     "output_type": "stream",
     "text": [
      "Overall accuracy: 0.855\n",
      "\n"
     ]
    },
    {
     "name": "stderr",
     "output_type": "stream",
     "text": [
      "\u001b[32m[I 2023-05-10 19:01:36,145]\u001b[0m Trial 11 finished with value: 0.8794046603928622 and parameters: {'C': 41.03426989077596}. Best is trial 3 with value: 0.8892459395330727.\u001b[0m\n"
     ]
    },
    {
     "name": "stdout",
     "output_type": "stream",
     "text": [
      "Overall accuracy: 0.880\n",
      "\n"
     ]
    },
    {
     "name": "stderr",
     "output_type": "stream",
     "text": [
      "\u001b[32m[I 2023-05-10 19:01:37,341]\u001b[0m Trial 12 finished with value: 0.8899426217106411 and parameters: {'C': 4.541876398982554}. Best is trial 12 with value: 0.8899426217106411.\u001b[0m\n"
     ]
    },
    {
     "name": "stdout",
     "output_type": "stream",
     "text": [
      "Overall accuracy: 0.890\n",
      "\n"
     ]
    },
    {
     "name": "stderr",
     "output_type": "stream",
     "text": [
      "\u001b[32m[I 2023-05-10 19:01:38,595]\u001b[0m Trial 13 finished with value: 0.877863314725432 and parameters: {'C': 0.4126935643688461}. Best is trial 12 with value: 0.8899426217106411.\u001b[0m\n"
     ]
    },
    {
     "name": "stdout",
     "output_type": "stream",
     "text": [
      "Overall accuracy: 0.878\n",
      "\n"
     ]
    },
    {
     "name": "stderr",
     "output_type": "stream",
     "text": [
      "\u001b[32m[I 2023-05-10 19:01:39,762]\u001b[0m Trial 14 finished with value: 0.8527109204630171 and parameters: {'C': 345159.5488154954}. Best is trial 12 with value: 0.8899426217106411.\u001b[0m\n"
     ]
    },
    {
     "name": "stdout",
     "output_type": "stream",
     "text": [
      "Overall accuracy: 0.853\n",
      "\n"
     ]
    },
    {
     "name": "stderr",
     "output_type": "stream",
     "text": [
      "\u001b[32m[I 2023-05-10 19:01:40,715]\u001b[0m Trial 15 finished with value: 0.8938873306099013 and parameters: {'C': 2.466441544348263}. Best is trial 15 with value: 0.8938873306099013.\u001b[0m\n"
     ]
    },
    {
     "name": "stdout",
     "output_type": "stream",
     "text": [
      "Overall accuracy: 0.894\n",
      "\n"
     ]
    },
    {
     "name": "stderr",
     "output_type": "stream",
     "text": [
      "\u001b[32m[I 2023-05-10 19:01:42,085]\u001b[0m Trial 16 finished with value: 0.8580836119566845 and parameters: {'C': 0.06981774304880524}. Best is trial 15 with value: 0.8938873306099013.\u001b[0m\n"
     ]
    },
    {
     "name": "stdout",
     "output_type": "stream",
     "text": [
      "Overall accuracy: 0.859\n",
      "\n"
     ]
    },
    {
     "name": "stderr",
     "output_type": "stream",
     "text": [
      "\u001b[32m[I 2023-05-10 19:01:43,191]\u001b[0m Trial 17 finished with value: 0.8527109204630171 and parameters: {'C': 964139.2432737417}. Best is trial 15 with value: 0.8938873306099013.\u001b[0m\n"
     ]
    },
    {
     "name": "stdout",
     "output_type": "stream",
     "text": [
      "Overall accuracy: 0.853\n",
      "\n"
     ]
    },
    {
     "name": "stderr",
     "output_type": "stream",
     "text": [
      "\u001b[32m[I 2023-05-10 19:01:44,033]\u001b[0m Trial 18 finished with value: 0.8950020652622883 and parameters: {'C': 1.8838599194927155}. Best is trial 18 with value: 0.8950020652622883.\u001b[0m\n"
     ]
    },
    {
     "name": "stdout",
     "output_type": "stream",
     "text": [
      "Overall accuracy: 0.895\n",
      "\n"
     ]
    },
    {
     "name": "stderr",
     "output_type": "stream",
     "text": [
      "\u001b[32m[I 2023-05-10 19:01:45,814]\u001b[0m Trial 19 finished with value: 0.3416213416213416 and parameters: {'C': 0.00027247735779921216}. Best is trial 18 with value: 0.8950020652622883.\u001b[0m\n"
     ]
    },
    {
     "name": "stdout",
     "output_type": "stream",
     "text": [
      "Overall accuracy: 0.519\n",
      "\n"
     ]
    },
    {
     "name": "stderr",
     "output_type": "stream",
     "text": [
      "\u001b[32m[I 2023-05-10 19:01:46,945]\u001b[0m Trial 20 finished with value: 0.8527109204630171 and parameters: {'C': 64508.53278754848}. Best is trial 18 with value: 0.8950020652622883.\u001b[0m\n"
     ]
    },
    {
     "name": "stdout",
     "output_type": "stream",
     "text": [
      "Overall accuracy: 0.853\n",
      "\n"
     ]
    },
    {
     "name": "stderr",
     "output_type": "stream",
     "text": [
      "\u001b[32m[I 2023-05-10 19:01:47,816]\u001b[0m Trial 21 finished with value: 0.8880673473842978 and parameters: {'C': 10.228781590110323}. Best is trial 18 with value: 0.8950020652622883.\u001b[0m\n"
     ]
    },
    {
     "name": "stdout",
     "output_type": "stream",
     "text": [
      "Overall accuracy: 0.888\n",
      "\n"
     ]
    },
    {
     "name": "stderr",
     "output_type": "stream",
     "text": [
      "\u001b[32m[I 2023-05-10 19:01:48,890]\u001b[0m Trial 22 finished with value: 0.8910029828486203 and parameters: {'C': 1.1380338896188877}. Best is trial 18 with value: 0.8950020652622883.\u001b[0m\n"
     ]
    },
    {
     "name": "stdout",
     "output_type": "stream",
     "text": [
      "Overall accuracy: 0.891\n",
      "\n"
     ]
    },
    {
     "name": "stderr",
     "output_type": "stream",
     "text": [
      "\u001b[32m[I 2023-05-10 19:01:50,573]\u001b[0m Trial 23 finished with value: 0.8380492032102949 and parameters: {'C': 0.0269473372889195}. Best is trial 18 with value: 0.8950020652622883.\u001b[0m\n"
     ]
    },
    {
     "name": "stdout",
     "output_type": "stream",
     "text": [
      "Overall accuracy: 0.840\n",
      "\n"
     ]
    },
    {
     "name": "stderr",
     "output_type": "stream",
     "text": [
      "\u001b[32m[I 2023-05-10 19:01:51,540]\u001b[0m Trial 24 finished with value: 0.8802478608359823 and parameters: {'C': 0.4750849745573013}. Best is trial 18 with value: 0.8950020652622883.\u001b[0m\n"
     ]
    },
    {
     "name": "stdout",
     "output_type": "stream",
     "text": [
      "Overall accuracy: 0.881\n",
      "\n"
     ]
    },
    {
     "name": "stderr",
     "output_type": "stream",
     "text": [
      "\u001b[32m[I 2023-05-10 19:01:52,556]\u001b[0m Trial 25 finished with value: 0.8640981913386016 and parameters: {'C': 188.8535134795182}. Best is trial 18 with value: 0.8950020652622883.\u001b[0m\n"
     ]
    },
    {
     "name": "stdout",
     "output_type": "stream",
     "text": [
      "Overall accuracy: 0.864\n",
      "\n"
     ]
    },
    {
     "name": "stderr",
     "output_type": "stream",
     "text": [
      "\u001b[32m[I 2023-05-10 19:01:53,550]\u001b[0m Trial 26 finished with value: 0.8918137920065212 and parameters: {'C': 1.3638522663171524}. Best is trial 18 with value: 0.8950020652622883.\u001b[0m\n"
     ]
    },
    {
     "name": "stdout",
     "output_type": "stream",
     "text": [
      "Overall accuracy: 0.892\n",
      "\n"
     ]
    },
    {
     "name": "stderr",
     "output_type": "stream",
     "text": [
      "\u001b[32m[I 2023-05-10 19:01:55,381]\u001b[0m Trial 27 finished with value: 0.5539823693106753 and parameters: {'C': 0.010760119823062174}. Best is trial 18 with value: 0.8950020652622883.\u001b[0m\n"
     ]
    },
    {
     "name": "stdout",
     "output_type": "stream",
     "text": [
      "Overall accuracy: 0.629\n",
      "\n"
     ]
    },
    {
     "name": "stderr",
     "output_type": "stream",
     "text": [
      "\u001b[32m[I 2023-05-10 19:01:56,275]\u001b[0m Trial 28 finished with value: 0.8785998927002026 and parameters: {'C': 45.96494650239321}. Best is trial 18 with value: 0.8950020652622883.\u001b[0m\n"
     ]
    },
    {
     "name": "stdout",
     "output_type": "stream",
     "text": [
      "Overall accuracy: 0.879\n",
      "\n"
     ]
    },
    {
     "name": "stderr",
     "output_type": "stream",
     "text": [
      "\u001b[32m[I 2023-05-10 19:01:57,413]\u001b[0m Trial 29 finished with value: 0.8527109204630171 and parameters: {'C': 12060.318335399095}. Best is trial 18 with value: 0.8950020652622883.\u001b[0m\n"
     ]
    },
    {
     "name": "stdout",
     "output_type": "stream",
     "text": [
      "Overall accuracy: 0.853\n",
      "\n"
     ]
    },
    {
     "name": "stderr",
     "output_type": "stream",
     "text": [
      "\u001b[32m[I 2023-05-10 19:01:58,401]\u001b[0m Trial 30 finished with value: 0.8609220170667439 and parameters: {'C': 284.4536075146176}. Best is trial 18 with value: 0.8950020652622883.\u001b[0m\n"
     ]
    },
    {
     "name": "stdout",
     "output_type": "stream",
     "text": [
      "Overall accuracy: 0.861\n",
      "\n"
     ]
    },
    {
     "name": "stderr",
     "output_type": "stream",
     "text": [
      "\u001b[32m[I 2023-05-10 19:01:59,112]\u001b[0m Trial 31 finished with value: 0.893003414692107 and parameters: {'C': 1.4594039944021937}. Best is trial 18 with value: 0.8950020652622883.\u001b[0m\n"
     ]
    },
    {
     "name": "stdout",
     "output_type": "stream",
     "text": [
      "Overall accuracy: 0.893\n",
      "\n"
     ]
    },
    {
     "name": "stderr",
     "output_type": "stream",
     "text": [
      "\u001b[32m[I 2023-05-10 19:01:59,833]\u001b[0m Trial 32 finished with value: 0.894202815725524 and parameters: {'C': 1.5648574766402426}. Best is trial 18 with value: 0.8950020652622883.\u001b[0m\n"
     ]
    },
    {
     "name": "stdout",
     "output_type": "stream",
     "text": [
      "Overall accuracy: 0.895\n",
      "\n"
     ]
    },
    {
     "name": "stderr",
     "output_type": "stream",
     "text": [
      "\u001b[32m[I 2023-05-10 19:02:01,373]\u001b[0m Trial 33 finished with value: 0.3416213416213416 and parameters: {'C': 0.002382392433941845}. Best is trial 18 with value: 0.8950020652622883.\u001b[0m\n"
     ]
    },
    {
     "name": "stdout",
     "output_type": "stream",
     "text": [
      "Overall accuracy: 0.519\n",
      "\n"
     ]
    },
    {
     "name": "stderr",
     "output_type": "stream",
     "text": [
      "\u001b[32m[I 2023-05-10 19:02:02,528]\u001b[0m Trial 34 finished with value: 0.875455217512106 and parameters: {'C': 59.06168984666829}. Best is trial 18 with value: 0.8950020652622883.\u001b[0m\n"
     ]
    },
    {
     "name": "stdout",
     "output_type": "stream",
     "text": [
      "Overall accuracy: 0.876\n",
      "\n"
     ]
    },
    {
     "name": "stderr",
     "output_type": "stream",
     "text": [
      "\u001b[32m[I 2023-05-10 19:02:03,190]\u001b[0m Trial 35 finished with value: 0.8887991228576375 and parameters: {'C': 6.9266184951526615}. Best is trial 18 with value: 0.8950020652622883.\u001b[0m\n"
     ]
    },
    {
     "name": "stdout",
     "output_type": "stream",
     "text": [
      "Overall accuracy: 0.889\n",
      "\n"
     ]
    },
    {
     "name": "stderr",
     "output_type": "stream",
     "text": [
      "\u001b[32m[I 2023-05-10 19:02:04,177]\u001b[0m Trial 36 finished with value: 0.8750192931007871 and parameters: {'C': 0.20825289910935108}. Best is trial 18 with value: 0.8950020652622883.\u001b[0m\n"
     ]
    },
    {
     "name": "stdout",
     "output_type": "stream",
     "text": [
      "Overall accuracy: 0.876\n",
      "\n"
     ]
    },
    {
     "name": "stderr",
     "output_type": "stream",
     "text": [
      "\u001b[32m[I 2023-05-10 19:02:04,843]\u001b[0m Trial 37 finished with value: 0.8926904794275203 and parameters: {'C': 2.615573383111164}. Best is trial 18 with value: 0.8950020652622883.\u001b[0m\n"
     ]
    },
    {
     "name": "stdout",
     "output_type": "stream",
     "text": [
      "Overall accuracy: 0.893\n",
      "\n"
     ]
    },
    {
     "name": "stderr",
     "output_type": "stream",
     "text": [
      "\u001b[32m[I 2023-05-10 19:02:05,766]\u001b[0m Trial 38 finished with value: 0.8527109204630171 and parameters: {'C': 6862756302.077367}. Best is trial 18 with value: 0.8950020652622883.\u001b[0m\n"
     ]
    },
    {
     "name": "stdout",
     "output_type": "stream",
     "text": [
      "Overall accuracy: 0.853\n",
      "\n"
     ]
    },
    {
     "name": "stderr",
     "output_type": "stream",
     "text": [
      "\u001b[32m[I 2023-05-10 19:02:07,406]\u001b[0m Trial 39 finished with value: 0.8183385445125776 and parameters: {'C': 0.017735284482707992}. Best is trial 18 with value: 0.8950020652622883.\u001b[0m\n"
     ]
    },
    {
     "name": "stdout",
     "output_type": "stream",
     "text": [
      "Overall accuracy: 0.822\n",
      "\n"
     ]
    },
    {
     "name": "stderr",
     "output_type": "stream",
     "text": [
      "\u001b[32m[I 2023-05-10 19:02:09,058]\u001b[0m Trial 40 finished with value: 0.3416213416213416 and parameters: {'C': 1.5897341679304405e-05}. Best is trial 18 with value: 0.8950020652622883.\u001b[0m\n"
     ]
    },
    {
     "name": "stdout",
     "output_type": "stream",
     "text": [
      "Overall accuracy: 0.519\n",
      "\n"
     ]
    },
    {
     "name": "stderr",
     "output_type": "stream",
     "text": [
      "\u001b[32m[I 2023-05-10 19:02:09,724]\u001b[0m Trial 41 finished with value: 0.8926904794275203 and parameters: {'C': 2.6218784849968846}. Best is trial 18 with value: 0.8950020652622883.\u001b[0m\n"
     ]
    },
    {
     "name": "stdout",
     "output_type": "stream",
     "text": [
      "Overall accuracy: 0.893\n",
      "\n"
     ]
    },
    {
     "name": "stderr",
     "output_type": "stream",
     "text": [
      "\u001b[32m[I 2023-05-10 19:02:10,599]\u001b[0m Trial 42 finished with value: 0.8750192931007871 and parameters: {'C': 0.21103388704127785}. Best is trial 18 with value: 0.8950020652622883.\u001b[0m\n"
     ]
    },
    {
     "name": "stdout",
     "output_type": "stream",
     "text": [
      "Overall accuracy: 0.876\n",
      "\n"
     ]
    },
    {
     "name": "stderr",
     "output_type": "stream",
     "text": [
      "\u001b[32m[I 2023-05-10 19:02:11,421]\u001b[0m Trial 43 finished with value: 0.8896206570777947 and parameters: {'C': 16.5751579750494}. Best is trial 18 with value: 0.8950020652622883.\u001b[0m\n"
     ]
    },
    {
     "name": "stdout",
     "output_type": "stream",
     "text": [
      "Overall accuracy: 0.890\n",
      "\n"
     ]
    },
    {
     "name": "stderr",
     "output_type": "stream",
     "text": [
      "\u001b[32m[I 2023-05-10 19:02:12,332]\u001b[0m Trial 44 finished with value: 0.8550662125246036 and parameters: {'C': 1828.8193336255083}. Best is trial 18 with value: 0.8950020652622883.\u001b[0m\n"
     ]
    },
    {
     "name": "stdout",
     "output_type": "stream",
     "text": [
      "Overall accuracy: 0.855\n",
      "\n"
     ]
    },
    {
     "name": "stderr",
     "output_type": "stream",
     "text": [
      "\u001b[32m[I 2023-05-10 19:02:14,032]\u001b[0m Trial 45 finished with value: 0.3416213416213416 and parameters: {'C': 0.003141317704961457}. Best is trial 18 with value: 0.8950020652622883.\u001b[0m\n"
     ]
    },
    {
     "name": "stdout",
     "output_type": "stream",
     "text": [
      "Overall accuracy: 0.519\n",
      "\n"
     ]
    },
    {
     "name": "stderr",
     "output_type": "stream",
     "text": [
      "\u001b[32m[I 2023-05-10 19:02:14,830]\u001b[0m Trial 46 finished with value: 0.8938785037228765 and parameters: {'C': 2.3528960748214947}. Best is trial 18 with value: 0.8950020652622883.\u001b[0m\n"
     ]
    },
    {
     "name": "stdout",
     "output_type": "stream",
     "text": [
      "Overall accuracy: 0.894\n",
      "\n"
     ]
    },
    {
     "name": "stderr",
     "output_type": "stream",
     "text": [
      "\u001b[32m[I 2023-05-10 19:02:16,042]\u001b[0m Trial 47 finished with value: 0.8560099918809725 and parameters: {'C': 0.06314718434673573}. Best is trial 18 with value: 0.8950020652622883.\u001b[0m\n"
     ]
    },
    {
     "name": "stdout",
     "output_type": "stream",
     "text": [
      "Overall accuracy: 0.857\n",
      "\n"
     ]
    },
    {
     "name": "stderr",
     "output_type": "stream",
     "text": [
      "\u001b[32m[I 2023-05-10 19:02:16,916]\u001b[0m Trial 48 finished with value: 0.8668884789211224 and parameters: {'C': 115.14902540237203}. Best is trial 18 with value: 0.8950020652622883.\u001b[0m\n"
     ]
    },
    {
     "name": "stdout",
     "output_type": "stream",
     "text": [
      "Overall accuracy: 0.867\n",
      "\n"
     ]
    },
    {
     "name": "stderr",
     "output_type": "stream",
     "text": [
      "\u001b[32m[I 2023-05-10 19:02:17,675]\u001b[0m Trial 49 finished with value: 0.8900188089115999 and parameters: {'C': 17.40134643996895}. Best is trial 18 with value: 0.8950020652622883.\u001b[0m\n"
     ]
    },
    {
     "name": "stdout",
     "output_type": "stream",
     "text": [
      "Overall accuracy: 0.890\n",
      "\n"
     ]
    },
    {
     "name": "stderr",
     "output_type": "stream",
     "text": [
      "\u001b[32m[I 2023-05-10 19:02:18,733]\u001b[0m Trial 50 finished with value: 0.8601508599681469 and parameters: {'C': 601.8171120568288}. Best is trial 18 with value: 0.8950020652622883.\u001b[0m\n"
     ]
    },
    {
     "name": "stdout",
     "output_type": "stream",
     "text": [
      "Overall accuracy: 0.860\n",
      "\n"
     ]
    },
    {
     "name": "stderr",
     "output_type": "stream",
     "text": [
      "\u001b[32m[I 2023-05-10 19:02:19,441]\u001b[0m Trial 51 finished with value: 0.891413740134541 and parameters: {'C': 1.29778883672264}. Best is trial 18 with value: 0.8950020652622883.\u001b[0m\n"
     ]
    },
    {
     "name": "stdout",
     "output_type": "stream",
     "text": [
      "Overall accuracy: 0.892\n",
      "\n"
     ]
    },
    {
     "name": "stderr",
     "output_type": "stream",
     "text": [
      "\u001b[32m[I 2023-05-10 19:02:20,181]\u001b[0m Trial 52 finished with value: 0.8918734475906607 and parameters: {'C': 3.1904528230095335}. Best is trial 18 with value: 0.8950020652622883.\u001b[0m\n"
     ]
    },
    {
     "name": "stdout",
     "output_type": "stream",
     "text": [
      "Overall accuracy: 0.892\n",
      "\n"
     ]
    },
    {
     "name": "stderr",
     "output_type": "stream",
     "text": [
      "\u001b[32m[I 2023-05-10 19:02:21,010]\u001b[0m Trial 53 finished with value: 0.8806494843116952 and parameters: {'C': 0.5121481048447686}. Best is trial 18 with value: 0.8950020652622883.\u001b[0m\n"
     ]
    },
    {
     "name": "stdout",
     "output_type": "stream",
     "text": [
      "Overall accuracy: 0.881\n",
      "\n"
     ]
    },
    {
     "name": "stderr",
     "output_type": "stream",
     "text": [
      "\u001b[32m[I 2023-05-10 19:02:21,991]\u001b[0m Trial 54 finished with value: 0.8638305611978265 and parameters: {'C': 0.12336392608909606}. Best is trial 18 with value: 0.8950020652622883.\u001b[0m\n"
     ]
    },
    {
     "name": "stdout",
     "output_type": "stream",
     "text": [
      "Overall accuracy: 0.865\n",
      "\n"
     ]
    },
    {
     "name": "stderr",
     "output_type": "stream",
     "text": [
      "\u001b[32m[I 2023-05-10 19:02:22,664]\u001b[0m Trial 55 finished with value: 0.8892382456491282 and parameters: {'C': 12.15414484002214}. Best is trial 18 with value: 0.8950020652622883.\u001b[0m\n"
     ]
    },
    {
     "name": "stdout",
     "output_type": "stream",
     "text": [
      "Overall accuracy: 0.889\n",
      "\n"
     ]
    },
    {
     "name": "stderr",
     "output_type": "stream",
     "text": [
      "\u001b[32m[I 2023-05-10 19:02:24,262]\u001b[0m Trial 56 finished with value: 0.778881150485268 and parameters: {'C': 0.015052159969873732}. Best is trial 18 with value: 0.8950020652622883.\u001b[0m\n"
     ]
    },
    {
     "name": "stdout",
     "output_type": "stream",
     "text": [
      "Overall accuracy: 0.789\n",
      "\n"
     ]
    },
    {
     "name": "stderr",
     "output_type": "stream",
     "text": [
      "\u001b[32m[I 2023-05-10 19:02:24,979]\u001b[0m Trial 57 finished with value: 0.8954110700650966 and parameters: {'C': 1.9897995542245812}. Best is trial 57 with value: 0.8954110700650966.\u001b[0m\n"
     ]
    },
    {
     "name": "stdout",
     "output_type": "stream",
     "text": [
      "Overall accuracy: 0.896\n",
      "\n"
     ]
    },
    {
     "name": "stderr",
     "output_type": "stream",
     "text": [
      "\u001b[32m[I 2023-05-10 19:02:26,507]\u001b[0m Trial 58 finished with value: 0.3416213416213416 and parameters: {'C': 0.0004001388441107672}. Best is trial 57 with value: 0.8954110700650966.\u001b[0m\n"
     ]
    },
    {
     "name": "stdout",
     "output_type": "stream",
     "text": [
      "Overall accuracy: 0.519\n",
      "\n"
     ]
    },
    {
     "name": "stderr",
     "output_type": "stream",
     "text": [
      "\u001b[32m[I 2023-05-10 19:02:27,337]\u001b[0m Trial 59 finished with value: 0.8806494843116952 and parameters: {'C': 0.48278496809638455}. Best is trial 57 with value: 0.8954110700650966.\u001b[0m\n"
     ]
    },
    {
     "name": "stdout",
     "output_type": "stream",
     "text": [
      "Overall accuracy: 0.881\n",
      "\n"
     ]
    },
    {
     "name": "stderr",
     "output_type": "stream",
     "text": [
      "\u001b[32m[I 2023-05-10 19:02:28,136]\u001b[0m Trial 60 finished with value: 0.8766581627314328 and parameters: {'C': 51.948627670908174}. Best is trial 57 with value: 0.8954110700650966.\u001b[0m\n"
     ]
    },
    {
     "name": "stdout",
     "output_type": "stream",
     "text": [
      "Overall accuracy: 0.877\n",
      "\n"
     ]
    },
    {
     "name": "stderr",
     "output_type": "stream",
     "text": [
      "\u001b[32m[I 2023-05-10 19:02:28,795]\u001b[0m Trial 61 finished with value: 0.8880104641545001 and parameters: {'C': 7.049305621773561}. Best is trial 57 with value: 0.8954110700650966.\u001b[0m\n"
     ]
    },
    {
     "name": "stdout",
     "output_type": "stream",
     "text": [
      "Overall accuracy: 0.888\n",
      "\n"
     ]
    },
    {
     "name": "stderr",
     "output_type": "stream",
     "text": [
      "\u001b[32m[I 2023-05-10 19:02:29,459]\u001b[0m Trial 62 finished with value: 0.8950116513633835 and parameters: {'C': 1.9813072142434696}. Best is trial 57 with value: 0.8954110700650966.\u001b[0m\n"
     ]
    },
    {
     "name": "stdout",
     "output_type": "stream",
     "text": [
      "Overall accuracy: 0.895\n",
      "\n"
     ]
    },
    {
     "name": "stderr",
     "output_type": "stream",
     "text": [
      "\u001b[32m[I 2023-05-10 19:02:30,712]\u001b[0m Trial 63 finished with value: 0.8580836119566845 and parameters: {'C': 0.06942754513794606}. Best is trial 57 with value: 0.8954110700650966.\u001b[0m\n"
     ]
    },
    {
     "name": "stdout",
     "output_type": "stream",
     "text": [
      "Overall accuracy: 0.859\n",
      "\n"
     ]
    },
    {
     "name": "stderr",
     "output_type": "stream",
     "text": [
      "\u001b[32m[I 2023-05-10 19:02:31,652]\u001b[0m Trial 64 finished with value: 0.8581769558320217 and parameters: {'C': 681.0721336929442}. Best is trial 57 with value: 0.8954110700650966.\u001b[0m\n"
     ]
    },
    {
     "name": "stdout",
     "output_type": "stream",
     "text": [
      "Overall accuracy: 0.858\n",
      "\n"
     ]
    },
    {
     "name": "stderr",
     "output_type": "stream",
     "text": [
      "\u001b[32m[I 2023-05-10 19:02:32,433]\u001b[0m Trial 65 finished with value: 0.8826191903243786 and parameters: {'C': 0.5834012102399614}. Best is trial 57 with value: 0.8954110700650966.\u001b[0m\n"
     ]
    },
    {
     "name": "stdout",
     "output_type": "stream",
     "text": [
      "Overall accuracy: 0.883\n",
      "\n"
     ]
    },
    {
     "name": "stderr",
     "output_type": "stream",
     "text": [
      "\u001b[32m[I 2023-05-10 19:02:33,420]\u001b[0m Trial 66 finished with value: 0.8652760421315719 and parameters: {'C': 177.81123719968085}. Best is trial 57 with value: 0.8954110700650966.\u001b[0m\n"
     ]
    },
    {
     "name": "stdout",
     "output_type": "stream",
     "text": [
      "Overall accuracy: 0.865\n",
      "\n"
     ]
    },
    {
     "name": "stderr",
     "output_type": "stream",
     "text": [
      "\u001b[32m[I 2023-05-10 19:02:34,238]\u001b[0m Trial 67 finished with value: 0.8829315265401818 and parameters: {'C': 26.304782268618386}. Best is trial 57 with value: 0.8954110700650966.\u001b[0m\n"
     ]
    },
    {
     "name": "stdout",
     "output_type": "stream",
     "text": [
      "Overall accuracy: 0.883\n",
      "\n"
     ]
    },
    {
     "name": "stderr",
     "output_type": "stream",
     "text": [
      "\u001b[32m[I 2023-05-10 19:02:34,967]\u001b[0m Trial 68 finished with value: 0.8934032857768542 and parameters: {'C': 1.498156678686804}. Best is trial 57 with value: 0.8954110700650966.\u001b[0m\n"
     ]
    },
    {
     "name": "stdout",
     "output_type": "stream",
     "text": [
      "Overall accuracy: 0.894\n",
      "\n"
     ]
    },
    {
     "name": "stderr",
     "output_type": "stream",
     "text": [
      "\u001b[32m[I 2023-05-10 19:02:36,311]\u001b[0m Trial 69 finished with value: 0.85515319029692 and parameters: {'C': 0.053266916460703626}. Best is trial 57 with value: 0.8954110700650966.\u001b[0m\n"
     ]
    },
    {
     "name": "stdout",
     "output_type": "stream",
     "text": [
      "Overall accuracy: 0.856\n",
      "\n"
     ]
    },
    {
     "name": "stderr",
     "output_type": "stream",
     "text": [
      "\u001b[32m[I 2023-05-10 19:02:37,013]\u001b[0m Trial 70 finished with value: 0.8903416020880338 and parameters: {'C': 4.667466218266048}. Best is trial 57 with value: 0.8954110700650966.\u001b[0m\n"
     ]
    },
    {
     "name": "stdout",
     "output_type": "stream",
     "text": [
      "Overall accuracy: 0.891\n",
      "\n"
     ]
    },
    {
     "name": "stderr",
     "output_type": "stream",
     "text": [
      "\u001b[32m[I 2023-05-10 19:02:37,766]\u001b[0m Trial 71 finished with value: 0.889423315933383 and parameters: {'C': 0.8877897497583556}. Best is trial 57 with value: 0.8954110700650966.\u001b[0m\n"
     ]
    },
    {
     "name": "stdout",
     "output_type": "stream",
     "text": [
      "Overall accuracy: 0.890\n",
      "\n"
     ]
    },
    {
     "name": "stderr",
     "output_type": "stream",
     "text": [
      "\u001b[32m[I 2023-05-10 19:02:38,685]\u001b[0m Trial 72 finished with value: 0.8694361001727655 and parameters: {'C': 0.16408184408992746}. Best is trial 57 with value: 0.8954110700650966.\u001b[0m\n"
     ]
    },
    {
     "name": "stdout",
     "output_type": "stream",
     "text": [
      "Overall accuracy: 0.870\n",
      "\n"
     ]
    },
    {
     "name": "stderr",
     "output_type": "stream",
     "text": [
      "\u001b[32m[I 2023-05-10 19:02:39,495]\u001b[0m Trial 73 finished with value: 0.8906943823723592 and parameters: {'C': 3.5353150272541014}. Best is trial 57 with value: 0.8954110700650966.\u001b[0m\n"
     ]
    },
    {
     "name": "stdout",
     "output_type": "stream",
     "text": [
      "Overall accuracy: 0.891\n",
      "\n"
     ]
    },
    {
     "name": "stderr",
     "output_type": "stream",
     "text": [
      "\u001b[32m[I 2023-05-10 19:02:40,362]\u001b[0m Trial 74 finished with value: 0.8754636362226942 and parameters: {'C': 58.0950608670165}. Best is trial 57 with value: 0.8954110700650966.\u001b[0m\n"
     ]
    },
    {
     "name": "stdout",
     "output_type": "stream",
     "text": [
      "Overall accuracy: 0.876\n",
      "\n"
     ]
    },
    {
     "name": "stderr",
     "output_type": "stream",
     "text": [
      "\u001b[32m[I 2023-05-10 19:02:41,069]\u001b[0m Trial 75 finished with value: 0.8906026785124732 and parameters: {'C': 1.1120343306009388}. Best is trial 57 with value: 0.8954110700650966.\u001b[0m\n"
     ]
    },
    {
     "name": "stdout",
     "output_type": "stream",
     "text": [
      "Overall accuracy: 0.891\n",
      "\n"
     ]
    },
    {
     "name": "stderr",
     "output_type": "stream",
     "text": [
      "\u001b[32m[I 2023-05-10 19:02:42,018]\u001b[0m Trial 76 finished with value: 0.8730636134888443 and parameters: {'C': 0.18755685200108432}. Best is trial 57 with value: 0.8954110700650966.\u001b[0m\n"
     ]
    },
    {
     "name": "stdout",
     "output_type": "stream",
     "text": [
      "Overall accuracy: 0.874\n",
      "\n"
     ]
    },
    {
     "name": "stderr",
     "output_type": "stream",
     "text": [
      "\u001b[32m[I 2023-05-10 19:02:42,695]\u001b[0m Trial 77 finished with value: 0.888059641320966 and parameters: {'C': 8.864508354408088}. Best is trial 57 with value: 0.8954110700650966.\u001b[0m\n"
     ]
    },
    {
     "name": "stdout",
     "output_type": "stream",
     "text": [
      "Overall accuracy: 0.888\n",
      "\n"
     ]
    },
    {
     "name": "stderr",
     "output_type": "stream",
     "text": [
      "\u001b[32m[I 2023-05-10 19:02:44,162]\u001b[0m Trial 78 finished with value: 0.8392565564081502 and parameters: {'C': 0.027942380811615396}. Best is trial 57 with value: 0.8954110700650966.\u001b[0m\n"
     ]
    },
    {
     "name": "stdout",
     "output_type": "stream",
     "text": [
      "Overall accuracy: 0.841\n",
      "\n"
     ]
    },
    {
     "name": "stderr",
     "output_type": "stream",
     "text": [
      "\u001b[32m[I 2023-05-10 19:02:45,842]\u001b[0m Trial 79 finished with value: 0.3416213416213416 and parameters: {'C': 0.007324236067439134}. Best is trial 57 with value: 0.8954110700650966.\u001b[0m\n"
     ]
    },
    {
     "name": "stdout",
     "output_type": "stream",
     "text": [
      "Overall accuracy: 0.519\n",
      "\n"
     ]
    },
    {
     "name": "stderr",
     "output_type": "stream",
     "text": [
      "\u001b[32m[I 2023-05-10 19:02:46,586]\u001b[0m Trial 80 finished with value: 0.8813548467629453 and parameters: {'C': 28.069503836475036}. Best is trial 57 with value: 0.8954110700650966.\u001b[0m\n"
     ]
    },
    {
     "name": "stdout",
     "output_type": "stream",
     "text": [
      "Overall accuracy: 0.882\n",
      "\n"
     ]
    },
    {
     "name": "stderr",
     "output_type": "stream",
     "text": [
      "\u001b[32m[I 2023-05-10 19:02:47,267]\u001b[0m Trial 81 finished with value: 0.8938873306099013 and parameters: {'C': 2.437039183753245}. Best is trial 57 with value: 0.8954110700650966.\u001b[0m\n"
     ]
    },
    {
     "name": "stdout",
     "output_type": "stream",
     "text": [
      "Overall accuracy: 0.894\n",
      "\n"
     ]
    },
    {
     "name": "stderr",
     "output_type": "stream",
     "text": [
      "\u001b[32m[I 2023-05-10 19:02:47,905]\u001b[0m Trial 82 finished with value: 0.8942317903291215 and parameters: {'C': 2.2234579534804357}. Best is trial 57 with value: 0.8954110700650966.\u001b[0m\n"
     ]
    },
    {
     "name": "stdout",
     "output_type": "stream",
     "text": [
      "Overall accuracy: 0.895\n",
      "\n"
     ]
    },
    {
     "name": "stderr",
     "output_type": "stream",
     "text": [
      "\u001b[32m[I 2023-05-10 19:02:48,614]\u001b[0m Trial 83 finished with value: 0.8946495917775291 and parameters: {'C': 2.2701965039779273}. Best is trial 57 with value: 0.8954110700650966.\u001b[0m\n"
     ]
    },
    {
     "name": "stdout",
     "output_type": "stream",
     "text": [
      "Overall accuracy: 0.895\n",
      "\n"
     ]
    },
    {
     "name": "stderr",
     "output_type": "stream",
     "text": [
      "\u001b[32m[I 2023-05-10 19:02:49,441]\u001b[0m Trial 84 finished with value: 0.8778088989658968 and parameters: {'C': 0.33139849907767693}. Best is trial 57 with value: 0.8954110700650966.\u001b[0m\n"
     ]
    },
    {
     "name": "stdout",
     "output_type": "stream",
     "text": [
      "Overall accuracy: 0.878\n",
      "\n"
     ]
    },
    {
     "name": "stderr",
     "output_type": "stream",
     "text": [
      "\u001b[32m[I 2023-05-10 19:02:50,063]\u001b[0m Trial 85 finished with value: 0.8907493309282073 and parameters: {'C': 5.707672303888344}. Best is trial 57 with value: 0.8954110700650966.\u001b[0m\n"
     ]
    },
    {
     "name": "stdout",
     "output_type": "stream",
     "text": [
      "Overall accuracy: 0.891\n",
      "\n"
     ]
    },
    {
     "name": "stderr",
     "output_type": "stream",
     "text": [
      "\u001b[32m[I 2023-05-10 19:02:51,023]\u001b[0m Trial 86 finished with value: 0.8668742892026984 and parameters: {'C': 132.8254619819964}. Best is trial 57 with value: 0.8954110700650966.\u001b[0m\n"
     ]
    },
    {
     "name": "stdout",
     "output_type": "stream",
     "text": [
      "Overall accuracy: 0.867\n",
      "\n"
     ]
    },
    {
     "name": "stderr",
     "output_type": "stream",
     "text": [
      "\u001b[32m[I 2023-05-10 19:02:51,690]\u001b[0m Trial 87 finished with value: 0.8900188089115999 and parameters: {'C': 16.920855422363516}. Best is trial 57 with value: 0.8954110700650966.\u001b[0m\n"
     ]
    },
    {
     "name": "stdout",
     "output_type": "stream",
     "text": [
      "Overall accuracy: 0.890\n",
      "\n"
     ]
    },
    {
     "name": "stderr",
     "output_type": "stream",
     "text": [
      "\u001b[32m[I 2023-05-10 19:02:52,353]\u001b[0m Trial 88 finished with value: 0.8918734475906607 and parameters: {'C': 2.799392855971342}. Best is trial 57 with value: 0.8954110700650966.\u001b[0m\n"
     ]
    },
    {
     "name": "stdout",
     "output_type": "stream",
     "text": [
      "Overall accuracy: 0.892\n",
      "\n"
     ]
    },
    {
     "name": "stderr",
     "output_type": "stream",
     "text": [
      "\u001b[32m[I 2023-05-10 19:02:53,258]\u001b[0m Trial 89 finished with value: 0.8757958552351075 and parameters: {'C': 0.24813835520791772}. Best is trial 57 with value: 0.8954110700650966.\u001b[0m\n"
     ]
    },
    {
     "name": "stdout",
     "output_type": "stream",
     "text": [
      "Overall accuracy: 0.876\n",
      "\n"
     ]
    },
    {
     "name": "stderr",
     "output_type": "stream",
     "text": [
      "\u001b[32m[I 2023-05-10 19:02:54,164]\u001b[0m Trial 90 finished with value: 0.8731317512543856 and parameters: {'C': 77.21869194125536}. Best is trial 57 with value: 0.8954110700650966.\u001b[0m\n"
     ]
    },
    {
     "name": "stdout",
     "output_type": "stream",
     "text": [
      "Overall accuracy: 0.873\n",
      "\n"
     ]
    },
    {
     "name": "stderr",
     "output_type": "stream",
     "text": [
      "\u001b[32m[I 2023-05-10 19:02:54,900]\u001b[0m Trial 91 finished with value: 0.8910241116562039 and parameters: {'C': 1.2119849204647017}. Best is trial 57 with value: 0.8954110700650966.\u001b[0m\n"
     ]
    },
    {
     "name": "stdout",
     "output_type": "stream",
     "text": [
      "Overall accuracy: 0.891\n",
      "\n"
     ]
    },
    {
     "name": "stderr",
     "output_type": "stream",
     "text": [
      "\u001b[32m[I 2023-05-10 19:02:55,817]\u001b[0m Trial 92 finished with value: 0.8946404335502522 and parameters: {'C': 2.2592327402511394}. Best is trial 57 with value: 0.8954110700650966.\u001b[0m\n"
     ]
    },
    {
     "name": "stdout",
     "output_type": "stream",
     "text": [
      "Overall accuracy: 0.895\n",
      "\n"
     ]
    },
    {
     "name": "stderr",
     "output_type": "stream",
     "text": [
      "\u001b[32m[I 2023-05-10 19:02:56,522]\u001b[0m Trial 93 finished with value: 0.8892459395330727 and parameters: {'C': 9.446628212942175}. Best is trial 57 with value: 0.8954110700650966.\u001b[0m\n"
     ]
    },
    {
     "name": "stdout",
     "output_type": "stream",
     "text": [
      "Overall accuracy: 0.889\n",
      "\n"
     ]
    },
    {
     "name": "stderr",
     "output_type": "stream",
     "text": [
      "\u001b[32m[I 2023-05-10 19:02:57,862]\u001b[0m Trial 94 finished with value: 0.8551316599535682 and parameters: {'C': 0.054314171459041494}. Best is trial 57 with value: 0.8954110700650966.\u001b[0m\n"
     ]
    },
    {
     "name": "stdout",
     "output_type": "stream",
     "text": [
      "Overall accuracy: 0.856\n",
      "\n"
     ]
    },
    {
     "name": "stderr",
     "output_type": "stream",
     "text": [
      "\u001b[32m[I 2023-05-10 19:02:58,599]\u001b[0m Trial 95 finished with value: 0.8806494843116952 and parameters: {'C': 0.4666774286063496}. Best is trial 57 with value: 0.8954110700650966.\u001b[0m\n"
     ]
    },
    {
     "name": "stdout",
     "output_type": "stream",
     "text": [
      "Overall accuracy: 0.881\n",
      "\n"
     ]
    },
    {
     "name": "stderr",
     "output_type": "stream",
     "text": [
      "\u001b[32m[I 2023-05-10 19:02:59,364]\u001b[0m Trial 96 finished with value: 0.8797865179985309 and parameters: {'C': 28.948632467426687}. Best is trial 57 with value: 0.8954110700650966.\u001b[0m\n"
     ]
    },
    {
     "name": "stdout",
     "output_type": "stream",
     "text": [
      "Overall accuracy: 0.880\n",
      "\n"
     ]
    },
    {
     "name": "stderr",
     "output_type": "stream",
     "text": [
      "\u001b[32m[I 2023-05-10 19:03:00,002]\u001b[0m Trial 97 finished with value: 0.8906943823723592 and parameters: {'C': 3.5215204997407206}. Best is trial 57 with value: 0.8954110700650966.\u001b[0m\n"
     ]
    },
    {
     "name": "stdout",
     "output_type": "stream",
     "text": [
      "Overall accuracy: 0.891\n",
      "\n"
     ]
    },
    {
     "name": "stderr",
     "output_type": "stream",
     "text": [
      "\u001b[32m[I 2023-05-10 19:03:01,034]\u001b[0m Trial 98 finished with value: 0.8686290185998785 and parameters: {'C': 0.14391316802995766}. Best is trial 57 with value: 0.8954110700650966.\u001b[0m\n"
     ]
    },
    {
     "name": "stdout",
     "output_type": "stream",
     "text": [
      "Overall accuracy: 0.869\n",
      "\n"
     ]
    },
    {
     "name": "stderr",
     "output_type": "stream",
     "text": [
      "\u001b[32m[I 2023-05-10 19:03:01,982]\u001b[0m Trial 99 finished with value: 0.8609220170667439 and parameters: {'C': 286.0873379313369}. Best is trial 57 with value: 0.8954110700650966.\u001b[0m\n",
      "\u001b[32m[I 2023-05-10 19:03:02,144]\u001b[0m A new study created in memory with name: no-name-44319447-afec-46a2-bd14-f6d4dfbe19f1\u001b[0m\n"
     ]
    },
    {
     "name": "stdout",
     "output_type": "stream",
     "text": [
      "Overall accuracy: 0.861\n",
      "\n",
      "Accuracy: 0.8954110700650966\n",
      "Best hyperparameters: {'C': 1.9897995542245812}\n",
      "\n",
      "\n",
      "\n",
      "Model :- SVC, DataType :- RSDHP\n"
     ]
    },
    {
     "name": "stderr",
     "output_type": "stream",
     "text": [
      "\u001b[32m[I 2023-05-10 19:03:03,090]\u001b[0m Trial 0 finished with value: 0.8628961464067848 and parameters: {'C': 4945.324833169727}. Best is trial 0 with value: 0.8628961464067848.\u001b[0m\n"
     ]
    },
    {
     "name": "stdout",
     "output_type": "stream",
     "text": [
      "Overall accuracy: 0.863\n",
      "\n"
     ]
    },
    {
     "name": "stderr",
     "output_type": "stream",
     "text": [
      "\u001b[32m[I 2023-05-10 19:03:03,862]\u001b[0m Trial 1 finished with value: 0.8893787704718281 and parameters: {'C': 0.8426504016129495}. Best is trial 1 with value: 0.8893787704718281.\u001b[0m\n"
     ]
    },
    {
     "name": "stdout",
     "output_type": "stream",
     "text": [
      "Overall accuracy: 0.890\n",
      "\n"
     ]
    },
    {
     "name": "stderr",
     "output_type": "stream",
     "text": [
      "\u001b[32m[I 2023-05-10 19:03:04,987]\u001b[0m Trial 2 finished with value: 0.8628961464067848 and parameters: {'C': 74364.19332240886}. Best is trial 1 with value: 0.8893787704718281.\u001b[0m\n"
     ]
    },
    {
     "name": "stdout",
     "output_type": "stream",
     "text": [
      "Overall accuracy: 0.863\n",
      "\n"
     ]
    },
    {
     "name": "stderr",
     "output_type": "stream",
     "text": [
      "\u001b[32m[I 2023-05-10 19:03:06,912]\u001b[0m Trial 3 finished with value: 0.3416213416213416 and parameters: {'C': 3.0409067949480944e-06}. Best is trial 1 with value: 0.8893787704718281.\u001b[0m\n"
     ]
    },
    {
     "name": "stdout",
     "output_type": "stream",
     "text": [
      "Overall accuracy: 0.519\n",
      "\n"
     ]
    },
    {
     "name": "stderr",
     "output_type": "stream",
     "text": [
      "\u001b[32m[I 2023-05-10 19:03:07,867]\u001b[0m Trial 4 finished with value: 0.8628961464067848 and parameters: {'C': 2714.3864219220495}. Best is trial 1 with value: 0.8893787704718281.\u001b[0m\n"
     ]
    },
    {
     "name": "stdout",
     "output_type": "stream",
     "text": [
      "Overall accuracy: 0.863\n",
      "\n"
     ]
    },
    {
     "name": "stderr",
     "output_type": "stream",
     "text": [
      "\u001b[32m[I 2023-05-10 19:03:09,007]\u001b[0m Trial 5 finished with value: 0.8809587930932818 and parameters: {'C': 0.3586511049696869}. Best is trial 1 with value: 0.8893787704718281.\u001b[0m\n"
     ]
    },
    {
     "name": "stdout",
     "output_type": "stream",
     "text": [
      "Overall accuracy: 0.882\n",
      "\n"
     ]
    },
    {
     "name": "stderr",
     "output_type": "stream",
     "text": [
      "\u001b[32m[I 2023-05-10 19:03:09,979]\u001b[0m Trial 6 finished with value: 0.8766013273653342 and parameters: {'C': 0.2087303272933501}. Best is trial 1 with value: 0.8893787704718281.\u001b[0m\n"
     ]
    },
    {
     "name": "stdout",
     "output_type": "stream",
     "text": [
      "Overall accuracy: 0.877\n",
      "\n"
     ]
    },
    {
     "name": "stderr",
     "output_type": "stream",
     "text": [
      "\u001b[32m[I 2023-05-10 19:03:11,903]\u001b[0m Trial 7 finished with value: 0.3416213416213416 and parameters: {'C': 6.801027998740153e-10}. Best is trial 1 with value: 0.8893787704718281.\u001b[0m\n"
     ]
    },
    {
     "name": "stdout",
     "output_type": "stream",
     "text": [
      "Overall accuracy: 0.519\n",
      "\n"
     ]
    },
    {
     "name": "stderr",
     "output_type": "stream",
     "text": [
      "\u001b[32m[I 2023-05-10 19:03:12,695]\u001b[0m Trial 8 finished with value: 0.8910029828486203 and parameters: {'C': 1.1385816781970317}. Best is trial 8 with value: 0.8910029828486203.\u001b[0m\n"
     ]
    },
    {
     "name": "stdout",
     "output_type": "stream",
     "text": [
      "Overall accuracy: 0.891\n",
      "\n"
     ]
    },
    {
     "name": "stderr",
     "output_type": "stream",
     "text": [
      "\u001b[32m[I 2023-05-10 19:03:13,817]\u001b[0m Trial 9 finished with value: 0.8628961464067848 and parameters: {'C': 611679923.461163}. Best is trial 8 with value: 0.8910029828486203.\u001b[0m\n"
     ]
    },
    {
     "name": "stdout",
     "output_type": "stream",
     "text": [
      "Overall accuracy: 0.863\n",
      "\n"
     ]
    },
    {
     "name": "stderr",
     "output_type": "stream",
     "text": [
      "\u001b[32m[I 2023-05-10 19:03:15,641]\u001b[0m Trial 10 finished with value: 0.3416213416213416 and parameters: {'C': 0.00015476623360551292}. Best is trial 8 with value: 0.8910029828486203.\u001b[0m\n"
     ]
    },
    {
     "name": "stdout",
     "output_type": "stream",
     "text": [
      "Overall accuracy: 0.519\n",
      "\n"
     ]
    },
    {
     "name": "stderr",
     "output_type": "stream",
     "text": [
      "\u001b[32m[I 2023-05-10 19:03:17,413]\u001b[0m Trial 11 finished with value: 0.3416213416213416 and parameters: {'C': 0.0056002282164275856}. Best is trial 8 with value: 0.8910029828486203.\u001b[0m\n"
     ]
    },
    {
     "name": "stdout",
     "output_type": "stream",
     "text": [
      "Overall accuracy: 0.519\n",
      "\n"
     ]
    },
    {
     "name": "stderr",
     "output_type": "stream",
     "text": [
      "\u001b[32m[I 2023-05-10 19:03:18,374]\u001b[0m Trial 12 finished with value: 0.8817278344375792 and parameters: {'C': 48.739902470682445}. Best is trial 8 with value: 0.8910029828486203.\u001b[0m\n"
     ]
    },
    {
     "name": "stdout",
     "output_type": "stream",
     "text": [
      "Overall accuracy: 0.882\n",
      "\n"
     ]
    },
    {
     "name": "stderr",
     "output_type": "stream",
     "text": [
      "\u001b[32m[I 2023-05-10 19:03:19,193]\u001b[0m Trial 13 finished with value: 0.8918541070434852 and parameters: {'C': 5.295016632453704}. Best is trial 13 with value: 0.8918541070434852.\u001b[0m\n"
     ]
    },
    {
     "name": "stdout",
     "output_type": "stream",
     "text": [
      "Overall accuracy: 0.892\n",
      "\n"
     ]
    },
    {
     "name": "stderr",
     "output_type": "stream",
     "text": [
      "\u001b[32m[I 2023-05-10 19:03:20,970]\u001b[0m Trial 14 finished with value: 0.3416213416213416 and parameters: {'C': 4.466644681176657e-05}. Best is trial 13 with value: 0.8918541070434852.\u001b[0m\n"
     ]
    },
    {
     "name": "stdout",
     "output_type": "stream",
     "text": [
      "Overall accuracy: 0.519\n",
      "\n"
     ]
    },
    {
     "name": "stderr",
     "output_type": "stream",
     "text": [
      "\u001b[32m[I 2023-05-10 19:03:21,852]\u001b[0m Trial 15 finished with value: 0.883694762224039 and parameters: {'C': 35.6104786303211}. Best is trial 13 with value: 0.8918541070434852.\u001b[0m\n"
     ]
    },
    {
     "name": "stdout",
     "output_type": "stream",
     "text": [
      "Overall accuracy: 0.884\n",
      "\n"
     ]
    },
    {
     "name": "stderr",
     "output_type": "stream",
     "text": [
      "\u001b[32m[I 2023-05-10 19:03:22,780]\u001b[0m Trial 16 finished with value: 0.8628961464067848 and parameters: {'C': 2018704.1342387956}. Best is trial 13 with value: 0.8918541070434852.\u001b[0m\n"
     ]
    },
    {
     "name": "stdout",
     "output_type": "stream",
     "text": [
      "Overall accuracy: 0.863\n",
      "\n"
     ]
    },
    {
     "name": "stderr",
     "output_type": "stream",
     "text": [
      "\u001b[32m[I 2023-05-10 19:03:23,735]\u001b[0m Trial 17 finished with value: 0.8825332218495068 and parameters: {'C': 52.456344291572094}. Best is trial 13 with value: 0.8918541070434852.\u001b[0m\n"
     ]
    },
    {
     "name": "stdout",
     "output_type": "stream",
     "text": [
      "Overall accuracy: 0.883\n",
      "\n"
     ]
    },
    {
     "name": "stderr",
     "output_type": "stream",
     "text": [
      "\u001b[32m[I 2023-05-10 19:03:25,424]\u001b[0m Trial 18 finished with value: 0.3416213416213416 and parameters: {'C': 0.006422720690370766}. Best is trial 13 with value: 0.8918541070434852.\u001b[0m\n"
     ]
    },
    {
     "name": "stdout",
     "output_type": "stream",
     "text": [
      "Overall accuracy: 0.519\n",
      "\n"
     ]
    },
    {
     "name": "stderr",
     "output_type": "stream",
     "text": [
      "\u001b[32m[I 2023-05-10 19:03:26,359]\u001b[0m Trial 19 finished with value: 0.8628961464067848 and parameters: {'C': 9309175.176612932}. Best is trial 13 with value: 0.8918541070434852.\u001b[0m\n"
     ]
    },
    {
     "name": "stdout",
     "output_type": "stream",
     "text": [
      "Overall accuracy: 0.863\n",
      "\n"
     ]
    },
    {
     "name": "stderr",
     "output_type": "stream",
     "text": [
      "\u001b[32m[I 2023-05-10 19:03:27,403]\u001b[0m Trial 20 finished with value: 0.860930466473094 and parameters: {'C': 874.7402075093052}. Best is trial 13 with value: 0.8918541070434852.\u001b[0m\n"
     ]
    },
    {
     "name": "stdout",
     "output_type": "stream",
     "text": [
      "Overall accuracy: 0.861\n",
      "\n"
     ]
    },
    {
     "name": "stderr",
     "output_type": "stream",
     "text": [
      "\u001b[32m[I 2023-05-10 19:03:28,317]\u001b[0m Trial 21 finished with value: 0.8853544590425002 and parameters: {'C': 0.485322907890035}. Best is trial 13 with value: 0.8918541070434852.\u001b[0m\n"
     ]
    },
    {
     "name": "stdout",
     "output_type": "stream",
     "text": [
      "Overall accuracy: 0.886\n",
      "\n"
     ]
    },
    {
     "name": "stderr",
     "output_type": "stream",
     "text": [
      "\u001b[32m[I 2023-05-10 19:03:29,046]\u001b[0m Trial 22 finished with value: 0.8891350994374511 and parameters: {'C': 6.911169365679276}. Best is trial 13 with value: 0.8918541070434852.\u001b[0m\n"
     ]
    },
    {
     "name": "stdout",
     "output_type": "stream",
     "text": [
      "Overall accuracy: 0.889\n",
      "\n"
     ]
    },
    {
     "name": "stderr",
     "output_type": "stream",
     "text": [
      "\u001b[32m[I 2023-05-10 19:03:30,430]\u001b[0m Trial 23 finished with value: 0.8644634438374617 and parameters: {'C': 0.07122089046550917}. Best is trial 13 with value: 0.8918541070434852.\u001b[0m\n"
     ]
    },
    {
     "name": "stdout",
     "output_type": "stream",
     "text": [
      "Overall accuracy: 0.865\n",
      "\n"
     ]
    },
    {
     "name": "stderr",
     "output_type": "stream",
     "text": [
      "\u001b[32m[I 2023-05-10 19:03:31,158]\u001b[0m Trial 24 finished with value: 0.8899241734628074 and parameters: {'C': 6.112852628937085}. Best is trial 13 with value: 0.8918541070434852.\u001b[0m\n"
     ]
    },
    {
     "name": "stdout",
     "output_type": "stream",
     "text": [
      "Overall accuracy: 0.890\n",
      "\n"
     ]
    },
    {
     "name": "stderr",
     "output_type": "stream",
     "text": [
      "\u001b[32m[I 2023-05-10 19:03:32,199]\u001b[0m Trial 25 finished with value: 0.8601508599681469 and parameters: {'C': 516.5929829229129}. Best is trial 13 with value: 0.8918541070434852.\u001b[0m\n"
     ]
    },
    {
     "name": "stdout",
     "output_type": "stream",
     "text": [
      "Overall accuracy: 0.860\n",
      "\n"
     ]
    },
    {
     "name": "stderr",
     "output_type": "stream",
     "text": [
      "\u001b[32m[I 2023-05-10 19:03:33,377]\u001b[0m Trial 26 finished with value: 0.8628961464067848 and parameters: {'C': 68289.05076160599}. Best is trial 13 with value: 0.8918541070434852.\u001b[0m\n"
     ]
    },
    {
     "name": "stdout",
     "output_type": "stream",
     "text": [
      "Overall accuracy: 0.863\n",
      "\n"
     ]
    },
    {
     "name": "stderr",
     "output_type": "stream",
     "text": [
      "\u001b[32m[I 2023-05-10 19:03:34,201]\u001b[0m Trial 27 finished with value: 0.8918541070434852 and parameters: {'C': 4.776399983345333}. Best is trial 13 with value: 0.8918541070434852.\u001b[0m\n"
     ]
    },
    {
     "name": "stdout",
     "output_type": "stream",
     "text": [
      "Overall accuracy: 0.892\n",
      "\n"
     ]
    },
    {
     "name": "stderr",
     "output_type": "stream",
     "text": [
      "\u001b[32m[I 2023-05-10 19:03:35,920]\u001b[0m Trial 28 finished with value: 0.3416213416213416 and parameters: {'C': 0.00706693682183239}. Best is trial 13 with value: 0.8918541070434852.\u001b[0m\n"
     ]
    },
    {
     "name": "stdout",
     "output_type": "stream",
     "text": [
      "Overall accuracy: 0.519\n",
      "\n"
     ]
    },
    {
     "name": "stderr",
     "output_type": "stream",
     "text": [
      "\u001b[32m[I 2023-05-10 19:03:36,838]\u001b[0m Trial 29 finished with value: 0.8663669398603311 and parameters: {'C': 180.4519179467358}. Best is trial 13 with value: 0.8918541070434852.\u001b[0m\n"
     ]
    },
    {
     "name": "stdout",
     "output_type": "stream",
     "text": [
      "Overall accuracy: 0.867\n",
      "\n"
     ]
    },
    {
     "name": "stderr",
     "output_type": "stream",
     "text": [
      "\u001b[32m[I 2023-05-10 19:03:37,861]\u001b[0m Trial 30 finished with value: 0.8628961464067848 and parameters: {'C': 13831.354676141922}. Best is trial 13 with value: 0.8918541070434852.\u001b[0m\n"
     ]
    },
    {
     "name": "stdout",
     "output_type": "stream",
     "text": [
      "Overall accuracy: 0.863\n",
      "\n"
     ]
    },
    {
     "name": "stderr",
     "output_type": "stream",
     "text": [
      "\u001b[32m[I 2023-05-10 19:03:38,898]\u001b[0m Trial 31 finished with value: 0.8918541070434852 and parameters: {'C': 3.7620906564414685}. Best is trial 13 with value: 0.8918541070434852.\u001b[0m\n"
     ]
    },
    {
     "name": "stdout",
     "output_type": "stream",
     "text": [
      "Overall accuracy: 0.892\n",
      "\n"
     ]
    },
    {
     "name": "stderr",
     "output_type": "stream",
     "text": [
      "\u001b[32m[I 2023-05-10 19:03:39,768]\u001b[0m Trial 32 finished with value: 0.8914643179920814 and parameters: {'C': 3.9887327863118953}. Best is trial 13 with value: 0.8918541070434852.\u001b[0m\n"
     ]
    },
    {
     "name": "stdout",
     "output_type": "stream",
     "text": [
      "Overall accuracy: 0.892\n",
      "\n"
     ]
    },
    {
     "name": "stderr",
     "output_type": "stream",
     "text": [
      "\u001b[32m[I 2023-05-10 19:03:40,826]\u001b[0m Trial 33 finished with value: 0.8914643179920814 and parameters: {'C': 5.187241802036027}. Best is trial 13 with value: 0.8918541070434852.\u001b[0m\n"
     ]
    },
    {
     "name": "stdout",
     "output_type": "stream",
     "text": [
      "Overall accuracy: 0.892\n",
      "\n"
     ]
    },
    {
     "name": "stderr",
     "output_type": "stream",
     "text": [
      "\u001b[32m[I 2023-05-10 19:03:41,786]\u001b[0m Trial 34 finished with value: 0.8625063252099427 and parameters: {'C': 1676.5342599568069}. Best is trial 13 with value: 0.8918541070434852.\u001b[0m\n"
     ]
    },
    {
     "name": "stdout",
     "output_type": "stream",
     "text": [
      "Overall accuracy: 0.863\n",
      "\n"
     ]
    },
    {
     "name": "stderr",
     "output_type": "stream",
     "text": [
      "\u001b[32m[I 2023-05-10 19:03:42,794]\u001b[0m Trial 35 finished with value: 0.8707077072705982 and parameters: {'C': 110.49932015923943}. Best is trial 13 with value: 0.8918541070434852.\u001b[0m\n"
     ]
    },
    {
     "name": "stdout",
     "output_type": "stream",
     "text": [
      "Overall accuracy: 0.871\n",
      "\n"
     ]
    },
    {
     "name": "stderr",
     "output_type": "stream",
     "text": [
      "\u001b[32m[I 2023-05-10 19:03:43,744]\u001b[0m Trial 36 finished with value: 0.8914643179920814 and parameters: {'C': 5.183381677143557}. Best is trial 13 with value: 0.8918541070434852.\u001b[0m\n"
     ]
    },
    {
     "name": "stdout",
     "output_type": "stream",
     "text": [
      "Overall accuracy: 0.892\n",
      "\n"
     ]
    },
    {
     "name": "stderr",
     "output_type": "stream",
     "text": [
      "\u001b[32m[I 2023-05-10 19:03:45,191]\u001b[0m Trial 37 finished with value: 0.8596101582269594 and parameters: {'C': 0.05676489325850568}. Best is trial 13 with value: 0.8918541070434852.\u001b[0m\n"
     ]
    },
    {
     "name": "stdout",
     "output_type": "stream",
     "text": [
      "Overall accuracy: 0.861\n",
      "\n"
     ]
    },
    {
     "name": "stderr",
     "output_type": "stream",
     "text": [
      "\u001b[32m[I 2023-05-10 19:03:46,159]\u001b[0m Trial 38 finished with value: 0.8628961464067848 and parameters: {'C': 11763.443962608157}. Best is trial 13 with value: 0.8918541070434852.\u001b[0m\n"
     ]
    },
    {
     "name": "stdout",
     "output_type": "stream",
     "text": [
      "Overall accuracy: 0.863\n",
      "\n"
     ]
    },
    {
     "name": "stderr",
     "output_type": "stream",
     "text": [
      "\u001b[32m[I 2023-05-10 19:03:47,014]\u001b[0m Trial 39 finished with value: 0.8857931794414104 and parameters: {'C': 0.591124838631082}. Best is trial 13 with value: 0.8918541070434852.\u001b[0m\n"
     ]
    },
    {
     "name": "stdout",
     "output_type": "stream",
     "text": [
      "Overall accuracy: 0.886\n",
      "\n"
     ]
    },
    {
     "name": "stderr",
     "output_type": "stream",
     "text": [
      "\u001b[32m[I 2023-05-10 19:03:47,983]\u001b[0m Trial 40 finished with value: 0.8625063252099427 and parameters: {'C': 1773.1746020233238}. Best is trial 13 with value: 0.8918541070434852.\u001b[0m\n"
     ]
    },
    {
     "name": "stdout",
     "output_type": "stream",
     "text": [
      "Overall accuracy: 0.863\n",
      "\n"
     ]
    },
    {
     "name": "stderr",
     "output_type": "stream",
     "text": [
      "\u001b[32m[I 2023-05-10 19:03:48,769]\u001b[0m Trial 41 finished with value: 0.893423148950443 and parameters: {'C': 3.3890074828632137}. Best is trial 41 with value: 0.893423148950443.\u001b[0m\n"
     ]
    },
    {
     "name": "stdout",
     "output_type": "stream",
     "text": [
      "Overall accuracy: 0.894\n",
      "\n"
     ]
    },
    {
     "name": "stderr",
     "output_type": "stream",
     "text": [
      "\u001b[32m[I 2023-05-10 19:03:49,519]\u001b[0m Trial 42 finished with value: 0.8938129807876716 and parameters: {'C': 2.442480931055471}. Best is trial 42 with value: 0.8938129807876716.\u001b[0m\n"
     ]
    },
    {
     "name": "stdout",
     "output_type": "stream",
     "text": [
      "Overall accuracy: 0.894\n",
      "\n"
     ]
    },
    {
     "name": "stderr",
     "output_type": "stream",
     "text": [
      "\u001b[32m[I 2023-05-10 19:03:50,991]\u001b[0m Trial 43 finished with value: 0.8636522112264328 and parameters: {'C': 0.06324199733675033}. Best is trial 42 with value: 0.8938129807876716.\u001b[0m\n"
     ]
    },
    {
     "name": "stdout",
     "output_type": "stream",
     "text": [
      "Overall accuracy: 0.865\n",
      "\n"
     ]
    },
    {
     "name": "stderr",
     "output_type": "stream",
     "text": [
      "\u001b[32m[I 2023-05-10 19:03:51,910]\u001b[0m Trial 44 finished with value: 0.8837032757838579 and parameters: {'C': 41.84335961089642}. Best is trial 42 with value: 0.8938129807876716.\u001b[0m\n"
     ]
    },
    {
     "name": "stdout",
     "output_type": "stream",
     "text": [
      "Overall accuracy: 0.884\n",
      "\n"
     ]
    },
    {
     "name": "stderr",
     "output_type": "stream",
     "text": [
      "\u001b[32m[I 2023-05-10 19:03:52,788]\u001b[0m Trial 45 finished with value: 0.8893787704718281 and parameters: {'C': 0.8396954601130531}. Best is trial 42 with value: 0.8938129807876716.\u001b[0m\n"
     ]
    },
    {
     "name": "stdout",
     "output_type": "stream",
     "text": [
      "Overall accuracy: 0.890\n",
      "\n"
     ]
    },
    {
     "name": "stderr",
     "output_type": "stream",
     "text": [
      "\u001b[32m[I 2023-05-10 19:03:53,783]\u001b[0m Trial 46 finished with value: 0.8691121367775876 and parameters: {'C': 143.55776508514896}. Best is trial 42 with value: 0.8938129807876716.\u001b[0m\n"
     ]
    },
    {
     "name": "stdout",
     "output_type": "stream",
     "text": [
      "Overall accuracy: 0.869\n",
      "\n"
     ]
    },
    {
     "name": "stderr",
     "output_type": "stream",
     "text": [
      "\u001b[32m[I 2023-05-10 19:03:55,565]\u001b[0m Trial 47 finished with value: 0.3416213416213416 and parameters: {'C': 0.0005197777014404718}. Best is trial 42 with value: 0.8938129807876716.\u001b[0m\n"
     ]
    },
    {
     "name": "stdout",
     "output_type": "stream",
     "text": [
      "Overall accuracy: 0.519\n",
      "\n"
     ]
    },
    {
     "name": "stderr",
     "output_type": "stream",
     "text": [
      "\u001b[32m[I 2023-05-10 19:03:56,686]\u001b[0m Trial 48 finished with value: 0.8793487687524033 and parameters: {'C': 0.23492192859835165}. Best is trial 42 with value: 0.8938129807876716.\u001b[0m\n"
     ]
    },
    {
     "name": "stdout",
     "output_type": "stream",
     "text": [
      "Overall accuracy: 0.880\n",
      "\n"
     ]
    },
    {
     "name": "stderr",
     "output_type": "stream",
     "text": [
      "\u001b[32m[I 2023-05-10 19:03:57,804]\u001b[0m Trial 49 finished with value: 0.8856532151986698 and parameters: {'C': 24.075465592991968}. Best is trial 42 with value: 0.8938129807876716.\u001b[0m\n"
     ]
    },
    {
     "name": "stdout",
     "output_type": "stream",
     "text": [
      "Overall accuracy: 0.886\n",
      "\n"
     ]
    },
    {
     "name": "stderr",
     "output_type": "stream",
     "text": [
      "\u001b[32m[I 2023-05-10 19:03:59,093]\u001b[0m Trial 50 finished with value: 0.8620822862004158 and parameters: {'C': 344.7332984516947}. Best is trial 42 with value: 0.8938129807876716.\u001b[0m\n"
     ]
    },
    {
     "name": "stdout",
     "output_type": "stream",
     "text": [
      "Overall accuracy: 0.862\n",
      "\n"
     ]
    },
    {
     "name": "stderr",
     "output_type": "stream",
     "text": [
      "\u001b[32m[I 2023-05-10 19:03:59,992]\u001b[0m Trial 51 finished with value: 0.8950020652622883 and parameters: {'C': 2.037444022534384}. Best is trial 51 with value: 0.8950020652622883.\u001b[0m\n"
     ]
    },
    {
     "name": "stdout",
     "output_type": "stream",
     "text": [
      "Overall accuracy: 0.895\n",
      "\n"
     ]
    },
    {
     "name": "stderr",
     "output_type": "stream",
     "text": [
      "\u001b[32m[I 2023-05-10 19:04:01,018]\u001b[0m Trial 52 finished with value: 0.894202815725524 and parameters: {'C': 2.1309522391513367}. Best is trial 51 with value: 0.8950020652622883.\u001b[0m\n"
     ]
    },
    {
     "name": "stdout",
     "output_type": "stream",
     "text": [
      "Overall accuracy: 0.895\n",
      "\n"
     ]
    },
    {
     "name": "stderr",
     "output_type": "stream",
     "text": [
      "\u001b[32m[I 2023-05-10 19:04:02,927]\u001b[0m Trial 53 finished with value: 0.8439510973774067 and parameters: {'C': 0.027560889507540067}. Best is trial 51 with value: 0.8950020652622883.\u001b[0m\n"
     ]
    },
    {
     "name": "stdout",
     "output_type": "stream",
     "text": [
      "Overall accuracy: 0.846\n",
      "\n"
     ]
    },
    {
     "name": "stderr",
     "output_type": "stream",
     "text": [
      "\u001b[32m[I 2023-05-10 19:04:04,013]\u001b[0m Trial 54 finished with value: 0.8849398577042195 and parameters: {'C': 0.45238805443654384}. Best is trial 51 with value: 0.8950020652622883.\u001b[0m\n"
     ]
    },
    {
     "name": "stdout",
     "output_type": "stream",
     "text": [
      "Overall accuracy: 0.886\n",
      "\n"
     ]
    },
    {
     "name": "stderr",
     "output_type": "stream",
     "text": [
      "\u001b[32m[I 2023-05-10 19:04:05,099]\u001b[0m Trial 55 finished with value: 0.8852457261625912 and parameters: {'C': 20.12375828343282}. Best is trial 51 with value: 0.8950020652622883.\u001b[0m\n"
     ]
    },
    {
     "name": "stdout",
     "output_type": "stream",
     "text": [
      "Overall accuracy: 0.886\n",
      "\n"
     ]
    },
    {
     "name": "stderr",
     "output_type": "stream",
     "text": [
      "\u001b[32m[I 2023-05-10 19:04:06,053]\u001b[0m Trial 56 finished with value: 0.8930135178599412 and parameters: {'C': 1.406127383930718}. Best is trial 51 with value: 0.8950020652622883.\u001b[0m\n"
     ]
    },
    {
     "name": "stdout",
     "output_type": "stream",
     "text": [
      "Overall accuracy: 0.893\n",
      "\n"
     ]
    },
    {
     "name": "stderr",
     "output_type": "stream",
     "text": [
      "\u001b[32m[I 2023-05-10 19:04:07,048]\u001b[0m Trial 57 finished with value: 0.8930234862210371 and parameters: {'C': 1.5338854972084712}. Best is trial 51 with value: 0.8950020652622883.\u001b[0m\n"
     ]
    },
    {
     "name": "stdout",
     "output_type": "stream",
     "text": [
      "Overall accuracy: 0.893\n",
      "\n"
     ]
    },
    {
     "name": "stderr",
     "output_type": "stream",
     "text": [
      "\u001b[32m[I 2023-05-10 19:04:09,228]\u001b[0m Trial 58 finished with value: 0.3416213416213416 and parameters: {'C': 0.001608609339583649}. Best is trial 51 with value: 0.8950020652622883.\u001b[0m\n"
     ]
    },
    {
     "name": "stdout",
     "output_type": "stream",
     "text": [
      "Overall accuracy: 0.519\n",
      "\n"
     ]
    },
    {
     "name": "stderr",
     "output_type": "stream",
     "text": [
      "\u001b[32m[I 2023-05-10 19:04:11,263]\u001b[0m Trial 59 finished with value: 0.8212143842138745 and parameters: {'C': 0.01901832975048047}. Best is trial 51 with value: 0.8950020652622883.\u001b[0m\n"
     ]
    },
    {
     "name": "stdout",
     "output_type": "stream",
     "text": [
      "Overall accuracy: 0.825\n",
      "\n"
     ]
    },
    {
     "name": "stderr",
     "output_type": "stream",
     "text": [
      "\u001b[32m[I 2023-05-10 19:04:12,818]\u001b[0m Trial 60 finished with value: 0.8705190351196521 and parameters: {'C': 0.13010695588356758}. Best is trial 51 with value: 0.8950020652622883.\u001b[0m\n"
     ]
    },
    {
     "name": "stdout",
     "output_type": "stream",
     "text": [
      "Overall accuracy: 0.871\n",
      "\n"
     ]
    },
    {
     "name": "stderr",
     "output_type": "stream",
     "text": [
      "\u001b[32m[I 2023-05-10 19:04:13,836]\u001b[0m Trial 61 finished with value: 0.8918240751957707 and parameters: {'C': 1.3163886884176894}. Best is trial 51 with value: 0.8950020652622883.\u001b[0m\n"
     ]
    },
    {
     "name": "stdout",
     "output_type": "stream",
     "text": [
      "Overall accuracy: 0.892\n",
      "\n"
     ]
    },
    {
     "name": "stderr",
     "output_type": "stream",
     "text": [
      "\u001b[32m[I 2023-05-10 19:04:14,920]\u001b[0m Trial 62 finished with value: 0.884457036995324 and parameters: {'C': 21.34448158253925}. Best is trial 51 with value: 0.8950020652622883.\u001b[0m\n"
     ]
    },
    {
     "name": "stdout",
     "output_type": "stream",
     "text": [
      "Overall accuracy: 0.885\n",
      "\n"
     ]
    },
    {
     "name": "stderr",
     "output_type": "stream",
     "text": [
      "\u001b[32m[I 2023-05-10 19:04:15,888]\u001b[0m Trial 63 finished with value: 0.8914032140174597 and parameters: {'C': 1.1592433296728217}. Best is trial 51 with value: 0.8950020652622883.\u001b[0m\n"
     ]
    },
    {
     "name": "stdout",
     "output_type": "stream",
     "text": [
      "Overall accuracy: 0.892\n",
      "\n"
     ]
    },
    {
     "name": "stderr",
     "output_type": "stream",
     "text": [
      "\u001b[32m[I 2023-05-10 19:04:17,347]\u001b[0m Trial 64 finished with value: 0.8701477660661334 and parameters: {'C': 0.12517259350552934}. Best is trial 51 with value: 0.8950020652622883.\u001b[0m\n"
     ]
    },
    {
     "name": "stdout",
     "output_type": "stream",
     "text": [
      "Overall accuracy: 0.871\n",
      "\n"
     ]
    },
    {
     "name": "stderr",
     "output_type": "stream",
     "text": [
      "\u001b[32m[I 2023-05-10 19:04:19,500]\u001b[0m Trial 65 finished with value: 0.7675141759648803 and parameters: {'C': 0.015632159831692482}. Best is trial 51 with value: 0.8950020652622883.\u001b[0m\n"
     ]
    },
    {
     "name": "stdout",
     "output_type": "stream",
     "text": [
      "Overall accuracy: 0.780\n",
      "\n"
     ]
    },
    {
     "name": "stderr",
     "output_type": "stream",
     "text": [
      "\u001b[32m[I 2023-05-10 19:04:20,748]\u001b[0m Trial 66 finished with value: 0.861709994307159 and parameters: {'C': 407.4575347198496}. Best is trial 51 with value: 0.8950020652622883.\u001b[0m\n"
     ]
    },
    {
     "name": "stdout",
     "output_type": "stream",
     "text": [
      "Overall accuracy: 0.862\n",
      "\n"
     ]
    },
    {
     "name": "stderr",
     "output_type": "stream",
     "text": [
      "\u001b[32m[I 2023-05-10 19:04:21,718]\u001b[0m Trial 67 finished with value: 0.892623753273666 and parameters: {'C': 1.3914507061276156}. Best is trial 51 with value: 0.8950020652622883.\u001b[0m\n"
     ]
    },
    {
     "name": "stdout",
     "output_type": "stream",
     "text": [
      "Overall accuracy: 0.893\n",
      "\n"
     ]
    },
    {
     "name": "stderr",
     "output_type": "stream",
     "text": [
      "\u001b[32m[I 2023-05-10 19:04:23,148]\u001b[0m Trial 68 finished with value: 0.8769896970418382 and parameters: {'C': 0.20734180132259578}. Best is trial 51 with value: 0.8950020652622883.\u001b[0m\n"
     ]
    },
    {
     "name": "stdout",
     "output_type": "stream",
     "text": [
      "Overall accuracy: 0.878\n",
      "\n"
     ]
    },
    {
     "name": "stderr",
     "output_type": "stream",
     "text": [
      "\u001b[32m[I 2023-05-10 19:04:24,136]\u001b[0m Trial 69 finished with value: 0.8926136804863123 and parameters: {'C': 1.4588334120207556}. Best is trial 51 with value: 0.8950020652622883.\u001b[0m\n"
     ]
    },
    {
     "name": "stdout",
     "output_type": "stream",
     "text": [
      "Overall accuracy: 0.893\n",
      "\n"
     ]
    },
    {
     "name": "stderr",
     "output_type": "stream",
     "text": [
      "\u001b[32m[I 2023-05-10 19:04:25,075]\u001b[0m Trial 70 finished with value: 0.8844388229673817 and parameters: {'C': 18.363674608900673}. Best is trial 51 with value: 0.8950020652622883.\u001b[0m\n"
     ]
    },
    {
     "name": "stdout",
     "output_type": "stream",
     "text": [
      "Overall accuracy: 0.885\n",
      "\n"
     ]
    },
    {
     "name": "stderr",
     "output_type": "stream",
     "text": [
      "\u001b[32m[I 2023-05-10 19:04:26,151]\u001b[0m Trial 71 finished with value: 0.888187756212236 and parameters: {'C': 0.731259853915992}. Best is trial 51 with value: 0.8950020652622883.\u001b[0m\n"
     ]
    },
    {
     "name": "stdout",
     "output_type": "stream",
     "text": [
      "Overall accuracy: 0.889\n",
      "\n"
     ]
    },
    {
     "name": "stderr",
     "output_type": "stream",
     "text": [
      "\u001b[32m[I 2023-05-10 19:04:27,131]\u001b[0m Trial 72 finished with value: 0.893413284499595 and parameters: {'C': 1.5169242899601392}. Best is trial 51 with value: 0.8950020652622883.\u001b[0m\n"
     ]
    },
    {
     "name": "stdout",
     "output_type": "stream",
     "text": [
      "Overall accuracy: 0.894\n",
      "\n"
     ]
    },
    {
     "name": "stderr",
     "output_type": "stream",
     "text": [
      "\u001b[32m[I 2023-05-10 19:04:28,309]\u001b[0m Trial 73 finished with value: 0.873878701278082 and parameters: {'C': 88.05611140081915}. Best is trial 51 with value: 0.8950020652622883.\u001b[0m\n"
     ]
    },
    {
     "name": "stdout",
     "output_type": "stream",
     "text": [
      "Overall accuracy: 0.874\n",
      "\n"
     ]
    },
    {
     "name": "stderr",
     "output_type": "stream",
     "text": [
      "\u001b[32m[I 2023-05-10 19:04:29,285]\u001b[0m Trial 74 finished with value: 0.893413284499595 and parameters: {'C': 1.9026822645388175}. Best is trial 51 with value: 0.8950020652622883.\u001b[0m\n"
     ]
    },
    {
     "name": "stdout",
     "output_type": "stream",
     "text": [
      "Overall accuracy: 0.894\n",
      "\n"
     ]
    },
    {
     "name": "stderr",
     "output_type": "stream",
     "text": [
      "\u001b[32m[I 2023-05-10 19:04:30,205]\u001b[0m Trial 75 finished with value: 0.8914930252390282 and parameters: {'C': 8.64248148712338}. Best is trial 51 with value: 0.8950020652622883.\u001b[0m\n"
     ]
    },
    {
     "name": "stdout",
     "output_type": "stream",
     "text": [
      "Overall accuracy: 0.892\n",
      "\n"
     ]
    },
    {
     "name": "stderr",
     "output_type": "stream",
     "text": [
      "\u001b[32m[I 2023-05-10 19:04:32,005]\u001b[0m Trial 76 finished with value: 0.8567192582006522 and parameters: {'C': 0.047372850922639834}. Best is trial 51 with value: 0.8950020652622883.\u001b[0m\n"
     ]
    },
    {
     "name": "stdout",
     "output_type": "stream",
     "text": [
      "Overall accuracy: 0.858\n",
      "\n"
     ]
    },
    {
     "name": "stderr",
     "output_type": "stream",
     "text": [
      "\u001b[32m[I 2023-05-10 19:04:33,204]\u001b[0m Trial 77 finished with value: 0.8766013273653342 and parameters: {'C': 0.20990760678815398}. Best is trial 51 with value: 0.8950020652622883.\u001b[0m\n"
     ]
    },
    {
     "name": "stdout",
     "output_type": "stream",
     "text": [
      "Overall accuracy: 0.877\n",
      "\n"
     ]
    },
    {
     "name": "stderr",
     "output_type": "stream",
     "text": [
      "\u001b[32m[I 2023-05-10 19:04:34,179]\u001b[0m Trial 78 finished with value: 0.8946024753543058 and parameters: {'C': 2.5463762568534514}. Best is trial 51 with value: 0.8950020652622883.\u001b[0m\n"
     ]
    },
    {
     "name": "stdout",
     "output_type": "stream",
     "text": [
      "Overall accuracy: 0.895\n",
      "\n"
     ]
    },
    {
     "name": "stderr",
     "output_type": "stream",
     "text": [
      "\u001b[32m[I 2023-05-10 19:04:35,525]\u001b[0m Trial 79 finished with value: 0.8695297484336706 and parameters: {'C': 116.28142493705991}. Best is trial 51 with value: 0.8950020652622883.\u001b[0m\n"
     ]
    },
    {
     "name": "stdout",
     "output_type": "stream",
     "text": [
      "Overall accuracy: 0.870\n",
      "\n"
     ]
    },
    {
     "name": "stderr",
     "output_type": "stream",
     "text": [
      "\u001b[32m[I 2023-05-10 19:04:37,714]\u001b[0m Trial 80 finished with value: 0.3416213416213416 and parameters: {'C': 0.0035660886168079465}. Best is trial 51 with value: 0.8950020652622883.\u001b[0m\n"
     ]
    },
    {
     "name": "stdout",
     "output_type": "stream",
     "text": [
      "Overall accuracy: 0.519\n",
      "\n"
     ]
    },
    {
     "name": "stderr",
     "output_type": "stream",
     "text": [
      "\u001b[32m[I 2023-05-10 19:04:38,683]\u001b[0m Trial 81 finished with value: 0.8938129807876716 and parameters: {'C': 1.7415479832490721}. Best is trial 51 with value: 0.8950020652622883.\u001b[0m\n"
     ]
    },
    {
     "name": "stdout",
     "output_type": "stream",
     "text": [
      "Overall accuracy: 0.894\n",
      "\n"
     ]
    },
    {
     "name": "stderr",
     "output_type": "stream",
     "text": [
      "\u001b[32m[I 2023-05-10 19:04:39,544]\u001b[0m Trial 82 finished with value: 0.8899334666865524 and parameters: {'C': 10.782188298791473}. Best is trial 51 with value: 0.8950020652622883.\u001b[0m\n"
     ]
    },
    {
     "name": "stdout",
     "output_type": "stream",
     "text": [
      "Overall accuracy: 0.890\n",
      "\n"
     ]
    },
    {
     "name": "stderr",
     "output_type": "stream",
     "text": [
      "\u001b[32m[I 2023-05-10 19:04:40,489]\u001b[0m Trial 83 finished with value: 0.8942126071063656 and parameters: {'C': 2.478729932708878}. Best is trial 51 with value: 0.8950020652622883.\u001b[0m\n"
     ]
    },
    {
     "name": "stdout",
     "output_type": "stream",
     "text": [
      "Overall accuracy: 0.895\n",
      "\n"
     ]
    },
    {
     "name": "stderr",
     "output_type": "stream",
     "text": [
      "\u001b[32m[I 2023-05-10 19:04:41,410]\u001b[0m Trial 84 finished with value: 0.8922339916544026 and parameters: {'C': 3.629222933378026}. Best is trial 51 with value: 0.8950020652622883.\u001b[0m\n"
     ]
    },
    {
     "name": "stdout",
     "output_type": "stream",
     "text": [
      "Overall accuracy: 0.893\n",
      "\n"
     ]
    },
    {
     "name": "stderr",
     "output_type": "stream",
     "text": [
      "\u001b[32m[I 2023-05-10 19:04:42,452]\u001b[0m Trial 85 finished with value: 0.8793628861664329 and parameters: {'C': 0.31745769493922854}. Best is trial 51 with value: 0.8950020652622883.\u001b[0m\n"
     ]
    },
    {
     "name": "stdout",
     "output_type": "stream",
     "text": [
      "Overall accuracy: 0.880\n",
      "\n"
     ]
    },
    {
     "name": "stderr",
     "output_type": "stream",
     "text": [
      "\u001b[32m[I 2023-05-10 19:04:43,551]\u001b[0m Trial 86 finished with value: 0.8817278344375792 and parameters: {'C': 48.65252621157436}. Best is trial 51 with value: 0.8950020652622883.\u001b[0m\n"
     ]
    },
    {
     "name": "stdout",
     "output_type": "stream",
     "text": [
      "Overall accuracy: 0.882\n",
      "\n"
     ]
    },
    {
     "name": "stderr",
     "output_type": "stream",
     "text": [
      "\u001b[32m[I 2023-05-10 19:04:44,480]\u001b[0m Trial 87 finished with value: 0.8843907505274009 and parameters: {'C': 13.840823109442118}. Best is trial 51 with value: 0.8950020652622883.\u001b[0m\n"
     ]
    },
    {
     "name": "stdout",
     "output_type": "stream",
     "text": [
      "Overall accuracy: 0.885\n",
      "\n"
     ]
    },
    {
     "name": "stderr",
     "output_type": "stream",
     "text": [
      "\u001b[32m[I 2023-05-10 19:04:46,035]\u001b[0m Trial 88 finished with value: 0.8656974827765436 and parameters: {'C': 0.08180621659962556}. Best is trial 51 with value: 0.8950020652622883.\u001b[0m\n"
     ]
    },
    {
     "name": "stdout",
     "output_type": "stream",
     "text": [
      "Overall accuracy: 0.867\n",
      "\n"
     ]
    },
    {
     "name": "stderr",
     "output_type": "stream",
     "text": [
      "\u001b[32m[I 2023-05-10 19:04:46,928]\u001b[0m Trial 89 finished with value: 0.8914643179920814 and parameters: {'C': 3.972181332405099}. Best is trial 51 with value: 0.8950020652622883.\u001b[0m\n"
     ]
    },
    {
     "name": "stdout",
     "output_type": "stream",
     "text": [
      "Overall accuracy: 0.892\n",
      "\n"
     ]
    },
    {
     "name": "stderr",
     "output_type": "stream",
     "text": [
      "\u001b[32m[I 2023-05-10 19:04:47,957]\u001b[0m Trial 90 finished with value: 0.8805665068743269 and parameters: {'C': 55.89810315687224}. Best is trial 51 with value: 0.8950020652622883.\u001b[0m\n"
     ]
    },
    {
     "name": "stdout",
     "output_type": "stream",
     "text": [
      "Overall accuracy: 0.881\n",
      "\n"
     ]
    },
    {
     "name": "stderr",
     "output_type": "stream",
     "text": [
      "\u001b[32m[I 2023-05-10 19:04:49,029]\u001b[0m Trial 91 finished with value: 0.8946024753543058 and parameters: {'C': 2.523788884484495}. Best is trial 51 with value: 0.8950020652622883.\u001b[0m\n"
     ]
    },
    {
     "name": "stdout",
     "output_type": "stream",
     "text": [
      "Overall accuracy: 0.895\n",
      "\n"
     ]
    },
    {
     "name": "stderr",
     "output_type": "stream",
     "text": [
      "\u001b[32m[I 2023-05-10 19:04:50,093]\u001b[0m Trial 92 finished with value: 0.8829694507886006 and parameters: {'C': 0.40108570037800856}. Best is trial 51 with value: 0.8950020652622883.\u001b[0m\n"
     ]
    },
    {
     "name": "stdout",
     "output_type": "stream",
     "text": [
      "Overall accuracy: 0.884\n",
      "\n"
     ]
    },
    {
     "name": "stderr",
     "output_type": "stream",
     "text": [
      "\u001b[32m[I 2023-05-10 19:04:51,033]\u001b[0m Trial 93 finished with value: 0.8938030859938161 and parameters: {'C': 2.2961322327963596}. Best is trial 51 with value: 0.8950020652622883.\u001b[0m\n"
     ]
    },
    {
     "name": "stdout",
     "output_type": "stream",
     "text": [
      "Overall accuracy: 0.894\n",
      "\n"
     ]
    },
    {
     "name": "stderr",
     "output_type": "stream",
     "text": [
      "\u001b[32m[I 2023-05-10 19:04:52,012]\u001b[0m Trial 94 finished with value: 0.891103136563439 and parameters: {'C': 9.352075435326903}. Best is trial 51 with value: 0.8950020652622883.\u001b[0m\n"
     ]
    },
    {
     "name": "stdout",
     "output_type": "stream",
     "text": [
      "Overall accuracy: 0.891\n",
      "\n"
     ]
    },
    {
     "name": "stderr",
     "output_type": "stream",
     "text": [
      "\u001b[32m[I 2023-05-10 19:04:52,950]\u001b[0m Trial 95 finished with value: 0.8853670809860316 and parameters: {'C': 0.5035184978954655}. Best is trial 51 with value: 0.8950020652622883.\u001b[0m\n"
     ]
    },
    {
     "name": "stdout",
     "output_type": "stream",
     "text": [
      "Overall accuracy: 0.886\n",
      "\n"
     ]
    },
    {
     "name": "stderr",
     "output_type": "stream",
     "text": [
      "\u001b[32m[I 2023-05-10 19:04:53,896]\u001b[0m Trial 96 finished with value: 0.8942126071063656 and parameters: {'C': 2.4668985839642232}. Best is trial 51 with value: 0.8950020652622883.\u001b[0m\n"
     ]
    },
    {
     "name": "stdout",
     "output_type": "stream",
     "text": [
      "Overall accuracy: 0.895\n",
      "\n"
     ]
    },
    {
     "name": "stderr",
     "output_type": "stream",
     "text": [
      "\u001b[32m[I 2023-05-10 19:04:54,985]\u001b[0m Trial 97 finished with value: 0.8640300917086403 and parameters: {'C': 216.61937085192733}. Best is trial 51 with value: 0.8950020652622883.\u001b[0m\n"
     ]
    },
    {
     "name": "stdout",
     "output_type": "stream",
     "text": [
      "Overall accuracy: 0.864\n",
      "\n"
     ]
    },
    {
     "name": "stderr",
     "output_type": "stream",
     "text": [
      "\u001b[32m[I 2023-05-10 19:04:56,011]\u001b[0m Trial 98 finished with value: 0.8953919699209403 and parameters: {'C': 2.8945067227904238}. Best is trial 98 with value: 0.8953919699209403.\u001b[0m\n"
     ]
    },
    {
     "name": "stdout",
     "output_type": "stream",
     "text": [
      "Overall accuracy: 0.896\n",
      "\n"
     ]
    },
    {
     "name": "stderr",
     "output_type": "stream",
     "text": [
      "\u001b[32m[I 2023-05-10 19:04:57,334]\u001b[0m Trial 99 finished with value: 0.8697600493851538 and parameters: {'C': 0.14410689022459383}. Best is trial 98 with value: 0.8953919699209403.\u001b[0m\n"
     ]
    },
    {
     "name": "stdout",
     "output_type": "stream",
     "text": [
      "Overall accuracy: 0.871\n",
      "\n",
      "Accuracy: 0.8953919699209403\n",
      "Best hyperparameters: {'C': 2.8945067227904238}\n",
      "\n",
      "\n",
      "\n",
      "Model :- LGBMClassifier, DataType :- Combine\n"
     ]
    },
    {
     "name": "stderr",
     "output_type": "stream",
     "text": [
      "\u001b[32m[I 2023-05-10 19:04:57,588]\u001b[0m A new study created in memory with name: no-name-9ec7da4a-e522-440e-8395-5defc0589031\u001b[0m\n",
      "\u001b[32m[I 2023-05-10 19:05:31,182]\u001b[0m Trial 0 finished with value: 0.9069162669685504 and parameters: {'n_estimators': 134, 'max_depth': 49, 'num_leaves': 33}. Best is trial 0 with value: 0.9069162669685504.\u001b[0m\n"
     ]
    },
    {
     "name": "stdout",
     "output_type": "stream",
     "text": [
      "Overall accuracy: 0.907\n",
      "\n"
     ]
    },
    {
     "name": "stderr",
     "output_type": "stream",
     "text": [
      "\u001b[32m[I 2023-05-10 19:06:20,003]\u001b[0m Trial 1 finished with value: 0.9065026222391143 and parameters: {'n_estimators': 200, 'max_depth': 7, 'num_leaves': 43}. Best is trial 0 with value: 0.9069162669685504.\u001b[0m\n"
     ]
    },
    {
     "name": "stdout",
     "output_type": "stream",
     "text": [
      "Overall accuracy: 0.907\n",
      "\n"
     ]
    },
    {
     "name": "stderr",
     "output_type": "stream",
     "text": [
      "\u001b[32m[I 2023-05-10 19:07:17,776]\u001b[0m Trial 2 finished with value: 0.9021831957974598 and parameters: {'n_estimators': 126, 'max_depth': 51, 'num_leaves': 61}. Best is trial 0 with value: 0.9069162669685504.\u001b[0m\n"
     ]
    },
    {
     "name": "stdout",
     "output_type": "stream",
     "text": [
      "Overall accuracy: 0.902\n",
      "\n"
     ]
    },
    {
     "name": "stderr",
     "output_type": "stream",
     "text": [
      "\u001b[32m[I 2023-05-10 19:07:55,281]\u001b[0m Trial 3 finished with value: 0.9088992783488361 and parameters: {'n_estimators': 236, 'max_depth': 36, 'num_leaves': 17}. Best is trial 3 with value: 0.9088992783488361.\u001b[0m\n"
     ]
    },
    {
     "name": "stdout",
     "output_type": "stream",
     "text": [
      "Overall accuracy: 0.909\n",
      "\n"
     ]
    },
    {
     "name": "stderr",
     "output_type": "stream",
     "text": [
      "\u001b[32m[I 2023-05-10 19:09:12,847]\u001b[0m Trial 4 finished with value: 0.9029397521543696 and parameters: {'n_estimators': 233, 'max_depth': 57, 'num_leaves': 56}. Best is trial 3 with value: 0.9088992783488361.\u001b[0m\n"
     ]
    },
    {
     "name": "stdout",
     "output_type": "stream",
     "text": [
      "Overall accuracy: 0.903\n",
      "\n"
     ]
    }
   ],
   "source": [
    "f1 = {}\n",
    "for feat_type in X_data.keys():\n",
    "    m = sel_model[feat_type]\n",
    "    print(f\"Model :- {m}, DataType :- {feat_type}\")\n",
    "    \n",
    "    #Data handling\n",
    "    X,y = X_data[feat_type],train_data.targets\n",
    "    X,y = shuffle(X,y,random_state=config[\"random_seed\"])\n",
    "    X = data_pipelines[feat_type].fit_transform(X,y)\n",
    "    \n",
    "    def objective(trial):\n",
    "        clf = ObjectiveFunctions(m).objective_func(trial)\n",
    "        \n",
    "        y_pred = cross_val_predict(clf, X, y, cv=5)\n",
    "    \n",
    "        result_values = action_evaluator(y_pred,y,class_names=[\"Not Druggable\",\"Druggable\"],print_report=False,show_plot=False,save_outputs=None)\n",
    "\n",
    "        return  result_values[\"f1\"]\n",
    "    \n",
    "    study = optuna.create_study(direction='maximize')\n",
    "    study.optimize(objective, n_trials=100)\n",
    "    \n",
    "    print('Accuracy: {}'.format(study.best_trial.value))\n",
    "    print(\"Best hyperparameters: {}\".format(study.best_trial.params))\n",
    "    \n",
    "    f1[feat_type] = study.best_trial.value\n",
    "    \n",
    "    params = study.best_trial.params\n",
    "    \n",
    "    os.makedirs(os.path.join(config[\"model_save_loc\"],feat_type,m),exist_ok=True)\n",
    "    model_dir = os.path.join(config[\"model_save_loc\"],feat_type,m)\n",
    "    \n",
    "    with open(os.path.join(model_dir,\"best_params.json\"),\"w\") as f0:\n",
    "        json.dump(params,f0)\n",
    "    \n",
    "    if m == 'RandomForest':\n",
    "        clf = RandomForestClassifier(**params)\n",
    "    elif m == 'SVC':\n",
    "        clf = SVC(**params)\n",
    "    else:\n",
    "        clf = LGBMClassifier(**params)\n",
    "        \n",
    "    clf.fit(X,y)\n",
    "    \n",
    "    \n",
    "    joblib.dump(study, os.path.join(model_dir,\"study.sav\"))\n",
    "    joblib.dump(data_pipelines[feat_type], os.path.join(model_dir,\"pipeline.sav\"))\n",
    "    joblib.dump(clf, os.path.join(model_dir,\"model_save.sav\"))\n",
    "    print(\"\\n\\n\")\n",
    "    \n",
    "with open(os.path.join(config[\"artifact_dir\"],\"f1_best_model.json\"),\"w\") as f0:\n",
    "    json.dump(f1,f0)"
   ]
  }
 ],
 "metadata": {
  "kernelspec": {
   "display_name": "Python 3 (ipykernel)",
   "language": "python",
   "name": "python3"
  },
  "language_info": {
   "codemirror_mode": {
    "name": "ipython",
    "version": 3
   },
   "file_extension": ".py",
   "mimetype": "text/x-python",
   "name": "python",
   "nbconvert_exporter": "python",
   "pygments_lexer": "ipython3",
   "version": "3.9.7"
  }
 },
 "nbformat": 4,
 "nbformat_minor": 4
}
