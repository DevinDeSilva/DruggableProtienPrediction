{
 "cells": [
  {
   "cell_type": "code",
   "execution_count": 1,
   "metadata": {},
   "outputs": [
    {
     "name": "stderr",
     "output_type": "stream",
     "text": [
      "d:\\Academic_PC\\Sem 8\\DruggableProtienPrediction\\venv\\lib\\site-packages\\tqdm\\auto.py:21: TqdmWarning: IProgress not found. Please update jupyter and ipywidgets. See https://ipywidgets.readthedocs.io/en/stable/user_install.html\n",
      "  from .autonotebook import tqdm as notebook_tqdm\n"
     ]
    }
   ],
   "source": [
    "import utils.feature_extractors as utils\n",
    "from utils.evaluation import action_evaluator\n",
    "import numpy as np\n",
    "import os\n",
    "import json\n",
    "from sklearn.pipeline import make_pipeline\n",
    "from sklearn.utils import shuffle\n",
    "from sklearn.preprocessing import StandardScaler\n",
    "from sklearn.linear_model import RidgeClassifier\n",
    "from sklearn.decomposition import PCA\n",
    "from sklearn.model_selection import cross_val_predict\n",
    "from sklearn.neighbors import KNeighborsClassifier\n",
    "from sklearn.ensemble import RandomForestClassifier\n",
    "import matplotlib.pyplot as plt\n",
    "from xgboost import XGBClassifier\n",
    "from lightgbm import LGBMClassifier\n",
    "from itertools import product\n",
    "from sklearn.svm import SVC\n",
    "import optuna\n",
    "import joblib"
   ]
  },
  {
   "cell_type": "code",
   "execution_count": 2,
   "metadata": {},
   "outputs": [],
   "source": [
    "config = {\n",
    "    \"train_pos_loc\":\"data/TR_pos_SPIDER.txt\",\n",
    "    \"train_neg_loc\":\"data/TR_neg_SPIDER.txt\",\n",
    "    \"test_pos_loc\":\"data/TS_pos_SPIDER.txt\",\n",
    "    \"test_neg_loc\":\"data/TS_neg_SPIDER.txt\",\n",
    "    \"model_save_loc\":\"optimized\",\n",
    "    \"artifact_dir\":\"artifacts\",\n",
    "    \"random_seed\":9\n",
    "}"
   ]
  },
  {
   "cell_type": "code",
   "execution_count": 3,
   "metadata": {},
   "outputs": [],
   "source": [
    "class SpiderDataGenerator(object):\n",
    "    ALL_FEAT = [\"AAC\",\"DPC\",\"CTD\",\n",
    "                \"PAAC\",\"APAAC\",\"RSacid\",\n",
    "                \"RSpolar\",\"RSsecond\",\"RScharge\",\n",
    "                \"RSDHP\"]\n",
    "    def __init__(self, pos_data_file, neg_data_file,feat_type=None) -> None:\n",
    "        super(SpiderDataGenerator).__init__()\n",
    "        self.pos_data_file = pos_data_file\n",
    "        self.neg_data_file = neg_data_file\n",
    "        \n",
    "        assert feat_type in SpiderDataGenerator.ALL_FEAT or feat_type == None\n",
    "        \n",
    "        self.feat_type = feat_type\n",
    "        \n",
    "        self.pos_data = utils.read_fasta(self.pos_data_file)\n",
    "        self.neg_data = utils.read_fasta(self.neg_data_file)\n",
    "        \n",
    "        self.data = self.pos_data+self.neg_data\n",
    "        self.targets = np.array([True]*len(self.pos_data)+[False]*len(self.neg_data))\n",
    "        \n",
    "        self.raw = [x[1] for x in self.data]\n",
    "        \n",
    "        self.feat_AAC = utils.AAC(self.data)[0]\n",
    "        print(\"Generating AAC Feature .....\")\n",
    "        self.feat_DPC = utils.DPC(self.data,0)[0]\n",
    "        print(\"Generating DPC Feature .....\")\n",
    "        self.feat_CTD = np.hstack((utils.CTDC(self.data)[0], \n",
    "                              utils.CTDD(self.data)[0], \n",
    "                              utils.CTDT(self.data)[0]))\n",
    "        print(\"Generating CTD Feature .....\")\n",
    "        self.feat_PAAC = utils.PAAC(self.data,1)[0]\n",
    "        print(\"Generating PAAC Feature .....\")\n",
    "        self.feat_APAAC = utils.APAAC(self.data,1)[0]\n",
    "        print(\"Generating APAAC Feature .....\")\n",
    "        self.feat_RSacid = utils.reducedACID(self.data) \n",
    "        print(\"Generating reducedACID Feature .....\")\n",
    "        self.feat_RSpolar = utils.reducedPOLAR(self.data)\n",
    "        print(\"Generating reducedPOLAR Feature .....\")\n",
    "        self.feat_RSsecond = utils.reducedSECOND(self.data)\n",
    "        print(\"Generating reducedSECOND Feature .....\")\n",
    "        self.feat_RScharge = utils.reducedCHARGE(self.data)\n",
    "        print(\"Generating reducedCHARGE Feature .....\")\n",
    "        self.feat_RSDHP = utils.reducedDHP(self.data)\n",
    "        print(\"Generating reducedDHP Feature .....\")\n",
    "        \n",
    "        \n",
    "        \n",
    "    \n",
    "    def get_combination_feature(self,selected:list = None):\n",
    "        \n",
    "        all_feat =[self.feat_AAC,self.feat_DPC,self.feat_CTD,\n",
    "                   self.feat_PAAC,self.feat_APAAC,self.feat_RSacid,\n",
    "                   self.feat_RSpolar,self.feat_RSsecond,self.feat_RScharge,\n",
    "                   self.feat_RSDHP]\n",
    "        \n",
    "        if selected:\n",
    "            select_index = sorted([SpiderDataGenerator.ALL_FEAT.index(x) for x in selected])\n",
    "            all_feat = [all_feat[x] for x in select_index]\n",
    "            \n",
    "        return np.concatenate(all_feat,axis=-1)\n",
    "        \n",
    "        \n",
    "        \n",
    "            \n",
    "    def __len__(self) -> int:\n",
    "        return len(self.data)"
   ]
  },
  {
   "cell_type": "code",
   "execution_count": 4,
   "metadata": {},
   "outputs": [
    {
     "name": "stdout",
     "output_type": "stream",
     "text": [
      "Generating AAC Feature .....\n",
      "Generating DPC Feature .....\n",
      "Generating CTD Feature .....\n",
      "Generating PAAC Feature .....\n",
      "Generating APAAC Feature .....\n",
      "Generating reducedACID Feature .....\n",
      "Generating reducedPOLAR Feature .....\n",
      "Generating reducedSECOND Feature .....\n",
      "Generating reducedCHARGE Feature .....\n",
      "Generating reducedDHP Feature .....\n"
     ]
    }
   ],
   "source": [
    "train_data = SpiderDataGenerator(pos_data_file=config[\"train_pos_loc\"],neg_data_file=config[\"train_neg_loc\"])"
   ]
  },
  {
   "cell_type": "code",
   "execution_count": 5,
   "metadata": {},
   "outputs": [],
   "source": [
    "X_data = {\n",
    "    \"AAC\":train_data.feat_AAC,\n",
    "    \"DPC\":train_data.feat_DPC,\n",
    "    \"CTD\":train_data.feat_CTD,\n",
    "    \"PAAC\":train_data.feat_PAAC,\n",
    "    \"APAAC\":train_data.feat_APAAC,\n",
    "    \"RSacid\":train_data.feat_RSacid,\n",
    "    \"RSpolar\":train_data.feat_RSpolar,\n",
    "    \"RSsecond\":train_data.feat_RSsecond,\n",
    "    \"RScharge\":train_data.feat_RScharge,\n",
    "    \"RSDHP\":train_data.feat_RSDHP,\n",
    "    \"Combine\":train_data.get_combination_feature(),\n",
    "    \"DPC_RSDHP_RSacid_RSpolar_RSsecond_RScharge\":train_data.get_combination_feature([\"DPC\",\"RSDHP\",\"RSacid\",\"RSpolar\",\"RSsecond\",\"RScharge\"]),\n",
    "}\n",
    "data_pipelines = {\n",
    "    \"AAC\":make_pipeline(StandardScaler()),\n",
    "    \"DPC\":make_pipeline(StandardScaler()),\n",
    "    \"CTD\":make_pipeline(StandardScaler()),\n",
    "    \"PAAC\":make_pipeline(StandardScaler()),\n",
    "    \"APAAC\":make_pipeline(StandardScaler()),\n",
    "    \"RSacid\":make_pipeline(StandardScaler()),\n",
    "    \"RSpolar\":make_pipeline(StandardScaler()),\n",
    "    \"RSsecond\":make_pipeline(StandardScaler()),\n",
    "    \"RScharge\":make_pipeline(StandardScaler()),\n",
    "    \"RSDHP\":make_pipeline(StandardScaler()),\n",
    "    \"Combine\":make_pipeline(StandardScaler()),\n",
    "    \"DPC_RSDHP_RSacid_RSpolar_RSsecond_RScharge\":make_pipeline(StandardScaler()),\n",
    "    }\n",
    "\n",
    "sel_model = {\n",
    "    \"AAC\":\"SVC\",\n",
    "    \"DPC\":\"SVC\",\n",
    "    \"CTD\":\"LGBMClassifier\",\n",
    "    \"PAAC\":\"RandomForest\",\n",
    "    \"APAAC\":\"SVC\",\n",
    "    \"RSacid\":\"SVC\",\n",
    "    \"RSpolar\":\"SVC\",\n",
    "    \"RSsecond\":\"SVC\",\n",
    "    \"RScharge\":\"SVC\",\n",
    "    \"RSDHP\":\"SVC\",\n",
    "    \"Combine\":\"LGBMClassifier\",\n",
    "    \"DPC_RSDHP_RSacid_RSpolar_RSsecond_RScharge\":\"SVC\",\n",
    "}"
   ]
  },
  {
   "cell_type": "code",
   "execution_count": 6,
   "metadata": {},
   "outputs": [],
   "source": [
    "#np.unique(train_data.targets,return_counts=True),0.518,0.482"
   ]
  },
  {
   "attachments": {},
   "cell_type": "markdown",
   "metadata": {},
   "source": [
    "## Hyperparameter Optimization"
   ]
  },
  {
   "cell_type": "code",
   "execution_count": 7,
   "metadata": {},
   "outputs": [],
   "source": [
    "class ObjectiveFunctions(object):\n",
    "    SEL_MODEL = ['RandomForest', 'SVC',\"LGBMClassifier\"]\n",
    "    def __init__(self,model_name) -> None:\n",
    "        assert model_name in ObjectiveFunctions.SEL_MODEL\n",
    "        self.m = model_name\n",
    "    \n",
    "    @staticmethod\n",
    "    def obj_func_RF(trial:optuna.trial):\n",
    "        n_estimators = trial.suggest_int('n_estimators', 2, 300)\n",
    "        max_depth = trial.suggest_int('max_depth', 1, 64)\n",
    "        criterion = trial.suggest_categorical(\"criterion\",['gini', 'entropy', 'log_loss'])\n",
    "        \n",
    "        clf = RandomForestClassifier(\n",
    "            n_estimators=n_estimators, \n",
    "            max_depth=max_depth,\n",
    "            criterion=criterion,\n",
    "            class_weight={1:0.482,0:0.518},\n",
    "            )\n",
    "        \n",
    "        return clf\n",
    "    \n",
    "    @staticmethod\n",
    "    def obj_func_SVC(trial:optuna.trial):\n",
    "        c = trial.suggest_float('C', 1e-10, 1e10, log=True)\n",
    "        kernel = 'rbf' #trial.suggest_categorical(\"kernel\",['linear', 'poly', 'rbf', 'sigmoid'])\n",
    "        gamma = 'auto'#trial.suggest_categorical(\"gamma\",['scale', 'auto'])\n",
    "        \n",
    "        \n",
    "        clf = SVC(\n",
    "            C=c, \n",
    "            kernel=kernel,\n",
    "            class_weight={1:0.482,0:0.518},\n",
    "            probability=True,\n",
    "            gamma=gamma)\n",
    "        \n",
    "        return clf\n",
    "    \n",
    "    @staticmethod\n",
    "    def obj_func_LGBM(trial:optuna.trial):\n",
    "        n_estimators = trial.suggest_int('n_estimators', 2, 300)\n",
    "        max_depth = trial.suggest_int('max_depth', 1, 64)\n",
    "        num_leaves = trial.suggest_int('num_leaves', 10, 64)\n",
    "        \n",
    "        clf = LGBMClassifier(\n",
    "            n_estimators=n_estimators,\n",
    "            num_leaves=num_leaves,\n",
    "            class_weight={1:0.482,0:0.518},\n",
    "            max_depth=max_depth)\n",
    "        \n",
    "        return clf\n",
    "    \n",
    "    def objective_func(self,trial:optuna.trial):\n",
    "        if self.m == 'RandomForest':\n",
    "            return ObjectiveFunctions.obj_func_RF(trial)\n",
    "        elif self.m == 'SVC':\n",
    "            return ObjectiveFunctions.obj_func_SVC(trial)\n",
    "        else:\n",
    "            return ObjectiveFunctions.obj_func_LGBM(trial)"
   ]
  },
  {
   "cell_type": "code",
   "execution_count": 8,
   "metadata": {
    "tags": []
   },
   "outputs": [
    {
     "name": "stderr",
     "output_type": "stream",
     "text": [
      "\u001b[32m[I 2023-05-11 17:54:06,585]\u001b[0m A new study created in memory with name: no-name-67180de6-32b9-4f26-8319-448e6e442f98\u001b[0m\n"
     ]
    },
    {
     "name": "stdout",
     "output_type": "stream",
     "text": [
      "Model :- SVC, DataType :- DPC_RSDHP_RSacid_RSpolar_RSsecond_RScharge\n"
     ]
    },
    {
     "name": "stderr",
     "output_type": "stream",
     "text": [
      "\u001b[32m[I 2023-05-11 17:54:21,271]\u001b[0m Trial 0 finished with value: 0.8955224135232891 and parameters: {'C': 1585491.1933597382}. Best is trial 0 with value: 0.8955224135232891.\u001b[0m\n"
     ]
    },
    {
     "name": "stdout",
     "output_type": "stream",
     "text": [
      "Overall accuracy: 0.896\n",
      "\n"
     ]
    },
    {
     "name": "stderr",
     "output_type": "stream",
     "text": [
      "\u001b[32m[I 2023-05-11 17:54:48,251]\u001b[0m Trial 1 finished with value: 0.8196690961055835 and parameters: {'C': 0.026086346788530692}. Best is trial 0 with value: 0.8955224135232891.\u001b[0m\n"
     ]
    },
    {
     "name": "stdout",
     "output_type": "stream",
     "text": [
      "Overall accuracy: 0.823\n",
      "\n"
     ]
    },
    {
     "name": "stderr",
     "output_type": "stream",
     "text": [
      "\u001b[32m[I 2023-05-11 17:55:14,687]\u001b[0m Trial 2 finished with value: 0.3416213416213416 and parameters: {'C': 1.0969451439993489e-09}. Best is trial 0 with value: 0.8955224135232891.\u001b[0m\n"
     ]
    },
    {
     "name": "stdout",
     "output_type": "stream",
     "text": [
      "Overall accuracy: 0.519\n",
      "\n"
     ]
    },
    {
     "name": "stderr",
     "output_type": "stream",
     "text": [
      "\u001b[32m[I 2023-05-11 17:55:40,621]\u001b[0m Trial 3 finished with value: 0.3416213416213416 and parameters: {'C': 1.1955881364520218e-10}. Best is trial 0 with value: 0.8955224135232891.\u001b[0m\n"
     ]
    },
    {
     "name": "stdout",
     "output_type": "stream",
     "text": [
      "Overall accuracy: 0.519\n",
      "\n"
     ]
    },
    {
     "name": "stderr",
     "output_type": "stream",
     "text": [
      "\u001b[32m[I 2023-05-11 17:55:55,197]\u001b[0m Trial 4 finished with value: 0.8955224135232891 and parameters: {'C': 65829875.00930995}. Best is trial 0 with value: 0.8955224135232891.\u001b[0m\n"
     ]
    },
    {
     "name": "stdout",
     "output_type": "stream",
     "text": [
      "Overall accuracy: 0.896\n",
      "\n"
     ]
    },
    {
     "name": "stderr",
     "output_type": "stream",
     "text": [
      "\u001b[32m[I 2023-05-11 17:56:09,570]\u001b[0m Trial 5 finished with value: 0.8955224135232891 and parameters: {'C': 2865.3940488024905}. Best is trial 0 with value: 0.8955224135232891.\u001b[0m\n"
     ]
    },
    {
     "name": "stdout",
     "output_type": "stream",
     "text": [
      "Overall accuracy: 0.896\n",
      "\n"
     ]
    },
    {
     "name": "stderr",
     "output_type": "stream",
     "text": [
      "\u001b[32m[I 2023-05-11 17:56:35,620]\u001b[0m Trial 6 finished with value: 0.3416213416213416 and parameters: {'C': 9.755902510436209e-05}. Best is trial 0 with value: 0.8955224135232891.\u001b[0m\n"
     ]
    },
    {
     "name": "stdout",
     "output_type": "stream",
     "text": [
      "Overall accuracy: 0.519\n",
      "\n"
     ]
    },
    {
     "name": "stderr",
     "output_type": "stream",
     "text": [
      "\u001b[32m[I 2023-05-11 17:56:49,919]\u001b[0m Trial 7 finished with value: 0.8955224135232891 and parameters: {'C': 8438427768.2808895}. Best is trial 0 with value: 0.8955224135232891.\u001b[0m\n"
     ]
    },
    {
     "name": "stdout",
     "output_type": "stream",
     "text": [
      "Overall accuracy: 0.896\n",
      "\n"
     ]
    },
    {
     "name": "stderr",
     "output_type": "stream",
     "text": [
      "\u001b[32m[I 2023-05-11 17:57:04,031]\u001b[0m Trial 8 finished with value: 0.8955224135232891 and parameters: {'C': 422321017.3352552}. Best is trial 0 with value: 0.8955224135232891.\u001b[0m\n"
     ]
    },
    {
     "name": "stdout",
     "output_type": "stream",
     "text": [
      "Overall accuracy: 0.896\n",
      "\n"
     ]
    },
    {
     "name": "stderr",
     "output_type": "stream",
     "text": [
      "\u001b[32m[I 2023-05-11 17:57:30,059]\u001b[0m Trial 9 finished with value: 0.3416213416213416 and parameters: {'C': 1.1628807701615371e-09}. Best is trial 0 with value: 0.8955224135232891.\u001b[0m\n"
     ]
    },
    {
     "name": "stdout",
     "output_type": "stream",
     "text": [
      "Overall accuracy: 0.519\n",
      "\n"
     ]
    },
    {
     "name": "stderr",
     "output_type": "stream",
     "text": [
      "\u001b[32m[I 2023-05-11 17:57:44,789]\u001b[0m Trial 10 finished with value: 0.8955224135232891 and parameters: {'C': 14887.244659654873}. Best is trial 0 with value: 0.8955224135232891.\u001b[0m\n"
     ]
    },
    {
     "name": "stdout",
     "output_type": "stream",
     "text": [
      "Overall accuracy: 0.896\n",
      "\n"
     ]
    },
    {
     "name": "stderr",
     "output_type": "stream",
     "text": [
      "\u001b[32m[I 2023-05-11 17:57:58,833]\u001b[0m Trial 11 finished with value: 0.8955224135232891 and parameters: {'C': 1427247.8384552035}. Best is trial 0 with value: 0.8955224135232891.\u001b[0m\n"
     ]
    },
    {
     "name": "stdout",
     "output_type": "stream",
     "text": [
      "Overall accuracy: 0.896\n",
      "\n"
     ]
    },
    {
     "name": "stderr",
     "output_type": "stream",
     "text": [
      "\u001b[32m[I 2023-05-11 17:58:12,839]\u001b[0m Trial 12 finished with value: 0.8955224135232891 and parameters: {'C': 2711115.1339881937}. Best is trial 0 with value: 0.8955224135232891.\u001b[0m\n"
     ]
    },
    {
     "name": "stdout",
     "output_type": "stream",
     "text": [
      "Overall accuracy: 0.896\n",
      "\n"
     ]
    },
    {
     "name": "stderr",
     "output_type": "stream",
     "text": [
      "\u001b[32m[I 2023-05-11 17:58:26,978]\u001b[0m Trial 13 finished with value: 0.8955224135232891 and parameters: {'C': 508.53253711485706}. Best is trial 0 with value: 0.8955224135232891.\u001b[0m\n"
     ]
    },
    {
     "name": "stdout",
     "output_type": "stream",
     "text": [
      "Overall accuracy: 0.896\n",
      "\n"
     ]
    },
    {
     "name": "stderr",
     "output_type": "stream",
     "text": [
      "\u001b[32m[I 2023-05-11 17:58:41,095]\u001b[0m Trial 14 finished with value: 0.8955224135232891 and parameters: {'C': 73051742.05619816}. Best is trial 0 with value: 0.8955224135232891.\u001b[0m\n"
     ]
    },
    {
     "name": "stdout",
     "output_type": "stream",
     "text": [
      "Overall accuracy: 0.896\n",
      "\n"
     ]
    },
    {
     "name": "stderr",
     "output_type": "stream",
     "text": [
      "\u001b[32m[I 2023-05-11 17:58:55,252]\u001b[0m Trial 15 finished with value: 0.8955224135232891 and parameters: {'C': 8116564033.157648}. Best is trial 0 with value: 0.8955224135232891.\u001b[0m\n"
     ]
    },
    {
     "name": "stdout",
     "output_type": "stream",
     "text": [
      "Overall accuracy: 0.896\n",
      "\n"
     ]
    },
    {
     "name": "stderr",
     "output_type": "stream",
     "text": [
      "\u001b[32m[I 2023-05-11 17:59:09,374]\u001b[0m Trial 16 finished with value: 0.8955224135232891 and parameters: {'C': 555997.9516793081}. Best is trial 0 with value: 0.8955224135232891.\u001b[0m\n"
     ]
    },
    {
     "name": "stdout",
     "output_type": "stream",
     "text": [
      "Overall accuracy: 0.896\n",
      "\n"
     ]
    },
    {
     "name": "stderr",
     "output_type": "stream",
     "text": [
      "\u001b[32m[I 2023-05-11 17:59:23,632]\u001b[0m Trial 17 finished with value: 0.8955224135232891 and parameters: {'C': 1692.5374259150055}. Best is trial 0 with value: 0.8955224135232891.\u001b[0m\n"
     ]
    },
    {
     "name": "stdout",
     "output_type": "stream",
     "text": [
      "Overall accuracy: 0.896\n",
      "\n"
     ]
    },
    {
     "name": "stderr",
     "output_type": "stream",
     "text": [
      "\u001b[32m[I 2023-05-11 17:59:36,869]\u001b[0m Trial 18 finished with value: 0.9085012830895929 and parameters: {'C': 3.31454224544507}. Best is trial 18 with value: 0.9085012830895929.\u001b[0m\n"
     ]
    },
    {
     "name": "stdout",
     "output_type": "stream",
     "text": [
      "Overall accuracy: 0.909\n",
      "\n"
     ]
    },
    {
     "name": "stderr",
     "output_type": "stream",
     "text": [
      "\u001b[32m[I 2023-05-11 17:59:51,605]\u001b[0m Trial 19 finished with value: 0.8985113672817714 and parameters: {'C': 1.0986608303294274}. Best is trial 18 with value: 0.9085012830895929.\u001b[0m\n"
     ]
    },
    {
     "name": "stdout",
     "output_type": "stream",
     "text": [
      "Overall accuracy: 0.899\n",
      "\n"
     ]
    },
    {
     "name": "stderr",
     "output_type": "stream",
     "text": [
      "\u001b[32m[I 2023-05-11 18:00:08,425]\u001b[0m Trial 20 finished with value: 0.9077051121637323 and parameters: {'C': 4.882063298592072}. Best is trial 18 with value: 0.9085012830895929.\u001b[0m\n"
     ]
    },
    {
     "name": "stdout",
     "output_type": "stream",
     "text": [
      "Overall accuracy: 0.908\n",
      "\n"
     ]
    },
    {
     "name": "stderr",
     "output_type": "stream",
     "text": [
      "\u001b[32m[I 2023-05-11 18:00:30,428]\u001b[0m Trial 21 finished with value: 0.9013443864878292 and parameters: {'C': 1.5374526262394028}. Best is trial 18 with value: 0.9085012830895929.\u001b[0m\n"
     ]
    },
    {
     "name": "stdout",
     "output_type": "stream",
     "text": [
      "Overall accuracy: 0.902\n",
      "\n"
     ]
    },
    {
     "name": "stderr",
     "output_type": "stream",
     "text": [
      "\u001b[32m[I 2023-05-11 18:00:56,657]\u001b[0m Trial 22 finished with value: 0.9081032278204776 and parameters: {'C': 4.641478410588669}. Best is trial 18 with value: 0.9085012830895929.\u001b[0m\n"
     ]
    },
    {
     "name": "stdout",
     "output_type": "stream",
     "text": [
      "Overall accuracy: 0.908\n",
      "\n"
     ]
    },
    {
     "name": "stderr",
     "output_type": "stream",
     "text": [
      "\u001b[32m[I 2023-05-11 18:01:22,377]\u001b[0m Trial 23 finished with value: 0.8990669675234716 and parameters: {'C': 27.737924217494037}. Best is trial 18 with value: 0.9085012830895929.\u001b[0m\n"
     ]
    },
    {
     "name": "stdout",
     "output_type": "stream",
     "text": [
      "Overall accuracy: 0.899\n",
      "\n"
     ]
    },
    {
     "name": "stderr",
     "output_type": "stream",
     "text": [
      "\u001b[32m[I 2023-05-11 18:01:55,631]\u001b[0m Trial 24 finished with value: 0.34523561242707146 and parameters: {'C': 0.012447427075316186}. Best is trial 18 with value: 0.9085012830895929.\u001b[0m\n"
     ]
    },
    {
     "name": "stdout",
     "output_type": "stream",
     "text": [
      "Overall accuracy: 0.520\n",
      "\n"
     ]
    },
    {
     "name": "stderr",
     "output_type": "stream",
     "text": [
      "\u001b[32m[I 2023-05-11 18:02:09,902]\u001b[0m Trial 25 finished with value: 0.8986764538697559 and parameters: {'C': 28.338491929968914}. Best is trial 18 with value: 0.9085012830895929.\u001b[0m\n"
     ]
    },
    {
     "name": "stdout",
     "output_type": "stream",
     "text": [
      "Overall accuracy: 0.899\n",
      "\n"
     ]
    },
    {
     "name": "stderr",
     "output_type": "stream",
     "text": [
      "\u001b[32m[I 2023-05-11 18:02:37,101]\u001b[0m Trial 26 finished with value: 0.718211351999385 and parameters: {'C': 0.019955884634300026}. Best is trial 18 with value: 0.9085012830895929.\u001b[0m\n"
     ]
    },
    {
     "name": "stdout",
     "output_type": "stream",
     "text": [
      "Overall accuracy: 0.741\n",
      "\n"
     ]
    },
    {
     "name": "stderr",
     "output_type": "stream",
     "text": [
      "\u001b[32m[I 2023-05-11 18:02:51,778]\u001b[0m Trial 27 finished with value: 0.896318513664931 and parameters: {'C': 38.60622184919834}. Best is trial 18 with value: 0.9085012830895929.\u001b[0m\n"
     ]
    },
    {
     "name": "stdout",
     "output_type": "stream",
     "text": [
      "Overall accuracy: 0.897\n",
      "\n"
     ]
    },
    {
     "name": "stderr",
     "output_type": "stream",
     "text": [
      "\u001b[32m[I 2023-05-11 18:03:06,524]\u001b[0m Trial 28 finished with value: 0.8955224135232891 and parameters: {'C': 17393.671241726177}. Best is trial 18 with value: 0.9085012830895929.\u001b[0m\n"
     ]
    },
    {
     "name": "stdout",
     "output_type": "stream",
     "text": [
      "Overall accuracy: 0.896\n",
      "\n"
     ]
    },
    {
     "name": "stderr",
     "output_type": "stream",
     "text": [
      "\u001b[32m[I 2023-05-11 18:03:33,414]\u001b[0m Trial 29 finished with value: 0.3416213416213416 and parameters: {'C': 0.00016438307839215582}. Best is trial 18 with value: 0.9085012830895929.\u001b[0m\n"
     ]
    },
    {
     "name": "stdout",
     "output_type": "stream",
     "text": [
      "Overall accuracy: 0.519\n",
      "\n"
     ]
    },
    {
     "name": "stderr",
     "output_type": "stream",
     "text": [
      "\u001b[32m[I 2023-05-11 18:03:48,222]\u001b[0m Trial 30 finished with value: 0.895530061297364 and parameters: {'C': 138.44538132267232}. Best is trial 18 with value: 0.9085012830895929.\u001b[0m\n"
     ]
    },
    {
     "name": "stdout",
     "output_type": "stream",
     "text": [
      "Overall accuracy: 0.896\n",
      "\n"
     ]
    },
    {
     "name": "stderr",
     "output_type": "stream",
     "text": [
      "\u001b[32m[I 2023-05-11 18:04:02,729]\u001b[0m Trial 31 finished with value: 0.8981014156879781 and parameters: {'C': 1.0232953598017567}. Best is trial 18 with value: 0.9085012830895929.\u001b[0m\n"
     ]
    },
    {
     "name": "stdout",
     "output_type": "stream",
     "text": [
      "Overall accuracy: 0.899\n",
      "\n"
     ]
    },
    {
     "name": "stderr",
     "output_type": "stream",
     "text": [
      "\u001b[32m[I 2023-05-11 18:04:16,629]\u001b[0m Trial 32 finished with value: 0.8985014020855799 and parameters: {'C': 1.0245383570207462}. Best is trial 18 with value: 0.9085012830895929.\u001b[0m\n"
     ]
    },
    {
     "name": "stdout",
     "output_type": "stream",
     "text": [
      "Overall accuracy: 0.899\n",
      "\n"
     ]
    },
    {
     "name": "stderr",
     "output_type": "stream",
     "text": [
      "\u001b[32m[I 2023-05-11 18:04:32,387]\u001b[0m Trial 33 finished with value: 0.9065103990875341 and parameters: {'C': 6.7394886352888825}. Best is trial 18 with value: 0.9085012830895929.\u001b[0m\n"
     ]
    },
    {
     "name": "stdout",
     "output_type": "stream",
     "text": [
      "Overall accuracy: 0.907\n",
      "\n"
     ]
    },
    {
     "name": "stderr",
     "output_type": "stream",
     "text": [
      "\u001b[32m[I 2023-05-11 18:04:46,730]\u001b[0m Trial 34 finished with value: 0.9053681780954508 and parameters: {'C': 10.485876178010884}. Best is trial 18 with value: 0.9085012830895929.\u001b[0m\n"
     ]
    },
    {
     "name": "stdout",
     "output_type": "stream",
     "text": [
      "Overall accuracy: 0.906\n",
      "\n"
     ]
    },
    {
     "name": "stderr",
     "output_type": "stream",
     "text": [
      "\u001b[32m[I 2023-05-11 18:05:06,328]\u001b[0m Trial 35 finished with value: 0.8746453753145284 and parameters: {'C': 0.1687134734266284}. Best is trial 18 with value: 0.9085012830895929.\u001b[0m\n"
     ]
    },
    {
     "name": "stdout",
     "output_type": "stream",
     "text": [
      "Overall accuracy: 0.875\n",
      "\n"
     ]
    },
    {
     "name": "stderr",
     "output_type": "stream",
     "text": [
      "\u001b[32m[I 2023-05-11 18:05:21,665]\u001b[0m Trial 36 finished with value: 0.8955224135232891 and parameters: {'C': 631.3744490267275}. Best is trial 18 with value: 0.9085012830895929.\u001b[0m\n"
     ]
    },
    {
     "name": "stdout",
     "output_type": "stream",
     "text": [
      "Overall accuracy: 0.896\n",
      "\n"
     ]
    },
    {
     "name": "stderr",
     "output_type": "stream",
     "text": [
      "\u001b[32m[I 2023-05-11 18:05:36,598]\u001b[0m Trial 37 finished with value: 0.9057291814561734 and parameters: {'C': 6.21472028361118}. Best is trial 18 with value: 0.9085012830895929.\u001b[0m\n"
     ]
    },
    {
     "name": "stdout",
     "output_type": "stream",
     "text": [
      "Overall accuracy: 0.906\n",
      "\n"
     ]
    },
    {
     "name": "stderr",
     "output_type": "stream",
     "text": [
      "\u001b[32m[I 2023-05-11 18:06:00,337]\u001b[0m Trial 38 finished with value: 0.868347983264598 and parameters: {'C': 0.1029792578913879}. Best is trial 18 with value: 0.9085012830895929.\u001b[0m\n"
     ]
    },
    {
     "name": "stdout",
     "output_type": "stream",
     "text": [
      "Overall accuracy: 0.869\n",
      "\n"
     ]
    },
    {
     "name": "stderr",
     "output_type": "stream",
     "text": [
      "\u001b[32m[I 2023-05-11 18:06:45,196]\u001b[0m Trial 39 finished with value: 0.3416213416213416 and parameters: {'C': 0.0029459049803473142}. Best is trial 18 with value: 0.9085012830895929.\u001b[0m\n"
     ]
    },
    {
     "name": "stdout",
     "output_type": "stream",
     "text": [
      "Overall accuracy: 0.519\n",
      "\n"
     ]
    },
    {
     "name": "stderr",
     "output_type": "stream",
     "text": [
      "\u001b[32m[I 2023-05-11 18:07:19,506]\u001b[0m Trial 40 finished with value: 0.8746453753145284 and parameters: {'C': 0.16415892254947764}. Best is trial 18 with value: 0.9085012830895929.\u001b[0m\n"
     ]
    },
    {
     "name": "stdout",
     "output_type": "stream",
     "text": [
      "Overall accuracy: 0.875\n",
      "\n"
     ]
    },
    {
     "name": "stderr",
     "output_type": "stream",
     "text": [
      "\u001b[32m[I 2023-05-11 18:07:38,962]\u001b[0m Trial 41 finished with value: 0.9057291814561734 and parameters: {'C': 6.075723064369741}. Best is trial 18 with value: 0.9085012830895929.\u001b[0m\n"
     ]
    },
    {
     "name": "stdout",
     "output_type": "stream",
     "text": [
      "Overall accuracy: 0.906\n",
      "\n"
     ]
    },
    {
     "name": "stderr",
     "output_type": "stream",
     "text": [
      "\u001b[32m[I 2023-05-11 18:07:55,726]\u001b[0m Trial 42 finished with value: 0.895530061297364 and parameters: {'C': 151.40445574002626}. Best is trial 18 with value: 0.9085012830895929.\u001b[0m\n"
     ]
    },
    {
     "name": "stdout",
     "output_type": "stream",
     "text": [
      "Overall accuracy: 0.896\n",
      "\n"
     ]
    },
    {
     "name": "stderr",
     "output_type": "stream",
     "text": [
      "\u001b[32m[I 2023-05-11 18:08:10,202]\u001b[0m Trial 43 finished with value: 0.905338576578187 and parameters: {'C': 5.693624828951114}. Best is trial 18 with value: 0.9085012830895929.\u001b[0m\n"
     ]
    },
    {
     "name": "stdout",
     "output_type": "stream",
     "text": [
      "Overall accuracy: 0.906\n",
      "\n"
     ]
    },
    {
     "name": "stderr",
     "output_type": "stream",
     "text": [
      "\u001b[32m[I 2023-05-11 18:08:24,709]\u001b[0m Trial 44 finished with value: 0.896318513664931 and parameters: {'C': 72.02333952492768}. Best is trial 18 with value: 0.9085012830895929.\u001b[0m\n"
     ]
    },
    {
     "name": "stdout",
     "output_type": "stream",
     "text": [
      "Overall accuracy: 0.897\n",
      "\n"
     ]
    },
    {
     "name": "stderr",
     "output_type": "stream",
     "text": [
      "\u001b[32m[I 2023-05-11 18:08:39,759]\u001b[0m Trial 45 finished with value: 0.8955224135232891 and parameters: {'C': 10121.589161959408}. Best is trial 18 with value: 0.9085012830895929.\u001b[0m\n"
     ]
    },
    {
     "name": "stdout",
     "output_type": "stream",
     "text": [
      "Overall accuracy: 0.896\n",
      "\n"
     ]
    },
    {
     "name": "stderr",
     "output_type": "stream",
     "text": [
      "\u001b[32m[I 2023-05-11 18:08:53,489]\u001b[0m Trial 46 finished with value: 0.9085012830895929 and parameters: {'C': 3.3065386558422465}. Best is trial 18 with value: 0.9085012830895929.\u001b[0m\n"
     ]
    },
    {
     "name": "stdout",
     "output_type": "stream",
     "text": [
      "Overall accuracy: 0.909\n",
      "\n"
     ]
    },
    {
     "name": "stderr",
     "output_type": "stream",
     "text": [
      "\u001b[32m[I 2023-05-11 18:09:25,564]\u001b[0m Trial 47 finished with value: 0.3416213416213416 and parameters: {'C': 0.0022050301632808317}. Best is trial 18 with value: 0.9085012830895929.\u001b[0m\n"
     ]
    },
    {
     "name": "stdout",
     "output_type": "stream",
     "text": [
      "Overall accuracy: 0.519\n",
      "\n"
     ]
    },
    {
     "name": "stderr",
     "output_type": "stream",
     "text": [
      "\u001b[32m[I 2023-05-11 18:09:53,279]\u001b[0m Trial 48 finished with value: 0.874631021297576 and parameters: {'C': 0.17151251218149563}. Best is trial 18 with value: 0.9085012830895929.\u001b[0m\n"
     ]
    },
    {
     "name": "stdout",
     "output_type": "stream",
     "text": [
      "Overall accuracy: 0.875\n",
      "\n"
     ]
    },
    {
     "name": "stderr",
     "output_type": "stream",
     "text": [
      "\u001b[32m[I 2023-05-11 18:10:16,024]\u001b[0m Trial 49 finished with value: 0.8955224135232891 and parameters: {'C': 1956.4139247037956}. Best is trial 18 with value: 0.9085012830895929.\u001b[0m\n"
     ]
    },
    {
     "name": "stdout",
     "output_type": "stream",
     "text": [
      "Overall accuracy: 0.896\n",
      "\n"
     ]
    },
    {
     "name": "stderr",
     "output_type": "stream",
     "text": [
      "\u001b[32m[I 2023-05-11 18:10:40,407]\u001b[0m Trial 50 finished with value: 0.896708975408819 and parameters: {'C': 170.70538109378862}. Best is trial 18 with value: 0.9085012830895929.\u001b[0m\n"
     ]
    },
    {
     "name": "stdout",
     "output_type": "stream",
     "text": [
      "Overall accuracy: 0.897\n",
      "\n"
     ]
    },
    {
     "name": "stderr",
     "output_type": "stream",
     "text": [
      "\u001b[32m[I 2023-05-11 18:11:02,126]\u001b[0m Trial 51 finished with value: 0.9061120380992109 and parameters: {'C': 6.7922969656303875}. Best is trial 18 with value: 0.9085012830895929.\u001b[0m\n"
     ]
    },
    {
     "name": "stdout",
     "output_type": "stream",
     "text": [
      "Overall accuracy: 0.906\n",
      "\n"
     ]
    },
    {
     "name": "stderr",
     "output_type": "stream",
     "text": [
      "\u001b[32m[I 2023-05-11 18:11:22,112]\u001b[0m Trial 52 finished with value: 0.9096808548106841 and parameters: {'C': 3.4403562647176615}. Best is trial 52 with value: 0.9096808548106841.\u001b[0m\n"
     ]
    },
    {
     "name": "stdout",
     "output_type": "stream",
     "text": [
      "Overall accuracy: 0.910\n",
      "\n"
     ]
    },
    {
     "name": "stderr",
     "output_type": "stream",
     "text": [
      "\u001b[32m[I 2023-05-11 18:11:40,237]\u001b[0m Trial 53 finished with value: 0.8905583338190437 and parameters: {'C': 0.6088844689462404}. Best is trial 52 with value: 0.9096808548106841.\u001b[0m\n"
     ]
    },
    {
     "name": "stdout",
     "output_type": "stream",
     "text": [
      "Overall accuracy: 0.891\n",
      "\n"
     ]
    },
    {
     "name": "stderr",
     "output_type": "stream",
     "text": [
      "\u001b[32m[I 2023-05-11 18:12:06,738]\u001b[0m Trial 54 finished with value: 0.8383935338465834 and parameters: {'C': 0.038969685954233314}. Best is trial 52 with value: 0.9096808548106841.\u001b[0m\n"
     ]
    },
    {
     "name": "stdout",
     "output_type": "stream",
     "text": [
      "Overall accuracy: 0.839\n",
      "\n"
     ]
    },
    {
     "name": "stderr",
     "output_type": "stream",
     "text": [
      "\u001b[32m[I 2023-05-11 18:12:20,955]\u001b[0m Trial 55 finished with value: 0.9053151289066355 and parameters: {'C': 1.8729617711475968}. Best is trial 52 with value: 0.9096808548106841.\u001b[0m\n"
     ]
    },
    {
     "name": "stdout",
     "output_type": "stream",
     "text": [
      "Overall accuracy: 0.906\n",
      "\n"
     ]
    },
    {
     "name": "stderr",
     "output_type": "stream",
     "text": [
      "\u001b[32m[I 2023-05-11 18:12:35,782]\u001b[0m Trial 56 finished with value: 0.8955224135232891 and parameters: {'C': 390.1126483123999}. Best is trial 52 with value: 0.9096808548106841.\u001b[0m\n"
     ]
    },
    {
     "name": "stdout",
     "output_type": "stream",
     "text": [
      "Overall accuracy: 0.896\n",
      "\n"
     ]
    },
    {
     "name": "stderr",
     "output_type": "stream",
     "text": [
      "\u001b[32m[I 2023-05-11 18:12:50,533]\u001b[0m Trial 57 finished with value: 0.896318513664931 and parameters: {'C': 51.744629371911444}. Best is trial 52 with value: 0.9096808548106841.\u001b[0m\n"
     ]
    },
    {
     "name": "stdout",
     "output_type": "stream",
     "text": [
      "Overall accuracy: 0.897\n",
      "\n"
     ]
    },
    {
     "name": "stderr",
     "output_type": "stream",
     "text": [
      "\u001b[32m[I 2023-05-11 18:13:16,621]\u001b[0m Trial 58 finished with value: 0.8798330779991503 and parameters: {'C': 0.28122429004450256}. Best is trial 52 with value: 0.9096808548106841.\u001b[0m\n"
     ]
    },
    {
     "name": "stdout",
     "output_type": "stream",
     "text": [
      "Overall accuracy: 0.880\n",
      "\n"
     ]
    },
    {
     "name": "stderr",
     "output_type": "stream",
     "text": [
      "\u001b[32m[I 2023-05-11 18:13:37,723]\u001b[0m Trial 59 finished with value: 0.896708975408819 and parameters: {'C': 33.32018681822159}. Best is trial 52 with value: 0.9096808548106841.\u001b[0m\n"
     ]
    },
    {
     "name": "stdout",
     "output_type": "stream",
     "text": [
      "Overall accuracy: 0.897\n",
      "\n"
     ]
    },
    {
     "name": "stderr",
     "output_type": "stream",
     "text": [
      "\u001b[32m[I 2023-05-11 18:13:53,031]\u001b[0m Trial 60 finished with value: 0.9096880291856426 and parameters: {'C': 3.0673771165105994}. Best is trial 60 with value: 0.9096880291856426.\u001b[0m\n"
     ]
    },
    {
     "name": "stdout",
     "output_type": "stream",
     "text": [
      "Overall accuracy: 0.910\n",
      "\n"
     ]
    },
    {
     "name": "stderr",
     "output_type": "stream",
     "text": [
      "\u001b[32m[I 2023-05-11 18:14:07,717]\u001b[0m Trial 61 finished with value: 0.9085012830895929 and parameters: {'C': 3.3257423544789524}. Best is trial 60 with value: 0.9096880291856426.\u001b[0m\n"
     ]
    },
    {
     "name": "stdout",
     "output_type": "stream",
     "text": [
      "Overall accuracy: 0.909\n",
      "\n"
     ]
    },
    {
     "name": "stderr",
     "output_type": "stream",
     "text": [
      "\u001b[32m[I 2023-05-11 18:14:21,433]\u001b[0m Trial 62 finished with value: 0.9029313752335395 and parameters: {'C': 1.7172103751060959}. Best is trial 60 with value: 0.9096880291856426.\u001b[0m\n"
     ]
    },
    {
     "name": "stdout",
     "output_type": "stream",
     "text": [
      "Overall accuracy: 0.903\n",
      "\n"
     ]
    },
    {
     "name": "stderr",
     "output_type": "stream",
     "text": [
      "\u001b[32m[I 2023-05-11 18:14:36,393]\u001b[0m Trial 63 finished with value: 0.8905583338190437 and parameters: {'C': 0.6143271806714994}. Best is trial 60 with value: 0.9096880291856426.\u001b[0m\n"
     ]
    },
    {
     "name": "stdout",
     "output_type": "stream",
     "text": [
      "Overall accuracy: 0.891\n",
      "\n"
     ]
    },
    {
     "name": "stderr",
     "output_type": "stream",
     "text": [
      "\u001b[32m[I 2023-05-11 18:14:59,756]\u001b[0m Trial 64 finished with value: 0.8632459549018827 and parameters: {'C': 0.07496269492966427}. Best is trial 60 with value: 0.9096880291856426.\u001b[0m\n"
     ]
    },
    {
     "name": "stdout",
     "output_type": "stream",
     "text": [
      "Overall accuracy: 0.864\n",
      "\n"
     ]
    },
    {
     "name": "stderr",
     "output_type": "stream",
     "text": [
      "\u001b[32m[I 2023-05-11 18:15:14,779]\u001b[0m Trial 65 finished with value: 0.90101176998077 and parameters: {'C': 19.346495651890336}. Best is trial 60 with value: 0.9096880291856426.\u001b[0m\n"
     ]
    },
    {
     "name": "stdout",
     "output_type": "stream",
     "text": [
      "Overall accuracy: 0.901\n",
      "\n"
     ]
    },
    {
     "name": "stderr",
     "output_type": "stream",
     "text": [
      "\u001b[32m[I 2023-05-11 18:15:42,527]\u001b[0m Trial 66 finished with value: 0.5439377085650723 and parameters: {'C': 0.01643905471206317}. Best is trial 60 with value: 0.9096880291856426.\u001b[0m\n"
     ]
    },
    {
     "name": "stdout",
     "output_type": "stream",
     "text": [
      "Overall accuracy: 0.622\n",
      "\n"
     ]
    },
    {
     "name": "stderr",
     "output_type": "stream",
     "text": [
      "\u001b[32m[I 2023-05-11 18:16:00,834]\u001b[0m Trial 67 finished with value: 0.9065026222391143 and parameters: {'C': 1.9679353313773311}. Best is trial 60 with value: 0.9096880291856426.\u001b[0m\n"
     ]
    },
    {
     "name": "stdout",
     "output_type": "stream",
     "text": [
      "Overall accuracy: 0.907\n",
      "\n"
     ]
    },
    {
     "name": "stderr",
     "output_type": "stream",
     "text": [
      "\u001b[32m[I 2023-05-11 18:16:25,586]\u001b[0m Trial 68 finished with value: 0.8818159582618257 and parameters: {'C': 0.3319378736036923}. Best is trial 60 with value: 0.9096880291856426.\u001b[0m\n"
     ]
    },
    {
     "name": "stdout",
     "output_type": "stream",
     "text": [
      "Overall accuracy: 0.882\n",
      "\n"
     ]
    },
    {
     "name": "stderr",
     "output_type": "stream",
     "text": [
      "\u001b[32m[I 2023-05-11 18:16:47,997]\u001b[0m Trial 69 finished with value: 0.8955224135232891 and parameters: {'C': 301.81025213820993}. Best is trial 60 with value: 0.9096880291856426.\u001b[0m\n"
     ]
    },
    {
     "name": "stdout",
     "output_type": "stream",
     "text": [
      "Overall accuracy: 0.896\n",
      "\n"
     ]
    },
    {
     "name": "stderr",
     "output_type": "stream",
     "text": [
      "\u001b[32m[I 2023-05-11 18:17:14,269]\u001b[0m Trial 70 finished with value: 0.9018081986752069 and parameters: {'C': 16.069841324118233}. Best is trial 60 with value: 0.9096880291856426.\u001b[0m\n"
     ]
    },
    {
     "name": "stdout",
     "output_type": "stream",
     "text": [
      "Overall accuracy: 0.902\n",
      "\n"
     ]
    },
    {
     "name": "stderr",
     "output_type": "stream",
     "text": [
      "\u001b[32m[I 2023-05-11 18:17:35,453]\u001b[0m Trial 71 finished with value: 0.909290065131924 and parameters: {'C': 3.6019325919272718}. Best is trial 60 with value: 0.9096880291856426.\u001b[0m\n"
     ]
    },
    {
     "name": "stdout",
     "output_type": "stream",
     "text": [
      "Overall accuracy: 0.910\n",
      "\n"
     ]
    },
    {
     "name": "stderr",
     "output_type": "stream",
     "text": [
      "\u001b[32m[I 2023-05-11 18:17:59,344]\u001b[0m Trial 72 finished with value: 0.9073069357414258 and parameters: {'C': 2.4289354708142907}. Best is trial 60 with value: 0.9096880291856426.\u001b[0m\n"
     ]
    },
    {
     "name": "stdout",
     "output_type": "stream",
     "text": [
      "Overall accuracy: 0.908\n",
      "\n"
     ]
    },
    {
     "name": "stderr",
     "output_type": "stream",
     "text": [
      "\u001b[32m[I 2023-05-11 18:18:21,500]\u001b[0m Trial 73 finished with value: 0.896318513664931 and parameters: {'C': 63.912810162128906}. Best is trial 60 with value: 0.9096880291856426.\u001b[0m\n"
     ]
    },
    {
     "name": "stdout",
     "output_type": "stream",
     "text": [
      "Overall accuracy: 0.897\n",
      "\n"
     ]
    },
    {
     "name": "stderr",
     "output_type": "stream",
     "text": [
      "\u001b[32m[I 2023-05-11 18:18:40,780]\u001b[0m Trial 74 finished with value: 0.9033930104620472 and parameters: {'C': 15.437616923785782}. Best is trial 60 with value: 0.9096880291856426.\u001b[0m\n"
     ]
    },
    {
     "name": "stdout",
     "output_type": "stream",
     "text": [
      "Overall accuracy: 0.904\n",
      "\n"
     ]
    },
    {
     "name": "stderr",
     "output_type": "stream",
     "text": [
      "\u001b[32m[I 2023-05-11 18:18:59,958]\u001b[0m Trial 75 finished with value: 0.8909702576649592 and parameters: {'C': 0.6448675114236978}. Best is trial 60 with value: 0.9096880291856426.\u001b[0m\n"
     ]
    },
    {
     "name": "stdout",
     "output_type": "stream",
     "text": [
      "Overall accuracy: 0.891\n",
      "\n"
     ]
    },
    {
     "name": "stderr",
     "output_type": "stream",
     "text": [
      "\u001b[32m[I 2023-05-11 18:19:34,497]\u001b[0m Trial 76 finished with value: 0.8597408249305434 and parameters: {'C': 0.0668004187239392}. Best is trial 60 with value: 0.9096880291856426.\u001b[0m\n"
     ]
    },
    {
     "name": "stdout",
     "output_type": "stream",
     "text": [
      "Overall accuracy: 0.860\n",
      "\n"
     ]
    },
    {
     "name": "stderr",
     "output_type": "stream",
     "text": [
      "\u001b[32m[I 2023-05-11 18:19:55,866]\u001b[0m Trial 77 finished with value: 0.909290065131924 and parameters: {'C': 4.24936946335163}. Best is trial 60 with value: 0.9096880291856426.\u001b[0m\n"
     ]
    },
    {
     "name": "stdout",
     "output_type": "stream",
     "text": [
      "Overall accuracy: 0.910\n",
      "\n"
     ]
    },
    {
     "name": "stderr",
     "output_type": "stream",
     "text": [
      "\u001b[32m[I 2023-05-11 18:20:15,686]\u001b[0m Trial 78 finished with value: 0.9084939573589141 and parameters: {'C': 4.529937705564476}. Best is trial 60 with value: 0.9096880291856426.\u001b[0m\n"
     ]
    },
    {
     "name": "stdout",
     "output_type": "stream",
     "text": [
      "Overall accuracy: 0.909\n",
      "\n"
     ]
    },
    {
     "name": "stderr",
     "output_type": "stream",
     "text": [
      "\u001b[32m[I 2023-05-11 18:20:38,219]\u001b[0m Trial 79 finished with value: 0.8955224135232891 and parameters: {'C': 1283.3291535041385}. Best is trial 60 with value: 0.9096880291856426.\u001b[0m\n"
     ]
    },
    {
     "name": "stdout",
     "output_type": "stream",
     "text": [
      "Overall accuracy: 0.896\n",
      "\n"
     ]
    },
    {
     "name": "stderr",
     "output_type": "stream",
     "text": [
      "\u001b[32m[I 2023-05-11 18:21:03,310]\u001b[0m Trial 80 finished with value: 0.8959204943050696 and parameters: {'C': 123.49553834824077}. Best is trial 60 with value: 0.9096880291856426.\u001b[0m\n"
     ]
    },
    {
     "name": "stdout",
     "output_type": "stream",
     "text": [
      "Overall accuracy: 0.896\n",
      "\n"
     ]
    },
    {
     "name": "stderr",
     "output_type": "stream",
     "text": [
      "\u001b[32m[I 2023-05-11 18:21:28,936]\u001b[0m Trial 81 finished with value: 0.9069086981754533 and parameters: {'C': 5.125950356997691}. Best is trial 60 with value: 0.9096880291856426.\u001b[0m\n"
     ]
    },
    {
     "name": "stdout",
     "output_type": "stream",
     "text": [
      "Overall accuracy: 0.907\n",
      "\n"
     ]
    },
    {
     "name": "stderr",
     "output_type": "stream",
     "text": [
      "\u001b[32m[I 2023-05-11 18:21:48,754]\u001b[0m Trial 82 finished with value: 0.9081105275120296 and parameters: {'C': 2.5879527874233696}. Best is trial 60 with value: 0.9096880291856426.\u001b[0m\n"
     ]
    },
    {
     "name": "stdout",
     "output_type": "stream",
     "text": [
      "Overall accuracy: 0.908\n",
      "\n"
     ]
    },
    {
     "name": "stderr",
     "output_type": "stream",
     "text": [
      "\u001b[32m[I 2023-05-11 18:22:11,969]\u001b[0m Trial 83 finished with value: 0.8845890717669067 and parameters: {'C': 0.41539382684664494}. Best is trial 60 with value: 0.9096880291856426.\u001b[0m\n"
     ]
    },
    {
     "name": "stdout",
     "output_type": "stream",
     "text": [
      "Overall accuracy: 0.885\n",
      "\n"
     ]
    },
    {
     "name": "stderr",
     "output_type": "stream",
     "text": [
      "\u001b[32m[I 2023-05-11 18:22:35,401]\u001b[0m Trial 84 finished with value: 0.9002308203406721 and parameters: {'C': 20.55086192719187}. Best is trial 60 with value: 0.9096880291856426.\u001b[0m\n"
     ]
    },
    {
     "name": "stdout",
     "output_type": "stream",
     "text": [
      "Overall accuracy: 0.900\n",
      "\n"
     ]
    },
    {
     "name": "stderr",
     "output_type": "stream",
     "text": [
      "\u001b[32m[I 2023-05-11 18:22:55,341]\u001b[0m Trial 85 finished with value: 0.9073069357414258 and parameters: {'C': 2.437469526550025}. Best is trial 60 with value: 0.9096880291856426.\u001b[0m\n"
     ]
    },
    {
     "name": "stdout",
     "output_type": "stream",
     "text": [
      "Overall accuracy: 0.908\n",
      "\n"
     ]
    },
    {
     "name": "stderr",
     "output_type": "stream",
     "text": [
      "\u001b[32m[I 2023-05-11 18:23:25,273]\u001b[0m Trial 86 finished with value: 0.8786135268563415 and parameters: {'C': 0.2124163370324872}. Best is trial 60 with value: 0.9096880291856426.\u001b[0m\n"
     ]
    },
    {
     "name": "stdout",
     "output_type": "stream",
     "text": [
      "Overall accuracy: 0.879\n",
      "\n"
     ]
    },
    {
     "name": "stderr",
     "output_type": "stream",
     "text": [
      "\u001b[32m[I 2023-05-11 18:23:44,348]\u001b[0m Trial 87 finished with value: 0.896318513664931 and parameters: {'C': 52.2203999523157}. Best is trial 60 with value: 0.9096880291856426.\u001b[0m\n"
     ]
    },
    {
     "name": "stdout",
     "output_type": "stream",
     "text": [
      "Overall accuracy: 0.897\n",
      "\n"
     ]
    },
    {
     "name": "stderr",
     "output_type": "stream",
     "text": [
      "\u001b[32m[I 2023-05-11 18:24:03,199]\u001b[0m Trial 88 finished with value: 0.9045867427370318 and parameters: {'C': 10.777539117577701}. Best is trial 60 with value: 0.9096880291856426.\u001b[0m\n"
     ]
    },
    {
     "name": "stdout",
     "output_type": "stream",
     "text": [
      "Overall accuracy: 0.905\n",
      "\n"
     ]
    },
    {
     "name": "stderr",
     "output_type": "stream",
     "text": [
      "\u001b[32m[I 2023-05-11 18:24:22,141]\u001b[0m Trial 89 finished with value: 0.8985212044166437 and parameters: {'C': 1.248268945451527}. Best is trial 60 with value: 0.9096880291856426.\u001b[0m\n"
     ]
    },
    {
     "name": "stdout",
     "output_type": "stream",
     "text": [
      "Overall accuracy: 0.899\n",
      "\n"
     ]
    },
    {
     "name": "stderr",
     "output_type": "stream",
     "text": [
      "\u001b[32m[I 2023-05-11 18:25:03,774]\u001b[0m Trial 90 finished with value: 0.8344430448645614 and parameters: {'C': 0.03218071122597734}. Best is trial 60 with value: 0.9096880291856426.\u001b[0m\n"
     ]
    },
    {
     "name": "stdout",
     "output_type": "stream",
     "text": [
      "Overall accuracy: 0.836\n",
      "\n"
     ]
    },
    {
     "name": "stderr",
     "output_type": "stream",
     "text": [
      "\u001b[32m[I 2023-05-11 18:25:25,005]\u001b[0m Trial 91 finished with value: 0.9084939573589141 and parameters: {'C': 4.55050493103289}. Best is trial 60 with value: 0.9096880291856426.\u001b[0m\n"
     ]
    },
    {
     "name": "stdout",
     "output_type": "stream",
     "text": [
      "Overall accuracy: 0.909\n",
      "\n"
     ]
    },
    {
     "name": "stderr",
     "output_type": "stream",
     "text": [
      "\u001b[32m[I 2023-05-11 18:25:46,261]\u001b[0m Trial 92 finished with value: 0.8913708131610619 and parameters: {'C': 0.6782013517422146}. Best is trial 60 with value: 0.9096880291856426.\u001b[0m\n"
     ]
    },
    {
     "name": "stdout",
     "output_type": "stream",
     "text": [
      "Overall accuracy: 0.892\n",
      "\n"
     ]
    },
    {
     "name": "stderr",
     "output_type": "stream",
     "text": [
      "\u001b[32m[I 2023-05-11 18:26:07,604]\u001b[0m Trial 93 finished with value: 0.9077197742188509 and parameters: {'C': 2.9023265210665756}. Best is trial 60 with value: 0.9096880291856426.\u001b[0m\n"
     ]
    },
    {
     "name": "stdout",
     "output_type": "stream",
     "text": [
      "Overall accuracy: 0.908\n",
      "\n"
     ]
    },
    {
     "name": "stderr",
     "output_type": "stream",
     "text": [
      "\u001b[32m[I 2023-05-11 18:26:26,106]\u001b[0m Trial 94 finished with value: 0.9041667733279963 and parameters: {'C': 9.33878658230764}. Best is trial 60 with value: 0.9096880291856426.\u001b[0m\n"
     ]
    },
    {
     "name": "stdout",
     "output_type": "stream",
     "text": [
      "Overall accuracy: 0.904\n",
      "\n"
     ]
    },
    {
     "name": "stderr",
     "output_type": "stream",
     "text": [
      "\u001b[32m[I 2023-05-11 18:26:48,948]\u001b[0m Trial 95 finished with value: 0.868347983264598 and parameters: {'C': 0.1033123480231625}. Best is trial 60 with value: 0.9096880291856426.\u001b[0m\n"
     ]
    },
    {
     "name": "stdout",
     "output_type": "stream",
     "text": [
      "Overall accuracy: 0.869\n",
      "\n"
     ]
    },
    {
     "name": "stderr",
     "output_type": "stream",
     "text": [
      "\u001b[32m[I 2023-05-11 18:27:05,530]\u001b[0m Trial 96 finished with value: 0.896318513664931 and parameters: {'C': 89.21678015707782}. Best is trial 60 with value: 0.9096880291856426.\u001b[0m\n"
     ]
    },
    {
     "name": "stdout",
     "output_type": "stream",
     "text": [
      "Overall accuracy: 0.897\n",
      "\n"
     ]
    },
    {
     "name": "stderr",
     "output_type": "stream",
     "text": [
      "\u001b[32m[I 2023-05-11 18:27:20,361]\u001b[0m Trial 97 finished with value: 0.9100859338542648 and parameters: {'C': 3.9107105532863438}. Best is trial 97 with value: 0.9100859338542648.\u001b[0m\n"
     ]
    },
    {
     "name": "stdout",
     "output_type": "stream",
     "text": [
      "Overall accuracy: 0.910\n",
      "\n"
     ]
    },
    {
     "name": "stderr",
     "output_type": "stream",
     "text": [
      "\u001b[32m[I 2023-05-11 18:27:42,428]\u001b[0m Trial 98 finished with value: 0.8998403447015599 and parameters: {'C': 22.017855693551024}. Best is trial 97 with value: 0.9100859338542648.\u001b[0m\n"
     ]
    },
    {
     "name": "stdout",
     "output_type": "stream",
     "text": [
      "Overall accuracy: 0.900\n",
      "\n"
     ]
    },
    {
     "name": "stderr",
     "output_type": "stream",
     "text": [
      "\u001b[32m[I 2023-05-11 18:28:04,054]\u001b[0m Trial 99 finished with value: 0.8806366427178283 and parameters: {'C': 0.29984607556718884}. Best is trial 97 with value: 0.9100859338542648.\u001b[0m\n"
     ]
    },
    {
     "name": "stdout",
     "output_type": "stream",
     "text": [
      "Overall accuracy: 0.881\n",
      "\n",
      "Accuracy: 0.9100859338542648\n",
      "Best hyperparameters: {'C': 3.9107105532863438}\n",
      "\n",
      "\n",
      "\n"
     ]
    }
   ],
   "source": [
    "f1 = {}\n",
    "for feat_type in [\"DPC_RSDHP_RSacid_RSpolar_RSsecond_RScharge\"]:\n",
    "    m = sel_model[feat_type]\n",
    "    print(f\"Model :- {m}, DataType :- {feat_type}\")\n",
    "    \n",
    "    #Data handling\n",
    "    X,y = X_data[feat_type],train_data.targets\n",
    "    X,y = shuffle(X,y,random_state=config[\"random_seed\"])\n",
    "    X = data_pipelines[feat_type].fit_transform(X,y)\n",
    "    \n",
    "    def objective(trial):\n",
    "        clf = ObjectiveFunctions(m).objective_func(trial)\n",
    "        \n",
    "        y_pred = cross_val_predict(clf, X, y, cv=5)\n",
    "    \n",
    "        result_values = action_evaluator(y_pred,y,class_names=[\"Not Druggable\",\"Druggable\"],print_report=False,show_plot=False,save_outputs=None)\n",
    "\n",
    "        return  result_values[\"f1\"]\n",
    "    \n",
    "    study = optuna.create_study(direction='maximize')\n",
    "    study.optimize(objective, n_trials=100)\n",
    "    \n",
    "    print('Accuracy: {}'.format(study.best_trial.value))\n",
    "    print(\"Best hyperparameters: {}\".format(study.best_trial.params))\n",
    "    \n",
    "    f1[feat_type] = study.best_trial.value\n",
    "    \n",
    "    params = study.best_trial.params\n",
    "    \n",
    "    os.makedirs(os.path.join(config[\"model_save_loc\"],feat_type,m),exist_ok=True)\n",
    "    model_dir = os.path.join(config[\"model_save_loc\"],feat_type,m)\n",
    "    \n",
    "    with open(os.path.join(model_dir,\"best_params.json\"),\"w\") as f0:\n",
    "        json.dump(params,f0)\n",
    "    \n",
    "    if m == 'RandomForest':\n",
    "        clf = RandomForestClassifier(**params)\n",
    "    elif m == 'SVC':\n",
    "        clf = SVC(**params)\n",
    "    else:\n",
    "        clf = LGBMClassifier(**params)\n",
    "        \n",
    "    clf.fit(X,y)\n",
    "    \n",
    "    \n",
    "    joblib.dump(study, os.path.join(model_dir,\"study.sav\"))\n",
    "    joblib.dump(data_pipelines[feat_type], os.path.join(model_dir,\"pipeline.sav\"))\n",
    "    joblib.dump(clf, os.path.join(model_dir,\"model_save.sav\"))\n",
    "    print(\"\\n\\n\")\n",
    "    \n",
    "with open(os.path.join(config[\"artifact_dir\"],\"f1_best_model.json\"),\"w\") as f0:\n",
    "    json.dump(f1,f0)"
   ]
  },
  {
   "cell_type": "code",
   "execution_count": null,
   "metadata": {},
   "outputs": [],
   "source": []
  }
 ],
 "metadata": {
  "kernelspec": {
   "display_name": "Python 3 (ipykernel)",
   "language": "python",
   "name": "python3"
  },
  "language_info": {
   "codemirror_mode": {
    "name": "ipython",
    "version": 3
   },
   "file_extension": ".py",
   "mimetype": "text/x-python",
   "name": "python",
   "nbconvert_exporter": "python",
   "pygments_lexer": "ipython3",
   "version": "3.9.7"
  }
 },
 "nbformat": 4,
 "nbformat_minor": 4
}
