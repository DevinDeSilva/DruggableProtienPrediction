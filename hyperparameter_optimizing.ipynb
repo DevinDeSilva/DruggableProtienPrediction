{
 "cells": [
  {
   "cell_type": "code",
   "execution_count": 1,
   "metadata": {},
   "outputs": [
    {
     "name": "stderr",
     "output_type": "stream",
     "text": [
      "d:\\Academic_PC\\Sem 8\\DruggableProtienPrediction\\venv\\lib\\site-packages\\tqdm\\auto.py:21: TqdmWarning: IProgress not found. Please update jupyter and ipywidgets. See https://ipywidgets.readthedocs.io/en/stable/user_install.html\n",
      "  from .autonotebook import tqdm as notebook_tqdm\n"
     ]
    }
   ],
   "source": [
    "import utils.feature_extractors as utils\n",
    "from utils.evaluation import action_evaluator\n",
    "import numpy as np\n",
    "import os\n",
    "import json\n",
    "from sklearn.pipeline import make_pipeline\n",
    "from sklearn.utils import shuffle\n",
    "from sklearn.preprocessing import StandardScaler\n",
    "from sklearn.linear_model import RidgeClassifier\n",
    "from sklearn.decomposition import PCA\n",
    "from sklearn.model_selection import cross_val_predict\n",
    "from sklearn.neighbors import KNeighborsClassifier\n",
    "from sklearn.ensemble import RandomForestClassifier\n",
    "import matplotlib.pyplot as plt\n",
    "from xgboost import XGBClassifier\n",
    "from lightgbm import LGBMClassifier\n",
    "from itertools import product\n",
    "from sklearn.svm import SVC\n",
    "import optuna\n",
    "import joblib"
   ]
  },
  {
   "cell_type": "code",
   "execution_count": 2,
   "metadata": {},
   "outputs": [],
   "source": [
    "config = {\n",
    "    \"train_pos_loc\":\"data/TR_pos_SPIDER.txt\",\n",
    "    \"train_neg_loc\":\"data/TR_neg_SPIDER.txt\",\n",
    "    \"test_pos_loc\":\"data/TS_pos_SPIDER.txt\",\n",
    "    \"test_neg_loc\":\"data/TS_neg_SPIDER.txt\",\n",
    "    \"model_save_loc\":\"optimized\",\n",
    "    \"artifact_dir\":\"artifacts\",\n",
    "    \"random_seed\":9\n",
    "}"
   ]
  },
  {
   "cell_type": "code",
   "execution_count": 3,
   "metadata": {},
   "outputs": [],
   "source": [
    "class SpiderDataGenerator(object):\n",
    "    ALL_FEAT = [\"AAC\",\"DPC\",\"CTD\",\n",
    "                \"PAAC\",\"APAAC\",\"RSacid\",\n",
    "                \"RSpolar\",\"RSsecond\",\"RScharge\",\n",
    "                \"RSDHP\"]\n",
    "    def __init__(self, pos_data_file, neg_data_file,feat_type=None) -> None:\n",
    "        super(SpiderDataGenerator).__init__()\n",
    "        self.pos_data_file = pos_data_file\n",
    "        self.neg_data_file = neg_data_file\n",
    "        \n",
    "        assert feat_type in SpiderDataGenerator.ALL_FEAT or feat_type == None\n",
    "        \n",
    "        self.feat_type = feat_type\n",
    "        \n",
    "        self.pos_data = utils.read_fasta(self.pos_data_file)\n",
    "        self.neg_data = utils.read_fasta(self.neg_data_file)\n",
    "        \n",
    "        self.data = self.pos_data+self.neg_data\n",
    "        self.targets = np.array([True]*len(self.pos_data)+[False]*len(self.neg_data))\n",
    "        \n",
    "        self.raw = [x[1] for x in self.data]\n",
    "        \n",
    "        self.feat_AAC = utils.AAC(self.data)[0]\n",
    "        print(\"Generating AAC Feature .....\")\n",
    "        self.feat_DPC = utils.DPC(self.data,0)[0]\n",
    "        print(\"Generating DPC Feature .....\")\n",
    "        self.feat_CTD = np.hstack((utils.CTDC(self.data)[0], \n",
    "                              utils.CTDD(self.data)[0], \n",
    "                              utils.CTDT(self.data)[0]))\n",
    "        print(\"Generating CTD Feature .....\")\n",
    "        self.feat_PAAC = utils.PAAC(self.data,1)[0]\n",
    "        print(\"Generating PAAC Feature .....\")\n",
    "        self.feat_APAAC = utils.APAAC(self.data,1)[0]\n",
    "        print(\"Generating APAAC Feature .....\")\n",
    "        self.feat_RSacid = utils.reducedACID(self.data) \n",
    "        print(\"Generating reducedACID Feature .....\")\n",
    "        self.feat_RSpolar = utils.reducedPOLAR(self.data)\n",
    "        print(\"Generating reducedPOLAR Feature .....\")\n",
    "        self.feat_RSsecond = utils.reducedSECOND(self.data)\n",
    "        print(\"Generating reducedSECOND Feature .....\")\n",
    "        self.feat_RScharge = utils.reducedCHARGE(self.data)\n",
    "        print(\"Generating reducedCHARGE Feature .....\")\n",
    "        self.feat_RSDHP = utils.reducedDHP(self.data)\n",
    "        print(\"Generating reducedDHP Feature .....\")\n",
    "        \n",
    "        \n",
    "        \n",
    "    \n",
    "    def get_combination_feature(self,selected:list = None):\n",
    "        \n",
    "        all_feat =[self.feat_AAC,self.feat_DPC,self.feat_CTD,\n",
    "                   self.feat_PAAC,self.feat_APAAC,self.feat_RSacid,\n",
    "                   self.feat_RSpolar,self.feat_RSsecond,self.feat_RScharge,\n",
    "                   self.feat_RSDHP]\n",
    "        \n",
    "        if selected:\n",
    "            select_index = sorted([SpiderDataGenerator.ALL_FEAT.index(x) for x in selected])\n",
    "            all_feat = [all_feat[x] for x in select_index]\n",
    "            \n",
    "        return np.concatenate(all_feat,axis=-1)\n",
    "        \n",
    "        \n",
    "        \n",
    "            \n",
    "    def __len__(self) -> int:\n",
    "        return len(self.data)"
   ]
  },
  {
   "cell_type": "code",
   "execution_count": 4,
   "metadata": {},
   "outputs": [
    {
     "name": "stdout",
     "output_type": "stream",
     "text": [
      "Generating AAC Feature .....\n",
      "Generating DPC Feature .....\n",
      "Generating CTD Feature .....\n",
      "Generating PAAC Feature .....\n",
      "Generating APAAC Feature .....\n",
      "Generating reducedACID Feature .....\n",
      "Generating reducedPOLAR Feature .....\n",
      "Generating reducedSECOND Feature .....\n",
      "Generating reducedCHARGE Feature .....\n",
      "Generating reducedDHP Feature .....\n"
     ]
    }
   ],
   "source": [
    "train_data = SpiderDataGenerator(pos_data_file=config[\"train_pos_loc\"],neg_data_file=config[\"train_neg_loc\"])"
   ]
  },
  {
   "cell_type": "code",
   "execution_count": 5,
   "metadata": {},
   "outputs": [],
   "source": [
    "X_data = {\n",
    "    \"AAC\":train_data.feat_AAC,\n",
    "    \"DPC\":train_data.feat_DPC,\n",
    "    \"CTD\":train_data.feat_CTD,\n",
    "    \"PAAC\":train_data.feat_PAAC,\n",
    "    \"APAAC\":train_data.feat_APAAC,\n",
    "    \"RSacid\":train_data.feat_RSacid,\n",
    "    \"RSpolar\":train_data.feat_RSpolar,\n",
    "    \"RSsecond\":train_data.feat_RSsecond,\n",
    "    \"RScharge\":train_data.feat_RScharge,\n",
    "    \"RSDHP\":train_data.feat_RSDHP,\n",
    "    \"Combine\":train_data.get_combination_feature(),\n",
    "}\n",
    "\n",
    "data_pipelines = {\n",
    "    \"AAC\":make_pipeline(StandardScaler()),\n",
    "    \"DPC\":make_pipeline(StandardScaler()),\n",
    "    \"CTD\":make_pipeline(StandardScaler()),\n",
    "    \"PAAC\":make_pipeline(StandardScaler()),\n",
    "    \"APAAC\":make_pipeline(StandardScaler()),\n",
    "    \"RSacid\":make_pipeline(StandardScaler()),\n",
    "    \"RSpolar\":make_pipeline(StandardScaler()),\n",
    "    \"RSsecond\":make_pipeline(StandardScaler()),\n",
    "    \"RScharge\":make_pipeline(StandardScaler()),\n",
    "    \"RSDHP\":make_pipeline(StandardScaler()),\n",
    "    \"Combine\":make_pipeline(StandardScaler()),\n",
    "    }\n",
    "\n",
    "sel_model = {\n",
    "    \"AAC\":\"SVC\",\n",
    "    \"DPC\":\"SVC\",\n",
    "    \"CTD\":\"LGBMClassifier\",\n",
    "    \"PAAC\":\"RandomForest\",\n",
    "    \"APAAC\":\"SVC\",\n",
    "    \"RSacid\":\"SVC\",\n",
    "    \"RSpolar\":\"SVC\",\n",
    "    \"RSsecond\":\"SVC\",\n",
    "    \"RScharge\":\"SVC\",\n",
    "    \"RSDHP\":\"SVC\",\n",
    "    \"Combine\":\"LGBMClassifier\",\n",
    "}"
   ]
  },
  {
   "cell_type": "code",
   "execution_count": 6,
   "metadata": {},
   "outputs": [],
   "source": [
    "#np.unique(train_data.targets,return_counts=True),0.518,0.482"
   ]
  },
  {
   "attachments": {},
   "cell_type": "markdown",
   "metadata": {},
   "source": [
    "## RandomForest Optimization"
   ]
  },
  {
   "cell_type": "code",
   "execution_count": 7,
   "metadata": {},
   "outputs": [],
   "source": [
    "class ObjectiveFunctions(object):\n",
    "    SEL_MODEL = ['RandomForest', 'SVC',\"LGBMClassifier\"]\n",
    "    def __init__(self,model_name) -> None:\n",
    "        assert model_name in ObjectiveFunctions.SEL_MODEL\n",
    "        self.m = model_name\n",
    "    \n",
    "    @staticmethod\n",
    "    def obj_func_RF(trial:optuna.trial):\n",
    "        n_estimators = trial.suggest_int('n_estimators', 2, 300)\n",
    "        max_depth = trial.suggest_int('max_depth', 1, 64)\n",
    "        criterion = trial.suggest_categorical(\"criterion\",['gini', 'entropy', 'log_loss'])\n",
    "        \n",
    "        clf = RandomForestClassifier(\n",
    "            n_estimators=n_estimators, \n",
    "            max_depth=max_depth,\n",
    "            criterion=criterion,\n",
    "            class_weight={1:0.482,0:0.518},\n",
    "            )\n",
    "        \n",
    "        return clf\n",
    "    \n",
    "    @staticmethod\n",
    "    def obj_func_SVC(trial:optuna.trial):\n",
    "        c = trial.suggest_float('C', 1e-10, 1e10, log=True)\n",
    "        kernel = 'rbf' #trial.suggest_categorical(\"kernel\",['linear', 'poly', 'rbf', 'sigmoid'])\n",
    "        gamma = 'auto'#trial.suggest_categorical(\"gamma\",['scale', 'auto'])\n",
    "        \n",
    "        \n",
    "        clf = SVC(\n",
    "            C=c, \n",
    "            kernel=kernel,\n",
    "            class_weight={1:0.482,0:0.518},\n",
    "            probability=True,\n",
    "            gamma=gamma)\n",
    "        \n",
    "        return clf\n",
    "    \n",
    "    @staticmethod\n",
    "    def obj_func_LGBM(trial:optuna.trial):\n",
    "        n_estimators = trial.suggest_int('n_estimators', 2, 300)\n",
    "        max_depth = trial.suggest_int('max_depth', 1, 64)\n",
    "        num_leaves = trial.suggest_int('num_leaves', 10, 64)\n",
    "        \n",
    "        clf = LGBMClassifier(\n",
    "            n_estimators=n_estimators,\n",
    "            num_leaves=num_leaves,\n",
    "            class_weight={1:0.482,0:0.518},\n",
    "            max_depth=max_depth)\n",
    "        \n",
    "        return clf\n",
    "    \n",
    "    def objective_func(self,trial:optuna.trial):\n",
    "        if self.m == 'RandomForest':\n",
    "            return ObjectiveFunctions.obj_func_RF(trial)\n",
    "        elif self.m == 'SVC':\n",
    "            return ObjectiveFunctions.obj_func_SVC(trial)\n",
    "        else:\n",
    "            return ObjectiveFunctions.obj_func_LGBM(trial)"
   ]
  },
  {
   "cell_type": "code",
   "execution_count": 8,
   "metadata": {
    "tags": []
   },
   "outputs": [
    {
     "name": "stderr",
     "output_type": "stream",
     "text": [
      "\u001b[32m[I 2023-05-11 00:39:03,256]\u001b[0m A new study created in memory with name: no-name-52ec5414-1da3-400f-ba61-e13f2d956edd\u001b[0m\n"
     ]
    },
    {
     "name": "stdout",
     "output_type": "stream",
     "text": [
      "Model :- SVC, DataType :- AAC\n"
     ]
    },
    {
     "name": "stderr",
     "output_type": "stream",
     "text": [
      "\u001b[32m[I 2023-05-11 00:39:06,564]\u001b[0m Trial 0 finished with value: 0.8906847437208085 and parameters: {'C': 0.9378516394189893}. Best is trial 0 with value: 0.8906847437208085.\u001b[0m\n"
     ]
    },
    {
     "name": "stdout",
     "output_type": "stream",
     "text": [
      "Overall accuracy: 0.891\n",
      "\n"
     ]
    },
    {
     "name": "stderr",
     "output_type": "stream",
     "text": [
      "\u001b[32m[I 2023-05-11 00:39:12,640]\u001b[0m Trial 1 finished with value: 0.3416213416213416 and parameters: {'C': 4.046434713014929e-09}. Best is trial 0 with value: 0.8906847437208085.\u001b[0m\n"
     ]
    },
    {
     "name": "stdout",
     "output_type": "stream",
     "text": [
      "Overall accuracy: 0.519\n",
      "\n"
     ]
    },
    {
     "name": "stderr",
     "output_type": "stream",
     "text": [
      "\u001b[32m[I 2023-05-11 00:39:18,747]\u001b[0m Trial 2 finished with value: 0.3416213416213416 and parameters: {'C': 4.49738991029377e-06}. Best is trial 0 with value: 0.8906847437208085.\u001b[0m\n"
     ]
    },
    {
     "name": "stdout",
     "output_type": "stream",
     "text": [
      "Overall accuracy: 0.519\n",
      "\n"
     ]
    },
    {
     "name": "stderr",
     "output_type": "stream",
     "text": [
      "\u001b[32m[I 2023-05-11 00:39:24,690]\u001b[0m Trial 3 finished with value: 0.3416213416213416 and parameters: {'C': 3.645506226051254e-10}. Best is trial 0 with value: 0.8906847437208085.\u001b[0m\n"
     ]
    },
    {
     "name": "stdout",
     "output_type": "stream",
     "text": [
      "Overall accuracy: 0.519\n",
      "\n"
     ]
    },
    {
     "name": "stderr",
     "output_type": "stream",
     "text": [
      "\u001b[32m[I 2023-05-11 00:39:30,826]\u001b[0m Trial 4 finished with value: 0.3416213416213416 and parameters: {'C': 2.3217123548743434e-08}. Best is trial 0 with value: 0.8906847437208085.\u001b[0m\n"
     ]
    },
    {
     "name": "stdout",
     "output_type": "stream",
     "text": [
      "Overall accuracy: 0.519\n",
      "\n"
     ]
    },
    {
     "name": "stderr",
     "output_type": "stream",
     "text": [
      "\u001b[32m[I 2023-05-11 00:39:34,971]\u001b[0m Trial 5 finished with value: 0.8272082533391615 and parameters: {'C': 2449322.8008340015}. Best is trial 0 with value: 0.8906847437208085.\u001b[0m\n"
     ]
    },
    {
     "name": "stdout",
     "output_type": "stream",
     "text": [
      "Overall accuracy: 0.827\n",
      "\n"
     ]
    },
    {
     "name": "stderr",
     "output_type": "stream",
     "text": [
      "\u001b[32m[I 2023-05-11 00:39:39,136]\u001b[0m Trial 6 finished with value: 0.8272082533391615 and parameters: {'C': 23867.342270852067}. Best is trial 0 with value: 0.8906847437208085.\u001b[0m\n"
     ]
    },
    {
     "name": "stdout",
     "output_type": "stream",
     "text": [
      "Overall accuracy: 0.827\n",
      "\n"
     ]
    },
    {
     "name": "stderr",
     "output_type": "stream",
     "text": [
      "\u001b[32m[I 2023-05-11 00:39:43,289]\u001b[0m Trial 7 finished with value: 0.8272082533391615 and parameters: {'C': 78587.34245786865}. Best is trial 0 with value: 0.8906847437208085.\u001b[0m\n"
     ]
    },
    {
     "name": "stdout",
     "output_type": "stream",
     "text": [
      "Overall accuracy: 0.827\n",
      "\n"
     ]
    },
    {
     "name": "stderr",
     "output_type": "stream",
     "text": [
      "\u001b[32m[I 2023-05-11 00:39:47,492]\u001b[0m Trial 8 finished with value: 0.8272082533391615 and parameters: {'C': 14573397.148562409}. Best is trial 0 with value: 0.8906847437208085.\u001b[0m\n"
     ]
    },
    {
     "name": "stdout",
     "output_type": "stream",
     "text": [
      "Overall accuracy: 0.827\n",
      "\n"
     ]
    },
    {
     "name": "stderr",
     "output_type": "stream",
     "text": [
      "\u001b[32m[I 2023-05-11 00:39:53,945]\u001b[0m Trial 9 finished with value: 0.3416213416213416 and parameters: {'C': 1.3454859855232857e-09}. Best is trial 0 with value: 0.8906847437208085.\u001b[0m\n"
     ]
    },
    {
     "name": "stdout",
     "output_type": "stream",
     "text": [
      "Overall accuracy: 0.519\n",
      "\n"
     ]
    },
    {
     "name": "stderr",
     "output_type": "stream",
     "text": [
      "\u001b[32m[I 2023-05-11 00:39:57,345]\u001b[0m Trial 10 finished with value: 0.8755702041663074 and parameters: {'C': 0.24967629144666087}. Best is trial 0 with value: 0.8906847437208085.\u001b[0m\n"
     ]
    },
    {
     "name": "stdout",
     "output_type": "stream",
     "text": [
      "Overall accuracy: 0.876\n",
      "\n"
     ]
    },
    {
     "name": "stderr",
     "output_type": "stream",
     "text": [
      "\u001b[32m[I 2023-05-11 00:39:59,949]\u001b[0m Trial 11 finished with value: 0.8919620033256397 and parameters: {'C': 5.1346471122264665}. Best is trial 11 with value: 0.8919620033256397.\u001b[0m\n"
     ]
    },
    {
     "name": "stdout",
     "output_type": "stream",
     "text": [
      "Overall accuracy: 0.892\n",
      "\n"
     ]
    },
    {
     "name": "stderr",
     "output_type": "stream",
     "text": [
      "\u001b[32m[I 2023-05-11 00:40:02,630]\u001b[0m Trial 12 finished with value: 0.8930894963156116 and parameters: {'C': 2.5006223342154796}. Best is trial 12 with value: 0.8930894963156116.\u001b[0m\n"
     ]
    },
    {
     "name": "stdout",
     "output_type": "stream",
     "text": [
      "Overall accuracy: 0.893\n",
      "\n"
     ]
    },
    {
     "name": "stderr",
     "output_type": "stream",
     "text": [
      "\u001b[32m[I 2023-05-11 00:40:06,670]\u001b[0m Trial 13 finished with value: 0.837364371035272 and parameters: {'C': 465.42222746257636}. Best is trial 12 with value: 0.8930894963156116.\u001b[0m\n"
     ]
    },
    {
     "name": "stdout",
     "output_type": "stream",
     "text": [
      "Overall accuracy: 0.838\n",
      "\n"
     ]
    },
    {
     "name": "stderr",
     "output_type": "stream",
     "text": [
      "\u001b[32m[I 2023-05-11 00:40:13,062]\u001b[0m Trial 14 finished with value: 0.3416213416213416 and parameters: {'C': 0.0022502353614370727}. Best is trial 12 with value: 0.8930894963156116.\u001b[0m\n"
     ]
    },
    {
     "name": "stdout",
     "output_type": "stream",
     "text": [
      "Overall accuracy: 0.519\n",
      "\n"
     ]
    },
    {
     "name": "stderr",
     "output_type": "stream",
     "text": [
      "\u001b[32m[I 2023-05-11 00:40:17,198]\u001b[0m Trial 15 finished with value: 0.8272082533391615 and parameters: {'C': 6000473915.679939}. Best is trial 12 with value: 0.8930894963156116.\u001b[0m\n"
     ]
    },
    {
     "name": "stdout",
     "output_type": "stream",
     "text": [
      "Overall accuracy: 0.827\n",
      "\n"
     ]
    },
    {
     "name": "stderr",
     "output_type": "stream",
     "text": [
      "\u001b[32m[I 2023-05-11 00:40:20,615]\u001b[0m Trial 16 finished with value: 0.8578036077572375 and parameters: {'C': 105.3253925634864}. Best is trial 12 with value: 0.8930894963156116.\u001b[0m\n"
     ]
    },
    {
     "name": "stdout",
     "output_type": "stream",
     "text": [
      "Overall accuracy: 0.858\n",
      "\n"
     ]
    },
    {
     "name": "stderr",
     "output_type": "stream",
     "text": [
      "\u001b[32m[I 2023-05-11 00:40:26,931]\u001b[0m Trial 17 finished with value: 0.46467962120449374 and parameters: {'C': 0.009146819459445985}. Best is trial 12 with value: 0.8930894963156116.\u001b[0m\n"
     ]
    },
    {
     "name": "stdout",
     "output_type": "stream",
     "text": [
      "Overall accuracy: 0.578\n",
      "\n"
     ]
    },
    {
     "name": "stderr",
     "output_type": "stream",
     "text": [
      "\u001b[32m[I 2023-05-11 00:40:30,165]\u001b[0m Trial 18 finished with value: 0.8668594362574187 and parameters: {'C': 70.50472544486695}. Best is trial 12 with value: 0.8930894963156116.\u001b[0m\n"
     ]
    },
    {
     "name": "stdout",
     "output_type": "stream",
     "text": [
      "Overall accuracy: 0.867\n",
      "\n"
     ]
    },
    {
     "name": "stderr",
     "output_type": "stream",
     "text": [
      "\u001b[32m[I 2023-05-11 00:40:36,664]\u001b[0m Trial 19 finished with value: 0.3416213416213416 and parameters: {'C': 0.0004078817350360481}. Best is trial 12 with value: 0.8930894963156116.\u001b[0m\n"
     ]
    },
    {
     "name": "stdout",
     "output_type": "stream",
     "text": [
      "Overall accuracy: 0.519\n",
      "\n"
     ]
    },
    {
     "name": "stderr",
     "output_type": "stream",
     "text": [
      "\u001b[32m[I 2023-05-11 00:40:39,458]\u001b[0m Trial 20 finished with value: 0.8950663955226474 and parameters: {'C': 1.7439140187614748}. Best is trial 20 with value: 0.8950663955226474.\u001b[0m\n"
     ]
    },
    {
     "name": "stdout",
     "output_type": "stream",
     "text": [
      "Overall accuracy: 0.895\n",
      "\n"
     ]
    },
    {
     "name": "stderr",
     "output_type": "stream",
     "text": [
      "\u001b[32m[I 2023-05-11 00:40:42,160]\u001b[0m Trial 21 finished with value: 0.8927170534552784 and parameters: {'C': 3.068746140829608}. Best is trial 20 with value: 0.8950663955226474.\u001b[0m\n"
     ]
    },
    {
     "name": "stdout",
     "output_type": "stream",
     "text": [
      "Overall accuracy: 0.893\n",
      "\n"
     ]
    },
    {
     "name": "stderr",
     "output_type": "stream",
     "text": [
      "\u001b[32m[I 2023-05-11 00:40:47,059]\u001b[0m Trial 22 finished with value: 0.8488623947454434 and parameters: {'C': 0.04843249378698676}. Best is trial 20 with value: 0.8950663955226474.\u001b[0m\n"
     ]
    },
    {
     "name": "stdout",
     "output_type": "stream",
     "text": [
      "Overall accuracy: 0.850\n",
      "\n"
     ]
    },
    {
     "name": "stderr",
     "output_type": "stream",
     "text": [
      "\u001b[32m[I 2023-05-11 00:40:49,763]\u001b[0m Trial 23 finished with value: 0.8946762723897533 and parameters: {'C': 2.1821603730737813}. Best is trial 20 with value: 0.8950663955226474.\u001b[0m\n"
     ]
    },
    {
     "name": "stdout",
     "output_type": "stream",
     "text": [
      "Overall accuracy: 0.895\n",
      "\n"
     ]
    },
    {
     "name": "stderr",
     "output_type": "stream",
     "text": [
      "\u001b[32m[I 2023-05-11 00:40:55,897]\u001b[0m Trial 24 finished with value: 0.3416213416213416 and parameters: {'C': 0.0001810815743541084}. Best is trial 20 with value: 0.8950663955226474.\u001b[0m\n"
     ]
    },
    {
     "name": "stdout",
     "output_type": "stream",
     "text": [
      "Overall accuracy: 0.519\n",
      "\n"
     ]
    },
    {
     "name": "stderr",
     "output_type": "stream",
     "text": [
      "\u001b[32m[I 2023-05-11 00:41:00,397]\u001b[0m Trial 25 finished with value: 0.8536447975700312 and parameters: {'C': 0.07520849434588238}. Best is trial 20 with value: 0.8950663955226474.\u001b[0m\n"
     ]
    },
    {
     "name": "stdout",
     "output_type": "stream",
     "text": [
      "Overall accuracy: 0.854\n",
      "\n"
     ]
    },
    {
     "name": "stderr",
     "output_type": "stream",
     "text": [
      "\u001b[32m[I 2023-05-11 00:41:03,506]\u001b[0m Trial 26 finished with value: 0.8781841092108885 and parameters: {'C': 32.859377623490396}. Best is trial 20 with value: 0.8950663955226474.\u001b[0m\n"
     ]
    },
    {
     "name": "stdout",
     "output_type": "stream",
     "text": [
      "Overall accuracy: 0.878\n",
      "\n"
     ]
    },
    {
     "name": "stderr",
     "output_type": "stream",
     "text": [
      "\u001b[32m[I 2023-05-11 00:41:07,729]\u001b[0m Trial 27 finished with value: 0.8299404343042904 and parameters: {'C': 1953.6016491101147}. Best is trial 20 with value: 0.8950663955226474.\u001b[0m\n"
     ]
    },
    {
     "name": "stdout",
     "output_type": "stream",
     "text": [
      "Overall accuracy: 0.830\n",
      "\n"
     ]
    },
    {
     "name": "stderr",
     "output_type": "stream",
     "text": [
      "\u001b[32m[I 2023-05-11 00:41:10,599]\u001b[0m Trial 28 finished with value: 0.8946762723897533 and parameters: {'C': 2.173401827630163}. Best is trial 20 with value: 0.8950663955226474.\u001b[0m\n"
     ]
    },
    {
     "name": "stdout",
     "output_type": "stream",
     "text": [
      "Overall accuracy: 0.895\n",
      "\n"
     ]
    },
    {
     "name": "stderr",
     "output_type": "stream",
     "text": [
      "\u001b[32m[I 2023-05-11 00:41:13,668]\u001b[0m Trial 29 finished with value: 0.8826804782139469 and parameters: {'C': 0.5462315165256063}. Best is trial 20 with value: 0.8950663955226474.\u001b[0m\n"
     ]
    },
    {
     "name": "stdout",
     "output_type": "stream",
     "text": [
      "Overall accuracy: 0.883\n",
      "\n"
     ]
    },
    {
     "name": "stderr",
     "output_type": "stream",
     "text": [
      "\u001b[32m[I 2023-05-11 00:41:19,108]\u001b[0m Trial 30 finished with value: 0.8407700995253102 and parameters: {'C': 0.03539979668470819}. Best is trial 20 with value: 0.8950663955226474.\u001b[0m\n"
     ]
    },
    {
     "name": "stdout",
     "output_type": "stream",
     "text": [
      "Overall accuracy: 0.842\n",
      "\n"
     ]
    },
    {
     "name": "stderr",
     "output_type": "stream",
     "text": [
      "\u001b[32m[I 2023-05-11 00:41:21,757]\u001b[0m Trial 31 finished with value: 0.8927170534552784 and parameters: {'C': 3.0350702987866605}. Best is trial 20 with value: 0.8950663955226474.\u001b[0m\n"
     ]
    },
    {
     "name": "stdout",
     "output_type": "stream",
     "text": [
      "Overall accuracy: 0.893\n",
      "\n"
     ]
    },
    {
     "name": "stderr",
     "output_type": "stream",
     "text": [
      "\u001b[32m[I 2023-05-11 00:41:24,466]\u001b[0m Trial 32 finished with value: 0.8864418137145409 and parameters: {'C': 10.42725177033406}. Best is trial 20 with value: 0.8950663955226474.\u001b[0m\n"
     ]
    },
    {
     "name": "stdout",
     "output_type": "stream",
     "text": [
      "Overall accuracy: 0.887\n",
      "\n"
     ]
    },
    {
     "name": "stderr",
     "output_type": "stream",
     "text": [
      "\u001b[32m[I 2023-05-11 00:41:27,537]\u001b[0m Trial 33 finished with value: 0.8819140825820561 and parameters: {'C': 0.4183972103107016}. Best is trial 20 with value: 0.8950663955226474.\u001b[0m\n"
     ]
    },
    {
     "name": "stdout",
     "output_type": "stream",
     "text": [
      "Overall accuracy: 0.882\n",
      "\n"
     ]
    },
    {
     "name": "stderr",
     "output_type": "stream",
     "text": [
      "\u001b[32m[I 2023-05-11 00:41:31,631]\u001b[0m Trial 34 finished with value: 0.836622346311439 and parameters: {'C': 1307.6217789595435}. Best is trial 20 with value: 0.8950663955226474.\u001b[0m\n"
     ]
    },
    {
     "name": "stdout",
     "output_type": "stream",
     "text": [
      "Overall accuracy: 0.837\n",
      "\n"
     ]
    },
    {
     "name": "stderr",
     "output_type": "stream",
     "text": [
      "\u001b[32m[I 2023-05-11 00:41:37,953]\u001b[0m Trial 35 finished with value: 0.3416213416213416 and parameters: {'C': 1.7492016094558457e-05}. Best is trial 20 with value: 0.8950663955226474.\u001b[0m\n"
     ]
    },
    {
     "name": "stdout",
     "output_type": "stream",
     "text": [
      "Overall accuracy: 0.519\n",
      "\n"
     ]
    },
    {
     "name": "stderr",
     "output_type": "stream",
     "text": [
      "\u001b[32m[I 2023-05-11 00:41:44,180]\u001b[0m Trial 36 finished with value: 0.7589299885100866 and parameters: {'C': 0.012853614592011462}. Best is trial 20 with value: 0.8950663955226474.\u001b[0m\n"
     ]
    },
    {
     "name": "stdout",
     "output_type": "stream",
     "text": [
      "Overall accuracy: 0.772\n",
      "\n"
     ]
    },
    {
     "name": "stderr",
     "output_type": "stream",
     "text": [
      "\u001b[32m[I 2023-05-11 00:41:47,083]\u001b[0m Trial 37 finished with value: 0.8906847437208085 and parameters: {'C': 0.9322998609546277}. Best is trial 20 with value: 0.8950663955226474.\u001b[0m\n"
     ]
    },
    {
     "name": "stdout",
     "output_type": "stream",
     "text": [
      "Overall accuracy: 0.891\n",
      "\n"
     ]
    },
    {
     "name": "stderr",
     "output_type": "stream",
     "text": [
      "\u001b[32m[I 2023-05-11 00:41:49,901]\u001b[0m Trial 38 finished with value: 0.8777672300399573 and parameters: {'C': 24.807498693742016}. Best is trial 20 with value: 0.8950663955226474.\u001b[0m\n"
     ]
    },
    {
     "name": "stdout",
     "output_type": "stream",
     "text": [
      "Overall accuracy: 0.878\n",
      "\n"
     ]
    },
    {
     "name": "stderr",
     "output_type": "stream",
     "text": [
      "\u001b[32m[I 2023-05-11 00:41:56,173]\u001b[0m Trial 39 finished with value: 0.3416213416213416 and parameters: {'C': 0.002308942220552704}. Best is trial 20 with value: 0.8950663955226474.\u001b[0m\n"
     ]
    },
    {
     "name": "stdout",
     "output_type": "stream",
     "text": [
      "Overall accuracy: 0.519\n",
      "\n"
     ]
    },
    {
     "name": "stderr",
     "output_type": "stream",
     "text": [
      "\u001b[32m[I 2023-05-11 00:41:59,596]\u001b[0m Trial 40 finished with value: 0.879532487041713 and parameters: {'C': 0.3418448997161609}. Best is trial 20 with value: 0.8950663955226474.\u001b[0m\n"
     ]
    },
    {
     "name": "stdout",
     "output_type": "stream",
     "text": [
      "Overall accuracy: 0.880\n",
      "\n"
     ]
    },
    {
     "name": "stderr",
     "output_type": "stream",
     "text": [
      "\u001b[32m[I 2023-05-11 00:42:02,396]\u001b[0m Trial 41 finished with value: 0.8938873306099013 and parameters: {'C': 2.3084400430770424}. Best is trial 20 with value: 0.8950663955226474.\u001b[0m\n"
     ]
    },
    {
     "name": "stdout",
     "output_type": "stream",
     "text": [
      "Overall accuracy: 0.894\n",
      "\n"
     ]
    },
    {
     "name": "stderr",
     "output_type": "stream",
     "text": [
      "\u001b[32m[I 2023-05-11 00:42:05,044]\u001b[0m Trial 42 finished with value: 0.8880190107462835 and parameters: {'C': 6.653858263295279}. Best is trial 20 with value: 0.8950663955226474.\u001b[0m\n"
     ]
    },
    {
     "name": "stdout",
     "output_type": "stream",
     "text": [
      "Overall accuracy: 0.888\n",
      "\n"
     ]
    },
    {
     "name": "stderr",
     "output_type": "stream",
     "text": [
      "\u001b[32m[I 2023-05-11 00:42:08,832]\u001b[0m Trial 43 finished with value: 0.8550885744010718 and parameters: {'C': 140.14558223731416}. Best is trial 20 with value: 0.8950663955226474.\u001b[0m\n"
     ]
    },
    {
     "name": "stdout",
     "output_type": "stream",
     "text": [
      "Overall accuracy: 0.855\n",
      "\n"
     ]
    },
    {
     "name": "stderr",
     "output_type": "stream",
     "text": [
      "\u001b[32m[I 2023-05-11 00:42:13,206]\u001b[0m Trial 44 finished with value: 0.8272082533391615 and parameters: {'C': 6576.7806918946035}. Best is trial 20 with value: 0.8950663955226474.\u001b[0m\n"
     ]
    },
    {
     "name": "stdout",
     "output_type": "stream",
     "text": [
      "Overall accuracy: 0.827\n",
      "\n"
     ]
    },
    {
     "name": "stderr",
     "output_type": "stream",
     "text": [
      "\u001b[32m[I 2023-05-11 00:42:17,002]\u001b[0m Trial 45 finished with value: 0.8535206206007733 and parameters: {'C': 180.63226913206339}. Best is trial 20 with value: 0.8950663955226474.\u001b[0m\n"
     ]
    },
    {
     "name": "stdout",
     "output_type": "stream",
     "text": [
      "Overall accuracy: 0.854\n",
      "\n"
     ]
    },
    {
     "name": "stderr",
     "output_type": "stream",
     "text": [
      "\u001b[32m[I 2023-05-11 00:42:20,750]\u001b[0m Trial 46 finished with value: 0.8688615682959575 and parameters: {'C': 0.15264505849739438}. Best is trial 20 with value: 0.8950663955226474.\u001b[0m\n"
     ]
    },
    {
     "name": "stdout",
     "output_type": "stream",
     "text": [
      "Overall accuracy: 0.869\n",
      "\n"
     ]
    },
    {
     "name": "stderr",
     "output_type": "stream",
     "text": [
      "\u001b[32m[I 2023-05-11 00:42:23,509]\u001b[0m Trial 47 finished with value: 0.8931157714135167 and parameters: {'C': 3.1106552494519706}. Best is trial 20 with value: 0.8950663955226474.\u001b[0m\n"
     ]
    },
    {
     "name": "stdout",
     "output_type": "stream",
     "text": [
      "Overall accuracy: 0.893\n",
      "\n"
     ]
    },
    {
     "name": "stderr",
     "output_type": "stream",
     "text": [
      "\u001b[32m[I 2023-05-11 00:42:27,544]\u001b[0m Trial 48 finished with value: 0.8369826261524735 and parameters: {'C': 494.3916238669502}. Best is trial 20 with value: 0.8950663955226474.\u001b[0m\n"
     ]
    },
    {
     "name": "stdout",
     "output_type": "stream",
     "text": [
      "Overall accuracy: 0.837\n",
      "\n"
     ]
    },
    {
     "name": "stderr",
     "output_type": "stream",
     "text": [
      "\u001b[32m[I 2023-05-11 00:42:30,302]\u001b[0m Trial 49 finished with value: 0.8809125358262642 and parameters: {'C': 19.053633225551803}. Best is trial 20 with value: 0.8950663955226474.\u001b[0m\n"
     ]
    },
    {
     "name": "stdout",
     "output_type": "stream",
     "text": [
      "Overall accuracy: 0.881\n",
      "\n"
     ]
    },
    {
     "name": "stderr",
     "output_type": "stream",
     "text": [
      "\u001b[32m[I 2023-05-11 00:42:34,551]\u001b[0m Trial 50 finished with value: 0.8272082533391615 and parameters: {'C': 34576.962713803056}. Best is trial 20 with value: 0.8950663955226474.\u001b[0m\n"
     ]
    },
    {
     "name": "stdout",
     "output_type": "stream",
     "text": [
      "Overall accuracy: 0.827\n",
      "\n"
     ]
    },
    {
     "name": "stderr",
     "output_type": "stream",
     "text": [
      "\u001b[32m[I 2023-05-11 00:42:37,215]\u001b[0m Trial 51 finished with value: 0.8931157714135167 and parameters: {'C': 3.2134107591774095}. Best is trial 20 with value: 0.8950663955226474.\u001b[0m\n"
     ]
    },
    {
     "name": "stdout",
     "output_type": "stream",
     "text": [
      "Overall accuracy: 0.893\n",
      "\n"
     ]
    },
    {
     "name": "stderr",
     "output_type": "stream",
     "text": [
      "\u001b[32m[I 2023-05-11 00:42:40,075]\u001b[0m Trial 52 finished with value: 0.8938695435895884 and parameters: {'C': 1.220699237250611}. Best is trial 20 with value: 0.8950663955226474.\u001b[0m\n"
     ]
    },
    {
     "name": "stdout",
     "output_type": "stream",
     "text": [
      "Overall accuracy: 0.894\n",
      "\n"
     ]
    },
    {
     "name": "stderr",
     "output_type": "stream",
     "text": [
      "\u001b[32m[I 2023-05-11 00:42:42,988]\u001b[0m Trial 53 finished with value: 0.8890862098815946 and parameters: {'C': 0.8039782445758259}. Best is trial 20 with value: 0.8950663955226474.\u001b[0m\n"
     ]
    },
    {
     "name": "stdout",
     "output_type": "stream",
     "text": [
      "Overall accuracy: 0.889\n",
      "\n"
     ]
    },
    {
     "name": "stderr",
     "output_type": "stream",
     "text": [
      "\u001b[32m[I 2023-05-11 00:42:45,872]\u001b[0m Trial 54 finished with value: 0.876987866669231 and parameters: {'C': 27.073969405047478}. Best is trial 20 with value: 0.8950663955226474.\u001b[0m\n"
     ]
    },
    {
     "name": "stdout",
     "output_type": "stream",
     "text": [
      "Overall accuracy: 0.877\n",
      "\n"
     ]
    },
    {
     "name": "stderr",
     "output_type": "stream",
     "text": [
      "\u001b[32m[I 2023-05-11 00:42:50,027]\u001b[0m Trial 55 finished with value: 0.8600377891187994 and parameters: {'C': 0.10041239312704228}. Best is trial 20 with value: 0.8950663955226474.\u001b[0m\n"
     ]
    },
    {
     "name": "stdout",
     "output_type": "stream",
     "text": [
      "Overall accuracy: 0.861\n",
      "\n"
     ]
    },
    {
     "name": "stderr",
     "output_type": "stream",
     "text": [
      "\u001b[32m[I 2023-05-11 00:42:56,443]\u001b[0m Trial 56 finished with value: 0.750137438288603 and parameters: {'C': 0.012634959049976467}. Best is trial 20 with value: 0.8950663955226474.\u001b[0m\n"
     ]
    },
    {
     "name": "stdout",
     "output_type": "stream",
     "text": [
      "Overall accuracy: 0.765\n",
      "\n"
     ]
    },
    {
     "name": "stderr",
     "output_type": "stream",
     "text": [
      "\u001b[32m[I 2023-05-11 00:42:59,273]\u001b[0m Trial 57 finished with value: 0.8938873306099013 and parameters: {'C': 2.235482258408934}. Best is trial 20 with value: 0.8950663955226474.\u001b[0m\n"
     ]
    },
    {
     "name": "stdout",
     "output_type": "stream",
     "text": [
      "Overall accuracy: 0.894\n",
      "\n"
     ]
    },
    {
     "name": "stderr",
     "output_type": "stream",
     "text": [
      "\u001b[32m[I 2023-05-11 00:43:02,767]\u001b[0m Trial 58 finished with value: 0.8578036077572375 and parameters: {'C': 106.34140184290688}. Best is trial 20 with value: 0.8950663955226474.\u001b[0m\n"
     ]
    },
    {
     "name": "stdout",
     "output_type": "stream",
     "text": [
      "Overall accuracy: 0.858\n",
      "\n"
     ]
    },
    {
     "name": "stderr",
     "output_type": "stream",
     "text": [
      "\u001b[32m[I 2023-05-11 00:43:05,675]\u001b[0m Trial 59 finished with value: 0.8907038836044028 and parameters: {'C': 1.0191212164164858}. Best is trial 20 with value: 0.8950663955226474.\u001b[0m\n"
     ]
    },
    {
     "name": "stdout",
     "output_type": "stream",
     "text": [
      "Overall accuracy: 0.891\n",
      "\n"
     ]
    },
    {
     "name": "stderr",
     "output_type": "stream",
     "text": [
      "\u001b[32m[I 2023-05-11 00:43:09,444]\u001b[0m Trial 60 finished with value: 0.8680715777435234 and parameters: {'C': 0.15090700280910702}. Best is trial 20 with value: 0.8950663955226474.\u001b[0m\n"
     ]
    },
    {
     "name": "stdout",
     "output_type": "stream",
     "text": [
      "Overall accuracy: 0.869\n",
      "\n"
     ]
    },
    {
     "name": "stderr",
     "output_type": "stream",
     "text": [
      "\u001b[32m[I 2023-05-11 00:43:12,178]\u001b[0m Trial 61 finished with value: 0.8899946534291342 and parameters: {'C': 5.8205014514716975}. Best is trial 20 with value: 0.8950663955226474.\u001b[0m\n"
     ]
    },
    {
     "name": "stdout",
     "output_type": "stream",
     "text": [
      "Overall accuracy: 0.890\n",
      "\n"
     ]
    },
    {
     "name": "stderr",
     "output_type": "stream",
     "text": [
      "\u001b[32m[I 2023-05-11 00:43:14,956]\u001b[0m Trial 62 finished with value: 0.8946762723897533 and parameters: {'C': 1.6122617937509256}. Best is trial 20 with value: 0.8950663955226474.\u001b[0m\n"
     ]
    },
    {
     "name": "stdout",
     "output_type": "stream",
     "text": [
      "Overall accuracy: 0.895\n",
      "\n"
     ]
    },
    {
     "name": "stderr",
     "output_type": "stream",
     "text": [
      "\u001b[32m[I 2023-05-11 00:43:20,262]\u001b[0m Trial 63 finished with value: 0.8432073528523019 and parameters: {'C': 0.03897934029633905}. Best is trial 20 with value: 0.8950663955226474.\u001b[0m\n"
     ]
    },
    {
     "name": "stdout",
     "output_type": "stream",
     "text": [
      "Overall accuracy: 0.844\n",
      "\n"
     ]
    },
    {
     "name": "stderr",
     "output_type": "stream",
     "text": [
      "\u001b[32m[I 2023-05-11 00:43:23,019]\u001b[0m Trial 64 finished with value: 0.8797341558813242 and parameters: {'C': 22.320999130407134}. Best is trial 20 with value: 0.8950663955226474.\u001b[0m\n"
     ]
    },
    {
     "name": "stdout",
     "output_type": "stream",
     "text": [
      "Overall accuracy: 0.880\n",
      "\n"
     ]
    },
    {
     "name": "stderr",
     "output_type": "stream",
     "text": [
      "\u001b[32m[I 2023-05-11 00:43:26,002]\u001b[0m Trial 65 finished with value: 0.8906847437208085 and parameters: {'C': 0.9414877538347219}. Best is trial 20 with value: 0.8950663955226474.\u001b[0m\n"
     ]
    },
    {
     "name": "stdout",
     "output_type": "stream",
     "text": [
      "Overall accuracy: 0.891\n",
      "\n"
     ]
    },
    {
     "name": "stderr",
     "output_type": "stream",
     "text": [
      "\u001b[32m[I 2023-05-11 00:43:29,657]\u001b[0m Trial 66 finished with value: 0.8708168526136837 and parameters: {'C': 0.17300630424346386}. Best is trial 20 with value: 0.8950663955226474.\u001b[0m\n"
     ]
    },
    {
     "name": "stdout",
     "output_type": "stream",
     "text": [
      "Overall accuracy: 0.871\n",
      "\n"
     ]
    },
    {
     "name": "stderr",
     "output_type": "stream",
     "text": [
      "\u001b[32m[I 2023-05-11 00:43:33,807]\u001b[0m Trial 67 finished with value: 0.8397271162502558 and parameters: {'C': 442.2984294999749}. Best is trial 20 with value: 0.8950663955226474.\u001b[0m\n"
     ]
    },
    {
     "name": "stdout",
     "output_type": "stream",
     "text": [
      "Overall accuracy: 0.840\n",
      "\n"
     ]
    },
    {
     "name": "stderr",
     "output_type": "stream",
     "text": [
      "\u001b[32m[I 2023-05-11 00:43:36,682]\u001b[0m Trial 68 finished with value: 0.884457036995324 and parameters: {'C': 13.155871162500166}. Best is trial 20 with value: 0.8950663955226474.\u001b[0m\n"
     ]
    },
    {
     "name": "stdout",
     "output_type": "stream",
     "text": [
      "Overall accuracy: 0.885\n",
      "\n"
     ]
    },
    {
     "name": "stderr",
     "output_type": "stream",
     "text": [
      "\u001b[32m[I 2023-05-11 00:43:40,263]\u001b[0m Trial 69 finished with value: 0.866461701054452 and parameters: {'C': 72.68927741424126}. Best is trial 20 with value: 0.8950663955226474.\u001b[0m\n"
     ]
    },
    {
     "name": "stdout",
     "output_type": "stream",
     "text": [
      "Overall accuracy: 0.867\n",
      "\n"
     ]
    },
    {
     "name": "stderr",
     "output_type": "stream",
     "text": [
      "\u001b[32m[I 2023-05-11 00:43:43,102]\u001b[0m Trial 70 finished with value: 0.8942595673876872 and parameters: {'C': 1.2917174147047021}. Best is trial 20 with value: 0.8950663955226474.\u001b[0m\n"
     ]
    },
    {
     "name": "stdout",
     "output_type": "stream",
     "text": [
      "Overall accuracy: 0.895\n",
      "\n"
     ]
    },
    {
     "name": "stderr",
     "output_type": "stream",
     "text": [
      "\u001b[32m[I 2023-05-11 00:43:45,907]\u001b[0m Trial 71 finished with value: 0.8938873306099013 and parameters: {'C': 2.216048213105126}. Best is trial 20 with value: 0.8950663955226474.\u001b[0m\n"
     ]
    },
    {
     "name": "stdout",
     "output_type": "stream",
     "text": [
      "Overall accuracy: 0.894\n",
      "\n"
     ]
    },
    {
     "name": "stderr",
     "output_type": "stream",
     "text": [
      "\u001b[32m[I 2023-05-11 00:43:49,117]\u001b[0m Trial 72 finished with value: 0.8803224379463577 and parameters: {'C': 0.35128883318574733}. Best is trial 20 with value: 0.8950663955226474.\u001b[0m\n"
     ]
    },
    {
     "name": "stdout",
     "output_type": "stream",
     "text": [
      "Overall accuracy: 0.881\n",
      "\n"
     ]
    },
    {
     "name": "stderr",
     "output_type": "stream",
     "text": [
      "\u001b[32m[I 2023-05-11 00:43:51,852]\u001b[0m Trial 73 finished with value: 0.8876117936643935 and parameters: {'C': 7.316347455288938}. Best is trial 20 with value: 0.8950663955226474.\u001b[0m\n"
     ]
    },
    {
     "name": "stdout",
     "output_type": "stream",
     "text": [
      "Overall accuracy: 0.888\n",
      "\n"
     ]
    },
    {
     "name": "stderr",
     "output_type": "stream",
     "text": [
      "\u001b[32m[I 2023-05-11 00:43:57,184]\u001b[0m Trial 74 finished with value: 0.8447911169649048 and parameters: {'C': 0.040629564279156385}. Best is trial 20 with value: 0.8950663955226474.\u001b[0m\n"
     ]
    },
    {
     "name": "stdout",
     "output_type": "stream",
     "text": [
      "Overall accuracy: 0.846\n",
      "\n"
     ]
    },
    {
     "name": "stderr",
     "output_type": "stream",
     "text": [
      "\u001b[32m[I 2023-05-11 00:43:59,986]\u001b[0m Trial 75 finished with value: 0.8946849014594072 and parameters: {'C': 1.9147181858936186}. Best is trial 20 with value: 0.8950663955226474.\u001b[0m\n"
     ]
    },
    {
     "name": "stdout",
     "output_type": "stream",
     "text": [
      "Overall accuracy: 0.895\n",
      "\n"
     ]
    },
    {
     "name": "stderr",
     "output_type": "stream",
     "text": [
      "\u001b[32m[I 2023-05-11 00:44:06,304]\u001b[0m Trial 76 finished with value: 0.3416213416213416 and parameters: {'C': 0.0034560415530518183}. Best is trial 20 with value: 0.8950663955226474.\u001b[0m\n"
     ]
    },
    {
     "name": "stdout",
     "output_type": "stream",
     "text": [
      "Overall accuracy: 0.519\n",
      "\n"
     ]
    },
    {
     "name": "stderr",
     "output_type": "stream",
     "text": [
      "\u001b[32m[I 2023-05-11 00:44:09,283]\u001b[0m Trial 77 finished with value: 0.8758276874808386 and parameters: {'C': 36.777828552684724}. Best is trial 20 with value: 0.8950663955226474.\u001b[0m\n"
     ]
    },
    {
     "name": "stdout",
     "output_type": "stream",
     "text": [
      "Overall accuracy: 0.876\n",
      "\n"
     ]
    },
    {
     "name": "stderr",
     "output_type": "stream",
     "text": [
      "\u001b[32m[I 2023-05-11 00:44:12,745]\u001b[0m Trial 78 finished with value: 0.8783040130317057 and parameters: {'C': 0.30045894921414434}. Best is trial 20 with value: 0.8950663955226474.\u001b[0m\n"
     ]
    },
    {
     "name": "stdout",
     "output_type": "stream",
     "text": [
      "Overall accuracy: 0.879\n",
      "\n"
     ]
    },
    {
     "name": "stderr",
     "output_type": "stream",
     "text": [
      "\u001b[32m[I 2023-05-11 00:44:15,507]\u001b[0m Trial 79 finished with value: 0.8946849014594072 and parameters: {'C': 1.9292645233177539}. Best is trial 20 with value: 0.8950663955226474.\u001b[0m\n"
     ]
    },
    {
     "name": "stdout",
     "output_type": "stream",
     "text": [
      "Overall accuracy: 0.895\n",
      "\n"
     ]
    },
    {
     "name": "stderr",
     "output_type": "stream",
     "text": [
      "\u001b[32m[I 2023-05-11 00:44:21,520]\u001b[0m Trial 80 finished with value: 0.837234507746127 and parameters: {'C': 0.02572097806209695}. Best is trial 20 with value: 0.8950663955226474.\u001b[0m\n"
     ]
    },
    {
     "name": "stdout",
     "output_type": "stream",
     "text": [
      "Overall accuracy: 0.839\n",
      "\n"
     ]
    },
    {
     "name": "stderr",
     "output_type": "stream",
     "text": [
      "\u001b[32m[I 2023-05-11 00:44:24,358]\u001b[0m Trial 81 finished with value: 0.8946762723897533 and parameters: {'C': 1.8392745733433378}. Best is trial 20 with value: 0.8950663955226474.\u001b[0m\n"
     ]
    },
    {
     "name": "stdout",
     "output_type": "stream",
     "text": [
      "Overall accuracy: 0.895\n",
      "\n"
     ]
    },
    {
     "name": "stderr",
     "output_type": "stream",
     "text": [
      "\u001b[32m[I 2023-05-11 00:44:27,128]\u001b[0m Trial 82 finished with value: 0.8868231044971261 and parameters: {'C': 7.778461548447861}. Best is trial 20 with value: 0.8950663955226474.\u001b[0m\n"
     ]
    },
    {
     "name": "stdout",
     "output_type": "stream",
     "text": [
      "Overall accuracy: 0.887\n",
      "\n"
     ]
    },
    {
     "name": "stderr",
     "output_type": "stream",
     "text": [
      "\u001b[32m[I 2023-05-11 00:44:31,040]\u001b[0m Trial 83 finished with value: 0.8652580992703014 and parameters: {'C': 0.13190162188850013}. Best is trial 20 with value: 0.8950663955226474.\u001b[0m\n"
     ]
    },
    {
     "name": "stdout",
     "output_type": "stream",
     "text": [
      "Overall accuracy: 0.866\n",
      "\n"
     ]
    },
    {
     "name": "stderr",
     "output_type": "stream",
     "text": [
      "\u001b[32m[I 2023-05-11 00:44:34,228]\u001b[0m Trial 84 finished with value: 0.8811123888510022 and parameters: {'C': 0.4747559133302824}. Best is trial 20 with value: 0.8950663955226474.\u001b[0m\n"
     ]
    },
    {
     "name": "stdout",
     "output_type": "stream",
     "text": [
      "Overall accuracy: 0.882\n",
      "\n"
     ]
    },
    {
     "name": "stderr",
     "output_type": "stream",
     "text": [
      "\u001b[32m[I 2023-05-11 00:44:37,040]\u001b[0m Trial 85 finished with value: 0.8954565185374062 and parameters: {'C': 1.5277118394110007}. Best is trial 85 with value: 0.8954565185374062.\u001b[0m\n"
     ]
    },
    {
     "name": "stdout",
     "output_type": "stream",
     "text": [
      "Overall accuracy: 0.896\n",
      "\n"
     ]
    },
    {
     "name": "stderr",
     "output_type": "stream",
     "text": [
      "\u001b[32m[I 2023-05-11 00:44:39,775]\u001b[0m Trial 86 finished with value: 0.8880274170963514 and parameters: {'C': 9.639468613173158}. Best is trial 85 with value: 0.8954565185374062.\u001b[0m\n"
     ]
    },
    {
     "name": "stdout",
     "output_type": "stream",
     "text": [
      "Overall accuracy: 0.888\n",
      "\n"
     ]
    },
    {
     "name": "stderr",
     "output_type": "stream",
     "text": [
      "\u001b[32m[I 2023-05-11 00:44:44,277]\u001b[0m Trial 87 finished with value: 0.855277010378556 and parameters: {'C': 0.08425300292194336}. Best is trial 85 with value: 0.8954565185374062.\u001b[0m\n"
     ]
    },
    {
     "name": "stdout",
     "output_type": "stream",
     "text": [
      "Overall accuracy: 0.856\n",
      "\n"
     ]
    },
    {
     "name": "stderr",
     "output_type": "stream",
     "text": [
      "\u001b[32m[I 2023-05-11 00:44:47,528]\u001b[0m Trial 88 finished with value: 0.8695897667113094 and parameters: {'C': 61.399149552724104}. Best is trial 85 with value: 0.8954565185374062.\u001b[0m\n"
     ]
    },
    {
     "name": "stdout",
     "output_type": "stream",
     "text": [
      "Overall accuracy: 0.870\n",
      "\n"
     ]
    },
    {
     "name": "stderr",
     "output_type": "stream",
     "text": [
      "\u001b[32m[I 2023-05-11 00:44:50,365]\u001b[0m Trial 89 finished with value: 0.8930620130790952 and parameters: {'C': 1.1159076267026262}. Best is trial 85 with value: 0.8954565185374062.\u001b[0m\n"
     ]
    },
    {
     "name": "stdout",
     "output_type": "stream",
     "text": [
      "Overall accuracy: 0.893\n",
      "\n"
     ]
    },
    {
     "name": "stderr",
     "output_type": "stream",
     "text": [
      "\u001b[32m[I 2023-05-11 00:44:53,704]\u001b[0m Trial 90 finished with value: 0.8819140825820561 and parameters: {'C': 0.411594175613634}. Best is trial 85 with value: 0.8954565185374062.\u001b[0m\n"
     ]
    },
    {
     "name": "stdout",
     "output_type": "stream",
     "text": [
      "Overall accuracy: 0.882\n",
      "\n"
     ]
    },
    {
     "name": "stderr",
     "output_type": "stream",
     "text": [
      "\u001b[32m[I 2023-05-11 00:44:56,476]\u001b[0m Trial 91 finished with value: 0.8919282082600968 and parameters: {'C': 2.961326254736396}. Best is trial 85 with value: 0.8954565185374062.\u001b[0m\n"
     ]
    },
    {
     "name": "stdout",
     "output_type": "stream",
     "text": [
      "Overall accuracy: 0.892\n",
      "\n"
     ]
    },
    {
     "name": "stderr",
     "output_type": "stream",
     "text": [
      "\u001b[32m[I 2023-05-11 00:44:59,366]\u001b[0m Trial 92 finished with value: 0.8958553699924019 and parameters: {'C': 1.786267905703043}. Best is trial 92 with value: 0.8958553699924019.\u001b[0m\n"
     ]
    },
    {
     "name": "stdout",
     "output_type": "stream",
     "text": [
      "Overall accuracy: 0.896\n",
      "\n"
     ]
    },
    {
     "name": "stderr",
     "output_type": "stream",
     "text": [
      "\u001b[32m[I 2023-05-11 00:45:02,082]\u001b[0m Trial 93 finished with value: 0.882879658660789 and parameters: {'C': 14.301561691448251}. Best is trial 92 with value: 0.8958553699924019.\u001b[0m\n"
     ]
    },
    {
     "name": "stdout",
     "output_type": "stream",
     "text": [
      "Overall accuracy: 0.883\n",
      "\n"
     ]
    },
    {
     "name": "stderr",
     "output_type": "stream",
     "text": [
      "\u001b[32m[I 2023-05-11 00:45:05,011]\u001b[0m Trial 94 finished with value: 0.8934612655002263 and parameters: {'C': 1.1488848691915734}. Best is trial 92 with value: 0.8958553699924019.\u001b[0m\n"
     ]
    },
    {
     "name": "stdout",
     "output_type": "stream",
     "text": [
      "Overall accuracy: 0.894\n",
      "\n"
     ]
    },
    {
     "name": "stderr",
     "output_type": "stream",
     "text": [
      "\u001b[32m[I 2023-05-11 00:45:08,145]\u001b[0m Trial 95 finished with value: 0.8758276874808386 and parameters: {'C': 36.55095491437026}. Best is trial 92 with value: 0.8958553699924019.\u001b[0m\n"
     ]
    },
    {
     "name": "stdout",
     "output_type": "stream",
     "text": [
      "Overall accuracy: 0.876\n",
      "\n"
     ]
    },
    {
     "name": "stderr",
     "output_type": "stream",
     "text": [
      "\u001b[32m[I 2023-05-11 00:45:10,884]\u001b[0m Trial 96 finished with value: 0.8927340965278951 and parameters: {'C': 3.6453726259775525}. Best is trial 92 with value: 0.8958553699924019.\u001b[0m\n"
     ]
    },
    {
     "name": "stdout",
     "output_type": "stream",
     "text": [
      "Overall accuracy: 0.893\n",
      "\n"
     ]
    },
    {
     "name": "stderr",
     "output_type": "stream",
     "text": [
      "\u001b[32m[I 2023-05-11 00:45:14,608]\u001b[0m Trial 97 finished with value: 0.8727855860426021 and parameters: {'C': 0.18933218355801784}. Best is trial 92 with value: 0.8958553699924019.\u001b[0m\n"
     ]
    },
    {
     "name": "stdout",
     "output_type": "stream",
     "text": [
      "Overall accuracy: 0.873\n",
      "\n"
     ]
    },
    {
     "name": "stderr",
     "output_type": "stream",
     "text": [
      "\u001b[32m[I 2023-05-11 00:45:18,690]\u001b[0m Trial 98 finished with value: 0.8476320136422035 and parameters: {'C': 255.481863262185}. Best is trial 92 with value: 0.8958553699924019.\u001b[0m\n"
     ]
    },
    {
     "name": "stdout",
     "output_type": "stream",
     "text": [
      "Overall accuracy: 0.848\n",
      "\n"
     ]
    },
    {
     "name": "stderr",
     "output_type": "stream",
     "text": [
      "\u001b[32m[I 2023-05-11 00:45:23,475]\u001b[0m Trial 99 finished with value: 0.8536618305294027 and parameters: {'C': 0.06440123400921313}. Best is trial 92 with value: 0.8958553699924019.\u001b[0m\n",
      "\u001b[32m[I 2023-05-11 00:45:23,636]\u001b[0m A new study created in memory with name: no-name-b75b5a48-5992-4bfc-87ed-dbea86cbfd90\u001b[0m\n"
     ]
    },
    {
     "name": "stdout",
     "output_type": "stream",
     "text": [
      "Overall accuracy: 0.854\n",
      "\n",
      "Accuracy: 0.8958553699924019\n",
      "Best hyperparameters: {'C': 1.786267905703043}\n",
      "\n",
      "\n",
      "\n",
      "Model :- SVC, DataType :- DPC\n"
     ]
    },
    {
     "name": "stderr",
     "output_type": "stream",
     "text": [
      "\u001b[32m[I 2023-05-11 00:45:40,485]\u001b[0m Trial 0 finished with value: 0.3416213416213416 and parameters: {'C': 2.725037528427099e-08}. Best is trial 0 with value: 0.3416213416213416.\u001b[0m\n"
     ]
    },
    {
     "name": "stdout",
     "output_type": "stream",
     "text": [
      "Overall accuracy: 0.519\n",
      "\n"
     ]
    },
    {
     "name": "stderr",
     "output_type": "stream",
     "text": [
      "\u001b[32m[I 2023-05-11 00:45:52,603]\u001b[0m Trial 1 finished with value: 0.8892382456491282 and parameters: {'C': 65.71643586851592}. Best is trial 1 with value: 0.8892382456491282.\u001b[0m\n"
     ]
    },
    {
     "name": "stdout",
     "output_type": "stream",
     "text": [
      "Overall accuracy: 0.889\n",
      "\n"
     ]
    },
    {
     "name": "stderr",
     "output_type": "stream",
     "text": [
      "\u001b[32m[I 2023-05-11 00:46:09,178]\u001b[0m Trial 2 finished with value: 0.3416213416213416 and parameters: {'C': 7.691277699933456e-07}. Best is trial 1 with value: 0.8892382456491282.\u001b[0m\n"
     ]
    },
    {
     "name": "stdout",
     "output_type": "stream",
     "text": [
      "Overall accuracy: 0.519\n",
      "\n"
     ]
    },
    {
     "name": "stderr",
     "output_type": "stream",
     "text": [
      "\u001b[32m[I 2023-05-11 00:46:21,438]\u001b[0m Trial 3 finished with value: 0.8876615658718916 and parameters: {'C': 1840.5304819976154}. Best is trial 1 with value: 0.8892382456491282.\u001b[0m\n"
     ]
    },
    {
     "name": "stdout",
     "output_type": "stream",
     "text": [
      "Overall accuracy: 0.888\n",
      "\n"
     ]
    },
    {
     "name": "stderr",
     "output_type": "stream",
     "text": [
      "\u001b[32m[I 2023-05-11 00:46:34,095]\u001b[0m Trial 4 finished with value: 0.8876615658718916 and parameters: {'C': 435696.0018196898}. Best is trial 1 with value: 0.8892382456491282.\u001b[0m\n"
     ]
    },
    {
     "name": "stdout",
     "output_type": "stream",
     "text": [
      "Overall accuracy: 0.888\n",
      "\n"
     ]
    },
    {
     "name": "stderr",
     "output_type": "stream",
     "text": [
      "\u001b[32m[I 2023-05-11 00:46:46,568]\u001b[0m Trial 5 finished with value: 0.8876615658718916 and parameters: {'C': 331670.5345415848}. Best is trial 1 with value: 0.8892382456491282.\u001b[0m\n"
     ]
    },
    {
     "name": "stdout",
     "output_type": "stream",
     "text": [
      "Overall accuracy: 0.888\n",
      "\n"
     ]
    },
    {
     "name": "stderr",
     "output_type": "stream",
     "text": [
      "\u001b[32m[I 2023-05-11 00:46:58,539]\u001b[0m Trial 6 finished with value: 0.8876615658718916 and parameters: {'C': 500.36786046959367}. Best is trial 1 with value: 0.8892382456491282.\u001b[0m\n"
     ]
    },
    {
     "name": "stdout",
     "output_type": "stream",
     "text": [
      "Overall accuracy: 0.888\n",
      "\n"
     ]
    },
    {
     "name": "stderr",
     "output_type": "stream",
     "text": [
      "\u001b[32m[I 2023-05-11 00:47:08,522]\u001b[0m Trial 7 finished with value: 0.8958287929335547 and parameters: {'C': 1.9998729043407022}. Best is trial 7 with value: 0.8958287929335547.\u001b[0m\n"
     ]
    },
    {
     "name": "stdout",
     "output_type": "stream",
     "text": [
      "Overall accuracy: 0.896\n",
      "\n"
     ]
    },
    {
     "name": "stderr",
     "output_type": "stream",
     "text": [
      "\u001b[32m[I 2023-05-11 00:47:24,675]\u001b[0m Trial 8 finished with value: 0.3416213416213416 and parameters: {'C': 3.480500600432074e-05}. Best is trial 7 with value: 0.8958287929335547.\u001b[0m\n"
     ]
    },
    {
     "name": "stdout",
     "output_type": "stream",
     "text": [
      "Overall accuracy: 0.519\n",
      "\n"
     ]
    },
    {
     "name": "stderr",
     "output_type": "stream",
     "text": [
      "\u001b[32m[I 2023-05-11 00:47:40,425]\u001b[0m Trial 9 finished with value: 0.8145274465971188 and parameters: {'C': 0.054657397276350835}. Best is trial 7 with value: 0.8958287929335547.\u001b[0m\n"
     ]
    },
    {
     "name": "stdout",
     "output_type": "stream",
     "text": [
      "Overall accuracy: 0.815\n",
      "\n"
     ]
    },
    {
     "name": "stderr",
     "output_type": "stream",
     "text": [
      "\u001b[32m[I 2023-05-11 00:47:52,612]\u001b[0m Trial 10 finished with value: 0.8876615658718916 and parameters: {'C': 1004783902.4580961}. Best is trial 7 with value: 0.8958287929335547.\u001b[0m\n"
     ]
    },
    {
     "name": "stdout",
     "output_type": "stream",
     "text": [
      "Overall accuracy: 0.888\n",
      "\n"
     ]
    },
    {
     "name": "stderr",
     "output_type": "stream",
     "text": [
      "\u001b[32m[I 2023-05-11 00:48:09,848]\u001b[0m Trial 11 finished with value: 0.3416213416213416 and parameters: {'C': 0.014031630965002501}. Best is trial 7 with value: 0.8958287929335547.\u001b[0m\n"
     ]
    },
    {
     "name": "stdout",
     "output_type": "stream",
     "text": [
      "Overall accuracy: 0.519\n",
      "\n"
     ]
    },
    {
     "name": "stderr",
     "output_type": "stream",
     "text": [
      "\u001b[32m[I 2023-05-11 00:48:21,931]\u001b[0m Trial 12 finished with value: 0.8943661404014749 and parameters: {'C': 14.50630078178213}. Best is trial 7 with value: 0.8958287929335547.\u001b[0m\n"
     ]
    },
    {
     "name": "stdout",
     "output_type": "stream",
     "text": [
      "Overall accuracy: 0.895\n",
      "\n"
     ]
    },
    {
     "name": "stderr",
     "output_type": "stream",
     "text": [
      "\u001b[32m[I 2023-05-11 00:48:38,922]\u001b[0m Trial 13 finished with value: 0.3416213416213416 and parameters: {'C': 0.004058719259929204}. Best is trial 7 with value: 0.8958287929335547.\u001b[0m\n"
     ]
    },
    {
     "name": "stdout",
     "output_type": "stream",
     "text": [
      "Overall accuracy: 0.519\n",
      "\n"
     ]
    },
    {
     "name": "stderr",
     "output_type": "stream",
     "text": [
      "\u001b[32m[I 2023-05-11 00:48:55,652]\u001b[0m Trial 14 finished with value: 0.3416213416213416 and parameters: {'C': 2.1584735458515374e-10}. Best is trial 7 with value: 0.8958287929335547.\u001b[0m\n"
     ]
    },
    {
     "name": "stdout",
     "output_type": "stream",
     "text": [
      "Overall accuracy: 0.519\n",
      "\n"
     ]
    },
    {
     "name": "stderr",
     "output_type": "stream",
     "text": [
      "\u001b[32m[I 2023-05-11 00:49:05,496]\u001b[0m Trial 15 finished with value: 0.8950576012048543 and parameters: {'C': 2.5704638486501534}. Best is trial 7 with value: 0.8958287929335547.\u001b[0m\n"
     ]
    },
    {
     "name": "stdout",
     "output_type": "stream",
     "text": [
      "Overall accuracy: 0.895\n",
      "\n"
     ]
    },
    {
     "name": "stderr",
     "output_type": "stream",
     "text": [
      "\u001b[32m[I 2023-05-11 00:49:17,561]\u001b[0m Trial 16 finished with value: 0.8747147586963907 and parameters: {'C': 0.3266616748309048}. Best is trial 7 with value: 0.8958287929335547.\u001b[0m\n"
     ]
    },
    {
     "name": "stdout",
     "output_type": "stream",
     "text": [
      "Overall accuracy: 0.875\n",
      "\n"
     ]
    },
    {
     "name": "stderr",
     "output_type": "stream",
     "text": [
      "\u001b[32m[I 2023-05-11 00:49:34,929]\u001b[0m Trial 17 finished with value: 0.3416213416213416 and parameters: {'C': 0.0005990799338458401}. Best is trial 7 with value: 0.8958287929335547.\u001b[0m\n"
     ]
    },
    {
     "name": "stdout",
     "output_type": "stream",
     "text": [
      "Overall accuracy: 0.519\n",
      "\n"
     ]
    },
    {
     "name": "stderr",
     "output_type": "stream",
     "text": [
      "\u001b[32m[I 2023-05-11 00:49:45,068]\u001b[0m Trial 18 finished with value: 0.8850269860698257 and parameters: {'C': 0.749410406059735}. Best is trial 7 with value: 0.8958287929335547.\u001b[0m\n"
     ]
    },
    {
     "name": "stdout",
     "output_type": "stream",
     "text": [
      "Overall accuracy: 0.886\n",
      "\n"
     ]
    },
    {
     "name": "stderr",
     "output_type": "stream",
     "text": [
      "\u001b[32m[I 2023-05-11 00:50:01,753]\u001b[0m Trial 19 finished with value: 0.3416213416213416 and parameters: {'C': 0.00011561164987434619}. Best is trial 7 with value: 0.8958287929335547.\u001b[0m\n"
     ]
    },
    {
     "name": "stdout",
     "output_type": "stream",
     "text": [
      "Overall accuracy: 0.519\n",
      "\n"
     ]
    },
    {
     "name": "stderr",
     "output_type": "stream",
     "text": [
      "\u001b[32m[I 2023-05-11 00:50:11,777]\u001b[0m Trial 20 finished with value: 0.8954476916403009 and parameters: {'C': 2.4906420993186216}. Best is trial 7 with value: 0.8958287929335547.\u001b[0m\n"
     ]
    },
    {
     "name": "stdout",
     "output_type": "stream",
     "text": [
      "Overall accuracy: 0.896\n",
      "\n"
     ]
    },
    {
     "name": "stderr",
     "output_type": "stream",
     "text": [
      "\u001b[32m[I 2023-05-11 00:50:23,190]\u001b[0m Trial 21 finished with value: 0.8939607870868114 and parameters: {'C': 8.96099143743298}. Best is trial 7 with value: 0.8958287929335547.\u001b[0m\n"
     ]
    },
    {
     "name": "stdout",
     "output_type": "stream",
     "text": [
      "Overall accuracy: 0.894\n",
      "\n"
     ]
    },
    {
     "name": "stderr",
     "output_type": "stream",
     "text": [
      "\u001b[32m[I 2023-05-11 00:50:34,282]\u001b[0m Trial 22 finished with value: 0.8758802187228066 and parameters: {'C': 0.3737879421020984}. Best is trial 7 with value: 0.8958287929335547.\u001b[0m\n"
     ]
    },
    {
     "name": "stdout",
     "output_type": "stream",
     "text": [
      "Overall accuracy: 0.876\n",
      "\n"
     ]
    },
    {
     "name": "stderr",
     "output_type": "stream",
     "text": [
      "\u001b[32m[I 2023-05-11 00:50:51,498]\u001b[0m Trial 23 finished with value: 0.3416213416213416 and parameters: {'C': 0.014116373235489886}. Best is trial 7 with value: 0.8958287929335547.\u001b[0m\n"
     ]
    },
    {
     "name": "stdout",
     "output_type": "stream",
     "text": [
      "Overall accuracy: 0.519\n",
      "\n"
     ]
    },
    {
     "name": "stderr",
     "output_type": "stream",
     "text": [
      "\u001b[32m[I 2023-05-11 00:51:01,249]\u001b[0m Trial 24 finished with value: 0.9022137840319657 and parameters: {'C': 5.411015367707099}. Best is trial 24 with value: 0.9022137840319657.\u001b[0m\n"
     ]
    },
    {
     "name": "stdout",
     "output_type": "stream",
     "text": [
      "Overall accuracy: 0.902\n",
      "\n"
     ]
    },
    {
     "name": "stderr",
     "output_type": "stream",
     "text": [
      "\u001b[32m[I 2023-05-11 00:51:13,202]\u001b[0m Trial 25 finished with value: 0.8876615658718916 and parameters: {'C': 3021.272632699725}. Best is trial 24 with value: 0.9022137840319657.\u001b[0m\n"
     ]
    },
    {
     "name": "stdout",
     "output_type": "stream",
     "text": [
      "Overall accuracy: 0.888\n",
      "\n"
     ]
    },
    {
     "name": "stderr",
     "output_type": "stream",
     "text": [
      "\u001b[32m[I 2023-05-11 00:51:25,072]\u001b[0m Trial 26 finished with value: 0.8888556055013097 and parameters: {'C': 91.68559099673966}. Best is trial 24 with value: 0.9022137840319657.\u001b[0m\n"
     ]
    },
    {
     "name": "stdout",
     "output_type": "stream",
     "text": [
      "Overall accuracy: 0.889\n",
      "\n"
     ]
    },
    {
     "name": "stderr",
     "output_type": "stream",
     "text": [
      "\u001b[32m[I 2023-05-11 00:51:40,327]\u001b[0m Trial 27 finished with value: 0.8358370591157477 and parameters: {'C': 0.10159049279783725}. Best is trial 24 with value: 0.9022137840319657.\u001b[0m\n"
     ]
    },
    {
     "name": "stdout",
     "output_type": "stream",
     "text": [
      "Overall accuracy: 0.836\n",
      "\n"
     ]
    },
    {
     "name": "stderr",
     "output_type": "stream",
     "text": [
      "\u001b[32m[I 2023-05-11 00:51:50,018]\u001b[0m Trial 28 finished with value: 0.8962188540214096 and parameters: {'C': 1.935773959180159}. Best is trial 24 with value: 0.9022137840319657.\u001b[0m\n"
     ]
    },
    {
     "name": "stdout",
     "output_type": "stream",
     "text": [
      "Overall accuracy: 0.897\n",
      "\n"
     ]
    },
    {
     "name": "stderr",
     "output_type": "stream",
     "text": [
      "\u001b[32m[I 2023-05-11 00:52:06,344]\u001b[0m Trial 29 finished with value: 0.3416213416213416 and parameters: {'C': 7.088378092972216e-06}. Best is trial 24 with value: 0.9022137840319657.\u001b[0m\n"
     ]
    },
    {
     "name": "stdout",
     "output_type": "stream",
     "text": [
      "Overall accuracy: 0.519\n",
      "\n"
     ]
    },
    {
     "name": "stderr",
     "output_type": "stream",
     "text": [
      "\u001b[32m[I 2023-05-11 00:52:22,896]\u001b[0m Trial 30 finished with value: 0.3416213416213416 and parameters: {'C': 0.002032000863717607}. Best is trial 24 with value: 0.9022137840319657.\u001b[0m\n"
     ]
    },
    {
     "name": "stdout",
     "output_type": "stream",
     "text": [
      "Overall accuracy: 0.519\n",
      "\n"
     ]
    },
    {
     "name": "stderr",
     "output_type": "stream",
     "text": [
      "\u001b[32m[I 2023-05-11 00:52:32,816]\u001b[0m Trial 31 finished with value: 0.9006365870002233 and parameters: {'C': 5.2102044629988535}. Best is trial 24 with value: 0.9022137840319657.\u001b[0m\n"
     ]
    },
    {
     "name": "stdout",
     "output_type": "stream",
     "text": [
      "Overall accuracy: 0.901\n",
      "\n"
     ]
    },
    {
     "name": "stderr",
     "output_type": "stream",
     "text": [
      "\u001b[32m[I 2023-05-11 00:52:44,926]\u001b[0m Trial 32 finished with value: 0.888059641320966 and parameters: {'C': 112.5471493762088}. Best is trial 24 with value: 0.9022137840319657.\u001b[0m\n"
     ]
    },
    {
     "name": "stdout",
     "output_type": "stream",
     "text": [
      "Overall accuracy: 0.888\n",
      "\n"
     ]
    },
    {
     "name": "stderr",
     "output_type": "stream",
     "text": [
      "\u001b[32m[I 2023-05-11 00:52:57,653]\u001b[0m Trial 33 finished with value: 0.8951544527865385 and parameters: {'C': 15.558684643492962}. Best is trial 24 with value: 0.9022137840319657.\u001b[0m\n"
     ]
    },
    {
     "name": "stdout",
     "output_type": "stream",
     "text": [
      "Overall accuracy: 0.895\n",
      "\n"
     ]
    },
    {
     "name": "stderr",
     "output_type": "stream",
     "text": [
      "\u001b[32m[I 2023-05-11 00:53:08,939]\u001b[0m Trial 34 finished with value: 0.8751032420491183 and parameters: {'C': 0.3357522556914312}. Best is trial 24 with value: 0.9022137840319657.\u001b[0m\n"
     ]
    },
    {
     "name": "stdout",
     "output_type": "stream",
     "text": [
      "Overall accuracy: 0.876\n",
      "\n"
     ]
    },
    {
     "name": "stderr",
     "output_type": "stream",
     "text": [
      "\u001b[32m[I 2023-05-11 00:53:25,186]\u001b[0m Trial 35 finished with value: 0.3416213416213416 and parameters: {'C': 0.0009786280714293547}. Best is trial 24 with value: 0.9022137840319657.\u001b[0m\n"
     ]
    },
    {
     "name": "stdout",
     "output_type": "stream",
     "text": [
      "Overall accuracy: 0.519\n",
      "\n"
     ]
    },
    {
     "name": "stderr",
     "output_type": "stream",
     "text": [
      "\u001b[32m[I 2023-05-11 00:53:37,156]\u001b[0m Trial 36 finished with value: 0.8876615658718916 and parameters: {'C': 2503.746869794512}. Best is trial 24 with value: 0.9022137840319657.\u001b[0m\n"
     ]
    },
    {
     "name": "stdout",
     "output_type": "stream",
     "text": [
      "Overall accuracy: 0.888\n",
      "\n"
     ]
    },
    {
     "name": "stderr",
     "output_type": "stream",
     "text": [
      "\u001b[32m[I 2023-05-11 00:53:53,468]\u001b[0m Trial 37 finished with value: 0.814897327775586 and parameters: {'C': 0.057644537725077265}. Best is trial 24 with value: 0.9022137840319657.\u001b[0m\n"
     ]
    },
    {
     "name": "stdout",
     "output_type": "stream",
     "text": [
      "Overall accuracy: 0.815\n",
      "\n"
     ]
    },
    {
     "name": "stderr",
     "output_type": "stream",
     "text": [
      "\u001b[32m[I 2023-05-11 00:54:05,689]\u001b[0m Trial 38 finished with value: 0.8884420176415153 and parameters: {'C': 207.8666626687159}. Best is trial 24 with value: 0.9022137840319657.\u001b[0m\n"
     ]
    },
    {
     "name": "stdout",
     "output_type": "stream",
     "text": [
      "Overall accuracy: 0.889\n",
      "\n"
     ]
    },
    {
     "name": "stderr",
     "output_type": "stream",
     "text": [
      "\u001b[32m[I 2023-05-11 00:54:17,831]\u001b[0m Trial 39 finished with value: 0.8876615658718916 and parameters: {'C': 7065.058434293999}. Best is trial 24 with value: 0.9022137840319657.\u001b[0m\n"
     ]
    },
    {
     "name": "stdout",
     "output_type": "stream",
     "text": [
      "Overall accuracy: 0.888\n",
      "\n"
     ]
    },
    {
     "name": "stderr",
     "output_type": "stream",
     "text": [
      "\u001b[32m[I 2023-05-11 00:54:27,591]\u001b[0m Trial 40 finished with value: 0.9002308203406721 and parameters: {'C': 4.767082513169793}. Best is trial 24 with value: 0.9022137840319657.\u001b[0m\n"
     ]
    },
    {
     "name": "stdout",
     "output_type": "stream",
     "text": [
      "Overall accuracy: 0.900\n",
      "\n"
     ]
    },
    {
     "name": "stderr",
     "output_type": "stream",
     "text": [
      "\u001b[32m[I 2023-05-11 00:54:40,052]\u001b[0m Trial 41 finished with value: 0.8951471040670094 and parameters: {'C': 18.02358866682573}. Best is trial 24 with value: 0.9022137840319657.\u001b[0m\n"
     ]
    },
    {
     "name": "stdout",
     "output_type": "stream",
     "text": [
      "Overall accuracy: 0.895\n",
      "\n"
     ]
    },
    {
     "name": "stderr",
     "output_type": "stream",
     "text": [
      "\u001b[32m[I 2023-05-11 00:54:50,449]\u001b[0m Trial 42 finished with value: 0.8962278750467796 and parameters: {'C': 2.286122341764873}. Best is trial 24 with value: 0.9022137840319657.\u001b[0m\n"
     ]
    },
    {
     "name": "stdout",
     "output_type": "stream",
     "text": [
      "Overall accuracy: 0.897\n",
      "\n"
     ]
    },
    {
     "name": "stderr",
     "output_type": "stream",
     "text": [
      "\u001b[32m[I 2023-05-11 00:55:03,113]\u001b[0m Trial 43 finished with value: 0.8876615658718916 and parameters: {'C': 498.3450065063665}. Best is trial 24 with value: 0.9022137840319657.\u001b[0m\n"
     ]
    },
    {
     "name": "stdout",
     "output_type": "stream",
     "text": [
      "Overall accuracy: 0.888\n",
      "\n"
     ]
    },
    {
     "name": "stderr",
     "output_type": "stream",
     "text": [
      "\u001b[32m[I 2023-05-11 00:55:13,211]\u001b[0m Trial 44 finished with value: 0.8962792649599303 and parameters: {'C': 3.380940043973727}. Best is trial 24 with value: 0.9022137840319657.\u001b[0m\n"
     ]
    },
    {
     "name": "stdout",
     "output_type": "stream",
     "text": [
      "Overall accuracy: 0.897\n",
      "\n"
     ]
    },
    {
     "name": "stderr",
     "output_type": "stream",
     "text": [
      "\u001b[32m[I 2023-05-11 00:55:25,558]\u001b[0m Trial 45 finished with value: 0.8876615658718916 and parameters: {'C': 30703.79201841315}. Best is trial 24 with value: 0.9022137840319657.\u001b[0m\n"
     ]
    },
    {
     "name": "stdout",
     "output_type": "stream",
     "text": [
      "Overall accuracy: 0.888\n",
      "\n"
     ]
    },
    {
     "name": "stderr",
     "output_type": "stream",
     "text": [
      "\u001b[32m[I 2023-05-11 00:55:37,780]\u001b[0m Trial 46 finished with value: 0.8892459395330727 and parameters: {'C': 75.70570138946552}. Best is trial 24 with value: 0.9022137840319657.\u001b[0m\n"
     ]
    },
    {
     "name": "stdout",
     "output_type": "stream",
     "text": [
      "Overall accuracy: 0.889\n",
      "\n"
     ]
    },
    {
     "name": "stderr",
     "output_type": "stream",
     "text": [
      "\u001b[32m[I 2023-05-11 00:55:54,852]\u001b[0m Trial 47 finished with value: 0.3416213416213416 and parameters: {'C': 0.013299095100816801}. Best is trial 24 with value: 0.9022137840319657.\u001b[0m\n"
     ]
    },
    {
     "name": "stdout",
     "output_type": "stream",
     "text": [
      "Overall accuracy: 0.519\n",
      "\n"
     ]
    },
    {
     "name": "stderr",
     "output_type": "stream",
     "text": [
      "\u001b[32m[I 2023-05-11 00:56:06,983]\u001b[0m Trial 48 finished with value: 0.8888241643713244 and parameters: {'C': 28.12977020926667}. Best is trial 24 with value: 0.9022137840319657.\u001b[0m\n"
     ]
    },
    {
     "name": "stdout",
     "output_type": "stream",
     "text": [
      "Overall accuracy: 0.889\n",
      "\n"
     ]
    },
    {
     "name": "stderr",
     "output_type": "stream",
     "text": [
      "\u001b[32m[I 2023-05-11 00:56:19,441]\u001b[0m Trial 49 finished with value: 0.8876615658718916 and parameters: {'C': 416.59099560475283}. Best is trial 24 with value: 0.9022137840319657.\u001b[0m\n"
     ]
    },
    {
     "name": "stdout",
     "output_type": "stream",
     "text": [
      "Overall accuracy: 0.888\n",
      "\n"
     ]
    },
    {
     "name": "stderr",
     "output_type": "stream",
     "text": [
      "\u001b[32m[I 2023-05-11 00:56:29,556]\u001b[0m Trial 50 finished with value: 0.9006365870002233 and parameters: {'C': 5.164217358073267}. Best is trial 24 with value: 0.9022137840319657.\u001b[0m\n"
     ]
    },
    {
     "name": "stdout",
     "output_type": "stream",
     "text": [
      "Overall accuracy: 0.901\n",
      "\n"
     ]
    },
    {
     "name": "stderr",
     "output_type": "stream",
     "text": [
      "\u001b[32m[I 2023-05-11 00:56:39,324]\u001b[0m Trial 51 finished with value: 0.9006365870002233 and parameters: {'C': 5.199119266845578}. Best is trial 24 with value: 0.9022137840319657.\u001b[0m\n"
     ]
    },
    {
     "name": "stdout",
     "output_type": "stream",
     "text": [
      "Overall accuracy: 0.901\n",
      "\n"
     ]
    },
    {
     "name": "stderr",
     "output_type": "stream",
     "text": [
      "\u001b[32m[I 2023-05-11 00:56:49,116]\u001b[0m Trial 52 finished with value: 0.9022211247883631 and parameters: {'C': 5.699267494567254}. Best is trial 52 with value: 0.9022211247883631.\u001b[0m\n"
     ]
    },
    {
     "name": "stdout",
     "output_type": "stream",
     "text": [
      "Overall accuracy: 0.902\n",
      "\n"
     ]
    },
    {
     "name": "stderr",
     "output_type": "stream",
     "text": [
      "\u001b[32m[I 2023-05-11 00:57:00,512]\u001b[0m Trial 53 finished with value: 0.877863314725432 and parameters: {'C': 0.3978431061597213}. Best is trial 52 with value: 0.9022211247883631.\u001b[0m\n"
     ]
    },
    {
     "name": "stdout",
     "output_type": "stream",
     "text": [
      "Overall accuracy: 0.878\n",
      "\n"
     ]
    },
    {
     "name": "stderr",
     "output_type": "stream",
     "text": [
      "\u001b[32m[I 2023-05-11 00:57:12,317]\u001b[0m Trial 54 finished with value: 0.8951544527865385 and parameters: {'C': 10.878045278897572}. Best is trial 52 with value: 0.9022211247883631.\u001b[0m\n"
     ]
    },
    {
     "name": "stdout",
     "output_type": "stream",
     "text": [
      "Overall accuracy: 0.895\n",
      "\n"
     ]
    },
    {
     "name": "stderr",
     "output_type": "stream",
     "text": [
      "\u001b[32m[I 2023-05-11 00:57:25,823]\u001b[0m Trial 55 finished with value: 0.8570117100094475 and parameters: {'C': 0.1707286718741979}. Best is trial 52 with value: 0.9022211247883631.\u001b[0m\n"
     ]
    },
    {
     "name": "stdout",
     "output_type": "stream",
     "text": [
      "Overall accuracy: 0.858\n",
      "\n"
     ]
    },
    {
     "name": "stderr",
     "output_type": "stream",
     "text": [
      "\u001b[32m[I 2023-05-11 00:57:37,897]\u001b[0m Trial 56 finished with value: 0.888059641320966 and parameters: {'C': 44.864857069453635}. Best is trial 52 with value: 0.9022211247883631.\u001b[0m\n"
     ]
    },
    {
     "name": "stdout",
     "output_type": "stream",
     "text": [
      "Overall accuracy: 0.888\n",
      "\n"
     ]
    },
    {
     "name": "stderr",
     "output_type": "stream",
     "text": [
      "\u001b[32m[I 2023-05-11 00:57:54,355]\u001b[0m Trial 57 finished with value: 0.8077220035241921 and parameters: {'C': 0.047218889435038186}. Best is trial 52 with value: 0.9022211247883631.\u001b[0m\n"
     ]
    },
    {
     "name": "stdout",
     "output_type": "stream",
     "text": [
      "Overall accuracy: 0.808\n",
      "\n"
     ]
    },
    {
     "name": "stderr",
     "output_type": "stream",
     "text": [
      "\u001b[32m[I 2023-05-11 00:58:04,393]\u001b[0m Trial 58 finished with value: 0.8898128061551627 and parameters: {'C': 0.9595362004619666}. Best is trial 52 with value: 0.9022211247883631.\u001b[0m\n"
     ]
    },
    {
     "name": "stdout",
     "output_type": "stream",
     "text": [
      "Overall accuracy: 0.890\n",
      "\n"
     ]
    },
    {
     "name": "stderr",
     "output_type": "stream",
     "text": [
      "\u001b[32m[I 2023-05-11 00:58:14,337]\u001b[0m Trial 59 finished with value: 0.9018231853184746 and parameters: {'C': 5.567423774534812}. Best is trial 52 with value: 0.9022211247883631.\u001b[0m\n"
     ]
    },
    {
     "name": "stdout",
     "output_type": "stream",
     "text": [
      "Overall accuracy: 0.902\n",
      "\n"
     ]
    },
    {
     "name": "stderr",
     "output_type": "stream",
     "text": [
      "\u001b[32m[I 2023-05-11 00:58:26,364]\u001b[0m Trial 60 finished with value: 0.8876615658718916 and parameters: {'C': 562.8891506646875}. Best is trial 52 with value: 0.9022211247883631.\u001b[0m\n"
     ]
    },
    {
     "name": "stdout",
     "output_type": "stream",
     "text": [
      "Overall accuracy: 0.888\n",
      "\n"
     ]
    },
    {
     "name": "stderr",
     "output_type": "stream",
     "text": [
      "\u001b[32m[I 2023-05-11 00:58:36,435]\u001b[0m Trial 61 finished with value: 0.8954476916403009 and parameters: {'C': 2.4907827662202386}. Best is trial 52 with value: 0.9022211247883631.\u001b[0m\n"
     ]
    },
    {
     "name": "stdout",
     "output_type": "stream",
     "text": [
      "Overall accuracy: 0.896\n",
      "\n"
     ]
    },
    {
     "name": "stderr",
     "output_type": "stream",
     "text": [
      "\u001b[32m[I 2023-05-11 00:58:48,948]\u001b[0m Trial 62 finished with value: 0.8947639354282222 and parameters: {'C': 14.857187541459647}. Best is trial 52 with value: 0.9022211247883631.\u001b[0m\n"
     ]
    },
    {
     "name": "stdout",
     "output_type": "stream",
     "text": [
      "Overall accuracy: 0.895\n",
      "\n"
     ]
    },
    {
     "name": "stderr",
     "output_type": "stream",
     "text": [
      "\u001b[32m[I 2023-05-11 00:58:59,176]\u001b[0m Trial 63 finished with value: 0.8866073711410308 and parameters: {'C': 0.8018843029468709}. Best is trial 52 with value: 0.9022211247883631.\u001b[0m\n"
     ]
    },
    {
     "name": "stdout",
     "output_type": "stream",
     "text": [
      "Overall accuracy: 0.887\n",
      "\n"
     ]
    },
    {
     "name": "stderr",
     "output_type": "stream",
     "text": [
      "\u001b[32m[I 2023-05-11 00:59:09,086]\u001b[0m Trial 64 finished with value: 0.901041984129606 and parameters: {'C': 5.3440116705769825}. Best is trial 52 with value: 0.9022211247883631.\u001b[0m\n"
     ]
    },
    {
     "name": "stdout",
     "output_type": "stream",
     "text": [
      "Overall accuracy: 0.901\n",
      "\n"
     ]
    },
    {
     "name": "stderr",
     "output_type": "stream",
     "text": [
      "\u001b[32m[I 2023-05-11 00:59:21,738]\u001b[0m Trial 65 finished with value: 0.888059641320966 and parameters: {'C': 56.86800991155667}. Best is trial 52 with value: 0.9022211247883631.\u001b[0m\n"
     ]
    },
    {
     "name": "stdout",
     "output_type": "stream",
     "text": [
      "Overall accuracy: 0.888\n",
      "\n"
     ]
    },
    {
     "name": "stderr",
     "output_type": "stream",
     "text": [
      "\u001b[32m[I 2023-05-11 00:59:37,773]\u001b[0m Trial 66 finished with value: 0.8354204385552653 and parameters: {'C': 0.09616413993088525}. Best is trial 52 with value: 0.9022211247883631.\u001b[0m\n"
     ]
    },
    {
     "name": "stdout",
     "output_type": "stream",
     "text": [
      "Overall accuracy: 0.836\n",
      "\n"
     ]
    },
    {
     "name": "stderr",
     "output_type": "stream",
     "text": [
      "\u001b[32m[I 2023-05-11 00:59:47,760]\u001b[0m Trial 67 finished with value: 0.9022211247883631 and parameters: {'C': 6.291767418114498}. Best is trial 52 with value: 0.9022211247883631.\u001b[0m\n"
     ]
    },
    {
     "name": "stdout",
     "output_type": "stream",
     "text": [
      "Overall accuracy: 0.902\n",
      "\n"
     ]
    },
    {
     "name": "stderr",
     "output_type": "stream",
     "text": [
      "\u001b[32m[I 2023-05-11 01:00:05,079]\u001b[0m Trial 68 finished with value: 0.3416213416213416 and parameters: {'C': 0.00962571354754482}. Best is trial 52 with value: 0.9022211247883631.\u001b[0m\n"
     ]
    },
    {
     "name": "stdout",
     "output_type": "stream",
     "text": [
      "Overall accuracy: 0.519\n",
      "\n"
     ]
    },
    {
     "name": "stderr",
     "output_type": "stream",
     "text": [
      "\u001b[32m[I 2023-05-11 01:00:15,519]\u001b[0m Trial 69 finished with value: 0.882656408463018 and parameters: {'C': 0.6405715287403708}. Best is trial 52 with value: 0.9022211247883631.\u001b[0m\n"
     ]
    },
    {
     "name": "stdout",
     "output_type": "stream",
     "text": [
      "Overall accuracy: 0.883\n",
      "\n"
     ]
    },
    {
     "name": "stderr",
     "output_type": "stream",
     "text": [
      "\u001b[32m[I 2023-05-11 01:00:27,708]\u001b[0m Trial 70 finished with value: 0.8884420176415153 and parameters: {'C': 187.24168293756006}. Best is trial 52 with value: 0.9022211247883631.\u001b[0m\n"
     ]
    },
    {
     "name": "stdout",
     "output_type": "stream",
     "text": [
      "Overall accuracy: 0.889\n",
      "\n"
     ]
    },
    {
     "name": "stderr",
     "output_type": "stream",
     "text": [
      "\u001b[32m[I 2023-05-11 01:00:40,133]\u001b[0m Trial 71 finished with value: 0.8888241643713244 and parameters: {'C': 29.794079899967365}. Best is trial 52 with value: 0.9022211247883631.\u001b[0m\n"
     ]
    },
    {
     "name": "stdout",
     "output_type": "stream",
     "text": [
      "Overall accuracy: 0.889\n",
      "\n"
     ]
    },
    {
     "name": "stderr",
     "output_type": "stream",
     "text": [
      "\u001b[32m[I 2023-05-11 01:00:50,399]\u001b[0m Trial 72 finished with value: 0.8966612794311873 and parameters: {'C': 3.1855372645909767}. Best is trial 52 with value: 0.9022211247883631.\u001b[0m\n"
     ]
    },
    {
     "name": "stdout",
     "output_type": "stream",
     "text": [
      "Overall accuracy: 0.897\n",
      "\n"
     ]
    },
    {
     "name": "stderr",
     "output_type": "stream",
     "text": [
      "\u001b[32m[I 2023-05-11 01:01:02,313]\u001b[0m Trial 73 finished with value: 0.8951471040670094 and parameters: {'C': 10.613490680057916}. Best is trial 52 with value: 0.9022211247883631.\u001b[0m\n"
     ]
    },
    {
     "name": "stdout",
     "output_type": "stream",
     "text": [
      "Overall accuracy: 0.895\n",
      "\n"
     ]
    },
    {
     "name": "stderr",
     "output_type": "stream",
     "text": [
      "\u001b[32m[I 2023-05-11 01:01:14,460]\u001b[0m Trial 74 finished with value: 0.8735626109420318 and parameters: {'C': 0.2599712922389199}. Best is trial 52 with value: 0.9022211247883631.\u001b[0m\n"
     ]
    },
    {
     "name": "stdout",
     "output_type": "stream",
     "text": [
      "Overall accuracy: 0.874\n",
      "\n"
     ]
    },
    {
     "name": "stderr",
     "output_type": "stream",
     "text": [
      "\u001b[32m[I 2023-05-11 01:01:24,810]\u001b[0m Trial 75 finished with value: 0.8902131493910017 and parameters: {'C': 1.0483526850913334}. Best is trial 52 with value: 0.9022211247883631.\u001b[0m\n"
     ]
    },
    {
     "name": "stdout",
     "output_type": "stream",
     "text": [
      "Overall accuracy: 0.891\n",
      "\n"
     ]
    },
    {
     "name": "stderr",
     "output_type": "stream",
     "text": [
      "\u001b[32m[I 2023-05-11 01:01:34,963]\u001b[0m Trial 76 finished with value: 0.9010346165258518 and parameters: {'C': 6.701407071654137}. Best is trial 52 with value: 0.9022211247883631.\u001b[0m\n"
     ]
    },
    {
     "name": "stdout",
     "output_type": "stream",
     "text": [
      "Overall accuracy: 0.901\n",
      "\n"
     ]
    },
    {
     "name": "stderr",
     "output_type": "stream",
     "text": [
      "\u001b[32m[I 2023-05-11 01:01:47,415]\u001b[0m Trial 77 finished with value: 0.88844990576051 and parameters: {'C': 125.46140250667342}. Best is trial 52 with value: 0.9022211247883631.\u001b[0m\n"
     ]
    },
    {
     "name": "stdout",
     "output_type": "stream",
     "text": [
      "Overall accuracy: 0.889\n",
      "\n"
     ]
    },
    {
     "name": "stderr",
     "output_type": "stream",
     "text": [
      "\u001b[32m[I 2023-05-11 01:02:04,414]\u001b[0m Trial 78 finished with value: 0.7888467856342867 and parameters: {'C': 0.03488783600599905}. Best is trial 52 with value: 0.9022211247883631.\u001b[0m\n"
     ]
    },
    {
     "name": "stdout",
     "output_type": "stream",
     "text": [
      "Overall accuracy: 0.790\n",
      "\n"
     ]
    },
    {
     "name": "stderr",
     "output_type": "stream",
     "text": [
      "\u001b[32m[I 2023-05-11 01:02:17,244]\u001b[0m Trial 79 finished with value: 0.8876615658718916 and parameters: {'C': 1086.6719808940522}. Best is trial 52 with value: 0.9022211247883631.\u001b[0m\n"
     ]
    },
    {
     "name": "stdout",
     "output_type": "stream",
     "text": [
      "Overall accuracy: 0.888\n",
      "\n"
     ]
    },
    {
     "name": "stderr",
     "output_type": "stream",
     "text": [
      "\u001b[32m[I 2023-05-11 01:02:31,724]\u001b[0m Trial 80 finished with value: 0.8416915891580677 and parameters: {'C': 0.11944294229016837}. Best is trial 52 with value: 0.9022211247883631.\u001b[0m\n"
     ]
    },
    {
     "name": "stdout",
     "output_type": "stream",
     "text": [
      "Overall accuracy: 0.842\n",
      "\n"
     ]
    },
    {
     "name": "stderr",
     "output_type": "stream",
     "text": [
      "\u001b[32m[I 2023-05-11 01:02:41,561]\u001b[0m Trial 81 finished with value: 0.9006290034046973 and parameters: {'C': 4.756017049370046}. Best is trial 52 with value: 0.9022211247883631.\u001b[0m\n"
     ]
    },
    {
     "name": "stdout",
     "output_type": "stream",
     "text": [
      "Overall accuracy: 0.901\n",
      "\n"
     ]
    },
    {
     "name": "stderr",
     "output_type": "stream",
     "text": [
      "\u001b[32m[I 2023-05-11 01:02:52,938]\u001b[0m Trial 82 finished with value: 0.8939607870868114 and parameters: {'C': 8.846532377278653}. Best is trial 52 with value: 0.9022211247883631.\u001b[0m\n"
     ]
    },
    {
     "name": "stdout",
     "output_type": "stream",
     "text": [
      "Overall accuracy: 0.894\n",
      "\n"
     ]
    },
    {
     "name": "stderr",
     "output_type": "stream",
     "text": [
      "\u001b[32m[I 2023-05-11 01:03:05,609]\u001b[0m Trial 83 finished with value: 0.88844990576051 and parameters: {'C': 38.831294806964586}. Best is trial 52 with value: 0.9022211247883631.\u001b[0m\n"
     ]
    },
    {
     "name": "stdout",
     "output_type": "stream",
     "text": [
      "Overall accuracy: 0.889\n",
      "\n"
     ]
    },
    {
     "name": "stderr",
     "output_type": "stream",
     "text": [
      "\u001b[32m[I 2023-05-11 01:03:15,678]\u001b[0m Trial 84 finished with value: 0.8890118978974473 and parameters: {'C': 0.9171318859572976}. Best is trial 52 with value: 0.9022211247883631.\u001b[0m\n"
     ]
    },
    {
     "name": "stdout",
     "output_type": "stream",
     "text": [
      "Overall accuracy: 0.889\n",
      "\n"
     ]
    },
    {
     "name": "stderr",
     "output_type": "stream",
     "text": [
      "\u001b[32m[I 2023-05-11 01:03:26,301]\u001b[0m Trial 85 finished with value: 0.8994649639563727 and parameters: {'C': 7.466109994138297}. Best is trial 52 with value: 0.9022211247883631.\u001b[0m\n"
     ]
    },
    {
     "name": "stdout",
     "output_type": "stream",
     "text": [
      "Overall accuracy: 0.900\n",
      "\n"
     ]
    },
    {
     "name": "stderr",
     "output_type": "stream",
     "text": [
      "\u001b[32m[I 2023-05-11 01:03:38,723]\u001b[0m Trial 86 finished with value: 0.8888479537060296 and parameters: {'C': 128.37038918886392}. Best is trial 52 with value: 0.9022211247883631.\u001b[0m\n"
     ]
    },
    {
     "name": "stdout",
     "output_type": "stream",
     "text": [
      "Overall accuracy: 0.889\n",
      "\n"
     ]
    },
    {
     "name": "stderr",
     "output_type": "stream",
     "text": [
      "\u001b[32m[I 2023-05-11 01:03:51,604]\u001b[0m Trial 87 finished with value: 0.8888401629582581 and parameters: {'C': 31.724145389415344}. Best is trial 52 with value: 0.9022211247883631.\u001b[0m\n"
     ]
    },
    {
     "name": "stdout",
     "output_type": "stream",
     "text": [
      "Overall accuracy: 0.889\n",
      "\n"
     ]
    },
    {
     "name": "stderr",
     "output_type": "stream",
     "text": [
      "\u001b[32m[I 2023-05-11 01:04:01,678]\u001b[0m Trial 88 finished with value: 0.896599735321753 and parameters: {'C': 1.7773854767526327}. Best is trial 52 with value: 0.9022211247883631.\u001b[0m\n"
     ]
    },
    {
     "name": "stdout",
     "output_type": "stream",
     "text": [
      "Overall accuracy: 0.897\n",
      "\n"
     ]
    },
    {
     "name": "stderr",
     "output_type": "stream",
     "text": [
      "\u001b[32m[I 2023-05-11 01:04:14,669]\u001b[0m Trial 89 finished with value: 0.8637058536749875 and parameters: {'C': 0.2000378248759284}. Best is trial 52 with value: 0.9022211247883631.\u001b[0m\n"
     ]
    },
    {
     "name": "stdout",
     "output_type": "stream",
     "text": [
      "Overall accuracy: 0.864\n",
      "\n"
     ]
    },
    {
     "name": "stderr",
     "output_type": "stream",
     "text": [
      "\u001b[32m[I 2023-05-11 01:04:24,805]\u001b[0m Trial 90 finished with value: 0.9018231853184746 and parameters: {'C': 5.526684215703752}. Best is trial 52 with value: 0.9022211247883631.\u001b[0m\n"
     ]
    },
    {
     "name": "stdout",
     "output_type": "stream",
     "text": [
      "Overall accuracy: 0.902\n",
      "\n"
     ]
    },
    {
     "name": "stderr",
     "output_type": "stream",
     "text": [
      "\u001b[32m[I 2023-05-11 01:04:34,728]\u001b[0m Trial 91 finished with value: 0.8946849014594072 and parameters: {'C': 2.802860297345024}. Best is trial 52 with value: 0.9022211247883631.\u001b[0m\n"
     ]
    },
    {
     "name": "stdout",
     "output_type": "stream",
     "text": [
      "Overall accuracy: 0.895\n",
      "\n"
     ]
    },
    {
     "name": "stderr",
     "output_type": "stream",
     "text": [
      "\u001b[32m[I 2023-05-11 01:04:46,903]\u001b[0m Trial 92 finished with value: 0.8947491827218538 and parameters: {'C': 18.379003291550397}. Best is trial 52 with value: 0.9022211247883631.\u001b[0m\n"
     ]
    },
    {
     "name": "stdout",
     "output_type": "stream",
     "text": [
      "Overall accuracy: 0.895\n",
      "\n"
     ]
    },
    {
     "name": "stderr",
     "output_type": "stream",
     "text": [
      "\u001b[32m[I 2023-05-11 01:04:58,090]\u001b[0m Trial 93 finished with value: 0.8770727860181532 and parameters: {'C': 0.3826644169734663}. Best is trial 52 with value: 0.9022211247883631.\u001b[0m\n"
     ]
    },
    {
     "name": "stdout",
     "output_type": "stream",
     "text": [
      "Overall accuracy: 0.878\n",
      "\n"
     ]
    },
    {
     "name": "stderr",
     "output_type": "stream",
     "text": [
      "\u001b[32m[I 2023-05-11 01:05:08,202]\u001b[0m Trial 94 finished with value: 0.9026117541110974 and parameters: {'C': 6.0034052090815155}. Best is trial 94 with value: 0.9026117541110974.\u001b[0m\n"
     ]
    },
    {
     "name": "stdout",
     "output_type": "stream",
     "text": [
      "Overall accuracy: 0.903\n",
      "\n"
     ]
    },
    {
     "name": "stderr",
     "output_type": "stream",
     "text": [
      "\u001b[32m[I 2023-05-11 01:05:20,377]\u001b[0m Trial 95 finished with value: 0.8884420176415153 and parameters: {'C': 259.2794437880886}. Best is trial 94 with value: 0.9026117541110974.\u001b[0m\n"
     ]
    },
    {
     "name": "stdout",
     "output_type": "stream",
     "text": [
      "Overall accuracy: 0.889\n",
      "\n"
     ]
    },
    {
     "name": "stderr",
     "output_type": "stream",
     "text": [
      "\u001b[32m[I 2023-05-11 01:05:30,150]\u001b[0m Trial 96 finished with value: 0.8953919699209403 and parameters: {'C': 1.3441304932736458}. Best is trial 94 with value: 0.9026117541110974.\u001b[0m\n"
     ]
    },
    {
     "name": "stdout",
     "output_type": "stream",
     "text": [
      "Overall accuracy: 0.896\n",
      "\n"
     ]
    },
    {
     "name": "stderr",
     "output_type": "stream",
     "text": [
      "\u001b[32m[I 2023-05-11 01:05:42,059]\u001b[0m Trial 97 finished with value: 0.8892459395330727 and parameters: {'C': 80.33779833256924}. Best is trial 94 with value: 0.9026117541110974.\u001b[0m\n"
     ]
    },
    {
     "name": "stdout",
     "output_type": "stream",
     "text": [
      "Overall accuracy: 0.889\n",
      "\n"
     ]
    },
    {
     "name": "stderr",
     "output_type": "stream",
     "text": [
      "\u001b[32m[I 2023-05-11 01:05:53,262]\u001b[0m Trial 98 finished with value: 0.8939607870868114 and parameters: {'C': 8.855533739133291}. Best is trial 94 with value: 0.9026117541110974.\u001b[0m\n"
     ]
    },
    {
     "name": "stdout",
     "output_type": "stream",
     "text": [
      "Overall accuracy: 0.894\n",
      "\n"
     ]
    },
    {
     "name": "stderr",
     "output_type": "stream",
     "text": [
      "\u001b[32m[I 2023-05-11 01:06:03,838]\u001b[0m Trial 99 finished with value: 0.8822428081799957 and parameters: {'C': 0.5658500682384999}. Best is trial 94 with value: 0.9026117541110974.\u001b[0m\n"
     ]
    },
    {
     "name": "stdout",
     "output_type": "stream",
     "text": [
      "Overall accuracy: 0.883\n",
      "\n",
      "Accuracy: 0.9026117541110974\n",
      "Best hyperparameters: {'C': 6.0034052090815155}\n"
     ]
    },
    {
     "name": "stderr",
     "output_type": "stream",
     "text": [
      "\u001b[32m[I 2023-05-11 01:06:04,558]\u001b[0m A new study created in memory with name: no-name-74b9e027-523e-4698-a327-91772c0bcaef\u001b[0m\n"
     ]
    },
    {
     "name": "stdout",
     "output_type": "stream",
     "text": [
      "\n",
      "\n",
      "\n",
      "Model :- LGBMClassifier, DataType :- CTD\n"
     ]
    },
    {
     "name": "stderr",
     "output_type": "stream",
     "text": [
      "\u001b[32m[I 2023-05-11 01:06:24,617]\u001b[0m Trial 0 finished with value: 0.8643075939506606 and parameters: {'n_estimators': 211, 'max_depth': 57, 'num_leaves': 59}. Best is trial 0 with value: 0.8643075939506606.\u001b[0m\n"
     ]
    },
    {
     "name": "stdout",
     "output_type": "stream",
     "text": [
      "Overall accuracy: 0.865\n",
      "\n"
     ]
    },
    {
     "name": "stderr",
     "output_type": "stream",
     "text": [
      "\u001b[32m[I 2023-05-11 01:06:27,013]\u001b[0m Trial 1 finished with value: 0.8474232982396714 and parameters: {'n_estimators': 34, 'max_depth': 36, 'num_leaves': 24}. Best is trial 0 with value: 0.8643075939506606.\u001b[0m\n"
     ]
    },
    {
     "name": "stdout",
     "output_type": "stream",
     "text": [
      "Overall accuracy: 0.848\n",
      "\n"
     ]
    },
    {
     "name": "stderr",
     "output_type": "stream",
     "text": [
      "\u001b[32m[I 2023-05-11 01:06:31,334]\u001b[0m Trial 2 finished with value: 0.8442093347171187 and parameters: {'n_estimators': 37, 'max_depth': 41, 'num_leaves': 58}. Best is trial 0 with value: 0.8643075939506606.\u001b[0m\n"
     ]
    },
    {
     "name": "stdout",
     "output_type": "stream",
     "text": [
      "Overall accuracy: 0.845\n",
      "\n"
     ]
    },
    {
     "name": "stderr",
     "output_type": "stream",
     "text": [
      "\u001b[32m[I 2023-05-11 01:06:34,389]\u001b[0m Trial 3 finished with value: 0.8524859485010079 and parameters: {'n_estimators': 49, 'max_depth': 48, 'num_leaves': 23}. Best is trial 0 with value: 0.8643075939506606.\u001b[0m\n"
     ]
    },
    {
     "name": "stdout",
     "output_type": "stream",
     "text": [
      "Overall accuracy: 0.853\n",
      "\n"
     ]
    },
    {
     "name": "stderr",
     "output_type": "stream",
     "text": [
      "\u001b[32m[I 2023-05-11 01:06:43,146]\u001b[0m Trial 4 finished with value: 0.8604489735912118 and parameters: {'n_estimators': 122, 'max_depth': 44, 'num_leaves': 32}. Best is trial 0 with value: 0.8643075939506606.\u001b[0m\n"
     ]
    },
    {
     "name": "stdout",
     "output_type": "stream",
     "text": [
      "Overall accuracy: 0.861\n",
      "\n"
     ]
    },
    {
     "name": "stderr",
     "output_type": "stream",
     "text": [
      "\u001b[32m[I 2023-05-11 01:06:49,432]\u001b[0m Trial 5 finished with value: 0.8571591781891923 and parameters: {'n_estimators': 65, 'max_depth': 39, 'num_leaves': 46}. Best is trial 0 with value: 0.8643075939506606.\u001b[0m\n"
     ]
    },
    {
     "name": "stdout",
     "output_type": "stream",
     "text": [
      "Overall accuracy: 0.858\n",
      "\n"
     ]
    },
    {
     "name": "stderr",
     "output_type": "stream",
     "text": [
      "\u001b[32m[I 2023-05-11 01:07:07,719]\u001b[0m Trial 6 finished with value: 0.8699716028868332 and parameters: {'n_estimators': 297, 'max_depth': 25, 'num_leaves': 29}. Best is trial 6 with value: 0.8699716028868332.\u001b[0m\n"
     ]
    },
    {
     "name": "stdout",
     "output_type": "stream",
     "text": [
      "Overall accuracy: 0.870\n",
      "\n"
     ]
    },
    {
     "name": "stderr",
     "output_type": "stream",
     "text": [
      "\u001b[32m[I 2023-05-11 01:07:28,285]\u001b[0m Trial 7 finished with value: 0.8643294887190514 and parameters: {'n_estimators': 227, 'max_depth': 14, 'num_leaves': 58}. Best is trial 6 with value: 0.8699716028868332.\u001b[0m\n"
     ]
    },
    {
     "name": "stdout",
     "output_type": "stream",
     "text": [
      "Overall accuracy: 0.865\n",
      "\n"
     ]
    },
    {
     "name": "stderr",
     "output_type": "stream",
     "text": [
      "\u001b[32m[I 2023-05-11 01:07:28,846]\u001b[0m Trial 8 finished with value: 0.7812202112757635 and parameters: {'n_estimators': 10, 'max_depth': 1, 'num_leaves': 41}. Best is trial 6 with value: 0.8699716028868332.\u001b[0m\n"
     ]
    },
    {
     "name": "stdout",
     "output_type": "stream",
     "text": [
      "Overall accuracy: 0.782\n",
      "\n"
     ]
    },
    {
     "name": "stderr",
     "output_type": "stream",
     "text": [
      "\u001b[32m[I 2023-05-11 01:07:41,217]\u001b[0m Trial 9 finished with value: 0.8683426043548164 and parameters: {'n_estimators': 211, 'max_depth': 55, 'num_leaves': 26}. Best is trial 6 with value: 0.8699716028868332.\u001b[0m\n"
     ]
    },
    {
     "name": "stdout",
     "output_type": "stream",
     "text": [
      "Overall accuracy: 0.869\n",
      "\n"
     ]
    },
    {
     "name": "stderr",
     "output_type": "stream",
     "text": [
      "\u001b[32m[I 2023-05-11 01:07:48,585]\u001b[0m Trial 10 finished with value: 0.8655785442252888 and parameters: {'n_estimators': 292, 'max_depth': 22, 'num_leaves': 10}. Best is trial 6 with value: 0.8699716028868332.\u001b[0m\n"
     ]
    },
    {
     "name": "stdout",
     "output_type": "stream",
     "text": [
      "Overall accuracy: 0.866\n",
      "\n"
     ]
    },
    {
     "name": "stderr",
     "output_type": "stream",
     "text": [
      "\u001b[32m[I 2023-05-11 01:08:05,506]\u001b[0m Trial 11 finished with value: 0.8683139341907793 and parameters: {'n_estimators': 299, 'max_depth': 64, 'num_leaves': 26}. Best is trial 6 with value: 0.8699716028868332.\u001b[0m\n"
     ]
    },
    {
     "name": "stdout",
     "output_type": "stream",
     "text": [
      "Overall accuracy: 0.869\n",
      "\n"
     ]
    },
    {
     "name": "stderr",
     "output_type": "stream",
     "text": [
      "\u001b[32m[I 2023-05-11 01:08:13,351]\u001b[0m Trial 12 finished with value: 0.8659382523018886 and parameters: {'n_estimators': 228, 'max_depth': 25, 'num_leaves': 13}. Best is trial 6 with value: 0.8699716028868332.\u001b[0m\n"
     ]
    },
    {
     "name": "stdout",
     "output_type": "stream",
     "text": [
      "Overall accuracy: 0.866\n",
      "\n"
     ]
    },
    {
     "name": "stderr",
     "output_type": "stream",
     "text": [
      "\u001b[32m[I 2023-05-11 01:08:25,410]\u001b[0m Trial 13 finished with value: 0.8632230293247243 and parameters: {'n_estimators': 167, 'max_depth': 25, 'num_leaves': 33}. Best is trial 6 with value: 0.8699716028868332.\u001b[0m\n"
     ]
    },
    {
     "name": "stdout",
     "output_type": "stream",
     "text": [
      "Overall accuracy: 0.863\n",
      "\n"
     ]
    },
    {
     "name": "stderr",
     "output_type": "stream",
     "text": [
      "\u001b[32m[I 2023-05-11 01:08:36,664]\u001b[0m Trial 14 finished with value: 0.8628240308846589 and parameters: {'n_estimators': 263, 'max_depth': 54, 'num_leaves': 18}. Best is trial 6 with value: 0.8699716028868332.\u001b[0m\n"
     ]
    },
    {
     "name": "stdout",
     "output_type": "stream",
     "text": [
      "Overall accuracy: 0.863\n",
      "\n"
     ]
    },
    {
     "name": "stderr",
     "output_type": "stream",
     "text": [
      "\u001b[32m[I 2023-05-11 01:08:50,891]\u001b[0m Trial 15 finished with value: 0.8595741379256836 and parameters: {'n_estimators': 172, 'max_depth': 15, 'num_leaves': 43}. Best is trial 6 with value: 0.8699716028868332.\u001b[0m\n"
     ]
    },
    {
     "name": "stdout",
     "output_type": "stream",
     "text": [
      "Overall accuracy: 0.860\n",
      "\n"
     ]
    },
    {
     "name": "stderr",
     "output_type": "stream",
     "text": [
      "\u001b[32m[I 2023-05-11 01:08:58,986]\u001b[0m Trial 16 finished with value: 0.8600497047568462 and parameters: {'n_estimators': 108, 'max_depth': 32, 'num_leaves': 33}. Best is trial 6 with value: 0.8699716028868332.\u001b[0m\n"
     ]
    },
    {
     "name": "stdout",
     "output_type": "stream",
     "text": [
      "Overall accuracy: 0.860\n",
      "\n"
     ]
    },
    {
     "name": "stderr",
     "output_type": "stream",
     "text": [
      "\u001b[32m[I 2023-05-11 01:09:04,925]\u001b[0m Trial 17 finished with value: 0.859996726466826 and parameters: {'n_estimators': 258, 'max_depth': 4, 'num_leaves': 50}. Best is trial 6 with value: 0.8699716028868332.\u001b[0m\n"
     ]
    },
    {
     "name": "stdout",
     "output_type": "stream",
     "text": [
      "Overall accuracy: 0.860\n",
      "\n"
     ]
    },
    {
     "name": "stderr",
     "output_type": "stream",
     "text": [
      "\u001b[32m[I 2023-05-11 01:09:14,057]\u001b[0m Trial 18 finished with value: 0.8639511186463711 and parameters: {'n_estimators': 192, 'max_depth': 30, 'num_leaves': 19}. Best is trial 6 with value: 0.8699716028868332.\u001b[0m\n"
     ]
    },
    {
     "name": "stdout",
     "output_type": "stream",
     "text": [
      "Overall accuracy: 0.864\n",
      "\n"
     ]
    },
    {
     "name": "stderr",
     "output_type": "stream",
     "text": [
      "\u001b[32m[I 2023-05-11 01:09:29,890]\u001b[0m Trial 19 finished with value: 0.8695650219300456 and parameters: {'n_estimators': 254, 'max_depth': 51, 'num_leaves': 29}. Best is trial 6 with value: 0.8699716028868332.\u001b[0m\n"
     ]
    },
    {
     "name": "stdout",
     "output_type": "stream",
     "text": [
      "Overall accuracy: 0.870\n",
      "\n"
     ]
    },
    {
     "name": "stderr",
     "output_type": "stream",
     "text": [
      "\u001b[32m[I 2023-05-11 01:09:46,840]\u001b[0m Trial 20 finished with value: 0.8667658690776285 and parameters: {'n_estimators': 269, 'max_depth': 15, 'num_leaves': 30}. Best is trial 6 with value: 0.8699716028868332.\u001b[0m\n"
     ]
    },
    {
     "name": "stdout",
     "output_type": "stream",
     "text": [
      "Overall accuracy: 0.867\n",
      "\n"
     ]
    },
    {
     "name": "stderr",
     "output_type": "stream",
     "text": [
      "\u001b[32m[I 2023-05-11 01:10:05,218]\u001b[0m Trial 21 finished with value: 0.8631934999720052 and parameters: {'n_estimators': 244, 'max_depth': 52, 'num_leaves': 37}. Best is trial 6 with value: 0.8699716028868332.\u001b[0m\n"
     ]
    },
    {
     "name": "stdout",
     "output_type": "stream",
     "text": [
      "Overall accuracy: 0.863\n",
      "\n"
     ]
    },
    {
     "name": "stderr",
     "output_type": "stream",
     "text": [
      "\u001b[32m[I 2023-05-11 01:10:17,783]\u001b[0m Trial 22 finished with value: 0.8612373974692276 and parameters: {'n_estimators': 199, 'max_depth': 64, 'num_leaves': 28}. Best is trial 6 with value: 0.8699716028868332.\u001b[0m\n"
     ]
    },
    {
     "name": "stdout",
     "output_type": "stream",
     "text": [
      "Overall accuracy: 0.862\n",
      "\n"
     ]
    },
    {
     "name": "stderr",
     "output_type": "stream",
     "text": [
      "\u001b[32m[I 2023-05-11 01:10:30,273]\u001b[0m Trial 23 finished with value: 0.8647901485902466 and parameters: {'n_estimators': 281, 'max_depth': 59, 'num_leaves': 19}. Best is trial 6 with value: 0.8699716028868332.\u001b[0m\n"
     ]
    },
    {
     "name": "stdout",
     "output_type": "stream",
     "text": [
      "Overall accuracy: 0.865\n",
      "\n"
     ]
    },
    {
     "name": "stderr",
     "output_type": "stream",
     "text": [
      "\u001b[32m[I 2023-05-11 01:10:48,764]\u001b[0m Trial 24 finished with value: 0.8604970011757177 and parameters: {'n_estimators': 247, 'max_depth': 46, 'num_leaves': 38}. Best is trial 6 with value: 0.8699716028868332.\u001b[0m\n"
     ]
    },
    {
     "name": "stdout",
     "output_type": "stream",
     "text": [
      "Overall accuracy: 0.861\n",
      "\n"
     ]
    },
    {
     "name": "stderr",
     "output_type": "stream",
     "text": [
      "\u001b[32m[I 2023-05-11 01:10:59,085]\u001b[0m Trial 25 finished with value: 0.8611632456480074 and parameters: {'n_estimators': 135, 'max_depth': 49, 'num_leaves': 36}. Best is trial 6 with value: 0.8699716028868332.\u001b[0m\n"
     ]
    },
    {
     "name": "stdout",
     "output_type": "stream",
     "text": [
      "Overall accuracy: 0.862\n",
      "\n"
     ]
    },
    {
     "name": "stderr",
     "output_type": "stream",
     "text": [
      "\u001b[32m[I 2023-05-11 01:11:09,911]\u001b[0m Trial 26 finished with value: 0.8663856708245967 and parameters: {'n_estimators': 218, 'max_depth': 36, 'num_leaves': 21}. Best is trial 6 with value: 0.8699716028868332.\u001b[0m\n"
     ]
    },
    {
     "name": "stdout",
     "output_type": "stream",
     "text": [
      "Overall accuracy: 0.867\n",
      "\n"
     ]
    },
    {
     "name": "stderr",
     "output_type": "stream",
     "text": [
      "\u001b[32m[I 2023-05-11 01:11:21,430]\u001b[0m Trial 27 finished with value: 0.8596705603302832 and parameters: {'n_estimators': 181, 'max_depth': 57, 'num_leaves': 28}. Best is trial 6 with value: 0.8699716028868332.\u001b[0m\n"
     ]
    },
    {
     "name": "stdout",
     "output_type": "stream",
     "text": [
      "Overall accuracy: 0.860\n",
      "\n"
     ]
    },
    {
     "name": "stderr",
     "output_type": "stream",
     "text": [
      "\u001b[32m[I 2023-05-11 01:11:30,209]\u001b[0m Trial 28 finished with value: 0.8624150618595472 and parameters: {'n_estimators': 242, 'max_depth': 29, 'num_leaves': 14}. Best is trial 6 with value: 0.8699716028868332.\u001b[0m\n"
     ]
    },
    {
     "name": "stdout",
     "output_type": "stream",
     "text": [
      "Overall accuracy: 0.863\n",
      "\n"
     ]
    },
    {
     "name": "stderr",
     "output_type": "stream",
     "text": [
      "\u001b[32m[I 2023-05-11 01:11:51,889]\u001b[0m Trial 29 finished with value: 0.8620548295229022 and parameters: {'n_estimators': 279, 'max_depth': 60, 'num_leaves': 51}. Best is trial 6 with value: 0.8699716028868332.\u001b[0m\n"
     ]
    },
    {
     "name": "stdout",
     "output_type": "stream",
     "text": [
      "Overall accuracy: 0.862\n",
      "\n"
     ]
    },
    {
     "name": "stderr",
     "output_type": "stream",
     "text": [
      "\u001b[32m[I 2023-05-11 01:12:04,444]\u001b[0m Trial 30 finished with value: 0.863582698293442 and parameters: {'n_estimators': 206, 'max_depth': 20, 'num_leaves': 27}. Best is trial 6 with value: 0.8699716028868332.\u001b[0m\n"
     ]
    },
    {
     "name": "stdout",
     "output_type": "stream",
     "text": [
      "Overall accuracy: 0.864\n",
      "\n"
     ]
    },
    {
     "name": "stderr",
     "output_type": "stream",
     "text": [
      "\u001b[32m[I 2023-05-11 01:12:20,367]\u001b[0m Trial 31 finished with value: 0.8675447884933536 and parameters: {'n_estimators': 292, 'max_depth': 63, 'num_leaves': 24}. Best is trial 6 with value: 0.8699716028868332.\u001b[0m\n"
     ]
    },
    {
     "name": "stdout",
     "output_type": "stream",
     "text": [
      "Overall accuracy: 0.868\n",
      "\n"
     ]
    },
    {
     "name": "stderr",
     "output_type": "stream",
     "text": [
      "\u001b[32m[I 2023-05-11 01:12:37,528]\u001b[0m Trial 32 finished with value: 0.8683139341907793 and parameters: {'n_estimators': 300, 'max_depth': 56, 'num_leaves': 26}. Best is trial 6 with value: 0.8699716028868332.\u001b[0m\n"
     ]
    },
    {
     "name": "stdout",
     "output_type": "stream",
     "text": [
      "Overall accuracy: 0.869\n",
      "\n"
     ]
    },
    {
     "name": "stderr",
     "output_type": "stream",
     "text": [
      "\u001b[32m[I 2023-05-11 01:12:55,686]\u001b[0m Trial 33 finished with value: 0.8679047285909625 and parameters: {'n_estimators': 273, 'max_depth': 52, 'num_leaves': 31}. Best is trial 6 with value: 0.8699716028868332.\u001b[0m\n"
     ]
    },
    {
     "name": "stdout",
     "output_type": "stream",
     "text": [
      "Overall accuracy: 0.868\n",
      "\n"
     ]
    },
    {
     "name": "stderr",
     "output_type": "stream",
     "text": [
      "\u001b[32m[I 2023-05-11 01:13:09,368]\u001b[0m Trial 34 finished with value: 0.8703359425279498 and parameters: {'n_estimators': 256, 'max_depth': 60, 'num_leaves': 23}. Best is trial 34 with value: 0.8703359425279498.\u001b[0m\n"
     ]
    },
    {
     "name": "stdout",
     "output_type": "stream",
     "text": [
      "Overall accuracy: 0.871\n",
      "\n"
     ]
    },
    {
     "name": "stderr",
     "output_type": "stream",
     "text": [
      "\u001b[32m[I 2023-05-11 01:13:22,066]\u001b[0m Trial 35 finished with value: 0.8687414085450524 and parameters: {'n_estimators': 237, 'max_depth': 43, 'num_leaves': 23}. Best is trial 34 with value: 0.8703359425279498.\u001b[0m\n"
     ]
    },
    {
     "name": "stdout",
     "output_type": "stream",
     "text": [
      "Overall accuracy: 0.869\n",
      "\n"
     ]
    },
    {
     "name": "stderr",
     "output_type": "stream",
     "text": [
      "\u001b[32m[I 2023-05-11 01:13:34,656]\u001b[0m Trial 36 finished with value: 0.8707077072705982 and parameters: {'n_estimators': 254, 'max_depth': 42, 'num_leaves': 21}. Best is trial 36 with value: 0.8707077072705982.\u001b[0m\n"
     ]
    },
    {
     "name": "stdout",
     "output_type": "stream",
     "text": [
      "Overall accuracy: 0.871\n",
      "\n"
     ]
    },
    {
     "name": "stderr",
     "output_type": "stream",
     "text": [
      "\u001b[32m[I 2023-05-11 01:13:44,792]\u001b[0m Trial 37 finished with value: 0.8636123985232529 and parameters: {'n_estimators': 257, 'max_depth': 38, 'num_leaves': 16}. Best is trial 36 with value: 0.8707077072705982.\u001b[0m\n"
     ]
    },
    {
     "name": "stdout",
     "output_type": "stream",
     "text": [
      "Overall accuracy: 0.864\n",
      "\n"
     ]
    },
    {
     "name": "stderr",
     "output_type": "stream",
     "text": [
      "\u001b[32m[I 2023-05-11 01:13:49,166]\u001b[0m Trial 38 finished with value: 0.8628142452252591 and parameters: {'n_estimators': 75, 'max_depth': 49, 'num_leaves': 21}. Best is trial 36 with value: 0.8707077072705982.\u001b[0m\n"
     ]
    },
    {
     "name": "stdout",
     "output_type": "stream",
     "text": [
      "Overall accuracy: 0.863\n",
      "\n"
     ]
    },
    {
     "name": "stderr",
     "output_type": "stream",
     "text": [
      "\u001b[32m[I 2023-05-11 01:14:01,538]\u001b[0m Trial 39 finished with value: 0.8663669398603311 and parameters: {'n_estimators': 226, 'max_depth': 41, 'num_leaves': 23}. Best is trial 36 with value: 0.8707077072705982.\u001b[0m\n"
     ]
    },
    {
     "name": "stdout",
     "output_type": "stream",
     "text": [
      "Overall accuracy: 0.867\n",
      "\n"
     ]
    },
    {
     "name": "stderr",
     "output_type": "stream",
     "text": [
      "\u001b[32m[I 2023-05-11 01:14:13,575]\u001b[0m Trial 40 finished with value: 0.8634959775070663 and parameters: {'n_estimators': 150, 'max_depth': 36, 'num_leaves': 35}. Best is trial 36 with value: 0.8707077072705982.\u001b[0m\n"
     ]
    },
    {
     "name": "stdout",
     "output_type": "stream",
     "text": [
      "Overall accuracy: 0.864\n",
      "\n"
     ]
    },
    {
     "name": "stderr",
     "output_type": "stream",
     "text": [
      "\u001b[32m[I 2023-05-11 01:14:38,335]\u001b[0m Trial 41 finished with value: 0.8565271459184212 and parameters: {'n_estimators': 244, 'max_depth': 45, 'num_leaves': 64}. Best is trial 36 with value: 0.8707077072705982.\u001b[0m\n"
     ]
    },
    {
     "name": "stdout",
     "output_type": "stream",
     "text": [
      "Overall accuracy: 0.857\n",
      "\n"
     ]
    },
    {
     "name": "stderr",
     "output_type": "stream",
     "text": [
      "\u001b[32m[I 2023-05-11 01:14:50,430]\u001b[0m Trial 42 finished with value: 0.8715050812346299 and parameters: {'n_estimators': 234, 'max_depth': 42, 'num_leaves': 22}. Best is trial 42 with value: 0.8715050812346299.\u001b[0m\n"
     ]
    },
    {
     "name": "stdout",
     "output_type": "stream",
     "text": [
      "Overall accuracy: 0.872\n",
      "\n"
     ]
    },
    {
     "name": "stderr",
     "output_type": "stream",
     "text": [
      "\u001b[32m[I 2023-05-11 01:15:08,931]\u001b[0m Trial 43 finished with value: 0.8683332123713694 and parameters: {'n_estimators': 286, 'max_depth': 42, 'num_leaves': 30}. Best is trial 42 with value: 0.8715050812346299.\u001b[0m\n"
     ]
    },
    {
     "name": "stdout",
     "output_type": "stream",
     "text": [
      "Overall accuracy: 0.869\n",
      "\n"
     ]
    },
    {
     "name": "stderr",
     "output_type": "stream",
     "text": [
      "\u001b[32m[I 2023-05-11 01:15:16,536]\u001b[0m Trial 44 finished with value: 0.8604589279688771 and parameters: {'n_estimators': 264, 'max_depth': 47, 'num_leaves': 11}. Best is trial 42 with value: 0.8715050812346299.\u001b[0m\n"
     ]
    },
    {
     "name": "stdout",
     "output_type": "stream",
     "text": [
      "Overall accuracy: 0.861\n",
      "\n"
     ]
    },
    {
     "name": "stderr",
     "output_type": "stream",
     "text": [
      "\u001b[32m[I 2023-05-11 01:15:29,475]\u001b[0m Trial 45 finished with value: 0.8734888679376045 and parameters: {'n_estimators': 255, 'max_depth': 50, 'num_leaves': 22}. Best is trial 45 with value: 0.8734888679376045.\u001b[0m\n"
     ]
    },
    {
     "name": "stdout",
     "output_type": "stream",
     "text": [
      "Overall accuracy: 0.874\n",
      "\n"
     ]
    },
    {
     "name": "stderr",
     "output_type": "stream",
     "text": [
      "\u001b[32m[I 2023-05-11 01:15:38,665]\u001b[0m Trial 46 finished with value: 0.8644196038739382 and parameters: {'n_estimators': 232, 'max_depth': 34, 'num_leaves': 16}. Best is trial 45 with value: 0.8734888679376045.\u001b[0m\n"
     ]
    },
    {
     "name": "stdout",
     "output_type": "stream",
     "text": [
      "Overall accuracy: 0.865\n",
      "\n"
     ]
    },
    {
     "name": "stderr",
     "output_type": "stream",
     "text": [
      "\u001b[32m[I 2023-05-11 01:15:49,730]\u001b[0m Trial 47 finished with value: 0.8671647287678157 and parameters: {'n_estimators': 220, 'max_depth': 41, 'num_leaves': 21}. Best is trial 45 with value: 0.8734888679376045.\u001b[0m\n"
     ]
    },
    {
     "name": "stdout",
     "output_type": "stream",
     "text": [
      "Overall accuracy: 0.867\n",
      "\n"
     ]
    },
    {
     "name": "stderr",
     "output_type": "stream",
     "text": [
      "\u001b[32m[I 2023-05-11 01:16:05,507]\u001b[0m Trial 48 finished with value: 0.8620641540441234 and parameters: {'n_estimators': 277, 'max_depth': 60, 'num_leaves': 25}. Best is trial 45 with value: 0.8734888679376045.\u001b[0m\n"
     ]
    },
    {
     "name": "stdout",
     "output_type": "stream",
     "text": [
      "Overall accuracy: 0.862\n",
      "\n"
     ]
    },
    {
     "name": "stderr",
     "output_type": "stream",
     "text": [
      "\u001b[32m[I 2023-05-11 01:16:16,598]\u001b[0m Trial 49 finished with value: 0.8675447884933536 and parameters: {'n_estimators': 270, 'max_depth': 27, 'num_leaves': 17}. Best is trial 45 with value: 0.8734888679376045.\u001b[0m\n"
     ]
    },
    {
     "name": "stdout",
     "output_type": "stream",
     "text": [
      "Overall accuracy: 0.868\n",
      "\n"
     ]
    },
    {
     "name": "stderr",
     "output_type": "stream",
     "text": [
      "\u001b[32m[I 2023-05-11 01:16:27,162]\u001b[0m Trial 50 finished with value: 0.8624049898853884 and parameters: {'n_estimators': 300, 'max_depth': 21, 'num_leaves': 14}. Best is trial 45 with value: 0.8734888679376045.\u001b[0m\n"
     ]
    },
    {
     "name": "stdout",
     "output_type": "stream",
     "text": [
      "Overall accuracy: 0.863\n",
      "\n"
     ]
    },
    {
     "name": "stderr",
     "output_type": "stream",
     "text": [
      "\u001b[32m[I 2023-05-11 01:16:39,598]\u001b[0m Trial 51 finished with value: 0.8707077072705982 and parameters: {'n_estimators': 254, 'max_depth': 51, 'num_leaves': 21}. Best is trial 45 with value: 0.8734888679376045.\u001b[0m\n"
     ]
    },
    {
     "name": "stdout",
     "output_type": "stream",
     "text": [
      "Overall accuracy: 0.871\n",
      "\n"
     ]
    },
    {
     "name": "stderr",
     "output_type": "stream",
     "text": [
      "\u001b[32m[I 2023-05-11 01:16:52,583]\u001b[0m Trial 52 finished with value: 0.8715050812346299 and parameters: {'n_estimators': 258, 'max_depth': 50, 'num_leaves': 22}. Best is trial 45 with value: 0.8734888679376045.\u001b[0m\n"
     ]
    },
    {
     "name": "stdout",
     "output_type": "stream",
     "text": [
      "Overall accuracy: 0.872\n",
      "\n"
     ]
    },
    {
     "name": "stderr",
     "output_type": "stream",
     "text": [
      "\u001b[32m[I 2023-05-11 01:17:02,709]\u001b[0m Trial 53 finished with value: 0.8658630992844004 and parameters: {'n_estimators': 212, 'max_depth': 50, 'num_leaves': 20}. Best is trial 45 with value: 0.8734888679376045.\u001b[0m\n"
     ]
    },
    {
     "name": "stdout",
     "output_type": "stream",
     "text": [
      "Overall accuracy: 0.866\n",
      "\n"
     ]
    },
    {
     "name": "stderr",
     "output_type": "stream",
     "text": [
      "\u001b[32m[I 2023-05-11 01:17:16,476]\u001b[0m Trial 54 finished with value: 0.8683608944589982 and parameters: {'n_estimators': 254, 'max_depth': 54, 'num_leaves': 23}. Best is trial 45 with value: 0.8734888679376045.\u001b[0m\n"
     ]
    },
    {
     "name": "stdout",
     "output_type": "stream",
     "text": [
      "Overall accuracy: 0.869\n",
      "\n"
     ]
    },
    {
     "name": "stderr",
     "output_type": "stream",
     "text": [
      "\u001b[32m[I 2023-05-11 01:17:26,039]\u001b[0m Trial 55 finished with value: 0.8671360504050885 and parameters: {'n_estimators': 231, 'max_depth': 45, 'num_leaves': 17}. Best is trial 45 with value: 0.8734888679376045.\u001b[0m\n"
     ]
    },
    {
     "name": "stdout",
     "output_type": "stream",
     "text": [
      "Overall accuracy: 0.867\n",
      "\n"
     ]
    },
    {
     "name": "stderr",
     "output_type": "stream",
     "text": [
      "\u001b[32m[I 2023-05-11 01:17:31,994]\u001b[0m Trial 56 finished with value: 0.8651597769258879 and parameters: {'n_estimators': 191, 'max_depth': 53, 'num_leaves': 12}. Best is trial 45 with value: 0.8734888679376045.\u001b[0m\n"
     ]
    },
    {
     "name": "stdout",
     "output_type": "stream",
     "text": [
      "Overall accuracy: 0.865\n",
      "\n"
     ]
    },
    {
     "name": "stderr",
     "output_type": "stream",
     "text": [
      "\u001b[32m[I 2023-05-11 01:17:46,403]\u001b[0m Trial 57 finished with value: 0.8723021850440581 and parameters: {'n_estimators': 257, 'max_depth': 39, 'num_leaves': 22}. Best is trial 45 with value: 0.8734888679376045.\u001b[0m\n"
     ]
    },
    {
     "name": "stdout",
     "output_type": "stream",
     "text": [
      "Overall accuracy: 0.873\n",
      "\n"
     ]
    },
    {
     "name": "stderr",
     "output_type": "stream",
     "text": [
      "\u001b[32m[I 2023-05-11 01:17:58,457]\u001b[0m Trial 58 finished with value: 0.8643712376096648 and parameters: {'n_estimators': 248, 'max_depth': 39, 'num_leaves': 19}. Best is trial 45 with value: 0.8734888679376045.\u001b[0m\n"
     ]
    },
    {
     "name": "stdout",
     "output_type": "stream",
     "text": [
      "Overall accuracy: 0.865\n",
      "\n"
     ]
    },
    {
     "name": "stderr",
     "output_type": "stream",
     "text": [
      "\u001b[32m[I 2023-05-11 01:18:02,539]\u001b[0m Trial 59 finished with value: 0.8560969091924548 and parameters: {'n_estimators': 98, 'max_depth': 47, 'num_leaves': 15}. Best is trial 45 with value: 0.8734888679376045.\u001b[0m\n"
     ]
    },
    {
     "name": "stdout",
     "output_type": "stream",
     "text": [
      "Overall accuracy: 0.856\n",
      "\n"
     ]
    },
    {
     "name": "stderr",
     "output_type": "stream",
     "text": [
      "\u001b[32m[I 2023-05-11 01:18:16,667]\u001b[0m Trial 60 finished with value: 0.8710690024061896 and parameters: {'n_estimators': 285, 'max_depth': 44, 'num_leaves': 21}. Best is trial 45 with value: 0.8734888679376045.\u001b[0m\n"
     ]
    },
    {
     "name": "stdout",
     "output_type": "stream",
     "text": [
      "Overall accuracy: 0.871\n",
      "\n"
     ]
    },
    {
     "name": "stderr",
     "output_type": "stream",
     "text": [
      "\u001b[32m[I 2023-05-11 01:18:29,747]\u001b[0m Trial 61 finished with value: 0.8718947680995256 and parameters: {'n_estimators': 266, 'max_depth': 39, 'num_leaves': 21}. Best is trial 45 with value: 0.8734888679376045.\u001b[0m\n"
     ]
    },
    {
     "name": "stdout",
     "output_type": "stream",
     "text": [
      "Overall accuracy: 0.872\n",
      "\n"
     ]
    },
    {
     "name": "stderr",
     "output_type": "stream",
     "text": [
      "\u001b[32m[I 2023-05-11 01:18:45,152]\u001b[0m Trial 62 finished with value: 0.8675542367162224 and parameters: {'n_estimators': 268, 'max_depth': 38, 'num_leaves': 26}. Best is trial 45 with value: 0.8734888679376045.\u001b[0m\n"
     ]
    },
    {
     "name": "stdout",
     "output_type": "stream",
     "text": [
      "Overall accuracy: 0.868\n",
      "\n"
     ]
    },
    {
     "name": "stderr",
     "output_type": "stream",
     "text": [
      "\u001b[32m[I 2023-05-11 01:18:57,604]\u001b[0m Trial 63 finished with value: 0.8636405637121904 and parameters: {'n_estimators': 284, 'max_depth': 33, 'num_leaves': 18}. Best is trial 45 with value: 0.8734888679376045.\u001b[0m\n"
     ]
    },
    {
     "name": "stdout",
     "output_type": "stream",
     "text": [
      "Overall accuracy: 0.864\n",
      "\n"
     ]
    },
    {
     "name": "stderr",
     "output_type": "stream",
     "text": [
      "\u001b[32m[I 2023-05-11 01:19:11,458]\u001b[0m Trial 64 finished with value: 0.858502819545812 and parameters: {'n_estimators': 237, 'max_depth': 44, 'num_leaves': 25}. Best is trial 45 with value: 0.8734888679376045.\u001b[0m\n"
     ]
    },
    {
     "name": "stdout",
     "output_type": "stream",
     "text": [
      "Overall accuracy: 0.859\n",
      "\n"
     ]
    },
    {
     "name": "stderr",
     "output_type": "stream",
     "text": [
      "\u001b[32m[I 2023-05-11 01:19:25,258]\u001b[0m Trial 65 finished with value: 0.8687032960283214 and parameters: {'n_estimators': 290, 'max_depth': 40, 'num_leaves': 20}. Best is trial 45 with value: 0.8734888679376045.\u001b[0m\n"
     ]
    },
    {
     "name": "stdout",
     "output_type": "stream",
     "text": [
      "Overall accuracy: 0.869\n",
      "\n"
     ]
    },
    {
     "name": "stderr",
     "output_type": "stream",
     "text": [
      "\u001b[32m[I 2023-05-11 01:19:41,531]\u001b[0m Trial 66 finished with value: 0.8659868945391846 and parameters: {'n_estimators': 267, 'max_depth': 37, 'num_leaves': 28}. Best is trial 45 with value: 0.8734888679376045.\u001b[0m\n"
     ]
    },
    {
     "name": "stdout",
     "output_type": "stream",
     "text": [
      "Overall accuracy: 0.866\n",
      "\n"
     ]
    },
    {
     "name": "stderr",
     "output_type": "stream",
     "text": [
      "\u001b[32m[I 2023-05-11 01:19:55,903]\u001b[0m Trial 67 finished with value: 0.8734888679376045 and parameters: {'n_estimators': 282, 'max_depth': 43, 'num_leaves': 22}. Best is trial 45 with value: 0.8734888679376045.\u001b[0m\n"
     ]
    },
    {
     "name": "stdout",
     "output_type": "stream",
     "text": [
      "Overall accuracy: 0.874\n",
      "\n"
     ]
    },
    {
     "name": "stderr",
     "output_type": "stream",
     "text": [
      "\u001b[32m[I 2023-05-11 01:20:14,572]\u001b[0m Trial 68 finished with value: 0.8616061768947172 and parameters: {'n_estimators': 277, 'max_depth': 35, 'num_leaves': 32}. Best is trial 45 with value: 0.8734888679376045.\u001b[0m\n"
     ]
    },
    {
     "name": "stdout",
     "output_type": "stream",
     "text": [
      "Overall accuracy: 0.862\n",
      "\n"
     ]
    },
    {
     "name": "stderr",
     "output_type": "stream",
     "text": [
      "\u001b[32m[I 2023-05-11 01:20:29,061]\u001b[0m Trial 69 finished with value: 0.8719124052327771 and parameters: {'n_estimators': 289, 'max_depth': 32, 'num_leaves': 22}. Best is trial 45 with value: 0.8734888679376045.\u001b[0m\n"
     ]
    },
    {
     "name": "stdout",
     "output_type": "stream",
     "text": [
      "Overall accuracy: 0.872\n",
      "\n"
     ]
    },
    {
     "name": "stderr",
     "output_type": "stream",
     "text": [
      "\u001b[32m[I 2023-05-11 01:20:43,421]\u001b[0m Trial 70 finished with value: 0.8691121367775876 and parameters: {'n_estimators': 261, 'max_depth': 31, 'num_leaves': 24}. Best is trial 45 with value: 0.8734888679376045.\u001b[0m\n"
     ]
    },
    {
     "name": "stdout",
     "output_type": "stream",
     "text": [
      "Overall accuracy: 0.869\n",
      "\n"
     ]
    },
    {
     "name": "stderr",
     "output_type": "stream",
     "text": [
      "\u001b[32m[I 2023-05-11 01:20:55,834]\u001b[0m Trial 71 finished with value: 0.8628142452252591 and parameters: {'n_estimators': 292, 'max_depth': 47, 'num_leaves': 18}. Best is trial 45 with value: 0.8734888679376045.\u001b[0m\n"
     ]
    },
    {
     "name": "stdout",
     "output_type": "stream",
     "text": [
      "Overall accuracy: 0.863\n",
      "\n"
     ]
    },
    {
     "name": "stderr",
     "output_type": "stream",
     "text": [
      "\u001b[32m[I 2023-05-11 01:21:10,209]\u001b[0m Trial 72 finished with value: 0.8719036667197462 and parameters: {'n_estimators': 286, 'max_depth': 40, 'num_leaves': 22}. Best is trial 45 with value: 0.8734888679376045.\u001b[0m\n"
     ]
    },
    {
     "name": "stdout",
     "output_type": "stream",
     "text": [
      "Overall accuracy: 0.872\n",
      "\n"
     ]
    },
    {
     "name": "stderr",
     "output_type": "stream",
     "text": [
      "\u001b[32m[I 2023-05-11 01:21:11,735]\u001b[0m Trial 73 finished with value: 0.8414292231632718 and parameters: {'n_estimators': 18, 'max_depth': 39, 'num_leaves': 23}. Best is trial 45 with value: 0.8734888679376045.\u001b[0m\n"
     ]
    },
    {
     "name": "stdout",
     "output_type": "stream",
     "text": [
      "Overall accuracy: 0.842\n",
      "\n"
     ]
    },
    {
     "name": "stderr",
     "output_type": "stream",
     "text": [
      "\u001b[32m[I 2023-05-11 01:21:28,391]\u001b[0m Trial 74 finished with value: 0.8683608944589982 and parameters: {'n_estimators': 273, 'max_depth': 29, 'num_leaves': 27}. Best is trial 45 with value: 0.8734888679376045.\u001b[0m\n"
     ]
    },
    {
     "name": "stdout",
     "output_type": "stream",
     "text": [
      "Overall accuracy: 0.869\n",
      "\n"
     ]
    },
    {
     "name": "stderr",
     "output_type": "stream",
     "text": [
      "\u001b[32m[I 2023-05-11 01:21:43,995]\u001b[0m Trial 75 finished with value: 0.8628523588781569 and parameters: {'n_estimators': 279, 'max_depth': 33, 'num_leaves': 25}. Best is trial 45 with value: 0.8734888679376045.\u001b[0m\n"
     ]
    },
    {
     "name": "stdout",
     "output_type": "stream",
     "text": [
      "Overall accuracy: 0.863\n",
      "\n"
     ]
    },
    {
     "name": "stderr",
     "output_type": "stream",
     "text": [
      "\u001b[32m[I 2023-05-11 01:22:06,625]\u001b[0m Trial 76 finished with value: 0.8631624294791038 and parameters: {'n_estimators': 294, 'max_depth': 43, 'num_leaves': 40}. Best is trial 45 with value: 0.8734888679376045.\u001b[0m\n"
     ]
    },
    {
     "name": "stdout",
     "output_type": "stream",
     "text": [
      "Overall accuracy: 0.863\n",
      "\n"
     ]
    },
    {
     "name": "stderr",
     "output_type": "stream",
     "text": [
      "\u001b[32m[I 2023-05-11 01:22:17,643]\u001b[0m Trial 77 finished with value: 0.8647804189622483 and parameters: {'n_estimators': 248, 'max_depth': 7, 'num_leaves': 22}. Best is trial 45 with value: 0.8734888679376045.\u001b[0m\n"
     ]
    },
    {
     "name": "stdout",
     "output_type": "stream",
     "text": [
      "Overall accuracy: 0.865\n",
      "\n"
     ]
    },
    {
     "name": "stderr",
     "output_type": "stream",
     "text": [
      "\u001b[32m[I 2023-05-11 01:22:29,699]\u001b[0m Trial 78 finished with value: 0.8639919665946814 and parameters: {'n_estimators': 268, 'max_depth': 49, 'num_leaves': 19}. Best is trial 45 with value: 0.8734888679376045.\u001b[0m\n"
     ]
    },
    {
     "name": "stdout",
     "output_type": "stream",
     "text": [
      "Overall accuracy: 0.864\n",
      "\n"
     ]
    },
    {
     "name": "stderr",
     "output_type": "stream",
     "text": [
      "\u001b[32m[I 2023-05-11 01:22:51,409]\u001b[0m Trial 79 finished with value: 0.8640569014385797 and parameters: {'n_estimators': 285, 'max_depth': 35, 'num_leaves': 48}. Best is trial 45 with value: 0.8734888679376045.\u001b[0m\n"
     ]
    },
    {
     "name": "stdout",
     "output_type": "stream",
     "text": [
      "Overall accuracy: 0.864\n",
      "\n"
     ]
    },
    {
     "name": "stderr",
     "output_type": "stream",
     "text": [
      "\u001b[32m[I 2023-05-11 01:22:59,397]\u001b[0m Trial 80 finished with value: 0.8651697312588401 and parameters: {'n_estimators': 237, 'max_depth': 40, 'num_leaves': 13}. Best is trial 45 with value: 0.8734888679376045.\u001b[0m\n"
     ]
    },
    {
     "name": "stdout",
     "output_type": "stream",
     "text": [
      "Overall accuracy: 0.865\n",
      "\n"
     ]
    },
    {
     "name": "stderr",
     "output_type": "stream",
     "text": [
      "\u001b[32m[I 2023-05-11 01:23:14,066]\u001b[0m Trial 81 finished with value: 0.8719036667197462 and parameters: {'n_estimators': 286, 'max_depth': 45, 'num_leaves': 22}. Best is trial 45 with value: 0.8734888679376045.\u001b[0m\n"
     ]
    },
    {
     "name": "stdout",
     "output_type": "stream",
     "text": [
      "Overall accuracy: 0.872\n",
      "\n"
     ]
    },
    {
     "name": "stderr",
     "output_type": "stream",
     "text": [
      "\u001b[32m[I 2023-05-11 01:23:28,823]\u001b[0m Trial 82 finished with value: 0.8608676749294473 and parameters: {'n_estimators': 262, 'max_depth': 46, 'num_leaves': 25}. Best is trial 45 with value: 0.8734888679376045.\u001b[0m\n"
     ]
    },
    {
     "name": "stdout",
     "output_type": "stream",
     "text": [
      "Overall accuracy: 0.861\n",
      "\n"
     ]
    },
    {
     "name": "stderr",
     "output_type": "stream",
     "text": [
      "\u001b[32m[I 2023-05-11 01:23:42,602]\u001b[0m Trial 83 finished with value: 0.8726919518476247 and parameters: {'n_estimators': 274, 'max_depth': 37, 'num_leaves': 22}. Best is trial 45 with value: 0.8734888679376045.\u001b[0m\n"
     ]
    },
    {
     "name": "stdout",
     "output_type": "stream",
     "text": [
      "Overall accuracy: 0.873\n",
      "\n"
     ]
    },
    {
     "name": "stderr",
     "output_type": "stream",
     "text": [
      "\u001b[32m[I 2023-05-11 01:24:05,556]\u001b[0m Trial 84 finished with value: 0.8616653976513994 and parameters: {'n_estimators': 278, 'max_depth': 42, 'num_leaves': 54}. Best is trial 45 with value: 0.8734888679376045.\u001b[0m\n"
     ]
    },
    {
     "name": "stdout",
     "output_type": "stream",
     "text": [
      "Overall accuracy: 0.862\n",
      "\n"
     ]
    },
    {
     "name": "stderr",
     "output_type": "stream",
     "text": [
      "\u001b[32m[I 2023-05-11 01:24:24,523]\u001b[0m Trial 85 finished with value: 0.8703446265802522 and parameters: {'n_estimators': 300, 'max_depth': 37, 'num_leaves': 29}. Best is trial 45 with value: 0.8734888679376045.\u001b[0m\n"
     ]
    },
    {
     "name": "stdout",
     "output_type": "stream",
     "text": [
      "Overall accuracy: 0.871\n",
      "\n"
     ]
    },
    {
     "name": "stderr",
     "output_type": "stream",
     "text": [
      "\u001b[32m[I 2023-05-11 01:24:36,360]\u001b[0m Trial 86 finished with value: 0.8671058753154408 and parameters: {'n_estimators': 289, 'max_depth': 31, 'num_leaves': 17}. Best is trial 45 with value: 0.8734888679376045.\u001b[0m\n"
     ]
    },
    {
     "name": "stdout",
     "output_type": "stream",
     "text": [
      "Overall accuracy: 0.867\n",
      "\n"
     ]
    },
    {
     "name": "stderr",
     "output_type": "stream",
     "text": [
      "\u001b[32m[I 2023-05-11 01:24:49,285]\u001b[0m Trial 87 finished with value: 0.8659176206598687 and parameters: {'n_estimators': 273, 'max_depth': 40, 'num_leaves': 20}. Best is trial 45 with value: 0.8734888679376045.\u001b[0m\n"
     ]
    },
    {
     "name": "stdout",
     "output_type": "stream",
     "text": [
      "Overall accuracy: 0.866\n",
      "\n"
     ]
    },
    {
     "name": "stderr",
     "output_type": "stream",
     "text": [
      "\u001b[32m[I 2023-05-11 01:25:02,201]\u001b[0m Trial 88 finished with value: 0.8714869078834324 and parameters: {'n_estimators': 250, 'max_depth': 37, 'num_leaves': 22}. Best is trial 45 with value: 0.8734888679376045.\u001b[0m\n"
     ]
    },
    {
     "name": "stdout",
     "output_type": "stream",
     "text": [
      "Overall accuracy: 0.872\n",
      "\n"
     ]
    },
    {
     "name": "stderr",
     "output_type": "stream",
     "text": [
      "\u001b[32m[I 2023-05-11 01:25:17,052]\u001b[0m Trial 89 finished with value: 0.8691401440794391 and parameters: {'n_estimators': 264, 'max_depth': 34, 'num_leaves': 24}. Best is trial 45 with value: 0.8734888679376045.\u001b[0m\n"
     ]
    },
    {
     "name": "stdout",
     "output_type": "stream",
     "text": [
      "Overall accuracy: 0.869\n",
      "\n"
     ]
    },
    {
     "name": "stderr",
     "output_type": "stream",
     "text": [
      "\u001b[32m[I 2023-05-11 01:25:30,537]\u001b[0m Trial 90 finished with value: 0.8620258213472434 and parameters: {'n_estimators': 222, 'max_depth': 43, 'num_leaves': 27}. Best is trial 45 with value: 0.8734888679376045.\u001b[0m\n"
     ]
    },
    {
     "name": "stdout",
     "output_type": "stream",
     "text": [
      "Overall accuracy: 0.862\n",
      "\n"
     ]
    },
    {
     "name": "stderr",
     "output_type": "stream",
     "text": [
      "\u001b[32m[I 2023-05-11 01:25:43,783]\u001b[0m Trial 91 finished with value: 0.8715050812346299 and parameters: {'n_estimators': 258, 'max_depth': 48, 'num_leaves': 22}. Best is trial 45 with value: 0.8734888679376045.\u001b[0m\n"
     ]
    },
    {
     "name": "stdout",
     "output_type": "stream",
     "text": [
      "Overall accuracy: 0.872\n",
      "\n"
     ]
    },
    {
     "name": "stderr",
     "output_type": "stream",
     "text": [
      "\u001b[32m[I 2023-05-11 01:25:54,769]\u001b[0m Trial 92 finished with value: 0.8655490208578307 and parameters: {'n_estimators': 242, 'max_depth': 45, 'num_leaves': 19}. Best is trial 45 with value: 0.8734888679376045.\u001b[0m\n"
     ]
    },
    {
     "name": "stdout",
     "output_type": "stream",
     "text": [
      "Overall accuracy: 0.866\n",
      "\n"
     ]
    },
    {
     "name": "stderr",
     "output_type": "stream",
     "text": [
      "\u001b[32m[I 2023-05-11 01:26:09,497]\u001b[0m Trial 93 finished with value: 0.8699462023844592 and parameters: {'n_estimators': 293, 'max_depth': 42, 'num_leaves': 22}. Best is trial 45 with value: 0.8734888679376045.\u001b[0m\n"
     ]
    },
    {
     "name": "stdout",
     "output_type": "stream",
     "text": [
      "Overall accuracy: 0.870\n",
      "\n"
     ]
    },
    {
     "name": "stderr",
     "output_type": "stream",
     "text": [
      "\u001b[32m[I 2023-05-11 01:26:20,511]\u001b[0m Trial 94 finished with value: 0.8636026691032748 and parameters: {'n_estimators': 283, 'max_depth': 51, 'num_leaves': 16}. Best is trial 45 with value: 0.8734888679376045.\u001b[0m\n"
     ]
    },
    {
     "name": "stdout",
     "output_type": "stream",
     "text": [
      "Overall accuracy: 0.864\n",
      "\n"
     ]
    },
    {
     "name": "stderr",
     "output_type": "stream",
     "text": [
      "\u001b[32m[I 2023-05-11 01:26:35,602]\u001b[0m Trial 95 finished with value: 0.8683426043548164 and parameters: {'n_estimators': 275, 'max_depth': 38, 'num_leaves': 24}. Best is trial 45 with value: 0.8734888679376045.\u001b[0m\n"
     ]
    },
    {
     "name": "stdout",
     "output_type": "stream",
     "text": [
      "Overall accuracy: 0.869\n",
      "\n"
     ]
    },
    {
     "name": "stderr",
     "output_type": "stream",
     "text": [
      "\u001b[32m[I 2023-05-11 01:26:48,019]\u001b[0m Trial 96 finished with value: 0.8674950604168115 and parameters: {'n_estimators': 263, 'max_depth': 55, 'num_leaves': 20}. Best is trial 45 with value: 0.8734888679376045.\u001b[0m\n"
     ]
    },
    {
     "name": "stdout",
     "output_type": "stream",
     "text": [
      "Overall accuracy: 0.868\n",
      "\n"
     ]
    },
    {
     "name": "stderr",
     "output_type": "stream",
     "text": [
      "\u001b[32m[I 2023-05-11 01:27:03,852]\u001b[0m Trial 97 finished with value: 0.8675635193093119 and parameters: {'n_estimators': 271, 'max_depth': 46, 'num_leaves': 26}. Best is trial 45 with value: 0.8734888679376045.\u001b[0m\n"
     ]
    },
    {
     "name": "stdout",
     "output_type": "stream",
     "text": [
      "Overall accuracy: 0.868\n",
      "\n"
     ]
    },
    {
     "name": "stderr",
     "output_type": "stream",
     "text": [
      "\u001b[32m[I 2023-05-11 01:27:16,221]\u001b[0m Trial 98 finished with value: 0.8636219573839937 and parameters: {'n_estimators': 282, 'max_depth': 41, 'num_leaves': 18}. Best is trial 45 with value: 0.8734888679376045.\u001b[0m\n"
     ]
    },
    {
     "name": "stdout",
     "output_type": "stream",
     "text": [
      "Overall accuracy: 0.864\n",
      "\n"
     ]
    },
    {
     "name": "stderr",
     "output_type": "stream",
     "text": [
      "\u001b[32m[I 2023-05-11 01:27:24,521]\u001b[0m Trial 99 finished with value: 0.8632035142271144 and parameters: {'n_estimators': 149, 'max_depth': 36, 'num_leaves': 23}. Best is trial 45 with value: 0.8734888679376045.\u001b[0m\n"
     ]
    },
    {
     "name": "stdout",
     "output_type": "stream",
     "text": [
      "Overall accuracy: 0.863\n",
      "\n",
      "Accuracy: 0.8734888679376045\n",
      "Best hyperparameters: {'n_estimators': 255, 'max_depth': 50, 'num_leaves': 22}\n"
     ]
    },
    {
     "name": "stderr",
     "output_type": "stream",
     "text": [
      "\u001b[32m[I 2023-05-11 01:27:27,596]\u001b[0m A new study created in memory with name: no-name-b623d440-f9b4-4c9f-858e-ccace0ba16ae\u001b[0m\n"
     ]
    },
    {
     "name": "stdout",
     "output_type": "stream",
     "text": [
      "\n",
      "\n",
      "\n",
      "Model :- RandomForest, DataType :- PAAC\n"
     ]
    },
    {
     "name": "stderr",
     "output_type": "stream",
     "text": [
      "\u001b[32m[I 2023-05-11 01:27:31,839]\u001b[0m Trial 0 finished with value: 0.8797432591250391 and parameters: {'n_estimators': 72, 'max_depth': 62, 'criterion': 'entropy'}. Best is trial 0 with value: 0.8797432591250391.\u001b[0m\n"
     ]
    },
    {
     "name": "stdout",
     "output_type": "stream",
     "text": [
      "Overall accuracy: 0.880\n",
      "\n"
     ]
    },
    {
     "name": "stderr",
     "output_type": "stream",
     "text": [
      "\u001b[32m[I 2023-05-11 01:27:41,733]\u001b[0m Trial 1 finished with value: 0.8801765174703298 and parameters: {'n_estimators': 217, 'max_depth': 64, 'criterion': 'gini'}. Best is trial 1 with value: 0.8801765174703298.\u001b[0m\n"
     ]
    },
    {
     "name": "stdout",
     "output_type": "stream",
     "text": [
      "Overall accuracy: 0.880\n",
      "\n"
     ]
    },
    {
     "name": "stderr",
     "output_type": "stream",
     "text": [
      "\u001b[32m[I 2023-05-11 01:27:42,299]\u001b[0m Trial 2 finished with value: 0.7362044568024226 and parameters: {'n_estimators': 45, 'max_depth': 1, 'criterion': 'gini'}. Best is trial 1 with value: 0.8801765174703298.\u001b[0m\n"
     ]
    },
    {
     "name": "stdout",
     "output_type": "stream",
     "text": [
      "Overall accuracy: 0.736\n",
      "\n"
     ]
    },
    {
     "name": "stderr",
     "output_type": "stream",
     "text": [
      "\u001b[32m[I 2023-05-11 01:27:53,954]\u001b[0m Trial 3 finished with value: 0.8789725615784556 and parameters: {'n_estimators': 206, 'max_depth': 29, 'criterion': 'log_loss'}. Best is trial 1 with value: 0.8801765174703298.\u001b[0m\n"
     ]
    },
    {
     "name": "stdout",
     "output_type": "stream",
     "text": [
      "Overall accuracy: 0.879\n",
      "\n"
     ]
    },
    {
     "name": "stderr",
     "output_type": "stream",
     "text": [
      "\u001b[32m[I 2023-05-11 01:27:57,384]\u001b[0m Trial 4 finished with value: 0.8746999082364029 and parameters: {'n_estimators': 61, 'max_depth': 51, 'criterion': 'log_loss'}. Best is trial 1 with value: 0.8801765174703298.\u001b[0m\n"
     ]
    },
    {
     "name": "stdout",
     "output_type": "stream",
     "text": [
      "Overall accuracy: 0.875\n",
      "\n"
     ]
    },
    {
     "name": "stderr",
     "output_type": "stream",
     "text": [
      "\u001b[32m[I 2023-05-11 01:28:02,818]\u001b[0m Trial 5 finished with value: 0.8773682704232517 and parameters: {'n_estimators': 120, 'max_depth': 15, 'criterion': 'gini'}. Best is trial 1 with value: 0.8801765174703298.\u001b[0m\n"
     ]
    },
    {
     "name": "stdout",
     "output_type": "stream",
     "text": [
      "Overall accuracy: 0.878\n",
      "\n"
     ]
    },
    {
     "name": "stderr",
     "output_type": "stream",
     "text": [
      "\u001b[32m[I 2023-05-11 01:28:08,143]\u001b[0m Trial 6 finished with value: 0.8805042482237979 and parameters: {'n_estimators': 116, 'max_depth': 37, 'criterion': 'gini'}. Best is trial 6 with value: 0.8805042482237979.\u001b[0m\n"
     ]
    },
    {
     "name": "stdout",
     "output_type": "stream",
     "text": [
      "Overall accuracy: 0.881\n",
      "\n"
     ]
    },
    {
     "name": "stderr",
     "output_type": "stream",
     "text": [
      "\u001b[32m[I 2023-05-11 01:28:21,585]\u001b[0m Trial 7 finished with value: 0.8793882050852662 and parameters: {'n_estimators': 225, 'max_depth': 50, 'criterion': 'entropy'}. Best is trial 6 with value: 0.8805042482237979.\u001b[0m\n"
     ]
    },
    {
     "name": "stdout",
     "output_type": "stream",
     "text": [
      "Overall accuracy: 0.880\n",
      "\n"
     ]
    },
    {
     "name": "stderr",
     "output_type": "stream",
     "text": [
      "\u001b[32m[I 2023-05-11 01:28:28,044]\u001b[0m Trial 8 finished with value: 0.8813292319641888 and parameters: {'n_estimators': 143, 'max_depth': 17, 'criterion': 'gini'}. Best is trial 8 with value: 0.8813292319641888.\u001b[0m\n"
     ]
    },
    {
     "name": "stdout",
     "output_type": "stream",
     "text": [
      "Overall accuracy: 0.882\n",
      "\n"
     ]
    },
    {
     "name": "stderr",
     "output_type": "stream",
     "text": [
      "\u001b[32m[I 2023-05-11 01:28:31,127]\u001b[0m Trial 9 finished with value: 0.7381653105584087 and parameters: {'n_estimators': 210, 'max_depth': 1, 'criterion': 'log_loss'}. Best is trial 8 with value: 0.8813292319641888.\u001b[0m\n"
     ]
    },
    {
     "name": "stdout",
     "output_type": "stream",
     "text": [
      "Overall accuracy: 0.739\n",
      "\n"
     ]
    },
    {
     "name": "stderr",
     "output_type": "stream",
     "text": [
      "\u001b[32m[I 2023-05-11 01:28:44,178]\u001b[0m Trial 10 finished with value: 0.8825163155413285 and parameters: {'n_estimators': 289, 'max_depth': 17, 'criterion': 'gini'}. Best is trial 10 with value: 0.8825163155413285.\u001b[0m\n"
     ]
    },
    {
     "name": "stdout",
     "output_type": "stream",
     "text": [
      "Overall accuracy: 0.883\n",
      "\n"
     ]
    },
    {
     "name": "stderr",
     "output_type": "stream",
     "text": [
      "\u001b[32m[I 2023-05-11 01:28:57,059]\u001b[0m Trial 11 finished with value: 0.8805494663135898 and parameters: {'n_estimators': 287, 'max_depth': 18, 'criterion': 'gini'}. Best is trial 10 with value: 0.8825163155413285.\u001b[0m\n"
     ]
    },
    {
     "name": "stdout",
     "output_type": "stream",
     "text": [
      "Overall accuracy: 0.881\n",
      "\n"
     ]
    },
    {
     "name": "stderr",
     "output_type": "stream",
     "text": [
      "\u001b[32m[I 2023-05-11 01:29:10,236]\u001b[0m Trial 12 finished with value: 0.8766072044757544 and parameters: {'n_estimators': 294, 'max_depth': 15, 'criterion': 'gini'}. Best is trial 10 with value: 0.8825163155413285.\u001b[0m\n"
     ]
    },
    {
     "name": "stdout",
     "output_type": "stream",
     "text": [
      "Overall accuracy: 0.877\n",
      "\n"
     ]
    },
    {
     "name": "stderr",
     "output_type": "stream",
     "text": [
      "\u001b[32m[I 2023-05-11 01:29:17,136]\u001b[0m Trial 13 finished with value: 0.882549540565214 and parameters: {'n_estimators': 153, 'max_depth': 25, 'criterion': 'gini'}. Best is trial 13 with value: 0.882549540565214.\u001b[0m\n",
      "\u001b[32m[I 2023-05-11 01:29:17,324]\u001b[0m Trial 14 finished with value: 0.8069630787713629 and parameters: {'n_estimators': 3, 'max_depth': 27, 'criterion': 'gini'}. Best is trial 13 with value: 0.882549540565214.\u001b[0m\n"
     ]
    },
    {
     "name": "stdout",
     "output_type": "stream",
     "text": [
      "Overall accuracy: 0.883\n",
      "\n",
      "Overall accuracy: 0.807\n",
      "\n"
     ]
    },
    {
     "name": "stderr",
     "output_type": "stream",
     "text": [
      "\u001b[32m[I 2023-05-11 01:29:26,950]\u001b[0m Trial 15 finished with value: 0.879794718756914 and parameters: {'n_estimators': 172, 'max_depth': 36, 'criterion': 'entropy'}. Best is trial 13 with value: 0.882549540565214.\u001b[0m\n"
     ]
    },
    {
     "name": "stdout",
     "output_type": "stream",
     "text": [
      "Overall accuracy: 0.880\n",
      "\n"
     ]
    },
    {
     "name": "stderr",
     "output_type": "stream",
     "text": [
      "\u001b[32m[I 2023-05-11 01:29:38,601]\u001b[0m Trial 16 finished with value: 0.8829062521374222 and parameters: {'n_estimators': 256, 'max_depth': 23, 'criterion': 'gini'}. Best is trial 16 with value: 0.8829062521374222.\u001b[0m\n"
     ]
    },
    {
     "name": "stdout",
     "output_type": "stream",
     "text": [
      "Overall accuracy: 0.883\n",
      "\n"
     ]
    },
    {
     "name": "stderr",
     "output_type": "stream",
     "text": [
      "\u001b[32m[I 2023-05-11 01:29:46,639]\u001b[0m Trial 17 finished with value: 0.8817011945294015 and parameters: {'n_estimators': 174, 'max_depth': 25, 'criterion': 'gini'}. Best is trial 16 with value: 0.8829062521374222.\u001b[0m\n"
     ]
    },
    {
     "name": "stdout",
     "output_type": "stream",
     "text": [
      "Overall accuracy: 0.882\n",
      "\n"
     ]
    },
    {
     "name": "stderr",
     "output_type": "stream",
     "text": [
      "\u001b[32m[I 2023-05-11 01:30:00,512]\u001b[0m Trial 18 finished with value: 0.8781751916177221 and parameters: {'n_estimators': 246, 'max_depth': 44, 'criterion': 'entropy'}. Best is trial 16 with value: 0.8829062521374222.\u001b[0m\n"
     ]
    },
    {
     "name": "stdout",
     "output_type": "stream",
     "text": [
      "Overall accuracy: 0.878\n",
      "\n"
     ]
    },
    {
     "name": "stderr",
     "output_type": "stream",
     "text": [
      "\u001b[32m[I 2023-05-11 01:30:05,887]\u001b[0m Trial 19 finished with value: 0.88289753429553 and parameters: {'n_estimators': 94, 'max_depth': 24, 'criterion': 'log_loss'}. Best is trial 16 with value: 0.8829062521374222.\u001b[0m\n"
     ]
    },
    {
     "name": "stdout",
     "output_type": "stream",
     "text": [
      "Overall accuracy: 0.883\n",
      "\n"
     ]
    },
    {
     "name": "stderr",
     "output_type": "stream",
     "text": [
      "\u001b[32m[I 2023-05-11 01:30:10,603]\u001b[0m Trial 20 finished with value: 0.8711812146748845 and parameters: {'n_estimators': 95, 'max_depth': 8, 'criterion': 'log_loss'}. Best is trial 16 with value: 0.8829062521374222.\u001b[0m\n"
     ]
    },
    {
     "name": "stdout",
     "output_type": "stream",
     "text": [
      "Overall accuracy: 0.871\n",
      "\n"
     ]
    },
    {
     "name": "stderr",
     "output_type": "stream",
     "text": [
      "\u001b[32m[I 2023-05-11 01:30:24,394]\u001b[0m Trial 21 finished with value: 0.8817102226193136 and parameters: {'n_estimators': 252, 'max_depth': 24, 'criterion': 'log_loss'}. Best is trial 16 with value: 0.8829062521374222.\u001b[0m\n"
     ]
    },
    {
     "name": "stdout",
     "output_type": "stream",
     "text": [
      "Overall accuracy: 0.882\n",
      "\n"
     ]
    },
    {
     "name": "stderr",
     "output_type": "stream",
     "text": [
      "\u001b[32m[I 2023-05-11 01:30:32,972]\u001b[0m Trial 22 finished with value: 0.8797781669857085 and parameters: {'n_estimators': 154, 'max_depth': 33, 'criterion': 'log_loss'}. Best is trial 16 with value: 0.8829062521374222.\u001b[0m\n"
     ]
    },
    {
     "name": "stdout",
     "output_type": "stream",
     "text": [
      "Overall accuracy: 0.880\n",
      "\n"
     ]
    },
    {
     "name": "stderr",
     "output_type": "stream",
     "text": [
      "\u001b[32m[I 2023-05-11 01:30:38,229]\u001b[0m Trial 23 finished with value: 0.8777484188369391 and parameters: {'n_estimators': 92, 'max_depth': 22, 'criterion': 'log_loss'}. Best is trial 16 with value: 0.8829062521374222.\u001b[0m\n"
     ]
    },
    {
     "name": "stdout",
     "output_type": "stream",
     "text": [
      "Overall accuracy: 0.878\n",
      "\n"
     ]
    },
    {
     "name": "stderr",
     "output_type": "stream",
     "text": [
      "\u001b[32m[I 2023-05-11 01:30:39,736]\u001b[0m Trial 24 finished with value: 0.8731157033043825 and parameters: {'n_estimators': 33, 'max_depth': 39, 'criterion': 'gini'}. Best is trial 16 with value: 0.8829062521374222.\u001b[0m\n"
     ]
    },
    {
     "name": "stdout",
     "output_type": "stream",
     "text": [
      "Overall accuracy: 0.873\n",
      "\n"
     ]
    },
    {
     "name": "stderr",
     "output_type": "stream",
     "text": [
      "\u001b[32m[I 2023-05-11 01:30:49,659]\u001b[0m Trial 25 finished with value: 0.8801595705416057 and parameters: {'n_estimators': 180, 'max_depth': 30, 'criterion': 'log_loss'}. Best is trial 16 with value: 0.8829062521374222.\u001b[0m\n"
     ]
    },
    {
     "name": "stdout",
     "output_type": "stream",
     "text": [
      "Overall accuracy: 0.880\n",
      "\n"
     ]
    },
    {
     "name": "stderr",
     "output_type": "stream",
     "text": [
      "\u001b[32m[I 2023-05-11 01:30:55,097]\u001b[0m Trial 26 finished with value: 0.8660639015343113 and parameters: {'n_estimators': 136, 'max_depth': 8, 'criterion': 'gini'}. Best is trial 16 with value: 0.8829062521374222.\u001b[0m\n"
     ]
    },
    {
     "name": "stdout",
     "output_type": "stream",
     "text": [
      "Overall accuracy: 0.866\n",
      "\n"
     ]
    },
    {
     "name": "stderr",
     "output_type": "stream",
     "text": [
      "\u001b[32m[I 2023-05-11 01:31:09,035]\u001b[0m Trial 27 finished with value: 0.8751056073942147 and parameters: {'n_estimators': 262, 'max_depth': 10, 'criterion': 'log_loss'}. Best is trial 16 with value: 0.8829062521374222.\u001b[0m\n"
     ]
    },
    {
     "name": "stdout",
     "output_type": "stream",
     "text": [
      "Overall accuracy: 0.875\n",
      "\n"
     ]
    },
    {
     "name": "stderr",
     "output_type": "stream",
     "text": [
      "\u001b[32m[I 2023-05-11 01:31:14,647]\u001b[0m Trial 28 finished with value: 0.879379751295131 and parameters: {'n_estimators': 98, 'max_depth': 22, 'criterion': 'entropy'}. Best is trial 16 with value: 0.8829062521374222.\u001b[0m\n"
     ]
    },
    {
     "name": "stdout",
     "output_type": "stream",
     "text": [
      "Overall accuracy: 0.880\n",
      "\n"
     ]
    },
    {
     "name": "stderr",
     "output_type": "stream",
     "text": [
      "\u001b[32m[I 2023-05-11 01:31:18,055]\u001b[0m Trial 29 finished with value: 0.876161219354018 and parameters: {'n_estimators': 74, 'max_depth': 43, 'criterion': 'gini'}. Best is trial 16 with value: 0.8829062521374222.\u001b[0m\n"
     ]
    },
    {
     "name": "stdout",
     "output_type": "stream",
     "text": [
      "Overall accuracy: 0.876\n",
      "\n"
     ]
    },
    {
     "name": "stderr",
     "output_type": "stream",
     "text": [
      "\u001b[32m[I 2023-05-11 01:31:18,912]\u001b[0m Trial 30 finished with value: 0.8581417800918563 and parameters: {'n_estimators': 15, 'max_depth': 34, 'criterion': 'entropy'}. Best is trial 16 with value: 0.8829062521374222.\u001b[0m\n"
     ]
    },
    {
     "name": "stdout",
     "output_type": "stream",
     "text": [
      "Overall accuracy: 0.858\n",
      "\n"
     ]
    },
    {
     "name": "stderr",
     "output_type": "stream",
     "text": [
      "\u001b[32m[I 2023-05-11 01:31:31,533]\u001b[0m Trial 31 finished with value: 0.8785913836565371 and parameters: {'n_estimators': 276, 'max_depth': 21, 'criterion': 'gini'}. Best is trial 16 with value: 0.8829062521374222.\u001b[0m\n"
     ]
    },
    {
     "name": "stdout",
     "output_type": "stream",
     "text": [
      "Overall accuracy: 0.879\n",
      "\n"
     ]
    },
    {
     "name": "stderr",
     "output_type": "stream",
     "text": [
      "\u001b[32m[I 2023-05-11 01:31:41,964]\u001b[0m Trial 32 finished with value: 0.8809967155215017 and parameters: {'n_estimators': 237, 'max_depth': 11, 'criterion': 'gini'}. Best is trial 16 with value: 0.8829062521374222.\u001b[0m\n"
     ]
    },
    {
     "name": "stdout",
     "output_type": "stream",
     "text": [
      "Overall accuracy: 0.881\n",
      "\n"
     ]
    },
    {
     "name": "stderr",
     "output_type": "stream",
     "text": [
      "\u001b[32m[I 2023-05-11 01:31:54,197]\u001b[0m Trial 33 finished with value: 0.8777764059854538 and parameters: {'n_estimators': 273, 'max_depth': 29, 'criterion': 'gini'}. Best is trial 16 with value: 0.8829062521374222.\u001b[0m\n"
     ]
    },
    {
     "name": "stdout",
     "output_type": "stream",
     "text": [
      "Overall accuracy: 0.878\n",
      "\n"
     ]
    },
    {
     "name": "stderr",
     "output_type": "stream",
     "text": [
      "\u001b[32m[I 2023-05-11 01:32:04,218]\u001b[0m Trial 34 finished with value: 0.8829396585100449 and parameters: {'n_estimators': 222, 'max_depth': 19, 'criterion': 'gini'}. Best is trial 34 with value: 0.8829396585100449.\u001b[0m\n"
     ]
    },
    {
     "name": "stdout",
     "output_type": "stream",
     "text": [
      "Overall accuracy: 0.883\n",
      "\n"
     ]
    },
    {
     "name": "stderr",
     "output_type": "stream",
     "text": [
      "\u001b[32m[I 2023-05-11 01:32:13,047]\u001b[0m Trial 35 finished with value: 0.8781841092108885 and parameters: {'n_estimators': 197, 'max_depth': 20, 'criterion': 'gini'}. Best is trial 34 with value: 0.8829396585100449.\u001b[0m\n"
     ]
    },
    {
     "name": "stdout",
     "output_type": "stream",
     "text": [
      "Overall accuracy: 0.878\n",
      "\n"
     ]
    },
    {
     "name": "stderr",
     "output_type": "stream",
     "text": [
      "\u001b[32m[I 2023-05-11 01:32:21,761]\u001b[0m Trial 36 finished with value: 0.8805665068743269 and parameters: {'n_estimators': 194, 'max_depth': 13, 'criterion': 'gini'}. Best is trial 34 with value: 0.8829396585100449.\u001b[0m\n"
     ]
    },
    {
     "name": "stdout",
     "output_type": "stream",
     "text": [
      "Overall accuracy: 0.881\n",
      "\n"
     ]
    },
    {
     "name": "stderr",
     "output_type": "stream",
     "text": [
      "\u001b[32m[I 2023-05-11 01:32:34,101]\u001b[0m Trial 37 finished with value: 0.8817278344375792 and parameters: {'n_estimators': 225, 'max_depth': 27, 'criterion': 'log_loss'}. Best is trial 34 with value: 0.8829396585100449.\u001b[0m\n"
     ]
    },
    {
     "name": "stdout",
     "output_type": "stream",
     "text": [
      "Overall accuracy: 0.882\n",
      "\n"
     ]
    },
    {
     "name": "stderr",
     "output_type": "stream",
     "text": [
      "\u001b[32m[I 2023-05-11 01:32:39,603]\u001b[0m Trial 38 finished with value: 0.8754636362226942 and parameters: {'n_estimators': 123, 'max_depth': 58, 'criterion': 'gini'}. Best is trial 34 with value: 0.8829396585100449.\u001b[0m\n"
     ]
    },
    {
     "name": "stdout",
     "output_type": "stream",
     "text": [
      "Overall accuracy: 0.876\n",
      "\n"
     ]
    },
    {
     "name": "stderr",
     "output_type": "stream",
     "text": [
      "\u001b[32m[I 2023-05-11 01:32:41,327]\u001b[0m Trial 39 finished with value: 0.8422007452623086 and parameters: {'n_estimators': 59, 'max_depth': 5, 'criterion': 'gini'}. Best is trial 34 with value: 0.8829396585100449.\u001b[0m\n"
     ]
    },
    {
     "name": "stdout",
     "output_type": "stream",
     "text": [
      "Overall accuracy: 0.842\n",
      "\n"
     ]
    },
    {
     "name": "stderr",
     "output_type": "stream",
     "text": [
      "\u001b[32m[I 2023-05-11 01:32:50,273]\u001b[0m Trial 40 finished with value: 0.8782344162428521 and parameters: {'n_estimators': 156, 'max_depth': 30, 'criterion': 'log_loss'}. Best is trial 34 with value: 0.8829396585100449.\u001b[0m\n"
     ]
    },
    {
     "name": "stdout",
     "output_type": "stream",
     "text": [
      "Overall accuracy: 0.878\n",
      "\n"
     ]
    },
    {
     "name": "stderr",
     "output_type": "stream",
     "text": [
      "\u001b[32m[I 2023-05-11 01:33:03,725]\u001b[0m Trial 41 finished with value: 0.8781751916177221 and parameters: {'n_estimators': 298, 'max_depth': 18, 'criterion': 'gini'}. Best is trial 34 with value: 0.8829396585100449.\u001b[0m\n"
     ]
    },
    {
     "name": "stdout",
     "output_type": "stream",
     "text": [
      "Overall accuracy: 0.878\n",
      "\n"
     ]
    },
    {
     "name": "stderr",
     "output_type": "stream",
     "text": [
      "\u001b[32m[I 2023-05-11 01:33:15,792]\u001b[0m Trial 42 finished with value: 0.8836592515710243 and parameters: {'n_estimators': 264, 'max_depth': 15, 'criterion': 'gini'}. Best is trial 42 with value: 0.8836592515710243.\u001b[0m\n"
     ]
    },
    {
     "name": "stdout",
     "output_type": "stream",
     "text": [
      "Overall accuracy: 0.884\n",
      "\n"
     ]
    },
    {
     "name": "stderr",
     "output_type": "stream",
     "text": [
      "\u001b[32m[I 2023-05-11 01:33:25,913]\u001b[0m Trial 43 finished with value: 0.8821177420508055 and parameters: {'n_estimators': 225, 'max_depth': 25, 'criterion': 'gini'}. Best is trial 42 with value: 0.8836592515710243.\u001b[0m\n"
     ]
    },
    {
     "name": "stdout",
     "output_type": "stream",
     "text": [
      "Overall accuracy: 0.882\n",
      "\n"
     ]
    },
    {
     "name": "stderr",
     "output_type": "stream",
     "text": [
      "\u001b[32m[I 2023-05-11 01:33:37,949]\u001b[0m Trial 44 finished with value: 0.8797432591250391 and parameters: {'n_estimators': 265, 'max_depth': 14, 'criterion': 'gini'}. Best is trial 42 with value: 0.8836592515710243.\u001b[0m\n"
     ]
    },
    {
     "name": "stdout",
     "output_type": "stream",
     "text": [
      "Overall accuracy: 0.880\n",
      "\n"
     ]
    },
    {
     "name": "stderr",
     "output_type": "stream",
     "text": [
      "\u001b[32m[I 2023-05-11 01:33:48,676]\u001b[0m Trial 45 finished with value: 0.8805494663135898 and parameters: {'n_estimators': 241, 'max_depth': 19, 'criterion': 'gini'}. Best is trial 42 with value: 0.8836592515710243.\u001b[0m\n"
     ]
    },
    {
     "name": "stdout",
     "output_type": "stream",
     "text": [
      "Overall accuracy: 0.881\n",
      "\n"
     ]
    },
    {
     "name": "stderr",
     "output_type": "stream",
     "text": [
      "\u001b[32m[I 2023-05-11 01:33:56,325]\u001b[0m Trial 46 finished with value: 0.8465181172344094 and parameters: {'n_estimators': 258, 'max_depth': 5, 'criterion': 'gini'}. Best is trial 42 with value: 0.8836592515710243.\u001b[0m\n"
     ]
    },
    {
     "name": "stdout",
     "output_type": "stream",
     "text": [
      "Overall accuracy: 0.847\n",
      "\n"
     ]
    },
    {
     "name": "stderr",
     "output_type": "stream",
     "text": [
      "\u001b[32m[I 2023-05-11 01:34:05,941]\u001b[0m Trial 47 finished with value: 0.881736418297637 and parameters: {'n_estimators': 211, 'max_depth': 16, 'criterion': 'gini'}. Best is trial 42 with value: 0.8836592515710243.\u001b[0m\n"
     ]
    },
    {
     "name": "stdout",
     "output_type": "stream",
     "text": [
      "Overall accuracy: 0.882\n",
      "\n"
     ]
    },
    {
     "name": "stderr",
     "output_type": "stream",
     "text": [
      "\u001b[32m[I 2023-05-11 01:34:21,649]\u001b[0m Trial 48 finished with value: 0.8797610139460226 and parameters: {'n_estimators': 278, 'max_depth': 24, 'criterion': 'entropy'}. Best is trial 42 with value: 0.8836592515710243.\u001b[0m\n"
     ]
    },
    {
     "name": "stdout",
     "output_type": "stream",
     "text": [
      "Overall accuracy: 0.880\n",
      "\n"
     ]
    },
    {
     "name": "stderr",
     "output_type": "stream",
     "text": [
      "\u001b[32m[I 2023-05-11 01:34:32,055]\u001b[0m Trial 49 finished with value: 0.8813464569261347 and parameters: {'n_estimators': 232, 'max_depth': 27, 'criterion': 'gini'}. Best is trial 42 with value: 0.8836592515710243.\u001b[0m\n"
     ]
    },
    {
     "name": "stdout",
     "output_type": "stream",
     "text": [
      "Overall accuracy: 0.882\n",
      "\n"
     ]
    },
    {
     "name": "stderr",
     "output_type": "stream",
     "text": [
      "\u001b[32m[I 2023-05-11 01:34:38,271]\u001b[0m Trial 50 finished with value: 0.8785827227855743 and parameters: {'n_estimators': 112, 'max_depth': 13, 'criterion': 'log_loss'}. Best is trial 42 with value: 0.8836592515710243.\u001b[0m\n"
     ]
    },
    {
     "name": "stdout",
     "output_type": "stream",
     "text": [
      "Overall accuracy: 0.879\n",
      "\n"
     ]
    },
    {
     "name": "stderr",
     "output_type": "stream",
     "text": [
      "\u001b[32m[I 2023-05-11 01:34:50,622]\u001b[0m Trial 51 finished with value: 0.8809479944196215 and parameters: {'n_estimators': 283, 'max_depth': 17, 'criterion': 'gini'}. Best is trial 42 with value: 0.8836592515710243.\u001b[0m\n"
     ]
    },
    {
     "name": "stdout",
     "output_type": "stream",
     "text": [
      "Overall accuracy: 0.881\n",
      "\n"
     ]
    },
    {
     "name": "stderr",
     "output_type": "stream",
     "text": [
      "\u001b[32m[I 2023-05-11 01:35:03,434]\u001b[0m Trial 52 finished with value: 0.8817692748949628 and parameters: {'n_estimators': 290, 'max_depth': 22, 'criterion': 'gini'}. Best is trial 42 with value: 0.8836592515710243.\u001b[0m\n"
     ]
    },
    {
     "name": "stdout",
     "output_type": "stream",
     "text": [
      "Overall accuracy: 0.882\n",
      "\n"
     ]
    },
    {
     "name": "stderr",
     "output_type": "stream",
     "text": [
      "\u001b[32m[I 2023-05-11 01:35:15,364]\u001b[0m Trial 53 finished with value: 0.8817191025665683 and parameters: {'n_estimators': 269, 'max_depth': 19, 'criterion': 'gini'}. Best is trial 42 with value: 0.8836592515710243.\u001b[0m\n"
     ]
    },
    {
     "name": "stdout",
     "output_type": "stream",
     "text": [
      "Overall accuracy: 0.882\n",
      "\n"
     ]
    },
    {
     "name": "stderr",
     "output_type": "stream",
     "text": [
      "\u001b[32m[I 2023-05-11 01:35:26,786]\u001b[0m Trial 54 finished with value: 0.8809216241034423 and parameters: {'n_estimators': 251, 'max_depth': 15, 'criterion': 'gini'}. Best is trial 42 with value: 0.8836592515710243.\u001b[0m\n"
     ]
    },
    {
     "name": "stdout",
     "output_type": "stream",
     "text": [
      "Overall accuracy: 0.881\n",
      "\n"
     ]
    },
    {
     "name": "stderr",
     "output_type": "stream",
     "text": [
      "\u001b[32m[I 2023-05-11 01:35:34,564]\u001b[0m Trial 55 finished with value: 0.8844659267974687 and parameters: {'n_estimators': 164, 'max_depth': 24, 'criterion': 'gini'}. Best is trial 55 with value: 0.8844659267974687.\u001b[0m\n"
     ]
    },
    {
     "name": "stdout",
     "output_type": "stream",
     "text": [
      "Overall accuracy: 0.885\n",
      "\n"
     ]
    },
    {
     "name": "stderr",
     "output_type": "stream",
     "text": [
      "\u001b[32m[I 2023-05-11 01:35:42,072]\u001b[0m Trial 56 finished with value: 0.8813379186811567 and parameters: {'n_estimators': 164, 'max_depth': 27, 'criterion': 'gini'}. Best is trial 55 with value: 0.8844659267974687.\u001b[0m\n"
     ]
    },
    {
     "name": "stdout",
     "output_type": "stream",
     "text": [
      "Overall accuracy: 0.882\n",
      "\n"
     ]
    },
    {
     "name": "stderr",
     "output_type": "stream",
     "text": [
      "\u001b[32m[I 2023-05-11 01:35:49,938]\u001b[0m Trial 57 finished with value: 0.8797610139460226 and parameters: {'n_estimators': 141, 'max_depth': 31, 'criterion': 'log_loss'}. Best is trial 55 with value: 0.8844659267974687.\u001b[0m\n"
     ]
    },
    {
     "name": "stdout",
     "output_type": "stream",
     "text": [
      "Overall accuracy: 0.880\n",
      "\n"
     ]
    },
    {
     "name": "stderr",
     "output_type": "stream",
     "text": [
      "\u001b[32m[I 2023-05-11 01:35:58,103]\u001b[0m Trial 58 finished with value: 0.8758004151619256 and parameters: {'n_estimators': 182, 'max_depth': 23, 'criterion': 'gini'}. Best is trial 55 with value: 0.8844659267974687.\u001b[0m\n"
     ]
    },
    {
     "name": "stdout",
     "output_type": "stream",
     "text": [
      "Overall accuracy: 0.876\n",
      "\n"
     ]
    },
    {
     "name": "stderr",
     "output_type": "stream",
     "text": [
      "\u001b[32m[I 2023-05-11 01:36:05,775]\u001b[0m Trial 59 finished with value: 0.8789637017043388 and parameters: {'n_estimators': 134, 'max_depth': 36, 'criterion': 'entropy'}. Best is trial 55 with value: 0.8844659267974687.\u001b[0m\n"
     ]
    },
    {
     "name": "stdout",
     "output_type": "stream",
     "text": [
      "Overall accuracy: 0.879\n",
      "\n"
     ]
    },
    {
     "name": "stderr",
     "output_type": "stream",
     "text": [
      "\u001b[32m[I 2023-05-11 01:36:14,299]\u001b[0m Trial 60 finished with value: 0.8789898270970904 and parameters: {'n_estimators': 192, 'max_depth': 26, 'criterion': 'gini'}. Best is trial 55 with value: 0.8844659267974687.\u001b[0m\n"
     ]
    },
    {
     "name": "stdout",
     "output_type": "stream",
     "text": [
      "Overall accuracy: 0.879\n",
      "\n"
     ]
    },
    {
     "name": "stderr",
     "output_type": "stream",
     "text": [
      "\u001b[32m[I 2023-05-11 01:36:23,661]\u001b[0m Trial 61 finished with value: 0.8812929990606045 and parameters: {'n_estimators': 216, 'max_depth': 20, 'criterion': 'gini'}. Best is trial 55 with value: 0.8844659267974687.\u001b[0m\n"
     ]
    },
    {
     "name": "stdout",
     "output_type": "stream",
     "text": [
      "Overall accuracy: 0.882\n",
      "\n"
     ]
    },
    {
     "name": "stderr",
     "output_type": "stream",
     "text": [
      "\u001b[32m[I 2023-05-11 01:36:34,641]\u001b[0m Trial 62 finished with value: 0.8766072044757544 and parameters: {'n_estimators': 253, 'max_depth': 11, 'criterion': 'gini'}. Best is trial 55 with value: 0.8844659267974687.\u001b[0m\n"
     ]
    },
    {
     "name": "stdout",
     "output_type": "stream",
     "text": [
      "Overall accuracy: 0.877\n",
      "\n"
     ]
    },
    {
     "name": "stderr",
     "output_type": "stream",
     "text": [
      "\u001b[32m[I 2023-05-11 01:36:38,305]\u001b[0m Trial 63 finished with value: 0.8781475236571845 and parameters: {'n_estimators': 81, 'max_depth': 23, 'criterion': 'gini'}. Best is trial 55 with value: 0.8844659267974687.\u001b[0m\n"
     ]
    },
    {
     "name": "stdout",
     "output_type": "stream",
     "text": [
      "Overall accuracy: 0.878\n",
      "\n"
     ]
    },
    {
     "name": "stderr",
     "output_type": "stream",
     "text": [
      "\u001b[32m[I 2023-05-11 01:36:45,553]\u001b[0m Trial 64 finished with value: 0.8801145784723532 and parameters: {'n_estimators': 162, 'max_depth': 29, 'criterion': 'gini'}. Best is trial 55 with value: 0.8844659267974687.\u001b[0m\n"
     ]
    },
    {
     "name": "stdout",
     "output_type": "stream",
     "text": [
      "Overall accuracy: 0.880\n",
      "\n"
     ]
    },
    {
     "name": "stderr",
     "output_type": "stream",
     "text": [
      "\u001b[32m[I 2023-05-11 01:37:02,879]\u001b[0m Trial 65 finished with value: 0.879379751295131 and parameters: {'n_estimators': 300, 'max_depth': 17, 'criterion': 'log_loss'}. Best is trial 55 with value: 0.8844659267974687.\u001b[0m\n"
     ]
    },
    {
     "name": "stdout",
     "output_type": "stream",
     "text": [
      "Overall accuracy: 0.880\n",
      "\n"
     ]
    },
    {
     "name": "stderr",
     "output_type": "stream",
     "text": [
      "\u001b[32m[I 2023-05-11 01:37:08,577]\u001b[0m Trial 66 finished with value: 0.8777764059854538 and parameters: {'n_estimators': 124, 'max_depth': 32, 'criterion': 'gini'}. Best is trial 55 with value: 0.8844659267974687.\u001b[0m\n"
     ]
    },
    {
     "name": "stdout",
     "output_type": "stream",
     "text": [
      "Overall accuracy: 0.878\n",
      "\n"
     ]
    },
    {
     "name": "stderr",
     "output_type": "stream",
     "text": [
      "\u001b[32m[I 2023-05-11 01:37:13,213]\u001b[0m Trial 67 finished with value: 0.8805829501093275 and parameters: {'n_estimators': 105, 'max_depth': 25, 'criterion': 'gini'}. Best is trial 55 with value: 0.8844659267974687.\u001b[0m\n"
     ]
    },
    {
     "name": "stdout",
     "output_type": "stream",
     "text": [
      "Overall accuracy: 0.881\n",
      "\n"
     ]
    },
    {
     "name": "stderr",
     "output_type": "stream",
     "text": [
      "\u001b[32m[I 2023-05-11 01:37:20,771]\u001b[0m Trial 68 finished with value: 0.8707677466193742 and parameters: {'n_estimators': 147, 'max_depth': 8, 'criterion': 'entropy'}. Best is trial 55 with value: 0.8844659267974687.\u001b[0m\n"
     ]
    },
    {
     "name": "stdout",
     "output_type": "stream",
     "text": [
      "Overall accuracy: 0.871\n",
      "\n"
     ]
    },
    {
     "name": "stderr",
     "output_type": "stream",
     "text": [
      "\u001b[32m[I 2023-05-11 01:37:31,901]\u001b[0m Trial 69 finished with value: 0.883304796645078 and parameters: {'n_estimators': 201, 'max_depth': 22, 'criterion': 'log_loss'}. Best is trial 55 with value: 0.8844659267974687.\u001b[0m\n"
     ]
    },
    {
     "name": "stdout",
     "output_type": "stream",
     "text": [
      "Overall accuracy: 0.884\n",
      "\n"
     ]
    },
    {
     "name": "stderr",
     "output_type": "stream",
     "text": [
      "\u001b[32m[I 2023-05-11 01:37:41,614]\u001b[0m Trial 70 finished with value: 0.8817448542109128 and parameters: {'n_estimators': 174, 'max_depth': 21, 'criterion': 'log_loss'}. Best is trial 55 with value: 0.8844659267974687.\u001b[0m\n"
     ]
    },
    {
     "name": "stdout",
     "output_type": "stream",
     "text": [
      "Overall accuracy: 0.882\n",
      "\n"
     ]
    },
    {
     "name": "stderr",
     "output_type": "stream",
     "text": [
      "\u001b[32m[I 2023-05-11 01:37:53,012]\u001b[0m Trial 71 finished with value: 0.881761282448202 and parameters: {'n_estimators': 203, 'max_depth': 20, 'criterion': 'log_loss'}. Best is trial 55 with value: 0.8844659267974687.\u001b[0m\n"
     ]
    },
    {
     "name": "stdout",
     "output_type": "stream",
     "text": [
      "Overall accuracy: 0.882\n",
      "\n"
     ]
    },
    {
     "name": "stderr",
     "output_type": "stream",
     "text": [
      "\u001b[32m[I 2023-05-11 01:38:03,385]\u001b[0m Trial 72 finished with value: 0.8805748031264095 and parameters: {'n_estimators': 187, 'max_depth': 16, 'criterion': 'log_loss'}. Best is trial 55 with value: 0.8844659267974687.\u001b[0m\n"
     ]
    },
    {
     "name": "stdout",
     "output_type": "stream",
     "text": [
      "Overall accuracy: 0.881\n",
      "\n"
     ]
    },
    {
     "name": "stderr",
     "output_type": "stream",
     "text": [
      "\u001b[32m[I 2023-05-11 01:38:16,683]\u001b[0m Trial 73 finished with value: 0.8809393533338297 and parameters: {'n_estimators': 242, 'max_depth': 28, 'criterion': 'log_loss'}. Best is trial 55 with value: 0.8844659267974687.\u001b[0m\n"
     ]
    },
    {
     "name": "stdout",
     "output_type": "stream",
     "text": [
      "Overall accuracy: 0.881\n",
      "\n"
     ]
    },
    {
     "name": "stderr",
     "output_type": "stream",
     "text": [
      "\u001b[32m[I 2023-05-11 01:38:27,824]\u001b[0m Trial 74 finished with value: 0.8789546903324166 and parameters: {'n_estimators': 203, 'max_depth': 23, 'criterion': 'log_loss'}. Best is trial 55 with value: 0.8844659267974687.\u001b[0m\n"
     ]
    },
    {
     "name": "stdout",
     "output_type": "stream",
     "text": [
      "Overall accuracy: 0.879\n",
      "\n"
     ]
    },
    {
     "name": "stderr",
     "output_type": "stream",
     "text": [
      "\u001b[32m[I 2023-05-11 01:38:38,474]\u001b[0m Trial 75 finished with value: 0.878608249980154 and parameters: {'n_estimators': 235, 'max_depth': 13, 'criterion': 'gini'}. Best is trial 55 with value: 0.8844659267974687.\u001b[0m\n"
     ]
    },
    {
     "name": "stdout",
     "output_type": "stream",
     "text": [
      "Overall accuracy: 0.879\n",
      "\n"
     ]
    },
    {
     "name": "stderr",
     "output_type": "stream",
     "text": [
      "\u001b[32m[I 2023-05-11 01:38:50,952]\u001b[0m Trial 76 finished with value: 0.882134852561177 and parameters: {'n_estimators': 284, 'max_depth': 34, 'criterion': 'gini'}. Best is trial 55 with value: 0.8844659267974687.\u001b[0m\n"
     ]
    },
    {
     "name": "stdout",
     "output_type": "stream",
     "text": [
      "Overall accuracy: 0.882\n",
      "\n"
     ]
    },
    {
     "name": "stderr",
     "output_type": "stream",
     "text": [
      "\u001b[32m[I 2023-05-11 01:39:05,362]\u001b[0m Trial 77 finished with value: 0.8833215894881007 and parameters: {'n_estimators': 260, 'max_depth': 18, 'criterion': 'log_loss'}. Best is trial 55 with value: 0.8844659267974687.\u001b[0m\n"
     ]
    },
    {
     "name": "stdout",
     "output_type": "stream",
     "text": [
      "Overall accuracy: 0.884\n",
      "\n"
     ]
    },
    {
     "name": "stderr",
     "output_type": "stream",
     "text": [
      "\u001b[32m[I 2023-05-11 01:39:17,446]\u001b[0m Trial 78 finished with value: 0.881736418297637 and parameters: {'n_estimators': 218, 'max_depth': 18, 'criterion': 'log_loss'}. Best is trial 55 with value: 0.8844659267974687.\u001b[0m\n"
     ]
    },
    {
     "name": "stdout",
     "output_type": "stream",
     "text": [
      "Overall accuracy: 0.882\n",
      "\n"
     ]
    },
    {
     "name": "stderr",
     "output_type": "stream",
     "text": [
      "\u001b[32m[I 2023-05-11 01:39:20,213]\u001b[0m Trial 79 finished with value: 0.8745736139660976 and parameters: {'n_estimators': 48, 'max_depth': 24, 'criterion': 'log_loss'}. Best is trial 55 with value: 0.8844659267974687.\u001b[0m\n"
     ]
    },
    {
     "name": "stdout",
     "output_type": "stream",
     "text": [
      "Overall accuracy: 0.875\n",
      "\n"
     ]
    },
    {
     "name": "stderr",
     "output_type": "stream",
     "text": [
      "\u001b[32m[I 2023-05-11 01:39:34,434]\u001b[0m Trial 80 finished with value: 0.879396508097166 and parameters: {'n_estimators': 259, 'max_depth': 26, 'criterion': 'log_loss'}. Best is trial 55 with value: 0.8844659267974687.\u001b[0m\n"
     ]
    },
    {
     "name": "stdout",
     "output_type": "stream",
     "text": [
      "Overall accuracy: 0.880\n",
      "\n"
     ]
    },
    {
     "name": "stderr",
     "output_type": "stream",
     "text": [
      "\u001b[32m[I 2023-05-11 01:39:49,128]\u001b[0m Trial 81 finished with value: 0.8789812700210078 and parameters: {'n_estimators': 268, 'max_depth': 21, 'criterion': 'log_loss'}. Best is trial 55 with value: 0.8844659267974687.\u001b[0m\n"
     ]
    },
    {
     "name": "stdout",
     "output_type": "stream",
     "text": [
      "Overall accuracy: 0.879\n",
      "\n"
     ]
    },
    {
     "name": "stderr",
     "output_type": "stream",
     "text": [
      "\u001b[32m[I 2023-05-11 01:40:04,496]\u001b[0m Trial 82 finished with value: 0.8817278344375792 and parameters: {'n_estimators': 277, 'max_depth': 15, 'criterion': 'log_loss'}. Best is trial 55 with value: 0.8844659267974687.\u001b[0m\n"
     ]
    },
    {
     "name": "stdout",
     "output_type": "stream",
     "text": [
      "Overall accuracy: 0.882\n",
      "\n"
     ]
    },
    {
     "name": "stderr",
     "output_type": "stream",
     "text": [
      "\u001b[32m[I 2023-05-11 01:40:15,102]\u001b[0m Trial 83 finished with value: 0.8782182560520864 and parameters: {'n_estimators': 248, 'max_depth': 11, 'criterion': 'gini'}. Best is trial 55 with value: 0.8844659267974687.\u001b[0m\n"
     ]
    },
    {
     "name": "stdout",
     "output_type": "stream",
     "text": [
      "Overall accuracy: 0.878\n",
      "\n"
     ]
    },
    {
     "name": "stderr",
     "output_type": "stream",
     "text": [
      "\u001b[32m[I 2023-05-11 01:40:22,811]\u001b[0m Trial 84 finished with value: 0.8773588344899171 and parameters: {'n_estimators': 168, 'max_depth': 18, 'criterion': 'gini'}. Best is trial 55 with value: 0.8844659267974687.\u001b[0m\n"
     ]
    },
    {
     "name": "stdout",
     "output_type": "stream",
     "text": [
      "Overall accuracy: 0.878\n",
      "\n"
     ]
    },
    {
     "name": "stderr",
     "output_type": "stream",
     "text": [
      "\u001b[32m[I 2023-05-11 01:40:35,361]\u001b[0m Trial 85 finished with value: 0.8837032757838579 and parameters: {'n_estimators': 227, 'max_depth': 63, 'criterion': 'log_loss'}. Best is trial 55 with value: 0.8844659267974687.\u001b[0m\n"
     ]
    },
    {
     "name": "stdout",
     "output_type": "stream",
     "text": [
      "Overall accuracy: 0.884\n",
      "\n"
     ]
    },
    {
     "name": "stderr",
     "output_type": "stream",
     "text": [
      "\u001b[32m[I 2023-05-11 01:40:47,947]\u001b[0m Trial 86 finished with value: 0.8813379186811567 and parameters: {'n_estimators': 230, 'max_depth': 39, 'criterion': 'log_loss'}. Best is trial 55 with value: 0.8844659267974687.\u001b[0m\n"
     ]
    },
    {
     "name": "stdout",
     "output_type": "stream",
     "text": [
      "Overall accuracy: 0.882\n",
      "\n"
     ]
    },
    {
     "name": "stderr",
     "output_type": "stream",
     "text": [
      "\u001b[32m[I 2023-05-11 01:41:00,229]\u001b[0m Trial 87 finished with value: 0.8789898270970904 and parameters: {'n_estimators': 224, 'max_depth': 59, 'criterion': 'log_loss'}. Best is trial 55 with value: 0.8844659267974687.\u001b[0m\n"
     ]
    },
    {
     "name": "stdout",
     "output_type": "stream",
     "text": [
      "Overall accuracy: 0.879\n",
      "\n"
     ]
    },
    {
     "name": "stderr",
     "output_type": "stream",
     "text": [
      "\u001b[32m[I 2023-05-11 01:41:08,769]\u001b[0m Trial 88 finished with value: 0.8774695391154599 and parameters: {'n_estimators': 152, 'max_depth': 51, 'criterion': 'log_loss'}. Best is trial 55 with value: 0.8844659267974687.\u001b[0m\n"
     ]
    },
    {
     "name": "stdout",
     "output_type": "stream",
     "text": [
      "Overall accuracy: 0.878\n",
      "\n"
     ]
    },
    {
     "name": "stderr",
     "output_type": "stream",
     "text": [
      "\u001b[32m[I 2023-05-11 01:41:21,930]\u001b[0m Trial 89 finished with value: 0.8793623911263306 and parameters: {'n_estimators': 240, 'max_depth': 62, 'criterion': 'log_loss'}. Best is trial 55 with value: 0.8844659267974687.\u001b[0m\n"
     ]
    },
    {
     "name": "stdout",
     "output_type": "stream",
     "text": [
      "Overall accuracy: 0.880\n",
      "\n"
     ]
    },
    {
     "name": "stderr",
     "output_type": "stream",
     "text": [
      "\u001b[32m[I 2023-05-11 01:41:33,963]\u001b[0m Trial 90 finished with value: 0.8813379186811567 and parameters: {'n_estimators': 217, 'max_depth': 46, 'criterion': 'log_loss'}. Best is trial 55 with value: 0.8844659267974687.\u001b[0m\n"
     ]
    },
    {
     "name": "stdout",
     "output_type": "stream",
     "text": [
      "Overall accuracy: 0.882\n",
      "\n"
     ]
    },
    {
     "name": "stderr",
     "output_type": "stream",
     "text": [
      "\u001b[32m[I 2023-05-11 01:41:47,232]\u001b[0m Trial 91 finished with value: 0.8797696656560502 and parameters: {'n_estimators': 292, 'max_depth': 20, 'criterion': 'gini'}. Best is trial 55 with value: 0.8844659267974687.\u001b[0m\n"
     ]
    },
    {
     "name": "stdout",
     "output_type": "stream",
     "text": [
      "Overall accuracy: 0.880\n",
      "\n"
     ]
    },
    {
     "name": "stderr",
     "output_type": "stream",
     "text": [
      "\u001b[32m[I 2023-05-11 01:42:01,468]\u001b[0m Trial 92 finished with value: 0.8809479944196215 and parameters: {'n_estimators': 257, 'max_depth': 22, 'criterion': 'entropy'}. Best is trial 55 with value: 0.8844659267974687.\u001b[0m\n"
     ]
    },
    {
     "name": "stdout",
     "output_type": "stream",
     "text": [
      "Overall accuracy: 0.881\n",
      "\n"
     ]
    },
    {
     "name": "stderr",
     "output_type": "stream",
     "text": [
      "\u001b[32m[I 2023-05-11 01:42:07,261]\u001b[0m Trial 93 finished with value: 0.8758276874808386 and parameters: {'n_estimators': 131, 'max_depth': 25, 'criterion': 'gini'}. Best is trial 55 with value: 0.8844659267974687.\u001b[0m\n"
     ]
    },
    {
     "name": "stdout",
     "output_type": "stream",
     "text": [
      "Overall accuracy: 0.876\n",
      "\n"
     ]
    },
    {
     "name": "stderr",
     "output_type": "stream",
     "text": [
      "\u001b[32m[I 2023-05-11 01:42:16,469]\u001b[0m Trial 94 finished with value: 0.8809648298553934 and parameters: {'n_estimators': 208, 'max_depth': 19, 'criterion': 'gini'}. Best is trial 55 with value: 0.8844659267974687.\u001b[0m\n"
     ]
    },
    {
     "name": "stdout",
     "output_type": "stream",
     "text": [
      "Overall accuracy: 0.881\n",
      "\n"
     ]
    },
    {
     "name": "stderr",
     "output_type": "stream",
     "text": [
      "\u001b[32m[I 2023-05-11 01:42:27,278]\u001b[0m Trial 95 finished with value: 0.8769786315240861 and parameters: {'n_estimators': 245, 'max_depth': 53, 'criterion': 'gini'}. Best is trial 55 with value: 0.8844659267974687.\u001b[0m\n"
     ]
    },
    {
     "name": "stdout",
     "output_type": "stream",
     "text": [
      "Overall accuracy: 0.877\n",
      "\n"
     ]
    },
    {
     "name": "stderr",
     "output_type": "stream",
     "text": [
      "\u001b[32m[I 2023-05-11 01:42:42,238]\u001b[0m Trial 96 finished with value: 0.8820909694935216 and parameters: {'n_estimators': 274, 'max_depth': 16, 'criterion': 'log_loss'}. Best is trial 55 with value: 0.8844659267974687.\u001b[0m\n"
     ]
    },
    {
     "name": "stdout",
     "output_type": "stream",
     "text": [
      "Overall accuracy: 0.882\n",
      "\n"
     ]
    },
    {
     "name": "stderr",
     "output_type": "stream",
     "text": [
      "\u001b[32m[I 2023-05-11 01:42:53,759]\u001b[0m Trial 97 finished with value: 0.8778030160179432 and parameters: {'n_estimators': 263, 'max_depth': 28, 'criterion': 'gini'}. Best is trial 55 with value: 0.8844659267974687.\u001b[0m\n"
     ]
    },
    {
     "name": "stdout",
     "output_type": "stream",
     "text": [
      "Overall accuracy: 0.878\n",
      "\n"
     ]
    },
    {
     "name": "stderr",
     "output_type": "stream",
     "text": [
      "\u001b[32m[I 2023-05-11 01:43:02,521]\u001b[0m Trial 98 finished with value: 0.8750302997406203 and parameters: {'n_estimators': 197, 'max_depth': 14, 'criterion': 'gini'}. Best is trial 55 with value: 0.8844659267974687.\u001b[0m\n"
     ]
    },
    {
     "name": "stdout",
     "output_type": "stream",
     "text": [
      "Overall accuracy: 0.875\n",
      "\n"
     ]
    },
    {
     "name": "stderr",
     "output_type": "stream",
     "text": [
      "\u001b[32m[I 2023-05-11 01:43:12,421]\u001b[0m Trial 99 finished with value: 0.8832602577349977 and parameters: {'n_estimators': 178, 'max_depth': 23, 'criterion': 'log_loss'}. Best is trial 55 with value: 0.8844659267974687.\u001b[0m\n"
     ]
    },
    {
     "name": "stdout",
     "output_type": "stream",
     "text": [
      "Overall accuracy: 0.884\n",
      "\n",
      "Accuracy: 0.8844659267974687\n",
      "Best hyperparameters: {'n_estimators': 164, 'max_depth': 24, 'criterion': 'gini'}\n"
     ]
    },
    {
     "name": "stderr",
     "output_type": "stream",
     "text": [
      "\u001b[32m[I 2023-05-11 01:43:14,339]\u001b[0m A new study created in memory with name: no-name-cbbfd226-487e-4597-9fa3-620558f48680\u001b[0m\n"
     ]
    },
    {
     "name": "stdout",
     "output_type": "stream",
     "text": [
      "\n",
      "\n",
      "\n",
      "Model :- SVC, DataType :- APAAC\n"
     ]
    },
    {
     "name": "stderr",
     "output_type": "stream",
     "text": [
      "\u001b[32m[I 2023-05-11 01:43:17,214]\u001b[0m Trial 0 finished with value: 0.8886550706052518 and parameters: {'C': 44.389999083589245}. Best is trial 0 with value: 0.8886550706052518.\u001b[0m\n"
     ]
    },
    {
     "name": "stdout",
     "output_type": "stream",
     "text": [
      "Overall accuracy: 0.889\n",
      "\n"
     ]
    },
    {
     "name": "stderr",
     "output_type": "stream",
     "text": [
      "\u001b[32m[I 2023-05-11 01:43:24,174]\u001b[0m Trial 1 finished with value: 0.3416213416213416 and parameters: {'C': 6.649105881655806e-07}. Best is trial 0 with value: 0.8886550706052518.\u001b[0m\n"
     ]
    },
    {
     "name": "stdout",
     "output_type": "stream",
     "text": [
      "Overall accuracy: 0.519\n",
      "\n"
     ]
    },
    {
     "name": "stderr",
     "output_type": "stream",
     "text": [
      "\u001b[32m[I 2023-05-11 01:43:28,475]\u001b[0m Trial 2 finished with value: 0.8498923959827833 and parameters: {'C': 0.35137407668866166}. Best is trial 0 with value: 0.8886550706052518.\u001b[0m\n"
     ]
    },
    {
     "name": "stdout",
     "output_type": "stream",
     "text": [
      "Overall accuracy: 0.851\n",
      "\n"
     ]
    },
    {
     "name": "stderr",
     "output_type": "stream",
     "text": [
      "\u001b[32m[I 2023-05-11 01:43:42,254]\u001b[0m Trial 3 finished with value: 0.8484513676881968 and parameters: {'C': 23203.31808019659}. Best is trial 0 with value: 0.8886550706052518.\u001b[0m\n"
     ]
    },
    {
     "name": "stdout",
     "output_type": "stream",
     "text": [
      "Overall accuracy: 0.849\n",
      "\n"
     ]
    },
    {
     "name": "stderr",
     "output_type": "stream",
     "text": [
      "\u001b[32m[I 2023-05-11 01:43:48,887]\u001b[0m Trial 4 finished with value: 0.3416213416213416 and parameters: {'C': 9.609918125912703e-08}. Best is trial 0 with value: 0.8886550706052518.\u001b[0m\n"
     ]
    },
    {
     "name": "stdout",
     "output_type": "stream",
     "text": [
      "Overall accuracy: 0.519\n",
      "\n"
     ]
    },
    {
     "name": "stderr",
     "output_type": "stream",
     "text": [
      "\u001b[32m[I 2023-05-11 01:43:55,501]\u001b[0m Trial 5 finished with value: 0.7191441547181976 and parameters: {'C': 0.020857623798989266}. Best is trial 0 with value: 0.8886550706052518.\u001b[0m\n"
     ]
    },
    {
     "name": "stdout",
     "output_type": "stream",
     "text": [
      "Overall accuracy: 0.722\n",
      "\n"
     ]
    },
    {
     "name": "stderr",
     "output_type": "stream",
     "text": [
      "\u001b[32m[I 2023-05-11 01:43:59,622]\u001b[0m Trial 6 finished with value: 0.8813869232656909 and parameters: {'C': 324.53781298915516}. Best is trial 0 with value: 0.8886550706052518.\u001b[0m\n"
     ]
    },
    {
     "name": "stdout",
     "output_type": "stream",
     "text": [
      "Overall accuracy: 0.882\n",
      "\n"
     ]
    },
    {
     "name": "stderr",
     "output_type": "stream",
     "text": [
      "\u001b[32m[I 2023-05-11 01:44:02,380]\u001b[0m Trial 7 finished with value: 0.8925503988582205 and parameters: {'C': 11.191970664248721}. Best is trial 7 with value: 0.8925503988582205.\u001b[0m\n"
     ]
    },
    {
     "name": "stdout",
     "output_type": "stream",
     "text": [
      "Overall accuracy: 0.893\n",
      "\n"
     ]
    },
    {
     "name": "stderr",
     "output_type": "stream",
     "text": [
      "\u001b[32m[I 2023-05-11 01:44:09,077]\u001b[0m Trial 8 finished with value: 0.3416213416213416 and parameters: {'C': 7.45086844004466e-10}. Best is trial 7 with value: 0.8925503988582205.\u001b[0m\n"
     ]
    },
    {
     "name": "stdout",
     "output_type": "stream",
     "text": [
      "Overall accuracy: 0.519\n",
      "\n"
     ]
    },
    {
     "name": "stderr",
     "output_type": "stream",
     "text": [
      "\u001b[32m[I 2023-05-11 01:44:20,154]\u001b[0m Trial 9 finished with value: 0.85076065874136 and parameters: {'C': 4507.016015288129}. Best is trial 7 with value: 0.8925503988582205.\u001b[0m\n"
     ]
    },
    {
     "name": "stdout",
     "output_type": "stream",
     "text": [
      "Overall accuracy: 0.851\n",
      "\n"
     ]
    },
    {
     "name": "stderr",
     "output_type": "stream",
     "text": [
      "\u001b[32m[I 2023-05-11 01:44:34,158]\u001b[0m Trial 10 finished with value: 0.8460834692597288 and parameters: {'C': 34528953.07073932}. Best is trial 7 with value: 0.8925503988582205.\u001b[0m\n"
     ]
    },
    {
     "name": "stdout",
     "output_type": "stream",
     "text": [
      "Overall accuracy: 0.846\n",
      "\n"
     ]
    },
    {
     "name": "stderr",
     "output_type": "stream",
     "text": [
      "\u001b[32m[I 2023-05-11 01:44:40,479]\u001b[0m Trial 11 finished with value: 0.7315176915714542 and parameters: {'C': 0.02971033390091594}. Best is trial 7 with value: 0.8925503988582205.\u001b[0m\n"
     ]
    },
    {
     "name": "stdout",
     "output_type": "stream",
     "text": [
      "Overall accuracy: 0.733\n",
      "\n"
     ]
    },
    {
     "name": "stderr",
     "output_type": "stream",
     "text": [
      "\u001b[32m[I 2023-05-11 01:44:54,480]\u001b[0m Trial 12 finished with value: 0.8460834692597288 and parameters: {'C': 8992920913.791613}. Best is trial 7 with value: 0.8925503988582205.\u001b[0m\n"
     ]
    },
    {
     "name": "stdout",
     "output_type": "stream",
     "text": [
      "Overall accuracy: 0.846\n",
      "\n"
     ]
    },
    {
     "name": "stderr",
     "output_type": "stream",
     "text": [
      "\u001b[32m[I 2023-05-11 01:44:57,403]\u001b[0m Trial 13 finished with value: 0.8894447509555692 and parameters: {'C': 32.08736617754457}. Best is trial 7 with value: 0.8925503988582205.\u001b[0m\n"
     ]
    },
    {
     "name": "stdout",
     "output_type": "stream",
     "text": [
      "Overall accuracy: 0.890\n",
      "\n"
     ]
    },
    {
     "name": "stderr",
     "output_type": "stream",
     "text": [
      "\u001b[32m[I 2023-05-11 01:45:04,326]\u001b[0m Trial 14 finished with value: 0.3416213416213416 and parameters: {'C': 9.641566131417904e-05}. Best is trial 7 with value: 0.8925503988582205.\u001b[0m\n"
     ]
    },
    {
     "name": "stdout",
     "output_type": "stream",
     "text": [
      "Overall accuracy: 0.519\n",
      "\n"
     ]
    },
    {
     "name": "stderr",
     "output_type": "stream",
     "text": [
      "\u001b[32m[I 2023-05-11 01:45:07,324]\u001b[0m Trial 15 finished with value: 0.8924939298650639 and parameters: {'C': 5.1714318045278445}. Best is trial 7 with value: 0.8925503988582205.\u001b[0m\n"
     ]
    },
    {
     "name": "stdout",
     "output_type": "stream",
     "text": [
      "Overall accuracy: 0.893\n",
      "\n"
     ]
    },
    {
     "name": "stderr",
     "output_type": "stream",
     "text": [
      "\u001b[32m[I 2023-05-11 01:45:21,406]\u001b[0m Trial 16 finished with value: 0.8460834692597288 and parameters: {'C': 383842.05589742126}. Best is trial 7 with value: 0.8925503988582205.\u001b[0m\n"
     ]
    },
    {
     "name": "stdout",
     "output_type": "stream",
     "text": [
      "Overall accuracy: 0.846\n",
      "\n"
     ]
    },
    {
     "name": "stderr",
     "output_type": "stream",
     "text": [
      "\u001b[32m[I 2023-05-11 01:45:25,128]\u001b[0m Trial 17 finished with value: 0.8736867651473058 and parameters: {'C': 1.1896150734793771}. Best is trial 7 with value: 0.8925503988582205.\u001b[0m\n"
     ]
    },
    {
     "name": "stdout",
     "output_type": "stream",
     "text": [
      "Overall accuracy: 0.875\n",
      "\n"
     ]
    },
    {
     "name": "stderr",
     "output_type": "stream",
     "text": [
      "\u001b[32m[I 2023-05-11 01:45:31,847]\u001b[0m Trial 18 finished with value: 0.3416213416213416 and parameters: {'C': 0.0044210060697864925}. Best is trial 7 with value: 0.8925503988582205.\u001b[0m\n"
     ]
    },
    {
     "name": "stdout",
     "output_type": "stream",
     "text": [
      "Overall accuracy: 0.519\n",
      "\n"
     ]
    },
    {
     "name": "stderr",
     "output_type": "stream",
     "text": [
      "\u001b[32m[I 2023-05-11 01:45:34,692]\u001b[0m Trial 19 finished with value: 0.8905696274433957 and parameters: {'C': 14.27423717881163}. Best is trial 7 with value: 0.8925503988582205.\u001b[0m\n"
     ]
    },
    {
     "name": "stdout",
     "output_type": "stream",
     "text": [
      "Overall accuracy: 0.891\n",
      "\n"
     ]
    },
    {
     "name": "stderr",
     "output_type": "stream",
     "text": [
      "\u001b[32m[I 2023-05-11 01:45:41,451]\u001b[0m Trial 20 finished with value: 0.3416213416213416 and parameters: {'C': 4.278591358226691e-05}. Best is trial 7 with value: 0.8925503988582205.\u001b[0m\n"
     ]
    },
    {
     "name": "stdout",
     "output_type": "stream",
     "text": [
      "Overall accuracy: 0.519\n",
      "\n"
     ]
    },
    {
     "name": "stderr",
     "output_type": "stream",
     "text": [
      "\u001b[32m[I 2023-05-11 01:45:44,757]\u001b[0m Trial 21 finished with value: 0.8845247940698591 and parameters: {'C': 2.2845441849692136}. Best is trial 7 with value: 0.8925503988582205.\u001b[0m\n"
     ]
    },
    {
     "name": "stdout",
     "output_type": "stream",
     "text": [
      "Overall accuracy: 0.885\n",
      "\n"
     ]
    },
    {
     "name": "stderr",
     "output_type": "stream",
     "text": [
      "\u001b[32m[I 2023-05-11 01:45:47,626]\u001b[0m Trial 22 finished with value: 0.8863180255471392 and parameters: {'C': 68.19496905600805}. Best is trial 7 with value: 0.8925503988582205.\u001b[0m\n"
     ]
    },
    {
     "name": "stdout",
     "output_type": "stream",
     "text": [
      "Overall accuracy: 0.887\n",
      "\n"
     ]
    },
    {
     "name": "stderr",
     "output_type": "stream",
     "text": [
      "\u001b[32m[I 2023-05-11 01:45:53,573]\u001b[0m Trial 23 finished with value: 0.8702995855352178 and parameters: {'C': 796.1209708337893}. Best is trial 7 with value: 0.8925503988582205.\u001b[0m\n"
     ]
    },
    {
     "name": "stdout",
     "output_type": "stream",
     "text": [
      "Overall accuracy: 0.871\n",
      "\n"
     ]
    },
    {
     "name": "stderr",
     "output_type": "stream",
     "text": [
      "\u001b[32m[I 2023-05-11 01:46:07,545]\u001b[0m Trial 24 finished with value: 0.8460834692597288 and parameters: {'C': 82022.98439521238}. Best is trial 7 with value: 0.8925503988582205.\u001b[0m\n"
     ]
    },
    {
     "name": "stdout",
     "output_type": "stream",
     "text": [
      "Overall accuracy: 0.846\n",
      "\n"
     ]
    },
    {
     "name": "stderr",
     "output_type": "stream",
     "text": [
      "\u001b[32m[I 2023-05-11 01:46:11,849]\u001b[0m Trial 25 finished with value: 0.8478715539934838 and parameters: {'C': 0.3306565123404341}. Best is trial 7 with value: 0.8925503988582205.\u001b[0m\n"
     ]
    },
    {
     "name": "stdout",
     "output_type": "stream",
     "text": [
      "Overall accuracy: 0.849\n",
      "\n"
     ]
    },
    {
     "name": "stderr",
     "output_type": "stream",
     "text": [
      "\u001b[32m[I 2023-05-11 01:46:14,733]\u001b[0m Trial 26 finished with value: 0.8913597384365841 and parameters: {'C': 13.000063518291533}. Best is trial 7 with value: 0.8925503988582205.\u001b[0m\n"
     ]
    },
    {
     "name": "stdout",
     "output_type": "stream",
     "text": [
      "Overall accuracy: 0.892\n",
      "\n"
     ]
    },
    {
     "name": "stderr",
     "output_type": "stream",
     "text": [
      "\u001b[32m[I 2023-05-11 01:46:20,245]\u001b[0m Trial 27 finished with value: 0.8730637556394638 and parameters: {'C': 698.3690206547855}. Best is trial 7 with value: 0.8925503988582205.\u001b[0m\n"
     ]
    },
    {
     "name": "stdout",
     "output_type": "stream",
     "text": [
      "Overall accuracy: 0.873\n",
      "\n"
     ]
    },
    {
     "name": "stderr",
     "output_type": "stream",
     "text": [
      "\u001b[32m[I 2023-05-11 01:46:27,332]\u001b[0m Trial 28 finished with value: 0.3416213416213416 and parameters: {'C': 0.002394968542775629}. Best is trial 7 with value: 0.8925503988582205.\u001b[0m\n"
     ]
    },
    {
     "name": "stdout",
     "output_type": "stream",
     "text": [
      "Overall accuracy: 0.519\n",
      "\n"
     ]
    },
    {
     "name": "stderr",
     "output_type": "stream",
     "text": [
      "\u001b[32m[I 2023-05-11 01:46:30,198]\u001b[0m Trial 29 finished with value: 0.8913708131610619 and parameters: {'C': 19.186973026357823}. Best is trial 7 with value: 0.8925503988582205.\u001b[0m\n"
     ]
    },
    {
     "name": "stdout",
     "output_type": "stream",
     "text": [
      "Overall accuracy: 0.892\n",
      "\n"
     ]
    },
    {
     "name": "stderr",
     "output_type": "stream",
     "text": [
      "\u001b[32m[I 2023-05-11 01:46:34,979]\u001b[0m Trial 30 finished with value: 0.8334119744154346 and parameters: {'C': 0.18850568397361475}. Best is trial 7 with value: 0.8925503988582205.\u001b[0m\n"
     ]
    },
    {
     "name": "stdout",
     "output_type": "stream",
     "text": [
      "Overall accuracy: 0.835\n",
      "\n"
     ]
    },
    {
     "name": "stderr",
     "output_type": "stream",
     "text": [
      "\u001b[32m[I 2023-05-11 01:46:38,127]\u001b[0m Trial 31 finished with value: 0.8940633713939878 and parameters: {'C': 4.3555206670439555}. Best is trial 31 with value: 0.8940633713939878.\u001b[0m\n"
     ]
    },
    {
     "name": "stdout",
     "output_type": "stream",
     "text": [
      "Overall accuracy: 0.895\n",
      "\n"
     ]
    },
    {
     "name": "stderr",
     "output_type": "stream",
     "text": [
      "\u001b[32m[I 2023-05-11 01:46:41,340]\u001b[0m Trial 32 finished with value: 0.893272799538719 and parameters: {'C': 4.192096126222642}. Best is trial 31 with value: 0.8940633713939878.\u001b[0m\n"
     ]
    },
    {
     "name": "stdout",
     "output_type": "stream",
     "text": [
      "Overall accuracy: 0.894\n",
      "\n"
     ]
    },
    {
     "name": "stderr",
     "output_type": "stream",
     "text": [
      "\u001b[32m[I 2023-05-11 01:46:44,552]\u001b[0m Trial 33 finished with value: 0.8849398577042195 and parameters: {'C': 2.371854832526363}. Best is trial 31 with value: 0.8940633713939878.\u001b[0m\n"
     ]
    },
    {
     "name": "stdout",
     "output_type": "stream",
     "text": [
      "Overall accuracy: 0.886\n",
      "\n"
     ]
    },
    {
     "name": "stderr",
     "output_type": "stream",
     "text": [
      "\u001b[32m[I 2023-05-11 01:46:48,211]\u001b[0m Trial 34 finished with value: 0.8793882050852662 and parameters: {'C': 210.53993555443662}. Best is trial 31 with value: 0.8940633713939878.\u001b[0m\n"
     ]
    },
    {
     "name": "stdout",
     "output_type": "stream",
     "text": [
      "Overall accuracy: 0.880\n",
      "\n"
     ]
    },
    {
     "name": "stderr",
     "output_type": "stream",
     "text": [
      "\u001b[32m[I 2023-05-11 01:46:53,074]\u001b[0m Trial 35 finished with value: 0.8311274265182893 and parameters: {'C': 0.17393402369431418}. Best is trial 31 with value: 0.8940633713939878.\u001b[0m\n"
     ]
    },
    {
     "name": "stdout",
     "output_type": "stream",
     "text": [
      "Overall accuracy: 0.832\n",
      "\n"
     ]
    },
    {
     "name": "stderr",
     "output_type": "stream",
     "text": [
      "\u001b[32m[I 2023-05-11 01:47:03,412]\u001b[0m Trial 36 finished with value: 0.8511277943866852 and parameters: {'C': 3610.425670187676}. Best is trial 31 with value: 0.8940633713939878.\u001b[0m\n"
     ]
    },
    {
     "name": "stdout",
     "output_type": "stream",
     "text": [
      "Overall accuracy: 0.851\n",
      "\n"
     ]
    },
    {
     "name": "stderr",
     "output_type": "stream",
     "text": [
      "\u001b[32m[I 2023-05-11 01:47:06,803]\u001b[0m Trial 37 finished with value: 0.8861324386051249 and parameters: {'C': 2.481347538666646}. Best is trial 31 with value: 0.8940633713939878.\u001b[0m\n"
     ]
    },
    {
     "name": "stdout",
     "output_type": "stream",
     "text": [
      "Overall accuracy: 0.887\n",
      "\n"
     ]
    },
    {
     "name": "stderr",
     "output_type": "stream",
     "text": [
      "\u001b[32m[I 2023-05-11 01:47:13,205]\u001b[0m Trial 38 finished with value: 0.7304006433351613 and parameters: {'C': 0.027967041712339966}. Best is trial 31 with value: 0.8940633713939878.\u001b[0m\n"
     ]
    },
    {
     "name": "stdout",
     "output_type": "stream",
     "text": [
      "Overall accuracy: 0.732\n",
      "\n"
     ]
    },
    {
     "name": "stderr",
     "output_type": "stream",
     "text": [
      "\u001b[32m[I 2023-05-11 01:47:16,537]\u001b[0m Trial 39 finished with value: 0.8808939116080046 and parameters: {'C': 108.63352374334825}. Best is trial 31 with value: 0.8940633713939878.\u001b[0m\n"
     ]
    },
    {
     "name": "stdout",
     "output_type": "stream",
     "text": [
      "Overall accuracy: 0.881\n",
      "\n"
     ]
    },
    {
     "name": "stderr",
     "output_type": "stream",
     "text": [
      "\u001b[32m[I 2023-05-11 01:47:27,875]\u001b[0m Trial 40 finished with value: 0.8511580499653019 and parameters: {'C': 4586.831755689295}. Best is trial 31 with value: 0.8940633713939878.\u001b[0m\n"
     ]
    },
    {
     "name": "stdout",
     "output_type": "stream",
     "text": [
      "Overall accuracy: 0.851\n",
      "\n"
     ]
    },
    {
     "name": "stderr",
     "output_type": "stream",
     "text": [
      "\u001b[32m[I 2023-05-11 01:47:30,770]\u001b[0m Trial 41 finished with value: 0.8925169255871102 and parameters: {'C': 7.6108528716951245}. Best is trial 31 with value: 0.8940633713939878.\u001b[0m\n"
     ]
    },
    {
     "name": "stdout",
     "output_type": "stream",
     "text": [
      "Overall accuracy: 0.893\n",
      "\n"
     ]
    },
    {
     "name": "stderr",
     "output_type": "stream",
     "text": [
      "\u001b[32m[I 2023-05-11 01:47:33,682]\u001b[0m Trial 42 finished with value: 0.8937080020636688 and parameters: {'C': 6.905597134042944}. Best is trial 31 with value: 0.8940633713939878.\u001b[0m\n"
     ]
    },
    {
     "name": "stdout",
     "output_type": "stream",
     "text": [
      "Overall accuracy: 0.894\n",
      "\n"
     ]
    },
    {
     "name": "stderr",
     "output_type": "stream",
     "text": [
      "\u001b[32m[I 2023-05-11 01:47:38,001]\u001b[0m Trial 43 finished with value: 0.8659744476723872 and parameters: {'C': 0.5829694476372558}. Best is trial 31 with value: 0.8940633713939878.\u001b[0m\n"
     ]
    },
    {
     "name": "stdout",
     "output_type": "stream",
     "text": [
      "Overall accuracy: 0.867\n",
      "\n"
     ]
    },
    {
     "name": "stderr",
     "output_type": "stream",
     "text": [
      "\u001b[32m[I 2023-05-11 01:47:40,784]\u001b[0m Trial 44 finished with value: 0.8894447509555692 and parameters: {'C': 34.542462014293235}. Best is trial 31 with value: 0.8940633713939878.\u001b[0m\n"
     ]
    },
    {
     "name": "stdout",
     "output_type": "stream",
     "text": [
      "Overall accuracy: 0.890\n",
      "\n"
     ]
    },
    {
     "name": "stderr",
     "output_type": "stream",
     "text": [
      "\u001b[32m[I 2023-05-11 01:47:46,274]\u001b[0m Trial 45 finished with value: 0.7939765285612397 and parameters: {'C': 0.08461252407937266}. Best is trial 31 with value: 0.8940633713939878.\u001b[0m\n"
     ]
    },
    {
     "name": "stdout",
     "output_type": "stream",
     "text": [
      "Overall accuracy: 0.795\n",
      "\n"
     ]
    },
    {
     "name": "stderr",
     "output_type": "stream",
     "text": [
      "\u001b[32m[I 2023-05-11 01:47:50,472]\u001b[0m Trial 46 finished with value: 0.8813869232656909 and parameters: {'C': 341.30178020153556}. Best is trial 31 with value: 0.8940633713939878.\u001b[0m\n"
     ]
    },
    {
     "name": "stdout",
     "output_type": "stream",
     "text": [
      "Overall accuracy: 0.882\n",
      "\n"
     ]
    },
    {
     "name": "stderr",
     "output_type": "stream",
     "text": [
      "\u001b[32m[I 2023-05-11 01:47:53,651]\u001b[0m Trial 47 finished with value: 0.8928716331010267 and parameters: {'C': 4.515989305353103}. Best is trial 31 with value: 0.8940633713939878.\u001b[0m\n"
     ]
    },
    {
     "name": "stdout",
     "output_type": "stream",
     "text": [
      "Overall accuracy: 0.893\n",
      "\n"
     ]
    },
    {
     "name": "stderr",
     "output_type": "stream",
     "text": [
      "\u001b[32m[I 2023-05-11 01:48:00,392]\u001b[0m Trial 48 finished with value: 0.3416213416213416 and parameters: {'C': 0.005578746197678128}. Best is trial 31 with value: 0.8940633713939878.\u001b[0m\n"
     ]
    },
    {
     "name": "stdout",
     "output_type": "stream",
     "text": [
      "Overall accuracy: 0.519\n",
      "\n"
     ]
    },
    {
     "name": "stderr",
     "output_type": "stream",
     "text": [
      "\u001b[32m[I 2023-05-11 01:48:04,290]\u001b[0m Trial 49 finished with value: 0.8651813970668983 and parameters: {'C': 0.6841318451880228}. Best is trial 31 with value: 0.8940633713939878.\u001b[0m\n"
     ]
    },
    {
     "name": "stdout",
     "output_type": "stream",
     "text": [
      "Overall accuracy: 0.866\n",
      "\n"
     ]
    },
    {
     "name": "stderr",
     "output_type": "stream",
     "text": [
      "\u001b[32m[I 2023-05-11 01:48:07,395]\u001b[0m Trial 50 finished with value: 0.8804753203524167 and parameters: {'C': 90.01535203220197}. Best is trial 31 with value: 0.8940633713939878.\u001b[0m\n"
     ]
    },
    {
     "name": "stdout",
     "output_type": "stream",
     "text": [
      "Overall accuracy: 0.881\n",
      "\n"
     ]
    },
    {
     "name": "stderr",
     "output_type": "stream",
     "text": [
      "\u001b[32m[I 2023-05-11 01:48:10,746]\u001b[0m Trial 51 finished with value: 0.8865341477385573 and parameters: {'C': 2.6827029315879756}. Best is trial 31 with value: 0.8940633713939878.\u001b[0m\n"
     ]
    },
    {
     "name": "stdout",
     "output_type": "stream",
     "text": [
      "Overall accuracy: 0.887\n",
      "\n"
     ]
    },
    {
     "name": "stderr",
     "output_type": "stream",
     "text": [
      "\u001b[32m[I 2023-05-11 01:48:13,517]\u001b[0m Trial 52 finished with value: 0.8917603282615899 and parameters: {'C': 12.708632600114843}. Best is trial 31 with value: 0.8940633713939878.\u001b[0m\n"
     ]
    },
    {
     "name": "stdout",
     "output_type": "stream",
     "text": [
      "Overall accuracy: 0.892\n",
      "\n"
     ]
    },
    {
     "name": "stderr",
     "output_type": "stream",
     "text": [
      "\u001b[32m[I 2023-05-11 01:48:19,364]\u001b[0m Trial 53 finished with value: 0.7835149086362896 and parameters: {'C': 0.07399071015499124}. Best is trial 31 with value: 0.8940633713939878.\u001b[0m\n"
     ]
    },
    {
     "name": "stdout",
     "output_type": "stream",
     "text": [
      "Overall accuracy: 0.785\n",
      "\n"
     ]
    },
    {
     "name": "stderr",
     "output_type": "stream",
     "text": [
      "\u001b[32m[I 2023-05-11 01:48:22,253]\u001b[0m Trial 54 finished with value: 0.8920810178471597 and parameters: {'C': 4.649400460600638}. Best is trial 31 with value: 0.8940633713939878.\u001b[0m\n"
     ]
    },
    {
     "name": "stdout",
     "output_type": "stream",
     "text": [
      "Overall accuracy: 0.893\n",
      "\n"
     ]
    },
    {
     "name": "stderr",
     "output_type": "stream",
     "text": [
      "\u001b[32m[I 2023-05-11 01:48:26,527]\u001b[0m Trial 55 finished with value: 0.855517753761459 and parameters: {'C': 0.4178307658088554}. Best is trial 31 with value: 0.8940633713939878.\u001b[0m\n"
     ]
    },
    {
     "name": "stdout",
     "output_type": "stream",
     "text": [
      "Overall accuracy: 0.857\n",
      "\n"
     ]
    },
    {
     "name": "stderr",
     "output_type": "stream",
     "text": [
      "\u001b[32m[I 2023-05-11 01:48:29,445]\u001b[0m Trial 56 finished with value: 0.8882761090566913 and parameters: {'C': 47.14838882444018}. Best is trial 31 with value: 0.8940633713939878.\u001b[0m\n"
     ]
    },
    {
     "name": "stdout",
     "output_type": "stream",
     "text": [
      "Overall accuracy: 0.889\n",
      "\n"
     ]
    },
    {
     "name": "stderr",
     "output_type": "stream",
     "text": [
      "\u001b[32m[I 2023-05-11 01:48:38,924]\u001b[0m Trial 57 finished with value: 0.8589298813135682 and parameters: {'C': 2847.3205866219005}. Best is trial 31 with value: 0.8940633713939878.\u001b[0m\n"
     ]
    },
    {
     "name": "stdout",
     "output_type": "stream",
     "text": [
      "Overall accuracy: 0.859\n",
      "\n"
     ]
    },
    {
     "name": "stderr",
     "output_type": "stream",
     "text": [
      "\u001b[32m[I 2023-05-11 01:48:42,625]\u001b[0m Trial 58 finished with value: 0.8805748031264095 and parameters: {'C': 227.78324388049052}. Best is trial 31 with value: 0.8940633713939878.\u001b[0m\n"
     ]
    },
    {
     "name": "stdout",
     "output_type": "stream",
     "text": [
      "Overall accuracy: 0.881\n",
      "\n"
     ]
    },
    {
     "name": "stderr",
     "output_type": "stream",
     "text": [
      "\u001b[32m[I 2023-05-11 01:48:49,593]\u001b[0m Trial 59 finished with value: 0.7116419329557837 and parameters: {'C': 0.017363152017741253}. Best is trial 31 with value: 0.8940633713939878.\u001b[0m\n"
     ]
    },
    {
     "name": "stdout",
     "output_type": "stream",
     "text": [
      "Overall accuracy: 0.716\n",
      "\n"
     ]
    },
    {
     "name": "stderr",
     "output_type": "stream",
     "text": [
      "\u001b[32m[I 2023-05-11 01:48:52,432]\u001b[0m Trial 60 finished with value: 0.8905696274433957 and parameters: {'C': 14.367040972795573}. Best is trial 31 with value: 0.8940633713939878.\u001b[0m\n"
     ]
    },
    {
     "name": "stdout",
     "output_type": "stream",
     "text": [
      "Overall accuracy: 0.891\n",
      "\n"
     ]
    },
    {
     "name": "stderr",
     "output_type": "stream",
     "text": [
      "\u001b[32m[I 2023-05-11 01:48:55,398]\u001b[0m Trial 61 finished with value: 0.8933072423107343 and parameters: {'C': 8.155167641210607}. Best is trial 31 with value: 0.8940633713939878.\u001b[0m\n"
     ]
    },
    {
     "name": "stdout",
     "output_type": "stream",
     "text": [
      "Overall accuracy: 0.894\n",
      "\n"
     ]
    },
    {
     "name": "stderr",
     "output_type": "stream",
     "text": [
      "\u001b[32m[I 2023-05-11 01:48:58,856]\u001b[0m Trial 62 finished with value: 0.8752706301611327 and parameters: {'C': 1.2429803582831562}. Best is trial 31 with value: 0.8940633713939878.\u001b[0m\n"
     ]
    },
    {
     "name": "stdout",
     "output_type": "stream",
     "text": [
      "Overall accuracy: 0.876\n",
      "\n"
     ]
    },
    {
     "name": "stderr",
     "output_type": "stream",
     "text": [
      "\u001b[32m[I 2023-05-11 01:49:01,984]\u001b[0m Trial 63 finished with value: 0.8917150950377633 and parameters: {'C': 5.6407888457886735}. Best is trial 31 with value: 0.8940633713939878.\u001b[0m\n"
     ]
    },
    {
     "name": "stdout",
     "output_type": "stream",
     "text": [
      "Overall accuracy: 0.892\n",
      "\n"
     ]
    },
    {
     "name": "stderr",
     "output_type": "stream",
     "text": [
      "\u001b[32m[I 2023-05-11 01:49:05,039]\u001b[0m Trial 64 finished with value: 0.8862968381619778 and parameters: {'C': 59.15705298545563}. Best is trial 31 with value: 0.8940633713939878.\u001b[0m\n"
     ]
    },
    {
     "name": "stdout",
     "output_type": "stream",
     "text": [
      "Overall accuracy: 0.887\n",
      "\n"
     ]
    },
    {
     "name": "stderr",
     "output_type": "stream",
     "text": [
      "\u001b[32m[I 2023-05-11 01:49:09,051]\u001b[0m Trial 65 finished with value: 0.8659554618099217 and parameters: {'C': 0.6207503475342736}. Best is trial 31 with value: 0.8940633713939878.\u001b[0m\n"
     ]
    },
    {
     "name": "stdout",
     "output_type": "stream",
     "text": [
      "Overall accuracy: 0.867\n",
      "\n"
     ]
    },
    {
     "name": "stderr",
     "output_type": "stream",
     "text": [
      "\u001b[32m[I 2023-05-11 01:49:14,831]\u001b[0m Trial 66 finished with value: 0.8722753317614481 and parameters: {'C': 715.305389812211}. Best is trial 31 with value: 0.8940633713939878.\u001b[0m\n"
     ]
    },
    {
     "name": "stdout",
     "output_type": "stream",
     "text": [
      "Overall accuracy: 0.873\n",
      "\n"
     ]
    },
    {
     "name": "stderr",
     "output_type": "stream",
     "text": [
      "\u001b[32m[I 2023-05-11 01:49:17,809]\u001b[0m Trial 67 finished with value: 0.8924939298650639 and parameters: {'C': 5.12082061048297}. Best is trial 31 with value: 0.8940633713939878.\u001b[0m\n"
     ]
    },
    {
     "name": "stdout",
     "output_type": "stream",
     "text": [
      "Overall accuracy: 0.893\n",
      "\n"
     ]
    },
    {
     "name": "stderr",
     "output_type": "stream",
     "text": [
      "\u001b[32m[I 2023-05-11 01:49:20,602]\u001b[0m Trial 68 finished with value: 0.8909922121313255 and parameters: {'C': 19.961642068305995}. Best is trial 31 with value: 0.8940633713939878.\u001b[0m\n"
     ]
    },
    {
     "name": "stdout",
     "output_type": "stream",
     "text": [
      "Overall accuracy: 0.891\n",
      "\n"
     ]
    },
    {
     "name": "stderr",
     "output_type": "stream",
     "text": [
      "\u001b[32m[I 2023-05-11 01:49:25,061]\u001b[0m Trial 69 finished with value: 0.8522750563640089 and parameters: {'C': 0.3673818275117265}. Best is trial 31 with value: 0.8940633713939878.\u001b[0m\n"
     ]
    },
    {
     "name": "stdout",
     "output_type": "stream",
     "text": [
      "Overall accuracy: 0.854\n",
      "\n"
     ]
    },
    {
     "name": "stderr",
     "output_type": "stream",
     "text": [
      "\u001b[32m[I 2023-05-11 01:49:30,579]\u001b[0m Trial 70 finished with value: 0.7931564051610667 and parameters: {'C': 0.08391153016118721}. Best is trial 31 with value: 0.8940633713939878.\u001b[0m\n"
     ]
    },
    {
     "name": "stdout",
     "output_type": "stream",
     "text": [
      "Overall accuracy: 0.795\n",
      "\n"
     ]
    },
    {
     "name": "stderr",
     "output_type": "stream",
     "text": [
      "\u001b[32m[I 2023-05-11 01:49:33,762]\u001b[0m Trial 71 finished with value: 0.8940517069772072 and parameters: {'C': 4.501050818560282}. Best is trial 31 with value: 0.8940633713939878.\u001b[0m\n"
     ]
    },
    {
     "name": "stdout",
     "output_type": "stream",
     "text": [
      "Overall accuracy: 0.895\n",
      "\n"
     ]
    },
    {
     "name": "stderr",
     "output_type": "stream",
     "text": [
      "\u001b[32m[I 2023-05-11 01:49:37,451]\u001b[0m Trial 72 finished with value: 0.8804707157270621 and parameters: {'C': 1.6504205783861463}. Best is trial 31 with value: 0.8940633713939878.\u001b[0m\n"
     ]
    },
    {
     "name": "stdout",
     "output_type": "stream",
     "text": [
      "Overall accuracy: 0.881\n",
      "\n"
     ]
    },
    {
     "name": "stderr",
     "output_type": "stream",
     "text": [
      "\u001b[32m[I 2023-05-11 01:49:40,409]\u001b[0m Trial 73 finished with value: 0.8933072423107343 and parameters: {'C': 8.467072934961603}. Best is trial 31 with value: 0.8940633713939878.\u001b[0m\n"
     ]
    },
    {
     "name": "stdout",
     "output_type": "stream",
     "text": [
      "Overall accuracy: 0.894\n",
      "\n"
     ]
    },
    {
     "name": "stderr",
     "output_type": "stream",
     "text": [
      "\u001b[32m[I 2023-05-11 01:49:43,452]\u001b[0m Trial 74 finished with value: 0.8870970346921636 and parameters: {'C': 67.91586204061603}. Best is trial 31 with value: 0.8940633713939878.\u001b[0m\n"
     ]
    },
    {
     "name": "stdout",
     "output_type": "stream",
     "text": [
      "Overall accuracy: 0.887\n",
      "\n"
     ]
    },
    {
     "name": "stderr",
     "output_type": "stream",
     "text": [
      "\u001b[32m[I 2023-05-11 01:49:46,864]\u001b[0m Trial 75 finished with value: 0.8800675099651005 and parameters: {'C': 1.6163826437202595}. Best is trial 31 with value: 0.8940633713939878.\u001b[0m\n"
     ]
    },
    {
     "name": "stdout",
     "output_type": "stream",
     "text": [
      "Overall accuracy: 0.881\n",
      "\n"
     ]
    },
    {
     "name": "stderr",
     "output_type": "stream",
     "text": [
      "\u001b[32m[I 2023-05-11 01:49:50,860]\u001b[0m Trial 76 finished with value: 0.8805748031264095 and parameters: {'C': 228.83189083506065}. Best is trial 31 with value: 0.8940633713939878.\u001b[0m\n"
     ]
    },
    {
     "name": "stdout",
     "output_type": "stream",
     "text": [
      "Overall accuracy: 0.881\n",
      "\n"
     ]
    },
    {
     "name": "stderr",
     "output_type": "stream",
     "text": [
      "\u001b[32m[I 2023-05-11 01:49:53,770]\u001b[0m Trial 77 finished with value: 0.8909702576649592 and parameters: {'C': 14.570774615910151}. Best is trial 31 with value: 0.8940633713939878.\u001b[0m\n"
     ]
    },
    {
     "name": "stdout",
     "output_type": "stream",
     "text": [
      "Overall accuracy: 0.891\n",
      "\n"
     ]
    },
    {
     "name": "stderr",
     "output_type": "stream",
     "text": [
      "\u001b[32m[I 2023-05-11 01:49:58,710]\u001b[0m Trial 78 finished with value: 0.8259860597109928 and parameters: {'C': 0.1465820757053375}. Best is trial 31 with value: 0.8940633713939878.\u001b[0m\n"
     ]
    },
    {
     "name": "stdout",
     "output_type": "stream",
     "text": [
      "Overall accuracy: 0.827\n",
      "\n"
     ]
    },
    {
     "name": "stderr",
     "output_type": "stream",
     "text": [
      "\u001b[32m[I 2023-05-11 01:50:01,437]\u001b[0m Trial 79 finished with value: 0.8902448646146868 and parameters: {'C': 37.89183953548957}. Best is trial 31 with value: 0.8940633713939878.\u001b[0m\n"
     ]
    },
    {
     "name": "stdout",
     "output_type": "stream",
     "text": [
      "Overall accuracy: 0.891\n",
      "\n"
     ]
    },
    {
     "name": "stderr",
     "output_type": "stream",
     "text": [
      "\u001b[32m[I 2023-05-11 01:50:04,647]\u001b[0m Trial 80 finished with value: 0.8928949514407631 and parameters: {'C': 5.25851944928002}. Best is trial 31 with value: 0.8940633713939878.\u001b[0m\n"
     ]
    },
    {
     "name": "stdout",
     "output_type": "stream",
     "text": [
      "Overall accuracy: 0.893\n",
      "\n"
     ]
    },
    {
     "name": "stderr",
     "output_type": "stream",
     "text": [
      "\u001b[32m[I 2023-05-11 01:50:07,744]\u001b[0m Trial 81 finished with value: 0.8924822276834503 and parameters: {'C': 3.4469297315957195}. Best is trial 31 with value: 0.8940633713939878.\u001b[0m\n"
     ]
    },
    {
     "name": "stdout",
     "output_type": "stream",
     "text": [
      "Overall accuracy: 0.893\n",
      "\n"
     ]
    },
    {
     "name": "stderr",
     "output_type": "stream",
     "text": [
      "\u001b[32m[I 2023-05-11 01:50:11,293]\u001b[0m Trial 82 finished with value: 0.8740907530480605 and parameters: {'C': 1.2039630601101734}. Best is trial 31 with value: 0.8940633713939878.\u001b[0m\n"
     ]
    },
    {
     "name": "stdout",
     "output_type": "stream",
     "text": [
      "Overall accuracy: 0.875\n",
      "\n"
     ]
    },
    {
     "name": "stderr",
     "output_type": "stream",
     "text": [
      "\u001b[32m[I 2023-05-11 01:50:14,229]\u001b[0m Trial 83 finished with value: 0.8937080020636688 and parameters: {'C': 7.022666672701086}. Best is trial 31 with value: 0.8940633713939878.\u001b[0m\n"
     ]
    },
    {
     "name": "stdout",
     "output_type": "stream",
     "text": [
      "Overall accuracy: 0.894\n",
      "\n"
     ]
    },
    {
     "name": "stderr",
     "output_type": "stream",
     "text": [
      "\u001b[32m[I 2023-05-11 01:50:17,316]\u001b[0m Trial 84 finished with value: 0.8929064070194541 and parameters: {'C': 5.877632885789722}. Best is trial 31 with value: 0.8940633713939878.\u001b[0m\n"
     ]
    },
    {
     "name": "stdout",
     "output_type": "stream",
     "text": [
      "Overall accuracy: 0.893\n",
      "\n"
     ]
    },
    {
     "name": "stderr",
     "output_type": "stream",
     "text": [
      "\u001b[32m[I 2023-05-11 01:50:21,910]\u001b[0m Trial 85 finished with value: 0.843271070386054 and parameters: {'C': 0.25720431185659054}. Best is trial 31 with value: 0.8940633713939878.\u001b[0m\n"
     ]
    },
    {
     "name": "stdout",
     "output_type": "stream",
     "text": [
      "Overall accuracy: 0.845\n",
      "\n"
     ]
    },
    {
     "name": "stderr",
     "output_type": "stream",
     "text": [
      "\u001b[32m[I 2023-05-11 01:50:25,262]\u001b[0m Trial 86 finished with value: 0.8789267465501847 and parameters: {'C': 129.5297975215563}. Best is trial 31 with value: 0.8940633713939878.\u001b[0m\n"
     ]
    },
    {
     "name": "stdout",
     "output_type": "stream",
     "text": [
      "Overall accuracy: 0.879\n",
      "\n"
     ]
    },
    {
     "name": "stderr",
     "output_type": "stream",
     "text": [
      "\u001b[32m[I 2023-05-11 01:50:28,007]\u001b[0m Trial 87 finished with value: 0.8894447509555692 and parameters: {'C': 31.430877705630984}. Best is trial 31 with value: 0.8940633713939878.\u001b[0m\n"
     ]
    },
    {
     "name": "stdout",
     "output_type": "stream",
     "text": [
      "Overall accuracy: 0.890\n",
      "\n"
     ]
    },
    {
     "name": "stderr",
     "output_type": "stream",
     "text": [
      "\u001b[32m[I 2023-05-11 01:50:31,004]\u001b[0m Trial 88 finished with value: 0.8937080020636688 and parameters: {'C': 6.784735660098298}. Best is trial 31 with value: 0.8940633713939878.\u001b[0m\n"
     ]
    },
    {
     "name": "stdout",
     "output_type": "stream",
     "text": [
      "Overall accuracy: 0.894\n",
      "\n"
     ]
    },
    {
     "name": "stderr",
     "output_type": "stream",
     "text": [
      "\u001b[32m[I 2023-05-11 01:50:37,106]\u001b[0m Trial 89 finished with value: 0.8695015806649387 and parameters: {'C': 887.8437168336675}. Best is trial 31 with value: 0.8940633713939878.\u001b[0m\n"
     ]
    },
    {
     "name": "stdout",
     "output_type": "stream",
     "text": [
      "Overall accuracy: 0.870\n",
      "\n"
     ]
    },
    {
     "name": "stderr",
     "output_type": "stream",
     "text": [
      "\u001b[32m[I 2023-05-11 01:50:40,894]\u001b[0m Trial 90 finished with value: 0.8656061609145926 and parameters: {'C': 0.7215951389118996}. Best is trial 31 with value: 0.8940633713939878.\u001b[0m\n"
     ]
    },
    {
     "name": "stdout",
     "output_type": "stream",
     "text": [
      "Overall accuracy: 0.867\n",
      "\n"
     ]
    },
    {
     "name": "stderr",
     "output_type": "stream",
     "text": [
      "\u001b[32m[I 2023-05-11 01:50:43,647]\u001b[0m Trial 91 finished with value: 0.8925169255871102 and parameters: {'C': 8.573143177336018}. Best is trial 31 with value: 0.8940633713939878.\u001b[0m\n"
     ]
    },
    {
     "name": "stdout",
     "output_type": "stream",
     "text": [
      "Overall accuracy: 0.893\n",
      "\n"
     ]
    },
    {
     "name": "stderr",
     "output_type": "stream",
     "text": [
      "\u001b[32m[I 2023-05-11 01:50:46,717]\u001b[0m Trial 92 finished with value: 0.8933072423107343 and parameters: {'C': 8.26019180454303}. Best is trial 31 with value: 0.8940633713939878.\u001b[0m\n"
     ]
    },
    {
     "name": "stdout",
     "output_type": "stream",
     "text": [
      "Overall accuracy: 0.894\n",
      "\n"
     ]
    },
    {
     "name": "stderr",
     "output_type": "stream",
     "text": [
      "\u001b[32m[I 2023-05-11 01:50:49,435]\u001b[0m Trial 93 finished with value: 0.8909813037641092 and parameters: {'C': 23.072714831516265}. Best is trial 31 with value: 0.8940633713939878.\u001b[0m\n"
     ]
    },
    {
     "name": "stdout",
     "output_type": "stream",
     "text": [
      "Overall accuracy: 0.891\n",
      "\n"
     ]
    },
    {
     "name": "stderr",
     "output_type": "stream",
     "text": [
      "\u001b[32m[I 2023-05-11 01:50:52,778]\u001b[0m Trial 94 finished with value: 0.8808939116080046 and parameters: {'C': 109.55979398842418}. Best is trial 31 with value: 0.8940633713939878.\u001b[0m\n"
     ]
    },
    {
     "name": "stdout",
     "output_type": "stream",
     "text": [
      "Overall accuracy: 0.881\n",
      "\n"
     ]
    },
    {
     "name": "stderr",
     "output_type": "stream",
     "text": [
      "\u001b[32m[I 2023-05-11 01:50:56,617]\u001b[0m Trial 95 finished with value: 0.8672285382011264 and parameters: {'C': 0.7603071984706211}. Best is trial 31 with value: 0.8940633713939878.\u001b[0m\n"
     ]
    },
    {
     "name": "stdout",
     "output_type": "stream",
     "text": [
      "Overall accuracy: 0.868\n",
      "\n"
     ]
    },
    {
     "name": "stderr",
     "output_type": "stream",
     "text": [
      "\u001b[32m[I 2023-05-11 01:50:59,916]\u001b[0m Trial 96 finished with value: 0.8861324386051249 and parameters: {'C': 2.5701092535161862}. Best is trial 31 with value: 0.8940633713939878.\u001b[0m\n"
     ]
    },
    {
     "name": "stdout",
     "output_type": "stream",
     "text": [
      "Overall accuracy: 0.887\n",
      "\n"
     ]
    },
    {
     "name": "stderr",
     "output_type": "stream",
     "text": [
      "\u001b[32m[I 2023-05-11 01:51:02,807]\u001b[0m Trial 97 finished with value: 0.8937300714161496 and parameters: {'C': 9.089414372111131}. Best is trial 31 with value: 0.8940633713939878.\u001b[0m\n"
     ]
    },
    {
     "name": "stdout",
     "output_type": "stream",
     "text": [
      "Overall accuracy: 0.894\n",
      "\n"
     ]
    },
    {
     "name": "stderr",
     "output_type": "stream",
     "text": [
      "\u001b[32m[I 2023-05-11 01:51:05,548]\u001b[0m Trial 98 finished with value: 0.8902344313058865 and parameters: {'C': 40.117691651922435}. Best is trial 31 with value: 0.8940633713939878.\u001b[0m\n"
     ]
    },
    {
     "name": "stdout",
     "output_type": "stream",
     "text": [
      "Overall accuracy: 0.891\n",
      "\n"
     ]
    },
    {
     "name": "stderr",
     "output_type": "stream",
     "text": [
      "\u001b[32m[I 2023-05-11 01:51:10,150]\u001b[0m Trial 99 finished with value: 0.8405052717274584 and parameters: {'C': 0.23509977173324254}. Best is trial 31 with value: 0.8940633713939878.\u001b[0m\n",
      "\u001b[32m[I 2023-05-11 01:51:10,287]\u001b[0m A new study created in memory with name: no-name-2edd659d-1aa9-4df0-8851-eb10ba60434f\u001b[0m\n"
     ]
    },
    {
     "name": "stdout",
     "output_type": "stream",
     "text": [
      "Overall accuracy: 0.842\n",
      "\n",
      "Accuracy: 0.8940633713939878\n",
      "Best hyperparameters: {'C': 4.3555206670439555}\n",
      "\n",
      "\n",
      "\n",
      "Model :- SVC, DataType :- RSacid\n"
     ]
    },
    {
     "name": "stderr",
     "output_type": "stream",
     "text": [
      "\u001b[32m[I 2023-05-11 01:51:14,016]\u001b[0m Trial 0 finished with value: 0.8746999082364029 and parameters: {'C': 82.52366097130788}. Best is trial 0 with value: 0.8746999082364029.\u001b[0m\n"
     ]
    },
    {
     "name": "stdout",
     "output_type": "stream",
     "text": [
      "Overall accuracy: 0.875\n",
      "\n"
     ]
    },
    {
     "name": "stderr",
     "output_type": "stream",
     "text": [
      "\u001b[32m[I 2023-05-11 01:51:17,982]\u001b[0m Trial 1 finished with value: 0.8581934824043512 and parameters: {'C': 272067.34310639114}. Best is trial 0 with value: 0.8746999082364029.\u001b[0m\n"
     ]
    },
    {
     "name": "stdout",
     "output_type": "stream",
     "text": [
      "Overall accuracy: 0.858\n",
      "\n"
     ]
    },
    {
     "name": "stderr",
     "output_type": "stream",
     "text": [
      "\u001b[32m[I 2023-05-11 01:51:21,823]\u001b[0m Trial 2 finished with value: 0.8719536984325545 and parameters: {'C': 95.91548644066886}. Best is trial 0 with value: 0.8746999082364029.\u001b[0m\n"
     ]
    },
    {
     "name": "stdout",
     "output_type": "stream",
     "text": [
      "Overall accuracy: 0.872\n",
      "\n"
     ]
    },
    {
     "name": "stderr",
     "output_type": "stream",
     "text": [
      "\u001b[32m[I 2023-05-11 01:51:25,525]\u001b[0m Trial 3 finished with value: 0.8742282759685136 and parameters: {'C': 0.2549453614421633}. Best is trial 0 with value: 0.8746999082364029.\u001b[0m\n"
     ]
    },
    {
     "name": "stdout",
     "output_type": "stream",
     "text": [
      "Overall accuracy: 0.875\n",
      "\n"
     ]
    },
    {
     "name": "stderr",
     "output_type": "stream",
     "text": [
      "\u001b[32m[I 2023-05-11 01:51:29,382]\u001b[0m Trial 4 finished with value: 0.8581934824043512 and parameters: {'C': 20114571.43712438}. Best is trial 0 with value: 0.8746999082364029.\u001b[0m\n"
     ]
    },
    {
     "name": "stdout",
     "output_type": "stream",
     "text": [
      "Overall accuracy: 0.858\n",
      "\n"
     ]
    },
    {
     "name": "stderr",
     "output_type": "stream",
     "text": [
      "\u001b[32m[I 2023-05-11 01:51:32,410]\u001b[0m Trial 5 finished with value: 0.8848732598314598 and parameters: {'C': 10.361005540495663}. Best is trial 5 with value: 0.8848732598314598.\u001b[0m\n"
     ]
    },
    {
     "name": "stdout",
     "output_type": "stream",
     "text": [
      "Overall accuracy: 0.885\n",
      "\n"
     ]
    },
    {
     "name": "stderr",
     "output_type": "stream",
     "text": [
      "\u001b[32m[I 2023-05-11 01:51:36,265]\u001b[0m Trial 6 finished with value: 0.8581934824043512 and parameters: {'C': 4470065881.06294}. Best is trial 5 with value: 0.8848732598314598.\u001b[0m\n"
     ]
    },
    {
     "name": "stdout",
     "output_type": "stream",
     "text": [
      "Overall accuracy: 0.858\n",
      "\n"
     ]
    },
    {
     "name": "stderr",
     "output_type": "stream",
     "text": [
      "\u001b[32m[I 2023-05-11 01:51:40,333]\u001b[0m Trial 7 finished with value: 0.8581934824043512 and parameters: {'C': 7189709907.113332}. Best is trial 5 with value: 0.8848732598314598.\u001b[0m\n"
     ]
    },
    {
     "name": "stdout",
     "output_type": "stream",
     "text": [
      "Overall accuracy: 0.858\n",
      "\n"
     ]
    },
    {
     "name": "stderr",
     "output_type": "stream",
     "text": [
      "\u001b[32m[I 2023-05-11 01:51:46,822]\u001b[0m Trial 8 finished with value: 0.3416213416213416 and parameters: {'C': 1.2350110050676235e-06}. Best is trial 5 with value: 0.8848732598314598.\u001b[0m\n"
     ]
    },
    {
     "name": "stdout",
     "output_type": "stream",
     "text": [
      "Overall accuracy: 0.519\n",
      "\n"
     ]
    },
    {
     "name": "stderr",
     "output_type": "stream",
     "text": [
      "\u001b[32m[I 2023-05-11 01:51:50,715]\u001b[0m Trial 9 finished with value: 0.8581934824043512 and parameters: {'C': 4398.027981838177}. Best is trial 5 with value: 0.8848732598314598.\u001b[0m\n"
     ]
    },
    {
     "name": "stdout",
     "output_type": "stream",
     "text": [
      "Overall accuracy: 0.858\n",
      "\n"
     ]
    },
    {
     "name": "stderr",
     "output_type": "stream",
     "text": [
      "\u001b[32m[I 2023-05-11 01:51:57,482]\u001b[0m Trial 10 finished with value: 0.3416213416213416 and parameters: {'C': 0.0048550351027371996}. Best is trial 5 with value: 0.8848732598314598.\u001b[0m\n"
     ]
    },
    {
     "name": "stdout",
     "output_type": "stream",
     "text": [
      "Overall accuracy: 0.519\n",
      "\n"
     ]
    },
    {
     "name": "stderr",
     "output_type": "stream",
     "text": [
      "\u001b[32m[I 2023-05-11 01:52:00,470]\u001b[0m Trial 11 finished with value: 0.8852545552834928 and parameters: {'C': 7.770244011123869}. Best is trial 11 with value: 0.8852545552834928.\u001b[0m\n"
     ]
    },
    {
     "name": "stdout",
     "output_type": "stream",
     "text": [
      "Overall accuracy: 0.886\n",
      "\n"
     ]
    },
    {
     "name": "stderr",
     "output_type": "stream",
     "text": [
      "\u001b[32m[I 2023-05-11 01:52:06,944]\u001b[0m Trial 12 finished with value: 0.6492178057530935 and parameters: {'C': 0.012110054375058868}. Best is trial 11 with value: 0.8852545552834928.\u001b[0m\n"
     ]
    },
    {
     "name": "stdout",
     "output_type": "stream",
     "text": [
      "Overall accuracy: 0.690\n",
      "\n"
     ]
    },
    {
     "name": "stderr",
     "output_type": "stream",
     "text": [
      "\u001b[32m[I 2023-05-11 01:52:13,446]\u001b[0m Trial 13 finished with value: 0.3416213416213416 and parameters: {'C': 1.3825366168692325e-09}. Best is trial 11 with value: 0.8852545552834928.\u001b[0m\n"
     ]
    },
    {
     "name": "stdout",
     "output_type": "stream",
     "text": [
      "Overall accuracy: 0.519\n",
      "\n"
     ]
    },
    {
     "name": "stderr",
     "output_type": "stream",
     "text": [
      "\u001b[32m[I 2023-05-11 01:52:16,374]\u001b[0m Trial 14 finished with value: 0.8926531603340336 and parameters: {'C': 3.0141576285351483}. Best is trial 14 with value: 0.8926531603340336.\u001b[0m\n"
     ]
    },
    {
     "name": "stdout",
     "output_type": "stream",
     "text": [
      "Overall accuracy: 0.893\n",
      "\n"
     ]
    },
    {
     "name": "stderr",
     "output_type": "stream",
     "text": [
      "\u001b[32m[I 2023-05-11 01:52:22,854]\u001b[0m Trial 15 finished with value: 0.3416213416213416 and parameters: {'C': 0.0007971340689022446}. Best is trial 14 with value: 0.8926531603340336.\u001b[0m\n"
     ]
    },
    {
     "name": "stdout",
     "output_type": "stream",
     "text": [
      "Overall accuracy: 0.519\n",
      "\n"
     ]
    },
    {
     "name": "stderr",
     "output_type": "stream",
     "text": [
      "\u001b[32m[I 2023-05-11 01:52:26,904]\u001b[0m Trial 16 finished with value: 0.8581934824043512 and parameters: {'C': 9545.551548730875}. Best is trial 14 with value: 0.8926531603340336.\u001b[0m\n"
     ]
    },
    {
     "name": "stdout",
     "output_type": "stream",
     "text": [
      "Overall accuracy: 0.858\n",
      "\n"
     ]
    },
    {
     "name": "stderr",
     "output_type": "stream",
     "text": [
      "\u001b[32m[I 2023-05-11 01:52:30,363]\u001b[0m Trial 17 finished with value: 0.8897795164502071 and parameters: {'C': 0.8836971208326518}. Best is trial 14 with value: 0.8926531603340336.\u001b[0m\n"
     ]
    },
    {
     "name": "stdout",
     "output_type": "stream",
     "text": [
      "Overall accuracy: 0.890\n",
      "\n"
     ]
    },
    {
     "name": "stderr",
     "output_type": "stream",
     "text": [
      "\u001b[32m[I 2023-05-11 01:52:36,874]\u001b[0m Trial 18 finished with value: 0.3416213416213416 and parameters: {'C': 8.326080908540764e-05}. Best is trial 14 with value: 0.8926531603340336.\u001b[0m\n"
     ]
    },
    {
     "name": "stdout",
     "output_type": "stream",
     "text": [
      "Overall accuracy: 0.519\n",
      "\n"
     ]
    },
    {
     "name": "stderr",
     "output_type": "stream",
     "text": [
      "\u001b[32m[I 2023-05-11 01:52:41,199]\u001b[0m Trial 19 finished with value: 0.8654471157408877 and parameters: {'C': 0.13767203531644914}. Best is trial 14 with value: 0.8926531603340336.\u001b[0m\n"
     ]
    },
    {
     "name": "stdout",
     "output_type": "stream",
     "text": [
      "Overall accuracy: 0.866\n",
      "\n"
     ]
    },
    {
     "name": "stderr",
     "output_type": "stream",
     "text": [
      "\u001b[32m[I 2023-05-11 01:52:47,833]\u001b[0m Trial 20 finished with value: 0.3416213416213416 and parameters: {'C': 2.7596001860054524e-05}. Best is trial 14 with value: 0.8926531603340336.\u001b[0m\n"
     ]
    },
    {
     "name": "stdout",
     "output_type": "stream",
     "text": [
      "Overall accuracy: 0.519\n",
      "\n"
     ]
    },
    {
     "name": "stderr",
     "output_type": "stream",
     "text": [
      "\u001b[32m[I 2023-05-11 01:52:50,878]\u001b[0m Trial 21 finished with value: 0.8934424753315775 and parameters: {'C': 3.0834625724437505}. Best is trial 21 with value: 0.8934424753315775.\u001b[0m\n"
     ]
    },
    {
     "name": "stdout",
     "output_type": "stream",
     "text": [
      "Overall accuracy: 0.894\n",
      "\n"
     ]
    },
    {
     "name": "stderr",
     "output_type": "stream",
     "text": [
      "\u001b[32m[I 2023-05-11 01:52:54,434]\u001b[0m Trial 22 finished with value: 0.8790157160179453 and parameters: {'C': 0.3901583783127704}. Best is trial 21 with value: 0.8934424753315775.\u001b[0m\n"
     ]
    },
    {
     "name": "stdout",
     "output_type": "stream",
     "text": [
      "Overall accuracy: 0.880\n",
      "\n"
     ]
    },
    {
     "name": "stderr",
     "output_type": "stream",
     "text": [
      "\u001b[32m[I 2023-05-11 01:52:58,402]\u001b[0m Trial 23 finished with value: 0.8554235650938307 and parameters: {'C': 1083.2818725086486}. Best is trial 21 with value: 0.8934424753315775.\u001b[0m\n"
     ]
    },
    {
     "name": "stdout",
     "output_type": "stream",
     "text": [
      "Overall accuracy: 0.856\n",
      "\n"
     ]
    },
    {
     "name": "stderr",
     "output_type": "stream",
     "text": [
      "\u001b[32m[I 2023-05-11 01:53:01,467]\u001b[0m Trial 24 finished with value: 0.8917712943165432 and parameters: {'C': 1.4167564055722666}. Best is trial 21 with value: 0.8934424753315775.\u001b[0m\n"
     ]
    },
    {
     "name": "stdout",
     "output_type": "stream",
     "text": [
      "Overall accuracy: 0.892\n",
      "\n"
     ]
    },
    {
     "name": "stderr",
     "output_type": "stream",
     "text": [
      "\u001b[32m[I 2023-05-11 01:53:04,351]\u001b[0m Trial 25 finished with value: 0.8856444880450882 and parameters: {'C': 8.376414847427064}. Best is trial 21 with value: 0.8934424753315775.\u001b[0m\n"
     ]
    },
    {
     "name": "stdout",
     "output_type": "stream",
     "text": [
      "Overall accuracy: 0.886\n",
      "\n"
     ]
    },
    {
     "name": "stderr",
     "output_type": "stream",
     "text": [
      "\u001b[32m[I 2023-05-11 01:53:10,398]\u001b[0m Trial 26 finished with value: 0.842133906496501 and parameters: {'C': 0.034484337784713014}. Best is trial 21 with value: 0.8934424753315775.\u001b[0m\n"
     ]
    },
    {
     "name": "stdout",
     "output_type": "stream",
     "text": [
      "Overall accuracy: 0.844\n",
      "\n"
     ]
    },
    {
     "name": "stderr",
     "output_type": "stream",
     "text": [
      "\u001b[32m[I 2023-05-11 01:53:14,201]\u001b[0m Trial 27 finished with value: 0.8652838082841336 and parameters: {'C': 210.560494107086}. Best is trial 21 with value: 0.8934424753315775.\u001b[0m\n"
     ]
    },
    {
     "name": "stdout",
     "output_type": "stream",
     "text": [
      "Overall accuracy: 0.865\n",
      "\n"
     ]
    },
    {
     "name": "stderr",
     "output_type": "stream",
     "text": [
      "\u001b[32m[I 2023-05-11 01:53:18,276]\u001b[0m Trial 28 finished with value: 0.8581934824043512 and parameters: {'C': 32667.34875841822}. Best is trial 21 with value: 0.8934424753315775.\u001b[0m\n"
     ]
    },
    {
     "name": "stdout",
     "output_type": "stream",
     "text": [
      "Overall accuracy: 0.858\n",
      "\n"
     ]
    },
    {
     "name": "stderr",
     "output_type": "stream",
     "text": [
      "\u001b[32m[I 2023-05-11 01:53:21,628]\u001b[0m Trial 29 finished with value: 0.879794718756914 and parameters: {'C': 40.890913709587146}. Best is trial 21 with value: 0.8934424753315775.\u001b[0m\n"
     ]
    },
    {
     "name": "stdout",
     "output_type": "stream",
     "text": [
      "Overall accuracy: 0.880\n",
      "\n"
     ]
    },
    {
     "name": "stderr",
     "output_type": "stream",
     "text": [
      "\u001b[32m[I 2023-05-11 01:53:24,770]\u001b[0m Trial 30 finished with value: 0.8897795164502071 and parameters: {'C': 0.8893831815773822}. Best is trial 21 with value: 0.8934424753315775.\u001b[0m\n"
     ]
    },
    {
     "name": "stdout",
     "output_type": "stream",
     "text": [
      "Overall accuracy: 0.890\n",
      "\n"
     ]
    },
    {
     "name": "stderr",
     "output_type": "stream",
     "text": [
      "\u001b[32m[I 2023-05-11 01:53:27,700]\u001b[0m Trial 31 finished with value: 0.8930525832070004 and parameters: {'C': 3.1139632002402413}. Best is trial 21 with value: 0.8934424753315775.\u001b[0m\n"
     ]
    },
    {
     "name": "stdout",
     "output_type": "stream",
     "text": [
      "Overall accuracy: 0.893\n",
      "\n"
     ]
    },
    {
     "name": "stderr",
     "output_type": "stream",
     "text": [
      "\u001b[32m[I 2023-05-11 01:53:31,564]\u001b[0m Trial 32 finished with value: 0.8609847595809369 and parameters: {'C': 394.7346985493399}. Best is trial 21 with value: 0.8934424753315775.\u001b[0m\n"
     ]
    },
    {
     "name": "stdout",
     "output_type": "stream",
     "text": [
      "Overall accuracy: 0.861\n",
      "\n"
     ]
    },
    {
     "name": "stderr",
     "output_type": "stream",
     "text": [
      "\u001b[32m[I 2023-05-11 01:53:34,427]\u001b[0m Trial 33 finished with value: 0.8852545552834928 and parameters: {'C': 8.002487892266434}. Best is trial 21 with value: 0.8934424753315775.\u001b[0m\n"
     ]
    },
    {
     "name": "stdout",
     "output_type": "stream",
     "text": [
      "Overall accuracy: 0.886\n",
      "\n"
     ]
    },
    {
     "name": "stderr",
     "output_type": "stream",
     "text": [
      "\u001b[32m[I 2023-05-11 01:53:38,182]\u001b[0m Trial 34 finished with value: 0.8707677466193742 and parameters: {'C': 101.42684559829999}. Best is trial 21 with value: 0.8934424753315775.\u001b[0m\n"
     ]
    },
    {
     "name": "stdout",
     "output_type": "stream",
     "text": [
      "Overall accuracy: 0.871\n",
      "\n"
     ]
    },
    {
     "name": "stderr",
     "output_type": "stream",
     "text": [
      "\u001b[32m[I 2023-05-11 01:53:43,305]\u001b[0m Trial 35 finished with value: 0.8536924562078594 and parameters: {'C': 0.05979877052122147}. Best is trial 21 with value: 0.8934424753315775.\u001b[0m\n"
     ]
    },
    {
     "name": "stdout",
     "output_type": "stream",
     "text": [
      "Overall accuracy: 0.855\n",
      "\n"
     ]
    },
    {
     "name": "stderr",
     "output_type": "stream",
     "text": [
      "\u001b[32m[I 2023-05-11 01:53:47,398]\u001b[0m Trial 36 finished with value: 0.8581934824043512 and parameters: {'C': 213435.07171518207}. Best is trial 21 with value: 0.8934424753315775.\u001b[0m\n"
     ]
    },
    {
     "name": "stdout",
     "output_type": "stream",
     "text": [
      "Overall accuracy: 0.858\n",
      "\n"
     ]
    },
    {
     "name": "stderr",
     "output_type": "stream",
     "text": [
      "\u001b[32m[I 2023-05-11 01:53:50,257]\u001b[0m Trial 37 finished with value: 0.8910842026825634 and parameters: {'C': 4.858603312684179}. Best is trial 21 with value: 0.8934424753315775.\u001b[0m\n"
     ]
    },
    {
     "name": "stdout",
     "output_type": "stream",
     "text": [
      "Overall accuracy: 0.891\n",
      "\n"
     ]
    },
    {
     "name": "stderr",
     "output_type": "stream",
     "text": [
      "\u001b[32m[I 2023-05-11 01:53:53,428]\u001b[0m Trial 38 finished with value: 0.8858171786054283 and parameters: {'C': 0.7428724388294001}. Best is trial 21 with value: 0.8934424753315775.\u001b[0m\n"
     ]
    },
    {
     "name": "stdout",
     "output_type": "stream",
     "text": [
      "Overall accuracy: 0.886\n",
      "\n"
     ]
    },
    {
     "name": "stderr",
     "output_type": "stream",
     "text": [
      "\u001b[32m[I 2023-05-11 01:53:57,156]\u001b[0m Trial 39 finished with value: 0.8747077543443932 and parameters: {'C': 79.13830340674653}. Best is trial 21 with value: 0.8934424753315775.\u001b[0m\n"
     ]
    },
    {
     "name": "stdout",
     "output_type": "stream",
     "text": [
      "Overall accuracy: 0.875\n",
      "\n"
     ]
    },
    {
     "name": "stderr",
     "output_type": "stream",
     "text": [
      "\u001b[32m[I 2023-05-11 01:54:01,095]\u001b[0m Trial 40 finished with value: 0.8554235650938307 and parameters: {'C': 1278.3942871178099}. Best is trial 21 with value: 0.8934424753315775.\u001b[0m\n"
     ]
    },
    {
     "name": "stdout",
     "output_type": "stream",
     "text": [
      "Overall accuracy: 0.856\n",
      "\n"
     ]
    },
    {
     "name": "stderr",
     "output_type": "stream",
     "text": [
      "\u001b[32m[I 2023-05-11 01:54:04,111]\u001b[0m Trial 41 finished with value: 0.8969417679095097 and parameters: {'C': 2.030823118492046}. Best is trial 41 with value: 0.8969417679095097.\u001b[0m\n"
     ]
    },
    {
     "name": "stdout",
     "output_type": "stream",
     "text": [
      "Overall accuracy: 0.897\n",
      "\n"
     ]
    },
    {
     "name": "stderr",
     "output_type": "stream",
     "text": [
      "\u001b[32m[I 2023-05-11 01:54:09,242]\u001b[0m Trial 42 finished with value: 0.8536924562078594 and parameters: {'C': 0.06041056881846711}. Best is trial 41 with value: 0.8969417679095097.\u001b[0m\n"
     ]
    },
    {
     "name": "stdout",
     "output_type": "stream",
     "text": [
      "Overall accuracy: 0.855\n",
      "\n"
     ]
    },
    {
     "name": "stderr",
     "output_type": "stream",
     "text": [
      "\u001b[32m[I 2023-05-11 01:54:12,671]\u001b[0m Trial 43 finished with value: 0.8805407218775722 and parameters: {'C': 20.509022728526535}. Best is trial 41 with value: 0.8969417679095097.\u001b[0m\n"
     ]
    },
    {
     "name": "stdout",
     "output_type": "stream",
     "text": [
      "Overall accuracy: 0.881\n",
      "\n"
     ]
    },
    {
     "name": "stderr",
     "output_type": "stream",
     "text": [
      "\u001b[32m[I 2023-05-11 01:54:15,671]\u001b[0m Trial 44 finished with value: 0.8938418630357311 and parameters: {'C': 2.9440478807914947}. Best is trial 41 with value: 0.8969417679095097.\u001b[0m\n"
     ]
    },
    {
     "name": "stdout",
     "output_type": "stream",
     "text": [
      "Overall accuracy: 0.894\n",
      "\n"
     ]
    },
    {
     "name": "stderr",
     "output_type": "stream",
     "text": [
      "\u001b[32m[I 2023-05-11 01:54:22,627]\u001b[0m Trial 45 finished with value: 0.3416213416213416 and parameters: {'C': 0.005051944678071359}. Best is trial 41 with value: 0.8969417679095097.\u001b[0m\n"
     ]
    },
    {
     "name": "stdout",
     "output_type": "stream",
     "text": [
      "Overall accuracy: 0.519\n",
      "\n"
     ]
    },
    {
     "name": "stderr",
     "output_type": "stream",
     "text": [
      "\u001b[32m[I 2023-05-11 01:54:26,717]\u001b[0m Trial 46 finished with value: 0.8726164331032558 and parameters: {'C': 0.20267203416722682}. Best is trial 41 with value: 0.8969417679095097.\u001b[0m\n"
     ]
    },
    {
     "name": "stdout",
     "output_type": "stream",
     "text": [
      "Overall accuracy: 0.873\n",
      "\n"
     ]
    },
    {
     "name": "stderr",
     "output_type": "stream",
     "text": [
      "\u001b[32m[I 2023-05-11 01:54:30,562]\u001b[0m Trial 47 finished with value: 0.8699797450743704 and parameters: {'C': 108.48967571831652}. Best is trial 41 with value: 0.8969417679095097.\u001b[0m\n"
     ]
    },
    {
     "name": "stdout",
     "output_type": "stream",
     "text": [
      "Overall accuracy: 0.870\n",
      "\n"
     ]
    },
    {
     "name": "stderr",
     "output_type": "stream",
     "text": [
      "\u001b[32m[I 2023-05-11 01:54:33,754]\u001b[0m Trial 48 finished with value: 0.8950116513633835 and parameters: {'C': 2.6958588875165193}. Best is trial 41 with value: 0.8969417679095097.\u001b[0m\n"
     ]
    },
    {
     "name": "stdout",
     "output_type": "stream",
     "text": [
      "Overall accuracy: 0.895\n",
      "\n"
     ]
    },
    {
     "name": "stderr",
     "output_type": "stream",
     "text": [
      "\u001b[32m[I 2023-05-11 01:54:40,427]\u001b[0m Trial 49 finished with value: 0.34252683802363776 and parameters: {'C': 0.008153482583810287}. Best is trial 41 with value: 0.8969417679095097.\u001b[0m\n"
     ]
    },
    {
     "name": "stdout",
     "output_type": "stream",
     "text": [
      "Overall accuracy: 0.519\n",
      "\n"
     ]
    },
    {
     "name": "stderr",
     "output_type": "stream",
     "text": [
      "\u001b[32m[I 2023-05-11 01:54:43,426]\u001b[0m Trial 50 finished with value: 0.880956486572319 and parameters: {'C': 16.64905183618938}. Best is trial 41 with value: 0.8969417679095097.\u001b[0m\n"
     ]
    },
    {
     "name": "stdout",
     "output_type": "stream",
     "text": [
      "Overall accuracy: 0.881\n",
      "\n"
     ]
    },
    {
     "name": "stderr",
     "output_type": "stream",
     "text": [
      "\u001b[32m[I 2023-05-11 01:54:46,458]\u001b[0m Trial 51 finished with value: 0.8917821236376202 and parameters: {'C': 1.3635441393139676}. Best is trial 41 with value: 0.8969417679095097.\u001b[0m\n"
     ]
    },
    {
     "name": "stdout",
     "output_type": "stream",
     "text": [
      "Overall accuracy: 0.892\n",
      "\n"
     ]
    },
    {
     "name": "stderr",
     "output_type": "stream",
     "text": [
      "\u001b[32m[I 2023-05-11 01:54:49,500]\u001b[0m Trial 52 finished with value: 0.8906749675774783 and parameters: {'C': 3.5767983264412053}. Best is trial 41 with value: 0.8969417679095097.\u001b[0m\n"
     ]
    },
    {
     "name": "stdout",
     "output_type": "stream",
     "text": [
      "Overall accuracy: 0.891\n",
      "\n"
     ]
    },
    {
     "name": "stderr",
     "output_type": "stream",
     "text": [
      "\u001b[32m[I 2023-05-11 01:54:53,249]\u001b[0m Trial 53 finished with value: 0.8741687587794017 and parameters: {'C': 0.21979613480268825}. Best is trial 41 with value: 0.8969417679095097.\u001b[0m\n"
     ]
    },
    {
     "name": "stdout",
     "output_type": "stream",
     "text": [
      "Overall accuracy: 0.875\n",
      "\n"
     ]
    },
    {
     "name": "stderr",
     "output_type": "stream",
     "text": [
      "\u001b[32m[I 2023-05-11 01:54:57,095]\u001b[0m Trial 54 finished with value: 0.856649131145824 and parameters: {'C': 538.1043806965514}. Best is trial 41 with value: 0.8969417679095097.\u001b[0m\n"
     ]
    },
    {
     "name": "stdout",
     "output_type": "stream",
     "text": [
      "Overall accuracy: 0.857\n",
      "\n"
     ]
    },
    {
     "name": "stderr",
     "output_type": "stream",
     "text": [
      "\u001b[32m[I 2023-05-11 01:55:00,313]\u001b[0m Trial 55 finished with value: 0.881753142240457 and parameters: {'C': 29.594470608797174}. Best is trial 41 with value: 0.8969417679095097.\u001b[0m\n"
     ]
    },
    {
     "name": "stdout",
     "output_type": "stream",
     "text": [
      "Overall accuracy: 0.882\n",
      "\n"
     ]
    },
    {
     "name": "stderr",
     "output_type": "stream",
     "text": [
      "\u001b[32m[I 2023-05-11 01:55:07,133]\u001b[0m Trial 56 finished with value: 0.3416213416213416 and parameters: {'C': 0.0011833266541533443}. Best is trial 41 with value: 0.8969417679095097.\u001b[0m\n"
     ]
    },
    {
     "name": "stdout",
     "output_type": "stream",
     "text": [
      "Overall accuracy: 0.519\n",
      "\n"
     ]
    },
    {
     "name": "stderr",
     "output_type": "stream",
     "text": [
      "\u001b[32m[I 2023-05-11 01:55:13,127]\u001b[0m Trial 57 finished with value: 0.840766425895313 and parameters: {'C': 0.02918299079305945}. Best is trial 41 with value: 0.8969417679095097.\u001b[0m\n"
     ]
    },
    {
     "name": "stdout",
     "output_type": "stream",
     "text": [
      "Overall accuracy: 0.843\n",
      "\n"
     ]
    },
    {
     "name": "stderr",
     "output_type": "stream",
     "text": [
      "\u001b[32m[I 2023-05-11 01:55:16,111]\u001b[0m Trial 58 finished with value: 0.8965518741084255 and parameters: {'C': 2.1411438296088896}. Best is trial 41 with value: 0.8969417679095097.\u001b[0m\n"
     ]
    },
    {
     "name": "stdout",
     "output_type": "stream",
     "text": [
      "Overall accuracy: 0.897\n",
      "\n"
     ]
    },
    {
     "name": "stderr",
     "output_type": "stream",
     "text": [
      "\u001b[32m[I 2023-05-11 01:55:19,963]\u001b[0m Trial 59 finished with value: 0.8741687587794017 and parameters: {'C': 0.22036625796688059}. Best is trial 41 with value: 0.8969417679095097.\u001b[0m\n"
     ]
    },
    {
     "name": "stdout",
     "output_type": "stream",
     "text": [
      "Overall accuracy: 0.875\n",
      "\n"
     ]
    },
    {
     "name": "stderr",
     "output_type": "stream",
     "text": [
      "\u001b[32m[I 2023-05-11 01:55:22,954]\u001b[0m Trial 60 finished with value: 0.895362331402376 and parameters: {'C': 2.3143268543900284}. Best is trial 41 with value: 0.8969417679095097.\u001b[0m\n"
     ]
    },
    {
     "name": "stdout",
     "output_type": "stream",
     "text": [
      "Overall accuracy: 0.896\n",
      "\n"
     ]
    },
    {
     "name": "stderr",
     "output_type": "stream",
     "text": [
      "\u001b[32m[I 2023-05-11 01:55:25,815]\u001b[0m Trial 61 finished with value: 0.8950116513633835 and parameters: {'C': 2.736183718901221}. Best is trial 41 with value: 0.8969417679095097.\u001b[0m\n"
     ]
    },
    {
     "name": "stdout",
     "output_type": "stream",
     "text": [
      "Overall accuracy: 0.895\n",
      "\n"
     ]
    },
    {
     "name": "stderr",
     "output_type": "stream",
     "text": [
      "\u001b[32m[I 2023-05-11 01:55:28,972]\u001b[0m Trial 62 finished with value: 0.8858171786054283 and parameters: {'C': 0.745961440102412}. Best is trial 41 with value: 0.8969417679095097.\u001b[0m\n"
     ]
    },
    {
     "name": "stdout",
     "output_type": "stream",
     "text": [
      "Overall accuracy: 0.886\n",
      "\n"
     ]
    },
    {
     "name": "stderr",
     "output_type": "stream",
     "text": [
      "\u001b[32m[I 2023-05-11 01:55:32,489]\u001b[0m Trial 63 finished with value: 0.879794718756914 and parameters: {'C': 41.09636642216534}. Best is trial 41 with value: 0.8969417679095097.\u001b[0m\n"
     ]
    },
    {
     "name": "stdout",
     "output_type": "stream",
     "text": [
      "Overall accuracy: 0.880\n",
      "\n"
     ]
    },
    {
     "name": "stderr",
     "output_type": "stream",
     "text": [
      "\u001b[32m[I 2023-05-11 01:55:35,495]\u001b[0m Trial 64 finished with value: 0.8910842026825634 and parameters: {'C': 4.922020877692496}. Best is trial 41 with value: 0.8969417679095097.\u001b[0m\n"
     ]
    },
    {
     "name": "stdout",
     "output_type": "stream",
     "text": [
      "Overall accuracy: 0.891\n",
      "\n"
     ]
    },
    {
     "name": "stderr",
     "output_type": "stream",
     "text": [
      "\u001b[32m[I 2023-05-11 01:55:40,215]\u001b[0m Trial 65 finished with value: 0.8590628192669009 and parameters: {'C': 0.08278237865149583}. Best is trial 41 with value: 0.8969417679095097.\u001b[0m\n"
     ]
    },
    {
     "name": "stdout",
     "output_type": "stream",
     "text": [
      "Overall accuracy: 0.860\n",
      "\n"
     ]
    },
    {
     "name": "stderr",
     "output_type": "stream",
     "text": [
      "\u001b[32m[I 2023-05-11 01:55:44,280]\u001b[0m Trial 66 finished with value: 0.8581934824043512 and parameters: {'C': 4626.68660063261}. Best is trial 41 with value: 0.8969417679095097.\u001b[0m\n"
     ]
    },
    {
     "name": "stdout",
     "output_type": "stream",
     "text": [
      "Overall accuracy: 0.858\n",
      "\n"
     ]
    },
    {
     "name": "stderr",
     "output_type": "stream",
     "text": [
      "\u001b[32m[I 2023-05-11 01:55:47,656]\u001b[0m Trial 67 finished with value: 0.8802606691029322 and parameters: {'C': 0.5177796458270609}. Best is trial 41 with value: 0.8969417679095097.\u001b[0m\n"
     ]
    },
    {
     "name": "stdout",
     "output_type": "stream",
     "text": [
      "Overall accuracy: 0.881\n",
      "\n"
     ]
    },
    {
     "name": "stderr",
     "output_type": "stream",
     "text": [
      "\u001b[32m[I 2023-05-11 01:55:51,598]\u001b[0m Trial 68 finished with value: 0.8652838082841336 and parameters: {'C': 205.34834792780734}. Best is trial 41 with value: 0.8969417679095097.\u001b[0m\n"
     ]
    },
    {
     "name": "stdout",
     "output_type": "stream",
     "text": [
      "Overall accuracy: 0.865\n",
      "\n"
     ]
    },
    {
     "name": "stderr",
     "output_type": "stream",
     "text": [
      "\u001b[32m[I 2023-05-11 01:55:58,376]\u001b[0m Trial 69 finished with value: 0.8158839101872732 and parameters: {'C': 0.01815628856903547}. Best is trial 41 with value: 0.8969417679095097.\u001b[0m\n"
     ]
    },
    {
     "name": "stdout",
     "output_type": "stream",
     "text": [
      "Overall accuracy: 0.820\n",
      "\n"
     ]
    },
    {
     "name": "stderr",
     "output_type": "stream",
     "text": [
      "\u001b[32m[I 2023-05-11 01:56:01,385]\u001b[0m Trial 70 finished with value: 0.880956486572319 and parameters: {'C': 15.526062419329175}. Best is trial 41 with value: 0.8969417679095097.\u001b[0m\n"
     ]
    },
    {
     "name": "stdout",
     "output_type": "stream",
     "text": [
      "Overall accuracy: 0.881\n",
      "\n"
     ]
    },
    {
     "name": "stderr",
     "output_type": "stream",
     "text": [
      "\u001b[32m[I 2023-05-11 01:56:04,457]\u001b[0m Trial 71 finished with value: 0.8930525832070004 and parameters: {'C': 2.9912681433001485}. Best is trial 41 with value: 0.8969417679095097.\u001b[0m\n"
     ]
    },
    {
     "name": "stdout",
     "output_type": "stream",
     "text": [
      "Overall accuracy: 0.893\n",
      "\n"
     ]
    },
    {
     "name": "stderr",
     "output_type": "stream",
     "text": [
      "\u001b[32m[I 2023-05-11 01:56:07,510]\u001b[0m Trial 72 finished with value: 0.8898856171628753 and parameters: {'C': 3.825463540203513}. Best is trial 41 with value: 0.8969417679095097.\u001b[0m\n"
     ]
    },
    {
     "name": "stdout",
     "output_type": "stream",
     "text": [
      "Overall accuracy: 0.890\n",
      "\n"
     ]
    },
    {
     "name": "stderr",
     "output_type": "stream",
     "text": [
      "\u001b[32m[I 2023-05-11 01:56:10,770]\u001b[0m Trial 73 finished with value: 0.8878325661061465 and parameters: {'C': 0.9880942381029318}. Best is trial 41 with value: 0.8969417679095097.\u001b[0m\n"
     ]
    },
    {
     "name": "stdout",
     "output_type": "stream",
     "text": [
      "Overall accuracy: 0.888\n",
      "\n"
     ]
    },
    {
     "name": "stderr",
     "output_type": "stream",
     "text": [
      "\u001b[32m[I 2023-05-11 01:56:15,508]\u001b[0m Trial 74 finished with value: 0.8622642684537007 and parameters: {'C': 0.11217048146898494}. Best is trial 41 with value: 0.8969417679095097.\u001b[0m\n"
     ]
    },
    {
     "name": "stdout",
     "output_type": "stream",
     "text": [
      "Overall accuracy: 0.863\n",
      "\n"
     ]
    },
    {
     "name": "stderr",
     "output_type": "stream",
     "text": [
      "\u001b[32m[I 2023-05-11 01:56:19,058]\u001b[0m Trial 75 finished with value: 0.880184766214178 and parameters: {'C': 48.54299321473667}. Best is trial 41 with value: 0.8969417679095097.\u001b[0m\n"
     ]
    },
    {
     "name": "stdout",
     "output_type": "stream",
     "text": [
      "Overall accuracy: 0.880\n",
      "\n"
     ]
    },
    {
     "name": "stderr",
     "output_type": "stream",
     "text": [
      "\u001b[32m[I 2023-05-11 01:56:22,263]\u001b[0m Trial 76 finished with value: 0.8969317776674799 and parameters: {'C': 1.8754305046274142}. Best is trial 41 with value: 0.8969417679095097.\u001b[0m\n"
     ]
    },
    {
     "name": "stdout",
     "output_type": "stream",
     "text": [
      "Overall accuracy: 0.897\n",
      "\n"
     ]
    },
    {
     "name": "stderr",
     "output_type": "stream",
     "text": [
      "\u001b[32m[I 2023-05-11 01:56:25,381]\u001b[0m Trial 77 finished with value: 0.880956486572319 and parameters: {'C': 17.940729375299846}. Best is trial 41 with value: 0.8969417679095097.\u001b[0m\n"
     ]
    },
    {
     "name": "stdout",
     "output_type": "stream",
     "text": [
      "Overall accuracy: 0.881\n",
      "\n"
     ]
    },
    {
     "name": "stderr",
     "output_type": "stream",
     "text": [
      "\u001b[32m[I 2023-05-11 01:56:29,024]\u001b[0m Trial 78 finished with value: 0.8754219927720392 and parameters: {'C': 0.27934761409561387}. Best is trial 41 with value: 0.8969417679095097.\u001b[0m\n"
     ]
    },
    {
     "name": "stdout",
     "output_type": "stream",
     "text": [
      "Overall accuracy: 0.876\n",
      "\n"
     ]
    },
    {
     "name": "stderr",
     "output_type": "stream",
     "text": [
      "\u001b[32m[I 2023-05-11 01:56:32,026]\u001b[0m Trial 79 finished with value: 0.8969417679095097 and parameters: {'C': 2.017907011875418}. Best is trial 41 with value: 0.8969417679095097.\u001b[0m\n"
     ]
    },
    {
     "name": "stdout",
     "output_type": "stream",
     "text": [
      "Overall accuracy: 0.897\n",
      "\n"
     ]
    },
    {
     "name": "stderr",
     "output_type": "stream",
     "text": [
      "\u001b[32m[I 2023-05-11 01:56:35,232]\u001b[0m Trial 80 finished with value: 0.893762167941716 and parameters: {'C': 1.5669751601240791}. Best is trial 41 with value: 0.8969417679095097.\u001b[0m\n"
     ]
    },
    {
     "name": "stdout",
     "output_type": "stream",
     "text": [
      "Overall accuracy: 0.894\n",
      "\n"
     ]
    },
    {
     "name": "stderr",
     "output_type": "stream",
     "text": [
      "\u001b[32m[I 2023-05-11 01:56:38,535]\u001b[0m Trial 81 finished with value: 0.8886113321068072 and parameters: {'C': 0.9400097138952498}. Best is trial 41 with value: 0.8969417679095097.\u001b[0m\n"
     ]
    },
    {
     "name": "stdout",
     "output_type": "stream",
     "text": [
      "Overall accuracy: 0.889\n",
      "\n"
     ]
    },
    {
     "name": "stderr",
     "output_type": "stream",
     "text": [
      "\u001b[32m[I 2023-05-11 01:56:41,449]\u001b[0m Trial 82 finished with value: 0.8840932777488275 and parameters: {'C': 10.566563180606455}. Best is trial 41 with value: 0.8969417679095097.\u001b[0m\n"
     ]
    },
    {
     "name": "stdout",
     "output_type": "stream",
     "text": [
      "Overall accuracy: 0.884\n",
      "\n"
     ]
    },
    {
     "name": "stderr",
     "output_type": "stream",
     "text": [
      "\u001b[32m[I 2023-05-11 01:56:46,807]\u001b[0m Trial 83 finished with value: 0.8512499916125749 and parameters: {'C': 0.05133994046944286}. Best is trial 41 with value: 0.8969417679095097.\u001b[0m\n"
     ]
    },
    {
     "name": "stdout",
     "output_type": "stream",
     "text": [
      "Overall accuracy: 0.852\n",
      "\n"
     ]
    },
    {
     "name": "stderr",
     "output_type": "stream",
     "text": [
      "\u001b[32m[I 2023-05-11 01:56:49,869]\u001b[0m Trial 84 finished with value: 0.8969417679095097 and parameters: {'C': 2.0259158738687137}. Best is trial 41 with value: 0.8969417679095097.\u001b[0m\n"
     ]
    },
    {
     "name": "stdout",
     "output_type": "stream",
     "text": [
      "Overall accuracy: 0.897\n",
      "\n"
     ]
    },
    {
     "name": "stderr",
     "output_type": "stream",
     "text": [
      "\u001b[32m[I 2023-05-11 01:56:53,749]\u001b[0m Trial 85 finished with value: 0.864878154842463 and parameters: {'C': 124.22385069399857}. Best is trial 41 with value: 0.8969417679095097.\u001b[0m\n"
     ]
    },
    {
     "name": "stdout",
     "output_type": "stream",
     "text": [
      "Overall accuracy: 0.865\n",
      "\n"
     ]
    },
    {
     "name": "stderr",
     "output_type": "stream",
     "text": [
      "\u001b[32m[I 2023-05-11 01:56:57,498]\u001b[0m Trial 86 finished with value: 0.8733925819857118 and parameters: {'C': 0.22729292022839145}. Best is trial 41 with value: 0.8969417679095097.\u001b[0m\n"
     ]
    },
    {
     "name": "stdout",
     "output_type": "stream",
     "text": [
      "Overall accuracy: 0.874\n",
      "\n"
     ]
    },
    {
     "name": "stderr",
     "output_type": "stream",
     "text": [
      "\u001b[32m[I 2023-05-11 01:57:04,022]\u001b[0m Trial 87 finished with value: 0.766030863230456 and parameters: {'C': 0.014690593573791877}. Best is trial 41 with value: 0.8969417679095097.\u001b[0m\n"
     ]
    },
    {
     "name": "stdout",
     "output_type": "stream",
     "text": [
      "Overall accuracy: 0.778\n",
      "\n"
     ]
    },
    {
     "name": "stderr",
     "output_type": "stream",
     "text": [
      "\u001b[32m[I 2023-05-11 01:57:06,977]\u001b[0m Trial 88 finished with value: 0.8848732598314598 and parameters: {'C': 10.115674656799687}. Best is trial 41 with value: 0.8969417679095097.\u001b[0m\n"
     ]
    },
    {
     "name": "stdout",
     "output_type": "stream",
     "text": [
      "Overall accuracy: 0.885\n",
      "\n"
     ]
    },
    {
     "name": "stderr",
     "output_type": "stream",
     "text": [
      "\u001b[32m[I 2023-05-11 01:57:10,643]\u001b[0m Trial 89 finished with value: 0.880184766214178 and parameters: {'C': 48.30280712505312}. Best is trial 41 with value: 0.8969417679095097.\u001b[0m\n"
     ]
    },
    {
     "name": "stdout",
     "output_type": "stream",
     "text": [
      "Overall accuracy: 0.880\n",
      "\n"
     ]
    },
    {
     "name": "stderr",
     "output_type": "stream",
     "text": [
      "\u001b[32m[I 2023-05-11 01:57:13,789]\u001b[0m Trial 90 finished with value: 0.8946217196504935 and parameters: {'C': 2.794489210045965}. Best is trial 41 with value: 0.8969417679095097.\u001b[0m\n"
     ]
    },
    {
     "name": "stdout",
     "output_type": "stream",
     "text": [
      "Overall accuracy: 0.895\n",
      "\n"
     ]
    },
    {
     "name": "stderr",
     "output_type": "stream",
     "text": [
      "\u001b[32m[I 2023-05-11 01:57:16,800]\u001b[0m Trial 91 finished with value: 0.896152049655943 and parameters: {'C': 2.1764591095906534}. Best is trial 41 with value: 0.8969417679095097.\u001b[0m\n"
     ]
    },
    {
     "name": "stdout",
     "output_type": "stream",
     "text": [
      "Overall accuracy: 0.897\n",
      "\n"
     ]
    },
    {
     "name": "stderr",
     "output_type": "stream",
     "text": [
      "\u001b[32m[I 2023-05-11 01:57:19,865]\u001b[0m Trial 92 finished with value: 0.8949725134077908 and parameters: {'C': 2.3775469194782106}. Best is trial 41 with value: 0.8969417679095097.\u001b[0m\n"
     ]
    },
    {
     "name": "stdout",
     "output_type": "stream",
     "text": [
      "Overall accuracy: 0.895\n",
      "\n"
     ]
    },
    {
     "name": "stderr",
     "output_type": "stream",
     "text": [
      "\u001b[32m[I 2023-05-11 01:57:23,495]\u001b[0m Trial 93 finished with value: 0.8769896970418382 and parameters: {'C': 0.3162524410180051}. Best is trial 41 with value: 0.8969417679095097.\u001b[0m\n"
     ]
    },
    {
     "name": "stdout",
     "output_type": "stream",
     "text": [
      "Overall accuracy: 0.878\n",
      "\n"
     ]
    },
    {
     "name": "stderr",
     "output_type": "stream",
     "text": [
      "\u001b[32m[I 2023-05-11 01:57:27,008]\u001b[0m Trial 94 finished with value: 0.8782651852883812 and parameters: {'C': 0.49862459607538173}. Best is trial 41 with value: 0.8969417679095097.\u001b[0m\n"
     ]
    },
    {
     "name": "stdout",
     "output_type": "stream",
     "text": [
      "Overall accuracy: 0.879\n",
      "\n"
     ]
    },
    {
     "name": "stderr",
     "output_type": "stream",
     "text": [
      "\u001b[32m[I 2023-05-11 01:57:29,844]\u001b[0m Trial 95 finished with value: 0.886043183769517 and parameters: {'C': 9.04777092815478}. Best is trial 41 with value: 0.8969417679095097.\u001b[0m\n"
     ]
    },
    {
     "name": "stdout",
     "output_type": "stream",
     "text": [
      "Overall accuracy: 0.886\n",
      "\n"
     ]
    },
    {
     "name": "stderr",
     "output_type": "stream",
     "text": [
      "\u001b[32m[I 2023-05-11 01:57:34,480]\u001b[0m Trial 96 finished with value: 0.8602592627141621 and parameters: {'C': 0.09440617829301595}. Best is trial 41 with value: 0.8969417679095097.\u001b[0m\n"
     ]
    },
    {
     "name": "stdout",
     "output_type": "stream",
     "text": [
      "Overall accuracy: 0.861\n",
      "\n"
     ]
    },
    {
     "name": "stderr",
     "output_type": "stream",
     "text": [
      "\u001b[32m[I 2023-05-11 01:57:37,671]\u001b[0m Trial 97 finished with value: 0.8882219469928025 and parameters: {'C': 1.0333066940699294}. Best is trial 41 with value: 0.8969417679095097.\u001b[0m\n"
     ]
    },
    {
     "name": "stdout",
     "output_type": "stream",
     "text": [
      "Overall accuracy: 0.889\n",
      "\n"
     ]
    },
    {
     "name": "stderr",
     "output_type": "stream",
     "text": [
      "\u001b[32m[I 2023-05-11 01:57:40,909]\u001b[0m Trial 98 finished with value: 0.8805318279176619 and parameters: {'C': 22.508254034355332}. Best is trial 41 with value: 0.8969417679095097.\u001b[0m\n"
     ]
    },
    {
     "name": "stdout",
     "output_type": "stream",
     "text": [
      "Overall accuracy: 0.881\n",
      "\n"
     ]
    },
    {
     "name": "stderr",
     "output_type": "stream",
     "text": [
      "\u001b[32m[I 2023-05-11 01:57:43,940]\u001b[0m Trial 99 finished with value: 0.8961214560392476 and parameters: {'C': 1.7959179855171965}. Best is trial 41 with value: 0.8969417679095097.\u001b[0m\n",
      "\u001b[32m[I 2023-05-11 01:57:44,078]\u001b[0m A new study created in memory with name: no-name-8a364b19-b180-497f-ad60-78fd839167cb\u001b[0m\n"
     ]
    },
    {
     "name": "stdout",
     "output_type": "stream",
     "text": [
      "Overall accuracy: 0.897\n",
      "\n",
      "Accuracy: 0.8969417679095097\n",
      "Best hyperparameters: {'C': 2.030823118492046}\n",
      "\n",
      "\n",
      "\n",
      "Model :- SVC, DataType :- RSpolar\n"
     ]
    },
    {
     "name": "stderr",
     "output_type": "stream",
     "text": [
      "\u001b[32m[I 2023-05-11 01:57:51,342]\u001b[0m Trial 0 finished with value: 0.3416213416213416 and parameters: {'C': 0.0002283248209148206}. Best is trial 0 with value: 0.3416213416213416.\u001b[0m\n"
     ]
    },
    {
     "name": "stdout",
     "output_type": "stream",
     "text": [
      "Overall accuracy: 0.519\n",
      "\n"
     ]
    },
    {
     "name": "stderr",
     "output_type": "stream",
     "text": [
      "\u001b[32m[I 2023-05-11 01:57:55,519]\u001b[0m Trial 1 finished with value: 0.8687682694566079 and parameters: {'C': 917464.1672485045}. Best is trial 1 with value: 0.8687682694566079.\u001b[0m\n"
     ]
    },
    {
     "name": "stdout",
     "output_type": "stream",
     "text": [
      "Overall accuracy: 0.869\n",
      "\n"
     ]
    },
    {
     "name": "stderr",
     "output_type": "stream",
     "text": [
      "\u001b[32m[I 2023-05-11 01:57:59,050]\u001b[0m Trial 2 finished with value: 0.8966089170392451 and parameters: {'C': 4.208500735049939}. Best is trial 2 with value: 0.8966089170392451.\u001b[0m\n"
     ]
    },
    {
     "name": "stdout",
     "output_type": "stream",
     "text": [
      "Overall accuracy: 0.897\n",
      "\n"
     ]
    },
    {
     "name": "stderr",
     "output_type": "stream",
     "text": [
      "\u001b[32m[I 2023-05-11 01:58:06,566]\u001b[0m Trial 3 finished with value: 0.3416213416213416 and parameters: {'C': 5.612321690754579e-08}. Best is trial 2 with value: 0.8966089170392451.\u001b[0m\n"
     ]
    },
    {
     "name": "stdout",
     "output_type": "stream",
     "text": [
      "Overall accuracy: 0.519\n",
      "\n"
     ]
    },
    {
     "name": "stderr",
     "output_type": "stream",
     "text": [
      "\u001b[32m[I 2023-05-11 01:58:10,466]\u001b[0m Trial 4 finished with value: 0.8687682694566079 and parameters: {'C': 4939.994897008173}. Best is trial 2 with value: 0.8966089170392451.\u001b[0m\n"
     ]
    },
    {
     "name": "stdout",
     "output_type": "stream",
     "text": [
      "Overall accuracy: 0.869\n",
      "\n"
     ]
    },
    {
     "name": "stderr",
     "output_type": "stream",
     "text": [
      "\u001b[32m[I 2023-05-11 01:58:13,781]\u001b[0m Trial 5 finished with value: 0.8969417679095097 and parameters: {'C': 2.3037000277740476}. Best is trial 5 with value: 0.8969417679095097.\u001b[0m\n"
     ]
    },
    {
     "name": "stdout",
     "output_type": "stream",
     "text": [
      "Overall accuracy: 0.897\n",
      "\n"
     ]
    },
    {
     "name": "stderr",
     "output_type": "stream",
     "text": [
      "\u001b[32m[I 2023-05-11 01:58:20,936]\u001b[0m Trial 6 finished with value: 0.3416213416213416 and parameters: {'C': 3.40818772199952e-09}. Best is trial 5 with value: 0.8969417679095097.\u001b[0m\n"
     ]
    },
    {
     "name": "stdout",
     "output_type": "stream",
     "text": [
      "Overall accuracy: 0.519\n",
      "\n"
     ]
    },
    {
     "name": "stderr",
     "output_type": "stream",
     "text": [
      "\u001b[32m[I 2023-05-11 01:58:24,977]\u001b[0m Trial 7 finished with value: 0.8687682694566079 and parameters: {'C': 542453818.2770756}. Best is trial 5 with value: 0.8969417679095097.\u001b[0m\n"
     ]
    },
    {
     "name": "stdout",
     "output_type": "stream",
     "text": [
      "Overall accuracy: 0.869\n",
      "\n"
     ]
    },
    {
     "name": "stderr",
     "output_type": "stream",
     "text": [
      "\u001b[32m[I 2023-05-11 01:58:32,213]\u001b[0m Trial 8 finished with value: 0.3416213416213416 and parameters: {'C': 8.670101973634118e-09}. Best is trial 5 with value: 0.8969417679095097.\u001b[0m\n"
     ]
    },
    {
     "name": "stdout",
     "output_type": "stream",
     "text": [
      "Overall accuracy: 0.519\n",
      "\n"
     ]
    },
    {
     "name": "stderr",
     "output_type": "stream",
     "text": [
      "\u001b[32m[I 2023-05-11 01:58:36,275]\u001b[0m Trial 9 finished with value: 0.8687682694566079 and parameters: {'C': 545862.9191634522}. Best is trial 5 with value: 0.8969417679095097.\u001b[0m\n"
     ]
    },
    {
     "name": "stdout",
     "output_type": "stream",
     "text": [
      "Overall accuracy: 0.869\n",
      "\n"
     ]
    },
    {
     "name": "stderr",
     "output_type": "stream",
     "text": [
      "\u001b[32m[I 2023-05-11 01:58:40,892]\u001b[0m Trial 10 finished with value: 0.8745568585523167 and parameters: {'C': 0.186678924097977}. Best is trial 5 with value: 0.8969417679095097.\u001b[0m\n"
     ]
    },
    {
     "name": "stdout",
     "output_type": "stream",
     "text": [
      "Overall accuracy: 0.875\n",
      "\n"
     ]
    },
    {
     "name": "stderr",
     "output_type": "stream",
     "text": [
      "\u001b[32m[I 2023-05-11 01:58:44,372]\u001b[0m Trial 11 finished with value: 0.8938960243167811 and parameters: {'C': 7.745040656288373}. Best is trial 5 with value: 0.8969417679095097.\u001b[0m\n"
     ]
    },
    {
     "name": "stdout",
     "output_type": "stream",
     "text": [
      "Overall accuracy: 0.894\n",
      "\n"
     ]
    },
    {
     "name": "stderr",
     "output_type": "stream",
     "text": [
      "\u001b[32m[I 2023-05-11 01:58:48,361]\u001b[0m Trial 12 finished with value: 0.8845114986880691 and parameters: {'C': 0.35474041523177274}. Best is trial 5 with value: 0.8969417679095097.\u001b[0m\n"
     ]
    },
    {
     "name": "stdout",
     "output_type": "stream",
     "text": [
      "Overall accuracy: 0.885\n",
      "\n"
     ]
    },
    {
     "name": "stderr",
     "output_type": "stream",
     "text": [
      "\u001b[32m[I 2023-05-11 01:58:56,102]\u001b[0m Trial 13 finished with value: 0.3416213416213416 and parameters: {'C': 0.000728279825166421}. Best is trial 5 with value: 0.8969417679095097.\u001b[0m\n"
     ]
    },
    {
     "name": "stdout",
     "output_type": "stream",
     "text": [
      "Overall accuracy: 0.519\n",
      "\n"
     ]
    },
    {
     "name": "stderr",
     "output_type": "stream",
     "text": [
      "\u001b[32m[I 2023-05-11 01:59:00,058]\u001b[0m Trial 14 finished with value: 0.8711412754414649 and parameters: {'C': 189.0105588064821}. Best is trial 5 with value: 0.8969417679095097.\u001b[0m\n"
     ]
    },
    {
     "name": "stdout",
     "output_type": "stream",
     "text": [
      "Overall accuracy: 0.871\n",
      "\n"
     ]
    },
    {
     "name": "stderr",
     "output_type": "stream",
     "text": [
      "\u001b[32m[I 2023-05-11 01:59:07,629]\u001b[0m Trial 15 finished with value: 0.3416213416213416 and parameters: {'C': 0.0021531229314871248}. Best is trial 5 with value: 0.8969417679095097.\u001b[0m\n"
     ]
    },
    {
     "name": "stdout",
     "output_type": "stream",
     "text": [
      "Overall accuracy: 0.519\n",
      "\n"
     ]
    },
    {
     "name": "stderr",
     "output_type": "stream",
     "text": [
      "\u001b[32m[I 2023-05-11 01:59:11,742]\u001b[0m Trial 16 finished with value: 0.8687594798231223 and parameters: {'C': 284.5875129415638}. Best is trial 5 with value: 0.8969417679095097.\u001b[0m\n"
     ]
    },
    {
     "name": "stdout",
     "output_type": "stream",
     "text": [
      "Overall accuracy: 0.869\n",
      "\n"
     ]
    },
    {
     "name": "stderr",
     "output_type": "stream",
     "text": [
      "\u001b[32m[I 2023-05-11 01:59:19,867]\u001b[0m Trial 17 finished with value: 0.3416213416213416 and parameters: {'C': 9.024439912993633e-06}. Best is trial 5 with value: 0.8969417679095097.\u001b[0m\n"
     ]
    },
    {
     "name": "stdout",
     "output_type": "stream",
     "text": [
      "Overall accuracy: 0.519\n",
      "\n"
     ]
    },
    {
     "name": "stderr",
     "output_type": "stream",
     "text": [
      "\u001b[32m[I 2023-05-11 01:59:25,921]\u001b[0m Trial 18 finished with value: 0.8628594915242609 and parameters: {'C': 0.06968435187925673}. Best is trial 5 with value: 0.8969417679095097.\u001b[0m\n"
     ]
    },
    {
     "name": "stdout",
     "output_type": "stream",
     "text": [
      "Overall accuracy: 0.864\n",
      "\n"
     ]
    },
    {
     "name": "stderr",
     "output_type": "stream",
     "text": [
      "\u001b[32m[I 2023-05-11 01:59:29,402]\u001b[0m Trial 19 finished with value: 0.8939213070025328 and parameters: {'C': 10.569528598585514}. Best is trial 5 with value: 0.8969417679095097.\u001b[0m\n"
     ]
    },
    {
     "name": "stdout",
     "output_type": "stream",
     "text": [
      "Overall accuracy: 0.894\n",
      "\n"
     ]
    },
    {
     "name": "stderr",
     "output_type": "stream",
     "text": [
      "\u001b[32m[I 2023-05-11 01:59:37,062]\u001b[0m Trial 20 finished with value: 0.3416213416213416 and parameters: {'C': 1.6735693571975377e-06}. Best is trial 5 with value: 0.8969417679095097.\u001b[0m\n"
     ]
    },
    {
     "name": "stdout",
     "output_type": "stream",
     "text": [
      "Overall accuracy: 0.519\n",
      "\n"
     ]
    },
    {
     "name": "stderr",
     "output_type": "stream",
     "text": [
      "\u001b[32m[I 2023-05-11 01:59:40,594]\u001b[0m Trial 21 finished with value: 0.8943032063276332 and parameters: {'C': 8.71234354214185}. Best is trial 5 with value: 0.8969417679095097.\u001b[0m\n"
     ]
    },
    {
     "name": "stdout",
     "output_type": "stream",
     "text": [
      "Overall accuracy: 0.895\n",
      "\n"
     ]
    },
    {
     "name": "stderr",
     "output_type": "stream",
     "text": [
      "\u001b[32m[I 2023-05-11 01:59:47,922]\u001b[0m Trial 22 finished with value: 0.8195653442051296 and parameters: {'C': 0.021302357523745482}. Best is trial 5 with value: 0.8969417679095097.\u001b[0m\n"
     ]
    },
    {
     "name": "stdout",
     "output_type": "stream",
     "text": [
      "Overall accuracy: 0.823\n",
      "\n"
     ]
    },
    {
     "name": "stderr",
     "output_type": "stream",
     "text": [
      "\u001b[32m[I 2023-05-11 01:59:51,505]\u001b[0m Trial 23 finished with value: 0.8942861487755147 and parameters: {'C': 7.729273273787499}. Best is trial 5 with value: 0.8969417679095097.\u001b[0m\n"
     ]
    },
    {
     "name": "stdout",
     "output_type": "stream",
     "text": [
      "Overall accuracy: 0.895\n",
      "\n"
     ]
    },
    {
     "name": "stderr",
     "output_type": "stream",
     "text": [
      "\u001b[32m[I 2023-05-11 01:59:58,927]\u001b[0m Trial 24 finished with value: 0.6845741901776384 and parameters: {'C': 0.014538457585751334}. Best is trial 5 with value: 0.8969417679095097.\u001b[0m\n"
     ]
    },
    {
     "name": "stdout",
     "output_type": "stream",
     "text": [
      "Overall accuracy: 0.716\n",
      "\n"
     ]
    },
    {
     "name": "stderr",
     "output_type": "stream",
     "text": [
      "\u001b[32m[I 2023-05-11 02:00:02,586]\u001b[0m Trial 25 finished with value: 0.8928833601637284 and parameters: {'C': 0.6905758532665666}. Best is trial 5 with value: 0.8969417679095097.\u001b[0m\n"
     ]
    },
    {
     "name": "stdout",
     "output_type": "stream",
     "text": [
      "Overall accuracy: 0.893\n",
      "\n"
     ]
    },
    {
     "name": "stderr",
     "output_type": "stream",
     "text": [
      "\u001b[32m[I 2023-05-11 02:00:06,387]\u001b[0m Trial 26 finished with value: 0.8687682694566079 and parameters: {'C': 5950.490940265853}. Best is trial 5 with value: 0.8969417679095097.\u001b[0m\n"
     ]
    },
    {
     "name": "stdout",
     "output_type": "stream",
     "text": [
      "Overall accuracy: 0.869\n",
      "\n"
     ]
    },
    {
     "name": "stderr",
     "output_type": "stream",
     "text": [
      "\u001b[32m[I 2023-05-11 02:00:13,700]\u001b[0m Trial 27 finished with value: 0.3416213416213416 and parameters: {'C': 0.0001359989820310564}. Best is trial 5 with value: 0.8969417679095097.\u001b[0m\n"
     ]
    },
    {
     "name": "stdout",
     "output_type": "stream",
     "text": [
      "Overall accuracy: 0.519\n",
      "\n"
     ]
    },
    {
     "name": "stderr",
     "output_type": "stream",
     "text": [
      "\u001b[32m[I 2023-05-11 02:00:17,124]\u001b[0m Trial 28 finished with value: 0.8969114069438923 and parameters: {'C': 1.7973082986557039}. Best is trial 5 with value: 0.8969417679095097.\u001b[0m\n"
     ]
    },
    {
     "name": "stdout",
     "output_type": "stream",
     "text": [
      "Overall accuracy: 0.897\n",
      "\n"
     ]
    },
    {
     "name": "stderr",
     "output_type": "stream",
     "text": [
      "\u001b[32m[I 2023-05-11 02:00:24,480]\u001b[0m Trial 29 finished with value: 0.3416213416213416 and parameters: {'C': 0.003257118980654355}. Best is trial 5 with value: 0.8969417679095097.\u001b[0m\n"
     ]
    },
    {
     "name": "stdout",
     "output_type": "stream",
     "text": [
      "Overall accuracy: 0.519\n",
      "\n"
     ]
    },
    {
     "name": "stderr",
     "output_type": "stream",
     "text": [
      "\u001b[32m[I 2023-05-11 02:00:31,855]\u001b[0m Trial 30 finished with value: 0.3416213416213416 and parameters: {'C': 0.00011027585865280948}. Best is trial 5 with value: 0.8969417679095097.\u001b[0m\n"
     ]
    },
    {
     "name": "stdout",
     "output_type": "stream",
     "text": [
      "Overall accuracy: 0.519\n",
      "\n"
     ]
    },
    {
     "name": "stderr",
     "output_type": "stream",
     "text": [
      "\u001b[32m[I 2023-05-11 02:00:35,239]\u001b[0m Trial 31 finished with value: 0.8973316672435017 and parameters: {'C': 2.546360540569957}. Best is trial 31 with value: 0.8973316672435017.\u001b[0m\n"
     ]
    },
    {
     "name": "stdout",
     "output_type": "stream",
     "text": [
      "Overall accuracy: 0.898\n",
      "\n"
     ]
    },
    {
     "name": "stderr",
     "output_type": "stream",
     "text": [
      "\u001b[32m[I 2023-05-11 02:00:42,542]\u001b[0m Trial 32 finished with value: 0.3416213416213416 and parameters: {'C': 1.3245953636801306e-10}. Best is trial 31 with value: 0.8973316672435017.\u001b[0m\n"
     ]
    },
    {
     "name": "stdout",
     "output_type": "stream",
     "text": [
      "Overall accuracy: 0.519\n",
      "\n"
     ]
    },
    {
     "name": "stderr",
     "output_type": "stream",
     "text": [
      "\u001b[32m[I 2023-05-11 02:00:47,972]\u001b[0m Trial 33 finished with value: 0.8665249421049869 and parameters: {'C': 0.09751277010795634}. Best is trial 31 with value: 0.8973316672435017.\u001b[0m\n"
     ]
    },
    {
     "name": "stdout",
     "output_type": "stream",
     "text": [
      "Overall accuracy: 0.867\n",
      "\n"
     ]
    },
    {
     "name": "stderr",
     "output_type": "stream",
     "text": [
      "\u001b[32m[I 2023-05-11 02:00:51,465]\u001b[0m Trial 34 finished with value: 0.8925054958039109 and parameters: {'C': 0.8780387897845718}. Best is trial 31 with value: 0.8973316672435017.\u001b[0m\n"
     ]
    },
    {
     "name": "stdout",
     "output_type": "stream",
     "text": [
      "Overall accuracy: 0.893\n",
      "\n"
     ]
    },
    {
     "name": "stderr",
     "output_type": "stream",
     "text": [
      "\u001b[32m[I 2023-05-11 02:00:55,450]\u001b[0m Trial 35 finished with value: 0.868369792716392 and parameters: {'C': 334.31520071945465}. Best is trial 31 with value: 0.8973316672435017.\u001b[0m\n"
     ]
    },
    {
     "name": "stdout",
     "output_type": "stream",
     "text": [
      "Overall accuracy: 0.869\n",
      "\n"
     ]
    },
    {
     "name": "stderr",
     "output_type": "stream",
     "text": [
      "\u001b[32m[I 2023-05-11 02:01:02,860]\u001b[0m Trial 36 finished with value: 0.3416213416213416 and parameters: {'C': 0.007334383799405135}. Best is trial 31 with value: 0.8973316672435017.\u001b[0m\n"
     ]
    },
    {
     "name": "stdout",
     "output_type": "stream",
     "text": [
      "Overall accuracy: 0.519\n",
      "\n"
     ]
    },
    {
     "name": "stderr",
     "output_type": "stream",
     "text": [
      "\u001b[32m[I 2023-05-11 02:01:06,717]\u001b[0m Trial 37 finished with value: 0.8770232679300753 and parameters: {'C': 70.15935832808405}. Best is trial 31 with value: 0.8973316672435017.\u001b[0m\n"
     ]
    },
    {
     "name": "stdout",
     "output_type": "stream",
     "text": [
      "Overall accuracy: 0.877\n",
      "\n"
     ]
    },
    {
     "name": "stderr",
     "output_type": "stream",
     "text": [
      "\u001b[32m[I 2023-05-11 02:01:10,633]\u001b[0m Trial 38 finished with value: 0.8687682694566079 and parameters: {'C': 4419.3252541142865}. Best is trial 31 with value: 0.8973316672435017.\u001b[0m\n"
     ]
    },
    {
     "name": "stdout",
     "output_type": "stream",
     "text": [
      "Overall accuracy: 0.869\n",
      "\n"
     ]
    },
    {
     "name": "stderr",
     "output_type": "stream",
     "text": [
      "\u001b[32m[I 2023-05-11 02:01:14,107]\u001b[0m Trial 39 finished with value: 0.8973012281835812 and parameters: {'C': 1.6962195805081381}. Best is trial 31 with value: 0.8973316672435017.\u001b[0m\n"
     ]
    },
    {
     "name": "stdout",
     "output_type": "stream",
     "text": [
      "Overall accuracy: 0.898\n",
      "\n"
     ]
    },
    {
     "name": "stderr",
     "output_type": "stream",
     "text": [
      "\u001b[32m[I 2023-05-11 02:01:18,126]\u001b[0m Trial 40 finished with value: 0.8820968419741941 and parameters: {'C': 0.3273667509562219}. Best is trial 31 with value: 0.8973316672435017.\u001b[0m\n"
     ]
    },
    {
     "name": "stdout",
     "output_type": "stream",
     "text": [
      "Overall accuracy: 0.883\n",
      "\n"
     ]
    },
    {
     "name": "stderr",
     "output_type": "stream",
     "text": [
      "\u001b[32m[I 2023-05-11 02:01:21,485]\u001b[0m Trial 41 finished with value: 0.897290822438005 and parameters: {'C': 1.4724181213227991}. Best is trial 31 with value: 0.8973316672435017.\u001b[0m\n"
     ]
    },
    {
     "name": "stdout",
     "output_type": "stream",
     "text": [
      "Overall accuracy: 0.898\n",
      "\n"
     ]
    },
    {
     "name": "stderr",
     "output_type": "stream",
     "text": [
      "\u001b[32m[I 2023-05-11 02:01:24,808]\u001b[0m Trial 42 finished with value: 0.8977314861630767 and parameters: {'C': 2.3487584245129884}. Best is trial 42 with value: 0.8977314861630767.\u001b[0m\n"
     ]
    },
    {
     "name": "stdout",
     "output_type": "stream",
     "text": [
      "Overall accuracy: 0.898\n",
      "\n"
     ]
    },
    {
     "name": "stderr",
     "output_type": "stream",
     "text": [
      "\u001b[32m[I 2023-05-11 02:01:28,634]\u001b[0m Trial 43 finished with value: 0.878209947742774 and parameters: {'C': 43.964929981269094}. Best is trial 42 with value: 0.8977314861630767.\u001b[0m\n"
     ]
    },
    {
     "name": "stdout",
     "output_type": "stream",
     "text": [
      "Overall accuracy: 0.878\n",
      "\n"
     ]
    },
    {
     "name": "stderr",
     "output_type": "stream",
     "text": [
      "\u001b[32m[I 2023-05-11 02:01:35,695]\u001b[0m Trial 44 finished with value: 0.8378516297761052 and parameters: {'C': 0.027863080958087642}. Best is trial 42 with value: 0.8977314861630767.\u001b[0m\n"
     ]
    },
    {
     "name": "stdout",
     "output_type": "stream",
     "text": [
      "Overall accuracy: 0.840\n",
      "\n"
     ]
    },
    {
     "name": "stderr",
     "output_type": "stream",
     "text": [
      "\u001b[32m[I 2023-05-11 02:01:39,375]\u001b[0m Trial 45 finished with value: 0.8925054958039109 and parameters: {'C': 0.8802117105296001}. Best is trial 42 with value: 0.8977314861630767.\u001b[0m\n"
     ]
    },
    {
     "name": "stdout",
     "output_type": "stream",
     "text": [
      "Overall accuracy: 0.893\n",
      "\n"
     ]
    },
    {
     "name": "stderr",
     "output_type": "stream",
     "text": [
      "\u001b[32m[I 2023-05-11 02:01:44,343]\u001b[0m Trial 46 finished with value: 0.8681599955144064 and parameters: {'C': 0.11968611469083468}. Best is trial 42 with value: 0.8977314861630767.\u001b[0m\n"
     ]
    },
    {
     "name": "stdout",
     "output_type": "stream",
     "text": [
      "Overall accuracy: 0.869\n",
      "\n"
     ]
    },
    {
     "name": "stderr",
     "output_type": "stream",
     "text": [
      "\u001b[32m[I 2023-05-11 02:01:47,684]\u001b[0m Trial 47 finished with value: 0.8962097025219229 and parameters: {'C': 4.342398943958206}. Best is trial 42 with value: 0.8977314861630767.\u001b[0m\n"
     ]
    },
    {
     "name": "stdout",
     "output_type": "stream",
     "text": [
      "Overall accuracy: 0.897\n",
      "\n"
     ]
    },
    {
     "name": "stderr",
     "output_type": "stream",
     "text": [
      "\u001b[32m[I 2023-05-11 02:01:51,445]\u001b[0m Trial 48 finished with value: 0.8865060348548212 and parameters: {'C': 27.716097158407635}. Best is trial 42 with value: 0.8977314861630767.\u001b[0m\n"
     ]
    },
    {
     "name": "stdout",
     "output_type": "stream",
     "text": [
      "Overall accuracy: 0.887\n",
      "\n"
     ]
    },
    {
     "name": "stderr",
     "output_type": "stream",
     "text": [
      "\u001b[32m[I 2023-05-11 02:01:55,605]\u001b[0m Trial 49 finished with value: 0.8683785265330217 and parameters: {'C': 666.7165552540224}. Best is trial 42 with value: 0.8977314861630767.\u001b[0m\n"
     ]
    },
    {
     "name": "stdout",
     "output_type": "stream",
     "text": [
      "Overall accuracy: 0.869\n",
      "\n"
     ]
    },
    {
     "name": "stderr",
     "output_type": "stream",
     "text": [
      "\u001b[32m[I 2023-05-11 02:01:58,895]\u001b[0m Trial 50 finished with value: 0.8977314861630767 and parameters: {'C': 2.317435631565745}. Best is trial 42 with value: 0.8977314861630767.\u001b[0m\n"
     ]
    },
    {
     "name": "stdout",
     "output_type": "stream",
     "text": [
      "Overall accuracy: 0.898\n",
      "\n"
     ]
    },
    {
     "name": "stderr",
     "output_type": "stream",
     "text": [
      "\u001b[32m[I 2023-05-11 02:02:02,226]\u001b[0m Trial 51 finished with value: 0.8981312348090602 and parameters: {'C': 3.0442343250998016}. Best is trial 51 with value: 0.8981312348090602.\u001b[0m\n"
     ]
    },
    {
     "name": "stdout",
     "output_type": "stream",
     "text": [
      "Overall accuracy: 0.899\n",
      "\n"
     ]
    },
    {
     "name": "stderr",
     "output_type": "stream",
     "text": [
      "\u001b[32m[I 2023-05-11 02:02:05,670]\u001b[0m Trial 52 finished with value: 0.8973316672435017 and parameters: {'C': 2.5614798294129515}. Best is trial 51 with value: 0.8981312348090602.\u001b[0m\n"
     ]
    },
    {
     "name": "stdout",
     "output_type": "stream",
     "text": [
      "Overall accuracy: 0.898\n",
      "\n"
     ]
    },
    {
     "name": "stderr",
     "output_type": "stream",
     "text": [
      "\u001b[32m[I 2023-05-11 02:02:09,394]\u001b[0m Trial 53 finished with value: 0.8892753313166402 and parameters: {'C': 24.085239025029725}. Best is trial 51 with value: 0.8981312348090602.\u001b[0m\n"
     ]
    },
    {
     "name": "stdout",
     "output_type": "stream",
     "text": [
      "Overall accuracy: 0.889\n",
      "\n"
     ]
    },
    {
     "name": "stderr",
     "output_type": "stream",
     "text": [
      "\u001b[32m[I 2023-05-11 02:02:14,574]\u001b[0m Trial 54 finished with value: 0.8681599955144064 and parameters: {'C': 0.11894182288438261}. Best is trial 51 with value: 0.8981312348090602.\u001b[0m\n"
     ]
    },
    {
     "name": "stdout",
     "output_type": "stream",
     "text": [
      "Overall accuracy: 0.869\n",
      "\n"
     ]
    },
    {
     "name": "stderr",
     "output_type": "stream",
     "text": [
      "\u001b[32m[I 2023-05-11 02:02:17,986]\u001b[0m Trial 55 finished with value: 0.8981312348090602 and parameters: {'C': 2.969511399038899}. Best is trial 51 with value: 0.8981312348090602.\u001b[0m\n"
     ]
    },
    {
     "name": "stdout",
     "output_type": "stream",
     "text": [
      "Overall accuracy: 0.899\n",
      "\n"
     ]
    },
    {
     "name": "stderr",
     "output_type": "stream",
     "text": [
      "\u001b[32m[I 2023-05-11 02:02:21,747]\u001b[0m Trial 56 finished with value: 0.8766072044757544 and parameters: {'C': 59.67392180613169}. Best is trial 51 with value: 0.8981312348090602.\u001b[0m\n"
     ]
    },
    {
     "name": "stdout",
     "output_type": "stream",
     "text": [
      "Overall accuracy: 0.877\n",
      "\n"
     ]
    },
    {
     "name": "stderr",
     "output_type": "stream",
     "text": [
      "\u001b[32m[I 2023-05-11 02:02:28,784]\u001b[0m Trial 57 finished with value: 0.838705659566808 and parameters: {'C': 0.028494848788190544}. Best is trial 51 with value: 0.8981312348090602.\u001b[0m\n"
     ]
    },
    {
     "name": "stdout",
     "output_type": "stream",
     "text": [
      "Overall accuracy: 0.841\n",
      "\n"
     ]
    },
    {
     "name": "stderr",
     "output_type": "stream",
     "text": [
      "\u001b[32m[I 2023-05-11 02:02:32,070]\u001b[0m Trial 58 finished with value: 0.8950211053266652 and parameters: {'C': 4.4812519312062395}. Best is trial 51 with value: 0.8981312348090602.\u001b[0m\n"
     ]
    },
    {
     "name": "stdout",
     "output_type": "stream",
     "text": [
      "Overall accuracy: 0.895\n",
      "\n"
     ]
    },
    {
     "name": "stderr",
     "output_type": "stream",
     "text": [
      "\u001b[32m[I 2023-05-11 02:02:39,345]\u001b[0m Trial 59 finished with value: 0.3416213416213416 and parameters: {'C': 0.0012309044091456086}. Best is trial 51 with value: 0.8981312348090602.\u001b[0m\n"
     ]
    },
    {
     "name": "stdout",
     "output_type": "stream",
     "text": [
      "Overall accuracy: 0.519\n",
      "\n"
     ]
    },
    {
     "name": "stderr",
     "output_type": "stream",
     "text": [
      "\u001b[32m[I 2023-05-11 02:02:43,268]\u001b[0m Trial 60 finished with value: 0.8877139325133869 and parameters: {'C': 0.45998085321448806}. Best is trial 51 with value: 0.8981312348090602.\u001b[0m\n"
     ]
    },
    {
     "name": "stdout",
     "output_type": "stream",
     "text": [
      "Overall accuracy: 0.888\n",
      "\n"
     ]
    },
    {
     "name": "stderr",
     "output_type": "stream",
     "text": [
      "\u001b[32m[I 2023-05-11 02:02:46,714]\u001b[0m Trial 61 finished with value: 0.8966089170392451 and parameters: {'C': 4.218417497311092}. Best is trial 51 with value: 0.8981312348090602.\u001b[0m\n"
     ]
    },
    {
     "name": "stdout",
     "output_type": "stream",
     "text": [
      "Overall accuracy: 0.897\n",
      "\n"
     ]
    },
    {
     "name": "stderr",
     "output_type": "stream",
     "text": [
      "\u001b[32m[I 2023-05-11 02:02:50,916]\u001b[0m Trial 62 finished with value: 0.87894605133415 and parameters: {'C': 0.2746824736725502}. Best is trial 51 with value: 0.8981312348090602.\u001b[0m\n"
     ]
    },
    {
     "name": "stdout",
     "output_type": "stream",
     "text": [
      "Overall accuracy: 0.880\n",
      "\n"
     ]
    },
    {
     "name": "stderr",
     "output_type": "stream",
     "text": [
      "\u001b[32m[I 2023-05-11 02:02:54,427]\u001b[0m Trial 63 finished with value: 0.892750601841511 and parameters: {'C': 11.70874866604147}. Best is trial 51 with value: 0.8981312348090602.\u001b[0m\n"
     ]
    },
    {
     "name": "stdout",
     "output_type": "stream",
     "text": [
      "Overall accuracy: 0.893\n",
      "\n"
     ]
    },
    {
     "name": "stderr",
     "output_type": "stream",
     "text": [
      "\u001b[32m[I 2023-05-11 02:02:57,845]\u001b[0m Trial 64 finished with value: 0.8973012281835812 and parameters: {'C': 1.701847702046686}. Best is trial 51 with value: 0.8981312348090602.\u001b[0m\n"
     ]
    },
    {
     "name": "stdout",
     "output_type": "stream",
     "text": [
      "Overall accuracy: 0.898\n",
      "\n"
     ]
    },
    {
     "name": "stderr",
     "output_type": "stream",
     "text": [
      "\u001b[32m[I 2023-05-11 02:03:01,708]\u001b[0m Trial 65 finished with value: 0.8711412754414649 and parameters: {'C': 189.69772342850672}. Best is trial 51 with value: 0.8981312348090602.\u001b[0m\n"
     ]
    },
    {
     "name": "stdout",
     "output_type": "stream",
     "text": [
      "Overall accuracy: 0.871\n",
      "\n"
     ]
    },
    {
     "name": "stderr",
     "output_type": "stream",
     "text": [
      "\u001b[32m[I 2023-05-11 02:03:09,020]\u001b[0m Trial 66 finished with value: 0.4053515465703695 and parameters: {'C': 0.010907972654113082}. Best is trial 51 with value: 0.8981312348090602.\u001b[0m\n"
     ]
    },
    {
     "name": "stdout",
     "output_type": "stream",
     "text": [
      "Overall accuracy: 0.548\n",
      "\n"
     ]
    },
    {
     "name": "stderr",
     "output_type": "stream",
     "text": [
      "\u001b[32m[I 2023-05-11 02:03:12,935]\u001b[0m Trial 67 finished with value: 0.8920159377373995 and parameters: {'C': 15.313732268675501}. Best is trial 51 with value: 0.8981312348090602.\u001b[0m\n"
     ]
    },
    {
     "name": "stdout",
     "output_type": "stream",
     "text": [
      "Overall accuracy: 0.892\n",
      "\n"
     ]
    },
    {
     "name": "stderr",
     "output_type": "stream",
     "text": [
      "\u001b[32m[I 2023-05-11 02:03:16,972]\u001b[0m Trial 68 finished with value: 0.8687682694566079 and parameters: {'C': 1279.1043502889393}. Best is trial 51 with value: 0.8981312348090602.\u001b[0m\n"
     ]
    },
    {
     "name": "stdout",
     "output_type": "stream",
     "text": [
      "Overall accuracy: 0.869\n",
      "\n"
     ]
    },
    {
     "name": "stderr",
     "output_type": "stream",
     "text": [
      "\u001b[32m[I 2023-05-11 02:03:23,668]\u001b[0m Trial 69 finished with value: 0.848642307896073 and parameters: {'C': 0.03932160497630814}. Best is trial 51 with value: 0.8981312348090602.\u001b[0m\n"
     ]
    },
    {
     "name": "stdout",
     "output_type": "stream",
     "text": [
      "Overall accuracy: 0.850\n",
      "\n"
     ]
    },
    {
     "name": "stderr",
     "output_type": "stream",
     "text": [
      "\u001b[32m[I 2023-05-11 02:03:27,622]\u001b[0m Trial 70 finished with value: 0.8723021850440581 and parameters: {'C': 94.80833292481596}. Best is trial 51 with value: 0.8981312348090602.\u001b[0m\n"
     ]
    },
    {
     "name": "stdout",
     "output_type": "stream",
     "text": [
      "Overall accuracy: 0.873\n",
      "\n"
     ]
    },
    {
     "name": "stderr",
     "output_type": "stream",
     "text": [
      "\u001b[32m[I 2023-05-11 02:03:30,917]\u001b[0m Trial 71 finished with value: 0.8973316672435017 and parameters: {'C': 2.1193569814598283}. Best is trial 51 with value: 0.8981312348090602.\u001b[0m\n"
     ]
    },
    {
     "name": "stdout",
     "output_type": "stream",
     "text": [
      "Overall accuracy: 0.898\n",
      "\n"
     ]
    },
    {
     "name": "stderr",
     "output_type": "stream",
     "text": [
      "\u001b[32m[I 2023-05-11 02:03:35,040]\u001b[0m Trial 72 finished with value: 0.8805425104490525 and parameters: {'C': 0.29146055553665445}. Best is trial 51 with value: 0.8981312348090602.\u001b[0m\n"
     ]
    },
    {
     "name": "stdout",
     "output_type": "stream",
     "text": [
      "Overall accuracy: 0.881\n",
      "\n"
     ]
    },
    {
     "name": "stderr",
     "output_type": "stream",
     "text": [
      "\u001b[32m[I 2023-05-11 02:03:38,459]\u001b[0m Trial 73 finished with value: 0.8977115297282693 and parameters: {'C': 1.9248359754561903}. Best is trial 51 with value: 0.8981312348090602.\u001b[0m\n"
     ]
    },
    {
     "name": "stdout",
     "output_type": "stream",
     "text": [
      "Overall accuracy: 0.898\n",
      "\n"
     ]
    },
    {
     "name": "stderr",
     "output_type": "stream",
     "text": [
      "\u001b[32m[I 2023-05-11 02:03:41,820]\u001b[0m Trial 74 finished with value: 0.8958377827998112 and parameters: {'C': 5.663604703254518}. Best is trial 51 with value: 0.8981312348090602.\u001b[0m\n"
     ]
    },
    {
     "name": "stdout",
     "output_type": "stream",
     "text": [
      "Overall accuracy: 0.896\n",
      "\n"
     ]
    },
    {
     "name": "stderr",
     "output_type": "stream",
     "text": [
      "\u001b[32m[I 2023-05-11 02:03:45,511]\u001b[0m Trial 75 finished with value: 0.8888777277386208 and parameters: {'C': 24.90820515830218}. Best is trial 51 with value: 0.8981312348090602.\u001b[0m\n"
     ]
    },
    {
     "name": "stdout",
     "output_type": "stream",
     "text": [
      "Overall accuracy: 0.889\n",
      "\n"
     ]
    },
    {
     "name": "stderr",
     "output_type": "stream",
     "text": [
      "\u001b[32m[I 2023-05-11 02:03:50,761]\u001b[0m Trial 76 finished with value: 0.866963814541347 and parameters: {'C': 0.10742523604022564}. Best is trial 51 with value: 0.8981312348090602.\u001b[0m\n"
     ]
    },
    {
     "name": "stdout",
     "output_type": "stream",
     "text": [
      "Overall accuracy: 0.868\n",
      "\n"
     ]
    },
    {
     "name": "stderr",
     "output_type": "stream",
     "text": [
      "\u001b[32m[I 2023-05-11 02:03:54,256]\u001b[0m Trial 77 finished with value: 0.8921045082779642 and parameters: {'C': 0.886112764452652}. Best is trial 51 with value: 0.8981312348090602.\u001b[0m\n"
     ]
    },
    {
     "name": "stdout",
     "output_type": "stream",
     "text": [
      "Overall accuracy: 0.893\n",
      "\n"
     ]
    },
    {
     "name": "stderr",
     "output_type": "stream",
     "text": [
      "\u001b[32m[I 2023-05-11 02:03:58,538]\u001b[0m Trial 78 finished with value: 0.8711153815918677 and parameters: {'C': 107.53081996561995}. Best is trial 51 with value: 0.8981312348090602.\u001b[0m\n"
     ]
    },
    {
     "name": "stdout",
     "output_type": "stream",
     "text": [
      "Overall accuracy: 0.871\n",
      "\n"
     ]
    },
    {
     "name": "stderr",
     "output_type": "stream",
     "text": [
      "\u001b[32m[I 2023-05-11 02:04:02,031]\u001b[0m Trial 79 finished with value: 0.8977314861630767 and parameters: {'C': 2.3253517447876635}. Best is trial 51 with value: 0.8981312348090602.\u001b[0m\n"
     ]
    },
    {
     "name": "stdout",
     "output_type": "stream",
     "text": [
      "Overall accuracy: 0.898\n",
      "\n"
     ]
    },
    {
     "name": "stderr",
     "output_type": "stream",
     "text": [
      "\u001b[32m[I 2023-05-11 02:04:08,124]\u001b[0m Trial 80 finished with value: 0.8579830647602817 and parameters: {'C': 0.058690943591277495}. Best is trial 51 with value: 0.8981312348090602.\u001b[0m\n"
     ]
    },
    {
     "name": "stdout",
     "output_type": "stream",
     "text": [
      "Overall accuracy: 0.859\n",
      "\n"
     ]
    },
    {
     "name": "stderr",
     "output_type": "stream",
     "text": [
      "\u001b[32m[I 2023-05-11 02:04:11,548]\u001b[0m Trial 81 finished with value: 0.896511237631147 and parameters: {'C': 1.745877225702024}. Best is trial 51 with value: 0.8981312348090602.\u001b[0m\n"
     ]
    },
    {
     "name": "stdout",
     "output_type": "stream",
     "text": [
      "Overall accuracy: 0.897\n",
      "\n"
     ]
    },
    {
     "name": "stderr",
     "output_type": "stream",
     "text": [
      "\u001b[32m[I 2023-05-11 02:04:15,016]\u001b[0m Trial 82 finished with value: 0.8931408401437338 and parameters: {'C': 11.207929784128698}. Best is trial 51 with value: 0.8981312348090602.\u001b[0m\n"
     ]
    },
    {
     "name": "stdout",
     "output_type": "stream",
     "text": [
      "Overall accuracy: 0.893\n",
      "\n"
     ]
    },
    {
     "name": "stderr",
     "output_type": "stream",
     "text": [
      "\u001b[32m[I 2023-05-11 02:04:19,074]\u001b[0m Trial 83 finished with value: 0.8801399243671416 and parameters: {'C': 0.3085505165505317}. Best is trial 51 with value: 0.8981312348090602.\u001b[0m\n"
     ]
    },
    {
     "name": "stdout",
     "output_type": "stream",
     "text": [
      "Overall accuracy: 0.881\n",
      "\n"
     ]
    },
    {
     "name": "stderr",
     "output_type": "stream",
     "text": [
      "\u001b[32m[I 2023-05-11 02:04:22,470]\u001b[0m Trial 84 finished with value: 0.8938695435895884 and parameters: {'C': 5.140759912280552}. Best is trial 51 with value: 0.8981312348090602.\u001b[0m\n"
     ]
    },
    {
     "name": "stdout",
     "output_type": "stream",
     "text": [
      "Overall accuracy: 0.894\n",
      "\n"
     ]
    },
    {
     "name": "stderr",
     "output_type": "stream",
     "text": [
      "\u001b[32m[I 2023-05-11 02:04:26,233]\u001b[0m Trial 85 finished with value: 0.8916916558281816 and parameters: {'C': 0.6080959257458676}. Best is trial 51 with value: 0.8981312348090602.\u001b[0m\n"
     ]
    },
    {
     "name": "stdout",
     "output_type": "stream",
     "text": [
      "Overall accuracy: 0.892\n",
      "\n"
     ]
    },
    {
     "name": "stderr",
     "output_type": "stream",
     "text": [
      "\u001b[32m[I 2023-05-11 02:04:29,906]\u001b[0m Trial 86 finished with value: 0.8876919373113685 and parameters: {'C': 26.430281649278086}. Best is trial 51 with value: 0.8981312348090602.\u001b[0m\n"
     ]
    },
    {
     "name": "stdout",
     "output_type": "stream",
     "text": [
      "Overall accuracy: 0.888\n",
      "\n"
     ]
    },
    {
     "name": "stderr",
     "output_type": "stream",
     "text": [
      "\u001b[32m[I 2023-05-11 02:04:33,335]\u001b[0m Trial 87 finished with value: 0.8969613585293159 and parameters: {'C': 3.6309024909362977}. Best is trial 51 with value: 0.8981312348090602.\u001b[0m\n"
     ]
    },
    {
     "name": "stdout",
     "output_type": "stream",
     "text": [
      "Overall accuracy: 0.897\n",
      "\n"
     ]
    },
    {
     "name": "stderr",
     "output_type": "stream",
     "text": [
      "\u001b[32m[I 2023-05-11 02:04:41,014]\u001b[0m Trial 88 finished with value: 0.3416213416213416 and parameters: {'C': 0.0074370779217661125}. Best is trial 51 with value: 0.8981312348090602.\u001b[0m\n"
     ]
    },
    {
     "name": "stdout",
     "output_type": "stream",
     "text": [
      "Overall accuracy: 0.519\n",
      "\n"
     ]
    },
    {
     "name": "stderr",
     "output_type": "stream",
     "text": [
      "\u001b[32m[I 2023-05-11 02:04:46,135]\u001b[0m Trial 89 finished with value: 0.8685969457661742 and parameters: {'C': 0.12728214561685558}. Best is trial 51 with value: 0.8981312348090602.\u001b[0m\n"
     ]
    },
    {
     "name": "stdout",
     "output_type": "stream",
     "text": [
      "Overall accuracy: 0.869\n",
      "\n"
     ]
    },
    {
     "name": "stderr",
     "output_type": "stream",
     "text": [
      "\u001b[32m[I 2023-05-11 02:04:49,523]\u001b[0m Trial 90 finished with value: 0.8973012281835812 and parameters: {'C': 1.6898442603768424}. Best is trial 51 with value: 0.8981312348090602.\u001b[0m\n"
     ]
    },
    {
     "name": "stdout",
     "output_type": "stream",
     "text": [
      "Overall accuracy: 0.898\n",
      "\n"
     ]
    },
    {
     "name": "stderr",
     "output_type": "stream",
     "text": [
      "\u001b[32m[I 2023-05-11 02:04:53,036]\u001b[0m Trial 91 finished with value: 0.8925054958039109 and parameters: {'C': 0.9100966587719049}. Best is trial 51 with value: 0.8981312348090602.\u001b[0m\n"
     ]
    },
    {
     "name": "stdout",
     "output_type": "stream",
     "text": [
      "Overall accuracy: 0.893\n",
      "\n"
     ]
    },
    {
     "name": "stderr",
     "output_type": "stream",
     "text": [
      "\u001b[32m[I 2023-05-11 02:04:56,876]\u001b[0m Trial 92 finished with value: 0.8770058750295426 and parameters: {'C': 51.12513117677128}. Best is trial 51 with value: 0.8981312348090602.\u001b[0m\n"
     ]
    },
    {
     "name": "stdout",
     "output_type": "stream",
     "text": [
      "Overall accuracy: 0.877\n",
      "\n"
     ]
    },
    {
     "name": "stderr",
     "output_type": "stream",
     "text": [
      "\u001b[32m[I 2023-05-11 02:05:00,270]\u001b[0m Trial 93 finished with value: 0.8977215724746257 and parameters: {'C': 1.9986612889019568}. Best is trial 51 with value: 0.8981312348090602.\u001b[0m\n"
     ]
    },
    {
     "name": "stdout",
     "output_type": "stream",
     "text": [
      "Overall accuracy: 0.898\n",
      "\n"
     ]
    },
    {
     "name": "stderr",
     "output_type": "stream",
     "text": [
      "\u001b[32m[I 2023-05-11 02:05:04,487]\u001b[0m Trial 94 finished with value: 0.8781548490552882 and parameters: {'C': 0.27031144046779876}. Best is trial 51 with value: 0.8981312348090602.\u001b[0m\n"
     ]
    },
    {
     "name": "stdout",
     "output_type": "stream",
     "text": [
      "Overall accuracy: 0.879\n",
      "\n"
     ]
    },
    {
     "name": "stderr",
     "output_type": "stream",
     "text": [
      "\u001b[32m[I 2023-05-11 02:05:07,965]\u001b[0m Trial 95 finished with value: 0.8943032063276332 and parameters: {'C': 9.138984210219387}. Best is trial 51 with value: 0.8981312348090602.\u001b[0m\n"
     ]
    },
    {
     "name": "stdout",
     "output_type": "stream",
     "text": [
      "Overall accuracy: 0.895\n",
      "\n"
     ]
    },
    {
     "name": "stderr",
     "output_type": "stream",
     "text": [
      "\u001b[32m[I 2023-05-11 02:05:11,460]\u001b[0m Trial 96 finished with value: 0.8973316672435017 and parameters: {'C': 2.4494555788241574}. Best is trial 51 with value: 0.8981312348090602.\u001b[0m\n"
     ]
    },
    {
     "name": "stdout",
     "output_type": "stream",
     "text": [
      "Overall accuracy: 0.898\n",
      "\n"
     ]
    },
    {
     "name": "stderr",
     "output_type": "stream",
     "text": [
      "\u001b[32m[I 2023-05-11 02:05:15,177]\u001b[0m Trial 97 finished with value: 0.8908299576907054 and parameters: {'C': 18.577836257432924}. Best is trial 51 with value: 0.8981312348090602.\u001b[0m\n"
     ]
    },
    {
     "name": "stdout",
     "output_type": "stream",
     "text": [
      "Overall accuracy: 0.891\n",
      "\n"
     ]
    },
    {
     "name": "stderr",
     "output_type": "stream",
     "text": [
      "\u001b[32m[I 2023-05-11 02:05:21,531]\u001b[0m Trial 98 finished with value: 0.8531798288747481 and parameters: {'C': 0.04896252966379794}. Best is trial 51 with value: 0.8981312348090602.\u001b[0m\n"
     ]
    },
    {
     "name": "stdout",
     "output_type": "stream",
     "text": [
      "Overall accuracy: 0.854\n",
      "\n"
     ]
    },
    {
     "name": "stderr",
     "output_type": "stream",
     "text": [
      "\u001b[32m[I 2023-05-11 02:05:25,392]\u001b[0m Trial 99 finished with value: 0.8873122317721737 and parameters: {'C': 0.44039759940385975}. Best is trial 51 with value: 0.8981312348090602.\u001b[0m\n",
      "\u001b[32m[I 2023-05-11 02:05:25,576]\u001b[0m A new study created in memory with name: no-name-6fa4d45c-15f5-469e-9389-a55f92392155\u001b[0m\n"
     ]
    },
    {
     "name": "stdout",
     "output_type": "stream",
     "text": [
      "Overall accuracy: 0.888\n",
      "\n",
      "Accuracy: 0.8981312348090602\n",
      "Best hyperparameters: {'C': 3.0442343250998016}\n",
      "\n",
      "\n",
      "\n",
      "Model :- SVC, DataType :- RSsecond\n"
     ]
    },
    {
     "name": "stderr",
     "output_type": "stream",
     "text": [
      "\u001b[32m[I 2023-05-11 02:05:32,293]\u001b[0m Trial 0 finished with value: 0.3416213416213416 and parameters: {'C': 0.0007472899363054351}. Best is trial 0 with value: 0.3416213416213416.\u001b[0m\n"
     ]
    },
    {
     "name": "stdout",
     "output_type": "stream",
     "text": [
      "Overall accuracy: 0.519\n",
      "\n"
     ]
    },
    {
     "name": "stderr",
     "output_type": "stream",
     "text": [
      "\u001b[32m[I 2023-05-11 02:05:36,195]\u001b[0m Trial 1 finished with value: 0.8480079557846734 and parameters: {'C': 10060.585157556474}. Best is trial 1 with value: 0.8480079557846734.\u001b[0m\n"
     ]
    },
    {
     "name": "stdout",
     "output_type": "stream",
     "text": [
      "Overall accuracy: 0.848\n",
      "\n"
     ]
    },
    {
     "name": "stderr",
     "output_type": "stream",
     "text": [
      "\u001b[32m[I 2023-05-11 02:05:40,111]\u001b[0m Trial 2 finished with value: 0.8480079557846734 and parameters: {'C': 35073.90326936535}. Best is trial 1 with value: 0.8480079557846734.\u001b[0m\n"
     ]
    },
    {
     "name": "stdout",
     "output_type": "stream",
     "text": [
      "Overall accuracy: 0.848\n",
      "\n"
     ]
    },
    {
     "name": "stderr",
     "output_type": "stream",
     "text": [
      "\u001b[32m[I 2023-05-11 02:05:44,152]\u001b[0m Trial 3 finished with value: 0.8480079557846734 and parameters: {'C': 25711.666810702114}. Best is trial 1 with value: 0.8480079557846734.\u001b[0m\n"
     ]
    },
    {
     "name": "stdout",
     "output_type": "stream",
     "text": [
      "Overall accuracy: 0.848\n",
      "\n"
     ]
    },
    {
     "name": "stderr",
     "output_type": "stream",
     "text": [
      "\u001b[32m[I 2023-05-11 02:05:47,236]\u001b[0m Trial 4 finished with value: 0.8930333198502209 and parameters: {'C': 0.7705044212475575}. Best is trial 4 with value: 0.8930333198502209.\u001b[0m\n"
     ]
    },
    {
     "name": "stdout",
     "output_type": "stream",
     "text": [
      "Overall accuracy: 0.893\n",
      "\n"
     ]
    },
    {
     "name": "stderr",
     "output_type": "stream",
     "text": [
      "\u001b[32m[I 2023-05-11 02:05:53,678]\u001b[0m Trial 5 finished with value: 0.3416213416213416 and parameters: {'C': 4.390116548892043e-09}. Best is trial 4 with value: 0.8930333198502209.\u001b[0m\n"
     ]
    },
    {
     "name": "stdout",
     "output_type": "stream",
     "text": [
      "Overall accuracy: 0.519\n",
      "\n"
     ]
    },
    {
     "name": "stderr",
     "output_type": "stream",
     "text": [
      "\u001b[32m[I 2023-05-11 02:05:56,502]\u001b[0m Trial 6 finished with value: 0.8903505178697332 and parameters: {'C': 10.32264429295826}. Best is trial 4 with value: 0.8930333198502209.\u001b[0m\n"
     ]
    },
    {
     "name": "stdout",
     "output_type": "stream",
     "text": [
      "Overall accuracy: 0.891\n",
      "\n"
     ]
    },
    {
     "name": "stderr",
     "output_type": "stream",
     "text": [
      "\u001b[32m[I 2023-05-11 02:05:59,671]\u001b[0m Trial 7 finished with value: 0.8934424753315775 and parameters: {'C': 0.9790203156889008}. Best is trial 7 with value: 0.8934424753315775.\u001b[0m\n"
     ]
    },
    {
     "name": "stdout",
     "output_type": "stream",
     "text": [
      "Overall accuracy: 0.894\n",
      "\n"
     ]
    },
    {
     "name": "stderr",
     "output_type": "stream",
     "text": [
      "\u001b[32m[I 2023-05-11 02:06:06,131]\u001b[0m Trial 8 finished with value: 0.3416213416213416 and parameters: {'C': 1.6093232109700455e-10}. Best is trial 7 with value: 0.8934424753315775.\u001b[0m\n"
     ]
    },
    {
     "name": "stdout",
     "output_type": "stream",
     "text": [
      "Overall accuracy: 0.519\n",
      "\n"
     ]
    },
    {
     "name": "stderr",
     "output_type": "stream",
     "text": [
      "\u001b[32m[I 2023-05-11 02:06:10,065]\u001b[0m Trial 9 finished with value: 0.8480079557846734 and parameters: {'C': 30459.7323492241}. Best is trial 7 with value: 0.8934424753315775.\u001b[0m\n"
     ]
    },
    {
     "name": "stdout",
     "output_type": "stream",
     "text": [
      "Overall accuracy: 0.848\n",
      "\n"
     ]
    },
    {
     "name": "stderr",
     "output_type": "stream",
     "text": [
      "\u001b[32m[I 2023-05-11 02:06:16,832]\u001b[0m Trial 10 finished with value: 0.3416213416213416 and parameters: {'C': 0.00011732026332367863}. Best is trial 7 with value: 0.8934424753315775.\u001b[0m\n"
     ]
    },
    {
     "name": "stdout",
     "output_type": "stream",
     "text": [
      "Overall accuracy: 0.519\n",
      "\n"
     ]
    },
    {
     "name": "stderr",
     "output_type": "stream",
     "text": [
      "\u001b[32m[I 2023-05-11 02:06:20,725]\u001b[0m Trial 11 finished with value: 0.8480079557846734 and parameters: {'C': 335512021.3120099}. Best is trial 7 with value: 0.8934424753315775.\u001b[0m\n"
     ]
    },
    {
     "name": "stdout",
     "output_type": "stream",
     "text": [
      "Overall accuracy: 0.848\n",
      "\n"
     ]
    },
    {
     "name": "stderr",
     "output_type": "stream",
     "text": [
      "\u001b[32m[I 2023-05-11 02:06:25,971]\u001b[0m Trial 12 finished with value: 0.8509189479292656 and parameters: {'C': 0.05706789343988364}. Best is trial 7 with value: 0.8934424753315775.\u001b[0m\n"
     ]
    },
    {
     "name": "stdout",
     "output_type": "stream",
     "text": [
      "Overall accuracy: 0.852\n",
      "\n"
     ]
    },
    {
     "name": "stderr",
     "output_type": "stream",
     "text": [
      "\u001b[32m[I 2023-05-11 02:06:29,279]\u001b[0m Trial 13 finished with value: 0.889834303627407 and parameters: {'C': 0.5567576258137027}. Best is trial 7 with value: 0.8934424753315775.\u001b[0m\n"
     ]
    },
    {
     "name": "stdout",
     "output_type": "stream",
     "text": [
      "Overall accuracy: 0.890\n",
      "\n"
     ]
    },
    {
     "name": "stderr",
     "output_type": "stream",
     "text": [
      "\u001b[32m[I 2023-05-11 02:06:35,848]\u001b[0m Trial 14 finished with value: 0.3416213416213416 and parameters: {'C': 0.00011937708402591033}. Best is trial 7 with value: 0.8934424753315775.\u001b[0m\n"
     ]
    },
    {
     "name": "stdout",
     "output_type": "stream",
     "text": [
      "Overall accuracy: 0.519\n",
      "\n"
     ]
    },
    {
     "name": "stderr",
     "output_type": "stream",
     "text": [
      "\u001b[32m[I 2023-05-11 02:06:42,349]\u001b[0m Trial 15 finished with value: 0.3416213416213416 and parameters: {'C': 1.591458312730563e-06}. Best is trial 7 with value: 0.8934424753315775.\u001b[0m\n"
     ]
    },
    {
     "name": "stdout",
     "output_type": "stream",
     "text": [
      "Overall accuracy: 0.519\n",
      "\n"
     ]
    },
    {
     "name": "stderr",
     "output_type": "stream",
     "text": [
      "\u001b[32m[I 2023-05-11 02:06:45,315]\u001b[0m Trial 16 finished with value: 0.8950576012048543 and parameters: {'C': 8.214271949072955}. Best is trial 16 with value: 0.8950576012048543.\u001b[0m\n"
     ]
    },
    {
     "name": "stdout",
     "output_type": "stream",
     "text": [
      "Overall accuracy: 0.895\n",
      "\n"
     ]
    },
    {
     "name": "stderr",
     "output_type": "stream",
     "text": [
      "\u001b[32m[I 2023-05-11 02:06:48,566]\u001b[0m Trial 17 finished with value: 0.8770058750295426 and parameters: {'C': 39.52995890926747}. Best is trial 16 with value: 0.8950576012048543.\u001b[0m\n"
     ]
    },
    {
     "name": "stdout",
     "output_type": "stream",
     "text": [
      "Overall accuracy: 0.877\n",
      "\n"
     ]
    },
    {
     "name": "stderr",
     "output_type": "stream",
     "text": [
      "\u001b[32m[I 2023-05-11 02:06:52,059]\u001b[0m Trial 18 finished with value: 0.8672258349900642 and parameters: {'C': 81.05541411129812}. Best is trial 16 with value: 0.8950576012048543.\u001b[0m\n"
     ]
    },
    {
     "name": "stdout",
     "output_type": "stream",
     "text": [
      "Overall accuracy: 0.867\n",
      "\n"
     ]
    },
    {
     "name": "stderr",
     "output_type": "stream",
     "text": [
      "\u001b[32m[I 2023-05-11 02:06:59,208]\u001b[0m Trial 19 finished with value: 0.5981812134164481 and parameters: {'C': 0.011070186008715635}. Best is trial 16 with value: 0.8950576012048543.\u001b[0m\n"
     ]
    },
    {
     "name": "stdout",
     "output_type": "stream",
     "text": [
      "Overall accuracy: 0.657\n",
      "\n"
     ]
    },
    {
     "name": "stderr",
     "output_type": "stream",
     "text": [
      "\u001b[32m[I 2023-05-11 02:07:05,569]\u001b[0m Trial 20 finished with value: 0.3416213416213416 and parameters: {'C': 6.313574962672253e-07}. Best is trial 16 with value: 0.8950576012048543.\u001b[0m\n"
     ]
    },
    {
     "name": "stdout",
     "output_type": "stream",
     "text": [
      "Overall accuracy: 0.519\n",
      "\n"
     ]
    },
    {
     "name": "stderr",
     "output_type": "stream",
     "text": [
      "\u001b[32m[I 2023-05-11 02:07:09,618]\u001b[0m Trial 21 finished with value: 0.8730779873644483 and parameters: {'C': 0.2011776587219647}. Best is trial 16 with value: 0.8950576012048543.\u001b[0m\n"
     ]
    },
    {
     "name": "stdout",
     "output_type": "stream",
     "text": [
      "Overall accuracy: 0.874\n",
      "\n"
     ]
    },
    {
     "name": "stderr",
     "output_type": "stream",
     "text": [
      "\u001b[32m[I 2023-05-11 02:07:12,550]\u001b[0m Trial 22 finished with value: 0.8950835890408239 and parameters: {'C': 3.5755577573603716}. Best is trial 22 with value: 0.8950835890408239.\u001b[0m\n"
     ]
    },
    {
     "name": "stdout",
     "output_type": "stream",
     "text": [
      "Overall accuracy: 0.895\n",
      "\n"
     ]
    },
    {
     "name": "stderr",
     "output_type": "stream",
     "text": [
      "\u001b[32m[I 2023-05-11 02:07:16,450]\u001b[0m Trial 23 finished with value: 0.8597691103776363 and parameters: {'C': 164.24977773329553}. Best is trial 22 with value: 0.8950835890408239.\u001b[0m\n"
     ]
    },
    {
     "name": "stdout",
     "output_type": "stream",
     "text": [
      "Overall accuracy: 0.860\n",
      "\n"
     ]
    },
    {
     "name": "stderr",
     "output_type": "stream",
     "text": [
      "\u001b[32m[I 2023-05-11 02:07:22,896]\u001b[0m Trial 24 finished with value: 0.7767628303721712 and parameters: {'C': 0.01421654700631148}. Best is trial 22 with value: 0.8950835890408239.\u001b[0m\n"
     ]
    },
    {
     "name": "stdout",
     "output_type": "stream",
     "text": [
      "Overall accuracy: 0.787\n",
      "\n"
     ]
    },
    {
     "name": "stderr",
     "output_type": "stream",
     "text": [
      "\u001b[32m[I 2023-05-11 02:07:25,813]\u001b[0m Trial 25 finished with value: 0.8950663955226474 and parameters: {'C': 3.7829744270025305}. Best is trial 22 with value: 0.8950835890408239.\u001b[0m\n"
     ]
    },
    {
     "name": "stdout",
     "output_type": "stream",
     "text": [
      "Overall accuracy: 0.895\n",
      "\n"
     ]
    },
    {
     "name": "stderr",
     "output_type": "stream",
     "text": [
      "\u001b[32m[I 2023-05-11 02:07:29,434]\u001b[0m Trial 26 finished with value: 0.8676318254432203 and parameters: {'C': 112.06775519050103}. Best is trial 22 with value: 0.8950835890408239.\u001b[0m\n"
     ]
    },
    {
     "name": "stdout",
     "output_type": "stream",
     "text": [
      "Overall accuracy: 0.868\n",
      "\n"
     ]
    },
    {
     "name": "stderr",
     "output_type": "stream",
     "text": [
      "\u001b[32m[I 2023-05-11 02:07:33,323]\u001b[0m Trial 27 finished with value: 0.8488296676237468 and parameters: {'C': 1184.7774772201653}. Best is trial 22 with value: 0.8950835890408239.\u001b[0m\n"
     ]
    },
    {
     "name": "stdout",
     "output_type": "stream",
     "text": [
      "Overall accuracy: 0.849\n",
      "\n"
     ]
    },
    {
     "name": "stderr",
     "output_type": "stream",
     "text": [
      "\u001b[32m[I 2023-05-11 02:07:36,170]\u001b[0m Trial 28 finished with value: 0.8962792649599303 and parameters: {'C': 5.755425405043069}. Best is trial 28 with value: 0.8962792649599303.\u001b[0m\n"
     ]
    },
    {
     "name": "stdout",
     "output_type": "stream",
     "text": [
      "Overall accuracy: 0.897\n",
      "\n"
     ]
    },
    {
     "name": "stderr",
     "output_type": "stream",
     "text": [
      "\u001b[32m[I 2023-05-11 02:07:42,938]\u001b[0m Trial 29 finished with value: 0.3416213416213416 and parameters: {'C': 0.0014550559946385504}. Best is trial 28 with value: 0.8962792649599303.\u001b[0m\n"
     ]
    },
    {
     "name": "stdout",
     "output_type": "stream",
     "text": [
      "Overall accuracy: 0.519\n",
      "\n"
     ]
    },
    {
     "name": "stderr",
     "output_type": "stream",
     "text": [
      "\u001b[32m[I 2023-05-11 02:07:45,778]\u001b[0m Trial 30 finished with value: 0.894701763286317 and parameters: {'C': 4.813920344658638}. Best is trial 28 with value: 0.8962792649599303.\u001b[0m\n"
     ]
    },
    {
     "name": "stdout",
     "output_type": "stream",
     "text": [
      "Overall accuracy: 0.895\n",
      "\n"
     ]
    },
    {
     "name": "stderr",
     "output_type": "stream",
     "text": [
      "\u001b[32m[I 2023-05-11 02:07:48,817]\u001b[0m Trial 31 finished with value: 0.896617968744664 and parameters: {'C': 1.836541280869399}. Best is trial 31 with value: 0.896617968744664.\u001b[0m\n"
     ]
    },
    {
     "name": "stdout",
     "output_type": "stream",
     "text": [
      "Overall accuracy: 0.897\n",
      "\n"
     ]
    },
    {
     "name": "stderr",
     "output_type": "stream",
     "text": [
      "\u001b[32m[I 2023-05-11 02:07:52,730]\u001b[0m Trial 32 finished with value: 0.8488296676237468 and parameters: {'C': 1174.9988230184501}. Best is trial 31 with value: 0.896617968744664.\u001b[0m\n"
     ]
    },
    {
     "name": "stdout",
     "output_type": "stream",
     "text": [
      "Overall accuracy: 0.849\n",
      "\n"
     ]
    },
    {
     "name": "stderr",
     "output_type": "stream",
     "text": [
      "\u001b[32m[I 2023-05-11 02:07:57,625]\u001b[0m Trial 33 finished with value: 0.8579875671544681 and parameters: {'C': 0.07736116274233963}. Best is trial 31 with value: 0.896617968744664.\u001b[0m\n"
     ]
    },
    {
     "name": "stdout",
     "output_type": "stream",
     "text": [
      "Overall accuracy: 0.859\n",
      "\n"
     ]
    },
    {
     "name": "stderr",
     "output_type": "stream",
     "text": [
      "\u001b[32m[I 2023-05-11 02:08:01,649]\u001b[0m Trial 34 finished with value: 0.8480079557846734 and parameters: {'C': 783896.2711589661}. Best is trial 31 with value: 0.896617968744664.\u001b[0m\n"
     ]
    },
    {
     "name": "stdout",
     "output_type": "stream",
     "text": [
      "Overall accuracy: 0.848\n",
      "\n"
     ]
    },
    {
     "name": "stderr",
     "output_type": "stream",
     "text": [
      "\u001b[32m[I 2023-05-11 02:08:04,462]\u001b[0m Trial 35 finished with value: 0.8938960243167811 and parameters: {'C': 2.9346009160984226}. Best is trial 31 with value: 0.896617968744664.\u001b[0m\n"
     ]
    },
    {
     "name": "stdout",
     "output_type": "stream",
     "text": [
      "Overall accuracy: 0.894\n",
      "\n"
     ]
    },
    {
     "name": "stderr",
     "output_type": "stream",
     "text": [
      "\u001b[32m[I 2023-05-11 02:08:08,367]\u001b[0m Trial 36 finished with value: 0.8492068765502944 and parameters: {'C': 1674.3418902626527}. Best is trial 31 with value: 0.896617968744664.\u001b[0m\n"
     ]
    },
    {
     "name": "stdout",
     "output_type": "stream",
     "text": [
      "Overall accuracy: 0.849\n",
      "\n"
     ]
    },
    {
     "name": "stderr",
     "output_type": "stream",
     "text": [
      "\u001b[32m[I 2023-05-11 02:08:11,266]\u001b[0m Trial 37 finished with value: 0.8962873745043352 and parameters: {'C': 6.011183020256998}. Best is trial 31 with value: 0.896617968744664.\u001b[0m\n"
     ]
    },
    {
     "name": "stdout",
     "output_type": "stream",
     "text": [
      "Overall accuracy: 0.897\n",
      "\n"
     ]
    },
    {
     "name": "stderr",
     "output_type": "stream",
     "text": [
      "\u001b[32m[I 2023-05-11 02:08:14,713]\u001b[0m Trial 38 finished with value: 0.8827268393453043 and parameters: {'C': 0.34963915224752323}. Best is trial 31 with value: 0.896617968744664.\u001b[0m\n"
     ]
    },
    {
     "name": "stdout",
     "output_type": "stream",
     "text": [
      "Overall accuracy: 0.883\n",
      "\n"
     ]
    },
    {
     "name": "stderr",
     "output_type": "stream",
     "text": [
      "\u001b[32m[I 2023-05-11 02:08:18,060]\u001b[0m Trial 39 finished with value: 0.8821431866515635 and parameters: {'C': 23.97975829050923}. Best is trial 31 with value: 0.896617968744664.\u001b[0m\n"
     ]
    },
    {
     "name": "stdout",
     "output_type": "stream",
     "text": [
      "Overall accuracy: 0.882\n",
      "\n"
     ]
    },
    {
     "name": "stderr",
     "output_type": "stream",
     "text": [
      "\u001b[32m[I 2023-05-11 02:08:24,634]\u001b[0m Trial 40 finished with value: 0.513348063448329 and parameters: {'C': 0.010232959947976905}. Best is trial 31 with value: 0.896617968744664.\u001b[0m\n"
     ]
    },
    {
     "name": "stdout",
     "output_type": "stream",
     "text": [
      "Overall accuracy: 0.605\n",
      "\n"
     ]
    },
    {
     "name": "stderr",
     "output_type": "stream",
     "text": [
      "\u001b[32m[I 2023-05-11 02:08:27,520]\u001b[0m Trial 41 finished with value: 0.896245525944671 and parameters: {'C': 2.5405329547604687}. Best is trial 31 with value: 0.896617968744664.\u001b[0m\n"
     ]
    },
    {
     "name": "stdout",
     "output_type": "stream",
     "text": [
      "Overall accuracy: 0.897\n",
      "\n"
     ]
    },
    {
     "name": "stderr",
     "output_type": "stream",
     "text": [
      "\u001b[32m[I 2023-05-11 02:08:30,307]\u001b[0m Trial 42 finished with value: 0.8954822118988264 and parameters: {'C': 3.4951857799448596}. Best is trial 31 with value: 0.896617968744664.\u001b[0m\n"
     ]
    },
    {
     "name": "stdout",
     "output_type": "stream",
     "text": [
      "Overall accuracy: 0.896\n",
      "\n"
     ]
    },
    {
     "name": "stderr",
     "output_type": "stream",
     "text": [
      "\u001b[32m[I 2023-05-11 02:08:34,398]\u001b[0m Trial 43 finished with value: 0.8694971987775805 and parameters: {'C': 0.16036100430410766}. Best is trial 31 with value: 0.896617968744664.\u001b[0m\n"
     ]
    },
    {
     "name": "stdout",
     "output_type": "stream",
     "text": [
      "Overall accuracy: 0.870\n",
      "\n"
     ]
    },
    {
     "name": "stderr",
     "output_type": "stream",
     "text": [
      "\u001b[32m[I 2023-05-11 02:08:38,287]\u001b[0m Trial 44 finished with value: 0.853547480634562 and parameters: {'C': 430.5362810008479}. Best is trial 31 with value: 0.896617968744664.\u001b[0m\n"
     ]
    },
    {
     "name": "stdout",
     "output_type": "stream",
     "text": [
      "Overall accuracy: 0.854\n",
      "\n"
     ]
    },
    {
     "name": "stderr",
     "output_type": "stream",
     "text": [
      "\u001b[32m[I 2023-05-11 02:08:41,206]\u001b[0m Trial 45 finished with value: 0.8974159982119352 and parameters: {'C': 1.4941604344318935}. Best is trial 45 with value: 0.8974159982119352.\u001b[0m\n"
     ]
    },
    {
     "name": "stdout",
     "output_type": "stream",
     "text": [
      "Overall accuracy: 0.898\n",
      "\n"
     ]
    },
    {
     "name": "stderr",
     "output_type": "stream",
     "text": [
      "\u001b[32m[I 2023-05-11 02:08:45,294]\u001b[0m Trial 46 finished with value: 0.8480079557846734 and parameters: {'C': 8023.887560669349}. Best is trial 45 with value: 0.8974159982119352.\u001b[0m\n"
     ]
    },
    {
     "name": "stdout",
     "output_type": "stream",
     "text": [
      "Overall accuracy: 0.848\n",
      "\n"
     ]
    },
    {
     "name": "stderr",
     "output_type": "stream",
     "text": [
      "\u001b[32m[I 2023-05-11 02:08:48,359]\u001b[0m Trial 47 finished with value: 0.8938418630357311 and parameters: {'C': 0.9243549868911385}. Best is trial 45 with value: 0.8974159982119352.\u001b[0m\n"
     ]
    },
    {
     "name": "stdout",
     "output_type": "stream",
     "text": [
      "Overall accuracy: 0.894\n",
      "\n"
     ]
    },
    {
     "name": "stderr",
     "output_type": "stream",
     "text": [
      "\u001b[32m[I 2023-05-11 02:08:51,237]\u001b[0m Trial 48 finished with value: 0.8911393630649149 and parameters: {'C': 11.06119090803875}. Best is trial 45 with value: 0.8974159982119352.\u001b[0m\n"
     ]
    },
    {
     "name": "stdout",
     "output_type": "stream",
     "text": [
      "Overall accuracy: 0.891\n",
      "\n"
     ]
    },
    {
     "name": "stderr",
     "output_type": "stream",
     "text": [
      "\u001b[32m[I 2023-05-11 02:08:54,608]\u001b[0m Trial 49 finished with value: 0.8746837468188651 and parameters: {'C': 49.60723211541477}. Best is trial 45 with value: 0.8974159982119352.\u001b[0m\n"
     ]
    },
    {
     "name": "stdout",
     "output_type": "stream",
     "text": [
      "Overall accuracy: 0.875\n",
      "\n"
     ]
    },
    {
     "name": "stderr",
     "output_type": "stream",
     "text": [
      "\u001b[32m[I 2023-05-11 02:09:00,528]\u001b[0m Trial 50 finished with value: 0.8432271809822829 and parameters: {'C': 0.0335211907364023}. Best is trial 45 with value: 0.8974159982119352.\u001b[0m\n"
     ]
    },
    {
     "name": "stdout",
     "output_type": "stream",
     "text": [
      "Overall accuracy: 0.844\n",
      "\n"
     ]
    },
    {
     "name": "stderr",
     "output_type": "stream",
     "text": [
      "\u001b[32m[I 2023-05-11 02:09:03,758]\u001b[0m Trial 51 finished with value: 0.8914444970877682 and parameters: {'C': 0.6922183471813742}. Best is trial 45 with value: 0.8974159982119352.\u001b[0m\n"
     ]
    },
    {
     "name": "stdout",
     "output_type": "stream",
     "text": [
      "Overall accuracy: 0.892\n",
      "\n"
     ]
    },
    {
     "name": "stderr",
     "output_type": "stream",
     "text": [
      "\u001b[32m[I 2023-05-11 02:09:06,948]\u001b[0m Trial 52 finished with value: 0.8782182560520864 and parameters: {'C': 34.50929011941949}. Best is trial 45 with value: 0.8974159982119352.\u001b[0m\n"
     ]
    },
    {
     "name": "stdout",
     "output_type": "stream",
     "text": [
      "Overall accuracy: 0.878\n",
      "\n"
     ]
    },
    {
     "name": "stderr",
     "output_type": "stream",
     "text": [
      "\u001b[32m[I 2023-05-11 02:09:09,995]\u001b[0m Trial 53 finished with value: 0.8974071445557734 and parameters: {'C': 1.6679732988273757}. Best is trial 45 with value: 0.8974159982119352.\u001b[0m\n"
     ]
    },
    {
     "name": "stdout",
     "output_type": "stream",
     "text": [
      "Overall accuracy: 0.898\n",
      "\n"
     ]
    },
    {
     "name": "stderr",
     "output_type": "stream",
     "text": [
      "\u001b[32m[I 2023-05-11 02:09:14,015]\u001b[0m Trial 54 finished with value: 0.8718845665646233 and parameters: {'C': 0.1878795690378605}. Best is trial 45 with value: 0.8974159982119352.\u001b[0m\n"
     ]
    },
    {
     "name": "stdout",
     "output_type": "stream",
     "text": [
      "Overall accuracy: 0.873\n",
      "\n"
     ]
    },
    {
     "name": "stderr",
     "output_type": "stream",
     "text": [
      "\u001b[32m[I 2023-05-11 02:09:16,911]\u001b[0m Trial 55 finished with value: 0.8942411823149529 and parameters: {'C': 1.0486833097042318}. Best is trial 45 with value: 0.8974159982119352.\u001b[0m\n"
     ]
    },
    {
     "name": "stdout",
     "output_type": "stream",
     "text": [
      "Overall accuracy: 0.895\n",
      "\n"
     ]
    },
    {
     "name": "stderr",
     "output_type": "stream",
     "text": [
      "\u001b[32m[I 2023-05-11 02:09:23,638]\u001b[0m Trial 56 finished with value: 0.3416213416213416 and parameters: {'C': 0.0030626383366505585}. Best is trial 45 with value: 0.8974159982119352.\u001b[0m\n"
     ]
    },
    {
     "name": "stdout",
     "output_type": "stream",
     "text": [
      "Overall accuracy: 0.519\n",
      "\n"
     ]
    },
    {
     "name": "stderr",
     "output_type": "stream",
     "text": [
      "\u001b[32m[I 2023-05-11 02:09:27,397]\u001b[0m Trial 57 finished with value: 0.8585992872773632 and parameters: {'C': 192.09764405297875}. Best is trial 45 with value: 0.8974159982119352.\u001b[0m\n"
     ]
    },
    {
     "name": "stdout",
     "output_type": "stream",
     "text": [
      "Overall accuracy: 0.859\n",
      "\n"
     ]
    },
    {
     "name": "stderr",
     "output_type": "stream",
     "text": [
      "\u001b[32m[I 2023-05-11 02:09:32,882]\u001b[0m Trial 58 finished with value: 0.8457155556219559 and parameters: {'C': 0.043304802275823534}. Best is trial 45 with value: 0.8974159982119352.\u001b[0m\n"
     ]
    },
    {
     "name": "stdout",
     "output_type": "stream",
     "text": [
      "Overall accuracy: 0.847\n",
      "\n"
     ]
    },
    {
     "name": "stderr",
     "output_type": "stream",
     "text": [
      "\u001b[32m[I 2023-05-11 02:09:35,922]\u001b[0m Trial 59 finished with value: 0.8880190107462835 and parameters: {'C': 14.580206799523816}. Best is trial 45 with value: 0.8974159982119352.\u001b[0m\n"
     ]
    },
    {
     "name": "stdout",
     "output_type": "stream",
     "text": [
      "Overall accuracy: 0.888\n",
      "\n"
     ]
    },
    {
     "name": "stderr",
     "output_type": "stream",
     "text": [
      "\u001b[32m[I 2023-05-11 02:09:42,512]\u001b[0m Trial 60 finished with value: 0.3416213416213416 and parameters: {'C': 0.00020679480293385192}. Best is trial 45 with value: 0.8974159982119352.\u001b[0m\n"
     ]
    },
    {
     "name": "stdout",
     "output_type": "stream",
     "text": [
      "Overall accuracy: 0.519\n",
      "\n"
     ]
    },
    {
     "name": "stderr",
     "output_type": "stream",
     "text": [
      "\u001b[32m[I 2023-05-11 02:09:45,441]\u001b[0m Trial 61 finished with value: 0.8974071445557734 and parameters: {'C': 1.718315440685978}. Best is trial 45 with value: 0.8974159982119352.\u001b[0m\n"
     ]
    },
    {
     "name": "stdout",
     "output_type": "stream",
     "text": [
      "Overall accuracy: 0.898\n",
      "\n"
     ]
    },
    {
     "name": "stderr",
     "output_type": "stream",
     "text": [
      "\u001b[32m[I 2023-05-11 02:09:48,743]\u001b[0m Trial 62 finished with value: 0.8958287929335547 and parameters: {'C': 1.3500285232412634}. Best is trial 45 with value: 0.8974159982119352.\u001b[0m\n"
     ]
    },
    {
     "name": "stdout",
     "output_type": "stream",
     "text": [
      "Overall accuracy: 0.896\n",
      "\n"
     ]
    },
    {
     "name": "stderr",
     "output_type": "stream",
     "text": [
      "\u001b[32m[I 2023-05-11 02:09:52,747]\u001b[0m Trial 63 finished with value: 0.8718699769816245 and parameters: {'C': 0.17528163579617118}. Best is trial 45 with value: 0.8974159982119352.\u001b[0m\n"
     ]
    },
    {
     "name": "stdout",
     "output_type": "stream",
     "text": [
      "Overall accuracy: 0.873\n",
      "\n"
     ]
    },
    {
     "name": "stderr",
     "output_type": "stream",
     "text": [
      "\u001b[32m[I 2023-05-11 02:09:55,773]\u001b[0m Trial 64 finished with value: 0.8876204407415651 and parameters: {'C': 14.743265194155686}. Best is trial 45 with value: 0.8974159982119352.\u001b[0m\n"
     ]
    },
    {
     "name": "stdout",
     "output_type": "stream",
     "text": [
      "Overall accuracy: 0.888\n",
      "\n"
     ]
    },
    {
     "name": "stderr",
     "output_type": "stream",
     "text": [
      "\u001b[32m[I 2023-05-11 02:09:59,025]\u001b[0m Trial 65 finished with value: 0.8866644451745851 and parameters: {'C': 0.46848743343031324}. Best is trial 45 with value: 0.8974159982119352.\u001b[0m\n"
     ]
    },
    {
     "name": "stdout",
     "output_type": "stream",
     "text": [
      "Overall accuracy: 0.887\n",
      "\n"
     ]
    },
    {
     "name": "stderr",
     "output_type": "stream",
     "text": [
      "\u001b[32m[I 2023-05-11 02:10:01,918]\u001b[0m Trial 66 finished with value: 0.8950750581130107 and parameters: {'C': 3.0600305968512806}. Best is trial 45 with value: 0.8974159982119352.\u001b[0m\n"
     ]
    },
    {
     "name": "stdout",
     "output_type": "stream",
     "text": [
      "Overall accuracy: 0.895\n",
      "\n"
     ]
    },
    {
     "name": "stderr",
     "output_type": "stream",
     "text": [
      "\u001b[32m[I 2023-05-11 02:10:05,540]\u001b[0m Trial 67 finished with value: 0.8660397373493514 and parameters: {'C': 94.65594612019586}. Best is trial 45 with value: 0.8974159982119352.\u001b[0m\n"
     ]
    },
    {
     "name": "stdout",
     "output_type": "stream",
     "text": [
      "Overall accuracy: 0.866\n",
      "\n"
     ]
    },
    {
     "name": "stderr",
     "output_type": "stream",
     "text": [
      "\u001b[32m[I 2023-05-11 02:10:11,081]\u001b[0m Trial 68 finished with value: 0.8481070331537621 and parameters: {'C': 0.04752411584835892}. Best is trial 45 with value: 0.8974159982119352.\u001b[0m\n"
     ]
    },
    {
     "name": "stdout",
     "output_type": "stream",
     "text": [
      "Overall accuracy: 0.849\n",
      "\n"
     ]
    },
    {
     "name": "stderr",
     "output_type": "stream",
     "text": [
      "\u001b[32m[I 2023-05-11 02:10:13,872]\u001b[0m Trial 69 finished with value: 0.8950750581130107 and parameters: {'C': 8.940127074192866}. Best is trial 45 with value: 0.8974159982119352.\u001b[0m\n"
     ]
    },
    {
     "name": "stdout",
     "output_type": "stream",
     "text": [
      "Overall accuracy: 0.895\n",
      "\n"
     ]
    },
    {
     "name": "stderr",
     "output_type": "stream",
     "text": [
      "\u001b[32m[I 2023-05-11 02:10:20,504]\u001b[0m Trial 70 finished with value: 0.3416213416213416 and parameters: {'C': 0.004658546486382696}. Best is trial 45 with value: 0.8974159982119352.\u001b[0m\n"
     ]
    },
    {
     "name": "stdout",
     "output_type": "stream",
     "text": [
      "Overall accuracy: 0.519\n",
      "\n"
     ]
    },
    {
     "name": "stderr",
     "output_type": "stream",
     "text": [
      "\u001b[32m[I 2023-05-11 02:10:23,405]\u001b[0m Trial 71 finished with value: 0.8958104203242092 and parameters: {'C': 1.276134006415986}. Best is trial 45 with value: 0.8974159982119352.\u001b[0m\n"
     ]
    },
    {
     "name": "stdout",
     "output_type": "stream",
     "text": [
      "Overall accuracy: 0.896\n",
      "\n"
     ]
    },
    {
     "name": "stderr",
     "output_type": "stream",
     "text": [
      "\u001b[32m[I 2023-05-11 02:10:26,242]\u001b[0m Trial 72 finished with value: 0.8978061583160302 and parameters: {'C': 1.5052004315930048}. Best is trial 72 with value: 0.8978061583160302.\u001b[0m\n"
     ]
    },
    {
     "name": "stdout",
     "output_type": "stream",
     "text": [
      "Overall accuracy: 0.898\n",
      "\n"
     ]
    },
    {
     "name": "stderr",
     "output_type": "stream",
     "text": [
      "\u001b[32m[I 2023-05-11 02:10:29,724]\u001b[0m Trial 73 finished with value: 0.8770058750295426 and parameters: {'C': 38.75569325769681}. Best is trial 72 with value: 0.8978061583160302.\u001b[0m\n"
     ]
    },
    {
     "name": "stdout",
     "output_type": "stream",
     "text": [
      "Overall accuracy: 0.877\n",
      "\n"
     ]
    },
    {
     "name": "stderr",
     "output_type": "stream",
     "text": [
      "\u001b[32m[I 2023-05-11 02:10:33,332]\u001b[0m Trial 74 finished with value: 0.8778895932435842 and parameters: {'C': 0.27076731755811917}. Best is trial 72 with value: 0.8978061583160302.\u001b[0m\n"
     ]
    },
    {
     "name": "stdout",
     "output_type": "stream",
     "text": [
      "Overall accuracy: 0.878\n",
      "\n"
     ]
    },
    {
     "name": "stderr",
     "output_type": "stream",
     "text": [
      "\u001b[32m[I 2023-05-11 02:10:39,747]\u001b[0m Trial 75 finished with value: 0.8373312472842238 and parameters: {'C': 0.02184554493323185}. Best is trial 72 with value: 0.8978061583160302.\u001b[0m\n"
     ]
    },
    {
     "name": "stdout",
     "output_type": "stream",
     "text": [
      "Overall accuracy: 0.839\n",
      "\n"
     ]
    },
    {
     "name": "stderr",
     "output_type": "stream",
     "text": [
      "\u001b[32m[I 2023-05-11 02:10:42,513]\u001b[0m Trial 76 finished with value: 0.8943032063276332 and parameters: {'C': 4.8856685920838965}. Best is trial 72 with value: 0.8978061583160302.\u001b[0m\n"
     ]
    },
    {
     "name": "stdout",
     "output_type": "stream",
     "text": [
      "Overall accuracy: 0.895\n",
      "\n"
     ]
    },
    {
     "name": "stderr",
     "output_type": "stream",
     "text": [
      "\u001b[32m[I 2023-05-11 02:10:46,923]\u001b[0m Trial 77 finished with value: 0.8658991233018516 and parameters: {'C': 0.12729718821757746}. Best is trial 72 with value: 0.8978061583160302.\u001b[0m\n"
     ]
    },
    {
     "name": "stdout",
     "output_type": "stream",
     "text": [
      "Overall accuracy: 0.867\n",
      "\n"
     ]
    },
    {
     "name": "stderr",
     "output_type": "stream",
     "text": [
      "\u001b[32m[I 2023-05-11 02:10:49,913]\u001b[0m Trial 78 finished with value: 0.8974071445557734 and parameters: {'C': 1.610684598105595}. Best is trial 72 with value: 0.8978061583160302.\u001b[0m\n"
     ]
    },
    {
     "name": "stdout",
     "output_type": "stream",
     "text": [
      "Overall accuracy: 0.898\n",
      "\n"
     ]
    },
    {
     "name": "stderr",
     "output_type": "stream",
     "text": [
      "\u001b[32m[I 2023-05-11 02:10:53,747]\u001b[0m Trial 79 finished with value: 0.8550956676910875 and parameters: {'C': 285.9913298124662}. Best is trial 72 with value: 0.8978061583160302.\u001b[0m\n"
     ]
    },
    {
     "name": "stdout",
     "output_type": "stream",
     "text": [
      "Overall accuracy: 0.855\n",
      "\n"
     ]
    },
    {
     "name": "stderr",
     "output_type": "stream",
     "text": [
      "\u001b[32m[I 2023-05-11 02:10:57,000]\u001b[0m Trial 80 finished with value: 0.8886656540336033 and parameters: {'C': 0.5221014866298488}. Best is trial 72 with value: 0.8978061583160302.\u001b[0m\n"
     ]
    },
    {
     "name": "stdout",
     "output_type": "stream",
     "text": [
      "Overall accuracy: 0.889\n",
      "\n"
     ]
    },
    {
     "name": "stderr",
     "output_type": "stream",
     "text": [
      "\u001b[32m[I 2023-05-11 02:10:59,973]\u001b[0m Trial 81 finished with value: 0.8966528767880032 and parameters: {'C': 2.2390965062092434}. Best is trial 72 with value: 0.8978061583160302.\u001b[0m\n"
     ]
    },
    {
     "name": "stdout",
     "output_type": "stream",
     "text": [
      "Overall accuracy: 0.897\n",
      "\n"
     ]
    },
    {
     "name": "stderr",
     "output_type": "stream",
     "text": [
      "\u001b[32m[I 2023-05-11 02:11:03,028]\u001b[0m Trial 82 finished with value: 0.8950750581130107 and parameters: {'C': 8.683202283722435}. Best is trial 72 with value: 0.8978061583160302.\u001b[0m\n"
     ]
    },
    {
     "name": "stdout",
     "output_type": "stream",
     "text": [
      "Overall accuracy: 0.895\n",
      "\n"
     ]
    },
    {
     "name": "stderr",
     "output_type": "stream",
     "text": [
      "\u001b[32m[I 2023-05-11 02:11:06,124]\u001b[0m Trial 83 finished with value: 0.8805665068743269 and parameters: {'C': 28.123595823452728}. Best is trial 72 with value: 0.8978061583160302.\u001b[0m\n"
     ]
    },
    {
     "name": "stdout",
     "output_type": "stream",
     "text": [
      "Overall accuracy: 0.881\n",
      "\n"
     ]
    },
    {
     "name": "stderr",
     "output_type": "stream",
     "text": [
      "\u001b[32m[I 2023-05-11 02:11:11,141]\u001b[0m Trial 84 finished with value: 0.8537118134857506 and parameters: {'C': 0.0649266997274494}. Best is trial 72 with value: 0.8978061583160302.\u001b[0m\n"
     ]
    },
    {
     "name": "stdout",
     "output_type": "stream",
     "text": [
      "Overall accuracy: 0.854\n",
      "\n"
     ]
    },
    {
     "name": "stderr",
     "output_type": "stream",
     "text": [
      "\u001b[32m[I 2023-05-11 02:11:14,108]\u001b[0m Trial 85 finished with value: 0.8954476916403009 and parameters: {'C': 1.95502619590006}. Best is trial 72 with value: 0.8978061583160302.\u001b[0m\n"
     ]
    },
    {
     "name": "stdout",
     "output_type": "stream",
     "text": [
      "Overall accuracy: 0.896\n",
      "\n"
     ]
    },
    {
     "name": "stderr",
     "output_type": "stream",
     "text": [
      "\u001b[32m[I 2023-05-11 02:11:17,700]\u001b[0m Trial 86 finished with value: 0.8668359123146356 and parameters: {'C': 84.61066702308588}. Best is trial 72 with value: 0.8978061583160302.\u001b[0m\n"
     ]
    },
    {
     "name": "stdout",
     "output_type": "stream",
     "text": [
      "Overall accuracy: 0.867\n",
      "\n"
     ]
    },
    {
     "name": "stderr",
     "output_type": "stream",
     "text": [
      "\u001b[32m[I 2023-05-11 02:11:21,238]\u001b[0m Trial 87 finished with value: 0.8827380596441172 and parameters: {'C': 0.35425115679071756}. Best is trial 72 with value: 0.8978061583160302.\u001b[0m\n"
     ]
    },
    {
     "name": "stdout",
     "output_type": "stream",
     "text": [
      "Overall accuracy: 0.883\n",
      "\n"
     ]
    },
    {
     "name": "stderr",
     "output_type": "stream",
     "text": [
      "\u001b[32m[I 2023-05-11 02:11:24,096]\u001b[0m Trial 88 finished with value: 0.8962792649599303 and parameters: {'C': 5.818398098055267}. Best is trial 72 with value: 0.8978061583160302.\u001b[0m\n"
     ]
    },
    {
     "name": "stdout",
     "output_type": "stream",
     "text": [
      "Overall accuracy: 0.897\n",
      "\n"
     ]
    },
    {
     "name": "stderr",
     "output_type": "stream",
     "text": [
      "\u001b[32m[I 2023-05-11 02:11:27,074]\u001b[0m Trial 89 finished with value: 0.8962278750467796 and parameters: {'C': 1.3877403305877136}. Best is trial 72 with value: 0.8978061583160302.\u001b[0m\n"
     ]
    },
    {
     "name": "stdout",
     "output_type": "stream",
     "text": [
      "Overall accuracy: 0.897\n",
      "\n"
     ]
    },
    {
     "name": "stderr",
     "output_type": "stream",
     "text": [
      "\u001b[32m[I 2023-05-11 02:11:31,834]\u001b[0m Trial 90 finished with value: 0.8615231365468723 and parameters: {'C': 0.10518111004745448}. Best is trial 72 with value: 0.8978061583160302.\u001b[0m\n"
     ]
    },
    {
     "name": "stdout",
     "output_type": "stream",
     "text": [
      "Overall accuracy: 0.862\n",
      "\n"
     ]
    },
    {
     "name": "stderr",
     "output_type": "stream",
     "text": [
      "\u001b[32m[I 2023-05-11 02:11:34,718]\u001b[0m Trial 91 finished with value: 0.8966612794311873 and parameters: {'C': 7.076794620607174}. Best is trial 72 with value: 0.8978061583160302.\u001b[0m\n"
     ]
    },
    {
     "name": "stdout",
     "output_type": "stream",
     "text": [
      "Overall accuracy: 0.897\n",
      "\n"
     ]
    },
    {
     "name": "stderr",
     "output_type": "stream",
     "text": [
      "\u001b[32m[I 2023-05-11 02:11:37,848]\u001b[0m Trial 92 finished with value: 0.884491728151425 and parameters: {'C': 21.58399814545496}. Best is trial 72 with value: 0.8978061583160302.\u001b[0m\n"
     ]
    },
    {
     "name": "stdout",
     "output_type": "stream",
     "text": [
      "Overall accuracy: 0.885\n",
      "\n"
     ]
    },
    {
     "name": "stderr",
     "output_type": "stream",
     "text": [
      "\u001b[32m[I 2023-05-11 02:11:41,058]\u001b[0m Trial 93 finished with value: 0.8930333198502209 and parameters: {'C': 0.747788427011529}. Best is trial 72 with value: 0.8978061583160302.\u001b[0m\n"
     ]
    },
    {
     "name": "stdout",
     "output_type": "stream",
     "text": [
      "Overall accuracy: 0.893\n",
      "\n"
     ]
    },
    {
     "name": "stderr",
     "output_type": "stream",
     "text": [
      "\u001b[32m[I 2023-05-11 02:11:44,035]\u001b[0m Trial 94 finished with value: 0.8954737786020334 and parameters: {'C': 3.6679514162238}. Best is trial 72 with value: 0.8978061583160302.\u001b[0m\n"
     ]
    },
    {
     "name": "stdout",
     "output_type": "stream",
     "text": [
      "Overall accuracy: 0.896\n",
      "\n"
     ]
    },
    {
     "name": "stderr",
     "output_type": "stream",
     "text": [
      "\u001b[32m[I 2023-05-11 02:11:47,171]\u001b[0m Trial 95 finished with value: 0.8895705140736465 and parameters: {'C': 12.390825601648547}. Best is trial 72 with value: 0.8978061583160302.\u001b[0m\n"
     ]
    },
    {
     "name": "stdout",
     "output_type": "stream",
     "text": [
      "Overall accuracy: 0.890\n",
      "\n"
     ]
    },
    {
     "name": "stderr",
     "output_type": "stream",
     "text": [
      "\u001b[32m[I 2023-05-11 02:11:50,606]\u001b[0m Trial 96 finished with value: 0.8746837468188651 and parameters: {'C': 49.937967310456614}. Best is trial 72 with value: 0.8978061583160302.\u001b[0m\n"
     ]
    },
    {
     "name": "stdout",
     "output_type": "stream",
     "text": [
      "Overall accuracy: 0.875\n",
      "\n"
     ]
    },
    {
     "name": "stderr",
     "output_type": "stream",
     "text": [
      "\u001b[32m[I 2023-05-11 02:11:53,992]\u001b[0m Trial 97 finished with value: 0.8850735720112988 and parameters: {'C': 0.4076125895050065}. Best is trial 72 with value: 0.8978061583160302.\u001b[0m\n"
     ]
    },
    {
     "name": "stdout",
     "output_type": "stream",
     "text": [
      "Overall accuracy: 0.886\n",
      "\n"
     ]
    },
    {
     "name": "stderr",
     "output_type": "stream",
     "text": [
      "\u001b[32m[I 2023-05-11 02:11:57,000]\u001b[0m Trial 98 finished with value: 0.8958377827998112 and parameters: {'C': 1.8602321791368905}. Best is trial 72 with value: 0.8978061583160302.\u001b[0m\n"
     ]
    },
    {
     "name": "stdout",
     "output_type": "stream",
     "text": [
      "Overall accuracy: 0.896\n",
      "\n"
     ]
    },
    {
     "name": "stderr",
     "output_type": "stream",
     "text": [
      "\u001b[32m[I 2023-05-11 02:12:03,556]\u001b[0m Trial 99 finished with value: 0.7891766575629928 and parameters: {'C': 0.01494439716250291}. Best is trial 72 with value: 0.8978061583160302.\u001b[0m\n",
      "\u001b[32m[I 2023-05-11 02:12:03,694]\u001b[0m A new study created in memory with name: no-name-9fc01612-eaa5-4e19-93ad-5e32e704fe8b\u001b[0m\n"
     ]
    },
    {
     "name": "stdout",
     "output_type": "stream",
     "text": [
      "Overall accuracy: 0.797\n",
      "\n",
      "Accuracy: 0.8978061583160302\n",
      "Best hyperparameters: {'C': 1.5052004315930048}\n",
      "\n",
      "\n",
      "\n",
      "Model :- SVC, DataType :- RScharge\n"
     ]
    },
    {
     "name": "stderr",
     "output_type": "stream",
     "text": [
      "\u001b[32m[I 2023-05-11 02:12:10,567]\u001b[0m Trial 0 finished with value: 0.3416213416213416 and parameters: {'C': 0.0007128863849354421}. Best is trial 0 with value: 0.3416213416213416.\u001b[0m\n"
     ]
    },
    {
     "name": "stdout",
     "output_type": "stream",
     "text": [
      "Overall accuracy: 0.519\n",
      "\n"
     ]
    },
    {
     "name": "stderr",
     "output_type": "stream",
     "text": [
      "\u001b[32m[I 2023-05-11 02:12:14,327]\u001b[0m Trial 1 finished with value: 0.8527109204630171 and parameters: {'C': 236829448.52542764}. Best is trial 1 with value: 0.8527109204630171.\u001b[0m\n"
     ]
    },
    {
     "name": "stdout",
     "output_type": "stream",
     "text": [
      "Overall accuracy: 0.853\n",
      "\n"
     ]
    },
    {
     "name": "stderr",
     "output_type": "stream",
     "text": [
      "\u001b[32m[I 2023-05-11 02:12:18,270]\u001b[0m Trial 2 finished with value: 0.8527109204630171 and parameters: {'C': 526427.8104169328}. Best is trial 1 with value: 0.8527109204630171.\u001b[0m\n"
     ]
    },
    {
     "name": "stdout",
     "output_type": "stream",
     "text": [
      "Overall accuracy: 0.853\n",
      "\n"
     ]
    },
    {
     "name": "stderr",
     "output_type": "stream",
     "text": [
      "\u001b[32m[I 2023-05-11 02:12:25,055]\u001b[0m Trial 3 finished with value: 0.3416213416213416 and parameters: {'C': 0.005226017581578447}. Best is trial 1 with value: 0.8527109204630171.\u001b[0m\n"
     ]
    },
    {
     "name": "stdout",
     "output_type": "stream",
     "text": [
      "Overall accuracy: 0.519\n",
      "\n"
     ]
    },
    {
     "name": "stderr",
     "output_type": "stream",
     "text": [
      "\u001b[32m[I 2023-05-11 02:12:28,539]\u001b[0m Trial 4 finished with value: 0.8754636362226942 and parameters: {'C': 57.03890936313664}. Best is trial 4 with value: 0.8754636362226942.\u001b[0m\n"
     ]
    },
    {
     "name": "stdout",
     "output_type": "stream",
     "text": [
      "Overall accuracy: 0.876\n",
      "\n"
     ]
    },
    {
     "name": "stderr",
     "output_type": "stream",
     "text": [
      "\u001b[32m[I 2023-05-11 02:12:32,324]\u001b[0m Trial 5 finished with value: 0.8527109204630171 and parameters: {'C': 26765382.753568754}. Best is trial 4 with value: 0.8754636362226942.\u001b[0m\n"
     ]
    },
    {
     "name": "stdout",
     "output_type": "stream",
     "text": [
      "Overall accuracy: 0.853\n",
      "\n"
     ]
    },
    {
     "name": "stderr",
     "output_type": "stream",
     "text": [
      "\u001b[32m[I 2023-05-11 02:12:36,357]\u001b[0m Trial 6 finished with value: 0.8527109204630171 and parameters: {'C': 348431.7297341872}. Best is trial 4 with value: 0.8754636362226942.\u001b[0m\n"
     ]
    },
    {
     "name": "stdout",
     "output_type": "stream",
     "text": [
      "Overall accuracy: 0.853\n",
      "\n"
     ]
    },
    {
     "name": "stderr",
     "output_type": "stream",
     "text": [
      "\u001b[32m[I 2023-05-11 02:12:40,218]\u001b[0m Trial 7 finished with value: 0.8527109204630171 and parameters: {'C': 2123640748.491113}. Best is trial 4 with value: 0.8754636362226942.\u001b[0m\n"
     ]
    },
    {
     "name": "stdout",
     "output_type": "stream",
     "text": [
      "Overall accuracy: 0.853\n",
      "\n"
     ]
    },
    {
     "name": "stderr",
     "output_type": "stream",
     "text": [
      "\u001b[32m[I 2023-05-11 02:12:46,824]\u001b[0m Trial 8 finished with value: 0.3416213416213416 and parameters: {'C': 0.0004767623690279952}. Best is trial 4 with value: 0.8754636362226942.\u001b[0m\n"
     ]
    },
    {
     "name": "stdout",
     "output_type": "stream",
     "text": [
      "Overall accuracy: 0.519\n",
      "\n"
     ]
    },
    {
     "name": "stderr",
     "output_type": "stream",
     "text": [
      "\u001b[32m[I 2023-05-11 02:12:53,348]\u001b[0m Trial 9 finished with value: 0.3416213416213416 and parameters: {'C': 0.005882627050764421}. Best is trial 4 with value: 0.8754636362226942.\u001b[0m\n"
     ]
    },
    {
     "name": "stdout",
     "output_type": "stream",
     "text": [
      "Overall accuracy: 0.519\n",
      "\n"
     ]
    },
    {
     "name": "stderr",
     "output_type": "stream",
     "text": [
      "\u001b[32m[I 2023-05-11 02:12:59,881]\u001b[0m Trial 10 finished with value: 0.3416213416213416 and parameters: {'C': 7.591039767676054e-10}. Best is trial 4 with value: 0.8754636362226942.\u001b[0m\n"
     ]
    },
    {
     "name": "stdout",
     "output_type": "stream",
     "text": [
      "Overall accuracy: 0.519\n",
      "\n"
     ]
    },
    {
     "name": "stderr",
     "output_type": "stream",
     "text": [
      "\u001b[32m[I 2023-05-11 02:13:03,669]\u001b[0m Trial 11 finished with value: 0.8637003233260933 and parameters: {'C': 196.00072197159014}. Best is trial 4 with value: 0.8754636362226942.\u001b[0m\n"
     ]
    },
    {
     "name": "stdout",
     "output_type": "stream",
     "text": [
      "Overall accuracy: 0.864\n",
      "\n"
     ]
    },
    {
     "name": "stderr",
     "output_type": "stream",
     "text": [
      "\u001b[32m[I 2023-05-11 02:13:07,513]\u001b[0m Trial 12 finished with value: 0.8652760421315719 and parameters: {'C': 159.27195813154444}. Best is trial 4 with value: 0.8754636362226942.\u001b[0m\n"
     ]
    },
    {
     "name": "stdout",
     "output_type": "stream",
     "text": [
      "Overall accuracy: 0.865\n",
      "\n"
     ]
    },
    {
     "name": "stderr",
     "output_type": "stream",
     "text": [
      "\u001b[32m[I 2023-05-11 02:13:11,293]\u001b[0m Trial 13 finished with value: 0.8676691505659423 and parameters: {'C': 116.75106360431757}. Best is trial 4 with value: 0.8754636362226942.\u001b[0m\n"
     ]
    },
    {
     "name": "stdout",
     "output_type": "stream",
     "text": [
      "Overall accuracy: 0.868\n",
      "\n"
     ]
    },
    {
     "name": "stderr",
     "output_type": "stream",
     "text": [
      "\u001b[32m[I 2023-05-11 02:13:15,139]\u001b[0m Trial 14 finished with value: 0.8680522597156455 and parameters: {'C': 86.9241470303179}. Best is trial 4 with value: 0.8754636362226942.\u001b[0m\n"
     ]
    },
    {
     "name": "stdout",
     "output_type": "stream",
     "text": [
      "Overall accuracy: 0.868\n",
      "\n"
     ]
    },
    {
     "name": "stderr",
     "output_type": "stream",
     "text": [
      "\u001b[32m[I 2023-05-11 02:13:18,177]\u001b[0m Trial 15 finished with value: 0.8896438636183218 and parameters: {'C': 10.976899324743947}. Best is trial 15 with value: 0.8896438636183218.\u001b[0m\n"
     ]
    },
    {
     "name": "stdout",
     "output_type": "stream",
     "text": [
      "Overall accuracy: 0.890\n",
      "\n"
     ]
    },
    {
     "name": "stderr",
     "output_type": "stream",
     "text": [
      "\u001b[32m[I 2023-05-11 02:13:21,387]\u001b[0m Trial 16 finished with value: 0.8858171786054283 and parameters: {'C': 0.7883110581717588}. Best is trial 15 with value: 0.8896438636183218.\u001b[0m\n"
     ]
    },
    {
     "name": "stdout",
     "output_type": "stream",
     "text": [
      "Overall accuracy: 0.886\n",
      "\n"
     ]
    },
    {
     "name": "stderr",
     "output_type": "stream",
     "text": [
      "\u001b[32m[I 2023-05-11 02:13:24,572]\u001b[0m Trial 17 finished with value: 0.8890118978974473 and parameters: {'C': 1.024070538625369}. Best is trial 15 with value: 0.8896438636183218.\u001b[0m\n"
     ]
    },
    {
     "name": "stdout",
     "output_type": "stream",
     "text": [
      "Overall accuracy: 0.889\n",
      "\n"
     ]
    },
    {
     "name": "stderr",
     "output_type": "stream",
     "text": [
      "\u001b[32m[I 2023-05-11 02:13:31,046]\u001b[0m Trial 18 finished with value: 0.3416213416213416 and parameters: {'C': 7.341893692136816e-06}. Best is trial 15 with value: 0.8896438636183218.\u001b[0m\n"
     ]
    },
    {
     "name": "stdout",
     "output_type": "stream",
     "text": [
      "Overall accuracy: 0.519\n",
      "\n"
     ]
    },
    {
     "name": "stderr",
     "output_type": "stream",
     "text": [
      "\u001b[32m[I 2023-05-11 02:13:34,528]\u001b[0m Trial 19 finished with value: 0.8770180180530547 and parameters: {'C': 0.3408877387560584}. Best is trial 15 with value: 0.8896438636183218.\u001b[0m\n"
     ]
    },
    {
     "name": "stdout",
     "output_type": "stream",
     "text": [
      "Overall accuracy: 0.878\n",
      "\n"
     ]
    },
    {
     "name": "stderr",
     "output_type": "stream",
     "text": [
      "\u001b[32m[I 2023-05-11 02:13:38,379]\u001b[0m Trial 20 finished with value: 0.8527109204630171 and parameters: {'C': 35744.29253027631}. Best is trial 15 with value: 0.8896438636183218.\u001b[0m\n"
     ]
    },
    {
     "name": "stdout",
     "output_type": "stream",
     "text": [
      "Overall accuracy: 0.853\n",
      "\n"
     ]
    },
    {
     "name": "stderr",
     "output_type": "stream",
     "text": [
      "\u001b[32m[I 2023-05-11 02:13:41,602]\u001b[0m Trial 21 finished with value: 0.8846014881424338 and parameters: {'C': 0.707688980603325}. Best is trial 15 with value: 0.8896438636183218.\u001b[0m\n"
     ]
    },
    {
     "name": "stdout",
     "output_type": "stream",
     "text": [
      "Overall accuracy: 0.885\n",
      "\n"
     ]
    },
    {
     "name": "stderr",
     "output_type": "stream",
     "text": [
      "\u001b[32m[I 2023-05-11 02:13:44,613]\u001b[0m Trial 22 finished with value: 0.8950116513633835 and parameters: {'C': 1.9662424142697914}. Best is trial 22 with value: 0.8950116513633835.\u001b[0m\n"
     ]
    },
    {
     "name": "stdout",
     "output_type": "stream",
     "text": [
      "Overall accuracy: 0.895\n",
      "\n"
     ]
    },
    {
     "name": "stderr",
     "output_type": "stream",
     "text": [
      "\u001b[32m[I 2023-05-11 02:13:48,663]\u001b[0m Trial 23 finished with value: 0.8542785288970198 and parameters: {'C': 2745.4800652657123}. Best is trial 22 with value: 0.8950116513633835.\u001b[0m\n"
     ]
    },
    {
     "name": "stdout",
     "output_type": "stream",
     "text": [
      "Overall accuracy: 0.854\n",
      "\n"
     ]
    },
    {
     "name": "stderr",
     "output_type": "stream",
     "text": [
      "\u001b[32m[I 2023-05-11 02:13:51,711]\u001b[0m Trial 24 finished with value: 0.8880104641545001 and parameters: {'C': 7.511932945212016}. Best is trial 22 with value: 0.8950116513633835.\u001b[0m\n"
     ]
    },
    {
     "name": "stdout",
     "output_type": "stream",
     "text": [
      "Overall accuracy: 0.888\n",
      "\n"
     ]
    },
    {
     "name": "stderr",
     "output_type": "stream",
     "text": [
      "\u001b[32m[I 2023-05-11 02:13:55,868]\u001b[0m Trial 25 finished with value: 0.8527109204630171 and parameters: {'C': 11584.08636205338}. Best is trial 22 with value: 0.8950116513633835.\u001b[0m\n"
     ]
    },
    {
     "name": "stdout",
     "output_type": "stream",
     "text": [
      "Overall accuracy: 0.853\n",
      "\n"
     ]
    },
    {
     "name": "stderr",
     "output_type": "stream",
     "text": [
      "\u001b[32m[I 2023-05-11 02:14:01,957]\u001b[0m Trial 26 finished with value: 0.8425444853217209 and parameters: {'C': 0.03176321274334253}. Best is trial 22 with value: 0.8950116513633835.\u001b[0m\n"
     ]
    },
    {
     "name": "stdout",
     "output_type": "stream",
     "text": [
      "Overall accuracy: 0.844\n",
      "\n"
     ]
    },
    {
     "name": "stderr",
     "output_type": "stream",
     "text": [
      "\u001b[32m[I 2023-05-11 02:14:05,130]\u001b[0m Trial 27 finished with value: 0.8950116513633835 and parameters: {'C': 1.9844551462765159}. Best is trial 22 with value: 0.8950116513633835.\u001b[0m\n"
     ]
    },
    {
     "name": "stdout",
     "output_type": "stream",
     "text": [
      "Overall accuracy: 0.895\n",
      "\n"
     ]
    },
    {
     "name": "stderr",
     "output_type": "stream",
     "text": [
      "\u001b[32m[I 2023-05-11 02:14:08,085]\u001b[0m Trial 28 finished with value: 0.8872634276810702 and parameters: {'C': 8.598636090124153}. Best is trial 22 with value: 0.8950116513633835.\u001b[0m\n"
     ]
    },
    {
     "name": "stdout",
     "output_type": "stream",
     "text": [
      "Overall accuracy: 0.887\n",
      "\n"
     ]
    },
    {
     "name": "stderr",
     "output_type": "stream",
     "text": [
      "\u001b[32m[I 2023-05-11 02:14:14,666]\u001b[0m Trial 29 finished with value: 0.3416213416213416 and parameters: {'C': 8.778947566630522e-05}. Best is trial 22 with value: 0.8950116513633835.\u001b[0m\n"
     ]
    },
    {
     "name": "stdout",
     "output_type": "stream",
     "text": [
      "Overall accuracy: 0.519\n",
      "\n"
     ]
    },
    {
     "name": "stderr",
     "output_type": "stream",
     "text": [
      "\u001b[32m[I 2023-05-11 02:14:21,548]\u001b[0m Trial 30 finished with value: 0.6321850113923053 and parameters: {'C': 0.011621522742745173}. Best is trial 22 with value: 0.8950116513633835.\u001b[0m\n"
     ]
    },
    {
     "name": "stdout",
     "output_type": "stream",
     "text": [
      "Overall accuracy: 0.679\n",
      "\n"
     ]
    },
    {
     "name": "stderr",
     "output_type": "stream",
     "text": [
      "\u001b[32m[I 2023-05-11 02:14:25,625]\u001b[0m Trial 31 finished with value: 0.8750192931007871 and parameters: {'C': 0.20883977574109078}. Best is trial 22 with value: 0.8950116513633835.\u001b[0m\n"
     ]
    },
    {
     "name": "stdout",
     "output_type": "stream",
     "text": [
      "Overall accuracy: 0.876\n",
      "\n"
     ]
    },
    {
     "name": "stderr",
     "output_type": "stream",
     "text": [
      "\u001b[32m[I 2023-05-11 02:14:28,596]\u001b[0m Trial 32 finished with value: 0.8904090809558104 and parameters: {'C': 14.823760213298108}. Best is trial 22 with value: 0.8950116513633835.\u001b[0m\n"
     ]
    },
    {
     "name": "stdout",
     "output_type": "stream",
     "text": [
      "Overall accuracy: 0.891\n",
      "\n"
     ]
    },
    {
     "name": "stderr",
     "output_type": "stream",
     "text": [
      "\u001b[32m[I 2023-05-11 02:14:32,622]\u001b[0m Trial 33 finished with value: 0.8542706716124214 and parameters: {'C': 1377.7127226986968}. Best is trial 22 with value: 0.8950116513633835.\u001b[0m\n"
     ]
    },
    {
     "name": "stdout",
     "output_type": "stream",
     "text": [
      "Overall accuracy: 0.854\n",
      "\n"
     ]
    },
    {
     "name": "stderr",
     "output_type": "stream",
     "text": [
      "\u001b[32m[I 2023-05-11 02:14:35,693]\u001b[0m Trial 34 finished with value: 0.8892459395330727 and parameters: {'C': 9.351175397874831}. Best is trial 22 with value: 0.8950116513633835.\u001b[0m\n"
     ]
    },
    {
     "name": "stdout",
     "output_type": "stream",
     "text": [
      "Overall accuracy: 0.889\n",
      "\n"
     ]
    },
    {
     "name": "stderr",
     "output_type": "stream",
     "text": [
      "\u001b[32m[I 2023-05-11 02:14:39,789]\u001b[0m Trial 35 finished with value: 0.8527109204630171 and parameters: {'C': 77073.21476150394}. Best is trial 22 with value: 0.8950116513633835.\u001b[0m\n"
     ]
    },
    {
     "name": "stdout",
     "output_type": "stream",
     "text": [
      "Overall accuracy: 0.853\n",
      "\n"
     ]
    },
    {
     "name": "stderr",
     "output_type": "stream",
     "text": [
      "\u001b[32m[I 2023-05-11 02:14:43,997]\u001b[0m Trial 36 finished with value: 0.8542706716124214 and parameters: {'C': 1343.801916696483}. Best is trial 22 with value: 0.8950116513633835.\u001b[0m\n"
     ]
    },
    {
     "name": "stdout",
     "output_type": "stream",
     "text": [
      "Overall accuracy: 0.854\n",
      "\n"
     ]
    },
    {
     "name": "stderr",
     "output_type": "stream",
     "text": [
      "\u001b[32m[I 2023-05-11 02:14:47,937]\u001b[0m Trial 37 finished with value: 0.8527109204630171 and parameters: {'C': 14499743.462527262}. Best is trial 22 with value: 0.8950116513633835.\u001b[0m\n"
     ]
    },
    {
     "name": "stdout",
     "output_type": "stream",
     "text": [
      "Overall accuracy: 0.853\n",
      "\n"
     ]
    },
    {
     "name": "stderr",
     "output_type": "stream",
     "text": [
      "\u001b[32m[I 2023-05-11 02:14:50,854]\u001b[0m Trial 38 finished with value: 0.8880190107462835 and parameters: {'C': 7.898293112214681}. Best is trial 22 with value: 0.8950116513633835.\u001b[0m\n"
     ]
    },
    {
     "name": "stdout",
     "output_type": "stream",
     "text": [
      "Overall accuracy: 0.888\n",
      "\n"
     ]
    },
    {
     "name": "stderr",
     "output_type": "stream",
     "text": [
      "\u001b[32m[I 2023-05-11 02:14:56,642]\u001b[0m Trial 39 finished with value: 0.8487357316388437 and parameters: {'C': 0.03965465628536447}. Best is trial 22 with value: 0.8950116513633835.\u001b[0m\n"
     ]
    },
    {
     "name": "stdout",
     "output_type": "stream",
     "text": [
      "Overall accuracy: 0.850\n",
      "\n"
     ]
    },
    {
     "name": "stderr",
     "output_type": "stream",
     "text": [
      "\u001b[32m[I 2023-05-11 02:15:00,479]\u001b[0m Trial 40 finished with value: 0.8527109204630171 and parameters: {'C': 833769.3561356814}. Best is trial 22 with value: 0.8950116513633835.\u001b[0m\n"
     ]
    },
    {
     "name": "stdout",
     "output_type": "stream",
     "text": [
      "Overall accuracy: 0.853\n",
      "\n"
     ]
    },
    {
     "name": "stderr",
     "output_type": "stream",
     "text": [
      "\u001b[32m[I 2023-05-11 02:15:03,404]\u001b[0m Trial 41 finished with value: 0.8907405157462763 and parameters: {'C': 5.117466812911719}. Best is trial 22 with value: 0.8950116513633835.\u001b[0m\n"
     ]
    },
    {
     "name": "stdout",
     "output_type": "stream",
     "text": [
      "Overall accuracy: 0.891\n",
      "\n"
     ]
    },
    {
     "name": "stderr",
     "output_type": "stream",
     "text": [
      "\u001b[32m[I 2023-05-11 02:15:06,443]\u001b[0m Trial 42 finished with value: 0.8896206570777947 and parameters: {'C': 16.523673434156287}. Best is trial 22 with value: 0.8950116513633835.\u001b[0m\n"
     ]
    },
    {
     "name": "stdout",
     "output_type": "stream",
     "text": [
      "Overall accuracy: 0.890\n",
      "\n"
     ]
    },
    {
     "name": "stderr",
     "output_type": "stream",
     "text": [
      "\u001b[32m[I 2023-05-11 02:15:11,166]\u001b[0m Trial 43 finished with value: 0.8626171725030001 and parameters: {'C': 0.10312628194040266}. Best is trial 22 with value: 0.8950116513633835.\u001b[0m\n"
     ]
    },
    {
     "name": "stdout",
     "output_type": "stream",
     "text": [
      "Overall accuracy: 0.863\n",
      "\n"
     ]
    },
    {
     "name": "stderr",
     "output_type": "stream",
     "text": [
      "\u001b[32m[I 2023-05-11 02:15:15,240]\u001b[0m Trial 44 finished with value: 0.8585750950100415 and parameters: {'C': 652.6138431984461}. Best is trial 22 with value: 0.8950116513633835.\u001b[0m\n"
     ]
    },
    {
     "name": "stdout",
     "output_type": "stream",
     "text": [
      "Overall accuracy: 0.859\n",
      "\n"
     ]
    },
    {
     "name": "stderr",
     "output_type": "stream",
     "text": [
      "\u001b[32m[I 2023-05-11 02:15:18,399]\u001b[0m Trial 45 finished with value: 0.8954204226931923 and parameters: {'C': 2.019724604356902}. Best is trial 45 with value: 0.8954204226931923.\u001b[0m\n"
     ]
    },
    {
     "name": "stdout",
     "output_type": "stream",
     "text": [
      "Overall accuracy: 0.896\n",
      "\n"
     ]
    },
    {
     "name": "stderr",
     "output_type": "stream",
     "text": [
      "\u001b[32m[I 2023-05-11 02:15:25,051]\u001b[0m Trial 46 finished with value: 0.3416213416213416 and parameters: {'C': 0.003256731594280998}. Best is trial 45 with value: 0.8954204226931923.\u001b[0m\n"
     ]
    },
    {
     "name": "stdout",
     "output_type": "stream",
     "text": [
      "Overall accuracy: 0.519\n",
      "\n"
     ]
    },
    {
     "name": "stderr",
     "output_type": "stream",
     "text": [
      "\u001b[32m[I 2023-05-11 02:15:28,950]\u001b[0m Trial 47 finished with value: 0.8652760421315719 and parameters: {'C': 174.2837435174045}. Best is trial 45 with value: 0.8954204226931923.\u001b[0m\n"
     ]
    },
    {
     "name": "stdout",
     "output_type": "stream",
     "text": [
      "Overall accuracy: 0.865\n",
      "\n"
     ]
    },
    {
     "name": "stderr",
     "output_type": "stream",
     "text": [
      "\u001b[32m[I 2023-05-11 02:15:32,133]\u001b[0m Trial 48 finished with value: 0.8902023006250308 and parameters: {'C': 1.0926059962074615}. Best is trial 45 with value: 0.8954204226931923.\u001b[0m\n"
     ]
    },
    {
     "name": "stdout",
     "output_type": "stream",
     "text": [
      "Overall accuracy: 0.891\n",
      "\n"
     ]
    },
    {
     "name": "stderr",
     "output_type": "stream",
     "text": [
      "\u001b[32m[I 2023-05-11 02:15:35,687]\u001b[0m Trial 49 finished with value: 0.8797781669857085 and parameters: {'C': 45.07196986482815}. Best is trial 45 with value: 0.8954204226931923.\u001b[0m\n"
     ]
    },
    {
     "name": "stdout",
     "output_type": "stream",
     "text": [
      "Overall accuracy: 0.880\n",
      "\n"
     ]
    },
    {
     "name": "stderr",
     "output_type": "stream",
     "text": [
      "\u001b[32m[I 2023-05-11 02:15:38,745]\u001b[0m Trial 50 finished with value: 0.8938030859938161 and parameters: {'C': 1.5455953896222838}. Best is trial 45 with value: 0.8954204226931923.\u001b[0m\n"
     ]
    },
    {
     "name": "stdout",
     "output_type": "stream",
     "text": [
      "Overall accuracy: 0.894\n",
      "\n"
     ]
    },
    {
     "name": "stderr",
     "output_type": "stream",
     "text": [
      "\u001b[32m[I 2023-05-11 02:15:41,814]\u001b[0m Trial 51 finished with value: 0.8946311428644617 and parameters: {'C': 2.141958735627441}. Best is trial 45 with value: 0.8954204226931923.\u001b[0m\n"
     ]
    },
    {
     "name": "stdout",
     "output_type": "stream",
     "text": [
      "Overall accuracy: 0.895\n",
      "\n"
     ]
    },
    {
     "name": "stderr",
     "output_type": "stream",
     "text": [
      "\u001b[32m[I 2023-05-11 02:15:45,161]\u001b[0m Trial 52 finished with value: 0.8954015858313968 and parameters: {'C': 1.8753181886657684}. Best is trial 45 with value: 0.8954204226931923.\u001b[0m\n"
     ]
    },
    {
     "name": "stdout",
     "output_type": "stream",
     "text": [
      "Overall accuracy: 0.896\n",
      "\n"
     ]
    },
    {
     "name": "stderr",
     "output_type": "stream",
     "text": [
      "\u001b[32m[I 2023-05-11 02:15:49,623]\u001b[0m Trial 53 finished with value: 0.8618253406442278 and parameters: {'C': 0.10125063487483592}. Best is trial 45 with value: 0.8954204226931923.\u001b[0m\n"
     ]
    },
    {
     "name": "stdout",
     "output_type": "stream",
     "text": [
      "Overall accuracy: 0.863\n",
      "\n"
     ]
    },
    {
     "name": "stderr",
     "output_type": "stream",
     "text": [
      "\u001b[32m[I 2023-05-11 02:15:52,577]\u001b[0m Trial 54 finished with value: 0.8946495917775291 and parameters: {'C': 2.265380699478121}. Best is trial 45 with value: 0.8954204226931923.\u001b[0m\n"
     ]
    },
    {
     "name": "stdout",
     "output_type": "stream",
     "text": [
      "Overall accuracy: 0.895\n",
      "\n"
     ]
    },
    {
     "name": "stderr",
     "output_type": "stream",
     "text": [
      "\u001b[32m[I 2023-05-11 02:15:56,403]\u001b[0m Trial 55 finished with value: 0.877031944144372 and parameters: {'C': 0.35607834737865623}. Best is trial 45 with value: 0.8954204226931923.\u001b[0m\n"
     ]
    },
    {
     "name": "stdout",
     "output_type": "stream",
     "text": [
      "Overall accuracy: 0.878\n",
      "\n"
     ]
    },
    {
     "name": "stderr",
     "output_type": "stream",
     "text": [
      "\u001b[32m[I 2023-05-11 02:15:59,484]\u001b[0m Trial 56 finished with value: 0.895791523418211 and parameters: {'C': 1.704225134323023}. Best is trial 56 with value: 0.895791523418211.\u001b[0m\n"
     ]
    },
    {
     "name": "stdout",
     "output_type": "stream",
     "text": [
      "Overall accuracy: 0.896\n",
      "\n"
     ]
    },
    {
     "name": "stderr",
     "output_type": "stream",
     "text": [
      "\u001b[32m[I 2023-05-11 02:16:02,928]\u001b[0m Trial 57 finished with value: 0.8762600518903259 and parameters: {'C': 54.360354815353936}. Best is trial 56 with value: 0.895791523418211.\u001b[0m\n"
     ]
    },
    {
     "name": "stdout",
     "output_type": "stream",
     "text": [
      "Overall accuracy: 0.876\n",
      "\n"
     ]
    },
    {
     "name": "stderr",
     "output_type": "stream",
     "text": [
      "\u001b[32m[I 2023-05-11 02:16:08,833]\u001b[0m Trial 58 finished with value: 0.8453905466394296 and parameters: {'C': 0.034946471981909866}. Best is trial 56 with value: 0.895791523418211.\u001b[0m\n"
     ]
    },
    {
     "name": "stdout",
     "output_type": "stream",
     "text": [
      "Overall accuracy: 0.847\n",
      "\n"
     ]
    },
    {
     "name": "stderr",
     "output_type": "stream",
     "text": [
      "\u001b[32m[I 2023-05-11 02:16:12,754]\u001b[0m Trial 59 finished with value: 0.8613202400436444 and parameters: {'C': 313.5886919272645}. Best is trial 56 with value: 0.895791523418211.\u001b[0m\n"
     ]
    },
    {
     "name": "stdout",
     "output_type": "stream",
     "text": [
      "Overall accuracy: 0.862\n",
      "\n"
     ]
    },
    {
     "name": "stderr",
     "output_type": "stream",
     "text": [
      "\u001b[32m[I 2023-05-11 02:16:19,380]\u001b[0m Trial 60 finished with value: 0.3416213416213416 and parameters: {'C': 0.0019806876248997093}. Best is trial 56 with value: 0.895791523418211.\u001b[0m\n"
     ]
    },
    {
     "name": "stdout",
     "output_type": "stream",
     "text": [
      "Overall accuracy: 0.519\n",
      "\n"
     ]
    },
    {
     "name": "stderr",
     "output_type": "stream",
     "text": [
      "\u001b[32m[I 2023-05-11 02:16:22,442]\u001b[0m Trial 61 finished with value: 0.895382222261566 and parameters: {'C': 1.6192793025347567}. Best is trial 56 with value: 0.895791523418211.\u001b[0m\n"
     ]
    },
    {
     "name": "stdout",
     "output_type": "stream",
     "text": [
      "Overall accuracy: 0.896\n",
      "\n"
     ]
    },
    {
     "name": "stderr",
     "output_type": "stream",
     "text": [
      "\u001b[32m[I 2023-05-11 02:16:25,608]\u001b[0m Trial 62 finished with value: 0.8946311428644617 and parameters: {'C': 2.151095641601407}. Best is trial 56 with value: 0.895791523418211.\u001b[0m\n"
     ]
    },
    {
     "name": "stdout",
     "output_type": "stream",
     "text": [
      "Overall accuracy: 0.895\n",
      "\n"
     ]
    },
    {
     "name": "stderr",
     "output_type": "stream",
     "text": [
      "\u001b[32m[I 2023-05-11 02:16:29,367]\u001b[0m Trial 63 finished with value: 0.8750192931007871 and parameters: {'C': 0.24340866892005086}. Best is trial 56 with value: 0.895791523418211.\u001b[0m\n"
     ]
    },
    {
     "name": "stdout",
     "output_type": "stream",
     "text": [
      "Overall accuracy: 0.876\n",
      "\n"
     ]
    },
    {
     "name": "stderr",
     "output_type": "stream",
     "text": [
      "\u001b[32m[I 2023-05-11 02:16:32,764]\u001b[0m Trial 64 finished with value: 0.8806494843116952 and parameters: {'C': 0.5110680214002078}. Best is trial 56 with value: 0.895791523418211.\u001b[0m\n"
     ]
    },
    {
     "name": "stdout",
     "output_type": "stream",
     "text": [
      "Overall accuracy: 0.881\n",
      "\n"
     ]
    },
    {
     "name": "stderr",
     "output_type": "stream",
     "text": [
      "\u001b[32m[I 2023-05-11 02:16:36,454]\u001b[0m Trial 65 finished with value: 0.8758700359757231 and parameters: {'C': 66.29414222713079}. Best is trial 56 with value: 0.895791523418211.\u001b[0m\n"
     ]
    },
    {
     "name": "stdout",
     "output_type": "stream",
     "text": [
      "Overall accuracy: 0.876\n",
      "\n"
     ]
    },
    {
     "name": "stderr",
     "output_type": "stream",
     "text": [
      "\u001b[32m[I 2023-05-11 02:16:43,029]\u001b[0m Trial 66 finished with value: 0.7902559459598295 and parameters: {'C': 0.015682491584807962}. Best is trial 56 with value: 0.895791523418211.\u001b[0m\n"
     ]
    },
    {
     "name": "stdout",
     "output_type": "stream",
     "text": [
      "Overall accuracy: 0.798\n",
      "\n"
     ]
    },
    {
     "name": "stderr",
     "output_type": "stream",
     "text": [
      "\u001b[32m[I 2023-05-11 02:16:47,632]\u001b[0m Trial 67 finished with value: 0.863460042924168 and parameters: {'C': 0.11048229253244546}. Best is trial 56 with value: 0.895791523418211.\u001b[0m\n"
     ]
    },
    {
     "name": "stdout",
     "output_type": "stream",
     "text": [
      "Overall accuracy: 0.864\n",
      "\n"
     ]
    },
    {
     "name": "stderr",
     "output_type": "stream",
     "text": [
      "\u001b[32m[I 2023-05-11 02:16:50,741]\u001b[0m Trial 68 finished with value: 0.8918734475906607 and parameters: {'C': 2.787954923676109}. Best is trial 56 with value: 0.895791523418211.\u001b[0m\n"
     ]
    },
    {
     "name": "stdout",
     "output_type": "stream",
     "text": [
      "Overall accuracy: 0.892\n",
      "\n"
     ]
    },
    {
     "name": "stderr",
     "output_type": "stream",
     "text": [
      "\u001b[32m[I 2023-05-11 02:16:54,148]\u001b[0m Trial 69 finished with value: 0.8790064874045002 and parameters: {'C': 34.728457951423735}. Best is trial 56 with value: 0.895791523418211.\u001b[0m\n"
     ]
    },
    {
     "name": "stdout",
     "output_type": "stream",
     "text": [
      "Overall accuracy: 0.879\n",
      "\n"
     ]
    },
    {
     "name": "stderr",
     "output_type": "stream",
     "text": [
      "\u001b[32m[I 2023-05-11 02:16:58,065]\u001b[0m Trial 70 finished with value: 0.8613117280793283 and parameters: {'C': 277.0401783758002}. Best is trial 56 with value: 0.895791523418211.\u001b[0m\n"
     ]
    },
    {
     "name": "stdout",
     "output_type": "stream",
     "text": [
      "Overall accuracy: 0.862\n",
      "\n"
     ]
    },
    {
     "name": "stderr",
     "output_type": "stream",
     "text": [
      "\u001b[32m[I 2023-05-11 02:17:01,079]\u001b[0m Trial 71 finished with value: 0.8949923469514528 and parameters: {'C': 1.6401230752668414}. Best is trial 56 with value: 0.895791523418211.\u001b[0m\n"
     ]
    },
    {
     "name": "stdout",
     "output_type": "stream",
     "text": [
      "Overall accuracy: 0.895\n",
      "\n"
     ]
    },
    {
     "name": "stderr",
     "output_type": "stream",
     "text": [
      "\u001b[32m[I 2023-05-11 02:17:04,233]\u001b[0m Trial 72 finished with value: 0.8922633033782698 and parameters: {'C': 3.060957662401808}. Best is trial 56 with value: 0.895791523418211.\u001b[0m\n"
     ]
    },
    {
     "name": "stdout",
     "output_type": "stream",
     "text": [
      "Overall accuracy: 0.893\n",
      "\n"
     ]
    },
    {
     "name": "stderr",
     "output_type": "stream",
     "text": [
      "\u001b[32m[I 2023-05-11 02:17:07,696]\u001b[0m Trial 73 finished with value: 0.8806494843116952 and parameters: {'C': 0.5189268699911028}. Best is trial 56 with value: 0.895791523418211.\u001b[0m\n"
     ]
    },
    {
     "name": "stdout",
     "output_type": "stream",
     "text": [
      "Overall accuracy: 0.881\n",
      "\n"
     ]
    },
    {
     "name": "stderr",
     "output_type": "stream",
     "text": [
      "\u001b[32m[I 2023-05-11 02:17:10,761]\u001b[0m Trial 74 finished with value: 0.8876693692773159 and parameters: {'C': 18.899384401661948}. Best is trial 56 with value: 0.895791523418211.\u001b[0m\n"
     ]
    },
    {
     "name": "stdout",
     "output_type": "stream",
     "text": [
      "Overall accuracy: 0.888\n",
      "\n"
     ]
    },
    {
     "name": "stderr",
     "output_type": "stream",
     "text": [
      "\u001b[32m[I 2023-05-11 02:17:13,726]\u001b[0m Trial 75 finished with value: 0.8903233576501862 and parameters: {'C': 4.096337019953365}. Best is trial 56 with value: 0.895791523418211.\u001b[0m\n"
     ]
    },
    {
     "name": "stdout",
     "output_type": "stream",
     "text": [
      "Overall accuracy: 0.891\n",
      "\n"
     ]
    },
    {
     "name": "stderr",
     "output_type": "stream",
     "text": [
      "\u001b[32m[I 2023-05-11 02:17:18,998]\u001b[0m Trial 76 finished with value: 0.8576773208505568 and parameters: {'C': 0.0676460113718976}. Best is trial 56 with value: 0.895791523418211.\u001b[0m\n"
     ]
    },
    {
     "name": "stdout",
     "output_type": "stream",
     "text": [
      "Overall accuracy: 0.859\n",
      "\n"
     ]
    },
    {
     "name": "stderr",
     "output_type": "stream",
     "text": [
      "\u001b[32m[I 2023-05-11 02:17:25,590]\u001b[0m Trial 77 finished with value: 0.602331109079384 and parameters: {'C': 0.011263593029568324}. Best is trial 56 with value: 0.895791523418211.\u001b[0m\n"
     ]
    },
    {
     "name": "stdout",
     "output_type": "stream",
     "text": [
      "Overall accuracy: 0.659\n",
      "\n"
     ]
    },
    {
     "name": "stderr",
     "output_type": "stream",
     "text": [
      "\u001b[32m[I 2023-05-11 02:17:29,009]\u001b[0m Trial 78 finished with value: 0.881427128527644 and parameters: {'C': 0.5706541770143576}. Best is trial 56 with value: 0.895791523418211.\u001b[0m\n"
     ]
    },
    {
     "name": "stdout",
     "output_type": "stream",
     "text": [
      "Overall accuracy: 0.882\n",
      "\n"
     ]
    },
    {
     "name": "stderr",
     "output_type": "stream",
     "text": [
      "\u001b[32m[I 2023-05-11 02:17:32,264]\u001b[0m Trial 79 finished with value: 0.8900188089115999 and parameters: {'C': 16.9814229177487}. Best is trial 56 with value: 0.895791523418211.\u001b[0m\n"
     ]
    },
    {
     "name": "stdout",
     "output_type": "stream",
     "text": [
      "Overall accuracy: 0.890\n",
      "\n"
     ]
    },
    {
     "name": "stderr",
     "output_type": "stream",
     "text": [
      "\u001b[32m[I 2023-05-11 02:17:36,018]\u001b[0m Trial 80 finished with value: 0.8676691505659423 and parameters: {'C': 125.65144233145539}. Best is trial 56 with value: 0.895791523418211.\u001b[0m\n"
     ]
    },
    {
     "name": "stdout",
     "output_type": "stream",
     "text": [
      "Overall accuracy: 0.868\n",
      "\n"
     ]
    },
    {
     "name": "stderr",
     "output_type": "stream",
     "text": [
      "\u001b[32m[I 2023-05-11 02:17:39,300]\u001b[0m Trial 81 finished with value: 0.8934032857768542 and parameters: {'C': 1.4894259466717388}. Best is trial 56 with value: 0.895791523418211.\u001b[0m\n"
     ]
    },
    {
     "name": "stdout",
     "output_type": "stream",
     "text": [
      "Overall accuracy: 0.894\n",
      "\n"
     ]
    },
    {
     "name": "stderr",
     "output_type": "stream",
     "text": [
      "\u001b[32m[I 2023-05-11 02:17:43,406]\u001b[0m Trial 82 finished with value: 0.875407570958775 and parameters: {'C': 0.21799399884596424}. Best is trial 56 with value: 0.895791523418211.\u001b[0m\n"
     ]
    },
    {
     "name": "stdout",
     "output_type": "stream",
     "text": [
      "Overall accuracy: 0.876\n",
      "\n"
     ]
    },
    {
     "name": "stderr",
     "output_type": "stream",
     "text": [
      "\u001b[32m[I 2023-05-11 02:17:47,054]\u001b[0m Trial 83 finished with value: 0.890314028857377 and parameters: {'C': 3.740417639431066}. Best is trial 56 with value: 0.895791523418211.\u001b[0m\n"
     ]
    },
    {
     "name": "stdout",
     "output_type": "stream",
     "text": [
      "Overall accuracy: 0.891\n",
      "\n"
     ]
    },
    {
     "name": "stderr",
     "output_type": "stream",
     "text": [
      "\u001b[32m[I 2023-05-11 02:17:50,422]\u001b[0m Trial 84 finished with value: 0.8890118978974473 and parameters: {'C': 1.0406978646916218}. Best is trial 56 with value: 0.895791523418211.\u001b[0m\n"
     ]
    },
    {
     "name": "stdout",
     "output_type": "stream",
     "text": [
      "Overall accuracy: 0.889\n",
      "\n"
     ]
    },
    {
     "name": "stderr",
     "output_type": "stream",
     "text": [
      "\u001b[32m[I 2023-05-11 02:17:53,384]\u001b[0m Trial 85 finished with value: 0.8872634276810702 and parameters: {'C': 8.486832353926562}. Best is trial 56 with value: 0.895791523418211.\u001b[0m\n"
     ]
    },
    {
     "name": "stdout",
     "output_type": "stream",
     "text": [
      "Overall accuracy: 0.887\n",
      "\n"
     ]
    },
    {
     "name": "stderr",
     "output_type": "stream",
     "text": [
      "\u001b[32m[I 2023-05-11 02:17:56,694]\u001b[0m Trial 86 finished with value: 0.8841180793956478 and parameters: {'C': 22.80897791855581}. Best is trial 56 with value: 0.895791523418211.\u001b[0m\n"
     ]
    },
    {
     "name": "stdout",
     "output_type": "stream",
     "text": [
      "Overall accuracy: 0.884\n",
      "\n"
     ]
    },
    {
     "name": "stderr",
     "output_type": "stream",
     "text": [
      "\u001b[32m[I 2023-05-11 02:18:00,945]\u001b[0m Trial 87 finished with value: 0.8698395074582708 and parameters: {'C': 0.1658657080537684}. Best is trial 56 with value: 0.895791523418211.\u001b[0m\n"
     ]
    },
    {
     "name": "stdout",
     "output_type": "stream",
     "text": [
      "Overall accuracy: 0.871\n",
      "\n"
     ]
    },
    {
     "name": "stderr",
     "output_type": "stream",
     "text": [
      "\u001b[32m[I 2023-05-11 02:18:07,393]\u001b[0m Trial 88 finished with value: 0.8270052254296594 and parameters: {'C': 0.022119172954372768}. Best is trial 56 with value: 0.895791523418211.\u001b[0m\n"
     ]
    },
    {
     "name": "stdout",
     "output_type": "stream",
     "text": [
      "Overall accuracy: 0.830\n",
      "\n"
     ]
    },
    {
     "name": "stderr",
     "output_type": "stream",
     "text": [
      "\u001b[32m[I 2023-05-11 02:18:12,828]\u001b[0m Trial 89 finished with value: 0.8568033252590388 and parameters: {'C': 0.05758304597963085}. Best is trial 56 with value: 0.895791523418211.\u001b[0m\n"
     ]
    },
    {
     "name": "stdout",
     "output_type": "stream",
     "text": [
      "Overall accuracy: 0.858\n",
      "\n"
     ]
    },
    {
     "name": "stderr",
     "output_type": "stream",
     "text": [
      "\u001b[32m[I 2023-05-11 02:18:15,958]\u001b[0m Trial 90 finished with value: 0.8918137920065212 and parameters: {'C': 1.364172348190274}. Best is trial 56 with value: 0.895791523418211.\u001b[0m\n"
     ]
    },
    {
     "name": "stdout",
     "output_type": "stream",
     "text": [
      "Overall accuracy: 0.892\n",
      "\n"
     ]
    },
    {
     "name": "stderr",
     "output_type": "stream",
     "text": [
      "\u001b[32m[I 2023-05-11 02:18:19,007]\u001b[0m Trial 91 finished with value: 0.8953919699209403 and parameters: {'C': 1.7015579639413239}. Best is trial 56 with value: 0.895791523418211.\u001b[0m\n"
     ]
    },
    {
     "name": "stdout",
     "output_type": "stream",
     "text": [
      "Overall accuracy: 0.896\n",
      "\n"
     ]
    },
    {
     "name": "stderr",
     "output_type": "stream",
     "text": [
      "\u001b[32m[I 2023-05-11 02:18:22,058]\u001b[0m Trial 92 finished with value: 0.8907493309282073 and parameters: {'C': 5.594551774312654}. Best is trial 56 with value: 0.895791523418211.\u001b[0m\n"
     ]
    },
    {
     "name": "stdout",
     "output_type": "stream",
     "text": [
      "Overall accuracy: 0.891\n",
      "\n"
     ]
    },
    {
     "name": "stderr",
     "output_type": "stream",
     "text": [
      "\u001b[32m[I 2023-05-11 02:18:25,197]\u001b[0m Trial 93 finished with value: 0.8858171786054283 and parameters: {'C': 0.7774821328012897}. Best is trial 56 with value: 0.895791523418211.\u001b[0m\n"
     ]
    },
    {
     "name": "stdout",
     "output_type": "stream",
     "text": [
      "Overall accuracy: 0.886\n",
      "\n"
     ]
    },
    {
     "name": "stderr",
     "output_type": "stream",
     "text": [
      "\u001b[32m[I 2023-05-11 02:18:28,439]\u001b[0m Trial 94 finished with value: 0.8797865179985309 and parameters: {'C': 28.950914459217042}. Best is trial 56 with value: 0.895791523418211.\u001b[0m\n"
     ]
    },
    {
     "name": "stdout",
     "output_type": "stream",
     "text": [
      "Overall accuracy: 0.880\n",
      "\n"
     ]
    },
    {
     "name": "stderr",
     "output_type": "stream",
     "text": [
      "\u001b[32m[I 2023-05-11 02:18:32,163]\u001b[0m Trial 95 finished with value: 0.8762129642465024 and parameters: {'C': 0.2655046912706995}. Best is trial 56 with value: 0.895791523418211.\u001b[0m\n"
     ]
    },
    {
     "name": "stdout",
     "output_type": "stream",
     "text": [
      "Overall accuracy: 0.877\n",
      "\n"
     ]
    },
    {
     "name": "stderr",
     "output_type": "stream",
     "text": [
      "\u001b[32m[I 2023-05-11 02:18:35,755]\u001b[0m Trial 96 finished with value: 0.8739197527993894 and parameters: {'C': 70.63331471148646}. Best is trial 56 with value: 0.895791523418211.\u001b[0m\n"
     ]
    },
    {
     "name": "stdout",
     "output_type": "stream",
     "text": [
      "Overall accuracy: 0.874\n",
      "\n"
     ]
    },
    {
     "name": "stderr",
     "output_type": "stream",
     "text": [
      "\u001b[32m[I 2023-05-11 02:18:38,750]\u001b[0m Trial 97 finished with value: 0.8938785037228765 and parameters: {'C': 2.5537759359030865}. Best is trial 56 with value: 0.895791523418211.\u001b[0m\n"
     ]
    },
    {
     "name": "stdout",
     "output_type": "stream",
     "text": [
      "Overall accuracy: 0.894\n",
      "\n"
     ]
    },
    {
     "name": "stderr",
     "output_type": "stream",
     "text": [
      "\u001b[32m[I 2023-05-11 02:18:41,743]\u001b[0m Trial 98 finished with value: 0.8876536220064731 and parameters: {'C': 8.316803120195566}. Best is trial 56 with value: 0.895791523418211.\u001b[0m\n"
     ]
    },
    {
     "name": "stdout",
     "output_type": "stream",
     "text": [
      "Overall accuracy: 0.888\n",
      "\n"
     ]
    },
    {
     "name": "stderr",
     "output_type": "stream",
     "text": [
      "\u001b[32m[I 2023-05-11 02:18:47,043]\u001b[0m Trial 99 finished with value: 0.8551316599535682 and parameters: {'C': 0.05432867798450359}. Best is trial 56 with value: 0.895791523418211.\u001b[0m\n",
      "\u001b[32m[I 2023-05-11 02:18:47,187]\u001b[0m A new study created in memory with name: no-name-29b41584-f7f6-40b0-adac-ff2bd5fb1cb9\u001b[0m\n"
     ]
    },
    {
     "name": "stdout",
     "output_type": "stream",
     "text": [
      "Overall accuracy: 0.856\n",
      "\n",
      "Accuracy: 0.895791523418211\n",
      "Best hyperparameters: {'C': 1.704225134323023}\n",
      "\n",
      "\n",
      "\n",
      "Model :- SVC, DataType :- RSDHP\n"
     ]
    },
    {
     "name": "stderr",
     "output_type": "stream",
     "text": [
      "\u001b[32m[I 2023-05-11 02:18:50,818]\u001b[0m Trial 0 finished with value: 0.8836592515710243 and parameters: {'C': 17.295633446876955}. Best is trial 0 with value: 0.8836592515710243.\u001b[0m\n"
     ]
    },
    {
     "name": "stdout",
     "output_type": "stream",
     "text": [
      "Overall accuracy: 0.884\n",
      "\n"
     ]
    },
    {
     "name": "stderr",
     "output_type": "stream",
     "text": [
      "\u001b[32m[I 2023-05-11 02:18:58,363]\u001b[0m Trial 1 finished with value: 0.3416213416213416 and parameters: {'C': 2.196543595922703e-06}. Best is trial 0 with value: 0.8836592515710243.\u001b[0m\n"
     ]
    },
    {
     "name": "stdout",
     "output_type": "stream",
     "text": [
      "Overall accuracy: 0.519\n",
      "\n"
     ]
    },
    {
     "name": "stderr",
     "output_type": "stream",
     "text": [
      "\u001b[32m[I 2023-05-11 02:19:02,354]\u001b[0m Trial 2 finished with value: 0.8640300917086403 and parameters: {'C': 230.28276344516928}. Best is trial 0 with value: 0.8836592515710243.\u001b[0m\n"
     ]
    },
    {
     "name": "stdout",
     "output_type": "stream",
     "text": [
      "Overall accuracy: 0.864\n",
      "\n"
     ]
    },
    {
     "name": "stderr",
     "output_type": "stream",
     "text": [
      "\u001b[32m[I 2023-05-11 02:19:09,678]\u001b[0m Trial 3 finished with value: 0.3416213416213416 and parameters: {'C': 8.323928491388451e-08}. Best is trial 0 with value: 0.8836592515710243.\u001b[0m\n"
     ]
    },
    {
     "name": "stdout",
     "output_type": "stream",
     "text": [
      "Overall accuracy: 0.519\n",
      "\n"
     ]
    },
    {
     "name": "stderr",
     "output_type": "stream",
     "text": [
      "\u001b[32m[I 2023-05-11 02:19:16,999]\u001b[0m Trial 4 finished with value: 0.8111051546792015 and parameters: {'C': 0.01792607531035766}. Best is trial 0 with value: 0.8836592515710243.\u001b[0m\n"
     ]
    },
    {
     "name": "stdout",
     "output_type": "stream",
     "text": [
      "Overall accuracy: 0.816\n",
      "\n"
     ]
    },
    {
     "name": "stderr",
     "output_type": "stream",
     "text": [
      "\u001b[32m[I 2023-05-11 02:19:24,355]\u001b[0m Trial 5 finished with value: 0.3416213416213416 and parameters: {'C': 7.43180931738188e-07}. Best is trial 0 with value: 0.8836592515710243.\u001b[0m\n"
     ]
    },
    {
     "name": "stdout",
     "output_type": "stream",
     "text": [
      "Overall accuracy: 0.519\n",
      "\n"
     ]
    },
    {
     "name": "stderr",
     "output_type": "stream",
     "text": [
      "\u001b[32m[I 2023-05-11 02:19:31,584]\u001b[0m Trial 6 finished with value: 0.3416213416213416 and parameters: {'C': 5.965158331180377e-05}. Best is trial 0 with value: 0.8836592515710243.\u001b[0m\n"
     ]
    },
    {
     "name": "stdout",
     "output_type": "stream",
     "text": [
      "Overall accuracy: 0.519\n",
      "\n"
     ]
    },
    {
     "name": "stderr",
     "output_type": "stream",
     "text": [
      "\u001b[32m[I 2023-05-11 02:19:35,311]\u001b[0m Trial 7 finished with value: 0.8853918889085816 and parameters: {'C': 0.5492520078602262}. Best is trial 7 with value: 0.8853918889085816.\u001b[0m\n"
     ]
    },
    {
     "name": "stdout",
     "output_type": "stream",
     "text": [
      "Overall accuracy: 0.886\n",
      "\n"
     ]
    },
    {
     "name": "stderr",
     "output_type": "stream",
     "text": [
      "\u001b[32m[I 2023-05-11 02:19:39,367]\u001b[0m Trial 8 finished with value: 0.8695205224005003 and parameters: {'C': 137.53738951248482}. Best is trial 7 with value: 0.8853918889085816.\u001b[0m\n"
     ]
    },
    {
     "name": "stdout",
     "output_type": "stream",
     "text": [
      "Overall accuracy: 0.870\n",
      "\n"
     ]
    },
    {
     "name": "stderr",
     "output_type": "stream",
     "text": [
      "\u001b[32m[I 2023-05-11 02:19:46,675]\u001b[0m Trial 9 finished with value: 0.3416213416213416 and parameters: {'C': 0.0013611175989736526}. Best is trial 7 with value: 0.8853918889085816.\u001b[0m\n"
     ]
    },
    {
     "name": "stdout",
     "output_type": "stream",
     "text": [
      "Overall accuracy: 0.519\n",
      "\n"
     ]
    },
    {
     "name": "stderr",
     "output_type": "stream",
     "text": [
      "\u001b[32m[I 2023-05-11 02:19:50,861]\u001b[0m Trial 10 finished with value: 0.8628961464067848 and parameters: {'C': 17232981.576401737}. Best is trial 7 with value: 0.8853918889085816.\u001b[0m\n"
     ]
    },
    {
     "name": "stdout",
     "output_type": "stream",
     "text": [
      "Overall accuracy: 0.863\n",
      "\n"
     ]
    },
    {
     "name": "stderr",
     "output_type": "stream",
     "text": [
      "\u001b[32m[I 2023-05-11 02:19:54,263]\u001b[0m Trial 11 finished with value: 0.8926336907945204 and parameters: {'C': 3.6199054875689756}. Best is trial 11 with value: 0.8926336907945204.\u001b[0m\n"
     ]
    },
    {
     "name": "stdout",
     "output_type": "stream",
     "text": [
      "Overall accuracy: 0.893\n",
      "\n"
     ]
    },
    {
     "name": "stderr",
     "output_type": "stream",
     "text": [
      "\u001b[32m[I 2023-05-11 02:20:01,557]\u001b[0m Trial 12 finished with value: 0.3416213416213416 and parameters: {'C': 4.1055773492921233e-10}. Best is trial 11 with value: 0.8926336907945204.\u001b[0m\n"
     ]
    },
    {
     "name": "stdout",
     "output_type": "stream",
     "text": [
      "Overall accuracy: 0.519\n",
      "\n"
     ]
    },
    {
     "name": "stderr",
     "output_type": "stream",
     "text": [
      "\u001b[32m[I 2023-05-11 02:20:05,937]\u001b[0m Trial 13 finished with value: 0.8765869644374318 and parameters: {'C': 0.20385341447946861}. Best is trial 11 with value: 0.8926336907945204.\u001b[0m\n"
     ]
    },
    {
     "name": "stdout",
     "output_type": "stream",
     "text": [
      "Overall accuracy: 0.877\n",
      "\n"
     ]
    },
    {
     "name": "stderr",
     "output_type": "stream",
     "text": [
      "\u001b[32m[I 2023-05-11 02:20:10,091]\u001b[0m Trial 14 finished with value: 0.8628961464067848 and parameters: {'C': 22977.383191614932}. Best is trial 11 with value: 0.8926336907945204.\u001b[0m\n"
     ]
    },
    {
     "name": "stdout",
     "output_type": "stream",
     "text": [
      "Overall accuracy: 0.863\n",
      "\n"
     ]
    },
    {
     "name": "stderr",
     "output_type": "stream",
     "text": [
      "\u001b[32m[I 2023-05-11 02:20:14,569]\u001b[0m Trial 15 finished with value: 0.8766013273653342 and parameters: {'C': 0.20835513564724778}. Best is trial 11 with value: 0.8926336907945204.\u001b[0m\n"
     ]
    },
    {
     "name": "stdout",
     "output_type": "stream",
     "text": [
      "Overall accuracy: 0.877\n",
      "\n"
     ]
    },
    {
     "name": "stderr",
     "output_type": "stream",
     "text": [
      "\u001b[32m[I 2023-05-11 02:20:18,847]\u001b[0m Trial 16 finished with value: 0.8628961464067848 and parameters: {'C': 9994485459.51508}. Best is trial 11 with value: 0.8926336907945204.\u001b[0m\n"
     ]
    },
    {
     "name": "stdout",
     "output_type": "stream",
     "text": [
      "Overall accuracy: 0.863\n",
      "\n"
     ]
    },
    {
     "name": "stderr",
     "output_type": "stream",
     "text": [
      "\u001b[32m[I 2023-05-11 02:20:23,054]\u001b[0m Trial 17 finished with value: 0.8628961464067848 and parameters: {'C': 11066.82090725162}. Best is trial 11 with value: 0.8926336907945204.\u001b[0m\n"
     ]
    },
    {
     "name": "stdout",
     "output_type": "stream",
     "text": [
      "Overall accuracy: 0.863\n",
      "\n"
     ]
    },
    {
     "name": "stderr",
     "output_type": "stream",
     "text": [
      "\u001b[32m[I 2023-05-11 02:20:31,086]\u001b[0m Trial 18 finished with value: 0.3416213416213416 and parameters: {'C': 0.0033657596618408736}. Best is trial 11 with value: 0.8926336907945204.\u001b[0m\n"
     ]
    },
    {
     "name": "stdout",
     "output_type": "stream",
     "text": [
      "Overall accuracy: 0.519\n",
      "\n"
     ]
    },
    {
     "name": "stderr",
     "output_type": "stream",
     "text": [
      "\u001b[32m[I 2023-05-11 02:20:34,992]\u001b[0m Trial 19 finished with value: 0.8893787704718281 and parameters: {'C': 0.9075938504164826}. Best is trial 11 with value: 0.8926336907945204.\u001b[0m\n"
     ]
    },
    {
     "name": "stdout",
     "output_type": "stream",
     "text": [
      "Overall accuracy: 0.890\n",
      "\n"
     ]
    },
    {
     "name": "stderr",
     "output_type": "stream",
     "text": [
      "\u001b[32m[I 2023-05-11 02:20:38,664]\u001b[0m Trial 20 finished with value: 0.8899241734628074 and parameters: {'C': 6.088361217478446}. Best is trial 11 with value: 0.8926336907945204.\u001b[0m\n"
     ]
    },
    {
     "name": "stdout",
     "output_type": "stream",
     "text": [
      "Overall accuracy: 0.890\n",
      "\n"
     ]
    },
    {
     "name": "stderr",
     "output_type": "stream",
     "text": [
      "\u001b[32m[I 2023-05-11 02:20:42,373]\u001b[0m Trial 21 finished with value: 0.894202815725524 and parameters: {'C': 3.217939775614153}. Best is trial 21 with value: 0.894202815725524.\u001b[0m\n"
     ]
    },
    {
     "name": "stdout",
     "output_type": "stream",
     "text": [
      "Overall accuracy: 0.895\n",
      "\n"
     ]
    },
    {
     "name": "stderr",
     "output_type": "stream",
     "text": [
      "\u001b[32m[I 2023-05-11 02:20:46,481]\u001b[0m Trial 22 finished with value: 0.8836683478280565 and parameters: {'C': 22.77844831284263}. Best is trial 21 with value: 0.894202815725524.\u001b[0m\n"
     ]
    },
    {
     "name": "stdout",
     "output_type": "stream",
     "text": [
      "Overall accuracy: 0.884\n",
      "\n"
     ]
    },
    {
     "name": "stderr",
     "output_type": "stream",
     "text": [
      "\u001b[32m[I 2023-05-11 02:20:50,861]\u001b[0m Trial 23 finished with value: 0.8628961464067848 and parameters: {'C': 3912.0781087347345}. Best is trial 21 with value: 0.894202815725524.\u001b[0m\n"
     ]
    },
    {
     "name": "stdout",
     "output_type": "stream",
     "text": [
      "Overall accuracy: 0.863\n",
      "\n"
     ]
    },
    {
     "name": "stderr",
     "output_type": "stream",
     "text": [
      "\u001b[32m[I 2023-05-11 02:20:58,697]\u001b[0m Trial 24 finished with value: 0.3416213416213416 and parameters: {'C': 0.005824759441984715}. Best is trial 21 with value: 0.894202815725524.\u001b[0m\n"
     ]
    },
    {
     "name": "stdout",
     "output_type": "stream",
     "text": [
      "Overall accuracy: 0.519\n",
      "\n"
     ]
    },
    {
     "name": "stderr",
     "output_type": "stream",
     "text": [
      "\u001b[32m[I 2023-05-11 02:21:02,932]\u001b[0m Trial 25 finished with value: 0.8841016899316844 and parameters: {'C': 43.771443390652564}. Best is trial 21 with value: 0.894202815725524.\u001b[0m\n"
     ]
    },
    {
     "name": "stdout",
     "output_type": "stream",
     "text": [
      "Overall accuracy: 0.884\n",
      "\n"
     ]
    },
    {
     "name": "stderr",
     "output_type": "stream",
     "text": [
      "\u001b[32m[I 2023-05-11 02:21:10,520]\u001b[0m Trial 26 finished with value: 0.3416213416213416 and parameters: {'C': 0.00016541367810425222}. Best is trial 21 with value: 0.894202815725524.\u001b[0m\n"
     ]
    },
    {
     "name": "stdout",
     "output_type": "stream",
     "text": [
      "Overall accuracy: 0.519\n",
      "\n"
     ]
    },
    {
     "name": "stderr",
     "output_type": "stream",
     "text": [
      "\u001b[32m[I 2023-05-11 02:21:14,269]\u001b[0m Trial 27 finished with value: 0.8910745303389459 and parameters: {'C': 4.611142157821268}. Best is trial 21 with value: 0.894202815725524.\u001b[0m\n"
     ]
    },
    {
     "name": "stdout",
     "output_type": "stream",
     "text": [
      "Overall accuracy: 0.891\n",
      "\n"
     ]
    },
    {
     "name": "stderr",
     "output_type": "stream",
     "text": [
      "\u001b[32m[I 2023-05-11 02:21:21,420]\u001b[0m Trial 28 finished with value: 0.8525683164499911 and parameters: {'C': 0.03690043250416736}. Best is trial 21 with value: 0.894202815725524.\u001b[0m\n"
     ]
    },
    {
     "name": "stdout",
     "output_type": "stream",
     "text": [
      "Overall accuracy: 0.854\n",
      "\n"
     ]
    },
    {
     "name": "stderr",
     "output_type": "stream",
     "text": [
      "\u001b[32m[I 2023-05-11 02:21:25,105]\u001b[0m Trial 29 finished with value: 0.8918541070434852 and parameters: {'C': 4.7693500163413844}. Best is trial 21 with value: 0.894202815725524.\u001b[0m\n"
     ]
    },
    {
     "name": "stdout",
     "output_type": "stream",
     "text": [
      "Overall accuracy: 0.892\n",
      "\n"
     ]
    },
    {
     "name": "stderr",
     "output_type": "stream",
     "text": [
      "\u001b[32m[I 2023-05-11 02:21:29,350]\u001b[0m Trial 30 finished with value: 0.8621081932252146 and parameters: {'C': 1510.962300577226}. Best is trial 21 with value: 0.894202815725524.\u001b[0m\n"
     ]
    },
    {
     "name": "stdout",
     "output_type": "stream",
     "text": [
      "Overall accuracy: 0.862\n",
      "\n"
     ]
    },
    {
     "name": "stderr",
     "output_type": "stream",
     "text": [
      "\u001b[32m[I 2023-05-11 02:21:33,052]\u001b[0m Trial 31 finished with value: 0.895382222261566 and parameters: {'C': 3.104077005656677}. Best is trial 31 with value: 0.895382222261566.\u001b[0m\n"
     ]
    },
    {
     "name": "stdout",
     "output_type": "stream",
     "text": [
      "Overall accuracy: 0.896\n",
      "\n"
     ]
    },
    {
     "name": "stderr",
     "output_type": "stream",
     "text": [
      "\u001b[32m[I 2023-05-11 02:21:37,030]\u001b[0m Trial 32 finished with value: 0.8938129807876716 and parameters: {'C': 1.5646654830482989}. Best is trial 31 with value: 0.895382222261566.\u001b[0m\n"
     ]
    },
    {
     "name": "stdout",
     "output_type": "stream",
     "text": [
      "Overall accuracy: 0.894\n",
      "\n"
     ]
    },
    {
     "name": "stderr",
     "output_type": "stream",
     "text": [
      "\u001b[32m[I 2023-05-11 02:21:41,322]\u001b[0m Trial 33 finished with value: 0.8620822862004158 and parameters: {'C': 339.0456673117448}. Best is trial 31 with value: 0.895382222261566.\u001b[0m\n"
     ]
    },
    {
     "name": "stdout",
     "output_type": "stream",
     "text": [
      "Overall accuracy: 0.862\n",
      "\n"
     ]
    },
    {
     "name": "stderr",
     "output_type": "stream",
     "text": [
      "\u001b[32m[I 2023-05-11 02:21:48,999]\u001b[0m Trial 34 finished with value: 0.8521353515136352 and parameters: {'C': 0.036008323259772296}. Best is trial 31 with value: 0.895382222261566.\u001b[0m\n"
     ]
    },
    {
     "name": "stdout",
     "output_type": "stream",
     "text": [
      "Overall accuracy: 0.854\n",
      "\n"
     ]
    },
    {
     "name": "stderr",
     "output_type": "stream",
     "text": [
      "\u001b[32m[I 2023-05-11 02:21:52,841]\u001b[0m Trial 35 finished with value: 0.892623753273666 and parameters: {'C': 1.3838769294057227}. Best is trial 31 with value: 0.895382222261566.\u001b[0m\n"
     ]
    },
    {
     "name": "stdout",
     "output_type": "stream",
     "text": [
      "Overall accuracy: 0.893\n",
      "\n"
     ]
    },
    {
     "name": "stderr",
     "output_type": "stream",
     "text": [
      "\u001b[32m[I 2023-05-11 02:21:57,326]\u001b[0m Trial 36 finished with value: 0.8691121367775876 and parameters: {'C': 142.0169346875206}. Best is trial 31 with value: 0.895382222261566.\u001b[0m\n"
     ]
    },
    {
     "name": "stdout",
     "output_type": "stream",
     "text": [
      "Overall accuracy: 0.869\n",
      "\n"
     ]
    },
    {
     "name": "stderr",
     "output_type": "stream",
     "text": [
      "\u001b[32m[I 2023-05-11 02:22:01,737]\u001b[0m Trial 37 finished with value: 0.8628961464067848 and parameters: {'C': 88724.43840787005}. Best is trial 31 with value: 0.895382222261566.\u001b[0m\n"
     ]
    },
    {
     "name": "stdout",
     "output_type": "stream",
     "text": [
      "Overall accuracy: 0.863\n",
      "\n"
     ]
    },
    {
     "name": "stderr",
     "output_type": "stream",
     "text": [
      "\u001b[32m[I 2023-05-11 02:22:08,531]\u001b[0m Trial 38 finished with value: 0.8566322254171579 and parameters: {'C': 0.04401355969285874}. Best is trial 31 with value: 0.895382222261566.\u001b[0m\n"
     ]
    },
    {
     "name": "stdout",
     "output_type": "stream",
     "text": [
      "Overall accuracy: 0.858\n",
      "\n"
     ]
    },
    {
     "name": "stderr",
     "output_type": "stream",
     "text": [
      "\u001b[32m[I 2023-05-11 02:22:12,862]\u001b[0m Trial 39 finished with value: 0.8832694579862388 and parameters: {'C': 31.996165195114646}. Best is trial 31 with value: 0.895382222261566.\u001b[0m\n"
     ]
    },
    {
     "name": "stdout",
     "output_type": "stream",
     "text": [
      "Overall accuracy: 0.884\n",
      "\n"
     ]
    },
    {
     "name": "stderr",
     "output_type": "stream",
     "text": [
      "\u001b[32m[I 2023-05-11 02:22:20,549]\u001b[0m Trial 40 finished with value: 0.3416213416213416 and parameters: {'C': 7.224182462979455e-05}. Best is trial 31 with value: 0.895382222261566.\u001b[0m\n"
     ]
    },
    {
     "name": "stdout",
     "output_type": "stream",
     "text": [
      "Overall accuracy: 0.519\n",
      "\n"
     ]
    },
    {
     "name": "stderr",
     "output_type": "stream",
     "text": [
      "\u001b[32m[I 2023-05-11 02:22:24,065]\u001b[0m Trial 41 finished with value: 0.8938030859938161 and parameters: {'C': 1.6505487615653223}. Best is trial 31 with value: 0.895382222261566.\u001b[0m\n"
     ]
    },
    {
     "name": "stdout",
     "output_type": "stream",
     "text": [
      "Overall accuracy: 0.894\n",
      "\n"
     ]
    },
    {
     "name": "stderr",
     "output_type": "stream",
     "text": [
      "\u001b[32m[I 2023-05-11 02:22:28,158]\u001b[0m Trial 42 finished with value: 0.8817633035301071 and parameters: {'C': 0.3650138318694087}. Best is trial 31 with value: 0.895382222261566.\u001b[0m\n"
     ]
    },
    {
     "name": "stdout",
     "output_type": "stream",
     "text": [
      "Overall accuracy: 0.882\n",
      "\n"
     ]
    },
    {
     "name": "stderr",
     "output_type": "stream",
     "text": [
      "\u001b[32m[I 2023-05-11 02:22:31,843]\u001b[0m Trial 43 finished with value: 0.8926336907945204 and parameters: {'C': 3.710286139481946}. Best is trial 31 with value: 0.895382222261566.\u001b[0m\n"
     ]
    },
    {
     "name": "stdout",
     "output_type": "stream",
     "text": [
      "Overall accuracy: 0.893\n",
      "\n"
     ]
    },
    {
     "name": "stderr",
     "output_type": "stream",
     "text": [
      "\u001b[32m[I 2023-05-11 02:22:39,488]\u001b[0m Trial 44 finished with value: 0.3416213416213416 and parameters: {'C': 0.0007976517519146255}. Best is trial 31 with value: 0.895382222261566.\u001b[0m\n"
     ]
    },
    {
     "name": "stdout",
     "output_type": "stream",
     "text": [
      "Overall accuracy: 0.519\n",
      "\n"
     ]
    },
    {
     "name": "stderr",
     "output_type": "stream",
     "text": [
      "\u001b[32m[I 2023-05-11 02:22:44,339]\u001b[0m Trial 45 finished with value: 0.8701640234676953 and parameters: {'C': 0.14044998995479974}. Best is trial 31 with value: 0.895382222261566.\u001b[0m\n"
     ]
    },
    {
     "name": "stdout",
     "output_type": "stream",
     "text": [
      "Overall accuracy: 0.871\n",
      "\n"
     ]
    },
    {
     "name": "stderr",
     "output_type": "stream",
     "text": [
      "\u001b[32m[I 2023-05-11 02:22:51,973]\u001b[0m Trial 46 finished with value: 0.543577746572232 and parameters: {'C': 0.01166466348222063}. Best is trial 31 with value: 0.895382222261566.\u001b[0m\n"
     ]
    },
    {
     "name": "stdout",
     "output_type": "stream",
     "text": [
      "Overall accuracy: 0.622\n",
      "\n"
     ]
    },
    {
     "name": "stderr",
     "output_type": "stream",
     "text": [
      "\u001b[32m[I 2023-05-11 02:22:56,341]\u001b[0m Trial 47 finished with value: 0.8605406732348214 and parameters: {'C': 673.8351518380291}. Best is trial 31 with value: 0.895382222261566.\u001b[0m\n"
     ]
    },
    {
     "name": "stdout",
     "output_type": "stream",
     "text": [
      "Overall accuracy: 0.861\n",
      "\n"
     ]
    },
    {
     "name": "stderr",
     "output_type": "stream",
     "text": [
      "\u001b[32m[I 2023-05-11 02:23:01,204]\u001b[0m Trial 48 finished with value: 0.8805580612910924 and parameters: {'C': 50.145343863442754}. Best is trial 31 with value: 0.895382222261566.\u001b[0m\n"
     ]
    },
    {
     "name": "stdout",
     "output_type": "stream",
     "text": [
      "Overall accuracy: 0.881\n",
      "\n"
     ]
    },
    {
     "name": "stderr",
     "output_type": "stream",
     "text": [
      "\u001b[32m[I 2023-05-11 02:23:05,636]\u001b[0m Trial 49 finished with value: 0.8918137920065212 and parameters: {'C': 1.2309511074759494}. Best is trial 31 with value: 0.895382222261566.\u001b[0m\n"
     ]
    },
    {
     "name": "stdout",
     "output_type": "stream",
     "text": [
      "Overall accuracy: 0.892\n",
      "\n"
     ]
    },
    {
     "name": "stderr",
     "output_type": "stream",
     "text": [
      "\u001b[32m[I 2023-05-11 02:23:09,979]\u001b[0m Trial 50 finished with value: 0.8793768501443555 and parameters: {'C': 0.2579156897457175}. Best is trial 31 with value: 0.895382222261566.\u001b[0m\n"
     ]
    },
    {
     "name": "stdout",
     "output_type": "stream",
     "text": [
      "Overall accuracy: 0.880\n",
      "\n"
     ]
    },
    {
     "name": "stderr",
     "output_type": "stream",
     "text": [
      "\u001b[32m[I 2023-05-11 02:23:13,522]\u001b[0m Trial 51 finished with value: 0.8907224740938171 and parameters: {'C': 10.340895674548952}. Best is trial 31 with value: 0.895382222261566.\u001b[0m\n"
     ]
    },
    {
     "name": "stdout",
     "output_type": "stream",
     "text": [
      "Overall accuracy: 0.891\n",
      "\n"
     ]
    },
    {
     "name": "stderr",
     "output_type": "stream",
     "text": [
      "\u001b[32m[I 2023-05-11 02:23:17,135]\u001b[0m Trial 52 finished with value: 0.8942126071063656 and parameters: {'C': 2.4537572533730745}. Best is trial 31 with value: 0.895382222261566.\u001b[0m\n"
     ]
    },
    {
     "name": "stdout",
     "output_type": "stream",
     "text": [
      "Overall accuracy: 0.895\n",
      "\n"
     ]
    },
    {
     "name": "stderr",
     "output_type": "stream",
     "text": [
      "\u001b[32m[I 2023-05-11 02:23:21,542]\u001b[0m Trial 53 finished with value: 0.8691121367775876 and parameters: {'C': 142.81488874124395}. Best is trial 31 with value: 0.895382222261566.\u001b[0m\n"
     ]
    },
    {
     "name": "stdout",
     "output_type": "stream",
     "text": [
      "Overall accuracy: 0.869\n",
      "\n"
     ]
    },
    {
     "name": "stderr",
     "output_type": "stream",
     "text": [
      "\u001b[32m[I 2023-05-11 02:23:25,457]\u001b[0m Trial 54 finished with value: 0.8914032140174597 and parameters: {'C': 1.1751564197464344}. Best is trial 31 with value: 0.895382222261566.\u001b[0m\n"
     ]
    },
    {
     "name": "stdout",
     "output_type": "stream",
     "text": [
      "Overall accuracy: 0.892\n",
      "\n"
     ]
    },
    {
     "name": "stderr",
     "output_type": "stream",
     "text": [
      "\u001b[32m[I 2023-05-11 02:23:29,699]\u001b[0m Trial 55 finished with value: 0.886043183769517 and parameters: {'C': 28.261933435119502}. Best is trial 31 with value: 0.895382222261566.\u001b[0m\n"
     ]
    },
    {
     "name": "stdout",
     "output_type": "stream",
     "text": [
      "Overall accuracy: 0.886\n",
      "\n"
     ]
    },
    {
     "name": "stderr",
     "output_type": "stream",
     "text": [
      "\u001b[32m[I 2023-05-11 02:23:36,501]\u001b[0m Trial 56 finished with value: 0.8566761131801119 and parameters: {'C': 0.04574766501906819}. Best is trial 31 with value: 0.895382222261566.\u001b[0m\n"
     ]
    },
    {
     "name": "stdout",
     "output_type": "stream",
     "text": [
      "Overall accuracy: 0.858\n",
      "\n"
     ]
    },
    {
     "name": "stderr",
     "output_type": "stream",
     "text": [
      "\u001b[32m[I 2023-05-11 02:23:41,518]\u001b[0m Trial 57 finished with value: 0.8725548690864702 and parameters: {'C': 0.17946617749286098}. Best is trial 31 with value: 0.895382222261566.\u001b[0m\n"
     ]
    },
    {
     "name": "stdout",
     "output_type": "stream",
     "text": [
      "Overall accuracy: 0.873\n",
      "\n"
     ]
    },
    {
     "name": "stderr",
     "output_type": "stream",
     "text": [
      "\u001b[32m[I 2023-05-11 02:23:49,375]\u001b[0m Trial 58 finished with value: 0.3416213416213416 and parameters: {'C': 0.0042376660474877014}. Best is trial 31 with value: 0.895382222261566.\u001b[0m\n"
     ]
    },
    {
     "name": "stdout",
     "output_type": "stream",
     "text": [
      "Overall accuracy: 0.519\n",
      "\n"
     ]
    },
    {
     "name": "stderr",
     "output_type": "stream",
     "text": [
      "\u001b[32m[I 2023-05-11 02:23:52,788]\u001b[0m Trial 59 finished with value: 0.8907132474881635 and parameters: {'C': 9.013873852848786}. Best is trial 31 with value: 0.895382222261566.\u001b[0m\n"
     ]
    },
    {
     "name": "stdout",
     "output_type": "stream",
     "text": [
      "Overall accuracy: 0.891\n",
      "\n"
     ]
    },
    {
     "name": "stderr",
     "output_type": "stream",
     "text": [
      "\u001b[32m[I 2023-05-11 02:23:56,441]\u001b[0m Trial 60 finished with value: 0.8922137719961076 and parameters: {'C': 1.2727270573728702}. Best is trial 31 with value: 0.895382222261566.\u001b[0m\n"
     ]
    },
    {
     "name": "stdout",
     "output_type": "stream",
     "text": [
      "Overall accuracy: 0.893\n",
      "\n"
     ]
    },
    {
     "name": "stderr",
     "output_type": "stream",
     "text": [
      "\u001b[32m[I 2023-05-11 02:24:00,009]\u001b[0m Trial 61 finished with value: 0.8926336907945204 and parameters: {'C': 3.468217452589647}. Best is trial 31 with value: 0.895382222261566.\u001b[0m\n"
     ]
    },
    {
     "name": "stdout",
     "output_type": "stream",
     "text": [
      "Overall accuracy: 0.893\n",
      "\n"
     ]
    },
    {
     "name": "stderr",
     "output_type": "stream",
     "text": [
      "\u001b[32m[I 2023-05-11 02:24:03,626]\u001b[0m Trial 62 finished with value: 0.893423148950443 and parameters: {'C': 3.334355709602392}. Best is trial 31 with value: 0.895382222261566.\u001b[0m\n"
     ]
    },
    {
     "name": "stdout",
     "output_type": "stream",
     "text": [
      "Overall accuracy: 0.894\n",
      "\n"
     ]
    },
    {
     "name": "stderr",
     "output_type": "stream",
     "text": [
      "\u001b[32m[I 2023-05-11 02:24:08,038]\u001b[0m Trial 63 finished with value: 0.869900617881337 and parameters: {'C': 148.14690452350132}. Best is trial 31 with value: 0.895382222261566.\u001b[0m\n"
     ]
    },
    {
     "name": "stdout",
     "output_type": "stream",
     "text": [
      "Overall accuracy: 0.870\n",
      "\n"
     ]
    },
    {
     "name": "stderr",
     "output_type": "stream",
     "text": [
      "\u001b[32m[I 2023-05-11 02:24:13,175]\u001b[0m Trial 64 finished with value: 0.8697436592319512 and parameters: {'C': 0.12374821668997273}. Best is trial 31 with value: 0.895382222261566.\u001b[0m\n"
     ]
    },
    {
     "name": "stdout",
     "output_type": "stream",
     "text": [
      "Overall accuracy: 0.871\n",
      "\n"
     ]
    },
    {
     "name": "stderr",
     "output_type": "stream",
     "text": [
      "\u001b[32m[I 2023-05-11 02:24:17,116]\u001b[0m Trial 65 finished with value: 0.8856266038619911 and parameters: {'C': 19.0770378951447}. Best is trial 31 with value: 0.895382222261566.\u001b[0m\n"
     ]
    },
    {
     "name": "stdout",
     "output_type": "stream",
     "text": [
      "Overall accuracy: 0.886\n",
      "\n"
     ]
    },
    {
     "name": "stderr",
     "output_type": "stream",
     "text": [
      "\u001b[32m[I 2023-05-11 02:24:21,834]\u001b[0m Trial 66 finished with value: 0.8605406732348214 and parameters: {'C': 701.7143262976183}. Best is trial 31 with value: 0.895382222261566.\u001b[0m\n"
     ]
    },
    {
     "name": "stdout",
     "output_type": "stream",
     "text": [
      "Overall accuracy: 0.861\n",
      "\n"
     ]
    },
    {
     "name": "stderr",
     "output_type": "stream",
     "text": [
      "\u001b[32m[I 2023-05-11 02:24:25,570]\u001b[0m Trial 67 finished with value: 0.8885886188323411 and parameters: {'C': 0.7380335126766148}. Best is trial 31 with value: 0.895382222261566.\u001b[0m\n"
     ]
    },
    {
     "name": "stdout",
     "output_type": "stream",
     "text": [
      "Overall accuracy: 0.889\n",
      "\n"
     ]
    },
    {
     "name": "stderr",
     "output_type": "stream",
     "text": [
      "\u001b[32m[I 2023-05-11 02:24:33,434]\u001b[0m Trial 68 finished with value: 0.8295071746379619 and parameters: {'C': 0.020800938608945822}. Best is trial 31 with value: 0.895382222261566.\u001b[0m\n"
     ]
    },
    {
     "name": "stdout",
     "output_type": "stream",
     "text": [
      "Overall accuracy: 0.832\n",
      "\n"
     ]
    },
    {
     "name": "stderr",
     "output_type": "stream",
     "text": [
      "\u001b[32m[I 2023-05-11 02:24:37,021]\u001b[0m Trial 69 finished with value: 0.8949824963579378 and parameters: {'C': 3.1390770287001417}. Best is trial 31 with value: 0.895382222261566.\u001b[0m\n"
     ]
    },
    {
     "name": "stdout",
     "output_type": "stream",
     "text": [
      "Overall accuracy: 0.895\n",
      "\n"
     ]
    },
    {
     "name": "stderr",
     "output_type": "stream",
     "text": [
      "\u001b[32m[I 2023-05-11 02:24:41,868]\u001b[0m Trial 70 finished with value: 0.880956486572319 and parameters: {'C': 57.56568731138628}. Best is trial 31 with value: 0.895382222261566.\u001b[0m\n"
     ]
    },
    {
     "name": "stdout",
     "output_type": "stream",
     "text": [
      "Overall accuracy: 0.881\n",
      "\n"
     ]
    },
    {
     "name": "stderr",
     "output_type": "stream",
     "text": [
      "\u001b[32m[I 2023-05-11 02:24:45,341]\u001b[0m Trial 71 finished with value: 0.8910937380668981 and parameters: {'C': 7.4393429449630535}. Best is trial 31 with value: 0.895382222261566.\u001b[0m\n"
     ]
    },
    {
     "name": "stdout",
     "output_type": "stream",
     "text": [
      "Overall accuracy: 0.891\n",
      "\n"
     ]
    },
    {
     "name": "stderr",
     "output_type": "stream",
     "text": [
      "\u001b[32m[I 2023-05-11 02:24:49,213]\u001b[0m Trial 72 finished with value: 0.884965480562357 and parameters: {'C': 0.4954007450025453}. Best is trial 31 with value: 0.895382222261566.\u001b[0m\n"
     ]
    },
    {
     "name": "stdout",
     "output_type": "stream",
     "text": [
      "Overall accuracy: 0.886\n",
      "\n"
     ]
    },
    {
     "name": "stderr",
     "output_type": "stream",
     "text": [
      "\u001b[32m[I 2023-05-11 02:24:52,685]\u001b[0m Trial 73 finished with value: 0.8942126071063656 and parameters: {'C': 2.465752163104308}. Best is trial 31 with value: 0.895382222261566.\u001b[0m\n"
     ]
    },
    {
     "name": "stdout",
     "output_type": "stream",
     "text": [
      "Overall accuracy: 0.895\n",
      "\n"
     ]
    },
    {
     "name": "stderr",
     "output_type": "stream",
     "text": [
      "\u001b[32m[I 2023-05-11 02:24:56,276]\u001b[0m Trial 74 finished with value: 0.8946121638376716 and parameters: {'C': 2.066827985354351}. Best is trial 31 with value: 0.895382222261566.\u001b[0m\n"
     ]
    },
    {
     "name": "stdout",
     "output_type": "stream",
     "text": [
      "Overall accuracy: 0.895\n",
      "\n"
     ]
    },
    {
     "name": "stderr",
     "output_type": "stream",
     "text": [
      "\u001b[32m[I 2023-05-11 02:25:01,917]\u001b[0m Trial 75 finished with value: 0.8656974827765436 and parameters: {'C': 0.07805173546759152}. Best is trial 31 with value: 0.895382222261566.\u001b[0m\n"
     ]
    },
    {
     "name": "stdout",
     "output_type": "stream",
     "text": [
      "Overall accuracy: 0.867\n",
      "\n"
     ]
    },
    {
     "name": "stderr",
     "output_type": "stream",
     "text": [
      "\u001b[32m[I 2023-05-11 02:25:05,886]\u001b[0m Trial 76 finished with value: 0.8853795575767225 and parameters: {'C': 0.5273844092721456}. Best is trial 31 with value: 0.895382222261566.\u001b[0m\n"
     ]
    },
    {
     "name": "stdout",
     "output_type": "stream",
     "text": [
      "Overall accuracy: 0.886\n",
      "\n"
     ]
    },
    {
     "name": "stderr",
     "output_type": "stream",
     "text": [
      "\u001b[32m[I 2023-05-11 02:25:09,912]\u001b[0m Trial 77 finished with value: 0.8848468977431814 and parameters: {'C': 20.96590545813291}. Best is trial 31 with value: 0.895382222261566.\u001b[0m\n"
     ]
    },
    {
     "name": "stdout",
     "output_type": "stream",
     "text": [
      "Overall accuracy: 0.885\n",
      "\n"
     ]
    },
    {
     "name": "stderr",
     "output_type": "stream",
     "text": [
      "\u001b[32m[I 2023-05-11 02:25:13,831]\u001b[0m Trial 78 finished with value: 0.8942126071063656 and parameters: {'C': 2.458301631664935}. Best is trial 31 with value: 0.895382222261566.\u001b[0m\n"
     ]
    },
    {
     "name": "stdout",
     "output_type": "stream",
     "text": [
      "Overall accuracy: 0.895\n",
      "\n"
     ]
    },
    {
     "name": "stderr",
     "output_type": "stream",
     "text": [
      "\u001b[32m[I 2023-05-11 02:25:21,952]\u001b[0m Trial 79 finished with value: 0.6205550139449842 and parameters: {'C': 0.012472207344858346}. Best is trial 31 with value: 0.895382222261566.\u001b[0m\n"
     ]
    },
    {
     "name": "stdout",
     "output_type": "stream",
     "text": [
      "Overall accuracy: 0.671\n",
      "\n"
     ]
    },
    {
     "name": "stderr",
     "output_type": "stream",
     "text": [
      "\u001b[32m[I 2023-05-11 02:25:26,237]\u001b[0m Trial 80 finished with value: 0.8774216626148956 and parameters: {'C': 78.49550137588955}. Best is trial 31 with value: 0.895382222261566.\u001b[0m\n"
     ]
    },
    {
     "name": "stdout",
     "output_type": "stream",
     "text": [
      "Overall accuracy: 0.878\n",
      "\n"
     ]
    },
    {
     "name": "stderr",
     "output_type": "stream",
     "text": [
      "\u001b[32m[I 2023-05-11 02:25:30,050]\u001b[0m Trial 81 finished with value: 0.893413284499595 and parameters: {'C': 1.7139829923684073}. Best is trial 31 with value: 0.895382222261566.\u001b[0m\n"
     ]
    },
    {
     "name": "stdout",
     "output_type": "stream",
     "text": [
      "Overall accuracy: 0.894\n",
      "\n"
     ]
    },
    {
     "name": "stderr",
     "output_type": "stream",
     "text": [
      "\u001b[32m[I 2023-05-11 02:25:33,667]\u001b[0m Trial 82 finished with value: 0.8871575980331289 and parameters: {'C': 12.869633073141753}. Best is trial 31 with value: 0.895382222261566.\u001b[0m\n"
     ]
    },
    {
     "name": "stdout",
     "output_type": "stream",
     "text": [
      "Overall accuracy: 0.887\n",
      "\n"
     ]
    },
    {
     "name": "stderr",
     "output_type": "stream",
     "text": [
      "\u001b[32m[I 2023-05-11 02:25:37,813]\u001b[0m Trial 83 finished with value: 0.8849398577042195 and parameters: {'C': 0.45228665477375113}. Best is trial 31 with value: 0.895382222261566.\u001b[0m\n"
     ]
    },
    {
     "name": "stdout",
     "output_type": "stream",
     "text": [
      "Overall accuracy: 0.886\n",
      "\n"
     ]
    },
    {
     "name": "stderr",
     "output_type": "stream",
     "text": [
      "\u001b[32m[I 2023-05-11 02:25:43,428]\u001b[0m Trial 84 finished with value: 0.8649581743955169 and parameters: {'C': 0.08871753317333889}. Best is trial 31 with value: 0.895382222261566.\u001b[0m\n"
     ]
    },
    {
     "name": "stdout",
     "output_type": "stream",
     "text": [
      "Overall accuracy: 0.866\n",
      "\n"
     ]
    },
    {
     "name": "stderr",
     "output_type": "stream",
     "text": [
      "\u001b[32m[I 2023-05-11 02:25:46,901]\u001b[0m Trial 85 finished with value: 0.8946024753543058 and parameters: {'C': 1.9680312594628466}. Best is trial 31 with value: 0.895382222261566.\u001b[0m\n"
     ]
    },
    {
     "name": "stdout",
     "output_type": "stream",
     "text": [
      "Overall accuracy: 0.895\n",
      "\n"
     ]
    },
    {
     "name": "stderr",
     "output_type": "stream",
     "text": [
      "\u001b[32m[I 2023-05-11 02:25:50,454]\u001b[0m Trial 86 finished with value: 0.8918541070434852 and parameters: {'C': 4.7117587061231445}. Best is trial 31 with value: 0.895382222261566.\u001b[0m\n"
     ]
    },
    {
     "name": "stdout",
     "output_type": "stream",
     "text": [
      "Overall accuracy: 0.892\n",
      "\n"
     ]
    },
    {
     "name": "stderr",
     "output_type": "stream",
     "text": [
      "\u001b[32m[I 2023-05-11 02:25:55,651]\u001b[0m Trial 87 finished with value: 0.8628791448624786 and parameters: {'C': 294.5872803055522}. Best is trial 31 with value: 0.895382222261566.\u001b[0m\n"
     ]
    },
    {
     "name": "stdout",
     "output_type": "stream",
     "text": [
      "Overall accuracy: 0.863\n",
      "\n"
     ]
    },
    {
     "name": "stderr",
     "output_type": "stream",
     "text": [
      "\u001b[32m[I 2023-05-11 02:26:00,807]\u001b[0m Trial 88 finished with value: 0.8829694507886006 and parameters: {'C': 0.3926600285020165}. Best is trial 31 with value: 0.895382222261566.\u001b[0m\n"
     ]
    },
    {
     "name": "stdout",
     "output_type": "stream",
     "text": [
      "Overall accuracy: 0.884\n",
      "\n"
     ]
    },
    {
     "name": "stderr",
     "output_type": "stream",
     "text": [
      "\u001b[32m[I 2023-05-11 02:26:04,515]\u001b[0m Trial 89 finished with value: 0.8875569513867385 and parameters: {'C': 12.845662087977558}. Best is trial 31 with value: 0.895382222261566.\u001b[0m\n"
     ]
    },
    {
     "name": "stdout",
     "output_type": "stream",
     "text": [
      "Overall accuracy: 0.888\n",
      "\n"
     ]
    },
    {
     "name": "stderr",
     "output_type": "stream",
     "text": [
      "\u001b[32m[I 2023-05-11 02:26:09,011]\u001b[0m Trial 90 finished with value: 0.87618414629345 and parameters: {'C': 0.19853754869938334}. Best is trial 31 with value: 0.895382222261566.\u001b[0m\n"
     ]
    },
    {
     "name": "stdout",
     "output_type": "stream",
     "text": [
      "Overall accuracy: 0.877\n",
      "\n"
     ]
    },
    {
     "name": "stderr",
     "output_type": "stream",
     "text": [
      "\u001b[32m[I 2023-05-11 02:26:12,398]\u001b[0m Trial 91 finished with value: 0.894202815725524 and parameters: {'C': 1.944426454817299}. Best is trial 31 with value: 0.895382222261566.\u001b[0m\n"
     ]
    },
    {
     "name": "stdout",
     "output_type": "stream",
     "text": [
      "Overall accuracy: 0.895\n",
      "\n"
     ]
    },
    {
     "name": "stderr",
     "output_type": "stream",
     "text": [
      "\u001b[32m[I 2023-05-11 02:26:15,905]\u001b[0m Trial 92 finished with value: 0.895382222261566 and parameters: {'C': 2.7698995083750284}. Best is trial 31 with value: 0.895382222261566.\u001b[0m\n"
     ]
    },
    {
     "name": "stdout",
     "output_type": "stream",
     "text": [
      "Overall accuracy: 0.896\n",
      "\n"
     ]
    },
    {
     "name": "stderr",
     "output_type": "stream",
     "text": [
      "\u001b[32m[I 2023-05-11 02:26:19,499]\u001b[0m Trial 93 finished with value: 0.8949923469514528 and parameters: {'C': 3.086400876964338}. Best is trial 31 with value: 0.895382222261566.\u001b[0m\n"
     ]
    },
    {
     "name": "stdout",
     "output_type": "stream",
     "text": [
      "Overall accuracy: 0.895\n",
      "\n"
     ]
    },
    {
     "name": "stderr",
     "output_type": "stream",
     "text": [
      "\u001b[32m[I 2023-05-11 02:26:23,510]\u001b[0m Trial 94 finished with value: 0.8813464569261347 and parameters: {'C': 49.91433372044065}. Best is trial 31 with value: 0.895382222261566.\u001b[0m\n"
     ]
    },
    {
     "name": "stdout",
     "output_type": "stream",
     "text": [
      "Overall accuracy: 0.882\n",
      "\n"
     ]
    },
    {
     "name": "stderr",
     "output_type": "stream",
     "text": [
      "\u001b[32m[I 2023-05-11 02:26:26,999]\u001b[0m Trial 95 finished with value: 0.8895343170577416 and parameters: {'C': 6.263459593110115}. Best is trial 31 with value: 0.895382222261566.\u001b[0m\n"
     ]
    },
    {
     "name": "stdout",
     "output_type": "stream",
     "text": [
      "Overall accuracy: 0.890\n",
      "\n"
     ]
    },
    {
     "name": "stderr",
     "output_type": "stream",
     "text": [
      "\u001b[32m[I 2023-05-11 02:26:30,542]\u001b[0m Trial 96 finished with value: 0.8938030859938161 and parameters: {'C': 2.3117227102137443}. Best is trial 31 with value: 0.895382222261566.\u001b[0m\n"
     ]
    },
    {
     "name": "stdout",
     "output_type": "stream",
     "text": [
      "Overall accuracy: 0.894\n",
      "\n"
     ]
    },
    {
     "name": "stderr",
     "output_type": "stream",
     "text": [
      "\u001b[32m[I 2023-05-11 02:26:34,394]\u001b[0m Trial 97 finished with value: 0.8832509111130972 and parameters: {'C': 16.474722950021295}. Best is trial 31 with value: 0.895382222261566.\u001b[0m\n"
     ]
    },
    {
     "name": "stdout",
     "output_type": "stream",
     "text": [
      "Overall accuracy: 0.884\n",
      "\n"
     ]
    },
    {
     "name": "stderr",
     "output_type": "stream",
     "text": [
      "\u001b[32m[I 2023-05-11 02:26:38,025]\u001b[0m Trial 98 finished with value: 0.8893787704718281 and parameters: {'C': 0.8159055819826109}. Best is trial 31 with value: 0.895382222261566.\u001b[0m\n"
     ]
    },
    {
     "name": "stdout",
     "output_type": "stream",
     "text": [
      "Overall accuracy: 0.890\n",
      "\n"
     ]
    },
    {
     "name": "stderr",
     "output_type": "stream",
     "text": [
      "\u001b[32m[I 2023-05-11 02:26:45,191]\u001b[0m Trial 99 finished with value: 0.8525683164499911 and parameters: {'C': 0.03716859179813818}. Best is trial 31 with value: 0.895382222261566.\u001b[0m\n"
     ]
    },
    {
     "name": "stdout",
     "output_type": "stream",
     "text": [
      "Overall accuracy: 0.854\n",
      "\n",
      "Accuracy: 0.895382222261566\n",
      "Best hyperparameters: {'C': 3.104077005656677}\n",
      "\n",
      "\n",
      "\n",
      "Model :- LGBMClassifier, DataType :- Combine\n"
     ]
    },
    {
     "name": "stderr",
     "output_type": "stream",
     "text": [
      "\u001b[32m[I 2023-05-11 02:26:45,395]\u001b[0m A new study created in memory with name: no-name-0b8a236b-2078-40c3-a6cc-fbdecc23acfe\u001b[0m\n",
      "\u001b[32m[I 2023-05-11 02:27:15,836]\u001b[0m Trial 0 finished with value: 0.8994262793743424 and parameters: {'n_estimators': 90, 'max_depth': 42, 'num_leaves': 49}. Best is trial 0 with value: 0.8994262793743424.\u001b[0m\n"
     ]
    },
    {
     "name": "stdout",
     "output_type": "stream",
     "text": [
      "Overall accuracy: 0.900\n",
      "\n"
     ]
    },
    {
     "name": "stderr",
     "output_type": "stream",
     "text": [
      "\u001b[32m[I 2023-05-11 02:28:09,883]\u001b[0m Trial 1 finished with value: 0.9029641514879724 and parameters: {'n_estimators': 135, 'max_depth': 17, 'num_leaves': 60}. Best is trial 1 with value: 0.9029641514879724.\u001b[0m\n"
     ]
    },
    {
     "name": "stdout",
     "output_type": "stream",
     "text": [
      "Overall accuracy: 0.903\n",
      "\n"
     ]
    },
    {
     "name": "stderr",
     "output_type": "stream",
     "text": [
      "\u001b[32m[I 2023-05-11 02:28:18,253]\u001b[0m Trial 2 finished with value: 0.8816338440906946 and parameters: {'n_estimators': 21, 'max_depth': 38, 'num_leaves': 42}. Best is trial 1 with value: 0.9029641514879724.\u001b[0m\n"
     ]
    },
    {
     "name": "stdout",
     "output_type": "stream",
     "text": [
      "Overall accuracy: 0.882\n",
      "\n"
     ]
    },
    {
     "name": "stderr",
     "output_type": "stream",
     "text": [
      "\u001b[32m[I 2023-05-11 02:28:28,832]\u001b[0m Trial 3 finished with value: 0.9033930104620472 and parameters: {'n_estimators': 83, 'max_depth': 55, 'num_leaves': 10}. Best is trial 3 with value: 0.9033930104620472.\u001b[0m\n"
     ]
    },
    {
     "name": "stdout",
     "output_type": "stream",
     "text": [
      "Overall accuracy: 0.904\n",
      "\n"
     ]
    },
    {
     "name": "stderr",
     "output_type": "stream",
     "text": [
      "\u001b[32m[I 2023-05-11 02:28:53,075]\u001b[0m Trial 4 finished with value: 0.8998002423411746 and parameters: {'n_estimators': 58, 'max_depth': 44, 'num_leaves': 59}. Best is trial 3 with value: 0.9033930104620472.\u001b[0m\n"
     ]
    },
    {
     "name": "stdout",
     "output_type": "stream",
     "text": [
      "Overall accuracy: 0.900\n",
      "\n"
     ]
    },
    {
     "name": "stderr",
     "output_type": "stream",
     "text": [
      "\u001b[32m[I 2023-05-11 02:29:47,450]\u001b[0m Trial 5 finished with value: 0.9052906110283161 and parameters: {'n_estimators': 171, 'max_depth': 58, 'num_leaves': 47}. Best is trial 5 with value: 0.9052906110283161.\u001b[0m\n"
     ]
    },
    {
     "name": "stdout",
     "output_type": "stream",
     "text": [
      "Overall accuracy: 0.906\n",
      "\n"
     ]
    },
    {
     "name": "stderr",
     "output_type": "stream",
     "text": [
      "\u001b[32m[I 2023-05-11 02:30:38,601]\u001b[0m Trial 6 finished with value: 0.9084556059113056 and parameters: {'n_estimators': 186, 'max_depth': 30, 'num_leaves': 38}. Best is trial 6 with value: 0.9084556059113056.\u001b[0m\n"
     ]
    },
    {
     "name": "stdout",
     "output_type": "stream",
     "text": [
      "Overall accuracy: 0.909\n",
      "\n"
     ]
    },
    {
     "name": "stderr",
     "output_type": "stream",
     "text": [
      "\u001b[32m[I 2023-05-11 02:31:25,117]\u001b[0m Trial 7 finished with value: 0.9021589665368568 and parameters: {'n_estimators': 118, 'max_depth': 49, 'num_leaves': 61}. Best is trial 6 with value: 0.9084556059113056.\u001b[0m\n"
     ]
    },
    {
     "name": "stdout",
     "output_type": "stream",
     "text": [
      "Overall accuracy: 0.902\n",
      "\n"
     ]
    },
    {
     "name": "stderr",
     "output_type": "stream",
     "text": [
      "\u001b[32m[I 2023-05-11 02:31:50,611]\u001b[0m Trial 8 finished with value: 0.9073144143253744 and parameters: {'n_estimators': 144, 'max_depth': 6, 'num_leaves': 34}. Best is trial 6 with value: 0.9084556059113056.\u001b[0m\n"
     ]
    },
    {
     "name": "stdout",
     "output_type": "stream",
     "text": [
      "Overall accuracy: 0.908\n",
      "\n"
     ]
    },
    {
     "name": "stderr",
     "output_type": "stream",
     "text": [
      "\u001b[32m[I 2023-05-11 02:33:05,292]\u001b[0m Trial 9 finished with value: 0.9052736704030527 and parameters: {'n_estimators': 274, 'max_depth': 62, 'num_leaves': 52}. Best is trial 6 with value: 0.9084556059113056.\u001b[0m\n"
     ]
    },
    {
     "name": "stdout",
     "output_type": "stream",
     "text": [
      "Overall accuracy: 0.906\n",
      "\n"
     ]
    },
    {
     "name": "stderr",
     "output_type": "stream",
     "text": [
      "\u001b[32m[I 2023-05-11 02:33:51,031]\u001b[0m Trial 10 finished with value: 0.9045179675664936 and parameters: {'n_estimators': 211, 'max_depth': 25, 'num_leaves': 29}. Best is trial 6 with value: 0.9084556059113056.\u001b[0m\n"
     ]
    },
    {
     "name": "stdout",
     "output_type": "stream",
     "text": [
      "Overall accuracy: 0.905\n",
      "\n"
     ]
    },
    {
     "name": "stderr",
     "output_type": "stream",
     "text": [
      "\u001b[32m[I 2023-05-11 02:33:55,485]\u001b[0m Trial 11 finished with value: 0.8932018048730954 and parameters: {'n_estimators': 208, 'max_depth': 1, 'num_leaves': 32}. Best is trial 6 with value: 0.9084556059113056.\u001b[0m\n"
     ]
    },
    {
     "name": "stdout",
     "output_type": "stream",
     "text": [
      "Overall accuracy: 0.893\n",
      "\n"
     ]
    },
    {
     "name": "stderr",
     "output_type": "stream",
     "text": [
      "\u001b[32m[I 2023-05-11 02:33:59,574]\u001b[0m Trial 12 finished with value: 0.8935550509938213 and parameters: {'n_estimators': 174, 'max_depth': 1, 'num_leaves': 24}. Best is trial 6 with value: 0.9084556059113056.\u001b[0m\n"
     ]
    },
    {
     "name": "stdout",
     "output_type": "stream",
     "text": [
      "Overall accuracy: 0.894\n",
      "\n"
     ]
    },
    {
     "name": "stderr",
     "output_type": "stream",
     "text": [
      "\u001b[32m[I 2023-05-11 02:34:57,673]\u001b[0m Trial 13 finished with value: 0.9108308292149899 and parameters: {'n_estimators': 267, 'max_depth': 16, 'num_leaves': 37}. Best is trial 13 with value: 0.9108308292149899.\u001b[0m\n"
     ]
    },
    {
     "name": "stdout",
     "output_type": "stream",
     "text": [
      "Overall accuracy: 0.911\n",
      "\n"
     ]
    },
    {
     "name": "stderr",
     "output_type": "stream",
     "text": [
      "\u001b[32m[I 2023-05-11 02:35:50,315]\u001b[0m Trial 14 finished with value: 0.908095812884052 and parameters: {'n_estimators': 293, 'max_depth': 26, 'num_leaves': 21}. Best is trial 13 with value: 0.9108308292149899.\u001b[0m\n"
     ]
    },
    {
     "name": "stdout",
     "output_type": "stream",
     "text": [
      "Overall accuracy: 0.908\n",
      "\n"
     ]
    },
    {
     "name": "stderr",
     "output_type": "stream",
     "text": [
      "\u001b[32m[I 2023-05-11 02:36:55,326]\u001b[0m Trial 15 finished with value: 0.9064619758695391 and parameters: {'n_estimators': 249, 'max_depth': 17, 'num_leaves': 39}. Best is trial 13 with value: 0.9108308292149899.\u001b[0m\n"
     ]
    },
    {
     "name": "stdout",
     "output_type": "stream",
     "text": [
      "Overall accuracy: 0.907\n",
      "\n"
     ]
    },
    {
     "name": "stderr",
     "output_type": "stream",
     "text": [
      "\u001b[32m[I 2023-05-11 02:37:58,648]\u001b[0m Trial 16 finished with value: 0.9029480071293015 and parameters: {'n_estimators': 236, 'max_depth': 33, 'num_leaves': 41}. Best is trial 13 with value: 0.9108308292149899.\u001b[0m\n"
     ]
    },
    {
     "name": "stdout",
     "output_type": "stream",
     "text": [
      "Overall accuracy: 0.903\n",
      "\n"
     ]
    },
    {
     "name": "stderr",
     "output_type": "stream",
     "text": [
      "\u001b[32m[I 2023-05-11 02:38:32,403]\u001b[0m Trial 17 finished with value: 0.9018157534899991 and parameters: {'n_estimators': 204, 'max_depth': 12, 'num_leaves': 20}. Best is trial 13 with value: 0.9108308292149899.\u001b[0m\n"
     ]
    },
    {
     "name": "stdout",
     "output_type": "stream",
     "text": [
      "Overall accuracy: 0.902\n",
      "\n"
     ]
    },
    {
     "name": "stderr",
     "output_type": "stream",
     "text": [
      "\u001b[32m[I 2023-05-11 02:39:21,811]\u001b[0m Trial 18 finished with value: 0.9060880784779772 and parameters: {'n_estimators': 253, 'max_depth': 25, 'num_leaves': 28}. Best is trial 13 with value: 0.9108308292149899.\u001b[0m\n"
     ]
    },
    {
     "name": "stdout",
     "output_type": "stream",
     "text": [
      "Overall accuracy: 0.906\n",
      "\n"
     ]
    },
    {
     "name": "stderr",
     "output_type": "stream",
     "text": [
      "\u001b[32m[I 2023-05-11 02:40:20,269]\u001b[0m Trial 19 finished with value: 0.9068691008445107 and parameters: {'n_estimators': 289, 'max_depth': 33, 'num_leaves': 46}. Best is trial 13 with value: 0.9108308292149899.\u001b[0m\n"
     ]
    },
    {
     "name": "stdout",
     "output_type": "stream",
     "text": [
      "Overall accuracy: 0.907\n",
      "\n"
     ]
    },
    {
     "name": "stderr",
     "output_type": "stream",
     "text": [
      "\u001b[32m[I 2023-05-11 02:41:14,463]\u001b[0m Trial 20 finished with value: 0.9053151289066355 and parameters: {'n_estimators': 182, 'max_depth': 18, 'num_leaves': 53}. Best is trial 13 with value: 0.9108308292149899.\u001b[0m\n"
     ]
    },
    {
     "name": "stdout",
     "output_type": "stream",
     "text": [
      "Overall accuracy: 0.906\n",
      "\n"
     ]
    },
    {
     "name": "stderr",
     "output_type": "stream",
     "text": [
      "\u001b[32m[I 2023-05-11 02:41:52,696]\u001b[0m Trial 21 finished with value: 0.9065330258384161 and parameters: {'n_estimators': 300, 'max_depth': 25, 'num_leaves': 16}. Best is trial 13 with value: 0.9108308292149899.\u001b[0m\n"
     ]
    },
    {
     "name": "stdout",
     "output_type": "stream",
     "text": [
      "Overall accuracy: 0.907\n",
      "\n"
     ]
    },
    {
     "name": "stderr",
     "output_type": "stream",
     "text": [
      "\u001b[32m[I 2023-05-11 02:42:43,136]\u001b[0m Trial 22 finished with value: 0.9076899870387201 and parameters: {'n_estimators': 266, 'max_depth': 29, 'num_leaves': 34}. Best is trial 13 with value: 0.9108308292149899.\u001b[0m\n"
     ]
    },
    {
     "name": "stdout",
     "output_type": "stream",
     "text": [
      "Overall accuracy: 0.908\n",
      "\n"
     ]
    },
    {
     "name": "stderr",
     "output_type": "stream",
     "text": [
      "\u001b[32m[I 2023-05-11 02:43:22,632]\u001b[0m Trial 23 finished with value: 0.9045419701629647 and parameters: {'n_estimators': 233, 'max_depth': 9, 'num_leaves': 24}. Best is trial 13 with value: 0.9108308292149899.\u001b[0m\n"
     ]
    },
    {
     "name": "stdout",
     "output_type": "stream",
     "text": [
      "Overall accuracy: 0.905\n",
      "\n"
     ]
    },
    {
     "name": "stderr",
     "output_type": "stream",
     "text": [
      "\u001b[32m[I 2023-05-11 02:44:00,164]\u001b[0m Trial 24 finished with value: 0.908080637053644 and parameters: {'n_estimators': 280, 'max_depth': 19, 'num_leaves': 17}. Best is trial 13 with value: 0.9108308292149899.\u001b[0m\n"
     ]
    },
    {
     "name": "stdout",
     "output_type": "stream",
     "text": [
      "Overall accuracy: 0.908\n",
      "\n"
     ]
    },
    {
     "name": "stderr",
     "output_type": "stream",
     "text": [
      "\u001b[32m[I 2023-05-11 02:44:49,589]\u001b[0m Trial 25 finished with value: 0.9072596201241516 and parameters: {'n_estimators': 236, 'max_depth': 37, 'num_leaves': 36}. Best is trial 13 with value: 0.9108308292149899.\u001b[0m\n"
     ]
    },
    {
     "name": "stdout",
     "output_type": "stream",
     "text": [
      "Overall accuracy: 0.908\n",
      "\n"
     ]
    },
    {
     "name": "stderr",
     "output_type": "stream",
     "text": [
      "\u001b[32m[I 2023-05-11 02:45:16,966]\u001b[0m Trial 26 finished with value: 0.9092972139757936 and parameters: {'n_estimators': 299, 'max_depth': 22, 'num_leaves': 11}. Best is trial 13 with value: 0.9108308292149899.\u001b[0m\n"
     ]
    },
    {
     "name": "stdout",
     "output_type": "stream",
     "text": [
      "Overall accuracy: 0.910\n",
      "\n"
     ]
    },
    {
     "name": "stderr",
     "output_type": "stream",
     "text": [
      "\u001b[32m[I 2023-05-11 02:45:43,186]\u001b[0m Trial 27 finished with value: 0.9073568468108699 and parameters: {'n_estimators': 260, 'max_depth': 14, 'num_leaves': 12}. Best is trial 13 with value: 0.9108308292149899.\u001b[0m\n"
     ]
    },
    {
     "name": "stdout",
     "output_type": "stream",
     "text": [
      "Overall accuracy: 0.908\n",
      "\n"
     ]
    },
    {
     "name": "stderr",
     "output_type": "stream",
     "text": [
      "\u001b[32m[I 2023-05-11 02:46:31,841]\u001b[0m Trial 28 finished with value: 0.9029874549480228 and parameters: {'n_estimators': 192, 'max_depth': 21, 'num_leaves': 43}. Best is trial 13 with value: 0.9108308292149899.\u001b[0m\n"
     ]
    },
    {
     "name": "stdout",
     "output_type": "stream",
     "text": [
      "Overall accuracy: 0.903\n",
      "\n"
     ]
    },
    {
     "name": "stderr",
     "output_type": "stream",
     "text": [
      "\u001b[32m[I 2023-05-11 02:46:53,963]\u001b[0m Trial 29 finished with value: 0.9029798087932752 and parameters: {'n_estimators': 104, 'max_depth': 41, 'num_leaves': 29}. Best is trial 13 with value: 0.9108308292149899.\u001b[0m\n"
     ]
    },
    {
     "name": "stdout",
     "output_type": "stream",
     "text": [
      "Overall accuracy: 0.903\n",
      "\n"
     ]
    },
    {
     "name": "stderr",
     "output_type": "stream",
     "text": [
      "\u001b[32m[I 2023-05-11 02:47:53,212]\u001b[0m Trial 30 finished with value: 0.9049246074245846 and parameters: {'n_estimators': 221, 'max_depth': 29, 'num_leaves': 54}. Best is trial 13 with value: 0.9108308292149899.\u001b[0m\n"
     ]
    },
    {
     "name": "stdout",
     "output_type": "stream",
     "text": [
      "Overall accuracy: 0.905\n",
      "\n"
     ]
    },
    {
     "name": "stderr",
     "output_type": "stream",
     "text": [
      "\u001b[32m[I 2023-05-11 02:48:29,142]\u001b[0m Trial 31 finished with value: 0.9096808548106841 and parameters: {'n_estimators': 299, 'max_depth': 21, 'num_leaves': 15}. Best is trial 13 with value: 0.9108308292149899.\u001b[0m\n"
     ]
    },
    {
     "name": "stdout",
     "output_type": "stream",
     "text": [
      "Overall accuracy: 0.910\n",
      "\n"
     ]
    },
    {
     "name": "stderr",
     "output_type": "stream",
     "text": [
      "\u001b[32m[I 2023-05-11 02:49:04,670]\u001b[0m Trial 32 finished with value: 0.9065475244061436 and parameters: {'n_estimators': 278, 'max_depth': 21, 'num_leaves': 16}. Best is trial 13 with value: 0.9108308292149899.\u001b[0m\n"
     ]
    },
    {
     "name": "stdout",
     "output_type": "stream",
     "text": [
      "Overall accuracy: 0.907\n",
      "\n"
     ]
    },
    {
     "name": "stderr",
     "output_type": "stream",
     "text": [
      "\u001b[32m[I 2023-05-11 02:49:36,439]\u001b[0m Trial 33 finished with value: 0.9088992783488361 and parameters: {'n_estimators': 295, 'max_depth': 12, 'num_leaves': 13}. Best is trial 13 with value: 0.9108308292149899.\u001b[0m\n"
     ]
    },
    {
     "name": "stdout",
     "output_type": "stream",
     "text": [
      "Overall accuracy: 0.909\n",
      "\n"
     ]
    },
    {
     "name": "stderr",
     "output_type": "stream",
     "text": [
      "\u001b[32m[I 2023-05-11 02:50:01,557]\u001b[0m Trial 34 finished with value: 0.908095812884052 and parameters: {'n_estimators': 299, 'max_depth': 7, 'num_leaves': 10}. Best is trial 13 with value: 0.9108308292149899.\u001b[0m\n"
     ]
    },
    {
     "name": "stdout",
     "output_type": "stream",
     "text": [
      "Overall accuracy: 0.908\n",
      "\n"
     ]
    },
    {
     "name": "stderr",
     "output_type": "stream",
     "text": [
      "\u001b[32m[I 2023-05-11 02:50:30,707]\u001b[0m Trial 35 finished with value: 0.9096880291856426 and parameters: {'n_estimators': 269, 'max_depth': 12, 'num_leaves': 13}. Best is trial 13 with value: 0.9108308292149899.\u001b[0m\n"
     ]
    },
    {
     "name": "stdout",
     "output_type": "stream",
     "text": [
      "Overall accuracy: 0.910\n",
      "\n"
     ]
    },
    {
     "name": "stderr",
     "output_type": "stream",
     "text": [
      "\u001b[32m[I 2023-05-11 02:51:00,560]\u001b[0m Trial 36 finished with value: 0.9100997691906783 and parameters: {'n_estimators': 261, 'max_depth': 15, 'num_leaves': 14}. Best is trial 13 with value: 0.9108308292149899.\u001b[0m\n"
     ]
    },
    {
     "name": "stdout",
     "output_type": "stream",
     "text": [
      "Overall accuracy: 0.910\n",
      "\n"
     ]
    },
    {
     "name": "stderr",
     "output_type": "stream",
     "text": [
      "\u001b[32m[I 2023-05-11 02:51:39,975]\u001b[0m Trial 37 finished with value: 0.9077051121637323 and parameters: {'n_estimators': 248, 'max_depth': 14, 'num_leaves': 21}. Best is trial 13 with value: 0.9108308292149899.\u001b[0m\n"
     ]
    },
    {
     "name": "stdout",
     "output_type": "stream",
     "text": [
      "Overall accuracy: 0.908\n",
      "\n"
     ]
    },
    {
     "name": "stderr",
     "output_type": "stream",
     "text": [
      "\u001b[32m[I 2023-05-11 02:51:42,991]\u001b[0m Trial 38 finished with value: 0.8806621747327472 and parameters: {'n_estimators': 12, 'max_depth': 5, 'num_leaves': 14}. Best is trial 13 with value: 0.9108308292149899.\u001b[0m\n"
     ]
    },
    {
     "name": "stdout",
     "output_type": "stream",
     "text": [
      "Overall accuracy: 0.881\n",
      "\n"
     ]
    },
    {
     "name": "stderr",
     "output_type": "stream",
     "text": [
      "\u001b[32m[I 2023-05-11 02:52:06,031]\u001b[0m Trial 39 finished with value: 0.9100997691906783 and parameters: {'n_estimators': 158, 'max_depth': 10, 'num_leaves': 18}. Best is trial 13 with value: 0.9108308292149899.\u001b[0m\n"
     ]
    },
    {
     "name": "stdout",
     "output_type": "stream",
     "text": [
      "Overall accuracy: 0.910\n",
      "\n"
     ]
    },
    {
     "name": "stderr",
     "output_type": "stream",
     "text": [
      "\u001b[32m[I 2023-05-11 02:52:13,557]\u001b[0m Trial 40 finished with value: 0.8914740235495392 and parameters: {'n_estimators': 41, 'max_depth': 10, 'num_leaves': 18}. Best is trial 13 with value: 0.9108308292149899.\u001b[0m\n"
     ]
    },
    {
     "name": "stdout",
     "output_type": "stream",
     "text": [
      "Overall accuracy: 0.892\n",
      "\n"
     ]
    },
    {
     "name": "stderr",
     "output_type": "stream",
     "text": [
      "\u001b[32m[I 2023-05-11 02:52:20,371]\u001b[0m Trial 41 finished with value: 0.8986534420061374 and parameters: {'n_estimators': 69, 'max_depth': 4, 'num_leaves': 24}. Best is trial 13 with value: 0.9108308292149899.\u001b[0m\n"
     ]
    },
    {
     "name": "stdout",
     "output_type": "stream",
     "text": [
      "Overall accuracy: 0.899\n",
      "\n"
     ]
    },
    {
     "name": "stderr",
     "output_type": "stream",
     "text": [
      "\u001b[32m[I 2023-05-11 02:52:38,704]\u001b[0m Trial 42 finished with value: 0.909311170674807 and parameters: {'n_estimators': 151, 'max_depth': 17, 'num_leaves': 14}. Best is trial 13 with value: 0.9108308292149899.\u001b[0m\n"
     ]
    },
    {
     "name": "stdout",
     "output_type": "stream",
     "text": [
      "Overall accuracy: 0.910\n",
      "\n"
     ]
    },
    {
     "name": "stderr",
     "output_type": "stream",
     "text": [
      "\u001b[32m[I 2023-05-11 02:53:48,561]\u001b[0m Trial 43 finished with value: 0.903304574211127 and parameters: {'n_estimators': 268, 'max_depth': 14, 'num_leaves': 64}. Best is trial 13 with value: 0.9108308292149899.\u001b[0m\n"
     ]
    },
    {
     "name": "stdout",
     "output_type": "stream",
     "text": [
      "Overall accuracy: 0.904\n",
      "\n"
     ]
    },
    {
     "name": "stderr",
     "output_type": "stream",
     "text": [
      "\u001b[32m[I 2023-05-11 02:54:06,028]\u001b[0m Trial 44 finished with value: 0.9014176621078347 and parameters: {'n_estimators': 116, 'max_depth': 9, 'num_leaves': 18}. Best is trial 13 with value: 0.9108308292149899.\u001b[0m\n"
     ]
    },
    {
     "name": "stdout",
     "output_type": "stream",
     "text": [
      "Overall accuracy: 0.902\n",
      "\n"
     ]
    },
    {
     "name": "stderr",
     "output_type": "stream",
     "text": [
      "\u001b[32m[I 2023-05-11 02:54:25,668]\u001b[0m Trial 45 finished with value: 0.907754406272157 and parameters: {'n_estimators': 222, 'max_depth': 16, 'num_leaves': 10}. Best is trial 13 with value: 0.9108308292149899.\u001b[0m\n"
     ]
    },
    {
     "name": "stdout",
     "output_type": "stream",
     "text": [
      "Overall accuracy: 0.908\n",
      "\n"
     ]
    },
    {
     "name": "stderr",
     "output_type": "stream",
     "text": [
      "\u001b[32m[I 2023-05-11 02:55:24,267]\u001b[0m Trial 46 finished with value: 0.909260331868859 and parameters: {'n_estimators': 283, 'max_depth': 12, 'num_leaves': 26}. Best is trial 13 with value: 0.9108308292149899.\u001b[0m\n"
     ]
    },
    {
     "name": "stdout",
     "output_type": "stream",
     "text": [
      "Overall accuracy: 0.910\n",
      "\n"
     ]
    },
    {
     "name": "stderr",
     "output_type": "stream",
     "text": [
      "\u001b[32m[I 2023-05-11 02:55:36,451]\u001b[0m Trial 47 finished with value: 0.9022492642521112 and parameters: {'n_estimators': 262, 'max_depth': 3, 'num_leaves': 20}. Best is trial 13 with value: 0.9108308292149899.\u001b[0m\n"
     ]
    },
    {
     "name": "stdout",
     "output_type": "stream",
     "text": [
      "Overall accuracy: 0.902\n",
      "\n"
     ]
    },
    {
     "name": "stderr",
     "output_type": "stream",
     "text": [
      "\u001b[32m[I 2023-05-11 02:56:04,318]\u001b[0m Trial 48 finished with value: 0.9097088732447015 and parameters: {'n_estimators': 243, 'max_depth': 48, 'num_leaves': 14}. Best is trial 13 with value: 0.9108308292149899.\u001b[0m\n"
     ]
    },
    {
     "name": "stdout",
     "output_type": "stream",
     "text": [
      "Overall accuracy: 0.910\n",
      "\n"
     ]
    },
    {
     "name": "stderr",
     "output_type": "stream",
     "text": [
      "\u001b[32m[I 2023-05-11 02:56:27,217]\u001b[0m Trial 49 finished with value: 0.9049983259774036 and parameters: {'n_estimators': 130, 'max_depth': 50, 'num_leaves': 22}. Best is trial 13 with value: 0.9108308292149899.\u001b[0m\n"
     ]
    },
    {
     "name": "stdout",
     "output_type": "stream",
     "text": [
      "Overall accuracy: 0.905\n",
      "\n"
     ]
    },
    {
     "name": "stderr",
     "output_type": "stream",
     "text": [
      "\u001b[32m[I 2023-05-11 02:57:02,670]\u001b[0m Trial 50 finished with value: 0.9072916296463791 and parameters: {'n_estimators': 165, 'max_depth': 63, 'num_leaves': 31}. Best is trial 13 with value: 0.9108308292149899.\u001b[0m\n"
     ]
    },
    {
     "name": "stdout",
     "output_type": "stream",
     "text": [
      "Overall accuracy: 0.908\n",
      "\n"
     ]
    },
    {
     "name": "stderr",
     "output_type": "stream",
     "text": [
      "\u001b[32m[I 2023-05-11 02:57:32,545]\u001b[0m Trial 51 finished with value: 0.9108746537327362 and parameters: {'n_estimators': 244, 'max_depth': 57, 'num_leaves': 15}. Best is trial 51 with value: 0.9108746537327362.\u001b[0m\n"
     ]
    },
    {
     "name": "stdout",
     "output_type": "stream",
     "text": [
      "Overall accuracy: 0.911\n",
      "\n"
     ]
    },
    {
     "name": "stderr",
     "output_type": "stream",
     "text": [
      "\u001b[32m[I 2023-05-11 02:57:56,976]\u001b[0m Trial 52 finished with value: 0.9073217766752228 and parameters: {'n_estimators': 223, 'max_depth': 55, 'num_leaves': 13}. Best is trial 51 with value: 0.9108746537327362.\u001b[0m\n"
     ]
    },
    {
     "name": "stdout",
     "output_type": "stream",
     "text": [
      "Overall accuracy: 0.908\n",
      "\n"
     ]
    },
    {
     "name": "stderr",
     "output_type": "stream",
     "text": [
      "\u001b[32m[I 2023-05-11 02:58:33,522]\u001b[0m Trial 53 finished with value: 0.9057214573076817 and parameters: {'n_estimators': 248, 'max_depth': 59, 'num_leaves': 19}. Best is trial 51 with value: 0.9108746537327362.\u001b[0m\n"
     ]
    },
    {
     "name": "stdout",
     "output_type": "stream",
     "text": [
      "Overall accuracy: 0.906\n",
      "\n"
     ]
    },
    {
     "name": "stderr",
     "output_type": "stream",
     "text": [
      "\u001b[32m[I 2023-05-11 02:59:04,421]\u001b[0m Trial 54 finished with value: 0.9069453751271934 and parameters: {'n_estimators': 239, 'max_depth': 47, 'num_leaves': 16}. Best is trial 51 with value: 0.9108746537327362.\u001b[0m\n"
     ]
    },
    {
     "name": "stdout",
     "output_type": "stream",
     "text": [
      "Overall accuracy: 0.907\n",
      "\n"
     ]
    },
    {
     "name": "stderr",
     "output_type": "stream",
     "text": [
      "\u001b[32m[I 2023-05-11 02:59:26,517]\u001b[0m Trial 55 finished with value: 0.9073431668668335 and parameters: {'n_estimators': 207, 'max_depth': 58, 'num_leaves': 12}. Best is trial 51 with value: 0.9108746537327362.\u001b[0m\n"
     ]
    },
    {
     "name": "stdout",
     "output_type": "stream",
     "text": [
      "Overall accuracy: 0.908\n",
      "\n"
     ]
    },
    {
     "name": "stderr",
     "output_type": "stream",
     "text": [
      "\u001b[32m[I 2023-05-11 03:00:20,402]\u001b[0m Trial 56 finished with value: 0.9033132209804985 and parameters: {'n_estimators': 196, 'max_depth': 55, 'num_leaves': 50}. Best is trial 51 with value: 0.9108746537327362.\u001b[0m\n"
     ]
    },
    {
     "name": "stdout",
     "output_type": "stream",
     "text": [
      "Overall accuracy: 0.904\n",
      "\n"
     ]
    },
    {
     "name": "stderr",
     "output_type": "stream",
     "text": [
      "\u001b[32m[I 2023-05-11 03:00:58,567]\u001b[0m Trial 57 finished with value: 0.9077051121637323 and parameters: {'n_estimators': 272, 'max_depth': 48, 'num_leaves': 18}. Best is trial 51 with value: 0.9108746537327362.\u001b[0m\n"
     ]
    },
    {
     "name": "stdout",
     "output_type": "stream",
     "text": [
      "Overall accuracy: 0.908\n",
      "\n"
     ]
    },
    {
     "name": "stderr",
     "output_type": "stream",
     "text": [
      "\u001b[32m[I 2023-05-11 03:02:01,404]\u001b[0m Trial 58 finished with value: 0.9021506444483076 and parameters: {'n_estimators': 255, 'max_depth': 51, 'num_leaves': 56}. Best is trial 51 with value: 0.9108746537327362.\u001b[0m\n"
     ]
    },
    {
     "name": "stdout",
     "output_type": "stream",
     "text": [
      "Overall accuracy: 0.902\n",
      "\n"
     ]
    },
    {
     "name": "stderr",
     "output_type": "stream",
     "text": [
      "\u001b[32m[I 2023-05-11 03:02:33,253]\u001b[0m Trial 59 finished with value: 0.9041435737479777 and parameters: {'n_estimators': 164, 'max_depth': 43, 'num_leaves': 26}. Best is trial 51 with value: 0.9108746537327362.\u001b[0m\n"
     ]
    },
    {
     "name": "stdout",
     "output_type": "stream",
     "text": [
      "Overall accuracy: 0.904\n",
      "\n"
     ]
    },
    {
     "name": "stderr",
     "output_type": "stream",
     "text": [
      "\u001b[32m[I 2023-05-11 03:03:02,878]\u001b[0m Trial 60 finished with value: 0.9104906668362642 and parameters: {'n_estimators': 242, 'max_depth': 52, 'num_leaves': 15}. Best is trial 51 with value: 0.9108746537327362.\u001b[0m\n"
     ]
    },
    {
     "name": "stdout",
     "output_type": "stream",
     "text": [
      "Overall accuracy: 0.911\n",
      "\n"
     ]
    },
    {
     "name": "stderr",
     "output_type": "stream",
     "text": [
      "\u001b[32m[I 2023-05-11 03:03:32,452]\u001b[0m Trial 61 finished with value: 0.9104906668362642 and parameters: {'n_estimators': 242, 'max_depth': 59, 'num_leaves': 15}. Best is trial 51 with value: 0.9108746537327362.\u001b[0m\n"
     ]
    },
    {
     "name": "stdout",
     "output_type": "stream",
     "text": [
      "Overall accuracy: 0.911\n",
      "\n"
     ]
    },
    {
     "name": "stderr",
     "output_type": "stream",
     "text": [
      "\u001b[32m[I 2023-05-11 03:04:12,298]\u001b[0m Trial 62 finished with value: 0.9081177120133463 and parameters: {'n_estimators': 233, 'max_depth': 52, 'num_leaves': 23}. Best is trial 51 with value: 0.9108746537327362.\u001b[0m\n"
     ]
    },
    {
     "name": "stdout",
     "output_type": "stream",
     "text": [
      "Overall accuracy: 0.908\n",
      "\n"
     ]
    },
    {
     "name": "stderr",
     "output_type": "stream",
     "text": [
      "\u001b[32m[I 2023-05-11 03:04:42,326]\u001b[0m Trial 63 finished with value: 0.9108746537327362 and parameters: {'n_estimators': 244, 'max_depth': 60, 'num_leaves': 15}. Best is trial 51 with value: 0.9108746537327362.\u001b[0m\n"
     ]
    },
    {
     "name": "stdout",
     "output_type": "stream",
     "text": [
      "Overall accuracy: 0.911\n",
      "\n"
     ]
    },
    {
     "name": "stderr",
     "output_type": "stream",
     "text": [
      "\u001b[32m[I 2023-05-11 03:05:11,497]\u001b[0m Trial 64 finished with value: 0.9077269317329333 and parameters: {'n_estimators': 219, 'max_depth': 61, 'num_leaves': 16}. Best is trial 51 with value: 0.9108746537327362.\u001b[0m\n"
     ]
    },
    {
     "name": "stdout",
     "output_type": "stream",
     "text": [
      "Overall accuracy: 0.908\n",
      "\n"
     ]
    },
    {
     "name": "stderr",
     "output_type": "stream",
     "text": [
      "\u001b[32m[I 2023-05-11 03:06:08,720]\u001b[0m Trial 65 finished with value: 0.908080637053644 and parameters: {'n_estimators': 228, 'max_depth': 60, 'num_leaves': 45}. Best is trial 51 with value: 0.9108746537327362.\u001b[0m\n"
     ]
    },
    {
     "name": "stdout",
     "output_type": "stream",
     "text": [
      "Overall accuracy: 0.908\n",
      "\n"
     ]
    },
    {
     "name": "stderr",
     "output_type": "stream",
     "text": [
      "\u001b[32m[I 2023-05-11 03:06:46,568]\u001b[0m Trial 66 finished with value: 0.9065180585987996 and parameters: {'n_estimators': 254, 'max_depth': 57, 'num_leaves': 19}. Best is trial 51 with value: 0.9108746537327362.\u001b[0m\n"
     ]
    },
    {
     "name": "stdout",
     "output_type": "stream",
     "text": [
      "Overall accuracy: 0.907\n",
      "\n"
     ]
    },
    {
     "name": "stderr",
     "output_type": "stream",
     "text": [
      "\u001b[32m[I 2023-05-11 03:07:07,184]\u001b[0m Trial 67 finished with value: 0.9093042491392078 and parameters: {'n_estimators': 214, 'max_depth': 64, 'num_leaves': 11}. Best is trial 51 with value: 0.9108746537327362.\u001b[0m\n"
     ]
    },
    {
     "name": "stdout",
     "output_type": "stream",
     "text": [
      "Overall accuracy: 0.910\n",
      "\n"
     ]
    },
    {
     "name": "stderr",
     "output_type": "stream",
     "text": [
      "\u001b[32m[I 2023-05-11 03:07:41,156]\u001b[0m Trial 68 finished with value: 0.9076822506839697 and parameters: {'n_estimators': 281, 'max_depth': 55, 'num_leaves': 15}. Best is trial 51 with value: 0.9108746537327362.\u001b[0m\n"
     ]
    },
    {
     "name": "stdout",
     "output_type": "stream",
     "text": [
      "Overall accuracy: 0.908\n",
      "\n"
     ]
    },
    {
     "name": "stderr",
     "output_type": "stream",
     "text": [
      "\u001b[32m[I 2023-05-11 03:08:13,483]\u001b[0m Trial 69 finished with value: 0.9097088732447015 and parameters: {'n_estimators': 200, 'max_depth': 62, 'num_leaves': 21}. Best is trial 51 with value: 0.9108746537327362.\u001b[0m\n"
     ]
    },
    {
     "name": "stdout",
     "output_type": "stream",
     "text": [
      "Overall accuracy: 0.910\n",
      "\n"
     ]
    },
    {
     "name": "stderr",
     "output_type": "stream",
     "text": [
      "\u001b[32m[I 2023-05-11 03:08:47,818]\u001b[0m Trial 70 finished with value: 0.9045419701629647 and parameters: {'n_estimators': 177, 'max_depth': 53, 'num_leaves': 26}. Best is trial 51 with value: 0.9108746537327362.\u001b[0m\n"
     ]
    },
    {
     "name": "stdout",
     "output_type": "stream",
     "text": [
      "Overall accuracy: 0.905\n",
      "\n"
     ]
    },
    {
     "name": "stderr",
     "output_type": "stream",
     "text": [
      "\u001b[32m[I 2023-05-11 03:09:16,404]\u001b[0m Trial 71 finished with value: 0.909311170674807 and parameters: {'n_estimators': 241, 'max_depth': 37, 'num_leaves': 14}. Best is trial 51 with value: 0.9108746537327362.\u001b[0m\n"
     ]
    },
    {
     "name": "stdout",
     "output_type": "stream",
     "text": [
      "Overall accuracy: 0.910\n",
      "\n"
     ]
    },
    {
     "name": "stderr",
     "output_type": "stream",
     "text": [
      "\u001b[32m[I 2023-05-11 03:09:49,697]\u001b[0m Trial 72 finished with value: 0.908884690026678 and parameters: {'n_estimators': 246, 'max_depth': 46, 'num_leaves': 17}. Best is trial 51 with value: 0.9108746537327362.\u001b[0m\n"
     ]
    },
    {
     "name": "stdout",
     "output_type": "stream",
     "text": [
      "Overall accuracy: 0.909\n",
      "\n"
     ]
    },
    {
     "name": "stderr",
     "output_type": "stream",
     "text": [
      "\u001b[32m[I 2023-05-11 03:10:16,065]\u001b[0m Trial 73 finished with value: 0.9081317356594563 and parameters: {'n_estimators': 261, 'max_depth': 56, 'num_leaves': 12}. Best is trial 51 with value: 0.9108746537327362.\u001b[0m\n"
     ]
    },
    {
     "name": "stdout",
     "output_type": "stream",
     "text": [
      "Overall accuracy: 0.908\n",
      "\n"
     ]
    },
    {
     "name": "stderr",
     "output_type": "stream",
     "text": [
      "\u001b[32m[I 2023-05-11 03:10:47,172]\u001b[0m Trial 74 finished with value: 0.9092828025540958 and parameters: {'n_estimators': 230, 'max_depth': 53, 'num_leaves': 17}. Best is trial 51 with value: 0.9108746537327362.\u001b[0m\n"
     ]
    },
    {
     "name": "stdout",
     "output_type": "stream",
     "text": [
      "Overall accuracy: 0.910\n",
      "\n"
     ]
    },
    {
     "name": "stderr",
     "output_type": "stream",
     "text": [
      "\u001b[32m[I 2023-05-11 03:11:21,887]\u001b[0m Trial 75 finished with value: 0.9100417215089278 and parameters: {'n_estimators': 289, 'max_depth': 45, 'num_leaves': 15}. Best is trial 51 with value: 0.9108746537327362.\u001b[0m\n"
     ]
    },
    {
     "name": "stdout",
     "output_type": "stream",
     "text": [
      "Overall accuracy: 0.910\n",
      "\n"
     ]
    },
    {
     "name": "stderr",
     "output_type": "stream",
     "text": [
      "\u001b[32m[I 2023-05-11 03:11:46,699]\u001b[0m Trial 76 finished with value: 0.9116965256622356 and parameters: {'n_estimators': 290, 'max_depth': 41, 'num_leaves': 10}. Best is trial 76 with value: 0.9116965256622356.\u001b[0m\n"
     ]
    },
    {
     "name": "stdout",
     "output_type": "stream",
     "text": [
      "Overall accuracy: 0.912\n",
      "\n"
     ]
    },
    {
     "name": "stderr",
     "output_type": "stream",
     "text": [
      "\u001b[32m[I 2023-05-11 03:11:55,562]\u001b[0m Trial 77 finished with value: 0.9041816389480714 and parameters: {'n_estimators': 86, 'max_depth': 60, 'num_leaves': 10}. Best is trial 76 with value: 0.9116965256622356.\u001b[0m\n"
     ]
    },
    {
     "name": "stdout",
     "output_type": "stream",
     "text": [
      "Overall accuracy: 0.904\n",
      "\n"
     ]
    },
    {
     "name": "stderr",
     "output_type": "stream",
     "text": [
      "\u001b[32m[I 2023-05-11 03:12:47,041]\u001b[0m Trial 78 finished with value: 0.9088541412007837 and parameters: {'n_estimators': 279, 'max_depth': 40, 'num_leaves': 36}. Best is trial 76 with value: 0.9116965256622356.\u001b[0m\n"
     ]
    },
    {
     "name": "stdout",
     "output_type": "stream",
     "text": [
      "Overall accuracy: 0.909\n",
      "\n"
     ]
    },
    {
     "name": "stderr",
     "output_type": "stream",
     "text": [
      "\u001b[32m[I 2023-05-11 03:13:13,171]\u001b[0m Trial 79 finished with value: 0.9077339736430645 and parameters: {'n_estimators': 256, 'max_depth': 58, 'num_leaves': 12}. Best is trial 76 with value: 0.9116965256622356.\u001b[0m\n"
     ]
    },
    {
     "name": "stdout",
     "output_type": "stream",
     "text": [
      "Overall accuracy: 0.908\n",
      "\n"
     ]
    },
    {
     "name": "stderr",
     "output_type": "stream",
     "text": [
      "\u001b[32m[I 2023-05-11 03:13:39,575]\u001b[0m Trial 80 finished with value: 0.9100859338542648 and parameters: {'n_estimators': 287, 'max_depth': 23, 'num_leaves': 11}. Best is trial 76 with value: 0.9116965256622356.\u001b[0m\n"
     ]
    },
    {
     "name": "stdout",
     "output_type": "stream",
     "text": [
      "Overall accuracy: 0.910\n",
      "\n"
     ]
    },
    {
     "name": "stderr",
     "output_type": "stream",
     "text": [
      "\u001b[32m[I 2023-05-11 03:14:06,339]\u001b[0m Trial 81 finished with value: 0.9108746537327362 and parameters: {'n_estimators': 288, 'max_depth': 27, 'num_leaves': 11}. Best is trial 76 with value: 0.9116965256622356.\u001b[0m\n"
     ]
    },
    {
     "name": "stdout",
     "output_type": "stream",
     "text": [
      "Overall accuracy: 0.911\n",
      "\n"
     ]
    },
    {
     "name": "stderr",
     "output_type": "stream",
     "text": [
      "\u001b[32m[I 2023-05-11 03:14:59,716]\u001b[0m Trial 82 finished with value: 0.9068691008445107 and parameters: {'n_estimators': 270, 'max_depth': 30, 'num_leaves': 39}. Best is trial 76 with value: 0.9116965256622356.\u001b[0m\n"
     ]
    },
    {
     "name": "stdout",
     "output_type": "stream",
     "text": [
      "Overall accuracy: 0.907\n",
      "\n"
     ]
    },
    {
     "name": "stderr",
     "output_type": "stream",
     "text": [
      "\u001b[32m[I 2023-05-11 03:15:28,103]\u001b[0m Trial 83 finished with value: 0.9088992783488361 and parameters: {'n_estimators': 264, 'max_depth': 33, 'num_leaves': 13}. Best is trial 76 with value: 0.9116965256622356.\u001b[0m\n"
     ]
    },
    {
     "name": "stdout",
     "output_type": "stream",
     "text": [
      "Overall accuracy: 0.909\n",
      "\n"
     ]
    },
    {
     "name": "stderr",
     "output_type": "stream",
     "text": [
      "\u001b[32m[I 2023-05-11 03:15:52,470]\u001b[0m Trial 84 finished with value: 0.9112926152556229 and parameters: {'n_estimators': 287, 'max_depth': 27, 'num_leaves': 10}. Best is trial 76 with value: 0.9116965256622356.\u001b[0m\n"
     ]
    },
    {
     "name": "stdout",
     "output_type": "stream",
     "text": [
      "Overall accuracy: 0.911\n",
      "\n"
     ]
    },
    {
     "name": "stderr",
     "output_type": "stream",
     "text": [
      "\u001b[32m[I 2023-05-11 03:16:15,918]\u001b[0m Trial 85 finished with value: 0.91090810178422 and parameters: {'n_estimators': 275, 'max_depth': 27, 'num_leaves': 10}. Best is trial 76 with value: 0.9116965256622356.\u001b[0m\n"
     ]
    },
    {
     "name": "stdout",
     "output_type": "stream",
     "text": [
      "Overall accuracy: 0.911\n",
      "\n"
     ]
    },
    {
     "name": "stderr",
     "output_type": "stream",
     "text": [
      "\u001b[32m[I 2023-05-11 03:16:40,819]\u001b[0m Trial 86 finished with value: 0.9116965256622356 and parameters: {'n_estimators': 290, 'max_depth': 28, 'num_leaves': 10}. Best is trial 76 with value: 0.9116965256622356.\u001b[0m\n"
     ]
    },
    {
     "name": "stdout",
     "output_type": "stream",
     "text": [
      "Overall accuracy: 0.912\n",
      "\n"
     ]
    },
    {
     "name": "stderr",
     "output_type": "stream",
     "text": [
      "\u001b[32m[I 2023-05-11 03:17:05,534]\u001b[0m Trial 87 finished with value: 0.9117028244774816 and parameters: {'n_estimators': 292, 'max_depth': 27, 'num_leaves': 10}. Best is trial 87 with value: 0.9117028244774816.\u001b[0m\n"
     ]
    },
    {
     "name": "stdout",
     "output_type": "stream",
     "text": [
      "Overall accuracy: 0.912\n",
      "\n"
     ]
    },
    {
     "name": "stderr",
     "output_type": "stream",
     "text": [
      "\u001b[32m[I 2023-05-11 03:17:30,198]\u001b[0m Trial 88 finished with value: 0.9117028244774816 and parameters: {'n_estimators': 292, 'max_depth': 27, 'num_leaves': 10}. Best is trial 87 with value: 0.9117028244774816.\u001b[0m\n"
     ]
    },
    {
     "name": "stdout",
     "output_type": "stream",
     "text": [
      "Overall accuracy: 0.912\n",
      "\n"
     ]
    },
    {
     "name": "stderr",
     "output_type": "stream",
     "text": [
      "\u001b[32m[I 2023-05-11 03:17:55,269]\u001b[0m Trial 89 finished with value: 0.9117028244774816 and parameters: {'n_estimators': 292, 'max_depth': 27, 'num_leaves': 10}. Best is trial 87 with value: 0.9117028244774816.\u001b[0m\n"
     ]
    },
    {
     "name": "stdout",
     "output_type": "stream",
     "text": [
      "Overall accuracy: 0.912\n",
      "\n"
     ]
    },
    {
     "name": "stderr",
     "output_type": "stream",
     "text": [
      "\u001b[32m[I 2023-05-11 03:18:22,353]\u001b[0m Trial 90 finished with value: 0.9117028244774816 and parameters: {'n_estimators': 293, 'max_depth': 28, 'num_leaves': 10}. Best is trial 87 with value: 0.9117028244774816.\u001b[0m\n"
     ]
    },
    {
     "name": "stdout",
     "output_type": "stream",
     "text": [
      "Overall accuracy: 0.912\n",
      "\n"
     ]
    }
   ],
   "source": [
    "f1 = {}\n",
    "for feat_type in X_data.keys():\n",
    "    m = sel_model[feat_type]\n",
    "    print(f\"Model :- {m}, DataType :- {feat_type}\")\n",
    "    \n",
    "    #Data handling\n",
    "    X,y = X_data[feat_type],train_data.targets\n",
    "    X,y = shuffle(X,y,random_state=config[\"random_seed\"])\n",
    "    X = data_pipelines[feat_type].fit_transform(X,y)\n",
    "    \n",
    "    def objective(trial):\n",
    "        clf = ObjectiveFunctions(m).objective_func(trial)\n",
    "        \n",
    "        y_pred = cross_val_predict(clf, X, y, cv=5)\n",
    "    \n",
    "        result_values = action_evaluator(y_pred,y,class_names=[\"Not Druggable\",\"Druggable\"],print_report=False,show_plot=False,save_outputs=None)\n",
    "\n",
    "        return  result_values[\"f1\"]\n",
    "    \n",
    "    study = optuna.create_study(direction='maximize')\n",
    "    study.optimize(objective, n_trials=100)\n",
    "    \n",
    "    print('Accuracy: {}'.format(study.best_trial.value))\n",
    "    print(\"Best hyperparameters: {}\".format(study.best_trial.params))\n",
    "    \n",
    "    f1[feat_type] = study.best_trial.value\n",
    "    \n",
    "    params = study.best_trial.params\n",
    "    \n",
    "    os.makedirs(os.path.join(config[\"model_save_loc\"],feat_type,m),exist_ok=True)\n",
    "    model_dir = os.path.join(config[\"model_save_loc\"],feat_type,m)\n",
    "    \n",
    "    with open(os.path.join(model_dir,\"best_params.json\"),\"w\") as f0:\n",
    "        json.dump(params,f0)\n",
    "    \n",
    "    if m == 'RandomForest':\n",
    "        clf = RandomForestClassifier(**params)\n",
    "    elif m == 'SVC':\n",
    "        clf = SVC(**params)\n",
    "    else:\n",
    "        clf = LGBMClassifier(**params)\n",
    "        \n",
    "    clf.fit(X,y)\n",
    "    \n",
    "    \n",
    "    joblib.dump(study, os.path.join(model_dir,\"study.sav\"))\n",
    "    joblib.dump(data_pipelines[feat_type], os.path.join(model_dir,\"pipeline.sav\"))\n",
    "    joblib.dump(clf, os.path.join(model_dir,\"model_save.sav\"))\n",
    "    print(\"\\n\\n\")\n",
    "    \n",
    "with open(os.path.join(config[\"artifact_dir\"],\"f1_best_model.json\"),\"w\") as f0:\n",
    "    json.dump(f1,f0)"
   ]
  }
 ],
 "metadata": {
  "kernelspec": {
   "display_name": "Python 3 (ipykernel)",
   "language": "python",
   "name": "python3"
  },
  "language_info": {
   "codemirror_mode": {
    "name": "ipython",
    "version": 3
   },
   "file_extension": ".py",
   "mimetype": "text/x-python",
   "name": "python",
   "nbconvert_exporter": "python",
   "pygments_lexer": "ipython3",
   "version": "3.9.7"
  }
 },
 "nbformat": 4,
 "nbformat_minor": 4
}
