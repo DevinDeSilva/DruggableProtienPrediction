{
 "cells": [
  {
   "cell_type": "code",
   "execution_count": 27,
   "metadata": {},
   "outputs": [],
   "source": [
    "import utils.feature_extractors as utils\n",
    "from utils.evaluation import action_evaluator\n",
    "import numpy as np\n",
    "import os\n",
    "from sklearn.pipeline import make_pipeline\n",
    "from sklearn.utils import shuffle\n",
    "from sklearn.preprocessing import StandardScaler\n",
    "from sklearn.linear_model import RidgeClassifier\n",
    "from sklearn.decomposition import PCA\n",
    "from sklearn.model_selection import cross_val_predict\n",
    "from sklearn.neighbors import KNeighborsClassifier\n",
    "from sklearn.ensemble import RandomForestClassifier\n",
    "import pandas as pd\n",
    "from xgboost import XGBClassifier\n",
    "from scipy import stats\n",
    "from sklearn.svm import SVC\n",
    "import joblib"
   ]
  },
  {
   "cell_type": "code",
   "execution_count": 2,
   "metadata": {},
   "outputs": [],
   "source": [
    "config = {\n",
    "    \"train_pos_loc\":\"data/TR_pos_SPIDER.txt\",\n",
    "    \"train_neg_loc\":\"data/TR_neg_SPIDER.txt\",\n",
    "    \"test_pos_loc\":\"data/TS_pos_SPIDER.txt\",\n",
    "    \"test_neg_loc\":\"data/TS_neg_SPIDER.txt\",\n",
    "    \"model_save_loc\":\"optimized\",\n",
    "    \"ensemble_loc\":\"ensemble\",\n",
    "    \"random_seed\":9\n",
    "}"
   ]
  },
  {
   "cell_type": "code",
   "execution_count": 3,
   "metadata": {},
   "outputs": [],
   "source": [
    "class SpiderDataGenerator(object):\n",
    "    ALL_FEAT = [\"AAC\",\"DPC\",\"CTD\",\n",
    "                \"PAAC\",\"APAAC\",\"RSacid\",\n",
    "                \"RSpolar\",\"RSsecond\",\"RScharge\",\n",
    "                \"RSDHP\"]\n",
    "    def __init__(self, pos_data_file, neg_data_file,feat_type=None) -> None:\n",
    "        super(SpiderDataGenerator).__init__()\n",
    "        self.pos_data_file = pos_data_file\n",
    "        self.neg_data_file = neg_data_file\n",
    "        \n",
    "        assert feat_type in SpiderDataGenerator.ALL_FEAT or feat_type == None\n",
    "        \n",
    "        self.feat_type = feat_type\n",
    "        \n",
    "        self.pos_data = utils.read_fasta(self.pos_data_file)\n",
    "        self.neg_data = utils.read_fasta(self.neg_data_file)\n",
    "        \n",
    "        self.data = self.pos_data+self.neg_data\n",
    "        self.targets = np.array([True]*len(self.pos_data)+[False]*len(self.neg_data))\n",
    "        \n",
    "        self.raw = [x[1] for x in self.data]\n",
    "        \n",
    "        self.feat_AAC = utils.AAC(self.data)[0]\n",
    "        print(\"Generating AAC Feature .....\")\n",
    "        self.feat_DPC = utils.DPC(self.data,0)[0]\n",
    "        print(\"Generating DPC Feature .....\")\n",
    "        self.feat_CTD = np.hstack((utils.CTDC(self.data)[0], \n",
    "                              utils.CTDD(self.data)[0], \n",
    "                              utils.CTDT(self.data)[0]))\n",
    "        print(\"Generating CTD Feature .....\")\n",
    "        self.feat_PAAC = utils.PAAC(self.data,1)[0]\n",
    "        print(\"Generating PAAC Feature .....\")\n",
    "        self.feat_APAAC = utils.APAAC(self.data,1)[0]\n",
    "        print(\"Generating APAAC Feature .....\")\n",
    "        self.feat_RSacid = utils.reducedACID(self.data) \n",
    "        print(\"Generating reducedACID Feature .....\")\n",
    "        self.feat_RSpolar = utils.reducedPOLAR(self.data)\n",
    "        print(\"Generating reducedPOLAR Feature .....\")\n",
    "        self.feat_RSsecond = utils.reducedSECOND(self.data)\n",
    "        print(\"Generating reducedSECOND Feature .....\")\n",
    "        self.feat_RScharge = utils.reducedCHARGE(self.data)\n",
    "        print(\"Generating reducedCHARGE Feature .....\")\n",
    "        self.feat_RSDHP = utils.reducedDHP(self.data)\n",
    "        print(\"Generating reducedDHP Feature .....\")\n",
    "        \n",
    "        \n",
    "        \n",
    "    \n",
    "    def get_combination_feature(self,selected:list = None):\n",
    "        \n",
    "        all_feat =[self.feat_AAC,self.feat_DPC,self.feat_CTD,\n",
    "                   self.feat_PAAC,self.feat_APAAC,self.feat_RSacid,\n",
    "                   self.feat_RSpolar,self.feat_RSsecond,self.feat_RScharge,\n",
    "                   self.feat_RSDHP]\n",
    "        \n",
    "        if selected:\n",
    "            select_index = sorted([SpiderDataGenerator.ALL_FEAT.index(x) for x in selected])\n",
    "            all_feat = [all_feat[x] for x in select_index]\n",
    "            \n",
    "        return np.concatenate(all_feat,axis=-1)\n",
    "        \n",
    "        \n",
    "        \n",
    "            \n",
    "    def __len__(self) -> int:\n",
    "        return len(self.data)"
   ]
  },
  {
   "cell_type": "code",
   "execution_count": 4,
   "metadata": {},
   "outputs": [
    {
     "name": "stdout",
     "output_type": "stream",
     "text": [
      "Generating AAC Feature .....\n",
      "Generating DPC Feature .....\n",
      "Generating CTD Feature .....\n",
      "Generating PAAC Feature .....\n",
      "Generating APAAC Feature .....\n",
      "Generating reducedACID Feature .....\n",
      "Generating reducedPOLAR Feature .....\n",
      "Generating reducedSECOND Feature .....\n",
      "Generating reducedCHARGE Feature .....\n",
      "Generating reducedDHP Feature .....\n"
     ]
    }
   ],
   "source": [
    "test_data = SpiderDataGenerator(pos_data_file=config[\"test_pos_loc\"],neg_data_file=config[\"test_neg_loc\"])"
   ]
  },
  {
   "cell_type": "code",
   "execution_count": 5,
   "metadata": {},
   "outputs": [],
   "source": [
    "ensemble_model_dir = \"ensemble\\DPC_RSDHP_RSacid_RSpolar_RSsecond_RScharge\\RandomForestClassifier\"\n",
    "single_model_dir = \"model_saves\\SVC_DPC_RSDHP_RSacid_RSpolar_RSsecond_RScharge\""
   ]
  },
  {
   "cell_type": "code",
   "execution_count": 6,
   "metadata": {},
   "outputs": [],
   "source": [
    "X_test = {\n",
    "    \"AAC\":test_data.feat_AAC,\n",
    "    \"DPC\":test_data.feat_DPC,\n",
    "    \"CTD\":test_data.feat_CTD,\n",
    "    \"PAAC\":test_data.feat_PAAC,\n",
    "    \"APAAC\":test_data.feat_APAAC,\n",
    "    \"RSacid\":test_data.feat_RSacid,\n",
    "    \"RSpolar\":test_data.feat_RSpolar,\n",
    "    \"RSsecond\":test_data.feat_RSsecond,\n",
    "    \"RScharge\":test_data.feat_RScharge,\n",
    "    \"RSDHP\":test_data.feat_RSDHP,\n",
    "    \"DPC_RSDHP_RSacid_RSpolar_RSsecond_RScharge\":test_data.get_combination_feature([\"DPC\",\"RSDHP\",\"RSacid\",\"RSpolar\",\"RSsecond\",\"RScharge\"]),\n",
    "}\n",
    "\n",
    "sel_model = {\n",
    "    \"AAC\":\"SVC\",\n",
    "    \"DPC\":\"SVC\",\n",
    "    \"CTD\":\"LGBMClassifier\",\n",
    "    \"PAAC\":\"RandomForest\",\n",
    "    \"APAAC\":\"SVC\",\n",
    "    \"RSacid\":\"SVC\",\n",
    "    \"RSpolar\":\"SVC\",\n",
    "    \"RSsecond\":\"SVC\",\n",
    "    \"RScharge\":\"SVC\",\n",
    "    \"RSDHP\":\"SVC\",\n",
    "    \"Combine\":\"LGBMClassifier\",\n",
    "}"
   ]
  },
  {
   "attachments": {},
   "cell_type": "markdown",
   "metadata": {},
   "source": [
    "## Single Model"
   ]
  },
  {
   "cell_type": "code",
   "execution_count": 7,
   "metadata": {},
   "outputs": [],
   "source": [
    "X,y = X_test[\"DPC_RSDHP_RSacid_RSpolar_RSsecond_RScharge\"],test_data.targets\n",
    "X = joblib.load(os.path.join(single_model_dir,\"pipeline.sav\")).transform(X)\n",
    "ypred_single_model = joblib.load(os.path.join(single_model_dir,\"model_save.sav\")).predict(X)"
   ]
  },
  {
   "attachments": {},
   "cell_type": "markdown",
   "metadata": {},
   "source": [
    "## Ensemble model"
   ]
  },
  {
   "cell_type": "code",
   "execution_count": 8,
   "metadata": {},
   "outputs": [],
   "source": [
    "probabilities = []\n",
    "for feat_type in \"DPC_RSDHP_RSacid_RSpolar_RSsecond_RScharge\".split(\"_\"):\n",
    "    pipeline = joblib.load(os.path.join(config[\"model_save_loc\"],feat_type,sel_model[feat_type],\"pipeline.sav\"))\n",
    "    clf = joblib.load(os.path.join(config[\"model_save_loc\"],feat_type,sel_model[feat_type],\"model_save.sav\"))\n",
    "    \n",
    "    X = X_test[feat_type]\n",
    "    X = pipeline.transform(X)\n",
    "    \n",
    "    y_pred = clf.decision_function(X).reshape(-1,1)\n",
    "    probabilities.append(y_pred)\n",
    "    \n",
    "probabilities = np.concatenate(probabilities,axis=-1)\n",
    "\n",
    "ensemble = joblib.load(os.path.join(ensemble_model_dir,\"model_save.sav\"))\n",
    "ypred_ensemble_model = ensemble.predict(probabilities)"
   ]
  },
  {
   "cell_type": "code",
   "execution_count": 13,
   "metadata": {},
   "outputs": [],
   "source": [
    "significance_test_model_pred = pd.DataFrame.from_dict(data={\n",
    "    \"target\":y,\n",
    "    \"single_model\":ypred_single_model,\n",
    "    \"ensemble_model\":ypred_ensemble_model,\n",
    "    },orient=\"columns\")\n",
    "\n",
    "significance_test_model_pred[\"single_model_correct\"] = significance_test_model_pred[\"target\"] == significance_test_model_pred[\"single_model\"]\n",
    "significance_test_model_pred[\"ensemble_model_correct\"] = significance_test_model_pred[\"target\"] == significance_test_model_pred[\"ensemble_model\"]"
   ]
  },
  {
   "cell_type": "code",
   "execution_count": 17,
   "metadata": {},
   "outputs": [
    {
     "data": {
      "text/html": [
       "<div>\n",
       "<style scoped>\n",
       "    .dataframe tbody tr th:only-of-type {\n",
       "        vertical-align: middle;\n",
       "    }\n",
       "\n",
       "    .dataframe tbody tr th {\n",
       "        vertical-align: top;\n",
       "    }\n",
       "\n",
       "    .dataframe thead th {\n",
       "        text-align: right;\n",
       "    }\n",
       "</style>\n",
       "<table border=\"1\" class=\"dataframe\">\n",
       "  <thead>\n",
       "    <tr style=\"text-align: right;\">\n",
       "      <th></th>\n",
       "      <th>target</th>\n",
       "      <th>single_model</th>\n",
       "      <th>ensemble_model</th>\n",
       "      <th>single_model_correct</th>\n",
       "      <th>ensemble_model_correct</th>\n",
       "    </tr>\n",
       "  </thead>\n",
       "  <tbody>\n",
       "    <tr>\n",
       "      <th>0</th>\n",
       "      <td>True</td>\n",
       "      <td>True</td>\n",
       "      <td>True</td>\n",
       "      <td>True</td>\n",
       "      <td>True</td>\n",
       "    </tr>\n",
       "    <tr>\n",
       "      <th>1</th>\n",
       "      <td>True</td>\n",
       "      <td>True</td>\n",
       "      <td>True</td>\n",
       "      <td>True</td>\n",
       "      <td>True</td>\n",
       "    </tr>\n",
       "    <tr>\n",
       "      <th>2</th>\n",
       "      <td>True</td>\n",
       "      <td>False</td>\n",
       "      <td>False</td>\n",
       "      <td>False</td>\n",
       "      <td>False</td>\n",
       "    </tr>\n",
       "    <tr>\n",
       "      <th>3</th>\n",
       "      <td>True</td>\n",
       "      <td>True</td>\n",
       "      <td>True</td>\n",
       "      <td>True</td>\n",
       "      <td>True</td>\n",
       "    </tr>\n",
       "    <tr>\n",
       "      <th>4</th>\n",
       "      <td>True</td>\n",
       "      <td>True</td>\n",
       "      <td>True</td>\n",
       "      <td>True</td>\n",
       "      <td>True</td>\n",
       "    </tr>\n",
       "    <tr>\n",
       "      <th>5</th>\n",
       "      <td>True</td>\n",
       "      <td>True</td>\n",
       "      <td>True</td>\n",
       "      <td>True</td>\n",
       "      <td>True</td>\n",
       "    </tr>\n",
       "    <tr>\n",
       "      <th>6</th>\n",
       "      <td>True</td>\n",
       "      <td>True</td>\n",
       "      <td>True</td>\n",
       "      <td>True</td>\n",
       "      <td>True</td>\n",
       "    </tr>\n",
       "    <tr>\n",
       "      <th>7</th>\n",
       "      <td>True</td>\n",
       "      <td>False</td>\n",
       "      <td>False</td>\n",
       "      <td>False</td>\n",
       "      <td>False</td>\n",
       "    </tr>\n",
       "    <tr>\n",
       "      <th>8</th>\n",
       "      <td>True</td>\n",
       "      <td>False</td>\n",
       "      <td>False</td>\n",
       "      <td>False</td>\n",
       "      <td>False</td>\n",
       "    </tr>\n",
       "    <tr>\n",
       "      <th>9</th>\n",
       "      <td>True</td>\n",
       "      <td>True</td>\n",
       "      <td>True</td>\n",
       "      <td>True</td>\n",
       "      <td>True</td>\n",
       "    </tr>\n",
       "  </tbody>\n",
       "</table>\n",
       "</div>"
      ],
      "text/plain": [
       "   target  single_model  ensemble_model  single_model_correct   \n",
       "0    True          True            True                  True  \\\n",
       "1    True          True            True                  True   \n",
       "2    True         False           False                 False   \n",
       "3    True          True            True                  True   \n",
       "4    True          True            True                  True   \n",
       "5    True          True            True                  True   \n",
       "6    True          True            True                  True   \n",
       "7    True         False           False                 False   \n",
       "8    True         False           False                 False   \n",
       "9    True          True            True                  True   \n",
       "\n",
       "   ensemble_model_correct  \n",
       "0                    True  \n",
       "1                    True  \n",
       "2                   False  \n",
       "3                    True  \n",
       "4                    True  \n",
       "5                    True  \n",
       "6                    True  \n",
       "7                   False  \n",
       "8                   False  \n",
       "9                    True  "
      ]
     },
     "execution_count": 17,
     "metadata": {},
     "output_type": "execute_result"
    }
   ],
   "source": [
    "significance_test_model_pred.head(10)"
   ]
  },
  {
   "cell_type": "code",
   "execution_count": 22,
   "metadata": {},
   "outputs": [],
   "source": [
    "contigency_table = [[0,0],[0,0]]\n",
    "for i in significance_test_model_pred.index:\n",
    "    _,_,_,single_model_correct,ensemble_model_correct = significance_test_model_pred.loc[i]\n",
    "    \n",
    "    if single_model_correct == ensemble_model_correct and single_model_correct:\n",
    "         contigency_table[0][0] += 1\n",
    "    elif single_model_correct == ensemble_model_correct and not single_model_correct:\n",
    "        contigency_table[1][1] += 1\n",
    "    elif single_model_correct != ensemble_model_correct and single_model_correct:\n",
    "        contigency_table[0][1] += 1\n",
    "    else:\n",
    "        contigency_table[1][0] += 1\n",
    "        \n",
    "contigency_table = pd.DataFrame(\n",
    "    data=contigency_table,\n",
    "    columns=[\"ensemble_correct\",\"ensemble_incorrect\"],\n",
    "    index=[\"single_correct\",\"single_incorrect\"])"
   ]
  },
  {
   "cell_type": "code",
   "execution_count": 23,
   "metadata": {},
   "outputs": [
    {
     "data": {
      "text/html": [
       "<div>\n",
       "<style scoped>\n",
       "    .dataframe tbody tr th:only-of-type {\n",
       "        vertical-align: middle;\n",
       "    }\n",
       "\n",
       "    .dataframe tbody tr th {\n",
       "        vertical-align: top;\n",
       "    }\n",
       "\n",
       "    .dataframe thead th {\n",
       "        text-align: right;\n",
       "    }\n",
       "</style>\n",
       "<table border=\"1\" class=\"dataframe\">\n",
       "  <thead>\n",
       "    <tr style=\"text-align: right;\">\n",
       "      <th></th>\n",
       "      <th>ensemble_correct</th>\n",
       "      <th>ensemble_incorrect</th>\n",
       "    </tr>\n",
       "  </thead>\n",
       "  <tbody>\n",
       "    <tr>\n",
       "      <th>single_correct</th>\n",
       "      <td>379</td>\n",
       "      <td>21</td>\n",
       "    </tr>\n",
       "    <tr>\n",
       "      <th>single_incorrect</th>\n",
       "      <td>5</td>\n",
       "      <td>56</td>\n",
       "    </tr>\n",
       "  </tbody>\n",
       "</table>\n",
       "</div>"
      ],
      "text/plain": [
       "                  ensemble_correct  ensemble_incorrect\n",
       "single_correct                 379                  21\n",
       "single_incorrect                 5                  56"
      ]
     },
     "execution_count": 23,
     "metadata": {},
     "output_type": "execute_result"
    }
   ],
   "source": [
    "contigency_table"
   ]
  },
  {
   "cell_type": "code",
   "execution_count": 24,
   "metadata": {},
   "outputs": [],
   "source": [
    "statistic = (contigency_table.loc[\"single_correct\",\"ensemble_incorrect\"]-contigency_table.loc[\"single_incorrect\",\"ensemble_correct\"])**2/(contigency_table.loc[\"single_correct\",\"ensemble_incorrect\"]+contigency_table.loc[\"single_incorrect\",\"ensemble_correct\"])"
   ]
  },
  {
   "cell_type": "code",
   "execution_count": 29,
   "metadata": {},
   "outputs": [
    {
     "name": "stdout",
     "output_type": "stream",
     "text": [
      "X^2 :-  9.846153846153847\n",
      "P Value :-  0.001701872092673029\n"
     ]
    }
   ],
   "source": [
    "print(\"X^2 :- \",statistic)\n",
    "p_value = 1 - stats.chi2.cdf(statistic, 1)\n",
    "print(\"P Value :- \",p_value)"
   ]
  },
  {
   "attachments": {},
   "cell_type": "markdown",
   "metadata": {},
   "source": [
    "### Therefore the null hypothesis of the classifiers classification accuracy diffence being insignificant is false as P Value < 0.01 taking significant value as 0.01 \n",
    "\n",
    "Thus the single classifier has better accuracy, this maybe due to the fact that the ensemble model gets overfitted to training data as each base line classifers best results hover close to 0.9 accuracy. Thus the ensemble model maybe modelling the train noise rather that the trend."
   ]
  },
  {
   "cell_type": "markdown",
   "metadata": {},
   "source": []
  }
 ],
 "metadata": {
  "kernelspec": {
   "display_name": "venv",
   "language": "python",
   "name": "python3"
  },
  "language_info": {
   "codemirror_mode": {
    "name": "ipython",
    "version": 3
   },
   "file_extension": ".py",
   "mimetype": "text/x-python",
   "name": "python",
   "nbconvert_exporter": "python",
   "pygments_lexer": "ipython3",
   "version": "3.9.7"
  },
  "orig_nbformat": 4
 },
 "nbformat": 4,
 "nbformat_minor": 2
}
