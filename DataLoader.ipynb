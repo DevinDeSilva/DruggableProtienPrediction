{
 "cells": [
  {
   "cell_type": "code",
   "execution_count": 2,
   "metadata": {},
   "outputs": [],
   "source": [
    "import utils.feature_extractors as utils\n",
    "from torch.utils.data import Dataset, DataLoader\n",
    "import pandas as pd\n",
    "import numpy as np"
   ]
  },
  {
   "cell_type": "code",
   "execution_count": 3,
   "metadata": {},
   "outputs": [],
   "source": [
    "class SpiderDataGenerator(object):\n",
    "    ALL_FEAT = [\"AAC\",\"DPC\",\"CTD\",\n",
    "                \"PAAC\",\"APAAC\",\"RSacid\",\n",
    "                \"RSpolar\",\"RSsecond\",\"RScharge\",\n",
    "                \"RSDHP\"]\n",
    "    def __init__(self, pos_data_file, neg_data_file,feat_type=None) -> None:\n",
    "        super(SpiderDataGenerator).__init__()\n",
    "        self.pos_data_file = pos_data_file\n",
    "        self.neg_data_file = neg_data_file\n",
    "        \n",
    "        assert feat_type in SpiderDataGenerator.ALL_FEAT or feat_type == None\n",
    "        \n",
    "        self.feat_type = feat_type\n",
    "        \n",
    "        self.pos_data = utils.read_fasta(self.pos_data_file)\n",
    "        self.neg_data = utils.read_fasta(self.neg_data_file)\n",
    "        \n",
    "        self.data = self.pos_data+self.neg_data\n",
    "        self.targets = [True]*len(self.pos_data)+[False]*len(self.neg_data)\n",
    "        \n",
    "        self.raw = [x[1] for x in self.data]\n",
    "        \n",
    "        self.feat_AAC = utils.AAC(self.data)[0]\n",
    "        print(\"Generating AAC Feature .....\")\n",
    "        self.feat_DPC = utils.DPC(self.data,0)[0]\n",
    "        print(\"Generating DPC Feature .....\")\n",
    "        self.feat_CTD = np.hstack((utils.CTDC(self.data)[0], \n",
    "                              utils.CTDD(self.data)[0], \n",
    "                              utils.CTDT(self.data)[0]))\n",
    "        print(\"Generating CTD Feature .....\")\n",
    "        self.feat_PAAC = utils.PAAC(self.data,1)[0]\n",
    "        print(\"Generating PAAC Feature .....\")\n",
    "        self.feat_APAAC = utils.APAAC(self.data,1)[0]\n",
    "        print(\"Generating APAAC Feature .....\")\n",
    "        self.feat_RSacid = utils.reducedACID(self.data) \n",
    "        print(\"Generating reducedACID Feature .....\")\n",
    "        self.feat_RSpolar = utils.reducedPOLAR(self.data)\n",
    "        print(\"Generating reducedPOLAR Feature .....\")\n",
    "        self.feat_RSsecond = utils.reducedSECOND(self.data)\n",
    "        print(\"Generating reducedSECOND Feature .....\")\n",
    "        self.feat_RScharge = utils.reducedCHARGE(self.data)\n",
    "        print(\"Generating reducedCHARGE Feature .....\")\n",
    "        self.feat_RSDHP = utils.reducedDHP(self.data)\n",
    "        print(\"Generating reducedDHP Feature .....\")\n",
    "        \n",
    "        \n",
    "        \n",
    "    \n",
    "    def get_combination_feature(self,selected:list = None):\n",
    "        assert not len(set(selected) - set(SpiderDataGenerator.ALL_FEAT))\n",
    "        \n",
    "        all_feat =[self.feat_AAC,self.feat_DPC,self.feat_CTD,\n",
    "                   self.feat_PAAC,self.feat_APAAC,self.feat_RSacid,\n",
    "                   self.feat_RSpolar,self.feat_RSsecond,self.feat_RScharge,\n",
    "                   self.feat_RSDHP]\n",
    "        \n",
    "        if selected:\n",
    "            select_index = sorted([SpiderDataGenerator.ALL_FEAT.index(x) for x in selected])\n",
    "            all_feat = [all_feat[x] for x in select_index]\n",
    "            \n",
    "        \n",
    "        return np.stack(all_feat,axis=-1)\n",
    "        \n",
    "        \n",
    "        \n",
    "            \n",
    "    def __len__(self) -> int:\n",
    "        return len(self.data)"
   ]
  },
  {
   "cell_type": "code",
   "execution_count": 4,
   "metadata": {},
   "outputs": [
    {
     "name": "stdout",
     "output_type": "stream",
     "text": [
      "Generating AAC Feature .....\n",
      "Generating DPC Feature .....\n",
      "Generating CTD Feature .....\n",
      "Generating PAAC Feature .....\n",
      "Generating APAAC Feature .....\n",
      "Generating reducedACID Feature .....\n",
      "Generating reducedPOLAR Feature .....\n",
      "Generating reducedSECOND Feature .....\n",
      "Generating reducedCHARGE Feature .....\n",
      "Generating reducedDHP Feature .....\n"
     ]
    }
   ],
   "source": [
    "train_data = SpiderDataGenerator(pos_data_file=\"data/TR_pos_SPIDER.txt\",neg_data_file=\"data/TR_neg_SPIDER.txt\")"
   ]
  },
  {
   "cell_type": "code",
   "execution_count": 7,
   "metadata": {},
   "outputs": [
    {
     "data": {
      "text/plain": [
       "2542"
      ]
     },
     "execution_count": 7,
     "metadata": {},
     "output_type": "execute_result"
    }
   ],
   "source": [
    "len(train_data)"
   ]
  },
  {
   "cell_type": "code",
   "execution_count": null,
   "metadata": {},
   "outputs": [],
   "source": []
  },
  {
   "cell_type": "code",
   "execution_count": null,
   "metadata": {},
   "outputs": [],
   "source": []
  }
 ],
 "metadata": {
  "kernelspec": {
   "display_name": "venv",
   "language": "python",
   "name": "python3"
  },
  "language_info": {
   "codemirror_mode": {
    "name": "ipython",
    "version": 3
   },
   "file_extension": ".py",
   "mimetype": "text/x-python",
   "name": "python",
   "nbconvert_exporter": "python",
   "pygments_lexer": "ipython3",
   "version": "3.9.7"
  },
  "orig_nbformat": 4
 },
 "nbformat": 4,
 "nbformat_minor": 2
}
