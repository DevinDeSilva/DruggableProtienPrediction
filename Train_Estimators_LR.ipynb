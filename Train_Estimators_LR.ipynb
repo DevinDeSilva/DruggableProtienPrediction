{
 "cells": [
  {
   "cell_type": "code",
   "execution_count": 1,
   "metadata": {},
   "outputs": [],
   "source": [
    "import utils.feature_extractors as utils\n",
    "from utils.evaluation import action_evaluator\n",
    "import numpy as np\n",
    "import os\n",
    "from sklearn.pipeline import make_pipeline\n",
    "from sklearn.utils import shuffle\n",
    "from sklearn.preprocessing import StandardScaler\n",
    "from sklearn.linear_model import RidgeClassifier\n",
    "from sklearn.decomposition import PCA\n",
    "from sklearn.model_selection import cross_val_predict\n",
    "import joblib"
   ]
  },
  {
   "cell_type": "code",
   "execution_count": 2,
   "metadata": {},
   "outputs": [],
   "source": [
    "config = {\n",
    "    \"model_type\":\"LinearRegression\",\n",
    "    \"train_pos_loc\":\"data/TR_pos_SPIDER.txt\",\n",
    "    \"train_neg_loc\":\"data/TR_neg_SPIDER.txt\",\n",
    "    \"test_pos_loc\":\"data/TS_pos_SPIDER.txt\",\n",
    "    \"test_neg_loc\":\"data/TS_neg_SPIDER.txt\",\n",
    "    \"model_save_loc\":\"model_saves\",\n",
    "    \"random_seed\":9\n",
    "}"
   ]
  },
  {
   "cell_type": "code",
   "execution_count": 3,
   "metadata": {},
   "outputs": [],
   "source": [
    "class SpiderDataGenerator(object):\n",
    "    ALL_FEAT = [\"AAC\",\"DPC\",\"CTD\",\n",
    "                \"PAAC\",\"APAAC\",\"RSacid\",\n",
    "                \"RSpolar\",\"RSsecond\",\"RScharge\",\n",
    "                \"RSDHP\"]\n",
    "    def __init__(self, pos_data_file, neg_data_file,feat_type=None) -> None:\n",
    "        super(SpiderDataGenerator).__init__()\n",
    "        self.pos_data_file = pos_data_file\n",
    "        self.neg_data_file = neg_data_file\n",
    "        \n",
    "        assert feat_type in SpiderDataGenerator.ALL_FEAT or feat_type == None\n",
    "        \n",
    "        self.feat_type = feat_type\n",
    "        \n",
    "        self.pos_data = utils.read_fasta(self.pos_data_file)\n",
    "        self.neg_data = utils.read_fasta(self.neg_data_file)\n",
    "        \n",
    "        self.data = self.pos_data+self.neg_data\n",
    "        self.targets = np.array([True]*len(self.pos_data)+[False]*len(self.neg_data))\n",
    "        \n",
    "        self.raw = [x[1] for x in self.data]\n",
    "        \n",
    "        self.feat_AAC = utils.AAC(self.data)[0]\n",
    "        print(\"Generating AAC Feature .....\")\n",
    "        self.feat_DPC = utils.DPC(self.data,0)[0]\n",
    "        print(\"Generating DPC Feature .....\")\n",
    "        self.feat_CTD = np.hstack((utils.CTDC(self.data)[0], \n",
    "                              utils.CTDD(self.data)[0], \n",
    "                              utils.CTDT(self.data)[0]))\n",
    "        print(\"Generating CTD Feature .....\")\n",
    "        self.feat_PAAC = utils.PAAC(self.data,1)[0]\n",
    "        print(\"Generating PAAC Feature .....\")\n",
    "        self.feat_APAAC = utils.APAAC(self.data,1)[0]\n",
    "        print(\"Generating APAAC Feature .....\")\n",
    "        self.feat_RSacid = utils.reducedACID(self.data) \n",
    "        print(\"Generating reducedACID Feature .....\")\n",
    "        self.feat_RSpolar = utils.reducedPOLAR(self.data)\n",
    "        print(\"Generating reducedPOLAR Feature .....\")\n",
    "        self.feat_RSsecond = utils.reducedSECOND(self.data)\n",
    "        print(\"Generating reducedSECOND Feature .....\")\n",
    "        self.feat_RScharge = utils.reducedCHARGE(self.data)\n",
    "        print(\"Generating reducedCHARGE Feature .....\")\n",
    "        self.feat_RSDHP = utils.reducedDHP(self.data)\n",
    "        print(\"Generating reducedDHP Feature .....\")\n",
    "        \n",
    "        \n",
    "        \n",
    "    \n",
    "    def get_combination_feature(self,selected:list = None):\n",
    "        \n",
    "        all_feat =[self.feat_AAC,self.feat_DPC,self.feat_CTD,\n",
    "                   self.feat_PAAC,self.feat_APAAC,self.feat_RSacid,\n",
    "                   self.feat_RSpolar,self.feat_RSsecond,self.feat_RScharge,\n",
    "                   self.feat_RSDHP]\n",
    "        \n",
    "        if selected:\n",
    "            select_index = sorted([SpiderDataGenerator.ALL_FEAT.index(x) for x in selected])\n",
    "            all_feat = [all_feat[x] for x in select_index]\n",
    "            \n",
    "        return np.concatenate(all_feat,axis=-1)\n",
    "        \n",
    "        \n",
    "        \n",
    "            \n",
    "    def __len__(self) -> int:\n",
    "        return len(self.data)"
   ]
  },
  {
   "cell_type": "code",
   "execution_count": 4,
   "metadata": {},
   "outputs": [
    {
     "name": "stdout",
     "output_type": "stream",
     "text": [
      "Generating AAC Feature .....\n",
      "Generating DPC Feature .....\n",
      "Generating CTD Feature .....\n",
      "Generating PAAC Feature .....\n",
      "Generating APAAC Feature .....\n",
      "Generating reducedACID Feature .....\n",
      "Generating reducedPOLAR Feature .....\n",
      "Generating reducedSECOND Feature .....\n",
      "Generating reducedCHARGE Feature .....\n",
      "Generating reducedDHP Feature .....\n"
     ]
    }
   ],
   "source": [
    "train_data = SpiderDataGenerator(pos_data_file=config[\"train_pos_loc\"],neg_data_file=config[\"train_neg_loc\"])"
   ]
  },
  {
   "cell_type": "code",
   "execution_count": 5,
   "metadata": {},
   "outputs": [],
   "source": [
    "X_data = {\n",
    "    \"AAC\":train_data.feat_AAC,\n",
    "    \"DPC\":train_data.feat_DPC,\n",
    "    \"CTD\":train_data.feat_CTD,\n",
    "    \"PAAC\":train_data.feat_PAAC,\n",
    "    \"APAAC\":train_data.feat_APAAC,\n",
    "    \"RSacid\":train_data.feat_RSacid,\n",
    "    \"RSpolar\":train_data.feat_RSpolar,\n",
    "    \"RSsecond\":train_data.feat_RSsecond,\n",
    "    \"RScharge\":train_data.feat_RScharge,\n",
    "    \"RSDHP\":train_data.feat_RSDHP,\n",
    "    \"Combine\":train_data.get_combination_feature(),\n",
    "}\n",
    "data_pipelines = {\n",
    "    \"AAC\":make_pipeline(StandardScaler()),\n",
    "    \"DPC\":make_pipeline(StandardScaler()),\n",
    "    \"CTD\":make_pipeline(StandardScaler()),\n",
    "    \"PAAC\":make_pipeline(StandardScaler()),\n",
    "    \"APAAC\":make_pipeline(StandardScaler()),\n",
    "    \"RSacid\":make_pipeline(StandardScaler()),\n",
    "    \"RSpolar\":make_pipeline(StandardScaler()),\n",
    "    \"RSsecond\":make_pipeline(StandardScaler()),\n",
    "    \"RScharge\":make_pipeline(StandardScaler()),\n",
    "    \"RSDHP\":make_pipeline(StandardScaler()),\n",
    "    \"Combine\":make_pipeline(StandardScaler()),\n",
    "    }"
   ]
  },
  {
   "cell_type": "code",
   "execution_count": 6,
   "metadata": {},
   "outputs": [
    {
     "name": "stdout",
     "output_type": "stream",
     "text": [
      "Model :- LinearRegression, DataType :- AAC\n"
     ]
    },
    {
     "data": {
      "image/png": "[encoded data removed]",
      "text/plain": [
       "<Figure size 640x480 with 2 Axes>"
      ]
     },
     "metadata": {},
     "output_type": "display_data"
    },
    {
     "name": "stdout",
     "output_type": "stream",
     "text": [
      "Overall accuracy: 0.846\n",
      "\n",
      "                precision     recall   f1-score rel. freq. abs. freq.|\t biggest thieves\n",
      "\n",
      "Not Druggable       0.873      0.822      0.847      0.519       1319|\t Druggable: 0.178,\t\n",
      "    Druggable       0.819      0.872      0.845      0.481       1223|\t Not Druggable: 0.128,\t\n",
      "\n",
      "----------------------------------------------------------------------------------------------------\n",
      "  avg / total       0.847      0.846      0.846        1.0       2542|\t      \n",
      "\n",
      "[0.82183472 0.87162715]\n",
      "{'accuracy': 0.8457907159716759, 'precision': 0.8464294186397249, 'recall': 0.8467309348183074, 'f1': 0.8457829833597463, 'sensitivity': 0.8716271463614064, 'specificity': 0.8218347232752085}\n",
      "\n",
      "\n",
      "\n"
     ]
    }
   ],
   "source": [
    "for feat_type in X_data.keys():\n",
    "    print(f\"Model :- {config['model_type']}, DataType :- {feat_type}\")\n",
    "    \n",
    "    os.makedirs(os.path.join(config[\"model_save_loc\"],f\"{config['model_type']}_{feat_type}\"),exist_ok=True)\n",
    "    model_dir = os.path.join(config[\"model_save_loc\"],f\"{config['model_type']}_{feat_type}\")\n",
    "    \n",
    "    X,y = X_data[feat_type],train_data.targets\n",
    "    X,y = shuffle(X,y,random_state=config[\"random_seed\"])\n",
    "    X = data_pipelines[feat_type].fit_transform(X,y)\n",
    "    \n",
    "    clf = RidgeClassifier()\n",
    "    y_pred = cross_val_predict(clf, X, y, cv=5)\n",
    "    \n",
    "    result_values = action_evaluator(y_pred,y,class_names=[\"Not Druggable\",\"Druggable\"],save_outputs=model_dir)\n",
    "    \n",
    "    clf.fit(X,y)\n",
    "    \n",
    "    print(result_values)\n",
    "    joblib.dump(data_pipelines[feat_type], os.path.join(model_dir,\"pipeline.sav\"))\n",
    "    joblib.dump(clf, os.path.join(model_dir,\"model_save.sav\"))\n",
    "    print(\"\\n\\n\")\n",
    "    break"
   ]
  },
  {
   "cell_type": "code",
   "execution_count": null,
   "metadata": {},
   "outputs": [],
   "source": []
  },
  {
   "cell_type": "code",
   "execution_count": null,
   "metadata": {},
   "outputs": [],
   "source": []
  }
 ],
 "metadata": {
  "kernelspec": {
   "display_name": "venv",
   "language": "python",
   "name": "python3"
  },
  "language_info": {
   "codemirror_mode": {
    "name": "ipython",
    "version": 3
   },
   "file_extension": ".py",
   "mimetype": "text/x-python",
   "name": "python",
   "nbconvert_exporter": "python",
   "pygments_lexer": "ipython3",
   "version": "3.9.7"
  },
  "orig_nbformat": 4
 },
 "nbformat": 4,
 "nbformat_minor": 2
}
